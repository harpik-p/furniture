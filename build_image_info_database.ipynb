{
 "cells": [
  {
   "cell_type": "code",
   "execution_count": 8,
   "metadata": {
    "collapsed": true
   },
   "outputs": [],
   "source": [
    "import os.path\n",
    "import numpy as np\n",
    "import pandas as pd\n",
    "import matplotlib.pyplot as plt\n",
    "import time\n",
    "import cPickle as pickle\n",
    "% matplotlib inline"
   ]
  },
  {
   "cell_type": "code",
   "execution_count": 2,
   "metadata": {
    "collapsed": false
   },
   "outputs": [],
   "source": [
    "from image_processing import get_paths\n",
    "from image_processing import get_domi_color, vectorize_color_distribution, clustering_with_color\n",
    "from image_processing import image_featurizer, clustering_with_feature"
   ]
  },
  {
   "cell_type": "code",
   "execution_count": 8,
   "metadata": {
    "collapsed": false
   },
   "outputs": [
    {
     "data": {
      "text/plain": [
       "['bed',\n",
       " 'bookcase',\n",
       " 'coffee_table',\n",
       " 'desk',\n",
       " 'dining_chair',\n",
       " 'dining_table',\n",
       " 'dresser',\n",
       " 'nightstand',\n",
       " 'office_chair',\n",
       " 'sofa_all',\n",
       " 'sofa_clustering_results']"
      ]
     },
     "execution_count": 8,
     "metadata": {},
     "output_type": "execute_result"
    }
   ],
   "source": [
    "get_paths('', image=False)"
   ]
  },
  {
   "cell_type": "markdown",
   "metadata": {},
   "source": [
    "## Create a new image table in the database:\n",
    "\n",
    "- index = image path(filename)\n",
    "- white background or not (bolean)\n",
    "- one dominant color\n",
    "- domi_color cluster label\n",
    "- domi_color cluster centroid\n",
    "- color distrubution\n",
    "- color_dist cluster label\n",
    "- color_dist cluster centroid"
   ]
  },
  {
   "cell_type": "markdown",
   "metadata": {},
   "source": [
    "# Sofa"
   ]
  },
  {
   "cell_type": "code",
   "execution_count": 17,
   "metadata": {
    "collapsed": false
   },
   "outputs": [
    {
     "data": {
      "text/plain": [
       "3763"
      ]
     },
     "execution_count": 17,
     "metadata": {},
     "output_type": "execute_result"
    }
   ],
   "source": [
    "category = 'sofa'\n",
    "paths = get_paths(category)\n",
    "len(paths)"
   ]
  },
  {
   "cell_type": "code",
   "execution_count": null,
   "metadata": {
    "collapsed": false
   },
   "outputs": [],
   "source": [
    "start_time =  time.time()\n",
    "print start_time\n",
    "\n",
    "# Color:\n",
    "domi_color_dict = get_domi_color(paths, category)\n",
    "time_1 =  time.time()\n",
    "print 'get_domi_color: ', time_1 - start_time"
   ]
  },
  {
   "cell_type": "markdown",
   "metadata": {},
   "source": [
    "Result from the cell above:\n",
    "1443406617.49\n",
    "gray\n",
    "gray\n",
    "gray\n",
    "gray\n",
    "gray\n",
    "gray\n",
    "get_domi_color:  4405.63884187 (I think the computer went to sleep.....)"
   ]
  },
  {
   "cell_type": "code",
   "execution_count": 25,
   "metadata": {
    "collapsed": false
   },
   "outputs": [
    {
     "data": {
      "text/plain": [
       "1858"
      ]
     },
     "execution_count": 25,
     "metadata": {},
     "output_type": "execute_result"
    }
   ],
   "source": [
    "paths = get_paths(category, white=True)\n",
    "len(paths)"
   ]
  },
  {
   "cell_type": "code",
   "execution_count": 26,
   "metadata": {
    "collapsed": false,
    "scrolled": true
   },
   "outputs": [
    {
     "name": "stdout",
     "output_type": "stream",
     "text": [
      "vectorize_color_distribution:  1939.64887285\n"
     ]
    }
   ],
   "source": [
    "time_1 = time.time()\n",
    "color_dist_dict = vectorize_color_distribution(paths, category)\n",
    "time_2 = time.time()\n",
    "print 'vectorize_color_distribution: ', time_2 - time_1"
   ]
  },
  {
   "cell_type": "code",
   "execution_count": 35,
   "metadata": {
    "collapsed": false
   },
   "outputs": [],
   "source": [
    "domi_color_dict_no_false = {}\n",
    "for i in domi_color_dict:\n",
    "    if type(domi_color_dict[i]) != bool:\n",
    "        domi_color_dict_no_false[i] = domi_color_dict[i]"
   ]
  },
  {
   "cell_type": "code",
   "execution_count": 37,
   "metadata": {
    "collapsed": false
   },
   "outputs": [
    {
     "name": "stdout",
     "output_type": "stream",
     "text": [
      "clustering_with_color (domi):  51.2427370548\n",
      "clustering_with_feature (dist):  52.8415369987\n"
     ]
    }
   ],
   "source": [
    "time_2 = time.time()\n",
    "cluster_label_dict_domi, color_domi_centroids = clustering_with_color(domi_color_dict_no_false, category, domi_color=True)\n",
    "time_3 =  time.time()\n",
    "print 'clustering_with_color (domi): ', time_3 - time_2\n",
    "\n",
    "cluster_label_dict_dist, color_dist_centroids = clustering_with_color(color_dist_dict, category, domi_color=False)\n",
    "time_4 =  time.time()\n",
    "print 'clustering_with_color (dist): ', time_4 - time_3"
   ]
  },
  {
   "cell_type": "markdown",
   "metadata": {},
   "source": [
    "# domi_color clustering works better than color_dist (on sofa)!"
   ]
  },
  {
   "cell_type": "code",
   "execution_count": 39,
   "metadata": {
    "collapsed": false
   },
   "outputs": [
    {
     "name": "stdout",
     "output_type": "stream",
     "text": [
      "image_featurizer:  125.657418013\n",
      "clustering_with_feature:  138.967031002\n"
     ]
    }
   ],
   "source": [
    "# Features:\n",
    "feature_dict = image_featurizer(category, edge=False, svd=False)\n",
    "time_5 =  time.time()\n",
    "print 'image_featurizer: ', time_5 - time_4\n",
    "\n",
    "cluster_label_dict_feature, feature_centroids = clustering_with_feature(feature_dict, category, \n",
    "                                                                svd=False, save_image=True, edge=False)\n",
    "time_6 =  time.time()\n",
    "print 'clustering_with_feature: ', time_6 - time_5"
   ]
  },
  {
   "cell_type": "code",
   "execution_count": 40,
   "metadata": {
    "collapsed": false
   },
   "outputs": [
    {
     "name": "stdout",
     "output_type": "stream",
     "text": [
      "image_featurizer (edge):  36.3625459671\n",
      "clustering_with_feature (edge):  113.339905024\n"
     ]
    }
   ],
   "source": [
    "# Edged Features:\n",
    "feature_dict_edge = image_featurizer(category, edge=True, svd=False)\n",
    "time_7 =  time.time()\n",
    "print 'image_featurizer (edge): ', time_7 - time_6\n",
    "\n",
    "cluster_label_dict_edge, feature_centroids_edge = clustering_with_feature(feature_dict_edge, category, \n",
    "                                                                svd=False, save_image=True, edge=True)\n",
    "time_8 =  time.time()\n",
    "print 'clustering_with_feature (edge): ', time_8 - time_7"
   ]
  },
  {
   "cell_type": "code",
   "execution_count": 42,
   "metadata": {
    "collapsed": false
   },
   "outputs": [
    {
     "name": "stdout",
     "output_type": "stream",
     "text": [
      "image_featurizer (svd):  448.625341892\n",
      "clustering_with_feature (svd):  43.4509789944\n"
     ]
    }
   ],
   "source": [
    "# SVDed Features:\n",
    "time_8 =  time.time()\n",
    "feature_dict_svd = image_featurizer(category, edge=False, SVD=True)\n",
    "time_9 =  time.time()\n",
    "print 'image_featurizer (svd): ', time_9 - time_8\n",
    "\n",
    "cluster_label_dict_svd, feature_centroids_svd = clustering_with_feature(feature_dict_svd, category, \n",
    "                                                                SVD=True, save_image=True, edge=False)\n",
    "time_10 =  time.time()\n",
    "print 'clustering_with_feature (svd): ', time_10 - time_9"
   ]
  },
  {
   "cell_type": "markdown",
   "metadata": {},
   "source": [
    "# Run on all 11175 sofa images (sofa + sofa_bed + futon + loveseat)"
   ]
  },
  {
   "cell_type": "code",
   "execution_count": 9,
   "metadata": {
    "collapsed": false
   },
   "outputs": [
    {
     "data": {
      "text/plain": [
       "11175"
      ]
     },
     "execution_count": 9,
     "metadata": {},
     "output_type": "execute_result"
    }
   ],
   "source": [
    "category = 'sofa_all'\n",
    "paths = get_paths(category)\n",
    "len(paths)"
   ]
  },
  {
   "cell_type": "code",
   "execution_count": 10,
   "metadata": {
    "collapsed": false,
    "scrolled": true
   },
   "outputs": [
    {
     "name": "stdout",
     "output_type": "stream",
     "text": [
      "1443504378.28\n",
      "gray\n",
      "gray\n",
      "gray\n",
      "gray\n",
      "gray\n",
      "gray\n",
      "gray\n",
      "gray\n",
      "gray\n",
      "gray\n",
      "gray\n",
      "gray\n",
      "gray\n",
      "gray\n",
      "gray\n",
      "gray\n",
      "gray\n",
      "gray\n",
      "gray\n",
      "gray\n",
      "gray\n",
      "gray\n",
      "gray\n",
      "gray\n",
      "gray\n",
      "gray\n",
      "gray\n",
      "gray\n",
      "gray\n",
      "gray\n",
      "gray\n",
      "gray\n",
      "gray\n",
      "gray\n",
      "gray\n",
      "gray\n",
      "gray\n",
      "gray\n",
      "gray\n",
      "gray\n",
      "gray\n",
      "gray\n",
      "gray\n",
      "gray\n",
      "gray\n",
      "gray\n",
      "gray\n",
      "gray\n",
      "gray\n",
      "gray\n",
      "gray\n",
      "gray\n",
      "gray\n",
      "gray\n",
      "gray\n",
      "gray\n",
      "gray\n",
      "gray\n",
      "gray\n",
      "get_domi_color:  4237.45315313\n"
     ]
    },
    {
     "name": "stderr",
     "output_type": "stream",
     "text": [
      "//anaconda/lib/python2.7/site-packages/skimage/util/dtype.py:111: UserWarning: Possible precision loss when converting from float64 to uint8\n",
      "  \"%s to %s\" % (dtypeobj_in, dtypeobj))\n"
     ]
    }
   ],
   "source": [
    "start_time =  time.time()\n",
    "print start_time\n",
    "\n",
    "# Color:\n",
    "domi_color_dict = get_domi_color(paths, category)\n",
    "time_1 =  time.time()\n",
    "print 'get_domi_color: ', time_1 - start_time"
   ]
  },
  {
   "cell_type": "code",
   "execution_count": 11,
   "metadata": {
    "collapsed": false
   },
   "outputs": [
    {
     "data": {
      "text/plain": [
       "4659"
      ]
     },
     "execution_count": 11,
     "metadata": {},
     "output_type": "execute_result"
    }
   ],
   "source": [
    "paths = get_paths(category, white=True)\n",
    "len(paths)"
   ]
  },
  {
   "cell_type": "code",
   "execution_count": 12,
   "metadata": {
    "collapsed": false
   },
   "outputs": [
    {
     "name": "stdout",
     "output_type": "stream",
     "text": [
      "vectorize_color_distribution:  4311.78670192\n"
     ]
    }
   ],
   "source": [
    "time_1 = time.time()\n",
    "color_dist_dict = vectorize_color_distribution(paths, category)\n",
    "time_2 = time.time()\n",
    "print 'vectorize_color_distribution: ', time_2 - time_1"
   ]
  },
  {
   "cell_type": "code",
   "execution_count": 13,
   "metadata": {
    "collapsed": true
   },
   "outputs": [],
   "source": [
    "domi_color_dict_no_false = {}\n",
    "for i in domi_color_dict:\n",
    "    if type(domi_color_dict[i]) != bool:\n",
    "        domi_color_dict_no_false[i] = domi_color_dict[i]"
   ]
  },
  {
   "cell_type": "code",
   "execution_count": 14,
   "metadata": {
    "collapsed": false
   },
   "outputs": [
    {
     "name": "stdout",
     "output_type": "stream",
     "text": [
      "clustering_with_color (domi):  120.655131102\n",
      "clustering_with_color (dist):  122.483716965\n"
     ]
    }
   ],
   "source": [
    "time_2 = time.time()\n",
    "cluster_label_dict_domi, color_domi_centroids = clustering_with_color(domi_color_dict_no_false, category, domi_color=True)\n",
    "time_3 =  time.time()\n",
    "print 'clustering_with_color (domi): ', time_3 - time_2\n",
    "\n",
    "cluster_label_dict_dist, color_dist_centroids = clustering_with_color(color_dist_dict, category, domi_color=False)\n",
    "time_4 =  time.time()\n",
    "print 'clustering_with_color (dist): ', time_4 - time_3"
   ]
  },
  {
   "cell_type": "code",
   "execution_count": 17,
   "metadata": {
    "collapsed": false
   },
   "outputs": [
    {
     "name": "stdout",
     "output_type": "stream",
     "text": [
      "image_featurizer:  62.9440801144\n",
      "clustering_with_feature:  284.190518856\n",
      "image_featurizer (edge):  816.846856117\n",
      "clustering_with_feature (edge):  228.436863899\n",
      "image_featurizer (svd):  1318.41898584\n",
      "clustering_with_feature (svd):  113.430192947\n"
     ]
    }
   ],
   "source": [
    "# Features:\n",
    "time_4 =  time.time()\n",
    "feature_dict = image_featurizer(category, edge=False, SVD=False)\n",
    "time_5 =  time.time()\n",
    "print 'image_featurizer: ', time_5 - time_4\n",
    "\n",
    "cluster_label_dict_feature, feature_centroids = clustering_with_feature(feature_dict, category, \n",
    "                                                                SVD=False, save_image=True, edge=False)\n",
    "time_6 =  time.time()\n",
    "print 'clustering_with_feature: ', time_6 - time_5\n",
    "\n",
    "# Edged Features:\n",
    "feature_dict_edge = image_featurizer(category, edge=True, SVD=False)\n",
    "time_7 =  time.time()\n",
    "print 'image_featurizer (edge): ', time_7 - time_6\n",
    "\n",
    "cluster_label_dict_edge, feature_centroids_edge = clustering_with_feature(feature_dict_edge, category, \n",
    "                                                                SVD=False, save_image=True, edge=True)\n",
    "time_8 =  time.time()\n",
    "print 'clustering_with_feature (edge): ', time_8 - time_7\n",
    "\n",
    "# SVDed Features:\n",
    "time_8 =  time.time()\n",
    "feature_dict_svd, U, sigma, VT = image_featurizer(category, edge=False, SVD=True)\n",
    "time_9 =  time.time()\n",
    "print 'image_featurizer (svd): ', time_9 - time_8\n",
    "\n",
    "cluster_label_dict_svd, feature_centroids_svd = clustering_with_feature(feature_dict_svd, category, \n",
    "                                                                SVD=True, save_image=True, edge=False)\n",
    "time_10 =  time.time()\n",
    "print 'clustering_with_feature (svd): ', time_10 - time_9"
   ]
  },
  {
   "cell_type": "markdown",
   "metadata": {},
   "source": [
    "# Kernal down - start over:"
   ]
  },
  {
   "cell_type": "code",
   "execution_count": 5,
   "metadata": {
    "collapsed": false
   },
   "outputs": [
    {
     "name": "stdout",
     "output_type": "stream",
     "text": [
      "# of grayscaled photos:  0\n",
      "get_domi_color:  4531.230968\n",
      "vectorize_color_distribution:  4572.42682314\n"
     ]
    }
   ],
   "source": [
    "category = 'sofa_all'\n",
    "paths = get_paths(category)\n",
    "len(paths)\n",
    "\n",
    "start_time =  time.time()\n",
    "# Color:\n",
    "domi_color_dict = get_domi_color(paths, category)\n",
    "time_1 =  time.time()\n",
    "print 'get_domi_color: ', time_1 - start_time\n",
    "\n",
    "paths = get_paths(category, white=True)\n",
    "len(paths)\n",
    "\n",
    "\n",
    "color_dist_dict = vectorize_color_distribution(paths, category)\n",
    "time_2 = time.time()\n",
    "print 'vectorize_color_distribution: ', time_2 - time_1\n",
    "\n",
    "\n",
    "domi_color_dict_no_false = {}\n",
    "for i in domi_color_dict:\n",
    "    if type(domi_color_dict[i]) != bool:\n",
    "        domi_color_dict_no_false[i] = domi_color_dict[i]"
   ]
  },
  {
   "cell_type": "code",
   "execution_count": 6,
   "metadata": {
    "collapsed": false
   },
   "outputs": [
    {
     "name": "stdout",
     "output_type": "stream",
     "text": [
      "clustering_with_color (domi):  124.462813854\n",
      "clustering_with_color (dist):  111.564160109\n",
      "image_featurizer:  63.1175310612\n",
      "clustering_with_feature:  172.232182026\n",
      "image_featurizer (svd):  739.55894804\n",
      "clustering_with_feature (svd):  1.91493701935\n"
     ]
    }
   ],
   "source": [
    "time_2 =  time.time()\n",
    "cluster_label_dict_domi, color_domi_centroids = clustering_with_color(domi_color_dict_no_false, category, \n",
    "                                                                      n_clusters=10, domi_color=True)\n",
    "time_3 =  time.time()\n",
    "print 'clustering_with_color (domi): ', time_3 - time_2\n",
    "\n",
    "cluster_label_dict_dist, color_dist_centroids = clustering_with_color(color_dist_dict, category, \n",
    "                                                                      n_clusters=10, domi_color=False)\n",
    "time_4 =  time.time()\n",
    "print 'clustering_with_color (dist): ', time_4 - time_3\n",
    "\n",
    "\n",
    "# Features:\n",
    "time_4 =  time.time()\n",
    "feature_dict, features = image_featurizer(category, edge=False, SVD=False)\n",
    "time_5 =  time.time()\n",
    "print 'image_featurizer: ', time_5 - time_4\n",
    "\n",
    "cluster_label_dict_feature, feature_centroids = clustering_with_feature(feature_dict, category, n_clusters=10, \n",
    "                                                                SVD=False, save_image=False, edge=False)\n",
    "time_6 =  time.time()\n",
    "print 'clustering_with_feature: ', time_6 - time_5\n",
    "\n",
    "\n",
    "# SVDed Features:\n",
    "time_8 =  time.time()\n",
    "feature_dict_svd, U, sigma, VT = image_featurizer(category, edge=False, SVD=True)\n",
    "time_9 =  time.time()\n",
    "print 'image_featurizer (svd): ', time_9 - time_8\n",
    "\n",
    "cluster_label_dict_svd, feature_centroids_svd = clustering_with_feature(feature_dict_svd, category, n_clusters=10, \n",
    "                                                                SVD=True, save_image=False, edge=False)\n",
    "time_10 =  time.time()\n",
    "print 'clustering_with_feature (svd): ', time_10 - time_9"
   ]
  },
  {
   "cell_type": "code",
   "execution_count": 9,
   "metadata": {
    "collapsed": false
   },
   "outputs": [],
   "source": [
    "# pickled:\n",
    "# domi_color_dict\n",
    "# color_dist_dict\n",
    "# features, U, sigma, VT\n",
    "\n",
    "#--------------------------------\n",
    "\n",
    "# domi_color_dict_no_false\n",
    "# cluster_label_dict_domi\n",
    "# color_domi_centroids\n",
    "\n",
    "# cluster_label_dict_dist\n",
    "# color_dist_centroids\n",
    "\n",
    "# feature_dict\n",
    "# cluster_label_dict_feature\n",
    "# feature_centroids\n",
    "\n",
    "# feature_dict_svd\n",
    "# cluster_label_dict_svd\n",
    "# feature_centroids_svd\n",
    "\n",
    "with open('wayfair/pickle/sofa_domi_color_dict.pkl', 'w') as f:\n",
    "    pickle.dump(domi_color_dict, f)\n",
    "with open('wayfair/pickle/sofa_color_dist_dict.pkl', 'w') as f:\n",
    "    pickle.dump(color_dist_dict, f)"
   ]
  },
  {
   "cell_type": "code",
   "execution_count": null,
   "metadata": {
    "collapsed": true
   },
   "outputs": [],
   "source": [
    "with open('wayfair/pickle/sofa_features.pkl', 'w') as f:\n",
    "    pickle.dump(features, f)\n",
    "with open('wayfair/pickle/sofa_U.pkl', 'w') as f:\n",
    "    pickle.dump(U, f)\n",
    "with open('wayfair/pickle/sofa_sigma.pkl', 'w') as f:\n",
    "    pickle.dump(sigma, f)\n",
    "with open('wayfair/pickle/sofa_VT.pkl', 'w') as f:\n",
    "    pickle.dump(VT, f)"
   ]
  },
  {
   "cell_type": "code",
   "execution_count": null,
   "metadata": {
    "collapsed": true
   },
   "outputs": [],
   "source": [
    "with open('wayfair/pickle/sofa_domi_color_dict.pkl') as f:\n",
    "    domi_color_dict = pickle.load(f)\n"
   ]
  },
  {
   "cell_type": "code",
   "execution_count": 21,
   "metadata": {
    "collapsed": false
   },
   "outputs": [
    {
     "data": {
      "text/plain": [
       "((4659, 4659), (4659,), (22500, 22500), (4659, 22500))"
      ]
     },
     "execution_count": 21,
     "metadata": {},
     "output_type": "execute_result"
    }
   ],
   "source": [
    "U.shape, sigma.shape, VT.shape, features.shape"
   ]
  },
  {
   "cell_type": "code",
   "execution_count": 13,
   "metadata": {
    "collapsed": true
   },
   "outputs": [],
   "source": [
    "sigma_matrix = np.diag(sigma[:20])"
   ]
  },
  {
   "cell_type": "code",
   "execution_count": 15,
   "metadata": {
    "collapsed": false
   },
   "outputs": [],
   "source": [
    "sigma_inv = np.linalg.inv(sigma_matrix)\n",
    "VT_inv = np.linalg.inv(VT)"
   ]
  },
  {
   "cell_type": "code",
   "execution_count": 16,
   "metadata": {
    "collapsed": false
   },
   "outputs": [
    {
     "ename": "ValueError",
     "evalue": "shapes (4659,22500) and (4659,4659) not aligned: 22500 (dim 1) != 4659 (dim 0)",
     "output_type": "error",
     "traceback": [
      "\u001b[0;31m---------------------------------------------------------------------------\u001b[0m",
      "\u001b[0;31mValueError\u001b[0m                                Traceback (most recent call last)",
      "\u001b[0;32m<ipython-input-16-8816f30deb0b>\u001b[0m in \u001b[0;36m<module>\u001b[0;34m()\u001b[0m\n\u001b[0;32m----> 1\u001b[0;31m \u001b[0mtest_matrix\u001b[0m \u001b[0;34m=\u001b[0m \u001b[0mnp\u001b[0m\u001b[0;34m.\u001b[0m\u001b[0mdot\u001b[0m\u001b[0;34m(\u001b[0m\u001b[0mnp\u001b[0m\u001b[0;34m.\u001b[0m\u001b[0mdot\u001b[0m\u001b[0;34m(\u001b[0m\u001b[0mfeatures\u001b[0m\u001b[0;34m,\u001b[0m \u001b[0mVT_inv\u001b[0m\u001b[0;34m)\u001b[0m\u001b[0;34m,\u001b[0m \u001b[0msigma_inv\u001b[0m\u001b[0;34m)\u001b[0m\u001b[0;34m\u001b[0m\u001b[0m\n\u001b[0m",
      "\u001b[0;31mValueError\u001b[0m: shapes (4659,22500) and (4659,4659) not aligned: 22500 (dim 1) != 4659 (dim 0)"
     ]
    }
   ],
   "source": [
    "test_matrix = np.dot(np.dot(features, VT_inv), sigma_inv)"
   ]
  },
  {
   "cell_type": "code",
   "execution_count": null,
   "metadata": {
    "collapsed": true
   },
   "outputs": [],
   "source": [
    "np.allclose(test_matrix, U)"
   ]
  },
  {
   "cell_type": "code",
   "execution_count": 11,
   "metadata": {
    "collapsed": false
   },
   "outputs": [
    {
     "data": {
      "text/plain": [
       "[<matplotlib.lines.Line2D at 0x10afda510>]"
      ]
     },
     "execution_count": 11,
     "metadata": {},
     "output_type": "execute_result"
    },
    {
     "data": {
      "image/png": "[encoded data removed]",
      "text/plain": [
       "<matplotlib.figure.Figure at 0x10d6dd750>"
      ]
     },
     "metadata": {},
     "output_type": "display_data"
    }
   ],
   "source": [
    "k = 20\n",
    "plt.plot(range(1, k+1), np.cumsum(sigma[:k]**2) / np.sum(sigma**2))"
   ]
  },
  {
   "cell_type": "code",
   "execution_count": null,
   "metadata": {
    "collapsed": true
   },
   "outputs": [],
   "source": []
  },
  {
   "cell_type": "markdown",
   "metadata": {},
   "source": [
    "# To do: \n",
    "## put color data info a dataframe -> save as json!!\n",
    "* check & compare feature clustering results (general, edge & svd)\n",
    "* do edge&svd ?"
   ]
  },
  {
   "cell_type": "code",
   "execution_count": null,
   "metadata": {
    "collapsed": true
   },
   "outputs": [],
   "source": []
  }
 ],
 "metadata": {
  "kernelspec": {
   "display_name": "Python 2",
   "language": "python",
   "name": "python2"
  },
  "language_info": {
   "codemirror_mode": {
    "name": "ipython",
    "version": 2
   },
   "file_extension": ".py",
   "mimetype": "text/x-python",
   "name": "python",
   "nbconvert_exporter": "python",
   "pygments_lexer": "ipython2",
   "version": "2.7.10"
  }
 },
 "nbformat": 4,
 "nbformat_minor": 0
}
