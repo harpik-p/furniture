{
 "cells": [
  {
   "cell_type": "code",
   "execution_count": 3,
   "metadata": {
    "collapsed": true
   },
   "outputs": [],
   "source": [
    "import os.path\n",
    "import numpy as np\n",
    "import pandas as pd\n",
    "import matplotlib.pyplot as plt\n",
    "import time\n",
    "import cPickle as pickle\n",
    "% matplotlib inline"
   ]
  },
  {
   "cell_type": "code",
   "execution_count": 4,
   "metadata": {
    "collapsed": false
   },
   "outputs": [],
   "source": [
    "from image_processing import get_paths\n",
    "from image_processing import get_domi_color, vectorize_color_distribution, clustering_with_color\n",
    "from image_processing import image_featurizer, clustering_with_feature"
   ]
  },
  {
   "cell_type": "code",
   "execution_count": 8,
   "metadata": {
    "collapsed": false
   },
   "outputs": [
    {
     "data": {
      "text/plain": [
       "['bed',\n",
       " 'bookcase',\n",
       " 'coffee_table',\n",
       " 'desk',\n",
       " 'dining_chair',\n",
       " 'dining_table',\n",
       " 'dresser',\n",
       " 'nightstand',\n",
       " 'office_chair',\n",
       " 'sofa_all',\n",
       " 'sofa_clustering_results']"
      ]
     },
     "execution_count": 8,
     "metadata": {},
     "output_type": "execute_result"
    }
   ],
   "source": [
    "get_paths('', image=False)"
   ]
  },
  {
   "cell_type": "markdown",
   "metadata": {},
   "source": [
    "## Create a new image table in the database:\n",
    "\n",
    "- index = image path(filename)\n",
    "- white background or not (bolean)\n",
    "- one dominant color\n",
    "- domi_color cluster label\n",
    "- domi_color cluster centroid\n",
    "- color distrubution\n",
    "- color_dist cluster label\n",
    "- color_dist cluster centroid"
   ]
  },
  {
   "cell_type": "markdown",
   "metadata": {},
   "source": [
    "# Sofa"
   ]
  },
  {
   "cell_type": "code",
   "execution_count": 17,
   "metadata": {
    "collapsed": false
   },
   "outputs": [
    {
     "data": {
      "text/plain": [
       "3763"
      ]
     },
     "execution_count": 17,
     "metadata": {},
     "output_type": "execute_result"
    }
   ],
   "source": [
    "category = 'sofa'\n",
    "paths = get_paths(category)\n",
    "len(paths)"
   ]
  },
  {
   "cell_type": "code",
   "execution_count": null,
   "metadata": {
    "collapsed": false
   },
   "outputs": [],
   "source": [
    "start_time =  time.time()\n",
    "print start_time\n",
    "\n",
    "# Color:\n",
    "domi_color_dict = get_domi_color(paths, category)\n",
    "time_1 =  time.time()\n",
    "print 'get_domi_color: ', time_1 - start_time"
   ]
  },
  {
   "cell_type": "markdown",
   "metadata": {},
   "source": [
    "Result from the cell above:\n",
    "1443406617.49\n",
    "gray\n",
    "gray\n",
    "gray\n",
    "gray\n",
    "gray\n",
    "gray\n",
    "get_domi_color:  4405.63884187 (I think the computer went to sleep.....)"
   ]
  },
  {
   "cell_type": "code",
   "execution_count": 25,
   "metadata": {
    "collapsed": false
   },
   "outputs": [
    {
     "data": {
      "text/plain": [
       "1858"
      ]
     },
     "execution_count": 25,
     "metadata": {},
     "output_type": "execute_result"
    }
   ],
   "source": [
    "paths = get_paths(category, white=True)\n",
    "len(paths)"
   ]
  },
  {
   "cell_type": "code",
   "execution_count": 26,
   "metadata": {
    "collapsed": false,
    "scrolled": true
   },
   "outputs": [
    {
     "name": "stdout",
     "output_type": "stream",
     "text": [
      "vectorize_color_distribution:  1939.64887285\n"
     ]
    }
   ],
   "source": [
    "time_1 = time.time()\n",
    "color_dist_dict = vectorize_color_distribution(paths, category)\n",
    "time_2 = time.time()\n",
    "print 'vectorize_color_distribution: ', time_2 - time_1"
   ]
  },
  {
   "cell_type": "code",
   "execution_count": 35,
   "metadata": {
    "collapsed": false
   },
   "outputs": [],
   "source": [
    "domi_color_dict_no_false = {}\n",
    "for i in domi_color_dict:\n",
    "    if type(domi_color_dict[i]) != bool:\n",
    "        domi_color_dict_no_false[i] = domi_color_dict[i]"
   ]
  },
  {
   "cell_type": "code",
   "execution_count": 37,
   "metadata": {
    "collapsed": false
   },
   "outputs": [
    {
     "name": "stdout",
     "output_type": "stream",
     "text": [
      "clustering_with_color (domi):  51.2427370548\n",
      "clustering_with_feature (dist):  52.8415369987\n"
     ]
    }
   ],
   "source": [
    "time_2 = time.time()\n",
    "cluster_label_dict_domi, color_domi_centroids = clustering_with_color(domi_color_dict_no_false, category, domi_color=True)\n",
    "time_3 =  time.time()\n",
    "print 'clustering_with_color (domi): ', time_3 - time_2\n",
    "\n",
    "cluster_label_dict_dist, color_dist_centroids = clustering_with_color(color_dist_dict, category, domi_color=False)\n",
    "time_4 =  time.time()\n",
    "print 'clustering_with_color (dist): ', time_4 - time_3"
   ]
  },
  {
   "cell_type": "markdown",
   "metadata": {},
   "source": [
    "# domi_color clustering works better than color_dist (on sofa)!"
   ]
  },
  {
   "cell_type": "code",
   "execution_count": 39,
   "metadata": {
    "collapsed": false
   },
   "outputs": [
    {
     "name": "stdout",
     "output_type": "stream",
     "text": [
      "image_featurizer:  125.657418013\n",
      "clustering_with_feature:  138.967031002\n"
     ]
    }
   ],
   "source": [
    "# Features:\n",
    "feature_dict = image_featurizer(category, edge=False, svd=False)\n",
    "time_5 =  time.time()\n",
    "print 'image_featurizer: ', time_5 - time_4\n",
    "\n",
    "cluster_label_dict_feature, feature_centroids = clustering_with_feature(feature_dict, category, \n",
    "                                                                svd=False, save_image=True, edge=False)\n",
    "time_6 =  time.time()\n",
    "print 'clustering_with_feature: ', time_6 - time_5"
   ]
  },
  {
   "cell_type": "code",
   "execution_count": 40,
   "metadata": {
    "collapsed": false
   },
   "outputs": [
    {
     "name": "stdout",
     "output_type": "stream",
     "text": [
      "image_featurizer (edge):  36.3625459671\n",
      "clustering_with_feature (edge):  113.339905024\n"
     ]
    }
   ],
   "source": [
    "# Edged Features:\n",
    "feature_dict_edge = image_featurizer(category, edge=True, svd=False)\n",
    "time_7 =  time.time()\n",
    "print 'image_featurizer (edge): ', time_7 - time_6\n",
    "\n",
    "cluster_label_dict_edge, feature_centroids_edge = clustering_with_feature(feature_dict_edge, category, \n",
    "                                                                svd=False, save_image=True, edge=True)\n",
    "time_8 =  time.time()\n",
    "print 'clustering_with_feature (edge): ', time_8 - time_7"
   ]
  },
  {
   "cell_type": "code",
   "execution_count": 42,
   "metadata": {
    "collapsed": false
   },
   "outputs": [
    {
     "name": "stdout",
     "output_type": "stream",
     "text": [
      "image_featurizer (svd):  448.625341892\n",
      "clustering_with_feature (svd):  43.4509789944\n"
     ]
    }
   ],
   "source": [
    "# SVDed Features:\n",
    "time_8 =  time.time()\n",
    "feature_dict_svd = image_featurizer(category, edge=False, SVD=True)\n",
    "time_9 =  time.time()\n",
    "print 'image_featurizer (svd): ', time_9 - time_8\n",
    "\n",
    "cluster_label_dict_svd, feature_centroids_svd = clustering_with_feature(feature_dict_svd, category, \n",
    "                                                                SVD=True, save_image=True, edge=False)\n",
    "time_10 =  time.time()\n",
    "print 'clustering_with_feature (svd): ', time_10 - time_9"
   ]
  },
  {
   "cell_type": "markdown",
   "metadata": {},
   "source": [
    "# Run on all 11175 sofa images (sofa + sofa_bed + futon + loveseat)"
   ]
  },
  {
   "cell_type": "code",
   "execution_count": 9,
   "metadata": {
    "collapsed": false
   },
   "outputs": [
    {
     "data": {
      "text/plain": [
       "11175"
      ]
     },
     "execution_count": 9,
     "metadata": {},
     "output_type": "execute_result"
    }
   ],
   "source": [
    "category = 'sofa_all'\n",
    "paths = get_paths(category)\n",
    "len(paths)"
   ]
  },
  {
   "cell_type": "code",
   "execution_count": 10,
   "metadata": {
    "collapsed": false,
    "scrolled": true
   },
   "outputs": [
    {
     "name": "stdout",
     "output_type": "stream",
     "text": [
      "1443504378.28\n",
      "gray\n",
      "gray\n",
      "gray\n",
      "gray\n",
      "gray\n",
      "gray\n",
      "gray\n",
      "gray\n",
      "gray\n",
      "gray\n",
      "gray\n",
      "gray\n",
      "gray\n",
      "gray\n",
      "gray\n",
      "gray\n",
      "gray\n",
      "gray\n",
      "gray\n",
      "gray\n",
      "gray\n",
      "gray\n",
      "gray\n",
      "gray\n",
      "gray\n",
      "gray\n",
      "gray\n",
      "gray\n",
      "gray\n",
      "gray\n",
      "gray\n",
      "gray\n",
      "gray\n",
      "gray\n",
      "gray\n",
      "gray\n",
      "gray\n",
      "gray\n",
      "gray\n",
      "gray\n",
      "gray\n",
      "gray\n",
      "gray\n",
      "gray\n",
      "gray\n",
      "gray\n",
      "gray\n",
      "gray\n",
      "gray\n",
      "gray\n",
      "gray\n",
      "gray\n",
      "gray\n",
      "gray\n",
      "gray\n",
      "gray\n",
      "gray\n",
      "gray\n",
      "gray\n",
      "get_domi_color:  4237.45315313\n"
     ]
    },
    {
     "name": "stderr",
     "output_type": "stream",
     "text": [
      "//anaconda/lib/python2.7/site-packages/skimage/util/dtype.py:111: UserWarning: Possible precision loss when converting from float64 to uint8\n",
      "  \"%s to %s\" % (dtypeobj_in, dtypeobj))\n"
     ]
    }
   ],
   "source": [
    "start_time =  time.time()\n",
    "print start_time\n",
    "\n",
    "# Color:\n",
    "domi_color_dict = get_domi_color(paths, category)\n",
    "time_1 =  time.time()\n",
    "print 'get_domi_color: ', time_1 - start_time"
   ]
  },
  {
   "cell_type": "code",
   "execution_count": 11,
   "metadata": {
    "collapsed": false
   },
   "outputs": [
    {
     "data": {
      "text/plain": [
       "4659"
      ]
     },
     "execution_count": 11,
     "metadata": {},
     "output_type": "execute_result"
    }
   ],
   "source": [
    "paths = get_paths(category, white=True)\n",
    "len(paths)"
   ]
  },
  {
   "cell_type": "code",
   "execution_count": 12,
   "metadata": {
    "collapsed": false
   },
   "outputs": [
    {
     "name": "stdout",
     "output_type": "stream",
     "text": [
      "vectorize_color_distribution:  4311.78670192\n"
     ]
    }
   ],
   "source": [
    "time_1 = time.time()\n",
    "color_dist_dict = vectorize_color_distribution(paths, category)\n",
    "time_2 = time.time()\n",
    "print 'vectorize_color_distribution: ', time_2 - time_1"
   ]
  },
  {
   "cell_type": "code",
   "execution_count": 13,
   "metadata": {
    "collapsed": true
   },
   "outputs": [],
   "source": [
    "domi_color_dict_no_false = {}\n",
    "for i in domi_color_dict:\n",
    "    if type(domi_color_dict[i]) != bool:\n",
    "        domi_color_dict_no_false[i] = domi_color_dict[i]"
   ]
  },
  {
   "cell_type": "code",
   "execution_count": 14,
   "metadata": {
    "collapsed": false
   },
   "outputs": [
    {
     "name": "stdout",
     "output_type": "stream",
     "text": [
      "clustering_with_color (domi):  120.655131102\n",
      "clustering_with_color (dist):  122.483716965\n"
     ]
    }
   ],
   "source": [
    "time_2 = time.time()\n",
    "cluster_label_dict_domi, color_domi_centroids = clustering_with_color(domi_color_dict_no_false, category, domi_color=True)\n",
    "time_3 =  time.time()\n",
    "print 'clustering_with_color (domi): ', time_3 - time_2\n",
    "\n",
    "cluster_label_dict_dist, color_dist_centroids = clustering_with_color(color_dist_dict, category, domi_color=False)\n",
    "time_4 =  time.time()\n",
    "print 'clustering_with_color (dist): ', time_4 - time_3"
   ]
  },
  {
   "cell_type": "code",
   "execution_count": 17,
   "metadata": {
    "collapsed": false
   },
   "outputs": [
    {
     "name": "stdout",
     "output_type": "stream",
     "text": [
      "image_featurizer:  62.9440801144\n",
      "clustering_with_feature:  284.190518856\n",
      "image_featurizer (edge):  816.846856117\n",
      "clustering_with_feature (edge):  228.436863899\n",
      "image_featurizer (svd):  1318.41898584\n",
      "clustering_with_feature (svd):  113.430192947\n"
     ]
    }
   ],
   "source": [
    "# Features:\n",
    "time_4 =  time.time()\n",
    "feature_dict = image_featurizer(category, edge=False, SVD=False)\n",
    "time_5 =  time.time()\n",
    "print 'image_featurizer: ', time_5 - time_4\n",
    "\n",
    "cluster_label_dict_feature, feature_centroids = clustering_with_feature(feature_dict, category, \n",
    "                                                                SVD=False, save_image=True, edge=False)\n",
    "time_6 =  time.time()\n",
    "print 'clustering_with_feature: ', time_6 - time_5\n",
    "\n",
    "# Edged Features:\n",
    "feature_dict_edge = image_featurizer(category, edge=True, SVD=False)\n",
    "time_7 =  time.time()\n",
    "print 'image_featurizer (edge): ', time_7 - time_6\n",
    "\n",
    "cluster_label_dict_edge, feature_centroids_edge = clustering_with_feature(feature_dict_edge, category, \n",
    "                                                                SVD=False, save_image=True, edge=True)\n",
    "time_8 =  time.time()\n",
    "print 'clustering_with_feature (edge): ', time_8 - time_7\n",
    "\n",
    "# SVDed Features:\n",
    "time_8 =  time.time()\n",
    "feature_dict_svd, U, sigma, VT = image_featurizer(category, edge=False, SVD=True)\n",
    "time_9 =  time.time()\n",
    "print 'image_featurizer (svd): ', time_9 - time_8\n",
    "\n",
    "cluster_label_dict_svd, feature_centroids_svd = clustering_with_feature(feature_dict_svd, category, \n",
    "                                                                SVD=True, save_image=True, edge=False)\n",
    "time_10 =  time.time()\n",
    "print 'clustering_with_feature (svd): ', time_10 - time_9"
   ]
  },
  {
   "cell_type": "markdown",
   "metadata": {},
   "source": [
    "# Kernal down - start over:"
   ]
  },
  {
   "cell_type": "code",
   "execution_count": 22,
   "metadata": {
    "collapsed": true
   },
   "outputs": [],
   "source": [
    "category = 'sofa_all'"
   ]
  },
  {
   "cell_type": "code",
   "execution_count": null,
   "metadata": {
    "collapsed": true
   },
   "outputs": [],
   "source": [
    "paths = get_paths(category)\n",
    "len(paths)"
   ]
  },
  {
   "cell_type": "code",
   "execution_count": 5,
   "metadata": {
    "collapsed": false
   },
   "outputs": [
    {
     "name": "stdout",
     "output_type": "stream",
     "text": [
      "# of grayscaled photos:  0\n",
      "get_domi_color:  4531.230968\n",
      "vectorize_color_distribution:  4572.42682314\n"
     ]
    }
   ],
   "source": [
    "start_time =  time.time()\n",
    "# Color:\n",
    "domi_color_dict = get_domi_color(paths, category)\n",
    "time_1 =  time.time()\n",
    "print 'get_domi_color: ', time_1 - start_time\n",
    "\n",
    "paths = get_paths(category, white=True)\n",
    "len(paths)\n",
    "\n",
    "\n",
    "color_dist_dict = vectorize_color_distribution(paths, category)\n",
    "time_2 = time.time()\n",
    "print 'vectorize_color_distribution: ', time_2 - time_1\n"
   ]
  },
  {
   "cell_type": "code",
   "execution_count": 25,
   "metadata": {
    "collapsed": false
   },
   "outputs": [],
   "source": [
    "with open('wayfair/pickle/sofa_domi_color_dict.pkl', 'w') as f:\n",
    "    pickle.dump(domi_color_dict, f)\n",
    "with open('wayfair/pickle/sofa_color_dist_dict.pkl', 'w') as f:\n",
    "    pickle.dump(color_dist_dict, f)"
   ]
  },
  {
   "cell_type": "code",
   "execution_count": 26,
   "metadata": {
    "collapsed": false
   },
   "outputs": [],
   "source": [
    "with open('wayfair/pickle/sofa_domi_color_dict.pkl') as f:\n",
    "    domi_color_dict = pickle.load(f)\n",
    "with open('wayfair/pickle/sofa_color_dist_dict.pkl') as f:\n",
    "    color_dist_dict = pickle.load(f)"
   ]
  },
  {
   "cell_type": "code",
   "execution_count": 29,
   "metadata": {
    "collapsed": true
   },
   "outputs": [],
   "source": [
    "domi_color_dict_no_false = {}\n",
    "for i in domi_color_dict:\n",
    "    if type(domi_color_dict[i]) != bool:\n",
    "        domi_color_dict_no_false[i] = domi_color_dict[i]"
   ]
  },
  {
   "cell_type": "code",
   "execution_count": 30,
   "metadata": {
    "collapsed": false
   },
   "outputs": [
    {
     "data": {
      "text/plain": [
       "(11116, 4659, 4659)"
      ]
     },
     "execution_count": 30,
     "metadata": {},
     "output_type": "execute_result"
    }
   ],
   "source": [
    "len(domi_color_dict.items()), len(domi_color_dict_no_false.items()), len(color_dist_dict.items())"
   ]
  },
  {
   "cell_type": "code",
   "execution_count": 31,
   "metadata": {
    "collapsed": false
   },
   "outputs": [
    {
     "name": "stdout",
     "output_type": "stream",
     "text": [
      "clustering_with_color (domi):  0.302341938019\n",
      "clustering_with_color (dist):  0.70477104187\n",
      "image_featurizer:  58.149657011\n",
      "clustering_with_feature:  164.857252836\n",
      "image_featurizer (pca):  258.898812056\n"
     ]
    },
    {
     "ename": "NameError",
     "evalue": "name 'feature_dict_svd' is not defined",
     "output_type": "error",
     "traceback": [
      "\u001b[0;31m---------------------------------------------------------------------------\u001b[0m",
      "\u001b[0;31mNameError\u001b[0m                                 Traceback (most recent call last)",
      "\u001b[0;32m<ipython-input-31-bf4017e38fe4>\u001b[0m in \u001b[0;36m<module>\u001b[0;34m()\u001b[0m\n\u001b[1;32m     32\u001b[0m \u001b[0;32mprint\u001b[0m \u001b[0;34m'image_featurizer (pca): '\u001b[0m\u001b[0;34m,\u001b[0m \u001b[0mtime_9\u001b[0m \u001b[0;34m-\u001b[0m \u001b[0mtime_8\u001b[0m\u001b[0;34m\u001b[0m\u001b[0m\n\u001b[1;32m     33\u001b[0m \u001b[0;34m\u001b[0m\u001b[0m\n\u001b[0;32m---> 34\u001b[0;31m cluster_label_dict_svd, feature_centroids_svd, km_feature_pca = clustering_with_feature(feature_dict_svd, \n\u001b[0m\u001b[1;32m     35\u001b[0m                                                                     \u001b[0mcategory\u001b[0m\u001b[0;34m,\u001b[0m \u001b[0mn_clusters\u001b[0m\u001b[0;34m=\u001b[0m\u001b[0;36m10\u001b[0m\u001b[0;34m,\u001b[0m\u001b[0;34m\u001b[0m\u001b[0m\n\u001b[1;32m     36\u001b[0m                                                                     pca=True, save_image=False)\n",
      "\u001b[0;31mNameError\u001b[0m: name 'feature_dict_svd' is not defined"
     ]
    }
   ],
   "source": [
    "# Colors:\n",
    "time_2 =  time.time()\n",
    "cluster_label_dict_domi, color_domi_centroids, km_color_domi = clustering_with_color(domi_color_dict_no_false, \n",
    "                                                                    category, n_clusters=10, domi_color=True,\n",
    "                                                                    save_image=False)\n",
    "time_3 =  time.time()\n",
    "print 'clustering_with_color (domi): ', time_3 - time_2\n",
    "\n",
    "cluster_label_dict_dist, color_dist_centroids, km_color_dist = clustering_with_color(color_dist_dict, \n",
    "                                                                    category, n_clusters=10, domi_color=False,\n",
    "                                                                    save_image=False)\n",
    "time_4 =  time.time()\n",
    "print 'clustering_with_color (dist): ', time_4 - time_3\n",
    "\n",
    "\n",
    "# Features:\n",
    "feature_dict = image_featurizer(category, pca=False)\n",
    "time_5 =  time.time()\n",
    "print 'image_featurizer: ', time_5 - time_4\n",
    "\n",
    "cluster_label_dict_feature, feature_centroids, km_feature = clustering_with_feature(feature_dict, \n",
    "                                                                category, n_clusters=10, \n",
    "                                                                pca=False, save_image=False)\n",
    "time_6 =  time.time()\n",
    "print 'clustering_with_feature: ', time_6 - time_5\n",
    "\n",
    "\n",
    "# PCAed Features:\n",
    "time_8 =  time.time()\n",
    "feature_dict_pca, pca_scaler, pca_model = image_featurizer(category, pca=True)\n",
    "time_9 =  time.time()\n",
    "print 'image_featurizer (pca): ', time_9 - time_8\n",
    "\n",
    "cluster_label_dict_svd, feature_centroids_svd, km_feature_pca = clustering_with_feature(feature_dict_svd, \n",
    "                                                                    category, n_clusters=10, \n",
    "                                                                    pca=True, save_image=False)\n",
    "time_10 =  time.time()\n",
    "print 'clustering_with_feature (pca): ', time_10 - time_9"
   ]
  },
  {
   "cell_type": "code",
   "execution_count": null,
   "metadata": {
    "collapsed": true
   },
   "outputs": [],
   "source": [
    "# Pickled:\n",
    "    # domi_color_dict\n",
    "    # color_dist_dict\n",
    "#--------------------------------\n",
    "# Not pickled:\n",
    "    # domi_color_dict_no_false\n",
    "    # cluster_label_dict_domi\n",
    "    # color_domi_centroids\n",
    "    # km_color_domi\n",
    "\n",
    "    # cluster_label_dict_dist\n",
    "    # color_dist_centroids\n",
    "    # km_color_dist\n",
    "\n",
    "    # feature_dict\n",
    "    # cluster_label_dict_feature\n",
    "    # feature_centroids\n",
    "    # km_feature\n",
    "\n",
    "    # feature_dict_pca, pca_scaler, pca_model\n",
    "    # cluster_label_dict_pca\n",
    "    # feature_centroids_pca\n",
    "    # km_feature_pca"
   ]
  },
  {
   "cell_type": "code",
   "execution_count": null,
   "metadata": {
    "collapsed": true
   },
   "outputs": [],
   "source": []
  },
  {
   "cell_type": "markdown",
   "metadata": {},
   "source": [
    "# To do: \n",
    "## put color data info a dataframe -> save as json!!\n"
   ]
  },
  {
   "cell_type": "code",
   "execution_count": null,
   "metadata": {
    "collapsed": true
   },
   "outputs": [],
   "source": []
  }
 ],
 "metadata": {
  "kernelspec": {
   "display_name": "Python 2",
   "language": "python",
   "name": "python2"
  },
  "language_info": {
   "codemirror_mode": {
    "name": "ipython",
    "version": 2
   },
   "file_extension": ".py",
   "mimetype": "text/x-python",
   "name": "python",
   "nbconvert_exporter": "python",
   "pygments_lexer": "ipython2",
   "version": "2.7.10"
  }
 },
 "nbformat": 4,
 "nbformat_minor": 0
}
