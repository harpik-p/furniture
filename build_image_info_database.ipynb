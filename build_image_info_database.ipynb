{
 "cells": [
  {
   "cell_type": "code",
   "execution_count": 6,
   "metadata": {
    "collapsed": true
   },
   "outputs": [],
   "source": [
    "import os.path\n",
    "import pandas as pd\n",
    "import time"
   ]
  },
  {
   "cell_type": "code",
   "execution_count": 7,
   "metadata": {
    "collapsed": false
   },
   "outputs": [],
   "source": [
    "from image_processing import get_paths\n",
    "from image_processing import get_domi_color, vectorize_color_distribution, clustering_with_color\n",
    "from image_processing import image_featurizer, clustering_with_feature"
   ]
  },
  {
   "cell_type": "code",
   "execution_count": 8,
   "metadata": {
    "collapsed": false
   },
   "outputs": [
    {
     "data": {
      "text/plain": [
       "['bed',\n",
       " 'bookcase',\n",
       " 'coffee_table',\n",
       " 'desk',\n",
       " 'dining_chair',\n",
       " 'dining_table',\n",
       " 'dresser',\n",
       " 'nightstand',\n",
       " 'office_chair',\n",
       " 'sofa_all',\n",
       " 'sofa_clustering_results']"
      ]
     },
     "execution_count": 8,
     "metadata": {},
     "output_type": "execute_result"
    }
   ],
   "source": [
    "get_paths('', image=False)"
   ]
  },
  {
   "cell_type": "markdown",
   "metadata": {},
   "source": [
    "## Create a new image table in the database:\n",
    "\n",
    "- index = image path(filename)\n",
    "- white background or not (bolean)\n",
    "- one dominant color\n",
    "- domi_color cluster label\n",
    "- domi_color cluster centroid\n",
    "- color distrubution\n",
    "- color_dist cluster label\n",
    "- color_dist cluster centroid"
   ]
  },
  {
   "cell_type": "markdown",
   "metadata": {},
   "source": [
    "# Sofa"
   ]
  },
  {
   "cell_type": "code",
   "execution_count": 17,
   "metadata": {
    "collapsed": false
   },
   "outputs": [
    {
     "data": {
      "text/plain": [
       "3763"
      ]
     },
     "execution_count": 17,
     "metadata": {},
     "output_type": "execute_result"
    }
   ],
   "source": [
    "category = 'sofa'\n",
    "paths = get_paths(category)\n",
    "len(paths)"
   ]
  },
  {
   "cell_type": "code",
   "execution_count": null,
   "metadata": {
    "collapsed": false
   },
   "outputs": [],
   "source": [
    "start_time =  time.time()\n",
    "print start_time\n",
    "\n",
    "# Color:\n",
    "domi_color_dict = get_domi_color(paths, category)\n",
    "time_1 =  time.time()\n",
    "print 'get_domi_color: ', time_1 - start_time"
   ]
  },
  {
   "cell_type": "markdown",
   "metadata": {},
   "source": [
    "Result from the cell above:\n",
    "1443406617.49\n",
    "gray\n",
    "gray\n",
    "gray\n",
    "gray\n",
    "gray\n",
    "gray\n",
    "get_domi_color:  4405.63884187 (I think the computer went to sleep.....)"
   ]
  },
  {
   "cell_type": "code",
   "execution_count": 25,
   "metadata": {
    "collapsed": false
   },
   "outputs": [
    {
     "data": {
      "text/plain": [
       "1858"
      ]
     },
     "execution_count": 25,
     "metadata": {},
     "output_type": "execute_result"
    }
   ],
   "source": [
    "paths = get_paths(category, white=True)\n",
    "len(paths)"
   ]
  },
  {
   "cell_type": "code",
   "execution_count": 26,
   "metadata": {
    "collapsed": false,
    "scrolled": true
   },
   "outputs": [
    {
     "name": "stdout",
     "output_type": "stream",
     "text": [
      "vectorize_color_distribution:  1939.64887285\n"
     ]
    }
   ],
   "source": [
    "time_1 = time.time()\n",
    "color_dist_dict = vectorize_color_distribution(paths, category)\n",
    "time_2 = time.time()\n",
    "print 'vectorize_color_distribution: ', time_2 - time_1"
   ]
  },
  {
   "cell_type": "code",
   "execution_count": 35,
   "metadata": {
    "collapsed": false
   },
   "outputs": [],
   "source": [
    "domi_color_dict_no_false = {}\n",
    "for i in domi_color_dict:\n",
    "    if type(domi_color_dict[i]) != bool:\n",
    "        domi_color_dict_no_false[i] = domi_color_dict[i]"
   ]
  },
  {
   "cell_type": "code",
   "execution_count": 37,
   "metadata": {
    "collapsed": false
   },
   "outputs": [
    {
     "name": "stdout",
     "output_type": "stream",
     "text": [
      "clustering_with_color (domi):  51.2427370548\n",
      "clustering_with_feature (dist):  52.8415369987\n"
     ]
    }
   ],
   "source": [
    "time_2 = time.time()\n",
    "cluster_label_dict_domi, color_domi_centroids = clustering_with_color(domi_color_dict_no_false, category, domi_color=True)\n",
    "time_3 =  time.time()\n",
    "print 'clustering_with_color (domi): ', time_3 - time_2\n",
    "\n",
    "cluster_label_dict_dist, color_dist_centroids = clustering_with_color(color_dist_dict, category, domi_color=False)\n",
    "time_4 =  time.time()\n",
    "print 'clustering_with_color (dist): ', time_4 - time_3"
   ]
  },
  {
   "cell_type": "markdown",
   "metadata": {},
   "source": [
    "# domi_color clustering works better than color_dist (on sofa)!"
   ]
  },
  {
   "cell_type": "code",
   "execution_count": 39,
   "metadata": {
    "collapsed": false
   },
   "outputs": [
    {
     "name": "stdout",
     "output_type": "stream",
     "text": [
      "image_featurizer:  125.657418013\n",
      "clustering_with_feature:  138.967031002\n"
     ]
    }
   ],
   "source": [
    "# Features:\n",
    "feature_dict = image_featurizer(category, edge=False, svd=False)\n",
    "time_5 =  time.time()\n",
    "print 'image_featurizer: ', time_5 - time_4\n",
    "\n",
    "cluster_label_dict_feature, feature_centroids = clustering_with_feature(feature_dict, category, \n",
    "                                                                svd=False, save_image=True, edge=False)\n",
    "time_6 =  time.time()\n",
    "print 'clustering_with_feature: ', time_6 - time_5"
   ]
  },
  {
   "cell_type": "code",
   "execution_count": 40,
   "metadata": {
    "collapsed": false
   },
   "outputs": [
    {
     "name": "stdout",
     "output_type": "stream",
     "text": [
      "image_featurizer (edge):  36.3625459671\n",
      "clustering_with_feature (edge):  113.339905024\n"
     ]
    }
   ],
   "source": [
    "# Edged Features:\n",
    "feature_dict_edge = image_featurizer(category, edge=True, svd=False)\n",
    "time_7 =  time.time()\n",
    "print 'image_featurizer (edge): ', time_7 - time_6\n",
    "\n",
    "cluster_label_dict_edge, feature_centroids_edge = clustering_with_feature(feature_dict_edge, category, \n",
    "                                                                svd=False, save_image=True, edge=True)\n",
    "time_8 =  time.time()\n",
    "print 'clustering_with_feature (edge): ', time_8 - time_7"
   ]
  },
  {
   "cell_type": "code",
   "execution_count": 42,
   "metadata": {
    "collapsed": false
   },
   "outputs": [
    {
     "name": "stdout",
     "output_type": "stream",
     "text": [
      "image_featurizer (svd):  448.625341892\n",
      "clustering_with_feature (svd):  43.4509789944\n"
     ]
    }
   ],
   "source": [
    "# SVDed Features:\n",
    "time_8 =  time.time()\n",
    "feature_dict_svd = image_featurizer(category, edge=False, SVD=True)\n",
    "time_9 =  time.time()\n",
    "print 'image_featurizer (svd): ', time_9 - time_8\n",
    "\n",
    "cluster_label_dict_svd, feature_centroids_svd = clustering_with_feature(feature_dict_svd, category, \n",
    "                                                                SVD=True, save_image=True, edge=False)\n",
    "time_10 =  time.time()\n",
    "print 'clustering_with_feature (svd): ', time_10 - time_9"
   ]
  },
  {
   "cell_type": "markdown",
   "metadata": {},
   "source": [
    "# Run on all 11175 sofa images (sofa + sofa_bed + futon + loveseat)"
   ]
  },
  {
   "cell_type": "code",
   "execution_count": 9,
   "metadata": {
    "collapsed": false
   },
   "outputs": [
    {
     "data": {
      "text/plain": [
       "11175"
      ]
     },
     "execution_count": 9,
     "metadata": {},
     "output_type": "execute_result"
    }
   ],
   "source": [
    "category = 'sofa_all'\n",
    "paths = get_paths(category)\n",
    "len(paths)"
   ]
  },
  {
   "cell_type": "code",
   "execution_count": 10,
   "metadata": {
    "collapsed": false
   },
   "outputs": [
    {
     "name": "stdout",
     "output_type": "stream",
     "text": [
      "1443504378.28\n",
      "gray\n",
      "gray\n",
      "gray\n",
      "gray\n",
      "gray\n",
      "gray\n",
      "gray\n",
      "gray\n",
      "gray\n",
      "gray\n",
      "gray\n",
      "gray\n",
      "gray\n",
      "gray\n",
      "gray\n",
      "gray\n",
      "gray\n",
      "gray\n",
      "gray\n",
      "gray\n",
      "gray\n",
      "gray\n",
      "gray\n",
      "gray\n",
      "gray\n",
      "gray\n",
      "gray\n",
      "gray\n",
      "gray\n",
      "gray\n",
      "gray\n",
      "gray\n",
      "gray\n",
      "gray\n",
      "gray\n",
      "gray\n",
      "gray\n",
      "gray\n",
      "gray\n",
      "gray\n",
      "gray\n",
      "gray\n",
      "gray\n",
      "gray\n",
      "gray\n",
      "gray\n",
      "gray\n",
      "gray\n",
      "gray\n",
      "gray\n",
      "gray\n",
      "gray\n",
      "gray\n",
      "gray\n",
      "gray\n",
      "gray\n",
      "gray\n",
      "gray\n",
      "gray\n",
      "get_domi_color:  4237.45315313\n"
     ]
    },
    {
     "name": "stderr",
     "output_type": "stream",
     "text": [
      "//anaconda/lib/python2.7/site-packages/skimage/util/dtype.py:111: UserWarning: Possible precision loss when converting from float64 to uint8\n",
      "  \"%s to %s\" % (dtypeobj_in, dtypeobj))\n"
     ]
    }
   ],
   "source": [
    "start_time =  time.time()\n",
    "print start_time\n",
    "\n",
    "# Color:\n",
    "domi_color_dict = get_domi_color(paths, category)\n",
    "time_1 =  time.time()\n",
    "print 'get_domi_color: ', time_1 - start_time"
   ]
  },
  {
   "cell_type": "code",
   "execution_count": 11,
   "metadata": {
    "collapsed": false
   },
   "outputs": [
    {
     "data": {
      "text/plain": [
       "4659"
      ]
     },
     "execution_count": 11,
     "metadata": {},
     "output_type": "execute_result"
    }
   ],
   "source": [
    "paths = get_paths(category, white=True)\n",
    "len(paths)"
   ]
  },
  {
   "cell_type": "code",
   "execution_count": 12,
   "metadata": {
    "collapsed": false
   },
   "outputs": [
    {
     "name": "stdout",
     "output_type": "stream",
     "text": [
      "vectorize_color_distribution:  4311.78670192\n"
     ]
    }
   ],
   "source": [
    "time_1 = time.time()\n",
    "color_dist_dict = vectorize_color_distribution(paths, category)\n",
    "time_2 = time.time()\n",
    "print 'vectorize_color_distribution: ', time_2 - time_1"
   ]
  },
  {
   "cell_type": "code",
   "execution_count": 13,
   "metadata": {
    "collapsed": true
   },
   "outputs": [],
   "source": [
    "domi_color_dict_no_false = {}\n",
    "for i in domi_color_dict:\n",
    "    if type(domi_color_dict[i]) != bool:\n",
    "        domi_color_dict_no_false[i] = domi_color_dict[i]"
   ]
  },
  {
   "cell_type": "code",
   "execution_count": 14,
   "metadata": {
    "collapsed": false
   },
   "outputs": [
    {
     "name": "stdout",
     "output_type": "stream",
     "text": [
      "clustering_with_color (domi):  120.655131102\n",
      "clustering_with_color (dist):  122.483716965\n"
     ]
    }
   ],
   "source": [
    "time_2 = time.time()\n",
    "cluster_label_dict_domi, color_domi_centroids = clustering_with_color(domi_color_dict_no_false, category, domi_color=True)\n",
    "time_3 =  time.time()\n",
    "print 'clustering_with_color (domi): ', time_3 - time_2\n",
    "\n",
    "cluster_label_dict_dist, color_dist_centroids = clustering_with_color(color_dist_dict, category, domi_color=False)\n",
    "time_4 =  time.time()\n",
    "print 'clustering_with_color (dist): ', time_4 - time_3"
   ]
  },
  {
   "cell_type": "code",
   "execution_count": 17,
   "metadata": {
    "collapsed": false
   },
   "outputs": [
    {
     "name": "stdout",
     "output_type": "stream",
     "text": [
      "image_featurizer:  62.9440801144\n",
      "clustering_with_feature:  284.190518856\n",
      "image_featurizer (edge):  816.846856117\n",
      "clustering_with_feature (edge):  228.436863899\n",
      "image_featurizer (svd):  1318.41898584\n",
      "clustering_with_feature (svd):  113.430192947\n"
     ]
    }
   ],
   "source": [
    "# Features:\n",
    "time_4 =  time.time()\n",
    "feature_dict = image_featurizer(category, edge=False, SVD=False)\n",
    "time_5 =  time.time()\n",
    "print 'image_featurizer: ', time_5 - time_4\n",
    "\n",
    "cluster_label_dict_feature, feature_centroids = clustering_with_feature(feature_dict, category, \n",
    "                                                                SVD=False, save_image=True, edge=False)\n",
    "time_6 =  time.time()\n",
    "print 'clustering_with_feature: ', time_6 - time_5\n",
    "\n",
    "# Edged Features:\n",
    "feature_dict_edge = image_featurizer(category, edge=True, SVD=False)\n",
    "time_7 =  time.time()\n",
    "print 'image_featurizer (edge): ', time_7 - time_6\n",
    "\n",
    "cluster_label_dict_edge, feature_centroids_edge = clustering_with_feature(feature_dict_edge, category, \n",
    "                                                                SVD=False, save_image=True, edge=True)\n",
    "time_8 =  time.time()\n",
    "print 'clustering_with_feature (edge): ', time_8 - time_7\n",
    "\n",
    "# SVDed Features:\n",
    "time_8 =  time.time()\n",
    "feature_dict_svd, U, sigma, VT = image_featurizer(category, edge=False, SVD=True)\n",
    "time_9 =  time.time()\n",
    "print 'image_featurizer (svd): ', time_9 - time_8\n",
    "\n",
    "cluster_label_dict_svd, feature_centroids_svd = clustering_with_feature(feature_dict_svd, category, \n",
    "                                                                SVD=True, save_image=True, edge=False)\n",
    "time_10 =  time.time()\n",
    "print 'clustering_with_feature (svd): ', time_10 - time_9"
   ]
  },
  {
   "cell_type": "code",
   "execution_count": 18,
   "metadata": {
    "collapsed": true
   },
   "outputs": [],
   "source": [
    "# Getting U, sigma, VT:\n",
    "feature_dict_svd, U, sigma, VT = image_featurizer(category, edge=False, SVD=True)"
   ]
  },
  {
   "cell_type": "code",
   "execution_count": 19,
   "metadata": {
    "collapsed": true
   },
   "outputs": [],
   "source": [
    "# Getting original feature matrix:\n",
    "feature_dict, features = image_featurizer(category, edge=False, SVD=False)"
   ]
  },
  {
   "cell_type": "code",
   "execution_count": 21,
   "metadata": {
    "collapsed": false
   },
   "outputs": [
    {
     "data": {
      "text/plain": [
       "((4659, 4659), (4659,), (22500, 22500), (4659, 22500))"
      ]
     },
     "execution_count": 21,
     "metadata": {},
     "output_type": "execute_result"
    }
   ],
   "source": [
    "U.shape, sigma.shape, VT.shape, features.shape"
   ]
  },
  {
   "cell_type": "code",
   "execution_count": 23,
   "metadata": {
    "collapsed": false
   },
   "outputs": [
    {
     "data": {
      "text/plain": [
       "array([[ -1.57701883e-02,  -7.91552896e-03,  -1.45559239e-02, ...,\n",
       "         -6.14178847e-15,   2.03830008e-16,   3.29597460e-15],\n",
       "       [ -1.44937736e-02,   9.82528432e-03,  -1.62735840e-02, ...,\n",
       "          5.32159326e-15,   1.04249974e-15,  -2.51443588e-15],\n",
       "       [ -1.57020177e-02,  -7.35539756e-03,  -1.64756549e-02, ...,\n",
       "          5.64464267e-03,   2.74995837e-03,   7.85556611e-03],\n",
       "       ..., \n",
       "       [ -1.52352674e-02,  -5.88319927e-03,   5.57390155e-03, ...,\n",
       "          1.09572433e-03,   4.90373601e-03,   5.06097508e-03],\n",
       "       [ -1.51228366e-02,  -4.12607837e-03,   6.14407004e-03, ...,\n",
       "         -1.56689735e-03,  -5.81974735e-03,   6.68986968e-03],\n",
       "       [ -1.38416989e-02,   1.88955407e-02,   1.84720249e-03, ...,\n",
       "         -6.97326817e-03,   8.26246729e-03,  -1.61384094e-03]])"
      ]
     },
     "execution_count": 23,
     "metadata": {},
     "output_type": "execute_result"
    }
   ],
   "source": [
    "U"
   ]
  },
  {
   "cell_type": "markdown",
   "metadata": {},
   "source": [
    "# To do: \n",
    "## put color data info a dataframe -> save as json!!\n",
    "* check & compare feature clustering results (general, edge & svd)\n",
    "* do edge&svd ?"
   ]
  },
  {
   "cell_type": "code",
   "execution_count": null,
   "metadata": {
    "collapsed": true
   },
   "outputs": [],
   "source": []
  }
 ],
 "metadata": {
  "kernelspec": {
   "display_name": "Python 2",
   "language": "python",
   "name": "python2"
  },
  "language_info": {
   "codemirror_mode": {
    "name": "ipython",
    "version": 2
   },
   "file_extension": ".py",
   "mimetype": "text/x-python",
   "name": "python",
   "nbconvert_exporter": "python",
   "pygments_lexer": "ipython2",
   "version": "2.7.10"
  }
 },
 "nbformat": 4,
 "nbformat_minor": 0
}
