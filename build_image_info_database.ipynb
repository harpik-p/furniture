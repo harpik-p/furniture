{
 "cells": [
  {
   "cell_type": "code",
   "execution_count": 16,
   "metadata": {
    "collapsed": true
   },
   "outputs": [],
   "source": [
    "import os.path\n",
    "import pandas as pd"
   ]
  },
  {
   "cell_type": "code",
   "execution_count": 15,
   "metadata": {
    "collapsed": false
   },
   "outputs": [],
   "source": [
    "from image_processing import get_domi_color, vectorize_color_distribution, clustering_with_color\n",
    "from image_processing import image_featurizer, clustering_with_feature"
   ]
  },
  {
   "cell_type": "code",
   "execution_count": 14,
   "metadata": {
    "collapsed": false
   },
   "outputs": [
    {
     "data": {
      "text/plain": [
       "['.DS_Store',\n",
       " 'bed',\n",
       " 'bookcase',\n",
       " 'coffee_table',\n",
       " 'desk',\n",
       " 'dining_chair',\n",
       " 'dining_table',\n",
       " 'dresser',\n",
       " 'futon',\n",
       " 'loveseat',\n",
       " 'nightstand',\n",
       " 'office_chair',\n",
       " 'sofa',\n",
       " 'sofa_bed']"
      ]
     },
     "execution_count": 14,
     "metadata": {},
     "output_type": "execute_result"
    }
   ],
   "source": [
    "os.listdir('wayfair/images/')"
   ]
  },
  {
   "cell_type": "markdown",
   "metadata": {},
   "source": [
    "## Create a new image table in the database:\n",
    "\n",
    "- index = image path(filename)\n",
    "- white background or not (bolean)\n",
    "- one dominant color\n",
    "- two dominant colors?\n",
    "- color distrubution?\n",
    "- color cluster label\n",
    "- color cluster centroid"
   ]
  },
  {
   "cell_type": "code",
   "execution_count": null,
   "metadata": {
    "collapsed": true
   },
   "outputs": [],
   "source": []
  }
 ],
 "metadata": {
  "kernelspec": {
   "display_name": "Python 2",
   "language": "python",
   "name": "python2"
  },
  "language_info": {
   "codemirror_mode": {
    "name": "ipython",
    "version": 2
   },
   "file_extension": ".py",
   "mimetype": "text/x-python",
   "name": "python",
   "nbconvert_exporter": "python",
   "pygments_lexer": "ipython2",
   "version": "2.7.10"
  }
 },
 "nbformat": 4,
 "nbformat_minor": 0
}
