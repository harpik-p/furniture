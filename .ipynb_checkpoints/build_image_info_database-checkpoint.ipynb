{
 "cells": [
  {
   "cell_type": "code",
   "execution_count": 22,
   "metadata": {
    "collapsed": true
   },
   "outputs": [],
   "source": [
    "import os.path\n",
    "import pandas as pd\n",
    "import time"
   ]
  },
  {
   "cell_type": "code",
   "execution_count": 11,
   "metadata": {
    "collapsed": false
   },
   "outputs": [],
   "source": [
    "from image_processing import get_paths\n",
    "from image_processing import get_domi_color, vectorize_color_distribution, clustering_with_color\n",
    "from image_processing import image_featurizer, clustering_with_feature"
   ]
  },
  {
   "cell_type": "code",
   "execution_count": 19,
   "metadata": {
    "collapsed": false
   },
   "outputs": [
    {
     "data": {
      "text/plain": [
       "['bed',\n",
       " 'bookcase',\n",
       " 'coffee_table',\n",
       " 'desk',\n",
       " 'dining_chair',\n",
       " 'dining_table',\n",
       " 'dresser',\n",
       " 'futon',\n",
       " 'loveseat',\n",
       " 'nightstand',\n",
       " 'office_chair',\n",
       " 'sofa',\n",
       " 'sofa_bed']"
      ]
     },
     "execution_count": 19,
     "metadata": {},
     "output_type": "execute_result"
    }
   ],
   "source": [
    "get_paths('', image=False)"
   ]
  },
  {
   "cell_type": "markdown",
   "metadata": {},
   "source": [
    "## Create a new image table in the database:\n",
    "\n",
    "- index = image path(filename)\n",
    "- white background or not (bolean)\n",
    "- one dominant color\n",
    "- domi_color cluster label\n",
    "- domi_color cluster centroid\n",
    "- color distrubution\n",
    "- color_dist cluster label\n",
    "- color_dist cluster centroid"
   ]
  },
  {
   "cell_type": "markdown",
   "metadata": {},
   "source": [
    "# Sofa"
   ]
  },
  {
   "cell_type": "code",
   "execution_count": 17,
   "metadata": {
    "collapsed": false
   },
   "outputs": [
    {
     "data": {
      "text/plain": [
       "3763"
      ]
     },
     "execution_count": 17,
     "metadata": {},
     "output_type": "execute_result"
    }
   ],
   "source": [
    "category = 'sofa'\n",
    "paths = get_paths(category)\n",
    "len(paths)"
   ]
  },
  {
   "cell_type": "code",
   "execution_count": null,
   "metadata": {
    "collapsed": false
   },
   "outputs": [],
   "source": [
    "start_time =  time.time()\n",
    "print start_time\n",
    "\n",
    "# Color:\n",
    "domi_color_dict = get_domi_color(paths, category)\n",
    "time_1 =  time.time()\n",
    "print 'get_domi_color: ', time_1 - start_time"
   ]
  },
  {
   "cell_type": "markdown",
   "metadata": {},
   "source": [
    "Result from the cell above:\n",
    "1443406617.49\n",
    "gray\n",
    "gray\n",
    "gray\n",
    "gray\n",
    "gray\n",
    "gray\n",
    "get_domi_color:  4405.63884187 (I think the computer went to sleep.....)"
   ]
  },
  {
   "cell_type": "code",
   "execution_count": 25,
   "metadata": {
    "collapsed": false
   },
   "outputs": [
    {
     "data": {
      "text/plain": [
       "1858"
      ]
     },
     "execution_count": 25,
     "metadata": {},
     "output_type": "execute_result"
    }
   ],
   "source": [
    "paths = get_paths(category, white=True)\n",
    "len(paths)"
   ]
  },
  {
   "cell_type": "code",
   "execution_count": 26,
   "metadata": {
    "collapsed": false
   },
   "outputs": [
    {
     "name": "stdout",
     "output_type": "stream",
     "text": [
      "vectorize_color_distribution:  1939.64887285\n"
     ]
    }
   ],
   "source": [
    "time_1 = time.time()\n",
    "color_dist_dict = vectorize_color_distribution(paths, category)\n",
    "time_2 = time.time()\n",
    "print 'vectorize_color_distribution: ', time_2 - time_1"
   ]
  },
  {
   "cell_type": "code",
   "execution_count": 35,
   "metadata": {
    "collapsed": false
   },
   "outputs": [],
   "source": [
    "domi_color_dict_no_false = {}\n",
    "for i in domi_color_dict:\n",
    "    if type(domi_color_dict[i]) != bool:\n",
    "        domi_color_dict_no_false[i] = domi_color_dict[i]"
   ]
  },
  {
   "cell_type": "code",
   "execution_count": 37,
   "metadata": {
    "collapsed": false
   },
   "outputs": [
    {
     "name": "stdout",
     "output_type": "stream",
     "text": [
      "clustering_with_color (domi):  51.2427370548\n",
      "clustering_with_feature (dist):  52.8415369987\n"
     ]
    }
   ],
   "source": [
    "time_2 = time.time()\n",
    "cluster_label_dict_domi, color_domi_centroids = clustering_with_color(domi_color_dict_no_false, category, domi_color=True)\n",
    "time_3 =  time.time()\n",
    "print 'clustering_with_color (domi): ', time_3 - time_2\n",
    "\n",
    "cluster_label_dict_dist, color_dist_centroids = clustering_with_color(color_dist_dict, category, domi_color=False)\n",
    "time_4 =  time.time()\n",
    "print 'clustering_with_color (dist): ', time_4 - time_3"
   ]
  },
  {
   "cell_type": "markdown",
   "metadata": {},
   "source": [
    "# domi_color clustering works better than color_dist (on sofa)!"
   ]
  },
  {
   "cell_type": "code",
   "execution_count": 39,
   "metadata": {
    "collapsed": false
   },
   "outputs": [
    {
     "name": "stdout",
     "output_type": "stream",
     "text": [
      "image_featurizer:  125.657418013\n",
      "clustering_with_feature:  138.967031002\n"
     ]
    }
   ],
   "source": [
    "# Features:\n",
    "feature_dict = image_featurizer(category, edge=False, svd=False)\n",
    "time_5 =  time.time()\n",
    "print 'image_featurizer: ', time_5 - time_4\n",
    "\n",
    "cluster_label_dict_feature, feature_centroids = clustering_with_feature(feature_dict, category, \n",
    "                                                                svd=False, save_image=True, edge=False)\n",
    "time_6 =  time.time()\n",
    "print 'clustering_with_feature: ', time_6 - time_5"
   ]
  },
  {
   "cell_type": "code",
   "execution_count": 40,
   "metadata": {
    "collapsed": false
   },
   "outputs": [
    {
     "name": "stdout",
     "output_type": "stream",
     "text": [
      "image_featurizer (edge):  36.3625459671\n",
      "clustering_with_feature (edge):  113.339905024\n"
     ]
    }
   ],
   "source": [
    "# Edged Features:\n",
    "feature_dict_edge = image_featurizer(category, edge=True, svd=False)\n",
    "time_7 =  time.time()\n",
    "print 'image_featurizer (edge): ', time_7 - time_6\n",
    "\n",
    "cluster_label_dict_edge, feature_centroids_edge = clustering_with_feature(feature_dict_edge, category, \n",
    "                                                                svd=False, save_image=True, edge=True)\n",
    "time_8 =  time.time()\n",
    "print 'clustering_with_feature (edge): ', time_8 - time_7"
   ]
  },
  {
   "cell_type": "code",
   "execution_count": 42,
   "metadata": {
    "collapsed": false
   },
   "outputs": [
    {
     "name": "stdout",
     "output_type": "stream",
     "text": [
      "image_featurizer (svd):  448.625341892\n",
      "clustering_with_feature (svd):  43.4509789944\n"
     ]
    }
   ],
   "source": [
    "# SVDed Features:\n",
    "time_8 =  time.time()\n",
    "feature_dict_svd = image_featurizer(category, edge=False, SVD=True)\n",
    "time_9 =  time.time()\n",
    "print 'image_featurizer (svd): ', time_9 - time_8\n",
    "\n",
    "cluster_label_dict_svd, feature_centroids_svd = clustering_with_feature(feature_dict_svd, category, n_clusters=6, \n",
    "                                                                SVD=True, save_image=True, edge=False)\n",
    "time_10 =  time.time()\n",
    "print 'clustering_with_feature (svd): ', time_10 - time_9"
   ]
  },
  {
   "cell_type": "markdown",
   "metadata": {},
   "source": [
    "# To do: \n",
    "* check & compare feature clustering results (general, edge & svd)\n",
    "* do edge&svd ?"
   ]
  },
  {
   "cell_type": "code",
   "execution_count": null,
   "metadata": {
    "collapsed": true
   },
   "outputs": [],
   "source": []
  }
 ],
 "metadata": {
  "kernelspec": {
   "display_name": "Python 2",
   "language": "python",
   "name": "python2"
  },
  "language_info": {
   "codemirror_mode": {
    "name": "ipython",
    "version": 2
   },
   "file_extension": ".py",
   "mimetype": "text/x-python",
   "name": "python",
   "nbconvert_exporter": "python",
   "pygments_lexer": "ipython2",
   "version": "2.7.10"
  }
 },
 "nbformat": 4,
 "nbformat_minor": 0
}
