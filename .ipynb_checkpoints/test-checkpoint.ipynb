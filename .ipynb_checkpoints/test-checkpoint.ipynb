{
 "cells": [
  {
   "cell_type": "code",
   "execution_count": 2,
   "metadata": {
    "collapsed": true
   },
   "outputs": [],
   "source": [
    "import pandas as pd"
   ]
  },
  {
   "cell_type": "code",
   "execution_count": 7,
   "metadata": {
    "collapsed": true
   },
   "outputs": [],
   "source": [
    "a = {'aa':1, 'bb': 2}\n",
    "b = {'cc':1, 'bb': 2}"
   ]
  },
  {
   "cell_type": "code",
   "execution_count": 8,
   "metadata": {
    "collapsed": false
   },
   "outputs": [
    {
     "data": {
      "text/html": [
       "<div>\n",
       "<table border=\"1\" class=\"dataframe\">\n",
       "  <thead>\n",
       "    <tr style=\"text-align: right;\">\n",
       "      <th></th>\n",
       "      <th>aa</th>\n",
       "      <th>bb</th>\n",
       "    </tr>\n",
       "  </thead>\n",
       "  <tbody>\n",
       "    <tr>\n",
       "      <th>0</th>\n",
       "      <td>1</td>\n",
       "      <td>2</td>\n",
       "    </tr>\n",
       "  </tbody>\n",
       "</table>\n",
       "</div>"
      ],
      "text/plain": [
       "   aa  bb\n",
       "0   1   2"
      ]
     },
     "execution_count": 8,
     "metadata": {},
     "output_type": "execute_result"
    }
   ],
   "source": [
    "a = pd.DataFrame([a])\n",
    "a"
   ]
  },
  {
   "cell_type": "code",
   "execution_count": 9,
   "metadata": {
    "collapsed": false
   },
   "outputs": [
    {
     "data": {
      "text/html": [
       "<div>\n",
       "<table border=\"1\" class=\"dataframe\">\n",
       "  <thead>\n",
       "    <tr style=\"text-align: right;\">\n",
       "      <th></th>\n",
       "      <th>bb</th>\n",
       "      <th>cc</th>\n",
       "    </tr>\n",
       "  </thead>\n",
       "  <tbody>\n",
       "    <tr>\n",
       "      <th>0</th>\n",
       "      <td>2</td>\n",
       "      <td>1</td>\n",
       "    </tr>\n",
       "  </tbody>\n",
       "</table>\n",
       "</div>"
      ],
      "text/plain": [
       "   bb  cc\n",
       "0   2   1"
      ]
     },
     "execution_count": 9,
     "metadata": {},
     "output_type": "execute_result"
    }
   ],
   "source": [
    "b = pd.DataFrame([b])\n",
    "b"
   ]
  },
  {
   "cell_type": "code",
   "execution_count": 10,
   "metadata": {
    "collapsed": false
   },
   "outputs": [
    {
     "data": {
      "text/html": [
       "<div>\n",
       "<table border=\"1\" class=\"dataframe\">\n",
       "  <thead>\n",
       "    <tr style=\"text-align: right;\">\n",
       "      <th></th>\n",
       "      <th>aa</th>\n",
       "      <th>bb</th>\n",
       "      <th>cc</th>\n",
       "    </tr>\n",
       "  </thead>\n",
       "  <tbody>\n",
       "    <tr>\n",
       "      <th>0</th>\n",
       "      <td>1</td>\n",
       "      <td>2</td>\n",
       "      <td>NaN</td>\n",
       "    </tr>\n",
       "    <tr>\n",
       "      <th>0</th>\n",
       "      <td>NaN</td>\n",
       "      <td>2</td>\n",
       "      <td>1</td>\n",
       "    </tr>\n",
       "  </tbody>\n",
       "</table>\n",
       "</div>"
      ],
      "text/plain": [
       "   aa  bb  cc\n",
       "0   1   2 NaN\n",
       "0 NaN   2   1"
      ]
     },
     "execution_count": 10,
     "metadata": {},
     "output_type": "execute_result"
    }
   ],
   "source": [
    "pd.concat([a,b])"
   ]
  },
  {
   "cell_type": "code",
   "execution_count": 1,
   "metadata": {
    "collapsed": false
   },
   "outputs": [
    {
     "data": {
      "text/plain": [
       "[3, 2, 1]"
      ]
     },
     "execution_count": 1,
     "metadata": {},
     "output_type": "execute_result"
    }
   ],
   "source": [
    "c = [1,2,3]\n",
    "c[::-1]"
   ]
  },
  {
   "cell_type": "markdown",
   "metadata": {},
   "source": [
    "# Playing with saved data:"
   ]
  },
  {
   "cell_type": "code",
   "execution_count": 3,
   "metadata": {
    "collapsed": false
   },
   "outputs": [],
   "source": [
    "sofa_df_reload = pd.read_json('wayfair/sofa.json')"
   ]
  },
  {
   "cell_type": "code",
   "execution_count": 12,
   "metadata": {
    "collapsed": false
   },
   "outputs": [
    {
     "data": {
      "text/html": [
       "<div>\n",
       "<table border=\"1\" class=\"dataframe\">\n",
       "  <thead>\n",
       "    <tr style=\"text-align: right;\">\n",
       "      <th></th>\n",
       "      <th>category</th>\n",
       "      <th>colors</th>\n",
       "      <th>description</th>\n",
       "      <th>features</th>\n",
       "      <th>image_links_all</th>\n",
       "      <th>image_links_by_color</th>\n",
       "      <th>manufacturer</th>\n",
       "      <th>price</th>\n",
       "      <th>product_id</th>\n",
       "      <th>rating_avg</th>\n",
       "      <th>rating_count</th>\n",
       "      <th>specs</th>\n",
       "      <th>title</th>\n",
       "      <th>url</th>\n",
       "      <th>website</th>\n",
       "    </tr>\n",
       "  </thead>\n",
       "  <tbody>\n",
       "    <tr>\n",
       "      <th>0</th>\n",
       "      <td>sofa</td>\n",
       "      <td>[Cobblestone, Café, Mocha, Sage, Salsa, Stone]</td>\n",
       "      <td>Add a touch of comfort and style to your home ...</td>\n",
       "      <td>[\\nFeatures\\n\\nHarvest collection\\nMaterial: 1...</td>\n",
       "      <td>[https://secure.img2.wfrcdn.com/lf/49/hash/266...</td>\n",
       "      <td>{u'Stone': [u'https://secure.img2.wfrcdn.com/l...</td>\n",
       "      <td>Signature Design by Ashley</td>\n",
       "      <td>$357.99</td>\n",
       "      <td>GNT3224</td>\n",
       "      <td>4.4</td>\n",
       "      <td>115</td>\n",
       "      <td>\\nWeights &amp; Dimensions\\n\\n\\n\\n            Over...</td>\n",
       "      <td>Harvest Sofa</td>\n",
       "      <td>http://www.wayfair.com/Harvest-Sofa-7500-GNT32...</td>\n",
       "      <td>wayfair</td>\n",
       "    </tr>\n",
       "    <tr>\n",
       "      <th>1</th>\n",
       "      <td>sofa</td>\n",
       "      <td>[Blue Linen / Chevron, Blue Linen / Greek Key,...</td>\n",
       "      <td>Sleeping on the sofa has never been so chic. S...</td>\n",
       "      <td>[\\nFeatures\\n\\nMaterial: 100% Polyester Linen\\...</td>\n",
       "      <td>[https://secure.img1.wfrcdn.com/lf/49/hash/338...</td>\n",
       "      <td>{u'Blue Linen / Chevron': [u'https://secure.im...</td>\n",
       "      <td>Mercury Row</td>\n",
       "      <td>$529.99</td>\n",
       "      <td>MCRR1650</td>\n",
       "      <td>4.1</td>\n",
       "      <td>189</td>\n",
       "      <td>\\nWeights &amp; Dimensions\\nSeat Cushion\\n\\n\\n    ...</td>\n",
       "      <td>Convertible Sleeper Sofa</td>\n",
       "      <td>http://www.wayfair.com/Convertible-Sleeper-Sof...</td>\n",
       "      <td>wayfair</td>\n",
       "    </tr>\n",
       "    <tr>\n",
       "      <th>10</th>\n",
       "      <td>sofa</td>\n",
       "      <td>[Purple, Red, Brown, Dark Grey, Grey]</td>\n",
       "      <td>This luxurious sofa merging with style and ele...</td>\n",
       "      <td>[\\nFeatures\\n\\nCarthusia collection\\nRubberwoo...</td>\n",
       "      <td>[https://secure.img2.wfrcdn.com/lf/49/hash/296...</td>\n",
       "      <td>{u'Purple': [u'https://secure.img2.wfrcdn.com/...</td>\n",
       "      <td>Kingstown Home</td>\n",
       "      <td>$829.99</td>\n",
       "      <td>KMDS1431</td>\n",
       "      <td>4.5</td>\n",
       "      <td>91</td>\n",
       "      <td>\\nWeights &amp; Dimensions\\nSeat Cushion\\n\\n\\n    ...</td>\n",
       "      <td>Carthusia Sofa</td>\n",
       "      <td>http://www.wayfair.com/Kingstown-Home-Carthusi...</td>\n",
       "      <td>wayfair</td>\n",
       "    </tr>\n",
       "    <tr>\n",
       "      <th>100</th>\n",
       "      <td>sofa</td>\n",
       "      <td>[Ash, Graphite, Natural]</td>\n",
       "      <td>tion’s mid-century modern design is masterfull...</td>\n",
       "      <td>[\\nFeatures\\n\\nCovered in durable, easy-to-cle...</td>\n",
       "      <td>[https://secure.img1.wfrcdn.com/lf/49/hash/384...</td>\n",
       "      <td>{u'Graphite': [u'https://secure.img1.wfrcdn.co...</td>\n",
       "      <td>Carolina Accents</td>\n",
       "      <td>$189.99</td>\n",
       "      <td>ENT1245</td>\n",
       "      <td>4.5</td>\n",
       "      <td>77</td>\n",
       "      <td>\\nWeights &amp; Dimensions\\n\\n\\n\\n            Over...</td>\n",
       "      <td>Makenzie Loveseat</td>\n",
       "      <td>http://www.wayfair.com/Carolina-Accents-Makenz...</td>\n",
       "      <td>wayfair</td>\n",
       "    </tr>\n",
       "    <tr>\n",
       "      <th>101</th>\n",
       "      <td>sofa</td>\n",
       "      <td>[Greenwich Ivory, Greenwich Pecan, Greenwich L...</td>\n",
       "      <td>Casual and comfy, the Smith Loveseat offers an...</td>\n",
       "      <td>[\\nFeatures\\n\\nLoose back and seat cushions\\nH...</td>\n",
       "      <td>[https://secure.img1.wfrcdn.com/lf/49/hash/308...</td>\n",
       "      <td>{u'Greenwich Pecan': [u'https://secure.img1.wf...</td>\n",
       "      <td>Andover Mills</td>\n",
       "      <td>$289.99</td>\n",
       "      <td>ANDO1550</td>\n",
       "      <td>4.5</td>\n",
       "      <td>10</td>\n",
       "      <td>\\nWeights &amp; Dimensions\\n\\n\\n\\n            Over...</td>\n",
       "      <td>Smith Loveseat</td>\n",
       "      <td>http://www.wayfair.com/Smith-Loveseat-ANDO1550...</td>\n",
       "      <td>wayfair</td>\n",
       "    </tr>\n",
       "  </tbody>\n",
       "</table>\n",
       "</div>"
      ],
      "text/plain": [
       "    category                                             colors  \\\n",
       "0       sofa     [Cobblestone, Café, Mocha, Sage, Salsa, Stone]   \n",
       "1       sofa  [Blue Linen / Chevron, Blue Linen / Greek Key,...   \n",
       "10      sofa              [Purple, Red, Brown, Dark Grey, Grey]   \n",
       "100     sofa                           [Ash, Graphite, Natural]   \n",
       "101     sofa  [Greenwich Ivory, Greenwich Pecan, Greenwich L...   \n",
       "\n",
       "                                           description  \\\n",
       "0    Add a touch of comfort and style to your home ...   \n",
       "1    Sleeping on the sofa has never been so chic. S...   \n",
       "10   This luxurious sofa merging with style and ele...   \n",
       "100  tion’s mid-century modern design is masterfull...   \n",
       "101  Casual and comfy, the Smith Loveseat offers an...   \n",
       "\n",
       "                                              features  \\\n",
       "0    [\\nFeatures\\n\\nHarvest collection\\nMaterial: 1...   \n",
       "1    [\\nFeatures\\n\\nMaterial: 100% Polyester Linen\\...   \n",
       "10   [\\nFeatures\\n\\nCarthusia collection\\nRubberwoo...   \n",
       "100  [\\nFeatures\\n\\nCovered in durable, easy-to-cle...   \n",
       "101  [\\nFeatures\\n\\nLoose back and seat cushions\\nH...   \n",
       "\n",
       "                                       image_links_all  \\\n",
       "0    [https://secure.img2.wfrcdn.com/lf/49/hash/266...   \n",
       "1    [https://secure.img1.wfrcdn.com/lf/49/hash/338...   \n",
       "10   [https://secure.img2.wfrcdn.com/lf/49/hash/296...   \n",
       "100  [https://secure.img1.wfrcdn.com/lf/49/hash/384...   \n",
       "101  [https://secure.img1.wfrcdn.com/lf/49/hash/308...   \n",
       "\n",
       "                                  image_links_by_color  \\\n",
       "0    {u'Stone': [u'https://secure.img2.wfrcdn.com/l...   \n",
       "1    {u'Blue Linen / Chevron': [u'https://secure.im...   \n",
       "10   {u'Purple': [u'https://secure.img2.wfrcdn.com/...   \n",
       "100  {u'Graphite': [u'https://secure.img1.wfrcdn.co...   \n",
       "101  {u'Greenwich Pecan': [u'https://secure.img1.wf...   \n",
       "\n",
       "                   manufacturer    price product_id  rating_avg  rating_count  \\\n",
       "0    Signature Design by Ashley  $357.99    GNT3224         4.4           115   \n",
       "1                   Mercury Row  $529.99   MCRR1650         4.1           189   \n",
       "10               Kingstown Home  $829.99   KMDS1431         4.5            91   \n",
       "100            Carolina Accents  $189.99    ENT1245         4.5            77   \n",
       "101               Andover Mills  $289.99   ANDO1550         4.5            10   \n",
       "\n",
       "                                                 specs  \\\n",
       "0    \\nWeights & Dimensions\\n\\n\\n\\n            Over...   \n",
       "1    \\nWeights & Dimensions\\nSeat Cushion\\n\\n\\n    ...   \n",
       "10   \\nWeights & Dimensions\\nSeat Cushion\\n\\n\\n    ...   \n",
       "100  \\nWeights & Dimensions\\n\\n\\n\\n            Over...   \n",
       "101  \\nWeights & Dimensions\\n\\n\\n\\n            Over...   \n",
       "\n",
       "                        title  \\\n",
       "0                Harvest Sofa   \n",
       "1    Convertible Sleeper Sofa   \n",
       "10             Carthusia Sofa   \n",
       "100         Makenzie Loveseat   \n",
       "101            Smith Loveseat   \n",
       "\n",
       "                                                   url  website  \n",
       "0    http://www.wayfair.com/Harvest-Sofa-7500-GNT32...  wayfair  \n",
       "1    http://www.wayfair.com/Convertible-Sleeper-Sof...  wayfair  \n",
       "10   http://www.wayfair.com/Kingstown-Home-Carthusi...  wayfair  \n",
       "100  http://www.wayfair.com/Carolina-Accents-Makenz...  wayfair  \n",
       "101  http://www.wayfair.com/Smith-Loveseat-ANDO1550...  wayfair  "
      ]
     },
     "execution_count": 12,
     "metadata": {},
     "output_type": "execute_result"
    }
   ],
   "source": [
    "sofa_df_reload.head()"
   ]
  },
  {
   "cell_type": "code",
   "execution_count": 42,
   "metadata": {
    "collapsed": false
   },
   "outputs": [],
   "source": [
    "sofa_df_reload['product_id'] = sofa_df_reload['product_id'].apply(lambda x: str(x).strip())"
   ]
  },
  {
   "cell_type": "code",
   "execution_count": 46,
   "metadata": {
    "collapsed": false
   },
   "outputs": [
    {
     "data": {
      "text/html": [
       "<div>\n",
       "<table border=\"1\" class=\"dataframe\">\n",
       "  <thead>\n",
       "    <tr style=\"text-align: right;\">\n",
       "      <th></th>\n",
       "      <th>category</th>\n",
       "      <th>colors</th>\n",
       "      <th>description</th>\n",
       "      <th>features</th>\n",
       "      <th>image_links_all</th>\n",
       "      <th>image_links_by_color</th>\n",
       "      <th>manufacturer</th>\n",
       "      <th>price</th>\n",
       "      <th>product_id</th>\n",
       "      <th>rating_avg</th>\n",
       "      <th>rating_count</th>\n",
       "      <th>specs</th>\n",
       "      <th>title</th>\n",
       "      <th>url</th>\n",
       "      <th>website</th>\n",
       "    </tr>\n",
       "  </thead>\n",
       "  <tbody>\n",
       "    <tr>\n",
       "      <th>69</th>\n",
       "      <td>sofa</td>\n",
       "      <td>[Azure, Granite, Gray, Lagua, Oatmeal, Red, Wh...</td>\n",
       "      <td>End the rule of unjust sovereignties that wage...</td>\n",
       "      <td>[\\nFeatures\\n\\nPolyester upholstery\\nSolid woo...</td>\n",
       "      <td>[https://secure.img1.wfrcdn.com/lf/49/hash/192...</td>\n",
       "      <td>{u'Gray': [u'https://secure.img1.wfrcdn.com/lf...</td>\n",
       "      <td>Modway</td>\n",
       "      <td>$819.99</td>\n",
       "      <td>FOW2014</td>\n",
       "      <td>4.6</td>\n",
       "      <td>14</td>\n",
       "      <td>\\nWeights &amp; Dimensions\\nSeat Cushion\\n\\n\\n    ...</td>\n",
       "      <td>Empress Sofa</td>\n",
       "      <td>http://www.wayfair.com/Modway-Empress-Sofa-EEI...</td>\n",
       "      <td>wayfair</td>\n",
       "    </tr>\n",
       "  </tbody>\n",
       "</table>\n",
       "</div>"
      ],
      "text/plain": [
       "   category                                             colors  \\\n",
       "69     sofa  [Azure, Granite, Gray, Lagua, Oatmeal, Red, Wh...   \n",
       "\n",
       "                                          description  \\\n",
       "69  End the rule of unjust sovereignties that wage...   \n",
       "\n",
       "                                             features  \\\n",
       "69  [\\nFeatures\\n\\nPolyester upholstery\\nSolid woo...   \n",
       "\n",
       "                                      image_links_all  \\\n",
       "69  [https://secure.img1.wfrcdn.com/lf/49/hash/192...   \n",
       "\n",
       "                                 image_links_by_color manufacturer    price  \\\n",
       "69  {u'Gray': [u'https://secure.img1.wfrcdn.com/lf...       Modway  $819.99   \n",
       "\n",
       "   product_id  rating_avg  rating_count  \\\n",
       "69    FOW2014         4.6            14   \n",
       "\n",
       "                                                specs         title  \\\n",
       "69  \\nWeights & Dimensions\\nSeat Cushion\\n\\n\\n    ...  Empress Sofa   \n",
       "\n",
       "                                                  url  website  \n",
       "69  http://www.wayfair.com/Modway-Empress-Sofa-EEI...  wayfair  "
      ]
     },
     "execution_count": 46,
     "metadata": {},
     "output_type": "execute_result"
    }
   ],
   "source": [
    "sofa_df_reload[sofa_df_reload['product_id'] == 'FOW2014']"
   ]
  },
  {
   "cell_type": "code",
   "execution_count": 48,
   "metadata": {
    "collapsed": false
   },
   "outputs": [],
   "source": [
    "df_FOW2014 = sofa_df_reload[sofa_df_reload['url'] == 'http://www.wayfair.com/Modway-Empress-Sofa-EEI-1011-FOW2014.html']"
   ]
  },
  {
   "cell_type": "code",
   "execution_count": 52,
   "metadata": {
    "collapsed": false
   },
   "outputs": [
    {
     "data": {
      "text/plain": [
       "28"
      ]
     },
     "execution_count": 52,
     "metadata": {},
     "output_type": "execute_result"
    }
   ],
   "source": [
    "len(df_FOW2014.image_links_all.values[0])"
   ]
  },
  {
   "cell_type": "code",
   "execution_count": 4,
   "metadata": {
    "collapsed": false
   },
   "outputs": [],
   "source": [
    "bed_df_reload = pd.read_json('wayfair/bed.json')"
   ]
  },
  {
   "cell_type": "code",
   "execution_count": 5,
   "metadata": {
    "collapsed": false
   },
   "outputs": [
    {
     "data": {
      "text/plain": [
       "(171, 15)"
      ]
     },
     "execution_count": 5,
     "metadata": {},
     "output_type": "execute_result"
    }
   ],
   "source": [
    "bed_df_reload[bed_df_reload['features'].apply(lambda x:len(x) == 0)].shape"
   ]
  },
  {
   "cell_type": "markdown",
   "metadata": {},
   "source": [
    "# try downloading & saving images from online:"
   ]
  },
  {
   "cell_type": "code",
   "execution_count": 22,
   "metadata": {
    "collapsed": false
   },
   "outputs": [
    {
     "data": {
      "text/plain": [
       "'GNT3224'"
      ]
     },
     "execution_count": 22,
     "metadata": {},
     "output_type": "execute_result"
    }
   ],
   "source": [
    "p_id = str(sofa_df_reload.iloc[0,:].product_id.strip())\n",
    "p_id"
   ]
  },
  {
   "cell_type": "code",
   "execution_count": 24,
   "metadata": {
    "collapsed": false
   },
   "outputs": [
    {
     "data": {
      "text/plain": [
       "[u'https://secure.img2.wfrcdn.com/lf/49/hash/2668/18120165/1/Harvest-Sofa-7500.jpg',\n",
       " u'https://secure.img2.wfrcdn.com/lf/49/hash/2668/10651335/1/Harvest-Sofa-7500.jpg',\n",
       " u'https://secure.img1.wfrcdn.com/lf/49/hash/2668/18120162/1/Harvest-Sofa-7500.jpg',\n",
       " u'https://secure.img2.wfrcdn.com/lf/49/hash/2668/14097665/1/Harvest%2BSofa.jpg',\n",
       " u'https://secure.img1.wfrcdn.com/lf/49/hash/2668/18150158/1/Harvest-Sofa-7500.jpg']"
      ]
     },
     "execution_count": 24,
     "metadata": {},
     "output_type": "execute_result"
    }
   ],
   "source": [
    "img_links = sofa_df_reload.iloc[0,:].image_links_all\n",
    "img_links[:5]"
   ]
  },
  {
   "cell_type": "code",
   "execution_count": 34,
   "metadata": {
    "collapsed": false
   },
   "outputs": [
    {
     "data": {
      "text/plain": [
       "30"
      ]
     },
     "execution_count": 34,
     "metadata": {},
     "output_type": "execute_result"
    }
   ],
   "source": [
    "len(img_links)"
   ]
  },
  {
   "cell_type": "code",
   "execution_count": 35,
   "metadata": {
    "collapsed": false
   },
   "outputs": [
    {
     "data": {
      "text/plain": [
       "30"
      ]
     },
     "execution_count": 35,
     "metadata": {},
     "output_type": "execute_result"
    }
   ],
   "source": [
    "len(list(set(img_links)))"
   ]
  },
  {
   "cell_type": "code",
   "execution_count": 31,
   "metadata": {
    "collapsed": false
   },
   "outputs": [
    {
     "data": {
      "text/plain": [
       "('wayfair/images/sofa/GNT3224_0.jpg',\n",
       " <httplib.HTTPMessage instance at 0x107e58638>)"
      ]
     },
     "execution_count": 31,
     "metadata": {},
     "output_type": "execute_result"
    }
   ],
   "source": [
    "import urllib\n",
    "image = urllib.URLopener()\n",
    "image.retrieve(img_links[0], 'wayfair/images/sofa/%s_%s.jpg' % (p_id, '0'))"
   ]
  },
  {
   "cell_type": "code",
   "execution_count": 33,
   "metadata": {
    "collapsed": true
   },
   "outputs": [],
   "source": [
    "for i, link in enumerate(img_links):\n",
    "    image.retrieve(link, 'wayfair/images/sofa/%s_%s.jpg' % (p_id, str(i)))"
   ]
  },
  {
   "cell_type": "code",
   "execution_count": null,
   "metadata": {
    "collapsed": true
   },
   "outputs": [],
   "source": []
  },
  {
   "cell_type": "code",
   "execution_count": 4,
   "metadata": {
    "collapsed": false
   },
   "outputs": [
    {
     "data": {
      "text/html": [
       "<script>\n",
       "code_show=true; \n",
       "function code_toggle() {\n",
       " if (code_show){\n",
       " $('div.input').hide();\n",
       " } else {\n",
       " $('div.input').show();\n",
       " }\n",
       " code_show = !code_show\n",
       "} \n",
       "$( document ).ready(code_toggle);\n",
       "</script>\n",
       "The raw code for this IPython notebook is by default hidden for easier reading.\n",
       "To toggle on/off the raw code, click <a href=\"javascript:code_toggle()\">here</a>."
      ],
      "text/plain": [
       "<IPython.core.display.HTML object>"
      ]
     },
     "execution_count": 4,
     "metadata": {},
     "output_type": "execute_result"
    }
   ],
   "source": [
    "from IPython.display import HTML\n",
    "\n",
    "HTML('''<script>\n",
    "code_show=true; \n",
    "function code_toggle() {\n",
    " if (code_show){\n",
    " $('div.input').hide();\n",
    " } else {\n",
    " $('div.input').show();\n",
    " }\n",
    " code_show = !code_show\n",
    "} \n",
    "$( document ).ready(code_toggle);\n",
    "</script>\n",
    "The raw code for this IPython notebook is by default hidden for easier reading.\n",
    "To toggle on/off the raw code, click <a href=\"javascript:code_toggle()\">here</a>.''')"
   ]
  },
  {
   "cell_type": "code",
   "execution_count": null,
   "metadata": {
    "collapsed": true
   },
   "outputs": [],
   "source": []
  },
  {
   "cell_type": "code",
   "execution_count": 8,
   "metadata": {
    "collapsed": true
   },
   "outputs": [],
   "source": [
    "import skimage\n",
    "from skimage.io import imread\n",
    "from image_processing_app import get_domi_color_new_image\n",
    "% matplotlib inline"
   ]
  },
  {
   "cell_type": "code",
   "execution_count": 14,
   "metadata": {
    "collapsed": false
   },
   "outputs": [],
   "source": [
    "test = imread('http://images.crateandbarrel.com/is/image/Crate/Dryden2StQSlpDiamndPrssnF15_trm?$web_zoom_furn_colormap$')"
   ]
  },
  {
   "cell_type": "code",
   "execution_count": 15,
   "metadata": {
    "collapsed": false
   },
   "outputs": [
    {
     "data": {
      "text/plain": [
       "<matplotlib.image.AxesImage at 0x11212fa90>"
      ]
     },
     "execution_count": 15,
     "metadata": {},
     "output_type": "execute_result"
    },
    {
     "data": {
      "image/png": "[encoded data removed]",
      "text/plain": [
       "<matplotlib.figure.Figure at 0x10ec62310>"
      ]
     },
     "metadata": {},
     "output_type": "display_data"
    }
   ],
   "source": [
    "skimage.io.imshow(test)"
   ]
  },
  {
   "cell_type": "code",
   "execution_count": 16,
   "metadata": {
    "collapsed": false
   },
   "outputs": [
    {
     "data": {
      "text/plain": [
       "<matplotlib.image.AxesImage at 0x1127ee110>"
      ]
     },
     "execution_count": 16,
     "metadata": {},
     "output_type": "execute_result"
    },
    {
     "data": {
      "image/png": "[encoded data removed]",
      "text/plain": [
       "<matplotlib.figure.Figure at 0x10eb1a290>"
      ]
     },
     "metadata": {},
     "output_type": "display_data"
    }
   ],
   "source": [
    "color = get_domi_color_new_image(test)\n",
    "color = color.reshape((1,1,3))\n",
    "skimage.io.imshow(color)"
   ]
  },
  {
   "cell_type": "code",
   "execution_count": 17,
   "metadata": {
    "collapsed": true
   },
   "outputs": [],
   "source": [
    "import pandas as pd"
   ]
  },
  {
   "cell_type": "code",
   "execution_count": 31,
   "metadata": {
    "collapsed": false
   },
   "outputs": [
    {
     "data": {
      "text/plain": [
       "array([0])"
      ]
     },
     "execution_count": 31,
     "metadata": {},
     "output_type": "execute_result"
    }
   ],
   "source": [
    "df = pd.DataFrame({'product_id': {0: 0}})\n",
    "df['product_id'].values"
   ]
  },
  {
   "cell_type": "code",
   "execution_count": null,
   "metadata": {
    "collapsed": true
   },
   "outputs": [],
   "source": []
  }
 ],
 "metadata": {
  "kernelspec": {
   "display_name": "Python 2",
   "language": "python",
   "name": "python2"
  },
  "language_info": {
   "codemirror_mode": {
    "name": "ipython",
    "version": 2
   },
   "file_extension": ".py",
   "mimetype": "text/x-python",
   "name": "python",
   "nbconvert_exporter": "python",
   "pygments_lexer": "ipython2",
   "version": "2.7.10"
  }
 },
 "nbformat": 4,
 "nbformat_minor": 0
}
