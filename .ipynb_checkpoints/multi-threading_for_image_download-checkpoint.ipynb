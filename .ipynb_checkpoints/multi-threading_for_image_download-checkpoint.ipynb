{
 "cells": [
  {
   "cell_type": "code",
   "execution_count": 1,
   "metadata": {
    "collapsed": true
   },
   "outputs": [],
   "source": [
    "from bs4 import BeautifulSoup\n",
    "from urllib2 import urlopen\n",
    "from time import sleep\n",
    "import pandas as pd\n",
    "import random\n",
    "import urllib\n",
    "import time \n",
    "import threading"
   ]
  },
  {
   "cell_type": "code",
   "execution_count": 2,
   "metadata": {
    "collapsed": true
   },
   "outputs": [],
   "source": [
    "image = urllib.URLopener()"
   ]
  },
  {
   "cell_type": "code",
   "execution_count": 3,
   "metadata": {
    "collapsed": true
   },
   "outputs": [],
   "source": [
    "dresser_df = pd.read_json('wayfair/dresser.json')"
   ]
  },
  {
   "cell_type": "code",
   "execution_count": 4,
   "metadata": {
    "collapsed": true
   },
   "outputs": [],
   "source": [
    "desk_df = pd.read_json('wayfair/desk.json')\n",
    "office_chair_df = pd.read_json('wayfair/office_chair.json')\n",
    "bookcase_df = pd.read_json('wayfair/bookcase.json')\n",
    "dining_table_df = pd.read_json('wayfair/dining_table.json')\n",
    "dining_chair_df = pd.read_json('wayfair/dining_chair.json')\n",
    "bed_df = pd.read_json('wayfair/bed.json')\n",
    "nightstand_df = pd.read_json('wayfair/nightstand.json')"
   ]
  },
  {
   "cell_type": "markdown",
   "metadata": {},
   "source": [
    "# Dresser - done downloading"
   ]
  },
  {
   "cell_type": "code",
   "execution_count": 17,
   "metadata": {
    "collapsed": false
   },
   "outputs": [
    {
     "data": {
      "text/plain": [
       "1008"
      ]
     },
     "execution_count": 17,
     "metadata": {},
     "output_type": "execute_result"
    }
   ],
   "source": [
    "len(dresser_df.index.values)"
   ]
  },
  {
   "cell_type": "code",
   "execution_count": 18,
   "metadata": {
    "collapsed": true
   },
   "outputs": [],
   "source": [
    "index = dresser_df.index.values"
   ]
  },
  {
   "cell_type": "code",
   "execution_count": 19,
   "metadata": {
    "collapsed": false
   },
   "outputs": [
    {
     "data": {
      "text/plain": [
       "array([    0.,     1.,    10.,   100.,  1000.])"
      ]
     },
     "execution_count": 19,
     "metadata": {},
     "output_type": "execute_result"
    }
   ],
   "source": [
    "index[:5]"
   ]
  },
  {
   "cell_type": "code",
   "execution_count": 39,
   "metadata": {
    "collapsed": true
   },
   "outputs": [],
   "source": [
    "def download_image(indices):\n",
    "    for i in indices:\n",
    "        i = int(i)\n",
    "        product_id = str(dresser_df.ix[i,'product_id'].strip())\n",
    "        img_links = dresser_df.ix[i,'image_links_all']\n",
    "\n",
    "        for j, link in enumerate(img_links):\n",
    "            image.retrieve(link, 'wayfair/images/dresser/dresser_%s_%s.jpg' % (product_id, str(j)))\n",
    "\n",
    "        if i % 20 == 0:\n",
    "            print i"
   ]
  },
  {
   "cell_type": "markdown",
   "metadata": {},
   "source": [
    "Start time: 8:38"
   ]
  },
  {
   "cell_type": "code",
   "execution_count": 40,
   "metadata": {
    "collapsed": false
   },
   "outputs": [
    {
     "name": "stdout",
     "output_type": "stream",
     "text": [
      "0\n",
      "100\n",
      "1000\n",
      "280\n",
      "820\n",
      "460\n",
      "640\n",
      "920\n",
      "20\n",
      "200\n",
      "560\n",
      "380\n",
      "840\n",
      "740\n",
      "480\n",
      "940\n",
      "300\n",
      "220\n",
      "660\n",
      "580\n",
      "760\n",
      "40\n",
      "120\n",
      "400\n",
      "860\n",
      "680\n",
      "500\n",
      "60\n",
      "960\n",
      "600\n",
      "780\n",
      "320\n",
      "240\n",
      "420\n",
      "880\n",
      "700\n",
      "620\n",
      "140\n",
      "80\n",
      "520\n",
      "800\n",
      "980\n",
      "340\n",
      "440\n",
      "900\n",
      "720\n",
      "540\n",
      "260\n",
      "360\n",
      "160\n",
      "180\n"
     ]
    }
   ],
   "source": [
    "threads = []\n",
    "for i in xrange(0, 11):\n",
    "    start = i*100\n",
    "    if (i+1)*100 > 1008:       \n",
    "        end = 1008       \n",
    "    else:\n",
    "        end = (i+1)*100\n",
    "    indices = tuple(index[start:end])\n",
    "    t = threading.Thread(target=download_image, args=(indices,))\n",
    "    threads.append(t)\n",
    "\n",
    "for thread in threads: thread.start()\n",
    "for thread in threads: thread.join()"
   ]
  },
  {
   "cell_type": "code",
   "execution_count": 41,
   "metadata": {
    "collapsed": false
   },
   "outputs": [
    {
     "data": {
      "text/plain": [
       "'Tue Sep 22 20:44:46 2015'"
      ]
     },
     "execution_count": 41,
     "metadata": {},
     "output_type": "execute_result"
    }
   ],
   "source": [
    "time.ctime(time.time())"
   ]
  },
  {
   "cell_type": "markdown",
   "metadata": {},
   "source": [
    "# Desk - failed twice - blocked?"
   ]
  },
  {
   "cell_type": "code",
   "execution_count": 5,
   "metadata": {
    "collapsed": false
   },
   "outputs": [
    {
     "data": {
      "text/plain": [
       "(1008, 15)"
      ]
     },
     "execution_count": 5,
     "metadata": {},
     "output_type": "execute_result"
    }
   ],
   "source": [
    "desk_df.shape"
   ]
  },
  {
   "cell_type": "code",
   "execution_count": 9,
   "metadata": {
    "collapsed": true
   },
   "outputs": [],
   "source": [
    "def download_image_desk(indices):\n",
    "    for i in indices:\n",
    "        i = int(i)\n",
    "        product_id = str(desk_df.ix[i,'product_id'].strip())\n",
    "        img_links = desk_df.ix[i,'image_links_all']\n",
    "\n",
    "        for j, link in enumerate(img_links):\n",
    "            image.retrieve(link, 'wayfair/images/desk_2/desk_%s_%s.jpg' % (product_id, str(j)))"
   ]
  },
  {
   "cell_type": "code",
   "execution_count": 10,
   "metadata": {
    "collapsed": false
   },
   "outputs": [
    {
     "data": {
      "text/plain": [
       "'Tue Sep 22 20:58:32 2015'"
      ]
     },
     "execution_count": 10,
     "metadata": {},
     "output_type": "execute_result"
    }
   ],
   "source": [
    "time.ctime(time.time())"
   ]
  },
  {
   "cell_type": "code",
   "execution_count": 11,
   "metadata": {
    "collapsed": false
   },
   "outputs": [
    {
     "name": "stderr",
     "output_type": "stream",
     "text": [
      "Exception in thread Thread-5:\n",
      "Traceback (most recent call last):\n",
      "  File \"//anaconda/lib/python2.7/threading.py\", line 810, in __bootstrap_inner\n",
      "    self.run()\n",
      "  File \"//anaconda/lib/python2.7/threading.py\", line 763, in run\n",
      "    self.__target(*self.__args, **self.__kwargs)\n",
      "  File \"<ipython-input-9-607ef14c70e4>\", line 8, in download_image_desk\n",
      "    image.retrieve(link, 'wayfair/images/desk_2/desk_%s_%s.jpg' % (product_id, str(j)))\n",
      "  File \"//anaconda/lib/python2.7/urllib.py\", line 245, in retrieve\n",
      "    fp = self.open(url, data)\n",
      "  File \"//anaconda/lib/python2.7/urllib.py\", line 213, in open\n",
      "    return getattr(self, name)(url)\n",
      "  File \"//anaconda/lib/python2.7/urllib.py\", line 457, in open_https\n",
      "    return self.http_error(url, fp, errcode, errmsg, headers)\n",
      "  File \"//anaconda/lib/python2.7/urllib.py\", line 381, in http_error\n",
      "    return self.http_error_default(url, fp, errcode, errmsg, headers)\n",
      "  File \"//anaconda/lib/python2.7/urllib.py\", line 386, in http_error_default\n",
      "    raise IOError, ('http error', errcode, errmsg, headers)\n",
      "IOError: ('http error', 500, 'Internal Server Error', <httplib.HTTPMessage instance at 0x10788d170>)\n",
      "\n",
      "Exception in thread Thread-6:\n",
      "Traceback (most recent call last):\n",
      "  File \"//anaconda/lib/python2.7/threading.py\", line 810, in __bootstrap_inner\n",
      "    self.run()\n",
      "  File \"//anaconda/lib/python2.7/threading.py\", line 763, in run\n",
      "    self.__target(*self.__args, **self.__kwargs)\n",
      "  File \"<ipython-input-9-607ef14c70e4>\", line 8, in download_image_desk\n",
      "    image.retrieve(link, 'wayfair/images/desk_2/desk_%s_%s.jpg' % (product_id, str(j)))\n",
      "  File \"//anaconda/lib/python2.7/urllib.py\", line 245, in retrieve\n",
      "    fp = self.open(url, data)\n",
      "  File \"//anaconda/lib/python2.7/urllib.py\", line 213, in open\n",
      "    return getattr(self, name)(url)\n",
      "  File \"//anaconda/lib/python2.7/urllib.py\", line 457, in open_https\n",
      "    return self.http_error(url, fp, errcode, errmsg, headers)\n",
      "  File \"//anaconda/lib/python2.7/urllib.py\", line 381, in http_error\n",
      "    return self.http_error_default(url, fp, errcode, errmsg, headers)\n",
      "  File \"//anaconda/lib/python2.7/urllib.py\", line 386, in http_error_default\n",
      "    raise IOError, ('http error', errcode, errmsg, headers)\n",
      "IOError: ('http error', 500, 'Internal Server Error', <httplib.HTTPMessage instance at 0x10789db48>)\n",
      "\n"
     ]
    }
   ],
   "source": [
    "index = desk_df.index.values\n",
    "threads = []\n",
    "for i in xrange(0, 11):\n",
    "    start = i*100\n",
    "    if (i+1)*100 > 1008:       \n",
    "        end = 1008       \n",
    "    else:\n",
    "        end = (i+1)*100\n",
    "    indices = tuple(index[start:end])\n",
    "    t = threading.Thread(target=download_image_desk, args=(indices,))\n",
    "    threads.append(t)\n",
    "\n",
    "for thread in threads: thread.start()\n",
    "for thread in threads: thread.join()"
   ]
  },
  {
   "cell_type": "code",
   "execution_count": 12,
   "metadata": {
    "collapsed": false
   },
   "outputs": [
    {
     "data": {
      "text/plain": [
       "'Tue Sep 22 21:04:11 2015'"
      ]
     },
     "execution_count": 12,
     "metadata": {},
     "output_type": "execute_result"
    }
   ],
   "source": [
    "time.ctime(time.time())"
   ]
  },
  {
   "cell_type": "markdown",
   "metadata": {
    "collapsed": true
   },
   "source": [
    "# office_chair - not run"
   ]
  },
  {
   "cell_type": "code",
   "execution_count": null,
   "metadata": {
    "collapsed": true
   },
   "outputs": [],
   "source": [
    "office_chair_df.shape"
   ]
  },
  {
   "cell_type": "code",
   "execution_count": null,
   "metadata": {
    "collapsed": true
   },
   "outputs": [],
   "source": [
    "def download_image_office_chair(indices):\n",
    "    for i in indices:\n",
    "        i = int(i)\n",
    "        product_id = str(office_chair_df.ix[i,'product_id'].strip())\n",
    "        img_links = office_chair_df.ix[i,'image_links_all']\n",
    "\n",
    "        for j, link in enumerate(img_links):\n",
    "            image.retrieve(link, 'wayfair/images/office_chair/office_chair_%s_%s.jpg' % (product_id, str(j)))"
   ]
  },
  {
   "cell_type": "code",
   "execution_count": null,
   "metadata": {
    "collapsed": true
   },
   "outputs": [],
   "source": [
    "index = office_chair_df.index.values\n",
    "threads = []\n",
    "for i in xrange(0, 11):\n",
    "    start = i*100\n",
    "    if (i+1)*100 > 1008:       \n",
    "        end = 1008       \n",
    "    else:\n",
    "        end = (i+1)*100\n",
    "    indices = tuple(index[start:end])\n",
    "    t = threading.Thread(target=download_image_office_chair, args=(indices,))\n",
    "    threads.append(t)\n",
    "\n",
    "for thread in threads: thread.start()\n",
    "for thread in threads: thread.join()"
   ]
  },
  {
   "cell_type": "code",
   "execution_count": null,
   "metadata": {
    "collapsed": true
   },
   "outputs": [],
   "source": []
  },
  {
   "cell_type": "code",
   "execution_count": null,
   "metadata": {
    "collapsed": true
   },
   "outputs": [],
   "source": [
    "bookcase\n"
   ]
  },
  {
   "cell_type": "code",
   "execution_count": null,
   "metadata": {
    "collapsed": true
   },
   "outputs": [],
   "source": []
  },
  {
   "cell_type": "code",
   "execution_count": null,
   "metadata": {
    "collapsed": true
   },
   "outputs": [],
   "source": [
    "dining_table\n"
   ]
  },
  {
   "cell_type": "code",
   "execution_count": null,
   "metadata": {
    "collapsed": true
   },
   "outputs": [],
   "source": []
  },
  {
   "cell_type": "code",
   "execution_count": null,
   "metadata": {
    "collapsed": true
   },
   "outputs": [],
   "source": [
    "dining_chair\n"
   ]
  },
  {
   "cell_type": "code",
   "execution_count": null,
   "metadata": {
    "collapsed": true
   },
   "outputs": [],
   "source": []
  },
  {
   "cell_type": "code",
   "execution_count": null,
   "metadata": {
    "collapsed": true
   },
   "outputs": [],
   "source": [
    "bed\n"
   ]
  },
  {
   "cell_type": "code",
   "execution_count": null,
   "metadata": {
    "collapsed": true
   },
   "outputs": [],
   "source": []
  },
  {
   "cell_type": "code",
   "execution_count": null,
   "metadata": {
    "collapsed": true
   },
   "outputs": [],
   "source": [
    "nightstand"
   ]
  },
  {
   "cell_type": "code",
   "execution_count": null,
   "metadata": {
    "collapsed": true
   },
   "outputs": [],
   "source": []
  }
 ],
 "metadata": {
  "kernelspec": {
   "display_name": "Python 2",
   "language": "python",
   "name": "python2"
  },
  "language_info": {
   "codemirror_mode": {
    "name": "ipython",
    "version": 2
   },
   "file_extension": ".py",
   "mimetype": "text/x-python",
   "name": "python",
   "nbconvert_exporter": "python",
   "pygments_lexer": "ipython2",
   "version": "2.7.10"
  }
 },
 "nbformat": 4,
 "nbformat_minor": 0
}
