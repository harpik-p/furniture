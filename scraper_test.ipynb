{
 "cells": [
  {
   "cell_type": "markdown",
   "metadata": {},
   "source": [
    "## info to scrap (& put in my database):\n",
    "\n",
    "Y - website\n",
    "Y - url link\n",
    "Y - furniture ID\n",
    "Y - manufacturer\n",
    "Y - category\n",
    "Y - title\n",
    "Y - price\n",
    "Y - description\n",
    "Y - image links (all & by color)\n",
    "Y - review_avg\n",
    "Y - review_count"
   ]
  },
  {
   "cell_type": "code",
   "execution_count": 414,
   "metadata": {
    "collapsed": true
   },
   "outputs": [],
   "source": [
    "from bs4 import BeautifulSoup\n",
    "from urllib2 import urlopen\n",
    "from time import sleep\n",
    "import string\n",
    "import collections\n",
    "import pandas as pd\n",
    "import random"
   ]
  },
  {
   "cell_type": "markdown",
   "metadata": {},
   "source": [
    "# Try scrapping index page (sofa)"
   ]
  },
  {
   "cell_type": "code",
   "execution_count": 2,
   "metadata": {
    "collapsed": true
   },
   "outputs": [],
   "source": [
    "sofa_index = 'http://www.wayfair.com/Sofas-C413892.html?&curpage='"
   ]
  },
  {
   "cell_type": "code",
   "execution_count": 5,
   "metadata": {
    "collapsed": false
   },
   "outputs": [],
   "source": [
    "html  = urlopen(sofa_index+'1')\n",
    "soup = BeautifulSoup(html, 'html.parser')"
   ]
  },
  {
   "cell_type": "code",
   "execution_count": 6,
   "metadata": {
    "collapsed": true
   },
   "outputs": [],
   "source": [
    "productbox = soup.findAll('a', {'class':'productbox'})"
   ]
  },
  {
   "cell_type": "code",
   "execution_count": 7,
   "metadata": {
    "collapsed": false
   },
   "outputs": [
    {
     "data": {
      "text/plain": [
       "[<a class=\"productbox fl js-ss-click cleanlink sb_noline js-product-bottom-link js-prod-content sb_prod_content yui3-filter-wrap \" data-click-track=\"ss3301912_sale,browse_product:Superbrowse\" data-sku=\"GNT3224\" href=\"http://www.wayfair.com/Harvest-Sofa-7500-GNT3224.html\" id=\"productbox_GNT3224\">\n",
       " <div class=\"sb_prod_image_wrapper pos_rel js-clipbar_drag \" data-favorites-key=\"GNT3224\" data-favorites-type=\"1\" data-image-url=\"https://secure.img2.wfrcdn.com/lf/79/hash/2668/18120165/1/Harvest%2BSofa.jpg\" data-product-title=\"Harvest Sofa\" data-sku=\"GNT3224\">\n",
       " <div class=\"sb_banner_wrap sbsale_banner heading_font_reg xstext whitetext \">\n",
       "                     Sale\n",
       "       </div>\n",
       " <div class=\"sb_prod_favs_wrap js-sb-favs-icon-wrap hidden-node favs_out\">\n",
       " <span class=\"favs_icon_lt pos_rel pointer inlineblock cleanlink_disabled js-favorites-button js_clipbar_button js-ss-click\" data-click-track=\"SB_Favorites\" data-favorites-key=\"GNT3224\" data-favorites-type=\"1\" data-image-url=\"https://secure.img2.wfrcdn.com/lf/79/hash/2668/18120165/1/Harvest%2BSofa.jpg\" data-product_manufacturer=\"Signature Design by Ashley\" data-product_title=\"Harvest Sofa\">\n",
       " <span class=\"favs_icon_glyph pos_rel\"></span>\n",
       " </span>\n",
       " </div>\n",
       " <div class=\"sb_prod_qv_wrap sbprodoptionswrap favs_out centertext pointer js-sb-qv-btn-wrap hidden-node favs_out\" data-qv-js=\"true\">\n",
       " <input class=\"js-ss-click js-viewmore jq-quickview js-quickview-btn note emphasis ltbodytext pointer quickview_btn wflink viewmoreheadadmin \" data-click-track=\"sb_add_to_cart:SB_quickview\" data-product-block-url=\"/v/product/quick_view?sku=GNT3224&amp;\" type=\"button\" value=\"QUICK VIEW\"/>\n",
       " </div>\n",
       " <img alt=\"Harvest Sofa\" class=\"blocklevel\" height=\"225\" id=\"img_GNT3224\" src=\"https://secure.img2.wfrcdn.com/lf/79/hash/2668/18120165/1/Harvest%2BSofa.jpg\" width=\"225\"/>\n",
       " </div>\n",
       " <div class=\"sb_prod_features borderleft\" data-click-location=\"Product1\">\n",
       " <div class=\"sb_prod_features_container\">\n",
       " <div class=\"emphasis\">\n",
       "               Product Features\n",
       "             </div>\n",
       " <ul class=\"sb_prod_feature_list\">\n",
       " <li class=\"sb_prod_feature_item\">\n",
       "                   Assembly Required: Yes\n",
       "                 </li>\n",
       " <li class=\"sb_prod_feature_item\">\n",
       "                   Overall: 40\" H x 90\" W x 39\" D\n",
       "                 </li>\n",
       " <li class=\"sb_prod_feature_item\">\n",
       "                   Design: Standard\n",
       "                 </li>\n",
       " <li class=\"sb_prod_feature_item\">\n",
       "                   Upholstery Material: Other\n",
       "                 </li>\n",
       " <li class=\"sb_prod_feature_item\">\n",
       "                   Overall Product Weight: 126.2lbs\n",
       "                 </li>\n",
       " </ul>\n",
       " <div class=\"sb_prod_copy\" data-click-location=\"Product1\">\n",
       "                 Add a touch of comfort and style to your home with the Signature Design by Ashley Harvest Sofa. This interesting piece of home decor is manufactured in the Unites States, so you can be rest assured of its quality and make. Thanks to the sinuous spring seating, this sofa keeps your guests comfortable always. Featuring a sturdy frame made from manufactured wood, this sofa is built to last. It is upholstered in 100% polyester fabric that adds a fashionable touch to the sofa. This Harvest Sofa from...\n",
       "               </div>\n",
       " </div>\n",
       " <div class=\"prod_info_collapse\"></div>\n",
       " </div>\n",
       " <div class=\"sb_prod_details_block js-ss-click\" data-click-location=\"Product1\" data-click-track=\"sb_swatch_bottom_product_info_click\">\n",
       " <div class=\"sb_prod_grid_height\">\n",
       " <div class=\"sbprodmoreopts note margin_sm_top margin_sm_bottom\">\n",
       " <span class=\"cleanlink inlineblock js-ss-click sb_swatch_more_link \" data-click-track=\"sb_swatch_more_options_click\" title=\"Harvest Sofa\">\n",
       "             More Options: Color »\n",
       "           </span>\n",
       " </div>\n",
       " <span class=\"sb_names blocklevel cleanlink margin_sm_top\" title=\"Harvest Sofa\">\n",
       " <p class=\"sb_prod_name emphasis\">Harvest Sofa</p>\n",
       " <p class=\"sb_manu_name_solo smtext\">\n",
       "               by Signature Design by Ashley\n",
       "             </p>\n",
       " </span>\n",
       " </div>\n",
       " <div class=\"sb_left_block\">\n",
       " <div class=\"sb_pricing_wrap\">\n",
       " <div class=\"price noticetext sb_noticetext midtitle\"><span class=\"is_price_label\"></span><span class=\"is_price_value\"><span class=\"from_text emphasis wf_bodycolortext note\">from </span>$357.99</span> <span class=\"wasprice wf_bodycolortext deemphasize strike\">$631.42</span></div>\n",
       " </div>\n",
       " <div class=\"sb_shipping_wrap\">\n",
       "         Free Shipping\n",
       "         \n",
       "       </div>\n",
       " <div class=\"reviewbox pos_rel ltbodytext\">\n",
       " <span class=\"stars_wrap review_stars_block_sm pos_rel fl inlineblock cleanlink_disabled stars_sm_10 js-ss-click js-track-event\">\n",
       "      <span class=\"stars_foreground\"></span>\n",
       " </span>\n",
       "   \n",
       "     (115)\n",
       "   \n",
       " </div>\n",
       " </div>\n",
       " </div>\n",
       " </a>,\n",
       " <a class=\"productbox fl js-ss-click cleanlink sb_noline js-product-bottom-link js-prod-content sb_prod_content yui3-filter-wrap \" data-click-track=\"browse_product:Superbrowse\" data-sku=\"THRE1490\" href=\"http://www.wayfair.com/Derry-Sofa-THRE1490-THRE1490.html\" id=\"productbox_THRE1490\">\n",
       " <div class=\"sb_prod_image_wrapper pos_rel js-clipbar_drag \" data-favorites-key=\"THRE1490\" data-favorites-type=\"1\" data-image-url=\"https://secure.img1.wfrcdn.com/lf/79/hash/30973/16888488/1/Derry%2BSofa.jpg\" data-product-title=\"Derry Sofa\" data-sku=\"THRE1490\">\n",
       " <div class=\"sb_prod_favs_wrap js-sb-favs-icon-wrap hidden-node favs_out\">\n",
       " <span class=\"favs_icon_lt pos_rel pointer inlineblock cleanlink_disabled js-favorites-button js_clipbar_button js-ss-click\" data-click-track=\"SB_Favorites\" data-favorites-key=\"THRE1490\" data-favorites-type=\"1\" data-image-url=\"https://secure.img1.wfrcdn.com/lf/79/hash/30973/16888488/1/Derry%2BSofa.jpg\" data-product_manufacturer=\"Three Posts\" data-product_title=\"Derry Sofa\">\n",
       " <span class=\"favs_icon_glyph pos_rel\"></span>\n",
       " </span>\n",
       " </div>\n",
       " <div class=\"sb_prod_qv_wrap sbprodoptionswrap favs_out centertext pointer js-sb-qv-btn-wrap hidden-node favs_out\" data-qv-js=\"true\">\n",
       " <input class=\"js-ss-click js-viewmore jq-quickview js-quickview-btn note emphasis ltbodytext pointer quickview_btn wflink viewmoreheadadmin \" data-click-track=\"sb_add_to_cart:SB_quickview\" data-product-block-url=\"/v/product/quick_view?sku=THRE1490&amp;\" type=\"button\" value=\"QUICK VIEW\"/>\n",
       " </div>\n",
       " <img alt=\"Derry Sofa\" class=\"blocklevel\" height=\"225\" id=\"img_THRE1490\" src=\"https://secure.img1.wfrcdn.com/lf/79/hash/30973/16888488/1/Derry%2BSofa.jpg\" width=\"225\"/>\n",
       " </div>\n",
       " <div class=\"sb_prod_features borderleft\" data-click-location=\"Product2\">\n",
       " <div class=\"sb_prod_features_container\">\n",
       " <div class=\"emphasis\">\n",
       "               Product Features\n",
       "             </div>\n",
       " <ul class=\"sb_prod_feature_list\">\n",
       " <li class=\"sb_prod_feature_item\">\n",
       "                   Product Warranty: 1 Year warranty\n",
       "                 </li>\n",
       " <li class=\"sb_prod_feature_item\">\n",
       "                   Overall: 41\" H x 90\" W x 42\" D\n",
       "                 </li>\n",
       " <li class=\"sb_prod_feature_item\">\n",
       "                   Upholstery Material: Chenille\n",
       "                 </li>\n",
       " <li class=\"sb_prod_feature_item\">\n",
       "                   Overall Product Weight: 133lbs\n",
       "                 </li>\n",
       " </ul>\n",
       " <div class=\"sb_prod_copy\" data-click-location=\"Product2\">\n",
       "                 Featuring incredibly soft chenille upholstery in a cool blue hue, the Derry Sofa is a staple of comfortable living. Four accent pillows give a graphic pop to the contemporary design.  \n",
       "               </div>\n",
       " </div>\n",
       " <div class=\"prod_info_collapse\"></div>\n",
       " </div>\n",
       " <div class=\"sb_prod_details_block js-ss-click\" data-click-location=\"Product2\" data-click-track=\"sb_swatch_bottom_product_info_click\">\n",
       " <div class=\"sb_prod_grid_height\">\n",
       " <span class=\"sb_names blocklevel cleanlink margin_sm_top\" title=\"Derry Sofa\">\n",
       " <p class=\"sb_prod_name emphasis\">Derry Sofa</p>\n",
       " <p class=\"sb_manu_name_solo smtext\">\n",
       "               by Three Posts\n",
       "             </p>\n",
       " </span>\n",
       " </div>\n",
       " <div class=\"sb_left_block\">\n",
       " <div class=\"sb_pricing_wrap\">\n",
       " <div class=\"price pricetext sb_pricetext midtitle\"><span class=\"is_price_label\"></span><span class=\"is_price_value\">$579.99</span> <span class=\"wasprice wf_bodycolortext deemphasize strike\">$628.87</span></div>\n",
       " </div>\n",
       " <div class=\"sb_shipping_wrap\">\n",
       "         Free Shipping\n",
       "         \n",
       "       </div>\n",
       " <div class=\"reviewbox pos_rel\"></div>\n",
       " </div>\n",
       " </div>\n",
       " </a>,\n",
       " <a class=\"productbox fl js-ss-click cleanlink sb_noline js-product-bottom-link js-prod-content sb_prod_content yui3-filter-wrap \" data-click-track=\"browse_product:Superbrowse\" data-sku=\"THRE1937\" href=\"http://www.wayfair.com/Danville-Loveseat-THRE1937-THRE1937.html\" id=\"productbox_THRE1937\">\n",
       " <div class=\"sb_prod_image_wrapper pos_rel js-clipbar_drag \" data-favorites-key=\"THRE1937\" data-favorites-type=\"1\" data-image-url=\"https://secure.img1.wfrcdn.com/lf/79/hash/30973/17085338/1/Danville%2BLoveseat.jpg\" data-product-title=\"Danville Loveseat\" data-sku=\"THRE1937\">\n",
       " <div class=\"sb_prod_favs_wrap js-sb-favs-icon-wrap hidden-node favs_out\">\n",
       " <span class=\"favs_icon_lt pos_rel pointer inlineblock cleanlink_disabled js-favorites-button js_clipbar_button js-ss-click\" data-click-track=\"SB_Favorites\" data-favorites-key=\"THRE1937\" data-favorites-type=\"1\" data-image-url=\"https://secure.img1.wfrcdn.com/lf/79/hash/30973/17085338/1/Danville%2BLoveseat.jpg\" data-product_manufacturer=\"Three Posts\" data-product_title=\"Danville Loveseat\">\n",
       " <span class=\"favs_icon_glyph pos_rel\"></span>\n",
       " </span>\n",
       " </div>\n",
       " <div class=\"sb_prod_qv_wrap sbprodoptionswrap favs_out centertext pointer js-sb-qv-btn-wrap hidden-node favs_out\" data-qv-js=\"true\">\n",
       " <input class=\"js-ss-click js-viewmore jq-quickview js-quickview-btn note emphasis ltbodytext pointer quickview_btn wflink viewmoreheadadmin \" data-click-track=\"sb_add_to_cart:SB_quickview\" data-product-block-url=\"/v/product/quick_view?sku=THRE1937&amp;\" type=\"button\" value=\"QUICK VIEW\"/>\n",
       " </div>\n",
       " <img alt=\"Danville Loveseat\" class=\"blocklevel\" height=\"225\" id=\"img_THRE1937\" src=\"https://secure.img1.wfrcdn.com/lf/79/hash/30973/17085338/1/Danville%2BLoveseat.jpg\" width=\"225\"/>\n",
       " </div>\n",
       " <div class=\"sb_prod_features borderleft\" data-click-location=\"Product3\">\n",
       " <div class=\"sb_prod_features_container\">\n",
       " <div class=\"emphasis\">\n",
       "               Product Features\n",
       "             </div>\n",
       " <ul class=\"sb_prod_feature_list\">\n",
       " <li class=\"sb_prod_feature_item\">\n",
       "                   Overall: 39\" H x 73\" W x 42\" D\n",
       "                 </li>\n",
       " <li class=\"sb_prod_feature_item\">\n",
       "                   Product Warranty: 1 Year warranty\n",
       "                 </li>\n",
       " <li class=\"sb_prod_feature_item\">\n",
       "                   Overall Product Weight: 120lbs\n",
       "                 </li>\n",
       " </ul>\n",
       " <div class=\"sb_prod_copy\" data-click-location=\"Product3\">\n",
       "                 Bun feet and rolled arms add traditional grace to The Danville Loveseat. Four accent pillows in warm hues add a graphic pop to the comfort-centric design.\n",
       "               </div>\n",
       " </div>\n",
       " <div class=\"prod_info_collapse\"></div>\n",
       " </div>\n",
       " <div class=\"sb_prod_details_block js-ss-click\" data-click-location=\"Product3\" data-click-track=\"sb_swatch_bottom_product_info_click\">\n",
       " <div class=\"sb_prod_grid_height\">\n",
       " <span class=\"sb_names blocklevel cleanlink margin_sm_top\" title=\"Danville Loveseat\">\n",
       " <p class=\"sb_prod_name emphasis\">Danville Loveseat</p>\n",
       " <p class=\"sb_manu_name_solo smtext\">\n",
       "               by Three Posts\n",
       "             </p>\n",
       " </span>\n",
       " </div>\n",
       " <div class=\"sb_left_block\">\n",
       " <div class=\"sb_pricing_wrap\">\n",
       " <div class=\"price pricetext sb_pricetext midtitle\"><span class=\"is_price_label\"></span><span class=\"is_price_value\">$549.99</span> <span class=\"wasprice wf_bodycolortext deemphasize strike\">$601.05</span></div>\n",
       " </div>\n",
       " <div class=\"sb_shipping_wrap\">\n",
       "         Free Shipping\n",
       "         \n",
       "       </div>\n",
       " <div class=\"reviewbox pos_rel\"></div>\n",
       " </div>\n",
       " </div>\n",
       " </a>,\n",
       " <a class=\"productbox fl js-ss-click cleanlink sb_noline js-product-bottom-link js-prod-content sb_prod_content yui3-filter-wrap \" data-click-track=\"browse_product_with_two_day_delivery,ss3301912_sale,browse_product:Superbrowse\" data-sku=\"HLV1688\" href=\"http://www.wayfair.com/Handy-Living-Rio-Full-Convertible-Sofa-C6-S1-LIN-HLV1688.html\" id=\"productbox_HLV1688\">\n",
       " <div class=\"sb_prod_image_wrapper pos_rel js-clipbar_drag \" data-favorites-key=\"HLV1688\" data-favorites-type=\"1\" data-image-url=\"https://secure.img2.wfrcdn.com/lf/79/hash/918/9421501/1/Rio%2BFull%2BConvertible%2BUpholstered%2BSleeper%2BSofa.jpg\" data-product-title=\"Rio Full Convertible Upholstered Sleeper Sofa\" data-sku=\"HLV1688\">\n",
       " <div class=\"sb_banner_wrap sbsale_banner heading_font_reg xstext whitetext \">\n",
       "                     Sale\n",
       "       </div>\n",
       " <div class=\"sb_prod_favs_wrap js-sb-favs-icon-wrap hidden-node favs_out\">\n",
       " <span class=\"favs_icon_lt pos_rel pointer inlineblock cleanlink_disabled js-favorites-button js_clipbar_button js-ss-click\" data-click-track=\"SB_Favorites\" data-favorites-key=\"HLV1688\" data-favorites-type=\"1\" data-image-url=\"https://secure.img2.wfrcdn.com/lf/79/hash/918/9421501/1/Rio%2BFull%2BConvertible%2BUpholstered%2BSleeper%2BSofa.jpg\" data-product_manufacturer=\"Handy Living\" data-product_title=\"Rio Full Convertible Upholstered Sleeper Sofa\">\n",
       " <span class=\"favs_icon_glyph pos_rel\"></span>\n",
       " </span>\n",
       " </div>\n",
       " <div class=\"sb_prod_qv_wrap sbprodoptionswrap favs_out centertext pointer js-sb-qv-btn-wrap hidden-node favs_out\" data-qv-js=\"true\">\n",
       " <input class=\"js-ss-click js-viewmore jq-quickview js-quickview-btn note emphasis ltbodytext pointer quickview_btn wflink viewmoreheadadmin \" data-click-track=\"sb_add_to_cart:SB_quickview\" data-product-block-url=\"/v/product/quick_view?sku=HLV1688&amp;\" type=\"button\" value=\"QUICK VIEW\"/>\n",
       " </div>\n",
       " <img alt=\"Rio Full Convertible Upholstered Sleeper Sofa\" class=\"blocklevel\" height=\"225\" id=\"img_HLV1688\" src=\"https://secure.img2.wfrcdn.com/lf/79/hash/918/9421501/1/Rio%2BFull%2BConvertible%2BUpholstered%2BSleeper%2BSofa.jpg\" width=\"225\"/>\n",
       " </div>\n",
       " <div class=\"sb_prod_features borderleft\" data-click-location=\"Product4\">\n",
       " <div class=\"sb_prod_features_container\">\n",
       " <div class=\"emphasis\">\n",
       "               Product Features\n",
       "             </div>\n",
       " <ul class=\"sb_prod_feature_list\">\n",
       " <li class=\"sb_prod_feature_item\">\n",
       "                   Overall: 34\" H x 87\" W x 37\" D\n",
       "                 </li>\n",
       " <li class=\"sb_prod_feature_item\">\n",
       "                   Assembly Required: Yes\n",
       "                 </li>\n",
       " <li class=\"sb_prod_feature_item\">\n",
       "                   Product Warranty: 1 Year\n",
       "                 </li>\n",
       " <li class=\"sb_prod_feature_item\">\n",
       "                   Design: Sleeper\n",
       "                 </li>\n",
       " <li class=\"sb_prod_feature_item\">\n",
       "                   Frame Material: Other\n",
       "                 </li>\n",
       " </ul>\n",
       " <div class=\"sb_prod_copy\" data-click-location=\"Product4\">\n",
       "                 Sporting a simple yet elegant design, the Handy Living Rio Full Convertible Sofa is a welcome addition to your living room. This convertible sofa is upholstered in polyester linen and features foam-filled cushions, which makes it soft and comfortable to relax on. It has a steel frame that makes it durable. The convertible sofa sports an elegant solid pattern, and is available in multiple colors, letting you choose the one that best suits your home decor. This Rio Full Convertible Sofa from...\n",
       "               </div>\n",
       " </div>\n",
       " <div class=\"prod_info_collapse\"></div>\n",
       " </div>\n",
       " <div class=\"sb_prod_details_block js-ss-click\" data-click-location=\"Product4\" data-click-track=\"sb_swatch_bottom_product_info_click\">\n",
       " <div class=\"sb_prod_grid_height\">\n",
       " <div class=\"sbprodmoreopts note margin_sm_top margin_sm_bottom\">\n",
       " <span class=\"cleanlink inlineblock js-ss-click sb_swatch_more_link \" data-click-track=\"sb_swatch_more_options_click\" title=\"Rio Full Convertible Upholstered Sleeper Sofa\">\n",
       "             More Options »\n",
       "           </span>\n",
       " </div>\n",
       " <span class=\"sb_names blocklevel cleanlink margin_sm_top\" title=\"Rio Full Convertible Upholstered Sleeper Sofa\">\n",
       " <p class=\"sb_prod_name emphasis\">Rio Full Convertible Upholstered Sleeper Sofa</p>\n",
       " <p class=\"sb_manu_name_solo smtext\">\n",
       "               by Handy Living\n",
       "             </p>\n",
       " </span>\n",
       " </div>\n",
       " <div class=\"sb_left_block\">\n",
       " <div class=\"sb_pricing_wrap\">\n",
       " <div class=\"price noticetext sb_noticetext midtitle\"><span class=\"is_price_label\"></span><span class=\"is_price_value\">$430.99</span> <span class=\"wasprice wf_bodycolortext deemphasize strike\">$710.09</span></div>\n",
       " </div>\n",
       " <div class=\"sb_shipping_wrap\">\n",
       "         Free Shipping &amp; 2-Day Delivery\n",
       "         \n",
       "       </div>\n",
       " <div class=\"reviewbox pos_rel ltbodytext\">\n",
       " <span class=\"stars_wrap review_stars_block_sm pos_rel fl inlineblock cleanlink_disabled stars_sm_9 js-ss-click js-track-event\">\n",
       "      <span class=\"stars_foreground\"></span>\n",
       " </span>\n",
       "   \n",
       "     (128)\n",
       "   \n",
       " </div>\n",
       " </div>\n",
       " </div>\n",
       " </a>,\n",
       " <a class=\"productbox fl js-ss-click cleanlink sb_noline js-product-bottom-link js-prod-content sb_prod_content yui3-filter-wrap \" data-click-track=\"browse_product:Superbrowse\" data-sku=\"THRE1480\" href=\"http://www.wayfair.com/Brentwood-Sofa-THRE1480-THRE1480.html\" id=\"productbox_THRE1480\">\n",
       " <div class=\"sb_prod_image_wrapper pos_rel js-clipbar_drag \" data-favorites-key=\"THRE1480\" data-favorites-type=\"1\" data-image-url=\"https://secure.img1.wfrcdn.com/lf/79/hash/1417/16014434/1/Brentwood%2BSofa.jpg\" data-product-title=\"Brentwood Sofa\" data-sku=\"THRE1480\">\n",
       " <div class=\"sb_prod_favs_wrap js-sb-favs-icon-wrap hidden-node favs_out\">\n",
       " <span class=\"favs_icon_lt pos_rel pointer inlineblock cleanlink_disabled js-favorites-button js_clipbar_button js-ss-click\" data-click-track=\"SB_Favorites\" data-favorites-key=\"THRE1480\" data-favorites-type=\"1\" data-image-url=\"https://secure.img1.wfrcdn.com/lf/79/hash/1417/16014434/1/Brentwood%2BSofa.jpg\" data-product_manufacturer=\"Three Posts\" data-product_title=\"Brentwood Sofa\">\n",
       " <span class=\"favs_icon_glyph pos_rel\"></span>\n",
       " </span>\n",
       " </div>\n",
       " <div class=\"sb_prod_qv_wrap sbprodoptionswrap favs_out centertext pointer js-sb-qv-btn-wrap hidden-node favs_out\" data-qv-js=\"true\">\n",
       " <input class=\"js-ss-click js-viewmore jq-quickview js-quickview-btn note emphasis ltbodytext pointer quickview_btn wflink viewmoreheadadmin \" data-click-track=\"sb_add_to_cart:SB_quickview\" data-product-block-url=\"/v/product/quick_view?sku=THRE1480&amp;\" type=\"button\" value=\"QUICK VIEW\"/>\n",
       " </div>\n",
       " <img alt=\"Brentwood Sofa\" class=\"blocklevel\" height=\"225\" id=\"img_THRE1480\" src=\"https://secure.img1.wfrcdn.com/lf/79/hash/1417/16014434/1/Brentwood%2BSofa.jpg\" width=\"225\"/>\n",
       " </div>\n",
       " <div class=\"sb_prod_features borderleft\" data-click-location=\"Product5\">\n",
       " <div class=\"sb_prod_features_container\">\n",
       " <div class=\"emphasis\">\n",
       "               Product Features\n",
       "             </div>\n",
       " <ul class=\"sb_prod_feature_list\">\n",
       " <li class=\"sb_prod_feature_item\">\n",
       "                   Overall: 37\" H x 83\" W x 36\" D\n",
       "                 </li>\n",
       " <li class=\"sb_prod_feature_item\">\n",
       "                   Product Warranty: 1 Year warranty\n",
       "                 </li>\n",
       " <li class=\"sb_prod_feature_item\">\n",
       "                   Overall Product Weight: 110lbs\n",
       "                 </li>\n",
       " </ul>\n",
       " <div class=\"sb_prod_copy\" data-click-location=\"Product5\">\n",
       "                 With flared arms and soft upholstery, the Brentwood Sofa is a classic living room centerpiece. Accent with a pair of geo-printed accent pillows to liven up the versatile design.\n",
       "               </div>\n",
       " </div>\n",
       " <div class=\"prod_info_collapse\"></div>\n",
       " </div>\n",
       " <div class=\"sb_prod_details_block js-ss-click\" data-click-location=\"Product5\" data-click-track=\"sb_swatch_bottom_product_info_click\">\n",
       " <div class=\"sb_prod_grid_height\">\n",
       " <span class=\"sb_names blocklevel cleanlink margin_sm_top\" title=\"Brentwood Sofa\">\n",
       " <p class=\"sb_prod_name emphasis\">Brentwood Sofa</p>\n",
       " <p class=\"sb_manu_name_solo smtext\">\n",
       "               by Three Posts\n",
       "             </p>\n",
       " </span>\n",
       " </div>\n",
       " <div class=\"sb_left_block\">\n",
       " <div class=\"sb_pricing_wrap\">\n",
       " <div class=\"price pricetext sb_pricetext midtitle\"><span class=\"is_price_label\"></span><span class=\"is_price_value\">$489.99</span> <span class=\"wasprice wf_bodycolortext deemphasize strike\">$523.72</span></div>\n",
       " </div>\n",
       " <div class=\"sb_shipping_wrap\">\n",
       "         Free Shipping\n",
       "         \n",
       "       </div>\n",
       " <div class=\"reviewbox pos_rel\"></div>\n",
       " </div>\n",
       " </div>\n",
       " </a>,\n",
       " <a class=\"productbox fl js-ss-click cleanlink sb_noline js-product-bottom-link js-prod-content sb_prod_content yui3-filter-wrap \" data-click-track=\"ss3301912_sale,browse_product:Superbrowse\" data-sku=\"GNT3183\" href=\"http://www.wayfair.com/Sanford-Sofa-6640038-6640138-GNT3183.html\" id=\"productbox_GNT3183\">\n",
       " <div class=\"sb_prod_image_wrapper pos_rel js-clipbar_drag \" data-favorites-key=\"GNT3183\" data-favorites-type=\"1\" data-image-url=\"https://secure.img2.wfrcdn.com/lf/79/hash/2668/10734393/1/Sanford%2BSofa.jpg\" data-product-title=\"Sanford Sofa\" data-sku=\"GNT3183\">\n",
       " <div class=\"sb_banner_wrap sbsale_banner heading_font_reg xstext whitetext \">\n",
       "                     Sale\n",
       "       </div>\n",
       " <div class=\"sb_prod_favs_wrap js-sb-favs-icon-wrap hidden-node favs_out\">\n",
       " <span class=\"favs_icon_lt pos_rel pointer inlineblock cleanlink_disabled js-favorites-button js_clipbar_button js-ss-click\" data-click-track=\"SB_Favorites\" data-favorites-key=\"GNT3183\" data-favorites-type=\"1\" data-image-url=\"https://secure.img2.wfrcdn.com/lf/79/hash/2668/10734393/1/Sanford%2BSofa.jpg\" data-product_manufacturer=\"Signature Design by Ashley\" data-product_title=\"Sanford Sofa\">\n",
       " <span class=\"favs_icon_glyph pos_rel\"></span>\n",
       " </span>\n",
       " </div>\n",
       " <div class=\"sb_prod_qv_wrap sbprodoptionswrap favs_out centertext pointer js-sb-qv-btn-wrap hidden-node favs_out\" data-qv-js=\"true\">\n",
       " <input class=\"js-ss-click js-viewmore jq-quickview js-quickview-btn note emphasis ltbodytext pointer quickview_btn wflink viewmoreheadadmin \" data-click-track=\"sb_add_to_cart:SB_quickview\" data-product-block-url=\"/v/product/quick_view?sku=GNT3183&amp;\" type=\"button\" value=\"QUICK VIEW\"/>\n",
       " </div>\n",
       " <img alt=\"Sanford Sofa\" class=\"blocklevel\" height=\"225\" id=\"img_GNT3183\" src=\"https://secure.img2.wfrcdn.com/lf/79/hash/2668/10734393/1/Sanford%2BSofa.jpg\" width=\"225\"/>\n",
       " </div>\n",
       " <div class=\"sb_prod_features borderleft\" data-click-location=\"Product6\">\n",
       " <div class=\"sb_prod_features_container\">\n",
       " <div class=\"emphasis\">\n",
       "               Product Features\n",
       "             </div>\n",
       " <ul class=\"sb_prod_feature_list\">\n",
       " <li class=\"sb_prod_feature_item\">\n",
       "                   Overall: 36\" H x 84\" W x 38\" D\n",
       "                 </li>\n",
       " <li class=\"sb_prod_feature_item\">\n",
       "                   Product Warranty: 1 Year\n",
       "                 </li>\n",
       " <li class=\"sb_prod_feature_item\">\n",
       "                   Design: Standard\n",
       "                 </li>\n",
       " <li class=\"sb_prod_feature_item\">\n",
       "                   Frame Material: Manufactured wood\n",
       "                 </li>\n",
       " <li class=\"sb_prod_feature_item\">\n",
       "                   Upholstery Material: Other\n",
       "                 </li>\n",
       " </ul>\n",
       " <div class=\"sb_prod_copy\" data-click-location=\"Product6\">\n",
       "                 Modernize your living space with the Signature Design by Ashley Sanford Sofa. This interesting piece of home decor has a rounded track arm and features boxed edge welted seat cushions. Thanks to the sinuous spring seating, this sofa keeps your guests comfortable always. Featuring a sturdy frame made from manufactured wood, this sofa is built to last. It is upholstered in low melt fiber that adds a fashionable touch to the sofa. This Sanford Sofa from Signature Design by Ashley is available in...\n",
       "               </div>\n",
       " </div>\n",
       " <div class=\"prod_info_collapse\"></div>\n",
       " </div>\n",
       " <div class=\"sb_prod_details_block js-ss-click\" data-click-location=\"Product6\" data-click-track=\"sb_swatch_bottom_product_info_click\">\n",
       " <div class=\"sb_prod_grid_height\">\n",
       " <span class=\"sb_names blocklevel cleanlink margin_sm_top\" title=\"Sanford Sofa\">\n",
       " <p class=\"sb_prod_name emphasis\">Sanford Sofa</p>\n",
       " <p class=\"sb_manu_name_solo smtext\">\n",
       "               by Signature Design by Ashley\n",
       "             </p>\n",
       " </span>\n",
       " </div>\n",
       " <div class=\"sb_left_block\">\n",
       " <div class=\"sb_pricing_wrap\">\n",
       " <div class=\"price noticetext sb_noticetext midtitle\"><span class=\"is_price_label\"></span><span class=\"is_price_value\">$459.99</span> <span class=\"wasprice wf_bodycolortext deemphasize strike\">$699.55</span></div>\n",
       " </div>\n",
       " <div class=\"sb_shipping_wrap\">\n",
       "         Free Shipping\n",
       "         \n",
       "       </div>\n",
       " <div class=\"reviewbox pos_rel ltbodytext\">\n",
       " <span class=\"stars_wrap review_stars_block_sm pos_rel fl inlineblock cleanlink_disabled stars_sm_10 js-ss-click js-track-event\">\n",
       "      <span class=\"stars_foreground\"></span>\n",
       " </span>\n",
       "   \n",
       "     (80)\n",
       "   \n",
       " </div>\n",
       " </div>\n",
       " </div>\n",
       " </a>,\n",
       " <a class=\"productbox fl js-ss-click cleanlink sb_noline js-product-bottom-link js-prod-content sb_prod_content yui3-filter-wrap \" data-click-track=\"browse_product_with_two_day_delivery,browse_product:Superbrowse\" data-sku=\"MCRR1646\" href=\"http://www.wayfair.com/Compact-Sofa-MCRR1646-MCRR1646.html\" id=\"productbox_MCRR1646\">\n",
       " <div class=\"sb_prod_image_wrapper pos_rel js-clipbar_drag \" data-favorites-key=\"MCRR1646\" data-favorites-type=\"1\" data-image-url=\"https://secure.img2.wfrcdn.com/lf/79/hash/33808/17101421/1/Compact%2BSofa.jpg\" data-product-title=\"Compact Sofa\" data-sku=\"MCRR1646\">\n",
       " <div class=\"sb_prod_favs_wrap js-sb-favs-icon-wrap hidden-node favs_out\">\n",
       " <span class=\"favs_icon_lt pos_rel pointer inlineblock cleanlink_disabled js-favorites-button js_clipbar_button js-ss-click\" data-click-track=\"SB_Favorites\" data-favorites-key=\"MCRR1646\" data-favorites-type=\"1\" data-image-url=\"https://secure.img2.wfrcdn.com/lf/79/hash/33808/17101421/1/Compact%2BSofa.jpg\" data-product_manufacturer=\"Mercury Row\" data-product_title=\"Compact Sofa\">\n",
       " <span class=\"favs_icon_glyph pos_rel\"></span>\n",
       " </span>\n",
       " </div>\n",
       " <div class=\"sb_prod_qv_wrap sbprodoptionswrap favs_out centertext pointer js-sb-qv-btn-wrap hidden-node favs_out\" data-qv-js=\"true\">\n",
       " <input class=\"js-ss-click js-viewmore jq-quickview js-quickview-btn note emphasis ltbodytext pointer quickview_btn wflink viewmoreheadadmin \" data-click-track=\"sb_add_to_cart:SB_quickview\" data-product-block-url=\"/v/product/quick_view?sku=MCRR1646&amp;\" type=\"button\" value=\"QUICK VIEW\"/>\n",
       " </div>\n",
       " <img alt=\"Compact Sofa\" class=\"js-lazy-loaded-image\" height=\"225\" src=\"data:image/gif;base64,R0lGODlhAQABAPAAAAAAAAAAACH5BAEAAAAALAAAAAABAAEAAAICRAEAOw==\" width=\"225\"/>\n",
       " <noscript>\n",
       " <img alt=\"Compact Sofa\" height=\"225\" src=\"https://secure.img2.wfrcdn.com/lf/79/hash/33808/17101421/1/Compact%2BSofa.jpg\" width=\"225\"/>\n",
       " </noscript>\n",
       " </div>\n",
       " <div class=\"sb_prod_features borderleft\" data-click-location=\"Product7\">\n",
       " <div class=\"sb_prod_features_container\">\n",
       " <div class=\"emphasis\">\n",
       "               Product Features\n",
       "             </div>\n",
       " <ul class=\"sb_prod_feature_list\">\n",
       " <li class=\"sb_prod_feature_item\">\n",
       "                   Assembly Required: Yes\n",
       "                 </li>\n",
       " <li class=\"sb_prod_feature_item\">\n",
       "                   Overall: 36.5\" H x 72.5\" W x 33.5\" D\n",
       "                 </li>\n",
       " <li class=\"sb_prod_feature_item\">\n",
       "                   Product Warranty: 1 Year\n",
       "                 </li>\n",
       " <li class=\"sb_prod_feature_item\">\n",
       "                   Design: Standard\n",
       "                 </li>\n",
       " <li class=\"sb_prod_feature_item\">\n",
       "                   Upholstery Material: Velvet\n",
       "                 </li>\n",
       " </ul>\n",
       " <div class=\"sb_prod_copy\" data-click-location=\"Product7\">\n",
       "                 Better materials and engineering are the hallmark of this SoFast® sofa. Eight layers of comfort foam and fiber with pocketed coils at its core create this luxurious seating system. Add a steel seat and back frame for strength with sinuous springs for additional comfort, and you have the ultimate sofa. Better materials and better engineering add up to a better sofa. Compact size, perfect for small space living. This comfortable and stylish sofa features flare arms and dark espresso all wood...\n",
       "               </div>\n",
       " </div>\n",
       " <div class=\"prod_info_collapse\"></div>\n",
       " </div>\n",
       " <div class=\"sb_prod_details_block js-ss-click\" data-click-location=\"Product7\" data-click-track=\"sb_swatch_bottom_product_info_click\">\n",
       " <div class=\"sb_prod_grid_height\">\n",
       " <div class=\"sbprodmoreopts note margin_sm_top margin_sm_bottom\">\n",
       " <span class=\"cleanlink inlineblock js-ss-click sb_swatch_more_link \" data-click-track=\"sb_swatch_more_options_click\" title=\"Compact Sofa\">\n",
       "             More Options »\n",
       "           </span>\n",
       " </div>\n",
       " <span class=\"sb_names blocklevel cleanlink margin_sm_top\" title=\"Compact Sofa\">\n",
       " <p class=\"sb_prod_name emphasis\">Compact Sofa</p>\n",
       " <p class=\"sb_manu_name_solo smtext\">\n",
       "               by Mercury Row\n",
       "             </p>\n",
       " </span>\n",
       " </div>\n",
       " <div class=\"sb_left_block\">\n",
       " <div class=\"sb_pricing_wrap\">\n",
       " <div class=\"price pricetext sb_pricetext midtitle\"><span class=\"is_price_label\"></span><span class=\"is_price_value\">$429.99</span> <span class=\"wasprice wf_bodycolortext deemphasize strike\">$549.99</span></div>\n",
       " </div>\n",
       " <div class=\"sb_shipping_wrap\">\n",
       "         Free Shipping &amp; 2-Day Delivery\n",
       "         \n",
       "       </div>\n",
       " <div class=\"reviewbox pos_rel\"></div>\n",
       " </div>\n",
       " </div>\n",
       " </a>,\n",
       " <a class=\"productbox fl js-ss-click cleanlink sb_noline js-product-bottom-link js-prod-content sb_prod_content yui3-filter-wrap \" data-click-track=\"sb_product_with_swatches_clicked,ss3301912_sale,browse_product:Superbrowse\" data-sku=\"BL3368\" href=\"http://www.wayfair.com/Birch-Lane-Jameson-Sofa-Sleeper-BL3368.html\" id=\"productbox_BL3368\">\n",
       " <div class=\"sb_prod_image_wrapper pos_rel js-clipbar_drag \" data-favorites-key=\"BL3368\" data-favorites-type=\"1\" data-image-url=\"https://secure.img2.wfrcdn.com/lf/79/hash/25006/11610633/1/Jameson%2BSleeper%2BSofa.jpg\" data-product-title=\"Jameson Sleeper Sofa\" data-sku=\"BL3368\">\n",
       " <div class=\"sb_banner_wrap sbsale_banner heading_font_reg xstext whitetext \">\n",
       "                     Sale\n",
       "       </div>\n",
       " <div class=\"sb_prod_favs_wrap js-sb-favs-icon-wrap hidden-node favs_out\">\n",
       " <span class=\"favs_icon_lt pos_rel pointer inlineblock cleanlink_disabled js-favorites-button js_clipbar_button js-ss-click\" data-click-track=\"SB_Favorites\" data-favorites-key=\"BL3368\" data-favorites-type=\"1\" data-image-url=\"https://secure.img2.wfrcdn.com/lf/79/hash/25006/11610633/1/Jameson%2BSleeper%2BSofa.jpg\" data-product_manufacturer=\"Birch Lane\" data-product_title=\"Jameson Sleeper Sofa\">\n",
       " <span class=\"favs_icon_glyph pos_rel\"></span>\n",
       " </span>\n",
       " </div>\n",
       " <div class=\"swatch_hover_zoom js-swatch_hover_zoom bgcolorwhite borderall hidden-node\">\n",
       " </div>\n",
       " <div class=\"sb_prod_qv_wrap sbprodoptionswrap favs_out centertext pointer js-sb-qv-btn-wrap hidden-node favs_out\" data-qv-js=\"true\">\n",
       " <input class=\"js-ss-click js-viewmore jq-quickview js-quickview-btn note emphasis ltbodytext pointer quickview_btn wflink viewmoreheadadmin \" data-click-track=\"sb_add_to_cart:SB_quickview\" data-product-block-url=\"/v/product/quick_view?sku=BL3368&amp;\" type=\"button\" value=\"QUICK VIEW\"/>\n",
       " </div>\n",
       " <img alt=\"Jameson Sleeper Sofa\" class=\"js-lazy-loaded-image\" height=\"225\" src=\"data:image/gif;base64,R0lGODlhAQABAPAAAAAAAAAAACH5BAEAAAAALAAAAAABAAEAAAICRAEAOw==\" width=\"225\"/>\n",
       " <noscript>\n",
       " <img alt=\"Jameson Sleeper Sofa\" height=\"225\" src=\"https://secure.img2.wfrcdn.com/lf/79/hash/25006/11610633/1/Jameson%2BSleeper%2BSofa.jpg\" width=\"225\"/>\n",
       " </noscript>\n",
       " </div>\n",
       " <div class=\"sb_prod_features borderleft\" data-click-location=\"Product8\">\n",
       " <div class=\"sb_prod_features_container\">\n",
       " <div class=\"emphasis\">\n",
       "               Product Features\n",
       "             </div>\n",
       " <ul class=\"sb_prod_feature_list\">\n",
       " <li class=\"sb_prod_feature_item\">\n",
       "                   Product Warranty: Limited lifetime warranty on frame and springs, 5 Years warranty on cushions, 1 Year warranty on fabric and labor\n",
       "                 </li>\n",
       " <li class=\"sb_prod_feature_item\">\n",
       "                   Assembly Required: No\n",
       "                 </li>\n",
       " <li class=\"sb_prod_feature_item\">\n",
       "                   Overall: 31\" H x 84\" W x 40\" D\n",
       "                 </li>\n",
       " </ul>\n",
       " <div class=\"sb_prod_copy\" data-click-location=\"Product8\">\n",
       "                 With smart tailoring and clean good looks, the Jameson queen-sized sleeper sofa features an Enso memory-foam mattress supported by a pull-out frame. Features classic rolled arms, casual skirted styling, and knife-edge overstuffed cushions for plush support.\n",
       "               </div>\n",
       " </div>\n",
       " <div class=\"prod_info_collapse\"></div>\n",
       " </div>\n",
       " <div class=\"sb_prod_details_block js-ss-click\" data-click-location=\"Product8\" data-click-track=\"sb_swatch_bottom_product_info_click\">\n",
       " <div class=\"sb_prod_grid_height\">\n",
       " <div class=\"sbprodmoreopts note margin_sm_top margin_sm_bottom\">\n",
       " <span class=\"cleanlink inlineblock js-ss-click sb_swatch_more_link \" data-click-track=\"sb_swatch_more_options_click\" title=\"Jameson Sleeper Sofa\">\n",
       "             More Options: Fabric »\n",
       "           </span>\n",
       " </div>\n",
       " <span class=\"sb_names blocklevel cleanlink margin_sm_top\" title=\"Jameson Sleeper Sofa\">\n",
       " <p class=\"sb_prod_name emphasis\">Jameson Sleeper Sofa</p>\n",
       " <p class=\"sb_manu_name_solo smtext\">\n",
       "               by Birch Lane\n",
       "             </p>\n",
       " </span>\n",
       " </div>\n",
       " <div class=\"sb_left_block\">\n",
       " <div class=\"sb_pricing_wrap\">\n",
       " <div class=\"price noticetext sb_noticetext midtitle\"><span class=\"is_price_label\"></span><span class=\"is_price_value\"><span class=\"from_text emphasis wf_bodycolortext note\">from </span>$1,425.00</span> <span class=\"wasprice wf_bodycolortext deemphasize strike\">$1,799.00</span></div>\n",
       " </div>\n",
       " <div class=\"sb_shipping_wrap\">\n",
       "         Free Inside Delivery\n",
       "         \n",
       "       </div>\n",
       " <div class=\"reviewbox pos_rel\"></div>\n",
       " </div>\n",
       " </div>\n",
       " </a>,\n",
       " <a class=\"productbox fl js-ss-click cleanlink sb_noline js-product-bottom-link js-prod-content sb_prod_content yui3-filter-wrap \" data-click-track=\"sb_product_with_swatches_clicked,ss3301912_sale,browse_product:Superbrowse\" data-sku=\"BL8480\" href=\"http://www.wayfair.com/Pratt-Sofa-012013277-BL8480.html\" id=\"productbox_BL8480\">\n",
       " <div class=\"sb_prod_image_wrapper pos_rel js-clipbar_drag \" data-favorites-key=\"BL8480\" data-favorites-type=\"1\" data-image-url=\"https://secure.img1.wfrcdn.com/lf/79/hash/25006/17243786/1/Pratt%2BLeather%2BSofa.jpg\" data-product-title=\"Pratt Leather Sofa\" data-sku=\"BL8480\">\n",
       " <div class=\"sb_banner_wrap sbsale_banner heading_font_reg xstext whitetext \">\n",
       "                     Sale\n",
       "       </div>\n",
       " <div class=\"sb_prod_favs_wrap js-sb-favs-icon-wrap hidden-node favs_out\">\n",
       " <span class=\"favs_icon_lt pos_rel pointer inlineblock cleanlink_disabled js-favorites-button js_clipbar_button js-ss-click\" data-click-track=\"SB_Favorites\" data-favorites-key=\"BL8480\" data-favorites-type=\"1\" data-image-url=\"https://secure.img1.wfrcdn.com/lf/79/hash/25006/17243786/1/Pratt%2BLeather%2BSofa.jpg\" data-product_manufacturer=\"Birch Lane\" data-product_title=\"Pratt Leather Sofa\">\n",
       " <span class=\"favs_icon_glyph pos_rel\"></span>\n",
       " </span>\n",
       " </div>\n",
       " <div class=\"swatch_hover_zoom js-swatch_hover_zoom bgcolorwhite borderall hidden-node\">\n",
       " </div>\n",
       " <div class=\"sb_prod_qv_wrap sbprodoptionswrap favs_out centertext pointer js-sb-qv-btn-wrap hidden-node favs_out\" data-qv-js=\"true\">\n",
       " <input class=\"js-ss-click js-viewmore jq-quickview js-quickview-btn note emphasis ltbodytext pointer quickview_btn wflink viewmoreheadadmin \" data-click-track=\"sb_add_to_cart:SB_quickview\" data-product-block-url=\"/v/product/quick_view?sku=BL8480&amp;\" type=\"button\" value=\"QUICK VIEW\"/>\n",
       " </div>\n",
       " <img alt=\"Pratt Leather Sofa\" class=\"js-lazy-loaded-image\" height=\"225\" src=\"data:image/gif;base64,R0lGODlhAQABAPAAAAAAAAAAACH5BAEAAAAALAAAAAABAAEAAAICRAEAOw==\" width=\"225\"/>\n",
       " <noscript>\n",
       " <img alt=\"Pratt Leather Sofa\" height=\"225\" src=\"https://secure.img1.wfrcdn.com/lf/79/hash/25006/17243786/1/Pratt%2BLeather%2BSofa.jpg\" width=\"225\"/>\n",
       " </noscript>\n",
       " </div>\n",
       " <div class=\"sb_prod_features borderleft\" data-click-location=\"Product9\">\n",
       " <div class=\"sb_prod_features_container\">\n",
       " <div class=\"emphasis\">\n",
       "               Product Features\n",
       "             </div>\n",
       " <ul class=\"sb_prod_feature_list\">\n",
       " <li class=\"sb_prod_feature_item\">\n",
       "                   Overall: 37\" H x 88\" W x 40\" D\n",
       "                 </li>\n",
       " <li class=\"sb_prod_feature_item\">\n",
       "                   Design: Standard\n",
       "                 </li>\n",
       " <li class=\"sb_prod_feature_item\">\n",
       "                   Upholstery Material: Leather\n",
       "                 </li>\n",
       " <li class=\"sb_prod_feature_item\">\n",
       "                   Overall Product Weight: 149lbs\n",
       "                 </li>\n",
       " </ul>\n",
       " <div class=\"sb_prod_copy\" data-click-location=\"Product9\">\n",
       "                 A refined classic, the Pratt Sofa lends subtle elegance to any living space. Crafted with quality leather and blended down filling, this sofa is supported by low-profile, sturdy hardwood legs.\n",
       "               </div>\n",
       " </div>\n",
       " <div class=\"prod_info_collapse\"></div>\n",
       " </div>\n",
       " <div class=\"sb_prod_details_block js-ss-click\" data-click-location=\"Product9\" data-click-track=\"sb_swatch_bottom_product_info_click\">\n",
       " <div class=\"sb_prod_grid_height\">\n",
       " <div class=\"sbprodmoreopts note margin_sm_top margin_sm_bottom\">\n",
       " <span class=\"cleanlink inlineblock js-ss-click sb_swatch_more_link \" data-click-track=\"sb_swatch_more_options_click\" title=\"Pratt Leather Sofa\">\n",
       "             More Options: Fabric »\n",
       "           </span>\n",
       " </div>\n",
       " <span class=\"sb_names blocklevel cleanlink margin_sm_top\" title=\"Pratt Leather Sofa\">\n",
       " <p class=\"sb_prod_name emphasis\">Pratt Leather Sofa</p>\n",
       " <p class=\"sb_manu_name_solo smtext\">\n",
       "               by Birch Lane\n",
       "             </p>\n",
       " </span>\n",
       " </div>\n",
       " <div class=\"sb_left_block\">\n",
       " <div class=\"sb_pricing_wrap\">\n",
       " <div class=\"price noticetext sb_noticetext midtitle\"><span class=\"is_price_label\"></span><span class=\"is_price_value\"><span class=\"from_text emphasis wf_bodycolortext note\">from </span>$1,500.00</span> <span class=\"wasprice wf_bodycolortext deemphasize strike\">$1,999.00</span></div>\n",
       " </div>\n",
       " <div class=\"sb_shipping_wrap\">\n",
       "         Free Inside Delivery\n",
       "         \n",
       "       </div>\n",
       " <div class=\"reviewbox pos_rel\"></div>\n",
       " </div>\n",
       " </div>\n",
       " </a>,\n",
       " <a class=\"productbox fl js-ss-click cleanlink sb_noline js-product-bottom-link js-prod-content sb_prod_content yui3-filter-wrap \" data-click-track=\"browse_product:Superbrowse\" data-sku=\"XSQ1316\" href=\"http://www.wayfair.com/Serta-Upholstery-Cooper-Sofa-1225S-XSQ1316.html\" id=\"productbox_XSQ1316\">\n",
       " <div class=\"sb_prod_image_wrapper pos_rel js-clipbar_drag \" data-favorites-key=\"XSQ1316\" data-favorites-type=\"1\" data-image-url=\"https://secure.img1.wfrcdn.com/lf/79/hash/11881/8771700/1/Cooper%2BSofa.jpg\" data-product-title=\"Cooper Sofa\" data-sku=\"XSQ1316\">\n",
       " <div class=\"sb_prod_favs_wrap js-sb-favs-icon-wrap hidden-node favs_out\">\n",
       " <span class=\"favs_icon_lt pos_rel pointer inlineblock cleanlink_disabled js-favorites-button js_clipbar_button js-ss-click\" data-click-track=\"SB_Favorites\" data-favorites-key=\"XSQ1316\" data-favorites-type=\"1\" data-image-url=\"https://secure.img1.wfrcdn.com/lf/79/hash/11881/8771700/1/Cooper%2BSofa.jpg\" data-product_manufacturer=\"Serta Upholstery\" data-product_title=\"Cooper Sofa\">\n",
       " <span class=\"favs_icon_glyph pos_rel\"></span>\n",
       " </span>\n",
       " </div>\n",
       " <div class=\"sb_prod_qv_wrap sbprodoptionswrap favs_out centertext pointer js-sb-qv-btn-wrap hidden-node favs_out\" data-qv-js=\"true\">\n",
       " <input class=\"js-ss-click js-viewmore jq-quickview js-quickview-btn note emphasis ltbodytext pointer quickview_btn wflink viewmoreheadadmin \" data-click-track=\"sb_add_to_cart:SB_quickview\" data-product-block-url=\"/v/product/quick_view?sku=XSQ1316&amp;\" type=\"button\" value=\"QUICK VIEW\"/>\n",
       " </div>\n",
       " <img alt=\"Cooper Sofa\" class=\"js-lazy-loaded-image\" height=\"225\" src=\"data:image/gif;base64,R0lGODlhAQABAPAAAAAAAAAAACH5BAEAAAAALAAAAAABAAEAAAICRAEAOw==\" width=\"225\"/>\n",
       " <noscript>\n",
       " <img alt=\"Cooper Sofa\" height=\"225\" src=\"https://secure.img1.wfrcdn.com/lf/79/hash/11881/8771700/1/Cooper%2BSofa.jpg\" width=\"225\"/>\n",
       " </noscript>\n",
       " </div>\n",
       " <div class=\"sb_prod_features borderleft\" data-click-location=\"Product10\">\n",
       " <div class=\"sb_prod_features_container\">\n",
       " <div class=\"emphasis\">\n",
       "               Product Features\n",
       "             </div>\n",
       " <ul class=\"sb_prod_feature_list\">\n",
       " <li class=\"sb_prod_feature_item\">\n",
       "                   Overall: 39\" H x 82\" W x 37\" D\n",
       "                 </li>\n",
       " <li class=\"sb_prod_feature_item\">\n",
       "                   Design: Standard\n",
       "                 </li>\n",
       " <li class=\"sb_prod_feature_item\">\n",
       "                   Upholstery Material: Other\n",
       "                 </li>\n",
       " <li class=\"sb_prod_feature_item\">\n",
       "                   Overall Product Weight: 125lbs\n",
       "                 </li>\n",
       " </ul>\n",
       " <div class=\"sb_prod_copy\" data-click-location=\"Product10\">\n",
       "                 The Serta Upholstery Cooper Sofa lends a touch of elegance to your home decor and proves to be a welcome addition. Featuring contemporary style, this sofa is sure to enhance the decor of your room. It is an ideal addition to most living rooms and guest rooms. \n",
       " \n",
       " The Cooper Sofa by Serta Upholstery is made from hardwood frames for optimum sturdiness and durability. It is upholstered in polyester, which is sure to offers long lasting performance. Available in multiple finishes, the sofa looks...\n",
       "               </div>\n",
       " </div>\n",
       " <div class=\"prod_info_collapse\"></div>\n",
       " </div>\n",
       " <div class=\"sb_prod_details_block js-ss-click\" data-click-location=\"Product10\" data-click-track=\"sb_swatch_bottom_product_info_click\">\n",
       " <div class=\"sb_prod_grid_height\">\n",
       " <div class=\"sbprodmoreopts note margin_sm_top margin_sm_bottom\">\n",
       " <span class=\"cleanlink inlineblock js-ss-click sb_swatch_more_link \" data-click-track=\"sb_swatch_more_options_click\" title=\"Cooper Sofa\">\n",
       "             More Options: Fabric »\n",
       "           </span>\n",
       " </div>\n",
       " <span class=\"sb_names blocklevel cleanlink margin_sm_top\" title=\"Cooper Sofa\">\n",
       " <p class=\"sb_prod_name emphasis\">Cooper Sofa</p>\n",
       " <p class=\"sb_manu_name_solo smtext\">\n",
       "               by Serta Upholstery\n",
       "             </p>\n",
       " </span>\n",
       " </div>\n",
       " <div class=\"sb_left_block\">\n",
       " <div class=\"sb_pricing_wrap\">\n",
       " <div class=\"price pricetext sb_pricetext midtitle\"><span class=\"is_price_label\"></span><span class=\"is_price_value\"><span class=\"from_text emphasis wf_bodycolortext note\">from </span>$429.99</span> <span class=\"wasprice wf_bodycolortext deemphasize strike\">$667.00</span></div>\n",
       " </div>\n",
       " <div class=\"sb_shipping_wrap\">\n",
       "         Free Shipping\n",
       "         \n",
       "       </div>\n",
       " <div class=\"reviewbox pos_rel ltbodytext\">\n",
       " <span class=\"stars_wrap review_stars_block_sm pos_rel fl inlineblock cleanlink_disabled stars_sm_10 js-ss-click js-track-event\">\n",
       "      <span class=\"stars_foreground\"></span>\n",
       " </span>\n",
       "   \n",
       "     (51)\n",
       "   \n",
       " </div>\n",
       " </div>\n",
       " </div>\n",
       " </a>,\n",
       " <a class=\"productbox fl js-ss-click cleanlink sb_noline js-product-bottom-link js-prod-content sb_prod_content yui3-filter-wrap \" data-click-track=\"browse_product:Superbrowse\" data-sku=\"KMDS1431\" href=\"http://www.wayfair.com/Kingstown-Home-Carthusia-Tufted-Button-Sofa-KMDS1431.html\" id=\"productbox_KMDS1431\">\n",
       " <div class=\"sb_prod_image_wrapper pos_rel js-clipbar_drag \" data-favorites-key=\"KMDS1431\" data-favorites-type=\"1\" data-image-url=\"https://secure.img2.wfrcdn.com/lf/79/hash/29633/15472325/1/Carthusia%2BSofa.jpg\" data-product-title=\"Carthusia Sofa\" data-sku=\"KMDS1431\">\n",
       " <div class=\"sb_prod_favs_wrap js-sb-favs-icon-wrap hidden-node favs_out\">\n",
       " <span class=\"favs_icon_lt pos_rel pointer inlineblock cleanlink_disabled js-favorites-button js_clipbar_button js-ss-click\" data-click-track=\"SB_Favorites\" data-favorites-key=\"KMDS1431\" data-favorites-type=\"1\" data-image-url=\"https://secure.img2.wfrcdn.com/lf/79/hash/29633/15472325/1/Carthusia%2BSofa.jpg\" data-product_manufacturer=\"Kingstown Home\" data-product_title=\"Carthusia Sofa\">\n",
       " <span class=\"favs_icon_glyph pos_rel\"></span>\n",
       " </span>\n",
       " </div>\n",
       " <div class=\"sb_prod_qv_wrap sbprodoptionswrap favs_out centertext pointer js-sb-qv-btn-wrap hidden-node favs_out\" data-qv-js=\"true\">\n",
       " <input class=\"js-ss-click js-viewmore jq-quickview js-quickview-btn note emphasis ltbodytext pointer quickview_btn wflink viewmoreheadadmin \" data-click-track=\"sb_add_to_cart:SB_quickview\" data-product-block-url=\"/v/product/quick_view?sku=KMDS1431&amp;\" type=\"button\" value=\"QUICK VIEW\"/>\n",
       " </div>\n",
       " <img alt=\"Carthusia Sofa\" class=\"js-lazy-loaded-image\" height=\"225\" src=\"data:image/gif;base64,R0lGODlhAQABAPAAAAAAAAAAACH5BAEAAAAALAAAAAABAAEAAAICRAEAOw==\" width=\"225\"/>\n",
       " <noscript>\n",
       " <img alt=\"Carthusia Sofa\" height=\"225\" src=\"https://secure.img2.wfrcdn.com/lf/79/hash/29633/15472325/1/Carthusia%2BSofa.jpg\" width=\"225\"/>\n",
       " </noscript>\n",
       " </div>\n",
       " <div class=\"sb_prod_features borderleft\" data-click-location=\"Product11\">\n",
       " <div class=\"sb_prod_features_container\">\n",
       " <div class=\"emphasis\">\n",
       "               Product Features\n",
       "             </div>\n",
       " <ul class=\"sb_prod_feature_list\">\n",
       " <li class=\"sb_prod_feature_item\">\n",
       "                   Overall: 29.13\" H x 91.25\" W x 37.75\" D\n",
       "                 </li>\n",
       " <li class=\"sb_prod_feature_item\">\n",
       "                   Assembly Required: Yes\n",
       "                 </li>\n",
       " <li class=\"sb_prod_feature_item\">\n",
       "                   Product Warranty: 1 Year\n",
       "                 </li>\n",
       " <li class=\"sb_prod_feature_item\">\n",
       "                   Design: Standard\n",
       "                 </li>\n",
       " <li class=\"sb_prod_feature_item\">\n",
       "                   Frame Material: Wood\n",
       "                 </li>\n",
       " </ul>\n",
       " <div class=\"sb_prod_copy\" data-click-location=\"Product11\">\n",
       "                 This luxurious sofa merging with style and elegance with the tailored silhouette of modern seating, features rolled arms and tufted button upholstery. It is a perfect furniture piece to add to your room's decor, and is a true classic center piece.\n",
       "               </div>\n",
       " </div>\n",
       " <div class=\"prod_info_collapse\"></div>\n",
       " </div>\n",
       " <div class=\"sb_prod_details_block js-ss-click\" data-click-location=\"Product11\" data-click-track=\"sb_swatch_bottom_product_info_click\">\n",
       " <div class=\"sb_prod_grid_height\">\n",
       " <div class=\"sbprodmoreopts note margin_sm_top margin_sm_bottom\">\n",
       " <span class=\"cleanlink inlineblock js-ss-click sb_swatch_more_link \" data-click-track=\"sb_swatch_more_options_click\" title=\"Carthusia Sofa\">\n",
       "             More Options: Color »\n",
       "           </span>\n",
       " </div>\n",
       " <span class=\"sb_names blocklevel cleanlink margin_sm_top\" title=\"Carthusia Sofa\">\n",
       " <p class=\"sb_prod_name emphasis\">Carthusia Sofa</p>\n",
       " <p class=\"sb_manu_name_solo smtext\">\n",
       "               by Kingstown Home\n",
       "             </p>\n",
       " </span>\n",
       " </div>\n",
       " <div class=\"sb_left_block\">\n",
       " <div class=\"sb_pricing_wrap\">\n",
       " <div class=\"price pricetext sb_pricetext midtitle\"><span class=\"is_price_label\"></span><span class=\"is_price_value\"><span class=\"from_text emphasis wf_bodycolortext note\">from </span>$829.99</span> <span class=\"wasprice wf_bodycolortext deemphasize strike\">$1,499.00</span></div>\n",
       " </div>\n",
       " <div class=\"sb_shipping_wrap\">\n",
       "         Free Shipping\n",
       "         \n",
       "       </div>\n",
       " <div class=\"reviewbox pos_rel ltbodytext\">\n",
       " <span class=\"stars_wrap review_stars_block_sm pos_rel fl inlineblock cleanlink_disabled stars_sm_10 js-ss-click js-track-event\">\n",
       "      <span class=\"stars_foreground\"></span>\n",
       " </span>\n",
       "   \n",
       "     (91)\n",
       "   \n",
       " </div>\n",
       " </div>\n",
       " </div>\n",
       " </a>,\n",
       " <a class=\"productbox fl js-ss-click cleanlink sb_noline js-product-bottom-link js-prod-content sb_prod_content yui3-filter-wrap \" data-click-track=\"browse_product:Superbrowse\" data-sku=\"XSQ1696\" href=\"http://www.wayfair.com/Serta-at-Home-Copenhagen-Deluxe-Sofa-CR-43541PB-XSQ1696.html\" id=\"productbox_XSQ1696\">\n",
       " <div class=\"sb_prod_image_wrapper pos_rel js-clipbar_drag \" data-favorites-key=\"XSQ1696\" data-favorites-type=\"1\" data-image-url=\"https://secure.img2.wfrcdn.com/lf/79/hash/25162/17106959/1/Copenhagen%2BDeluxe%2BSofa.jpg\" data-product-title=\"Copenhagen Deluxe Sofa\" data-sku=\"XSQ1696\">\n",
       " <div class=\"sb_prod_favs_wrap js-sb-favs-icon-wrap hidden-node favs_out\">\n",
       " <span class=\"favs_icon_lt pos_rel pointer inlineblock cleanlink_disabled js-favorites-button js_clipbar_button js-ss-click\" data-click-track=\"SB_Favorites\" data-favorites-key=\"XSQ1696\" data-favorites-type=\"1\" data-image-url=\"https://secure.img2.wfrcdn.com/lf/79/hash/25162/17106959/1/Copenhagen%2BDeluxe%2BSofa.jpg\" data-product_manufacturer=\"Serta at Home\" data-product_title=\"Copenhagen Deluxe Sofa\">\n",
       " <span class=\"favs_icon_glyph pos_rel\"></span>\n",
       " </span>\n",
       " </div>\n",
       " <div class=\"sb_prod_qv_wrap sbprodoptionswrap favs_out centertext pointer js-sb-qv-btn-wrap hidden-node favs_out\" data-qv-js=\"true\">\n",
       " <input class=\"js-ss-click js-viewmore jq-quickview js-quickview-btn note emphasis ltbodytext pointer quickview_btn wflink viewmoreheadadmin \" data-click-track=\"sb_add_to_cart:SB_quickview\" data-product-block-url=\"/v/product/quick_view?sku=XSQ1696&amp;\" type=\"button\" value=\"QUICK VIEW\"/>\n",
       " </div>\n",
       " <img alt=\"Copenhagen Deluxe Sofa\" class=\"js-lazy-loaded-image\" height=\"225\" src=\"data:image/gif;base64,R0lGODlhAQABAPAAAAAAAAAAACH5BAEAAAAALAAAAAABAAEAAAICRAEAOw==\" width=\"225\"/>\n",
       " <noscript>\n",
       " <img alt=\"Copenhagen Deluxe Sofa\" height=\"225\" src=\"https://secure.img2.wfrcdn.com/lf/79/hash/25162/17106959/1/Copenhagen%2BDeluxe%2BSofa.jpg\" width=\"225\"/>\n",
       " </noscript>\n",
       " </div>\n",
       " <div class=\"sb_prod_features borderleft\" data-click-location=\"Product12\">\n",
       " <div class=\"sb_prod_features_container\">\n",
       " <div class=\"emphasis\">\n",
       "               Product Features\n",
       "             </div>\n",
       " <ul class=\"sb_prod_feature_list\">\n",
       " <li class=\"sb_prod_feature_item\">\n",
       "                   Overall: 35\" H x 78\" W x 32.5\" D\n",
       "                 </li>\n",
       " <li class=\"sb_prod_feature_item\">\n",
       "                   Assembly Required: Yes\n",
       "                 </li>\n",
       " <li class=\"sb_prod_feature_item\">\n",
       "                   Product Warranty: 1 Year limited\n",
       "                 </li>\n",
       " <li class=\"sb_prod_feature_item\">\n",
       "                   Design: Standard\n",
       "                 </li>\n",
       " <li class=\"sb_prod_feature_item\">\n",
       "                   Frame Material: Manufactured wood\n",
       "                 </li>\n",
       " </ul>\n",
       " <div class=\"sb_prod_copy\" data-click-location=\"Product12\">\n",
       "                 An ideal seating option to keep in your living room, the Serta at Home Copenhagen Deluxe Sofa perfectly blends style and utility. Featuring a contemporary style, this sofa is sure to enhance the decor of your room. It has clean lines and immaculate angles, which are further revved up by its refined finesse. You can also place this sofa in the living room, guest room, dorm, or vacation home. \n",
       " \n",
       " The Copenhagen Deluxe Sofa from Serta at Home is made from a hardwood base for optimum sturdiness and...\n",
       "               </div>\n",
       " </div>\n",
       " <div class=\"prod_info_collapse\"></div>\n",
       " </div>\n",
       " <div class=\"sb_prod_details_block js-ss-click\" data-click-location=\"Product12\" data-click-track=\"sb_swatch_bottom_product_info_click\">\n",
       " <div class=\"sb_prod_grid_height\">\n",
       " <span class=\"sb_names blocklevel cleanlink margin_sm_top\" title=\"Copenhagen Deluxe Sofa\">\n",
       " <p class=\"sb_prod_name emphasis\">Copenhagen Deluxe Sofa</p>\n",
       " <p class=\"sb_manu_name_solo smtext\">\n",
       "               by Serta at Home\n",
       "             </p>\n",
       " </span>\n",
       " </div>\n",
       " <div class=\"sb_left_block\">\n",
       " <div class=\"sb_pricing_wrap\">\n",
       " <div class=\"price pricetext sb_pricetext midtitle\"><span class=\"is_price_label\"></span><span class=\"is_price_value\">$428.99</span> <span class=\"wasprice wf_bodycolortext deemphasize strike\">$629.99</span></div>\n",
       " </div>\n",
       " <div class=\"sb_shipping_wrap\">\n",
       "         Free Shipping\n",
       "         \n",
       "       </div>\n",
       " <div class=\"reviewbox pos_rel ltbodytext\">\n",
       " <span class=\"stars_wrap review_stars_block_sm pos_rel fl inlineblock cleanlink_disabled stars_sm_9 js-ss-click js-track-event\">\n",
       "      <span class=\"stars_foreground\"></span>\n",
       " </span>\n",
       "   \n",
       "     (123)\n",
       "   \n",
       " </div>\n",
       " </div>\n",
       " </div>\n",
       " </a>,\n",
       " <a class=\"productbox fl js-ss-click cleanlink sb_noline js-product-bottom-link js-prod-content sb_prod_content yui3-filter-wrap \" data-click-track=\"sb_product_with_swatches_clicked,ss3301912_sale,browse_product:Superbrowse\" data-sku=\"BL8470\" href=\"http://www.wayfair.com/Montgomery-Sofa-012013262-BL8470.html\" id=\"productbox_BL8470\">\n",
       " <div class=\"sb_prod_image_wrapper pos_rel js-clipbar_drag \" data-favorites-key=\"BL8470\" data-favorites-type=\"1\" data-image-url=\"https://secure.img2.wfrcdn.com/lf/79/hash/25006/17243865/1/Montgomery%2BLeather%2BSofa.jpg\" data-product-title=\"Montgomery Leather Sofa\" data-sku=\"BL8470\">\n",
       " <div class=\"sb_banner_wrap sbsale_banner heading_font_reg xstext whitetext \">\n",
       "                     Sale\n",
       "       </div>\n",
       " <div class=\"sb_prod_favs_wrap js-sb-favs-icon-wrap hidden-node favs_out\">\n",
       " <span class=\"favs_icon_lt pos_rel pointer inlineblock cleanlink_disabled js-favorites-button js_clipbar_button js-ss-click\" data-click-track=\"SB_Favorites\" data-favorites-key=\"BL8470\" data-favorites-type=\"1\" data-image-url=\"https://secure.img2.wfrcdn.com/lf/79/hash/25006/17243865/1/Montgomery%2BLeather%2BSofa.jpg\" data-product_manufacturer=\"Birch Lane\" data-product_title=\"Montgomery Leather Sofa\">\n",
       " <span class=\"favs_icon_glyph pos_rel\"></span>\n",
       " </span>\n",
       " </div>\n",
       " <div class=\"swatch_hover_zoom js-swatch_hover_zoom bgcolorwhite borderall hidden-node\">\n",
       " </div>\n",
       " <div class=\"sb_prod_qv_wrap sbprodoptionswrap favs_out centertext pointer js-sb-qv-btn-wrap hidden-node favs_out\" data-qv-js=\"true\">\n",
       " <input class=\"js-ss-click js-viewmore jq-quickview js-quickview-btn note emphasis ltbodytext pointer quickview_btn wflink viewmoreheadadmin \" data-click-track=\"sb_add_to_cart:SB_quickview\" data-product-block-url=\"/v/product/quick_view?sku=BL8470&amp;\" type=\"button\" value=\"QUICK VIEW\"/>\n",
       " </div>\n",
       " <img alt=\"Montgomery Leather Sofa\" class=\"js-lazy-loaded-image\" height=\"225\" src=\"data:image/gif;base64,R0lGODlhAQABAPAAAAAAAAAAACH5BAEAAAAALAAAAAABAAEAAAICRAEAOw==\" width=\"225\"/>\n",
       " <noscript>\n",
       " <img alt=\"Montgomery Leather Sofa\" height=\"225\" src=\"https://secure.img2.wfrcdn.com/lf/79/hash/25006/17243865/1/Montgomery%2BLeather%2BSofa.jpg\" width=\"225\"/>\n",
       " </noscript>\n",
       " </div>\n",
       " <div class=\"sb_prod_features borderleft\" data-click-location=\"Product13\">\n",
       " <div class=\"sb_prod_features_container\">\n",
       " <div class=\"emphasis\">\n",
       "               Product Features\n",
       "             </div>\n",
       " <ul class=\"sb_prod_feature_list\">\n",
       " <li class=\"sb_prod_feature_item\">\n",
       "                   Overall: 37\" H x 88\" W x 40\" D\n",
       "                 </li>\n",
       " <li class=\"sb_prod_feature_item\">\n",
       "                   Design: Standard\n",
       "                 </li>\n",
       " <li class=\"sb_prod_feature_item\">\n",
       "                   Upholstery Material: Leather\n",
       "                 </li>\n",
       " <li class=\"sb_prod_feature_item\">\n",
       "                   Overall Product Weight: 173lbs\n",
       "                 </li>\n",
       " </ul>\n",
       " <div class=\"sb_prod_copy\" data-click-location=\"Product13\">\n",
       "                 Establish an air of refinement with fine leather, Charles of London-style arms, and turned wood feet of the Montgomery Sofa. \n",
       "               </div>\n",
       " </div>\n",
       " <div class=\"prod_info_collapse\"></div>\n",
       " </div>\n",
       " <div class=\"sb_prod_details_block js-ss-click\" data-click-location=\"Product13\" data-click-track=\"sb_swatch_bottom_product_info_click\">\n",
       " <div class=\"sb_prod_grid_height\">\n",
       " <div class=\"sbprodmoreopts note margin_sm_top margin_sm_bottom\">\n",
       " <span class=\"cleanlink inlineblock js-ss-click sb_swatch_more_link \" data-click-track=\"sb_swatch_more_options_click\" title=\"Montgomery Leather Sofa\">\n",
       "             More Options: Fabric »\n",
       "           </span>\n",
       " </div>\n",
       " <span class=\"sb_names blocklevel cleanlink margin_sm_top\" title=\"Montgomery Leather Sofa\">\n",
       " <p class=\"sb_prod_name emphasis\">Montgomery Leather Sofa</p>\n",
       " <p class=\"sb_manu_name_solo smtext\">\n",
       "               by Birch Lane\n",
       "             </p>\n",
       " </span>\n",
       " </div>\n",
       " <div class=\"sb_left_block\">\n",
       " <div class=\"sb_pricing_wrap\">\n",
       " <div class=\"price noticetext sb_noticetext midtitle\"><span class=\"is_price_label\"></span><span class=\"is_price_value\"><span class=\"from_text emphasis wf_bodycolortext note\">from </span>$1,440.00</span> <span class=\"wasprice wf_bodycolortext deemphasize strike\">$1,799.00</span></div>\n",
       " </div>\n",
       " <div class=\"sb_shipping_wrap\">\n",
       "         Free Inside Delivery\n",
       "         \n",
       "       </div>\n",
       " <div class=\"reviewbox pos_rel\"></div>\n",
       " </div>\n",
       " </div>\n",
       " </a>,\n",
       " <a class=\"productbox fl js-ss-click cleanlink sb_noline js-product-bottom-link js-prod-content sb_prod_content yui3-filter-wrap \" data-click-track=\"browse_product:Superbrowse\" data-sku=\"GNT3200\" href=\"http://www.wayfair.com/Harvest-Sleeper-Sofa-7500-GNT3200.html\" id=\"productbox_GNT3200\">\n",
       " <div class=\"sb_prod_image_wrapper pos_rel js-clipbar_drag \" data-favorites-key=\"GNT3200\" data-favorites-type=\"1\" data-image-url=\"https://secure.img2.wfrcdn.com/lf/79/hash/2668/14207269/1/Harvest%2BSleeper%2BSofa.jpg\" data-product-title=\"Harvest Sleeper Sofa\" data-sku=\"GNT3200\">\n",
       " <div class=\"sb_prod_favs_wrap js-sb-favs-icon-wrap hidden-node favs_out\">\n",
       " <span class=\"favs_icon_lt pos_rel pointer inlineblock cleanlink_disabled js-favorites-button js_clipbar_button js-ss-click\" data-click-track=\"SB_Favorites\" data-favorites-key=\"GNT3200\" data-favorites-type=\"1\" data-image-url=\"https://secure.img2.wfrcdn.com/lf/79/hash/2668/14207269/1/Harvest%2BSleeper%2BSofa.jpg\" data-product_manufacturer=\"Signature Design by Ashley\" data-product_title=\"Harvest Sleeper Sofa\">\n",
       " <span class=\"favs_icon_glyph pos_rel\"></span>\n",
       " </span>\n",
       " </div>\n",
       " <div class=\"sb_prod_qv_wrap sbprodoptionswrap favs_out centertext pointer js-sb-qv-btn-wrap hidden-node favs_out\" data-qv-js=\"true\">\n",
       " <input class=\"js-ss-click js-viewmore jq-quickview js-quickview-btn note emphasis ltbodytext pointer quickview_btn wflink viewmoreheadadmin \" data-click-track=\"sb_add_to_cart:SB_quickview\" data-product-block-url=\"/v/product/quick_view?sku=GNT3200&amp;\" type=\"button\" value=\"QUICK VIEW\"/>\n",
       " </div>\n",
       " <img alt=\"Harvest Sleeper Sofa\" class=\"js-lazy-loaded-image\" height=\"225\" src=\"data:image/gif;base64,R0lGODlhAQABAPAAAAAAAAAAACH5BAEAAAAALAAAAAABAAEAAAICRAEAOw==\" width=\"225\"/>\n",
       " <noscript>\n",
       " <img alt=\"Harvest Sleeper Sofa\" height=\"225\" src=\"https://secure.img2.wfrcdn.com/lf/79/hash/2668/14207269/1/Harvest%2BSleeper%2BSofa.jpg\" width=\"225\"/>\n",
       " </noscript>\n",
       " </div>\n",
       " <div class=\"sb_prod_features borderleft\" data-click-location=\"Product14\">\n",
       " <div class=\"sb_prod_features_container\">\n",
       " <div class=\"emphasis\">\n",
       "               Product Features\n",
       "             </div>\n",
       " <ul class=\"sb_prod_feature_list\">\n",
       " <li class=\"sb_prod_feature_item\">\n",
       "                   Assembly Required: No\n",
       "                 </li>\n",
       " <li class=\"sb_prod_feature_item\">\n",
       "                   Overall: 40\" H x 90\" W x 39\" D\n",
       "                 </li>\n",
       " <li class=\"sb_prod_feature_item\">\n",
       "                   Design: Sleeper\n",
       "                 </li>\n",
       " <li class=\"sb_prod_feature_item\">\n",
       "                   Upholstery Material: Other\n",
       "                 </li>\n",
       " <li class=\"sb_prod_feature_item\">\n",
       "                   Overall Product Weight: 184.6lbs\n",
       "                 </li>\n",
       " </ul>\n",
       " <div class=\"sb_prod_copy\" data-click-location=\"Product14\">\n",
       "                 Enjoy total comfort and luxury with style by getting home the Signature Design by Ashley Harvest Sleeper Sofa. This graceful sleeper sofa has foam-filled cushions, which makes it comfortable and plush. It has manufactured wood frame that ensures years of reliable use. The sleeper sofa has a solid pattern and features classy padded swoop arms. It is available in various colors, allowing you choose the one that best suits with your living room. The sleeper sofa is a part of the Harvest...\n",
       "               </div>\n",
       " </div>\n",
       " <div class=\"prod_info_collapse\"></div>\n",
       " </div>\n",
       " <div class=\"sb_prod_details_block js-ss-click\" data-click-location=\"Product14\" data-click-track=\"sb_swatch_bottom_product_info_click\">\n",
       " <div class=\"sb_prod_grid_height\">\n",
       " <div class=\"sbprodmoreopts note margin_sm_top margin_sm_bottom\">\n",
       " <span class=\"cleanlink inlineblock js-ss-click sb_swatch_more_link \" data-click-track=\"sb_swatch_more_options_click\" title=\"Harvest Sleeper Sofa\">\n",
       "             More Options: Color »\n",
       "           </span>\n",
       " </div>\n",
       " <span class=\"sb_names blocklevel cleanlink margin_sm_top\" title=\"Harvest Sleeper Sofa\">\n",
       " <p class=\"sb_prod_name emphasis\">Harvest Sleeper Sofa</p>\n",
       " <p class=\"sb_manu_name_solo smtext\">\n",
       "               by Signature Design by Ashley\n",
       "             </p>\n",
       " </span>\n",
       " </div>\n",
       " <div class=\"sb_left_block\">\n",
       " <div class=\"sb_pricing_wrap\">\n",
       " <div class=\"price pricetext sb_pricetext midtitle\"><span class=\"is_price_label\"></span><span class=\"is_price_value\">$673.28</span> <span class=\"wasprice wf_bodycolortext deemphasize strike\">$870.75</span></div>\n",
       " </div>\n",
       " <div class=\"sb_shipping_wrap\">\n",
       "         Free Shipping\n",
       "         \n",
       "       </div>\n",
       " <div class=\"reviewbox pos_rel ltbodytext\">\n",
       " <span class=\"stars_wrap review_stars_block_sm pos_rel fl inlineblock cleanlink_disabled stars_sm_10 js-ss-click js-track-event\">\n",
       "      <span class=\"stars_foreground\"></span>\n",
       " </span>\n",
       "   \n",
       "     (52)\n",
       "   \n",
       " </div>\n",
       " </div>\n",
       " </div>\n",
       " </a>,\n",
       " <a class=\"productbox fl js-ss-click cleanlink sb_noline js-product-bottom-link js-prod-content sb_prod_content yui3-filter-wrap \" data-click-track=\"ss3301912_sale,browse_product:Superbrowse\" data-sku=\"MCRR1218\" href=\"http://www.wayfair.com/Aries-Sofa-by-Serta-Upholstery-MCRR1218-MCRR1218.html\" id=\"productbox_MCRR1218\">\n",
       " <div class=\"sb_prod_image_wrapper pos_rel js-clipbar_drag \" data-favorites-key=\"MCRR1218\" data-favorites-type=\"1\" data-image-url=\"https://secure.img2.wfrcdn.com/lf/79/hash/33808/16683311/1/Aries%2BSofa%2Bby%2BSerta%2BUpholstery.jpg\" data-product-title=\"Aries Sofa by Serta Upholstery\" data-sku=\"MCRR1218\">\n",
       " <div class=\"sb_banner_wrap sbsale_banner heading_font_reg xstext whitetext \">\n",
       "                     Sale\n",
       "       </div>\n",
       " <div class=\"sb_prod_favs_wrap js-sb-favs-icon-wrap hidden-node favs_out\">\n",
       " <span class=\"favs_icon_lt pos_rel pointer inlineblock cleanlink_disabled js-favorites-button js_clipbar_button js-ss-click\" data-click-track=\"SB_Favorites\" data-favorites-key=\"MCRR1218\" data-favorites-type=\"1\" data-image-url=\"https://secure.img2.wfrcdn.com/lf/79/hash/33808/16683311/1/Aries%2BSofa%2Bby%2BSerta%2BUpholstery.jpg\" data-product_manufacturer=\"Mercury Row\" data-product_title=\"Aries Sofa by Serta Upholstery\">\n",
       " <span class=\"favs_icon_glyph pos_rel\"></span>\n",
       " </span>\n",
       " </div>\n",
       " <div class=\"sb_prod_qv_wrap sbprodoptionswrap favs_out centertext pointer js-sb-qv-btn-wrap hidden-node favs_out\" data-qv-js=\"true\">\n",
       " <input class=\"js-ss-click js-viewmore jq-quickview js-quickview-btn note emphasis ltbodytext pointer quickview_btn wflink viewmoreheadadmin \" data-click-track=\"sb_add_to_cart:SB_quickview\" data-product-block-url=\"/v/product/quick_view?sku=MCRR1218&amp;\" type=\"button\" value=\"QUICK VIEW\"/>\n",
       " </div>\n",
       " <img alt=\"Aries Sofa by Serta Upholstery\" class=\"js-lazy-loaded-image\" height=\"225\" src=\"data:image/gif;base64,R0lGODlhAQABAPAAAAAAAAAAACH5BAEAAAAALAAAAAABAAEAAAICRAEAOw==\" width=\"225\"/>\n",
       " <noscript>\n",
       " <img alt=\"Aries Sofa by Serta Upholstery\" height=\"225\" src=\"https://secure.img2.wfrcdn.com/lf/79/hash/33808/16683311/1/Aries%2BSofa%2Bby%2BSerta%2BUpholstery.jpg\" width=\"225\"/>\n",
       " </noscript>\n",
       " </div>\n",
       " <div class=\"sb_prod_features borderleft\" data-click-location=\"Product15\">\n",
       " <div class=\"sb_prod_features_container\">\n",
       " <div class=\"emphasis\">\n",
       "               Product Features\n",
       "             </div>\n",
       " <ul class=\"sb_prod_feature_list\">\n",
       " <li class=\"sb_prod_feature_item\">\n",
       "                   Overall: 35\" H x 76\" W x 36\" D\n",
       "                 </li>\n",
       " <li class=\"sb_prod_feature_item\">\n",
       "                   Design: Standard\n",
       "                 </li>\n",
       " <li class=\"sb_prod_feature_item\">\n",
       "                   Upholstery Material: Other\n",
       "                 </li>\n",
       " <li class=\"sb_prod_feature_item\">\n",
       "                   Overall Product Weight: 115lbs\n",
       "                 </li>\n",
       " </ul>\n",
       " <div class=\"sb_prod_copy\" data-click-location=\"Product15\">\n",
       "                 Lounge in style with the Aries Sofa. Its track arms, crisp welt, and block feet lend any space a chic, refined touch. High-density foam cushions promise superior comfort and a plush look, while a reinforced hardwood frame ensures lasting quality. Abstract graphic pillows add an artsy pop to the solid upholstery.\n",
       " \n",
       " Refresh your living room’s look with our Aries collection. A cozy take on modern design, this upholstery set offers style and comfort.\n",
       "               </div>\n",
       " </div>\n",
       " <div class=\"prod_info_collapse\"></div>\n",
       " </div>\n",
       " <div class=\"sb_prod_details_block js-ss-click\" data-click-location=\"Product15\" data-click-track=\"sb_swatch_bottom_product_info_click\">\n",
       " <div class=\"sb_prod_grid_height\">\n",
       " <div class=\"sbprodmoreopts note margin_sm_top margin_sm_bottom\">\n",
       " <span class=\"cleanlink inlineblock js-ss-click sb_swatch_more_link \" data-click-track=\"sb_swatch_more_options_click\" title=\"Aries Sofa by Serta Upholstery\">\n",
       "             More Options: Color »\n",
       "           </span>\n",
       " </div>\n",
       " <span class=\"sb_names blocklevel cleanlink margin_sm_top\" title=\"Aries Sofa by Serta Upholstery\">\n",
       " <p class=\"sb_prod_name emphasis\">Aries Sofa by Serta Upholstery</p>\n",
       " <p class=\"sb_manu_name_solo smtext\">\n",
       "               by Mercury Row\n",
       "             </p>\n",
       " </span>\n",
       " </div>\n",
       " <div class=\"sb_left_block\">\n",
       " <div class=\"sb_pricing_wrap\">\n",
       " <div class=\"price noticetext sb_noticetext midtitle\"><span class=\"is_price_label\"></span><span class=\"is_price_value\">$361.99</span> <span class=\"wasprice wf_bodycolortext deemphasize strike\">$627.00</span></div>\n",
       " </div>\n",
       " <div class=\"sb_shipping_wrap\">\n",
       "         Free Shipping\n",
       "         \n",
       "       </div>\n",
       " <div class=\"reviewbox pos_rel ltbodytext\">\n",
       " <span class=\"stars_wrap review_stars_block_sm pos_rel fl inlineblock cleanlink_disabled stars_sm_9 js-ss-click js-track-event\">\n",
       "      <span class=\"stars_foreground\"></span>\n",
       " </span>\n",
       "   \n",
       "     (84)\n",
       "   \n",
       " </div>\n",
       " </div>\n",
       " </div>\n",
       " </a>,\n",
       " <a class=\"productbox fl js-ss-click cleanlink sb_noline js-product-bottom-link js-prod-content sb_prod_content yui3-filter-wrap \" data-click-track=\"browse_product_with_two_day_delivery,browse_product:Superbrowse\" data-sku=\"ZIPC1540\" href=\"http://www.wayfair.com/Gracie-Sofa-ZIPC1540-ZIPC1540.html\" id=\"productbox_ZIPC1540\">\n",
       " <div class=\"sb_prod_image_wrapper pos_rel js-clipbar_drag \" data-favorites-key=\"ZIPC1540\" data-favorites-type=\"1\" data-image-url=\"https://secure.img1.wfrcdn.com/lf/79/hash/30593/15804602/1/Gracie%2BSofa.jpg\" data-product-title=\"Gracie Sofa\" data-sku=\"ZIPC1540\">\n",
       " <div class=\"sb_prod_favs_wrap js-sb-favs-icon-wrap hidden-node favs_out\">\n",
       " <span class=\"favs_icon_lt pos_rel pointer inlineblock cleanlink_disabled js-favorites-button js_clipbar_button js-ss-click\" data-click-track=\"SB_Favorites\" data-favorites-key=\"ZIPC1540\" data-favorites-type=\"1\" data-image-url=\"https://secure.img1.wfrcdn.com/lf/79/hash/30593/15804602/1/Gracie%2BSofa.jpg\" data-product_manufacturer=\"Zipcode Design\" data-product_title=\"Gracie Sofa\">\n",
       " <span class=\"favs_icon_glyph pos_rel\"></span>\n",
       " </span>\n",
       " </div>\n",
       " <div class=\"sb_prod_qv_wrap sbprodoptionswrap favs_out centertext pointer js-sb-qv-btn-wrap hidden-node favs_out\" data-qv-js=\"true\">\n",
       " <input class=\"js-ss-click js-viewmore jq-quickview js-quickview-btn note emphasis ltbodytext pointer quickview_btn wflink viewmoreheadadmin \" data-click-track=\"sb_add_to_cart:SB_quickview\" data-product-block-url=\"/v/product/quick_view?sku=ZIPC1540&amp;\" type=\"button\" value=\"QUICK VIEW\"/>\n",
       " </div>\n",
       " <img alt=\"Gracie Sofa\" class=\"js-lazy-loaded-image\" height=\"225\" src=\"data:image/gif;base64,R0lGODlhAQABAPAAAAAAAAAAACH5BAEAAAAALAAAAAABAAEAAAICRAEAOw==\" width=\"225\"/>\n",
       " <noscript>\n",
       " <img alt=\"Gracie Sofa\" height=\"225\" src=\"https://secure.img1.wfrcdn.com/lf/79/hash/30593/15804602/1/Gracie%2BSofa.jpg\" width=\"225\"/>\n",
       " </noscript>\n",
       " </div>\n",
       " <div class=\"sb_prod_features borderleft\" data-click-location=\"Product16\">\n",
       " <div class=\"sb_prod_features_container\">\n",
       " <div class=\"emphasis\">\n",
       "               Product Features\n",
       "             </div>\n",
       " <ul class=\"sb_prod_feature_list\">\n",
       " <li class=\"sb_prod_feature_item\">\n",
       "                   Overall: 35\" H x 72.44\" W x 33.27\" D\n",
       "                 </li>\n",
       " <li class=\"sb_prod_feature_item\">\n",
       "                   Design: Standard\n",
       "                 </li>\n",
       " <li class=\"sb_prod_feature_item\">\n",
       "                   Upholstery Material: Microfiber\n",
       "                 </li>\n",
       " <li class=\"sb_prod_feature_item\">\n",
       "                   Overall Product Weight: 99lbs\n",
       "                 </li>\n",
       " </ul>\n",
       " <div class=\"sb_prod_copy\" data-click-location=\"Product16\">\n",
       "                 Give your living room furniture a contemporary update with the Gracie Sofa. Square arms and block feet give this sofa a clean, tailored design, while the soft blue-gray or rich chocolate upholstery will enhance your space. Try topping with bright accent pillows and warm throws for a colorful look you can cozy up to. Zipcode Design is here to transform your first place into a home. After a long day at work, sometimes the first things you want to do is kick back on the couch and flip on the TV....\n",
       "               </div>\n",
       " </div>\n",
       " <div class=\"prod_info_collapse\"></div>\n",
       " </div>\n",
       " <div class=\"sb_prod_details_block js-ss-click\" data-click-location=\"Product16\" data-click-track=\"sb_swatch_bottom_product_info_click\">\n",
       " <div class=\"sb_prod_grid_height\">\n",
       " <div class=\"sbprodmoreopts note margin_sm_top margin_sm_bottom\">\n",
       " <span class=\"cleanlink inlineblock js-ss-click sb_swatch_more_link \" data-click-track=\"sb_swatch_more_options_click\" title=\"Gracie Sofa\">\n",
       "             More Options: Color »\n",
       "           </span>\n",
       " </div>\n",
       " <span class=\"sb_names blocklevel cleanlink margin_sm_top\" title=\"Gracie Sofa\">\n",
       " <p class=\"sb_prod_name emphasis\">Gracie Sofa</p>\n",
       " <p class=\"sb_manu_name_solo smtext\">\n",
       "               by Zipcode Design\n",
       "             </p>\n",
       " </span>\n",
       " </div>\n",
       " <div class=\"sb_left_block\">\n",
       " <div class=\"sb_pricing_wrap\">\n",
       " <div class=\"price pricetext sb_pricetext midtitle\"><span class=\"is_price_label\"></span><span class=\"is_price_value\">$349.99</span> <span class=\"wasprice wf_bodycolortext deemphasize strike\">$369.95</span></div>\n",
       " </div>\n",
       " <div class=\"sb_shipping_wrap\">\n",
       "         Free Shipping &amp; 2-Day Delivery\n",
       "         \n",
       "       </div>\n",
       " <div class=\"reviewbox pos_rel ltbodytext\">\n",
       " <span class=\"stars_wrap review_stars_block_sm pos_rel fl inlineblock cleanlink_disabled stars_sm_8 js-ss-click js-track-event\">\n",
       "      <span class=\"stars_foreground\"></span>\n",
       " </span>\n",
       "   \n",
       "     (8)\n",
       "   \n",
       " </div>\n",
       " </div>\n",
       " </div>\n",
       " </a>,\n",
       " <a class=\"productbox fl js-ss-click cleanlink sb_noline js-product-bottom-link js-prod-content sb_prod_content yui3-filter-wrap \" data-click-track=\"browse_product:Superbrowse\" data-sku=\"KLF3543\" href=\"http://www.wayfair.com/Klaussner-Furniture-Audrina-Sofa-KLF3543.html\" id=\"productbox_KLF3543\">\n",
       " <div class=\"sb_prod_image_wrapper pos_rel js-clipbar_drag \" data-favorites-key=\"KLF3543\" data-favorites-type=\"1\" data-image-url=\"https://secure.img1.wfrcdn.com/lf/79/hash/1322/17387260/1/Audrina%2BSofa.jpg\" data-product-title=\"Audrina Sofa\" data-sku=\"KLF3543\">\n",
       " <div class=\"sb_prod_favs_wrap js-sb-favs-icon-wrap hidden-node favs_out\">\n",
       " <span class=\"favs_icon_lt pos_rel pointer inlineblock cleanlink_disabled js-favorites-button js_clipbar_button js-ss-click\" data-click-track=\"SB_Favorites\" data-favorites-key=\"KLF3543\" data-favorites-type=\"1\" data-image-url=\"https://secure.img1.wfrcdn.com/lf/79/hash/1322/17387260/1/Audrina%2BSofa.jpg\" data-product_manufacturer=\"Klaussner Furniture\" data-product_title=\"Audrina Sofa\">\n",
       " <span class=\"favs_icon_glyph pos_rel\"></span>\n",
       " </span>\n",
       " </div>\n",
       " <div class=\"sb_prod_qv_wrap sbprodoptionswrap favs_out centertext pointer js-sb-qv-btn-wrap hidden-node favs_out\" data-qv-js=\"true\">\n",
       " <input class=\"js-ss-click js-viewmore jq-quickview js-quickview-btn note emphasis ltbodytext pointer quickview_btn wflink viewmoreheadadmin \" data-click-track=\"sb_add_to_cart:SB_quickview\" data-product-block-url=\"/v/product/quick_view?sku=KLF3543&amp;\" type=\"button\" value=\"QUICK VIEW\"/>\n",
       " </div>\n",
       " <img alt=\"Audrina Sofa\" class=\"js-lazy-loaded-image\" height=\"225\" src=\"data:image/gif;base64,R0lGODlhAQABAPAAAAAAAAAAACH5BAEAAAAALAAAAAABAAEAAAICRAEAOw==\" width=\"225\"/>\n",
       " <noscript>\n",
       " <img alt=\"Audrina Sofa\" height=\"225\" src=\"https://secure.img1.wfrcdn.com/lf/79/hash/1322/17387260/1/Audrina%2BSofa.jpg\" width=\"225\"/>\n",
       " </noscript>\n",
       " </div>\n",
       " <div class=\"sb_prod_features borderleft\" data-click-location=\"Product17\">\n",
       " <div class=\"sb_prod_features_container\">\n",
       " <div class=\"emphasis\">\n",
       "               Product Features\n",
       "             </div>\n",
       " <ul class=\"sb_prod_feature_list\">\n",
       " <li class=\"sb_prod_feature_item\">\n",
       "                   Overall: 31\" H x 88\" W x 37\" D\n",
       "                 </li>\n",
       " <li class=\"sb_prod_feature_item\">\n",
       "                   Overall Product Weight: 117lbs\n",
       "                 </li>\n",
       " <li class=\"sb_prod_feature_item\">\n",
       "                   Number of Items Included: 3\n",
       "                 </li>\n",
       " <li class=\"sb_prod_feature_item\">\n",
       "                   Country of Manufacture: United States\n",
       "                 </li>\n",
       " <li class=\"sb_prod_feature_item\">\n",
       "                   Product Type: Sofa\n",
       "                 </li>\n",
       " </ul>\n",
       " <div class=\"sb_prod_copy\" data-click-location=\"Product17\">\n",
       "                 The Klaussner Furniture Audrina Sofa is a simple yet charming option to keep in your living room. Featuring immaculate lines and meticulous cuts, this sofa has a contemporary style that is hard to miss. It can be easily paired with matching accent chairs to form a complete set for your drawing room. Due to its sleek and stylish looks, this sofa can also be used in hotels, restaurants, offices, or other commercial establishments. \n",
       " \n",
       " The Audrina Sofa from Klaussner Furniture is made from...\n",
       "               </div>\n",
       " </div>\n",
       " <div class=\"prod_info_collapse\"></div>\n",
       " </div>\n",
       " <div class=\"sb_prod_details_block js-ss-click\" data-click-location=\"Product17\" data-click-track=\"sb_swatch_bottom_product_info_click\">\n",
       " <div class=\"sb_prod_grid_height\">\n",
       " <div class=\"sbprodmoreopts note margin_sm_top margin_sm_bottom\">\n",
       " <span class=\"cleanlink inlineblock js-ss-click sb_swatch_more_link \" data-click-track=\"sb_swatch_more_options_click\" title=\"Audrina Sofa\">\n",
       "             More Options: Color »\n",
       "           </span>\n",
       " </div>\n",
       " <span class=\"sb_names blocklevel cleanlink margin_sm_top\" title=\"Audrina Sofa\">\n",
       " <p class=\"sb_prod_name emphasis\">Audrina Sofa</p>\n",
       " <p class=\"sb_manu_name_solo smtext\">\n",
       "               by Klaussner Furniture\n",
       "             </p>\n",
       " </span>\n",
       " </div>\n",
       " <div class=\"sb_left_block\">\n",
       " <div class=\"sb_pricing_wrap\">\n",
       " <div class=\"price pricetext sb_pricetext midtitle\"><span class=\"is_price_label\"></span><span class=\"is_price_value\">$659.99</span> <span class=\"wasprice wf_bodycolortext deemphasize strike\">$771.18</span></div>\n",
       " </div>\n",
       " <div class=\"sb_shipping_wrap\">\n",
       "         Free Shipping\n",
       "         \n",
       "       </div>\n",
       " <div class=\"reviewbox pos_rel ltbodytext\">\n",
       " <span class=\"stars_wrap review_stars_block_sm pos_rel fl inlineblock cleanlink_disabled stars_sm_11 js-ss-click js-track-event\">\n",
       "      <span class=\"stars_foreground\"></span>\n",
       " </span>\n",
       "   \n",
       "     (34)\n",
       "   \n",
       " </div>\n",
       " </div>\n",
       " </div>\n",
       " </a>,\n",
       " <a class=\"productbox fl js-ss-click cleanlink sb_noline js-product-bottom-link js-prod-content sb_prod_content yui3-filter-wrap \" data-click-track=\"sb_product_with_swatches_clicked,ss3301912_sale,browse_product:Superbrowse\" data-sku=\"THRE1317\" href=\"http://www.wayfair.com/Caroll-Sofa-by-Serta-Upholstery-THRE1317-THRE1317.html\" id=\"productbox_THRE1317\">\n",
       " <div class=\"sb_prod_image_wrapper pos_rel js-clipbar_drag \" data-favorites-key=\"THRE1317\" data-favorites-type=\"1\" data-image-url=\"https://secure.img2.wfrcdn.com/lf/79/hash/30973/16054777/1/Caroll%2BSofa%2Bby%2BSerta%2BUpholstery.jpg\" data-product-title=\"Caroll Sofa by Serta Upholstery\" data-sku=\"THRE1317\">\n",
       " <div class=\"sb_banner_wrap sbsale_banner heading_font_reg xstext whitetext \">\n",
       "                     Sale\n",
       "       </div>\n",
       " <div class=\"sb_prod_favs_wrap js-sb-favs-icon-wrap hidden-node favs_out\">\n",
       " <span class=\"favs_icon_lt pos_rel pointer inlineblock cleanlink_disabled js-favorites-button js_clipbar_button js-ss-click\" data-click-track=\"SB_Favorites\" data-favorites-key=\"THRE1317\" data-favorites-type=\"1\" data-image-url=\"https://secure.img2.wfrcdn.com/lf/79/hash/30973/16054777/1/Caroll%2BSofa%2Bby%2BSerta%2BUpholstery.jpg\" data-product_manufacturer=\"Three Posts\" data-product_title=\"Caroll Sofa by Serta Upholstery\">\n",
       " <span class=\"favs_icon_glyph pos_rel\"></span>\n",
       " </span>\n",
       " </div>\n",
       " <div class=\"swatch_hover_zoom js-swatch_hover_zoom bgcolorwhite borderall hidden-node\">\n",
       " </div>\n",
       " <div class=\"sb_prod_qv_wrap sbprodoptionswrap favs_out centertext pointer js-sb-qv-btn-wrap hidden-node favs_out\" data-qv-js=\"true\">\n",
       " <input class=\"js-ss-click js-viewmore jq-quickview js-quickview-btn note emphasis ltbodytext pointer quickview_btn wflink viewmoreheadadmin \" data-click-track=\"sb_add_to_cart:SB_quickview\" data-product-block-url=\"/v/product/quick_view?sku=THRE1317&amp;\" type=\"button\" value=\"QUICK VIEW\"/>\n",
       " </div>\n",
       " <img alt=\"Caroll Sofa by Serta Upholstery\" class=\"js-lazy-loaded-image\" height=\"225\" src=\"data:image/gif;base64,R0lGODlhAQABAPAAAAAAAAAAACH5BAEAAAAALAAAAAABAAEAAAICRAEAOw==\" width=\"225\"/>\n",
       " <noscript>\n",
       " <img alt=\"Caroll Sofa by Serta Upholstery\" height=\"225\" src=\"https://secure.img2.wfrcdn.com/lf/79/hash/30973/16054777/1/Caroll%2BSofa%2Bby%2BSerta%2BUpholstery.jpg\" width=\"225\"/>\n",
       " </noscript>\n",
       " </div>\n",
       " <div class=\"sb_prod_features borderleft\" data-click-location=\"Product18\">\n",
       " <div class=\"sb_prod_features_container\">\n",
       " <div class=\"emphasis\">\n",
       "               Product Features\n",
       "             </div>\n",
       " <ul class=\"sb_prod_feature_list\">\n",
       " <li class=\"sb_prod_feature_item\">\n",
       "                   Product Warranty: 1 Year warranty\n",
       "                 </li>\n",
       " <li class=\"sb_prod_feature_item\">\n",
       "                   Overall: 36\" H x 82\" W x 35\" D\n",
       "                 </li>\n",
       " <li class=\"sb_prod_feature_item\">\n",
       "                   Design: Standard\n",
       "                 </li>\n",
       " <li class=\"sb_prod_feature_item\">\n",
       "                   Frame Material: Wood\n",
       "                 </li>\n",
       " <li class=\"sb_prod_feature_item\">\n",
       "                   Upholstery Material: Other\n",
       "                 </li>\n",
       " </ul>\n",
       " <div class=\"sb_prod_copy\" data-click-location=\"Product18\">\n",
       "                 A timeless classic, this sofa will add graceful elegance to your living room. Featuring a reinforced hardwood frame and plush, high-density foam cushions, it promises lasting comfort and quality. Nailhead trim, bun feet, and rolled arms create a refined look.\n",
       " \n",
       " Our Caroll collection sets the stage for a stylish living room. Thoughtful accents like nail head trim and bun feet elevate this familiar look with eye-catching detail.\n",
       "               </div>\n",
       " </div>\n",
       " <div class=\"prod_info_collapse\"></div>\n",
       " </div>\n",
       " <div class=\"sb_prod_details_block js-ss-click\" data-click-location=\"Product18\" data-click-track=\"sb_swatch_bottom_product_info_click\">\n",
       " <div class=\"sb_prod_grid_height\">\n",
       " <div class=\"sbprodmoreopts note margin_sm_top margin_sm_bottom\">\n",
       " <span class=\"cleanlink inlineblock js-ss-click sb_swatch_more_link \" data-click-track=\"sb_swatch_more_options_click\" title=\"Caroll Sofa by Serta Upholstery\">\n",
       "             More Options: Color »\n",
       "           </span>\n",
       " </div>\n",
       " <span class=\"sb_names blocklevel cleanlink margin_sm_top\" title=\"Caroll Sofa by Serta Upholstery\">\n",
       " <p class=\"sb_prod_name emphasis\">Caroll Sofa by Serta Upholstery</p>\n",
       " <p class=\"sb_manu_name_solo smtext\">\n",
       "               by Three Posts\n",
       "             </p>\n",
       " </span>\n",
       " </div>\n",
       " <div class=\"sb_left_block\">\n",
       " <div class=\"sb_pricing_wrap\">\n",
       " <div class=\"price noticetext sb_noticetext midtitle\"><span class=\"is_price_label\"></span><span class=\"is_price_value\"><span class=\"from_text emphasis wf_bodycolortext note\">from </span>$401.99</span> <span class=\"wasprice wf_bodycolortext deemphasize strike\">$566.00</span></div>\n",
       " </div>\n",
       " <div class=\"sb_shipping_wrap\">\n",
       "         Free Shipping\n",
       "         \n",
       "       </div>\n",
       " <div class=\"reviewbox pos_rel ltbodytext\">\n",
       " <span class=\"stars_wrap review_stars_block_sm pos_rel fl inlineblock cleanlink_disabled stars_sm_10 js-ss-click js-track-event\">\n",
       "      <span class=\"stars_foreground\"></span>\n",
       " </span>\n",
       "   \n",
       "     (93)\n",
       "   \n",
       " </div>\n",
       " </div>\n",
       " </div>\n",
       " </a>,\n",
       " <a class=\"productbox fl js-ss-click cleanlink sb_noline js-product-bottom-link js-prod-content sb_prod_content yui3-filter-wrap \" data-click-track=\"sb_product_with_swatches_clicked,ss3301912_sale,browse_product:Superbrowse\" data-sku=\"MCRR1219\" href=\"http://www.wayfair.com/Leda-Sofa-by-Serta-Upholstery-MCRR1219-MCRR1219.html\" id=\"productbox_MCRR1219\">\n",
       " <div class=\"sb_prod_image_wrapper pos_rel js-clipbar_drag \" data-favorites-key=\"MCRR1219\" data-favorites-type=\"1\" data-image-url=\"https://secure.img2.wfrcdn.com/lf/79/hash/33808/17980773/1/Leda%2BSofa%2Bby%2BSerta%2BUpholstery.jpg\" data-product-title=\"Leda Sofa by Serta Upholstery\" data-sku=\"MCRR1219\">\n",
       " <div class=\"sb_banner_wrap sbsale_banner heading_font_reg xstext whitetext \">\n",
       "                     Sale\n",
       "       </div>\n",
       " <div class=\"sb_prod_favs_wrap js-sb-favs-icon-wrap hidden-node favs_out\">\n",
       " <span class=\"favs_icon_lt pos_rel pointer inlineblock cleanlink_disabled js-favorites-button js_clipbar_button js-ss-click\" data-click-track=\"SB_Favorites\" data-favorites-key=\"MCRR1219\" data-favorites-type=\"1\" data-image-url=\"https://secure.img2.wfrcdn.com/lf/79/hash/33808/17980773/1/Leda%2BSofa%2Bby%2BSerta%2BUpholstery.jpg\" data-product_manufacturer=\"Mercury Row\" data-product_title=\"Leda Sofa by Serta Upholstery\">\n",
       " <span class=\"favs_icon_glyph pos_rel\"></span>\n",
       " </span>\n",
       " </div>\n",
       " <div class=\"swatch_hover_zoom js-swatch_hover_zoom bgcolorwhite borderall hidden-node\">\n",
       " </div>\n",
       " <div class=\"sb_prod_qv_wrap sbprodoptionswrap favs_out centertext pointer js-sb-qv-btn-wrap hidden-node favs_out\" data-qv-js=\"true\">\n",
       " <input class=\"js-ss-click js-viewmore jq-quickview js-quickview-btn note emphasis ltbodytext pointer quickview_btn wflink viewmoreheadadmin \" data-click-track=\"sb_add_to_cart:SB_quickview\" data-product-block-url=\"/v/product/quick_view?sku=MCRR1219&amp;\" type=\"button\" value=\"QUICK VIEW\"/>\n",
       " </div>\n",
       " <img alt=\"Leda Sofa by Serta Upholstery\" class=\"js-lazy-loaded-image\" height=\"225\" src=\"data:image/gif;base64,R0lGODlhAQABAPAAAAAAAAAAACH5BAEAAAAALAAAAAABAAEAAAICRAEAOw==\" width=\"225\"/>\n",
       " <noscript>\n",
       " <img alt=\"Leda Sofa by Serta Upholstery\" height=\"225\" src=\"https://secure.img2.wfrcdn.com/lf/79/hash/33808/17980773/1/Leda%2BSofa%2Bby%2BSerta%2BUpholstery.jpg\" width=\"225\"/>\n",
       " </noscript>\n",
       " </div>\n",
       " <div class=\"sb_prod_features borderleft\" data-click-location=\"Product19\">\n",
       " <div class=\"sb_prod_features_container\">\n",
       " <div class=\"emphasis\">\n",
       "               Product Features\n",
       "             </div>\n",
       " <ul class=\"sb_prod_feature_list\">\n",
       " <li class=\"sb_prod_feature_item\">\n",
       "                   Product Warranty: 1 Year warranty\n",
       "                 </li>\n",
       " <li class=\"sb_prod_feature_item\">\n",
       "                   Overall: 36\" H x 79\" W x 34\" D\n",
       "                 </li>\n",
       " <li class=\"sb_prod_feature_item\">\n",
       "                   Frame Material: Wood\n",
       "                 </li>\n",
       " <li class=\"sb_prod_feature_item\">\n",
       "                   Overall Product Weight: 120lbs\n",
       "                 </li>\n",
       " </ul>\n",
       " <div class=\"sb_prod_copy\" data-click-location=\"Product19\">\n",
       "                 Tailored, button-tufted, and chic, the Leda Sofa is the perfect centerpiece for a contemporary and cozy living room. Plush high-density foam cushions offer superior comfort, and a reinforced hardwood frame ensures lasting quality. Track arms, a crisp welt, and block feet create a clean look, while patterned throws add a pop of boho-inspired design.\n",
       " \n",
       " Mercury Row aims to inspire your ever-evolving style. Give your living room a stylish dose of relaxation with our Leda collection. Drawing...\n",
       "               </div>\n",
       " </div>\n",
       " <div class=\"prod_info_collapse\"></div>\n",
       " </div>\n",
       " <div class=\"sb_prod_details_block js-ss-click\" data-click-location=\"Product19\" data-click-track=\"sb_swatch_bottom_product_info_click\">\n",
       " <div class=\"sb_prod_grid_height\">\n",
       " <span class=\"sb_names blocklevel cleanlink margin_sm_top\" title=\"Leda Sofa by Serta Upholstery\">\n",
       " <p class=\"sb_prod_name emphasis\">Leda Sofa by Serta Upholstery</p>\n",
       " <p class=\"sb_manu_name_solo smtext\">\n",
       "               by Mercury Row\n",
       "             </p>\n",
       " </span>\n",
       " </div>\n",
       " <div class=\"sb_left_block\">\n",
       " <div class=\"sb_pricing_wrap\">\n",
       " <div class=\"price noticetext sb_noticetext midtitle\"><span class=\"is_price_label\"></span><span class=\"is_price_value\">$408.99</span> <span class=\"wasprice wf_bodycolortext deemphasize strike\">$576.00</span></div>\n",
       " </div>\n",
       " <div class=\"sb_shipping_wrap\">\n",
       "         Free Shipping\n",
       "         \n",
       "       </div>\n",
       " <div class=\"reviewbox pos_rel ltbodytext\">\n",
       " <span class=\"stars_wrap review_stars_block_sm pos_rel fl inlineblock cleanlink_disabled stars_sm_10 js-ss-click js-track-event\">\n",
       "      <span class=\"stars_foreground\"></span>\n",
       " </span>\n",
       "   \n",
       "     (73)\n",
       "   \n",
       " </div>\n",
       " </div>\n",
       " </div>\n",
       " </a>,\n",
       " <a class=\"productbox fl js-ss-click cleanlink sb_noline js-product-bottom-link js-prod-content sb_prod_content yui3-filter-wrap \" data-click-track=\"browse_product:Superbrowse\" data-sku=\"XSQ1695\" href=\"http://www.wayfair.com/Serta-at-Home-Copenhagen-Sofa-CR-43536PB-XSQ1695.html\" id=\"productbox_XSQ1695\">\n",
       " <div class=\"sb_prod_image_wrapper pos_rel js-clipbar_drag \" data-favorites-key=\"XSQ1695\" data-favorites-type=\"1\" data-image-url=\"https://secure.img1.wfrcdn.com/lf/79/hash/25162/12445220/1/Copenhagen%2BSofa.jpg\" data-product-title=\"Copenhagen Sofa\" data-sku=\"XSQ1695\">\n",
       " <div class=\"sbfirstbanner_wrap \">\n",
       " <div class=\"sbsale_banner whitetext\">Sale</div>\n",
       " </div>\n",
       " <img alt=\"Copenhagen Sofa\" class=\"js-lazy-loaded-image\" height=\"225\" src=\"data:image/gif;base64,R0lGODlhAQABAPAAAAAAAAAAACH5BAEAAAAALAAAAAABAAEAAAICRAEAOw==\" width=\"225\"/>\n",
       " <noscript>\n",
       " <img alt=\"Copenhagen Sofa\" height=\"225\" src=\"https://secure.img1.wfrcdn.com/lf/79/hash/25162/12445220/1/Copenhagen%2BSofa.jpg\" width=\"225\"/>\n",
       " </noscript>\n",
       " </div>\n",
       " <div class=\"sb_prod_features borderleft\" data-click-location=\"Product20\">\n",
       " <div class=\"sb_prod_features_container\">\n",
       " <div class=\"emphasis\">\n",
       "               Product Features\n",
       "             </div>\n",
       " <ul class=\"sb_prod_feature_list\">\n",
       " <li class=\"sb_prod_feature_item\">\n",
       "                   Overall: 35\" H x 73\" W x 32.5\" D\n",
       "                 </li>\n",
       " <li class=\"sb_prod_feature_item\">\n",
       "                   Assembly Required: Yes\n",
       "                 </li>\n",
       " <li class=\"sb_prod_feature_item\">\n",
       "                   Product Warranty: 1 Year limited\n",
       "                 </li>\n",
       " <li class=\"sb_prod_feature_item\">\n",
       "                   Design: Standard\n",
       "                 </li>\n",
       " <li class=\"sb_prod_feature_item\">\n",
       "                   Frame Material: Manufactured wood\n",
       "                 </li>\n",
       " </ul>\n",
       " <div class=\"sb_prod_copy\" data-click-location=\"Product20\">\n",
       "                 An ideal option to keep in your living room, the Serta at Home Copenhagen Sofa perfectly blends style and utility. Featuring a contemporary style, this sofa is sure to enhance the decor of your room. This sofa is ideal to be placed in the guest room, dorm, or vacation home. \n",
       " \n",
       " The Copenhagen Sofa from Serta at Home is made from a hardwood base for optimum sturdiness and durability. It is upholstered in polyester, which is sure to stand the test of time. This sofa has a beige color, which looks...\n",
       "               </div>\n",
       " </div>\n",
       " <div class=\"prod_info_collapse\"></div>\n",
       " </div>\n",
       " <div class=\"sb_prod_details_block js-ss-click\" data-click-location=\"Product20\" data-click-track=\"sb_swatch_bottom_product_info_click\">\n",
       " <div class=\"sb_prod_grid_height\">\n",
       " <span class=\"sb_names blocklevel cleanlink margin_sm_top\" title=\"Copenhagen Sofa\">\n",
       " <p class=\"sb_prod_name emphasis\">Copenhagen Sofa</p>\n",
       " <p class=\"sb_manu_name_solo smtext\">\n",
       "               by Serta at Home\n",
       "             </p>\n",
       " </span>\n",
       " </div>\n",
       " <div class=\"sb_left_block\">\n",
       " <div class=\"sb_pricing_wrap\">\n",
       " <div class=\"price noticetext sb_noticetext midtitle\"><span class=\"is_price_label\"></span><span class=\"is_price_value\">$364.99</span> <span class=\"wasprice wf_bodycolortext deemphasize strike\">$531.00</span></div>\n",
       " </div>\n",
       " <div class=\"sb_shipping_wrap\">\n",
       "         Free Shipping\n",
       "         \n",
       "       </div>\n",
       " <div class=\"reviewbox pos_rel ltbodytext\">\n",
       " <span class=\"stars_wrap review_stars_block_sm pos_rel fl inlineblock cleanlink_disabled stars_sm_9 js-ss-click js-track-event\">\n",
       "      <span class=\"stars_foreground\"></span>\n",
       " </span>\n",
       "   \n",
       "     (152)\n",
       "   \n",
       " </div>\n",
       " </div>\n",
       " </div>\n",
       " </a>,\n",
       " <a class=\"productbox fl js-ss-click cleanlink sb_noline js-product-bottom-link js-prod-content sb_prod_content yui3-filter-wrap \" data-click-track=\"browse_product:Superbrowse\" data-sku=\"XSQ1687\" href=\"http://www.wayfair.com/Serta-at-Home-Santa-Cruz-Sofa-CR-43534PB-XSQ1687.html\" id=\"productbox_XSQ1687\">\n",
       " <div class=\"sb_prod_image_wrapper pos_rel js-clipbar_drag \" data-favorites-key=\"XSQ1687\" data-favorites-type=\"1\" data-image-url=\"https://secure.img1.wfrcdn.com/lf/79/hash/25162/9414690/1/Santa%2BCruz%2BSofa.jpg\" data-product-title=\"Santa Cruz Sofa\" data-sku=\"XSQ1687\">\n",
       " <div class=\"sbfirstbanner_wrap \">\n",
       " <div class=\"sbsale_banner whitetext\">Sale</div>\n",
       " </div>\n",
       " <img alt=\"Santa Cruz Sofa\" class=\"js-lazy-loaded-image\" height=\"225\" src=\"data:image/gif;base64,R0lGODlhAQABAPAAAAAAAAAAACH5BAEAAAAALAAAAAABAAEAAAICRAEAOw==\" width=\"225\"/>\n",
       " <noscript>\n",
       " <img alt=\"Santa Cruz Sofa\" height=\"225\" src=\"https://secure.img1.wfrcdn.com/lf/79/hash/25162/9414690/1/Santa%2BCruz%2BSofa.jpg\" width=\"225\"/>\n",
       " </noscript>\n",
       " </div>\n",
       " <div class=\"sb_prod_features borderleft\" data-click-location=\"Product21\">\n",
       " <div class=\"sb_prod_features_container\">\n",
       " <div class=\"emphasis\">\n",
       "               Product Features\n",
       "             </div>\n",
       " <ul class=\"sb_prod_feature_list\">\n",
       " <li class=\"sb_prod_feature_item\">\n",
       "                   Overall: 35\" H x 73\" W x 32.5\" D\n",
       "                 </li>\n",
       " <li class=\"sb_prod_feature_item\">\n",
       "                   Assembly Required: Yes\n",
       "                 </li>\n",
       " <li class=\"sb_prod_feature_item\">\n",
       "                   Product Warranty: 1 Year limited\n",
       "                 </li>\n",
       " <li class=\"sb_prod_feature_item\">\n",
       "                   Design: Standard\n",
       "                 </li>\n",
       " <li class=\"sb_prod_feature_item\">\n",
       "                   Frame Material: Manufactured wood\n",
       "                 </li>\n",
       " </ul>\n",
       " <div class=\"sb_prod_copy\" data-click-location=\"Product21\">\n",
       "                 For more than 75 years, Serta has been an industry leader in comfort products worldwide. That tradition of innovation and quality continues today. From a brand that is synonymous with quality, comfort and style, the Santa Cruz Collection Sofa offers many attractive features that you're going to love. This product goes from box to build in mere minutes. But that's just the beginning; this sofa is generous and comfortable as well. In fact, you might find it a great place for a nap! Here's why...\n",
       "               </div>\n",
       " </div>\n",
       " <div class=\"prod_info_collapse\"></div>\n",
       " </div>\n",
       " <div class=\"sb_prod_details_block js-ss-click\" data-click-location=\"Product21\" data-click-track=\"sb_swatch_bottom_product_info_click\">\n",
       " <div class=\"sb_prod_grid_height\">\n",
       " <span class=\"sb_names blocklevel cleanlink margin_sm_top\" title=\"Santa Cruz Sofa\">\n",
       " <p class=\"sb_prod_name emphasis\">Santa Cruz Sofa</p>\n",
       " <p class=\"sb_manu_name_solo smtext\">\n",
       "               by Serta at Home\n",
       "             </p>\n",
       " </span>\n",
       " </div>\n",
       " <div class=\"sb_left_block\">\n",
       " <div class=\"sb_pricing_wrap\">\n",
       " <div class=\"price noticetext sb_noticetext midtitle\"><span class=\"is_price_label\"></span><span class=\"is_price_value\">$355.99</span> <span class=\"wasprice wf_bodycolortext deemphasize strike\">$622.83</span></div>\n",
       " </div>\n",
       " <div class=\"sb_shipping_wrap\">\n",
       "         Free Shipping\n",
       "         \n",
       "       </div>\n",
       " <div class=\"reviewbox pos_rel ltbodytext\">\n",
       " <span class=\"stars_wrap review_stars_block_sm pos_rel fl inlineblock cleanlink_disabled stars_sm_10 js-ss-click js-track-event\">\n",
       "      <span class=\"stars_foreground\"></span>\n",
       " </span>\n",
       "   \n",
       "     (177)\n",
       "   \n",
       " </div>\n",
       " </div>\n",
       " </div>\n",
       " </a>,\n",
       " <a class=\"productbox fl js-ss-click cleanlink sb_noline js-product-bottom-link js-prod-content sb_prod_content yui3-filter-wrap \" data-click-track=\"sb_product_with_swatches_clicked,ss3301912_sale,browse_product:Superbrowse\" data-sku=\"XSQ1817\" href=\"http://www.wayfair.com/Serta-Upholstery-Harry-Sofa-XSQ1817.html\" id=\"productbox_XSQ1817\">\n",
       " <div class=\"sb_prod_image_wrapper pos_rel js-clipbar_drag \" data-favorites-key=\"XSQ1817\" data-favorites-type=\"1\" data-image-url=\"https://secure.img2.wfrcdn.com/lf/79/hash/11881/10269645/1/Harry%2BLeather%2BSofa.jpg\" data-product-title=\"Harry Leather Sofa\" data-sku=\"XSQ1817\">\n",
       " <div class=\"sb_banner_wrap sbsale_banner heading_font_reg xstext whitetext \">\n",
       "                     Sale\n",
       "       </div>\n",
       " <div class=\"sb_prod_favs_wrap js-sb-favs-icon-wrap hidden-node favs_out\">\n",
       " <span class=\"favs_icon_lt pos_rel pointer inlineblock cleanlink_disabled js-favorites-button js_clipbar_button js-ss-click\" data-click-track=\"SB_Favorites\" data-favorites-key=\"XSQ1817\" data-favorites-type=\"1\" data-image-url=\"https://secure.img2.wfrcdn.com/lf/79/hash/11881/10269645/1/Harry%2BLeather%2BSofa.jpg\" data-product_manufacturer=\"Serta Upholstery\" data-product_title=\"Harry Leather Sofa\">\n",
       " <span class=\"favs_icon_glyph pos_rel\"></span>\n",
       " </span>\n",
       " </div>\n",
       " <div class=\"swatch_hover_zoom js-swatch_hover_zoom bgcolorwhite borderall hidden-node\">\n",
       " </div>\n",
       " <div class=\"sb_prod_qv_wrap sbprodoptionswrap favs_out centertext pointer js-sb-qv-btn-wrap hidden-node favs_out\" data-qv-js=\"true\">\n",
       " <input class=\"js-ss-click js-viewmore jq-quickview js-quickview-btn note emphasis ltbodytext pointer quickview_btn wflink viewmoreheadadmin \" data-click-track=\"sb_add_to_cart:SB_quickview\" data-product-block-url=\"/v/product/quick_view?sku=XSQ1817&amp;\" type=\"button\" value=\"QUICK VIEW\"/>\n",
       " </div>\n",
       " <img alt=\"Harry Leather Sofa\" class=\"js-lazy-loaded-image\" height=\"225\" src=\"data:image/gif;base64,R0lGODlhAQABAPAAAAAAAAAAACH5BAEAAAAALAAAAAABAAEAAAICRAEAOw==\" width=\"225\"/>\n",
       " <noscript>\n",
       " <img alt=\"Harry Leather Sofa\" height=\"225\" src=\"https://secure.img2.wfrcdn.com/lf/79/hash/11881/10269645/1/Harry%2BLeather%2BSofa.jpg\" width=\"225\"/>\n",
       " </noscript>\n",
       " </div>\n",
       " <div class=\"sb_prod_features borderleft\" data-click-location=\"Product22\">\n",
       " <div class=\"sb_prod_features_container\">\n",
       " <div class=\"emphasis\">\n",
       "               Product Features\n",
       "             </div>\n",
       " <ul class=\"sb_prod_feature_list\">\n",
       " <li class=\"sb_prod_feature_item\">\n",
       "                   Product Warranty: 1 Year\n",
       "                 </li>\n",
       " <li class=\"sb_prod_feature_item\">\n",
       "                   Overall: 35\" H x 77\" W x 35\" D\n",
       "                 </li>\n",
       " <li class=\"sb_prod_feature_item\">\n",
       "                   Assembly Required: No\n",
       "                 </li>\n",
       " <li class=\"sb_prod_feature_item\">\n",
       "                   Design: Standard\n",
       "                 </li>\n",
       " <li class=\"sb_prod_feature_item\">\n",
       "                   Frame Material: Other\n",
       "                 </li>\n",
       " </ul>\n",
       " </div>\n",
       " <div class=\"prod_info_collapse\"></div>\n",
       " </div>\n",
       " <div class=\"sb_prod_details_block js-ss-click\" data-click-location=\"Product22\" data-click-track=\"sb_swatch_bottom_product_info_click\">\n",
       " <div class=\"sb_prod_grid_height\">\n",
       " <span class=\"sb_names blocklevel cleanlink margin_sm_top\" title=\"Harry Leather Sofa\">\n",
       " <p class=\"sb_prod_name emphasis\">Harry Leather Sofa</p>\n",
       " <p class=\"sb_manu_name_solo smtext\">\n",
       "               by Serta Upholstery\n",
       "             </p>\n",
       " </span>\n",
       " </div>\n",
       " <div class=\"sb_left_block\">\n",
       " <div class=\"sb_pricing_wrap\">\n",
       " <div class=\"price noticetext sb_noticetext midtitle\"><span class=\"is_price_label\"></span><span class=\"is_price_value\">$339.99</span> <span class=\"wasprice wf_bodycolortext deemphasize strike\">$709.99</span></div>\n",
       " </div>\n",
       " <div class=\"sb_shipping_wrap\">\n",
       "         Free Shipping\n",
       "         \n",
       "       </div>\n",
       " <div class=\"reviewbox pos_rel ltbodytext\">\n",
       " <span class=\"stars_wrap review_stars_block_sm pos_rel fl inlineblock cleanlink_disabled stars_sm_10 js-ss-click js-track-event\">\n",
       "      <span class=\"stars_foreground\"></span>\n",
       " </span>\n",
       "   \n",
       "     (114)\n",
       "   \n",
       " </div>\n",
       " </div>\n",
       " </div>\n",
       " </a>,\n",
       " <a class=\"productbox fl js-ss-click cleanlink sb_noline js-product-bottom-link js-prod-content sb_prod_content yui3-filter-wrap \" data-click-track=\"ss3301912_sale,browse_product:Superbrowse\" data-sku=\"GNT5280\" href=\"http://www.wayfair.com/Hannin-Sofa-9580-GNT5280.html\" id=\"productbox_GNT5280\">\n",
       " <div class=\"sb_prod_image_wrapper pos_rel js-clipbar_drag \" data-favorites-key=\"GNT5280\" data-favorites-type=\"1\" data-image-url=\"https://secure.img1.wfrcdn.com/lf/79/hash/2668/17466332/1/Hannin%2BSofa.jpg\" data-product-title=\"Hannin Sofa\" data-sku=\"GNT5280\">\n",
       " <div class=\"sb_banner_wrap sbsale_banner heading_font_reg xstext whitetext \">\n",
       "                     Sale\n",
       "       </div>\n",
       " <div class=\"sb_prod_favs_wrap js-sb-favs-icon-wrap hidden-node favs_out\">\n",
       " <span class=\"favs_icon_lt pos_rel pointer inlineblock cleanlink_disabled js-favorites-button js_clipbar_button js-ss-click\" data-click-track=\"SB_Favorites\" data-favorites-key=\"GNT5280\" data-favorites-type=\"1\" data-image-url=\"https://secure.img1.wfrcdn.com/lf/79/hash/2668/17466332/1/Hannin%2BSofa.jpg\" data-product_manufacturer=\"Signature Design by Ashley\" data-product_title=\"Hannin Sofa\">\n",
       " <span class=\"favs_icon_glyph pos_rel\"></span>\n",
       " </span>\n",
       " </div>\n",
       " <div class=\"sb_prod_qv_wrap sbprodoptionswrap favs_out centertext pointer js-sb-qv-btn-wrap hidden-node favs_out\" data-qv-js=\"true\">\n",
       " <input class=\"js-ss-click js-viewmore jq-quickview js-quickview-btn note emphasis ltbodytext pointer quickview_btn wflink viewmoreheadadmin \" data-click-track=\"sb_add_to_cart:SB_quickview\" data-product-block-url=\"/v/product/quick_view?sku=GNT5280&amp;\" type=\"button\" value=\"QUICK VIEW\"/>\n",
       " </div>\n",
       " <img alt=\"Hannin Sofa\" class=\"js-lazy-loaded-image\" height=\"225\" src=\"data:image/gif;base64,R0lGODlhAQABAPAAAAAAAAAAACH5BAEAAAAALAAAAAABAAEAAAICRAEAOw==\" width=\"225\"/>\n",
       " <noscript>\n",
       " <img alt=\"Hannin Sofa\" height=\"225\" src=\"https://secure.img1.wfrcdn.com/lf/79/hash/2668/17466332/1/Hannin%2BSofa.jpg\" width=\"225\"/>\n",
       " </noscript>\n",
       " </div>\n",
       " <div class=\"sb_prod_features borderleft\" data-click-location=\"Product23\">\n",
       " <div class=\"sb_prod_features_container\">\n",
       " <div class=\"emphasis\">\n",
       "               Product Features\n",
       "             </div>\n",
       " <ul class=\"sb_prod_feature_list\">\n",
       " <li class=\"sb_prod_feature_item\">\n",
       "                   Overall: 37.5\" H x 82\" W x 36.5\" D\n",
       "                 </li>\n",
       " <li class=\"sb_prod_feature_item\">\n",
       "                   Design: Standard\n",
       "                 </li>\n",
       " <li class=\"sb_prod_feature_item\">\n",
       "                   Frame Material: Manufactured wood\n",
       "                 </li>\n",
       " <li class=\"sb_prod_feature_item\">\n",
       "                   Upholstery Material: Other\n",
       "                 </li>\n",
       " <li class=\"sb_prod_feature_item\">\n",
       "                   Overall Product Weight: 105lbs\n",
       "                 </li>\n",
       " </ul>\n",
       " <div class=\"sb_prod_copy\" data-click-location=\"Product23\">\n",
       "                 The comfort of the plush seating and back cushions covered with a soft textured upholstery is stylishly accented by the beautifully shaped flared arm design making this piece the perfect choice to awaken the décor of your living area with a refreshing contemporary look.\n",
       "               </div>\n",
       " </div>\n",
       " <div class=\"prod_info_collapse\"></div>\n",
       " </div>\n",
       " <div class=\"sb_prod_details_block js-ss-click\" data-click-location=\"Product23\" data-click-track=\"sb_swatch_bottom_product_info_click\">\n",
       " <div class=\"sb_prod_grid_height\">\n",
       " <div class=\"sbprodmoreopts note margin_sm_top margin_sm_bottom\">\n",
       " <span class=\"cleanlink inlineblock js-ss-click sb_swatch_more_link \" data-click-track=\"sb_swatch_more_options_click\" title=\"Hannin Sofa\">\n",
       "             More Options »\n",
       "           </span>\n",
       " </div>\n",
       " <span class=\"sb_names blocklevel cleanlink margin_sm_top\" title=\"Hannin Sofa\">\n",
       " <p class=\"sb_prod_name emphasis\">Hannin Sofa</p>\n",
       " <p class=\"sb_manu_name_solo smtext\">\n",
       "               by Signature Design by Ashley\n",
       "             </p>\n",
       " </span>\n",
       " </div>\n",
       " <div class=\"sb_left_block\">\n",
       " <div class=\"sb_pricing_wrap\">\n",
       " <div class=\"price noticetext sb_noticetext midtitle\"><span class=\"is_price_label\"></span><span class=\"is_price_value\">$469.99</span> <span class=\"wasprice wf_bodycolortext deemphasize strike\">$599.99</span></div>\n",
       " </div>\n",
       " <div class=\"sb_shipping_wrap\">\n",
       "         Free Shipping\n",
       "         \n",
       "       </div>\n",
       " <div class=\"reviewbox pos_rel ltbodytext\">\n",
       " <span class=\"stars_wrap review_stars_block_sm pos_rel fl inlineblock cleanlink_disabled stars_sm_11 js-ss-click js-track-event\">\n",
       "      <span class=\"stars_foreground\"></span>\n",
       " </span>\n",
       "   \n",
       "     (4)\n",
       "   \n",
       " </div>\n",
       " </div>\n",
       " </div>\n",
       " </a>,\n",
       " <a class=\"productbox fl js-ss-click cleanlink sb_noline js-product-bottom-link js-prod-content sb_prod_content yui3-filter-wrap \" data-click-track=\"browse_product:Superbrowse\" data-sku=\"XSQ1388\" href=\"http://www.wayfair.com/Serta-Upholstery-Sofa-7650S-XSQ1388.html\" id=\"productbox_XSQ1388\">\n",
       " <div class=\"sb_prod_image_wrapper pos_rel js-clipbar_drag \" data-favorites-key=\"XSQ1388\" data-favorites-type=\"1\" data-image-url=\"https://secure.img1.wfrcdn.com/lf/79/hash/11881/18223290/1/Royal%2BSofa.jpg\" data-product-title=\"Royal Sofa\" data-sku=\"XSQ1388\">\n",
       " <div class=\"sb_prod_favs_wrap js-sb-favs-icon-wrap hidden-node favs_out\">\n",
       " <span class=\"favs_icon_lt pos_rel pointer inlineblock cleanlink_disabled js-favorites-button js_clipbar_button js-ss-click\" data-click-track=\"SB_Favorites\" data-favorites-key=\"XSQ1388\" data-favorites-type=\"1\" data-image-url=\"https://secure.img1.wfrcdn.com/lf/79/hash/11881/18223290/1/Royal%2BSofa.jpg\" data-product_manufacturer=\"Serta Upholstery\" data-product_title=\"Royal Sofa\">\n",
       " <span class=\"favs_icon_glyph pos_rel\"></span>\n",
       " </span>\n",
       " </div>\n",
       " <div class=\"sb_prod_qv_wrap sbprodoptionswrap favs_out centertext pointer js-sb-qv-btn-wrap hidden-node favs_out\" data-qv-js=\"true\">\n",
       " <input class=\"js-ss-click js-viewmore jq-quickview js-quickview-btn note emphasis ltbodytext pointer quickview_btn wflink viewmoreheadadmin \" data-click-track=\"sb_add_to_cart:SB_quickview\" data-product-block-url=\"/v/product/quick_view?sku=XSQ1388&amp;\" type=\"button\" value=\"QUICK VIEW\"/>\n",
       " </div>\n",
       " <img alt=\"Royal Sofa\" class=\"js-lazy-loaded-image\" height=\"225\" src=\"data:image/gif;base64,R0lGODlhAQABAPAAAAAAAAAAACH5BAEAAAAALAAAAAABAAEAAAICRAEAOw==\" width=\"225\"/>\n",
       " <noscript>\n",
       " <img alt=\"Royal Sofa\" height=\"225\" src=\"https://secure.img1.wfrcdn.com/lf/79/hash/11881/18223290/1/Royal%2BSofa.jpg\" width=\"225\"/>\n",
       " </noscript>\n",
       " </div>\n",
       " <div class=\"sb_prod_features borderleft\" data-click-location=\"Product24\">\n",
       " <div class=\"sb_prod_features_container\">\n",
       " <div class=\"emphasis\">\n",
       "               Product Features\n",
       "             </div>\n",
       " <ul class=\"sb_prod_feature_list\">\n",
       " <li class=\"sb_prod_feature_item\">\n",
       "                   Assembly Required: Yes\n",
       "                 </li>\n",
       " <li class=\"sb_prod_feature_item\">\n",
       "                   Overall: 40\" H x 93\" W x 38\" D\n",
       "                 </li>\n",
       " <li class=\"sb_prod_feature_item\">\n",
       "                   Design: Standard\n",
       "                 </li>\n",
       " <li class=\"sb_prod_feature_item\">\n",
       "                   Upholstery Material: Other; Cotton\n",
       "                 </li>\n",
       " <li class=\"sb_prod_feature_item\">\n",
       "                   Overall Product Weight: 150lbs\n",
       "                 </li>\n",
       " </ul>\n",
       " <div class=\"sb_prod_copy\" data-click-location=\"Product24\">\n",
       "                 Featuring intricate pattern and imperial looks, the Serta Upholstery Sofa lends a touch of elegance to your home decor. The traditional style of the sofa is sure to enhance the decor of your room. It is an ideal addition to most living rooms and guest rooms. \n",
       " \n",
       " The Sofa by Serta Upholstery is made from hardwood frames for optimum sturdiness and durability. It is upholstered in polyester, which is sure to offers long lasting performance. Available in multiple finishes, the sofa looks...\n",
       "               </div>\n",
       " </div>\n",
       " <div class=\"prod_info_collapse\"></div>\n",
       " </div>\n",
       " <div class=\"sb_prod_details_block js-ss-click\" data-click-location=\"Product24\" data-click-track=\"sb_swatch_bottom_product_info_click\">\n",
       " <div class=\"sb_prod_grid_height\">\n",
       " <div class=\"sbprodmoreopts note margin_sm_top margin_sm_bottom\">\n",
       " <span class=\"cleanlink inlineblock js-ss-click sb_swatch_more_link \" data-click-track=\"sb_swatch_more_options_click\" title=\"Royal Sofa\">\n",
       "             More Options: Fabric »\n",
       "           </span>\n",
       " </div>\n",
       " <span class=\"sb_names blocklevel cleanlink margin_sm_top\" title=\"Royal Sofa\">\n",
       " <p class=\"sb_prod_name emphasis\">Royal Sofa</p>\n",
       " <p class=\"sb_manu_name_solo smtext\">\n",
       "               by Serta Upholstery\n",
       "             </p>\n",
       " </span>\n",
       " </div>\n",
       " <div class=\"sb_left_block\">\n",
       " <div class=\"sb_pricing_wrap\">\n",
       " <div class=\"price pricetext sb_pricetext midtitle\"><span class=\"is_price_label\"></span><span class=\"is_price_value\"><span class=\"from_text emphasis wf_bodycolortext note\">from </span>$569.99</span> <span class=\"wasprice wf_bodycolortext deemphasize strike\">$690.72</span></div>\n",
       " </div>\n",
       " <div class=\"sb_shipping_wrap\">\n",
       "         Free Shipping\n",
       "         \n",
       "       </div>\n",
       " <div class=\"reviewbox pos_rel ltbodytext\">\n",
       " <span class=\"stars_wrap review_stars_block_sm pos_rel fl inlineblock cleanlink_disabled stars_sm_10 js-ss-click js-track-event\">\n",
       "      <span class=\"stars_foreground\"></span>\n",
       " </span>\n",
       "   \n",
       "     (88)\n",
       "   \n",
       " </div>\n",
       " </div>\n",
       " </div>\n",
       " </a>,\n",
       " <a class=\"productbox fl js-ss-click cleanlink sb_noline js-product-bottom-link js-prod-content sb_prod_content yui3-filter-wrap \" data-click-track=\"ss3301912_sale,browse_product:Superbrowse\" data-sku=\"THRE1305\" href=\"http://www.wayfair.com/Franklin-Sofa-by-Serta-Upholstery-THRE1305-THRE1305.html\" id=\"productbox_THRE1305\">\n",
       " <div class=\"sb_prod_image_wrapper pos_rel js-clipbar_drag \" data-favorites-key=\"THRE1305\" data-favorites-type=\"1\" data-image-url=\"https://secure.img2.wfrcdn.com/lf/79/hash/30973/16054723/1/Franklin%2BSofa%2Bby%2BSerta%2BUpholstery.jpg\" data-product-title=\"Franklin Sofa by Serta Upholstery\" data-sku=\"THRE1305\">\n",
       " <div class=\"sb_banner_wrap sbsale_banner heading_font_reg xstext whitetext \">\n",
       "                     Sale\n",
       "       </div>\n",
       " <div class=\"sb_prod_favs_wrap js-sb-favs-icon-wrap hidden-node favs_out\">\n",
       " <span class=\"favs_icon_lt pos_rel pointer inlineblock cleanlink_disabled js-favorites-button js_clipbar_button js-ss-click\" data-click-track=\"SB_Favorites\" data-favorites-key=\"THRE1305\" data-favorites-type=\"1\" data-image-url=\"https://secure.img2.wfrcdn.com/lf/79/hash/30973/16054723/1/Franklin%2BSofa%2Bby%2BSerta%2BUpholstery.jpg\" data-product_manufacturer=\"Three Posts\" data-product_title=\"Franklin Sofa by Serta Upholstery\">\n",
       " <span class=\"favs_icon_glyph pos_rel\"></span>\n",
       " </span>\n",
       " </div>\n",
       " <div class=\"sb_prod_qv_wrap sbprodoptionswrap favs_out centertext pointer js-sb-qv-btn-wrap hidden-node favs_out\" data-qv-js=\"true\">\n",
       " <input class=\"js-ss-click js-viewmore jq-quickview js-quickview-btn note emphasis ltbodytext pointer quickview_btn wflink viewmoreheadadmin \" data-click-track=\"sb_add_to_cart:SB_quickview\" data-product-block-url=\"/v/product/quick_view?sku=THRE1305&amp;\" type=\"button\" value=\"QUICK VIEW\"/>\n",
       " </div>\n",
       " <img alt=\"Franklin Sofa by Serta Upholstery\" class=\"js-lazy-loaded-image\" height=\"225\" src=\"data:image/gif;base64,R0lGODlhAQABAPAAAAAAAAAAACH5BAEAAAAALAAAAAABAAEAAAICRAEAOw==\" width=\"225\"/>\n",
       " <noscript>\n",
       " <img alt=\"Franklin Sofa by Serta Upholstery\" height=\"225\" src=\"https://secure.img2.wfrcdn.com/lf/79/hash/30973/16054723/1/Franklin%2BSofa%2Bby%2BSerta%2BUpholstery.jpg\" width=\"225\"/>\n",
       " </noscript>\n",
       " </div>\n",
       " <div class=\"sb_prod_features borderleft\" data-click-location=\"Product25\">\n",
       " <div class=\"sb_prod_features_container\">\n",
       " <div class=\"emphasis\">\n",
       "               Product Features\n",
       "             </div>\n",
       " <ul class=\"sb_prod_feature_list\">\n",
       " <li class=\"sb_prod_feature_item\">\n",
       "                   Overall: 38\" H x 87\" W x 37\" D\n",
       "                 </li>\n",
       " <li class=\"sb_prod_feature_item\">\n",
       "                   Design: Standard\n",
       "                 </li>\n",
       " <li class=\"sb_prod_feature_item\">\n",
       "                   Frame Material: Wood\n",
       "                 </li>\n",
       " <li class=\"sb_prod_feature_item\">\n",
       "                   Upholstery Material: Other; Cotton\n",
       "                 </li>\n",
       " <li class=\"sb_prod_feature_item\">\n",
       "                   Overall Product Weight: 135lbs\n",
       "                 </li>\n",
       " </ul>\n",
       " <div class=\"sb_prod_copy\" data-click-location=\"Product25\">\n",
       "                 Featuring flared arms and plush high-density foam cushions, the Franklin Sofa is stylish and welcoming. Block feet and a crisp welt offer refined details, while a reinforced hardwood frame promises lasting quality. Available in classic, versatile hues, this seat complements an array of styles.\n",
       " \n",
       " Turn your living room into an inviting haven with our Franklin collection. An updated take on familiar designs, this set offers a versatile look that’s easy to customize to your space.\n",
       "               </div>\n",
       " </div>\n",
       " <div class=\"prod_info_collapse\"></div>\n",
       " </div>\n",
       " <div class=\"sb_prod_details_block js-ss-click\" data-click-location=\"Product25\" data-click-track=\"sb_swatch_bottom_product_info_click\">\n",
       " <div class=\"sb_prod_grid_height\">\n",
       " <div class=\"sbprodmoreopts note margin_sm_top margin_sm_bottom\">\n",
       " <span class=\"cleanlink inlineblock js-ss-click sb_swatch_more_link \" data-click-track=\"sb_swatch_more_options_click\" title=\"Franklin Sofa by Serta Upholstery\">\n",
       "             More Options: Fabric »\n",
       "           </span>\n",
       " </div>\n",
       " <span class=\"sb_names blocklevel cleanlink margin_sm_top\" title=\"Franklin Sofa by Serta Upholstery\">\n",
       " <p class=\"sb_prod_name emphasis\">Franklin Sofa by Serta Upholstery</p>\n",
       " <p class=\"sb_manu_name_solo smtext\">\n",
       "               by Three Posts\n",
       "             </p>\n",
       " </span>\n",
       " </div>\n",
       " <div class=\"sb_left_block\">\n",
       " <div class=\"sb_pricing_wrap\">\n",
       " <div class=\"price noticetext sb_noticetext midtitle\"><span class=\"is_price_label\"></span><span class=\"is_price_value\"><span class=\"from_text emphasis wf_bodycolortext note\">from </span>$400.99</span> <span class=\"wasprice wf_bodycolortext deemphasize strike\">$639.99</span></div>\n",
       " </div>\n",
       " <div class=\"sb_shipping_wrap\">\n",
       "         Free Shipping\n",
       "         \n",
       "       </div>\n",
       " <div class=\"reviewbox pos_rel ltbodytext\">\n",
       " <span class=\"stars_wrap review_stars_block_sm pos_rel fl inlineblock cleanlink_disabled stars_sm_10 js-ss-click js-track-event\">\n",
       "      <span class=\"stars_foreground\"></span>\n",
       " </span>\n",
       "   \n",
       "     (70)\n",
       "   \n",
       " </div>\n",
       " </div>\n",
       " </div>\n",
       " </a>,\n",
       " <a class=\"productbox fl js-ss-click cleanlink sb_noline js-product-bottom-link js-prod-content sb_prod_content yui3-filter-wrap \" data-click-track=\"browse_product:Superbrowse\" data-sku=\"ANDO1567\" href=\"http://www.wayfair.com/Brewster-Loveseat-ANDO1567-ANDO1567.html\" id=\"productbox_ANDO1567\">\n",
       " <div class=\"sb_prod_image_wrapper pos_rel js-clipbar_drag \" data-favorites-key=\"ANDO1567\" data-favorites-type=\"1\" data-image-url=\"https://secure.img1.wfrcdn.com/lf/79/hash/30808/17813938/1/Brewster%2BLoveseat.jpg\" data-product-title=\"Brewster Loveseat\" data-sku=\"ANDO1567\">\n",
       " <div class=\"sb_prod_favs_wrap js-sb-favs-icon-wrap hidden-node favs_out\">\n",
       " <span class=\"favs_icon_lt pos_rel pointer inlineblock cleanlink_disabled js-favorites-button js_clipbar_button js-ss-click\" data-click-track=\"SB_Favorites\" data-favorites-key=\"ANDO1567\" data-favorites-type=\"1\" data-image-url=\"https://secure.img1.wfrcdn.com/lf/79/hash/30808/17813938/1/Brewster%2BLoveseat.jpg\" data-product_manufacturer=\"Andover Mills\" data-product_title=\"Brewster Loveseat\">\n",
       " <span class=\"favs_icon_glyph pos_rel\"></span>\n",
       " </span>\n",
       " </div>\n",
       " <div class=\"sb_prod_qv_wrap sbprodoptionswrap favs_out centertext pointer js-sb-qv-btn-wrap hidden-node favs_out\" data-qv-js=\"true\">\n",
       " <input class=\"js-ss-click js-viewmore jq-quickview js-quickview-btn note emphasis ltbodytext pointer quickview_btn wflink viewmoreheadadmin \" data-click-track=\"sb_add_to_cart:SB_quickview\" data-product-block-url=\"/v/product/quick_view?sku=ANDO1567&amp;\" type=\"button\" value=\"QUICK VIEW\"/>\n",
       " </div>\n",
       " <img alt=\"Brewster Loveseat\" class=\"js-lazy-loaded-image\" height=\"225\" src=\"data:image/gif;base64,R0lGODlhAQABAPAAAAAAAAAAACH5BAEAAAAALAAAAAABAAEAAAICRAEAOw==\" width=\"225\"/>\n",
       " <noscript>\n",
       " <img alt=\"Brewster Loveseat\" height=\"225\" src=\"https://secure.img1.wfrcdn.com/lf/79/hash/30808/17813938/1/Brewster%2BLoveseat.jpg\" width=\"225\"/>\n",
       " </noscript>\n",
       " </div>\n",
       " <div class=\"sb_prod_features borderleft\" data-click-location=\"Product26\">\n",
       " <div class=\"sb_prod_features_container\">\n",
       " <div class=\"emphasis\">\n",
       "               Product Features\n",
       "             </div>\n",
       " <ul class=\"sb_prod_feature_list\">\n",
       " <li class=\"sb_prod_feature_item\">\n",
       "                   Overall: 38.5\" H x 62.5\" W x 34\" D\n",
       "                 </li>\n",
       " <li class=\"sb_prod_feature_item\">\n",
       "                   Design: Standard\n",
       "                 </li>\n",
       " <li class=\"sb_prod_feature_item\">\n",
       "                   Frame Material: Wood\n",
       "                 </li>\n",
       " <li class=\"sb_prod_feature_item\">\n",
       "                   Overall Product Weight: 100lbs\n",
       "                 </li>\n",
       " </ul>\n",
       " <div class=\"sb_prod_copy\" data-click-location=\"Product26\">\n",
       "                 Featuring dual-toned upholstery and a cozy design, the Brewster Loveseat is a comfy addition to your living room. Soft microfiber upholstery and plush, button-tufted cushions offer an inviting place to lounge, while faux leather upholstery adds a refined touch. \n",
       " \n",
       " At Andover Mills, value and versatility go hand in hand. Our Brewster collection features casual seating options that will transform your living room into a premium space for lounging. Versatile hues make it easy to customize this...\n",
       "               </div>\n",
       " </div>\n",
       " <div class=\"prod_info_collapse\"></div>\n",
       " </div>\n",
       " <div class=\"sb_prod_details_block js-ss-click\" data-click-location=\"Product26\" data-click-track=\"sb_swatch_bottom_product_info_click\">\n",
       " <div class=\"sb_prod_grid_height\">\n",
       " <div class=\"sbprodmoreopts note margin_sm_top margin_sm_bottom\">\n",
       " <span class=\"cleanlink inlineblock js-ss-click sb_swatch_more_link \" data-click-track=\"sb_swatch_more_options_click\" title=\"Brewster Loveseat\">\n",
       "             More Options »\n",
       "           </span>\n",
       " </div>\n",
       " <span class=\"sb_names blocklevel cleanlink margin_sm_top\" title=\"Brewster Loveseat\">\n",
       " <p class=\"sb_prod_name emphasis\">Brewster Loveseat</p>\n",
       " <p class=\"sb_manu_name_solo smtext\">\n",
       "               by Andover Mills\n",
       "             </p>\n",
       " </span>\n",
       " </div>\n",
       " <div class=\"sb_left_block\">\n",
       " <div class=\"sb_pricing_wrap\">\n",
       " <div class=\"price pricetext sb_pricetext midtitle\"><span class=\"is_price_label\"></span><span class=\"is_price_value\">$379.99</span> <span class=\"wasprice wf_bodycolortext deemphasize strike\">$479.99</span></div>\n",
       " </div>\n",
       " <div class=\"sb_shipping_wrap\">\n",
       "         Free Shipping\n",
       "         \n",
       "       </div>\n",
       " <div class=\"reviewbox pos_rel ltbodytext\">\n",
       " <span class=\"stars_wrap review_stars_block_sm pos_rel fl inlineblock cleanlink_disabled stars_sm_10 js-ss-click js-track-event\">\n",
       "      <span class=\"stars_foreground\"></span>\n",
       " </span>\n",
       "   \n",
       "     (3)\n",
       "   \n",
       " </div>\n",
       " </div>\n",
       " </div>\n",
       " </a>,\n",
       " <a class=\"productbox fl js-ss-click cleanlink sb_noline js-product-bottom-link js-prod-content sb_prod_content yui3-filter-wrap \" data-click-track=\"sb_product_with_swatches_clicked,ss3301912_sale,browse_product:Superbrowse\" data-sku=\"BL6434\" href=\"http://www.wayfair.com/Birch-Lane-E92820-IQSL-Queen-Sleeper-Sofa-0120132-BL6434.html\" id=\"productbox_BL6434\">\n",
       " <div class=\"sb_prod_image_wrapper pos_rel js-clipbar_drag \" data-favorites-key=\"BL6434\" data-favorites-type=\"1\" data-image-url=\"https://secure.img1.wfrcdn.com/lf/79/hash/25006/16175248/1/Clarkedale%2BSleeper%2BSofa.jpg\" data-product-title=\"Clarkedale Sleeper Sofa\" data-sku=\"BL6434\">\n",
       " <div class=\"sb_banner_wrap sbsale_banner heading_font_reg xstext whitetext \">\n",
       "                     Sale\n",
       "       </div>\n",
       " <div class=\"sb_prod_favs_wrap js-sb-favs-icon-wrap hidden-node favs_out\">\n",
       " <span class=\"favs_icon_lt pos_rel pointer inlineblock cleanlink_disabled js-favorites-button js_clipbar_button js-ss-click\" data-click-track=\"SB_Favorites\" data-favorites-key=\"BL6434\" data-favorites-type=\"1\" data-image-url=\"https://secure.img1.wfrcdn.com/lf/79/hash/25006/16175248/1/Clarkedale%2BSleeper%2BSofa.jpg\" data-product_manufacturer=\"Birch Lane\" data-product_title=\"Clarkedale Sleeper Sofa\">\n",
       " <span class=\"favs_icon_glyph pos_rel\"></span>\n",
       " </span>\n",
       " </div>\n",
       " <div class=\"swatch_hover_zoom js-swatch_hover_zoom bgcolorwhite borderall hidden-node\">\n",
       " </div>\n",
       " <div class=\"sb_prod_qv_wrap sbprodoptionswrap favs_out centertext pointer js-sb-qv-btn-wrap hidden-node favs_out\" data-qv-js=\"true\">\n",
       " <input class=\"js-ss-click js-viewmore jq-quickview js-quickview-btn note emphasis ltbodytext pointer quickview_btn wflink viewmoreheadadmin \" data-click-track=\"sb_add_to_cart:SB_quickview\" data-product-block-url=\"/v/product/quick_view?sku=BL6434&amp;\" type=\"button\" value=\"QUICK VIEW\"/>\n",
       " </div>\n",
       " <img alt=\"Clarkedale Sleeper Sofa\" class=\"js-lazy-loaded-image\" height=\"225\" src=\"data:image/gif;base64,R0lGODlhAQABAPAAAAAAAAAAACH5BAEAAAAALAAAAAABAAEAAAICRAEAOw==\" width=\"225\"/>\n",
       " <noscript>\n",
       " <img alt=\"Clarkedale Sleeper Sofa\" height=\"225\" src=\"https://secure.img1.wfrcdn.com/lf/79/hash/25006/16175248/1/Clarkedale%2BSleeper%2BSofa.jpg\" width=\"225\"/>\n",
       " </noscript>\n",
       " </div>\n",
       " <div class=\"sb_prod_features borderleft\" data-click-location=\"Product27\">\n",
       " <div class=\"sb_prod_features_container\">\n",
       " <div class=\"emphasis\">\n",
       "               Product Features\n",
       "             </div>\n",
       " <ul class=\"sb_prod_feature_list\">\n",
       " <li class=\"sb_prod_feature_item\">\n",
       "                   Assembly Required: No\n",
       "                 </li>\n",
       " <li class=\"sb_prod_feature_item\">\n",
       "                   Overall: 36\" H x 80\" W x 37\" D\n",
       "                 </li>\n",
       " <li class=\"sb_prod_feature_item\">\n",
       "                   Design: Sleeper\n",
       "                 </li>\n",
       " <li class=\"sb_prod_feature_item\">\n",
       "                   Frame Material: Wood\n",
       "                 </li>\n",
       " <li class=\"sb_prod_feature_item\">\n",
       "                   Overall Product Weight: 161lbs\n",
       "                 </li>\n",
       " </ul>\n",
       " <div class=\"sb_prod_copy\" data-click-location=\"Product27\">\n",
       "                 Always in style, the Clarkedale sleeper sofa adds classic eminence to any living space. Welted track arms and blended down cushions offer chic comfort, while tapered, block wood legs provide a sturdy base.\n",
       "               </div>\n",
       " </div>\n",
       " <div class=\"prod_info_collapse\"></div>\n",
       " </div>\n",
       " <div class=\"sb_prod_details_block js-ss-click\" data-click-location=\"Product27\" data-click-track=\"sb_swatch_bottom_product_info_click\">\n",
       " <div class=\"sb_prod_grid_height\">\n",
       " <div class=\"sbprodmoreopts note margin_sm_top margin_sm_bottom\">\n",
       " <span class=\"cleanlink inlineblock js-ss-click sb_swatch_more_link \" data-click-track=\"sb_swatch_more_options_click\" title=\"Clarkedale Sleeper Sofa\">\n",
       "             More Options: Fabric »\n",
       "           </span>\n",
       " </div>\n",
       " <span class=\"sb_names blocklevel cleanlink margin_sm_top\" title=\"Clarkedale Sleeper Sofa\">\n",
       " <p class=\"sb_prod_name emphasis\">Clarkedale Sleeper Sofa</p>\n",
       " <p class=\"sb_manu_name_solo smtext\">\n",
       "               by Birch Lane\n",
       "             </p>\n",
       " </span>\n",
       " </div>\n",
       " <div class=\"sb_left_block\">\n",
       " <div class=\"sb_pricing_wrap\">\n",
       " <div class=\"price noticetext sb_noticetext midtitle\"><span class=\"is_price_label\"></span><span class=\"is_price_value\"><span class=\"from_text emphasis wf_bodycolortext note\">from </span>$760.00</span> <span class=\"wasprice wf_bodycolortext deemphasize strike\">$949.00</span></div>\n",
       " </div>\n",
       " <div class=\"sb_shipping_wrap\">\n",
       "         Free Inside Delivery\n",
       "         \n",
       "       </div>\n",
       " <div class=\"reviewbox pos_rel ltbodytext\">\n",
       " <span class=\"stars_wrap review_stars_block_sm pos_rel fl inlineblock cleanlink_disabled stars_sm_9 js-ss-click js-track-event\">\n",
       "      <span class=\"stars_foreground\"></span>\n",
       " </span>\n",
       "   \n",
       "     (12)\n",
       "   \n",
       " </div>\n",
       " </div>\n",
       " </div>\n",
       " </a>,\n",
       " <a class=\"productbox fl js-ss-click cleanlink sb_noline js-product-bottom-link js-prod-content sb_prod_content yui3-filter-wrap \" data-click-track=\"browse_product:Superbrowse\" data-sku=\"DQPG1040\" href=\"http://www.wayfair.com/Piedmont-Furniture-Emily-Sofa-6200SOM-DQPG1040.html\" id=\"productbox_DQPG1040\">\n",
       " <div class=\"sb_prod_image_wrapper pos_rel js-clipbar_drag \" data-favorites-key=\"DQPG1040\" data-favorites-type=\"1\" data-image-url=\"https://secure.img1.wfrcdn.com/lf/79/hash/33807/14412046/1/Emily%2BSofa.jpg\" data-product-title=\"Emily Sofa\" data-sku=\"DQPG1040\">\n",
       " <div class=\"sb_prod_favs_wrap js-sb-favs-icon-wrap hidden-node favs_out\">\n",
       " <span class=\"favs_icon_lt pos_rel pointer inlineblock cleanlink_disabled js-favorites-button js_clipbar_button js-ss-click\" data-click-track=\"SB_Favorites\" data-favorites-key=\"DQPG1040\" data-favorites-type=\"1\" data-image-url=\"https://secure.img1.wfrcdn.com/lf/79/hash/33807/14412046/1/Emily%2BSofa.jpg\" data-product_manufacturer=\"Piedmont Furniture\" data-product_title=\"Emily Sofa\">\n",
       " <span class=\"favs_icon_glyph pos_rel\"></span>\n",
       " </span>\n",
       " </div>\n",
       " <div class=\"sb_prod_qv_wrap sbprodoptionswrap favs_out centertext pointer js-sb-qv-btn-wrap hidden-node favs_out\" data-qv-js=\"true\">\n",
       " <input class=\"js-ss-click js-viewmore jq-quickview js-quickview-btn note emphasis ltbodytext pointer quickview_btn wflink viewmoreheadadmin \" data-click-track=\"sb_add_to_cart:SB_quickview\" data-product-block-url=\"/v/product/quick_view?sku=DQPG1040&amp;\" type=\"button\" value=\"QUICK VIEW\"/>\n",
       " </div>\n",
       " <img alt=\"Emily Sofa\" class=\"js-lazy-loaded-image\" height=\"225\" src=\"data:image/gif;base64,R0lGODlhAQABAPAAAAAAAAAAACH5BAEAAAAALAAAAAABAAEAAAICRAEAOw==\" width=\"225\"/>\n",
       " <noscript>\n",
       " <img alt=\"Emily Sofa\" height=\"225\" src=\"https://secure.img1.wfrcdn.com/lf/79/hash/33807/14412046/1/Emily%2BSofa.jpg\" width=\"225\"/>\n",
       " </noscript>\n",
       " </div>\n",
       " <div class=\"sb_prod_features borderleft\" data-click-location=\"Product28\">\n",
       " <div class=\"sb_prod_features_container\">\n",
       " <div class=\"emphasis\">\n",
       "               Product Features\n",
       "             </div>\n",
       " <ul class=\"sb_prod_feature_list\">\n",
       " <li class=\"sb_prod_feature_item\">\n",
       "                   Overall: 38.5\" H x 84\" W x 34\" D\n",
       "                 </li>\n",
       " <li class=\"sb_prod_feature_item\">\n",
       "                   Design: Standard\n",
       "                 </li>\n",
       " <li class=\"sb_prod_feature_item\">\n",
       "                   Frame Material: Wood\n",
       "                 </li>\n",
       " <li class=\"sb_prod_feature_item\">\n",
       "                   Upholstery Material: Microfiber\n",
       "                 </li>\n",
       " <li class=\"sb_prod_feature_item\">\n",
       "                   Overall Product Weight: 120lbs\n",
       "                 </li>\n",
       " </ul>\n",
       " </div>\n",
       " <div class=\"prod_info_collapse\"></div>\n",
       " </div>\n",
       " <div class=\"sb_prod_details_block js-ss-click\" data-click-location=\"Product28\" data-click-track=\"sb_swatch_bottom_product_info_click\">\n",
       " <div class=\"sb_prod_grid_height\">\n",
       " <div class=\"sbprodmoreopts note margin_sm_top margin_sm_bottom\">\n",
       " <span class=\"cleanlink inlineblock js-ss-click sb_swatch_more_link \" data-click-track=\"sb_swatch_more_options_click\" title=\"Emily Sofa\">\n",
       "             More Options: Color »\n",
       "           </span>\n",
       " </div>\n",
       " <span class=\"sb_names blocklevel cleanlink margin_sm_top\" title=\"Emily Sofa\">\n",
       " <p class=\"sb_prod_name emphasis\">Emily Sofa</p>\n",
       " <p class=\"sb_manu_name_solo smtext\">\n",
       "               by Piedmont Furniture\n",
       "             </p>\n",
       " </span>\n",
       " </div>\n",
       " <div class=\"sb_left_block\">\n",
       " <div class=\"sb_pricing_wrap\">\n",
       " <div class=\"price pricetext sb_pricetext midtitle\"><span class=\"is_price_label\"></span><span class=\"is_price_value\">$374.99</span> <span class=\"wasprice wf_bodycolortext deemphasize strike\">$529.99</span></div>\n",
       " </div>\n",
       " <div class=\"sb_shipping_wrap\">\n",
       "         Free Shipping\n",
       "         \n",
       "       </div>\n",
       " <div class=\"reviewbox pos_rel ltbodytext\">\n",
       " <span class=\"stars_wrap review_stars_block_sm pos_rel fl inlineblock cleanlink_disabled stars_sm_10 js-ss-click js-track-event\">\n",
       "      <span class=\"stars_foreground\"></span>\n",
       " </span>\n",
       "   \n",
       "     (52)\n",
       "   \n",
       " </div>\n",
       " </div>\n",
       " </div>\n",
       " </a>,\n",
       " <a class=\"productbox fl js-ss-click cleanlink sb_noline js-product-bottom-link js-prod-content sb_prod_content yui3-filter-wrap \" data-click-track=\"sb_product_with_swatches_clicked,browse_product:Superbrowse\" data-sku=\"BL3422\" href=\"http://www.wayfair.com/Birch-Lane-Newton-Sofa-Sleeper-BL3422.html\" id=\"productbox_BL3422\">\n",
       " <div class=\"sb_prod_image_wrapper pos_rel js-clipbar_drag \" data-favorites-key=\"BL3422\" data-favorites-type=\"1\" data-image-url=\"https://secure.img1.wfrcdn.com/lf/79/hash/25006/14077134/1/Newton%2BSleeper%2BSofa.jpg\" data-product-title=\"Newton Sleeper Sofa\" data-sku=\"BL3422\">\n",
       " <div class=\"sb_prod_favs_wrap js-sb-favs-icon-wrap hidden-node favs_out\">\n",
       " <span class=\"favs_icon_lt pos_rel pointer inlineblock cleanlink_disabled js-favorites-button js_clipbar_button js-ss-click\" data-click-track=\"SB_Favorites\" data-favorites-key=\"BL3422\" data-favorites-type=\"1\" data-image-url=\"https://secure.img1.wfrcdn.com/lf/79/hash/25006/14077134/1/Newton%2BSleeper%2BSofa.jpg\" data-product_manufacturer=\"Birch Lane\" data-product_title=\"Newton Sleeper Sofa\">\n",
       " <span class=\"favs_icon_glyph pos_rel\"></span>\n",
       " </span>\n",
       " </div>\n",
       " <div class=\"swatch_hover_zoom js-swatch_hover_zoom bgcolorwhite borderall hidden-node\">\n",
       " </div>\n",
       " <div class=\"sb_prod_qv_wrap sbprodoptionswrap favs_out centertext pointer js-sb-qv-btn-wrap hidden-node favs_out\" data-qv-js=\"true\">\n",
       " <input class=\"js-ss-click js-viewmore jq-quickview js-quickview-btn note emphasis ltbodytext pointer quickview_btn wflink viewmoreheadadmin \" data-click-track=\"sb_add_to_cart:SB_quickview\" data-product-block-url=\"/v/product/quick_view?sku=BL3422&amp;\" type=\"button\" value=\"QUICK VIEW\"/>\n",
       " </div>\n",
       " <img alt=\"Newton Sleeper Sofa\" class=\"js-lazy-loaded-image\" height=\"225\" src=\"data:image/gif;base64,R0lGODlhAQABAPAAAAAAAAAAACH5BAEAAAAALAAAAAABAAEAAAICRAEAOw==\" width=\"225\"/>\n",
       " <noscript>\n",
       " <img alt=\"Newton Sleeper Sofa\" height=\"225\" src=\"https://secure.img1.wfrcdn.com/lf/79/hash/25006/14077134/1/Newton%2BSleeper%2BSofa.jpg\" width=\"225\"/>\n",
       " </noscript>\n",
       " </div>\n",
       " <div class=\"sb_prod_features borderleft\" data-click-location=\"Product29\">\n",
       " <div class=\"sb_prod_features_container\">\n",
       " <div class=\"emphasis\">\n",
       "               Product Features\n",
       "             </div>\n",
       " <ul class=\"sb_prod_feature_list\">\n",
       " <li class=\"sb_prod_feature_item\">\n",
       "                   Product Warranty: Limited lifetime warranty on frame and springs, 5 Years warranty on cushions, 1 Year warranty on fabric and labor\n",
       "                 </li>\n",
       " <li class=\"sb_prod_feature_item\">\n",
       "                   Assembly Required: Yes\n",
       "                 </li>\n",
       " <li class=\"sb_prod_feature_item\">\n",
       "                   Overall: 31\" H x 89\" W x 40\" D\n",
       "                 </li>\n",
       " </ul>\n",
       " <div class=\"sb_prod_copy\" data-click-location=\"Product29\">\n",
       "                 The Newton Sleeper Sofa features loose back pillows and deep welted box seat cushions for maximum comfort. A queen-sized Enso memory-foam mattress pulls out to easily accommodate overnight guests. \n",
       "               </div>\n",
       " </div>\n",
       " <div class=\"prod_info_collapse\"></div>\n",
       " </div>\n",
       " <div class=\"sb_prod_details_block js-ss-click\" data-click-location=\"Product29\" data-click-track=\"sb_swatch_bottom_product_info_click\">\n",
       " <div class=\"sb_prod_grid_height\">\n",
       " <div class=\"sbprodmoreopts note margin_sm_top margin_sm_bottom\">\n",
       " <span class=\"cleanlink inlineblock js-ss-click sb_swatch_more_link \" data-click-track=\"sb_swatch_more_options_click\" title=\"Newton Sleeper Sofa\">\n",
       "             More Options: Fabric »\n",
       "           </span>\n",
       " </div>\n",
       " <span class=\"sb_names blocklevel cleanlink margin_sm_top\" title=\"Newton Sleeper Sofa\">\n",
       " <p class=\"sb_prod_name emphasis\">Newton Sleeper Sofa</p>\n",
       " <p class=\"sb_manu_name_solo smtext\">\n",
       "               by Birch Lane\n",
       "             </p>\n",
       " </span>\n",
       " </div>\n",
       " <div class=\"sb_left_block\">\n",
       " <div class=\"sb_pricing_wrap\">\n",
       " <div class=\"price pricetext sb_pricetext midtitle\"><span class=\"is_price_label\"></span><span class=\"is_price_value\"><span class=\"from_text emphasis wf_bodycolortext note\">from </span>$1,499.00</span> <span class=\"wasprice wf_bodycolortext deemphasize strike\">$1,599.00</span></div>\n",
       " </div>\n",
       " <div class=\"sb_shipping_wrap\">\n",
       "         Free Inside Delivery\n",
       "         \n",
       "       </div>\n",
       " <div class=\"reviewbox pos_rel\"></div>\n",
       " </div>\n",
       " </div>\n",
       " </a>,\n",
       " <a class=\"productbox fl js-ss-click cleanlink sb_noline js-product-bottom-link js-prod-content sb_prod_content yui3-filter-wrap \" data-click-track=\"browse_product_with_two_day_delivery,ss3301912_sale,browse_product:Superbrowse\" data-sku=\"HLV1631\" href=\"http://www.wayfair.com/Handy-Living-Damen-Convert-a-Couch-Full-Convertible-Sofa-C1-S1-AAA-HLV1631.html\" id=\"productbox_HLV1631\">\n",
       " <div class=\"sb_prod_image_wrapper pos_rel js-clipbar_drag \" data-favorites-key=\"HLV1631\" data-favorites-type=\"1\" data-image-url=\"https://secure.img2.wfrcdn.com/lf/79/hash/918/8997311/1/Damen%2BFull%2BConvertible%2BSleeper%2BSofa.jpg\" data-product-title=\"Damen Full Convertible Sleeper Sofa\" data-sku=\"HLV1631\">\n",
       " <div class=\"sb_banner_wrap sbsale_banner heading_font_reg xstext whitetext \">\n",
       "                     Sale\n",
       "       </div>\n",
       " <div class=\"sb_prod_favs_wrap js-sb-favs-icon-wrap hidden-node favs_out\">\n",
       " <span class=\"favs_icon_lt pos_rel pointer inlineblock cleanlink_disabled js-favorites-button js_clipbar_button js-ss-click\" data-click-track=\"SB_Favorites\" data-favorites-key=\"HLV1631\" data-favorites-type=\"1\" data-image-url=\"https://secure.img2.wfrcdn.com/lf/79/hash/918/8997311/1/Damen%2BFull%2BConvertible%2BSleeper%2BSofa.jpg\" data-product_manufacturer=\"Handy Living\" data-product_title=\"Damen Full Convertible Sleeper Sofa\">\n",
       " <span class=\"favs_icon_glyph pos_rel\"></span>\n",
       " </span>\n",
       " </div>\n",
       " <div class=\"sb_prod_qv_wrap sbprodoptionswrap favs_out centertext pointer js-sb-qv-btn-wrap hidden-node favs_out\" data-qv-js=\"true\">\n",
       " <input class=\"js-ss-click js-viewmore jq-quickview js-quickview-btn note emphasis ltbodytext pointer quickview_btn wflink viewmoreheadadmin \" data-click-track=\"sb_add_to_cart:SB_quickview\" data-product-block-url=\"/v/product/quick_view?sku=HLV1631&amp;\" type=\"button\" value=\"QUICK VIEW\"/>\n",
       " </div>\n",
       " <img alt=\"Damen Full Convertible Sleeper Sofa\" class=\"js-lazy-loaded-image\" height=\"225\" src=\"data:image/gif;base64,R0lGODlhAQABAPAAAAAAAAAAACH5BAEAAAAALAAAAAABAAEAAAICRAEAOw==\" width=\"225\"/>\n",
       " <noscript>\n",
       " <img alt=\"Damen Full Convertible Sleeper Sofa\" height=\"225\" src=\"https://secure.img2.wfrcdn.com/lf/79/hash/918/8997311/1/Damen%2BFull%2BConvertible%2BSleeper%2BSofa.jpg\" width=\"225\"/>\n",
       " </noscript>\n",
       " </div>\n",
       " <div class=\"sb_prod_features borderleft\" data-click-location=\"Product30\">\n",
       " <div class=\"sb_prod_features_container\">\n",
       " <div class=\"emphasis\">\n",
       "               Product Features\n",
       "             </div>\n",
       " <ul class=\"sb_prod_feature_list\">\n",
       " <li class=\"sb_prod_feature_item\">\n",
       "                   Overall: 35.75\" H x 87\" W x 38\" D\n",
       "                 </li>\n",
       " <li class=\"sb_prod_feature_item\">\n",
       "                   Assembly Required: Yes\n",
       "                 </li>\n",
       " <li class=\"sb_prod_feature_item\">\n",
       "                   Product Warranty: 1 Year\n",
       "                 </li>\n",
       " <li class=\"sb_prod_feature_item\">\n",
       "                   Design: Sleeper\n",
       "                 </li>\n",
       " <li class=\"sb_prod_feature_item\">\n",
       "                   Frame Material: Other\n",
       "                 </li>\n",
       " </ul>\n",
       " <div class=\"sb_prod_copy\" data-click-location=\"Product30\">\n",
       "                 Add an air of elegance to your living room with the Handy Living Damen Convert-A-Couch Full Convertible Sofa. The frame of this convertible sofa is made from steel, which ensures its longevity. It is upholstered in microfiber that makes it comfortable. The solid pattern of this convertible sofa looks graceful and sophisticated. This Damen Convert-A-Couch Full Convertible Sofa from Handy Living is available in multiple colors for you to choose from. The plush convertible sofa reclines up to 180...\n",
       "               </div>\n",
       " </div>\n",
       " <div class=\"prod_info_collapse\"></div>\n",
       " </div>\n",
       " <div class=\"sb_prod_details_block js-ss-click\" data-click-location=\"Product30\" data-click-track=\"sb_swatch_bottom_product_info_click\">\n",
       " <div class=\"sb_prod_grid_height\">\n",
       " <div class=\"sbprodmoreopts note margin_sm_top margin_sm_bottom\">\n",
       " <span class=\"cleanlink inlineblock js-ss-click sb_swatch_more_link \" data-click-track=\"sb_swatch_more_options_click\" title=\"Damen Full Convertible Sleeper Sofa\">\n",
       "             More Options »\n",
       "           </span>\n",
       " </div>\n",
       " <span class=\"sb_names blocklevel cleanlink margin_sm_top\" title=\"Damen Full Convertible Sleeper Sofa\">\n",
       " <p class=\"sb_prod_name emphasis\">Damen Full Convertible Sleeper Sofa</p>\n",
       " <p class=\"sb_manu_name_solo smtext\">\n",
       "               by Handy Living\n",
       "             </p>\n",
       " </span>\n",
       " </div>\n",
       " <div class=\"sb_left_block\">\n",
       " <div class=\"sb_pricing_wrap\">\n",
       " <div class=\"price noticetext sb_noticetext midtitle\"><span class=\"is_price_label\"></span><span class=\"is_price_value\">$428.99</span> <span class=\"wasprice wf_bodycolortext deemphasize strike\">$536.00</span></div>\n",
       " </div>\n",
       " <div class=\"sb_shipping_wrap\">\n",
       "         Free Shipping &amp; 2-Day Delivery\n",
       "         \n",
       "       </div>\n",
       " <div class=\"reviewbox pos_rel ltbodytext\">\n",
       " <span class=\"stars_wrap review_stars_block_sm pos_rel fl inlineblock cleanlink_disabled stars_sm_9 js-ss-click js-track-event\">\n",
       "      <span class=\"stars_foreground\"></span>\n",
       " </span>\n",
       "   \n",
       "     (115)\n",
       "   \n",
       " </div>\n",
       " </div>\n",
       " </div>\n",
       " </a>,\n",
       " <a class=\"productbox fl js-ss-click cleanlink sb_noline js-product-bottom-link js-prod-content sb_prod_content yui3-filter-wrap \" data-click-track=\"ss3301912_sale,browse_product:Superbrowse\" data-sku=\"THRE1400\" href=\"http://www.wayfair.com/Davey-Sofa-by-Serta-Upholstery-THRE1400-THRE1400.html\" id=\"productbox_THRE1400\">\n",
       " <div class=\"sb_prod_image_wrapper pos_rel js-clipbar_drag \" data-favorites-key=\"THRE1400\" data-favorites-type=\"1\" data-image-url=\"https://secure.img2.wfrcdn.com/lf/79/hash/30973/16681837/1/Davey%2BSofa.jpg\" data-product-title=\"Davey Sofa\" data-sku=\"THRE1400\">\n",
       " <div class=\"sb_banner_wrap sbsale_banner heading_font_reg xstext whitetext \">\n",
       "                     Sale\n",
       "       </div>\n",
       " <div class=\"sb_prod_favs_wrap js-sb-favs-icon-wrap hidden-node favs_out\">\n",
       " <span class=\"favs_icon_lt pos_rel pointer inlineblock cleanlink_disabled js-favorites-button js_clipbar_button js-ss-click\" data-click-track=\"SB_Favorites\" data-favorites-key=\"THRE1400\" data-favorites-type=\"1\" data-image-url=\"https://secure.img2.wfrcdn.com/lf/79/hash/30973/16681837/1/Davey%2BSofa.jpg\" data-product_manufacturer=\"Three Posts\" data-product_title=\"Davey Sofa\">\n",
       " <span class=\"favs_icon_glyph pos_rel\"></span>\n",
       " </span>\n",
       " </div>\n",
       " <div class=\"sb_prod_qv_wrap sbprodoptionswrap favs_out centertext pointer js-sb-qv-btn-wrap hidden-node favs_out\" data-qv-js=\"true\">\n",
       " <input class=\"js-ss-click js-viewmore jq-quickview js-quickview-btn note emphasis ltbodytext pointer quickview_btn wflink viewmoreheadadmin \" data-click-track=\"sb_add_to_cart:SB_quickview\" data-product-block-url=\"/v/product/quick_view?sku=THRE1400&amp;\" type=\"button\" value=\"QUICK VIEW\"/>\n",
       " </div>\n",
       " <img alt=\"Davey Sofa\" class=\"js-lazy-loaded-image\" height=\"225\" src=\"data:image/gif;base64,R0lGODlhAQABAPAAAAAAAAAAACH5BAEAAAAALAAAAAABAAEAAAICRAEAOw==\" width=\"225\"/>\n",
       " <noscript>\n",
       " <img alt=\"Davey Sofa\" height=\"225\" src=\"https://secure.img2.wfrcdn.com/lf/79/hash/30973/16681837/1/Davey%2BSofa.jpg\" width=\"225\"/>\n",
       " </noscript>\n",
       " </div>\n",
       " <div class=\"sb_prod_features borderleft\" data-click-location=\"Product31\">\n",
       " <div class=\"sb_prod_features_container\">\n",
       " <div class=\"emphasis\">\n",
       "               Product Features\n",
       "             </div>\n",
       " <ul class=\"sb_prod_feature_list\">\n",
       " <li class=\"sb_prod_feature_item\">\n",
       "                   Product Warranty: 1 year\n",
       "                 </li>\n",
       " <li class=\"sb_prod_feature_item\">\n",
       "                   Overall: 38\" H x 88\" W x 38\" D\n",
       "                 </li>\n",
       " <li class=\"sb_prod_feature_item\">\n",
       "                   Design: Standard\n",
       "                 </li>\n",
       " <li class=\"sb_prod_feature_item\">\n",
       "                   Upholstery Material: Other\n",
       "                 </li>\n",
       " <li class=\"sb_prod_feature_item\">\n",
       "                   Overall Product Weight: 140lbs\n",
       "                 </li>\n",
       " </ul>\n",
       " <div class=\"sb_prod_copy\" data-click-location=\"Product31\">\n",
       "                 A laidback take on modern design, the Davey Sofa features plush high-density foam cushions and soft woven upholstery. Wedge arms, a crisp welt, and block feet create a tailored silhouette, while a reinforced hardwood frame promises lasting quality.\n",
       " \n",
       " Sink into style with our Davey collection. This inviting living room set offers a cozy look that lends any space a comfy feel.\n",
       "               </div>\n",
       " </div>\n",
       " <div class=\"prod_info_collapse\"></div>\n",
       " </div>\n",
       " <div class=\"sb_prod_details_block js-ss-click\" data-click-location=\"Product31\" data-click-track=\"sb_swatch_bottom_product_info_click\">\n",
       " <div class=\"sb_prod_grid_height\">\n",
       " <div class=\"sbprodmoreopts note margin_sm_top margin_sm_bottom\">\n",
       " <span class=\"cleanlink inlineblock js-ss-click sb_swatch_more_link \" data-click-track=\"sb_swatch_more_options_click\" title=\"Davey Sofa\">\n",
       "             More Options: Fabric »\n",
       "           </span>\n",
       " </div>\n",
       " <span class=\"sb_names blocklevel cleanlink margin_sm_top\" title=\"Davey Sofa\">\n",
       " <p class=\"sb_prod_name emphasis\">Davey Sofa</p>\n",
       " <p class=\"sb_manu_name_solo smtext\">\n",
       "               by Three Posts\n",
       "             </p>\n",
       " </span>\n",
       " </div>\n",
       " <div class=\"sb_left_block\">\n",
       " <div class=\"sb_pricing_wrap\">\n",
       " <div class=\"price noticetext sb_noticetext midtitle\"><span class=\"is_price_label\"></span><span class=\"is_price_value\"><span class=\"from_text emphasis wf_bodycolortext note\">from </span>$405.99</span> <span class=\"wasprice wf_bodycolortext deemphasize strike\">$680.39</span></div>\n",
       " </div>\n",
       " <div class=\"sb_shipping_wrap\">\n",
       "         Free Shipping\n",
       "         \n",
       "       </div>\n",
       " <div class=\"reviewbox pos_rel ltbodytext\">\n",
       " <span class=\"stars_wrap review_stars_block_sm pos_rel fl inlineblock cleanlink_disabled stars_sm_10 js-ss-click js-track-event\">\n",
       "      <span class=\"stars_foreground\"></span>\n",
       " </span>\n",
       "   \n",
       "     (52)\n",
       "   \n",
       " </div>\n",
       " </div>\n",
       " </div>\n",
       " </a>,\n",
       " <a class=\"productbox fl js-ss-click cleanlink sb_noline js-product-bottom-link js-prod-content sb_prod_content yui3-filter-wrap \" data-click-track=\"browse_product_with_two_day_delivery,ss3301912_sale,browse_product:Superbrowse\" data-sku=\"MCRR1607\" href=\"http://www.wayfair.com/Caldera-Sofa-MCRR1607-MCRR1607.html\" id=\"productbox_MCRR1607\">\n",
       " <div class=\"sb_prod_image_wrapper pos_rel js-clipbar_drag \" data-favorites-key=\"MCRR1607\" data-favorites-type=\"1\" data-image-url=\"https://secure.img2.wfrcdn.com/lf/79/hash/33808/16660643/1/Caldera%2BSofa.jpg\" data-product-title=\"Caldera Sofa\" data-sku=\"MCRR1607\">\n",
       " <div class=\"sb_banner_wrap sbsale_banner heading_font_reg xstext whitetext \">\n",
       "                     Sale\n",
       "       </div>\n",
       " <div class=\"sb_prod_favs_wrap js-sb-favs-icon-wrap hidden-node favs_out\">\n",
       " <span class=\"favs_icon_lt pos_rel pointer inlineblock cleanlink_disabled js-favorites-button js_clipbar_button js-ss-click\" data-click-track=\"SB_Favorites\" data-favorites-key=\"MCRR1607\" data-favorites-type=\"1\" data-image-url=\"https://secure.img2.wfrcdn.com/lf/79/hash/33808/16660643/1/Caldera%2BSofa.jpg\" data-product_manufacturer=\"Mercury Row\" data-product_title=\"Caldera Sofa\">\n",
       " <span class=\"favs_icon_glyph pos_rel\"></span>\n",
       " </span>\n",
       " </div>\n",
       " <div class=\"sb_prod_qv_wrap sbprodoptionswrap favs_out centertext pointer js-sb-qv-btn-wrap hidden-node favs_out\" data-qv-js=\"true\">\n",
       " <input class=\"js-ss-click js-viewmore jq-quickview js-quickview-btn note emphasis ltbodytext pointer quickview_btn wflink viewmoreheadadmin \" data-click-track=\"sb_add_to_cart:SB_quickview\" data-product-block-url=\"/v/product/quick_view?sku=MCRR1607&amp;\" type=\"button\" value=\"QUICK VIEW\"/>\n",
       " </div>\n",
       " <img alt=\"Caldera Sofa\" class=\"js-lazy-loaded-image\" height=\"225\" src=\"data:image/gif;base64,R0lGODlhAQABAPAAAAAAAAAAACH5BAEAAAAALAAAAAABAAEAAAICRAEAOw==\" width=\"225\"/>\n",
       " <noscript>\n",
       " <img alt=\"Caldera Sofa\" height=\"225\" src=\"https://secure.img2.wfrcdn.com/lf/79/hash/33808/16660643/1/Caldera%2BSofa.jpg\" width=\"225\"/>\n",
       " </noscript>\n",
       " </div>\n",
       " <div class=\"sb_prod_features borderleft\" data-click-location=\"Product32\">\n",
       " <div class=\"sb_prod_features_container\">\n",
       " <div class=\"emphasis\">\n",
       "               Product Features\n",
       "             </div>\n",
       " <ul class=\"sb_prod_feature_list\">\n",
       " <li class=\"sb_prod_feature_item\">\n",
       "                   Overall: 32\" H x 71.5\" W x 33.5\" D\n",
       "                 </li>\n",
       " <li class=\"sb_prod_feature_item\">\n",
       "                   Assembly Required: Yes\n",
       "                 </li>\n",
       " <li class=\"sb_prod_feature_item\">\n",
       "                   Product Warranty: 1 year\n",
       "                 </li>\n",
       " <li class=\"sb_prod_feature_item\">\n",
       "                   Design: Standard\n",
       "                 </li>\n",
       " <li class=\"sb_prod_feature_item\">\n",
       "                   Frame Material: Wood\n",
       "                 </li>\n",
       " </ul>\n",
       " <div class=\"sb_prod_copy\" data-click-location=\"Product32\">\n",
       "                 The Caldera Sofa offers a range of inspiring options to upgrade your living room. Bold fuchsia pink upholstery makes for an eclectic focal point, while a fresh neutral shade blends with your existing décor.  Easy assembly takes less than two minutes with no tools required, so you can sit in style sooner. \n",
       " \n",
       "               </div>\n",
       " </div>\n",
       " <div class=\"prod_info_collapse\"></div>\n",
       " </div>\n",
       " <div class=\"sb_prod_details_block js-ss-click\" data-click-location=\"Product32\" data-click-track=\"sb_swatch_bottom_product_info_click\">\n",
       " <div class=\"sb_prod_grid_height\">\n",
       " <div class=\"sbprodmoreopts note margin_sm_top margin_sm_bottom\">\n",
       " <span class=\"cleanlink inlineblock js-ss-click sb_swatch_more_link \" data-click-track=\"sb_swatch_more_options_click\" title=\"Caldera Sofa\">\n",
       "             More Options: Color »\n",
       "           </span>\n",
       " </div>\n",
       " <span class=\"sb_names blocklevel cleanlink margin_sm_top\" title=\"Caldera Sofa\">\n",
       " <p class=\"sb_prod_name emphasis\">Caldera Sofa</p>\n",
       " <p class=\"sb_manu_name_solo smtext\">\n",
       "               by Mercury Row\n",
       "             </p>\n",
       " </span>\n",
       " </div>\n",
       " <div class=\"sb_left_block\">\n",
       " <div class=\"sb_pricing_wrap\">\n",
       " <div class=\"price noticetext sb_noticetext midtitle\"><span class=\"is_price_label\"></span><span class=\"is_price_value\">$515.99</span> <span class=\"wasprice wf_bodycolortext deemphasize strike\">$649.99</span></div>\n",
       " </div>\n",
       " <div class=\"sb_shipping_wrap\">\n",
       "         Free Shipping &amp; 2-Day Delivery\n",
       "         \n",
       "       </div>\n",
       " <div class=\"reviewbox pos_rel ltbodytext\">\n",
       " <span class=\"stars_wrap review_stars_block_sm pos_rel fl inlineblock cleanlink_disabled stars_sm_10 js-ss-click js-track-event\">\n",
       "      <span class=\"stars_foreground\"></span>\n",
       " </span>\n",
       "   \n",
       "     (17)\n",
       "   \n",
       " </div>\n",
       " </div>\n",
       " </div>\n",
       " </a>,\n",
       " <a class=\"productbox fl js-ss-click cleanlink sb_noline js-product-bottom-link js-prod-content sb_prod_content yui3-filter-wrap \" data-click-track=\"sb_product_with_swatches_clicked,browse_product:Superbrowse\" data-sku=\"XSQ1531\" href=\"http://www.wayfair.com/Serta-Upholstery-Wheaton-Sofa-5500S-XSQ1531.html\" id=\"productbox_XSQ1531\">\n",
       " <div class=\"sb_prod_image_wrapper pos_rel js-clipbar_drag \" data-favorites-key=\"XSQ1531\" data-favorites-type=\"1\" data-image-url=\"https://secure.img2.wfrcdn.com/lf/79/hash/11881/8769421/1/Wheaton%2BSofa.jpg\" data-product-title=\"Wheaton Sofa\" data-sku=\"XSQ1531\">\n",
       " <div class=\"sb_prod_favs_wrap js-sb-favs-icon-wrap hidden-node favs_out\">\n",
       " <span class=\"favs_icon_lt pos_rel pointer inlineblock cleanlink_disabled js-favorites-button js_clipbar_button js-ss-click\" data-click-track=\"SB_Favorites\" data-favorites-key=\"XSQ1531\" data-favorites-type=\"1\" data-image-url=\"https://secure.img2.wfrcdn.com/lf/79/hash/11881/8769421/1/Wheaton%2BSofa.jpg\" data-product_manufacturer=\"Serta Upholstery\" data-product_title=\"Wheaton Sofa\">\n",
       " <span class=\"favs_icon_glyph pos_rel\"></span>\n",
       " </span>\n",
       " </div>\n",
       " <div class=\"swatch_hover_zoom js-swatch_hover_zoom bgcolorwhite borderall hidden-node\">\n",
       " </div>\n",
       " <div class=\"sb_prod_qv_wrap sbprodoptionswrap favs_out centertext pointer js-sb-qv-btn-wrap hidden-node favs_out\" data-qv-js=\"true\">\n",
       " <input class=\"js-ss-click js-viewmore jq-quickview js-quickview-btn note emphasis ltbodytext pointer quickview_btn wflink viewmoreheadadmin \" data-click-track=\"sb_add_to_cart:SB_quickview\" data-product-block-url=\"/v/product/quick_view?sku=XSQ1531&amp;\" type=\"button\" value=\"QUICK VIEW\"/>\n",
       " </div>\n",
       " <img alt=\"Wheaton Sofa\" class=\"js-lazy-loaded-image\" height=\"225\" src=\"data:image/gif;base64,R0lGODlhAQABAPAAAAAAAAAAACH5BAEAAAAALAAAAAABAAEAAAICRAEAOw==\" width=\"225\"/>\n",
       " <noscript>\n",
       " <img alt=\"Wheaton Sofa\" height=\"225\" src=\"https://secure.img2.wfrcdn.com/lf/79/hash/11881/8769421/1/Wheaton%2BSofa.jpg\" width=\"225\"/>\n",
       " </noscript>\n",
       " </div>\n",
       " <div class=\"sb_prod_features borderleft\" data-click-location=\"Product33\">\n",
       " <div class=\"sb_prod_features_container\">\n",
       " <div class=\"emphasis\">\n",
       "               Product Features\n",
       "             </div>\n",
       " <ul class=\"sb_prod_feature_list\">\n",
       " <li class=\"sb_prod_feature_item\">\n",
       "                   Overall: 38\" H x 88\" W x 40\" D\n",
       "                 </li>\n",
       " <li class=\"sb_prod_feature_item\">\n",
       "                   Design: Standard\n",
       "                 </li>\n",
       " <li class=\"sb_prod_feature_item\">\n",
       "                   Upholstery Material: Other\n",
       "                 </li>\n",
       " <li class=\"sb_prod_feature_item\">\n",
       "                   Overall Product Weight: 150lbs\n",
       "                 </li>\n",
       " </ul>\n",
       " </div>\n",
       " <div class=\"prod_info_collapse\"></div>\n",
       " </div>\n",
       " <div class=\"sb_prod_details_block js-ss-click\" data-click-location=\"Product33\" data-click-track=\"sb_swatch_bottom_product_info_click\">\n",
       " <div class=\"sb_prod_grid_height\">\n",
       " <div class=\"sbprodmoreopts note margin_sm_top margin_sm_bottom\">\n",
       " <span class=\"cleanlink inlineblock js-ss-click sb_swatch_more_link \" data-click-track=\"sb_swatch_more_options_click\" title=\"Wheaton Sofa\">\n",
       "             More Options: Fabric »\n",
       "           </span>\n",
       " </div>\n",
       " <span class=\"sb_names blocklevel cleanlink margin_sm_top\" title=\"Wheaton Sofa\">\n",
       " <p class=\"sb_prod_name emphasis\">Wheaton Sofa</p>\n",
       " <p class=\"sb_manu_name_solo smtext\">\n",
       "               by Serta Upholstery\n",
       "             </p>\n",
       " </span>\n",
       " </div>\n",
       " <div class=\"sb_left_block\">\n",
       " <div class=\"sb_pricing_wrap\">\n",
       " <div class=\"price pricetext sb_pricetext midtitle\"><span class=\"is_price_label\"></span><span class=\"is_price_value\"><span class=\"from_text emphasis wf_bodycolortext note\">from </span>$599.99</span> <span class=\"wasprice wf_bodycolortext deemphasize strike\">$749.87</span></div>\n",
       " </div>\n",
       " <div class=\"sb_shipping_wrap\">\n",
       "         Free Shipping\n",
       "         \n",
       "       </div>\n",
       " <div class=\"reviewbox pos_rel ltbodytext\">\n",
       " <span class=\"stars_wrap review_stars_block_sm pos_rel fl inlineblock cleanlink_disabled stars_sm_10 js-ss-click js-track-event\">\n",
       "      <span class=\"stars_foreground\"></span>\n",
       " </span>\n",
       "   \n",
       "     (26)\n",
       "   \n",
       " </div>\n",
       " </div>\n",
       " </div>\n",
       " </a>,\n",
       " <a class=\"productbox fl js-ss-click cleanlink sb_noline js-product-bottom-link js-prod-content sb_prod_content yui3-filter-wrap \" data-click-track=\"browse_product:Superbrowse\" data-sku=\"ZIPC1713\" href=\"http://www.wayfair.com/Vienna-Convertible-Sofa-ZIPC1713-ZIPC1713.html\" id=\"productbox_ZIPC1713\">\n",
       " <div class=\"sb_prod_image_wrapper pos_rel js-clipbar_drag \" data-favorites-key=\"ZIPC1713\" data-favorites-type=\"1\" data-image-url=\"https://secure.img2.wfrcdn.com/lf/79/hash/30593/17642557/1/Kelsie%2BConvertible%2BSofa.jpg\" data-product-title=\"Kelsie Convertible Sofa\" data-sku=\"ZIPC1713\">\n",
       " <div class=\"sb_prod_favs_wrap js-sb-favs-icon-wrap hidden-node favs_out\">\n",
       " <span class=\"favs_icon_lt pos_rel pointer inlineblock cleanlink_disabled js-favorites-button js_clipbar_button js-ss-click\" data-click-track=\"SB_Favorites\" data-favorites-key=\"ZIPC1713\" data-favorites-type=\"1\" data-image-url=\"https://secure.img2.wfrcdn.com/lf/79/hash/30593/17642557/1/Kelsie%2BConvertible%2BSofa.jpg\" data-product_manufacturer=\"Zipcode Design\" data-product_title=\"Kelsie Convertible Sofa\">\n",
       " <span class=\"favs_icon_glyph pos_rel\"></span>\n",
       " </span>\n",
       " </div>\n",
       " <div class=\"sb_prod_qv_wrap sbprodoptionswrap favs_out centertext pointer js-sb-qv-btn-wrap hidden-node favs_out\" data-qv-js=\"true\">\n",
       " <input class=\"js-ss-click js-viewmore jq-quickview js-quickview-btn note emphasis ltbodytext pointer quickview_btn wflink viewmoreheadadmin \" data-click-track=\"sb_add_to_cart:SB_quickview\" data-product-block-url=\"/v/product/quick_view?sku=ZIPC1713&amp;\" type=\"button\" value=\"QUICK VIEW\"/>\n",
       " </div>\n",
       " <img alt=\"Kelsie Convertible Sofa\" class=\"js-lazy-loaded-image\" height=\"225\" src=\"data:image/gif;base64,R0lGODlhAQABAPAAAAAAAAAAACH5BAEAAAAALAAAAAABAAEAAAICRAEAOw==\" width=\"225\"/>\n",
       " <noscript>\n",
       " <img alt=\"Kelsie Convertible Sofa\" height=\"225\" src=\"https://secure.img2.wfrcdn.com/lf/79/hash/30593/17642557/1/Kelsie%2BConvertible%2BSofa.jpg\" width=\"225\"/>\n",
       " </noscript>\n",
       " </div>\n",
       " <div class=\"sb_prod_features borderleft\" data-click-location=\"Product34\">\n",
       " <div class=\"sb_prod_features_container\">\n",
       " <div class=\"emphasis\">\n",
       "               Product Features\n",
       "             </div>\n",
       " <ul class=\"sb_prod_feature_list\">\n",
       " <li class=\"sb_prod_feature_item\">\n",
       "                   Product Warranty: 1 year\n",
       "                 </li>\n",
       " <li class=\"sb_prod_feature_item\">\n",
       "                   Overall: 34\" H x 15\" H x 78.5\" W x 73\" W x 31\" D x 42.5\" D\n",
       "                 </li>\n",
       " <li class=\"sb_prod_feature_item\">\n",
       "                   Design: Convertible\n",
       "                 </li>\n",
       " <li class=\"sb_prod_feature_item\">\n",
       "                   Upholstery Material: Linen\n",
       "                 </li>\n",
       " </ul>\n",
       " <div class=\"sb_prod_copy\" data-click-location=\"Product34\">\n",
       "                 This convertible sofa is truly in a category of its own. Its elegance is only rivalled by its comfort. Together they make this convertible sofa a wonderful piece of furniture that is sure to impress.\n",
       "               </div>\n",
       " </div>\n",
       " <div class=\"prod_info_collapse\"></div>\n",
       " </div>\n",
       " <div class=\"sb_prod_details_block js-ss-click\" data-click-location=\"Product34\" data-click-track=\"sb_swatch_bottom_product_info_click\">\n",
       " <div class=\"sb_prod_grid_height\">\n",
       " <span class=\"sb_names blocklevel cleanlink margin_sm_top\" title=\"Kelsie Convertible Sofa\">\n",
       " <p class=\"sb_prod_name emphasis\">Kelsie Convertible Sofa</p>\n",
       " <p class=\"sb_manu_name_solo smtext\">\n",
       "               by Zipcode Design\n",
       "             </p>\n",
       " </span>\n",
       " </div>\n",
       " <div class=\"sb_left_block\">\n",
       " <div class=\"sb_pricing_wrap\">\n",
       " <div class=\"price pricetext sb_pricetext midtitle\"><span class=\"is_price_label\"></span><span class=\"is_price_value\">$367.99</span> <span class=\"wasprice wf_bodycolortext deemphasize strike\">$456.00</span></div>\n",
       " </div>\n",
       " <div class=\"sb_shipping_wrap\">\n",
       "         Free Shipping\n",
       "         \n",
       "       </div>\n",
       " <div class=\"reviewbox pos_rel ltbodytext\">\n",
       " <span class=\"stars_wrap review_stars_block_sm pos_rel fl inlineblock cleanlink_disabled stars_sm_9 js-ss-click js-track-event\">\n",
       "      <span class=\"stars_foreground\"></span>\n",
       " </span>\n",
       "   \n",
       "     (24)\n",
       "   \n",
       " </div>\n",
       " </div>\n",
       " </div>\n",
       " </a>,\n",
       " <a class=\"productbox fl js-ss-click cleanlink sb_noline js-product-bottom-link js-prod-content sb_prod_content yui3-filter-wrap \" data-click-track=\"browse_product:Superbrowse\" data-sku=\"DQPG1033\" href=\"http://www.wayfair.com/Piedmont-Furniture-Lydia-Sofa-3950SO-DQPG1033.html\" id=\"productbox_DQPG1033\">\n",
       " <div class=\"sb_prod_image_wrapper pos_rel js-clipbar_drag \" data-favorites-key=\"DQPG1033\" data-favorites-type=\"1\" data-image-url=\"https://secure.img2.wfrcdn.com/lf/79/hash/33807/16134209/1/Lydia%2BSofa.jpg\" data-product-title=\"Lydia Sofa\" data-sku=\"DQPG1033\">\n",
       " <div class=\"sb_prod_favs_wrap js-sb-favs-icon-wrap hidden-node favs_out\">\n",
       " <span class=\"favs_icon_lt pos_rel pointer inlineblock cleanlink_disabled js-favorites-button js_clipbar_button js-ss-click\" data-click-track=\"SB_Favorites\" data-favorites-key=\"DQPG1033\" data-favorites-type=\"1\" data-image-url=\"https://secure.img2.wfrcdn.com/lf/79/hash/33807/16134209/1/Lydia%2BSofa.jpg\" data-product_manufacturer=\"Piedmont Furniture\" data-product_title=\"Lydia Sofa\">\n",
       " <span class=\"favs_icon_glyph pos_rel\"></span>\n",
       " </span>\n",
       " </div>\n",
       " <div class=\"sb_prod_qv_wrap sbprodoptionswrap favs_out centertext pointer js-sb-qv-btn-wrap hidden-node favs_out\" data-qv-js=\"true\">\n",
       " <input class=\"js-ss-click js-viewmore jq-quickview js-quickview-btn note emphasis ltbodytext pointer quickview_btn wflink viewmoreheadadmin \" data-click-track=\"sb_add_to_cart:SB_quickview\" data-product-block-url=\"/v/product/quick_view?sku=DQPG1033&amp;\" type=\"button\" value=\"QUICK VIEW\"/>\n",
       " </div>\n",
       " <img alt=\"Lydia Sofa\" class=\"js-lazy-loaded-image\" height=\"225\" src=\"data:image/gif;base64,R0lGODlhAQABAPAAAAAAAAAAACH5BAEAAAAALAAAAAABAAEAAAICRAEAOw==\" width=\"225\"/>\n",
       " <noscript>\n",
       " <img alt=\"Lydia Sofa\" height=\"225\" src=\"https://secure.img2.wfrcdn.com/lf/79/hash/33807/16134209/1/Lydia%2BSofa.jpg\" width=\"225\"/>\n",
       " </noscript>\n",
       " </div>\n",
       " <div class=\"sb_prod_features borderleft\" data-click-location=\"Product35\">\n",
       " <div class=\"sb_prod_features_container\">\n",
       " <div class=\"emphasis\">\n",
       "               Product Features\n",
       "             </div>\n",
       " <ul class=\"sb_prod_feature_list\">\n",
       " <li class=\"sb_prod_feature_item\">\n",
       "                   Overall: 39.5\" H x 84.5\" W x 37\" D\n",
       "                 </li>\n",
       " <li class=\"sb_prod_feature_item\">\n",
       "                   Design: Standard\n",
       "                 </li>\n",
       " <li class=\"sb_prod_feature_item\">\n",
       "                   Frame Material: Wood; Plastic\n",
       "                 </li>\n",
       " <li class=\"sb_prod_feature_item\">\n",
       "                   Upholstery Material: Microfiber\n",
       "                 </li>\n",
       " <li class=\"sb_prod_feature_item\">\n",
       "                   Overall Product Weight: 120lbs\n",
       "                 </li>\n",
       " </ul>\n",
       " <div class=\"sb_prod_copy\" data-click-location=\"Product35\">\n",
       "                 The Lydia Sofa is a contemporary display of comfort and class. With stylish rounded arms and comfy back and seat cushions, this piece is perfect for your living room space.\n",
       "               </div>\n",
       " </div>\n",
       " <div class=\"prod_info_collapse\"></div>\n",
       " </div>\n",
       " <div class=\"sb_prod_details_block js-ss-click\" data-click-location=\"Product35\" data-click-track=\"sb_swatch_bottom_product_info_click\">\n",
       " <div class=\"sb_prod_grid_height\">\n",
       " <div class=\"sbprodmoreopts note margin_sm_top margin_sm_bottom\">\n",
       " <span class=\"cleanlink inlineblock js-ss-click sb_swatch_more_link \" data-click-track=\"sb_swatch_more_options_click\" title=\"Lydia Sofa\">\n",
       "             More Options: Color »\n",
       "           </span>\n",
       " </div>\n",
       " <span class=\"sb_names blocklevel cleanlink margin_sm_top\" title=\"Lydia Sofa\">\n",
       " <p class=\"sb_prod_name emphasis\">Lydia Sofa</p>\n",
       " <p class=\"sb_manu_name_solo smtext\">\n",
       "               by Piedmont Furniture\n",
       "             </p>\n",
       " </span>\n",
       " </div>\n",
       " <div class=\"sb_left_block\">\n",
       " <div class=\"sb_pricing_wrap\">\n",
       " <div class=\"price pricetext sb_pricetext midtitle\"><span class=\"is_price_label\"></span><span class=\"is_price_value\">$409.99</span> <span class=\"wasprice wf_bodycolortext deemphasize strike\">$549.99</span></div>\n",
       " </div>\n",
       " <div class=\"sb_shipping_wrap\">\n",
       "         Free Shipping\n",
       "         \n",
       "       </div>\n",
       " <div class=\"reviewbox pos_rel ltbodytext\">\n",
       " <span class=\"stars_wrap review_stars_block_sm pos_rel fl inlineblock cleanlink_disabled stars_sm_10 js-ss-click js-track-event\">\n",
       "      <span class=\"stars_foreground\"></span>\n",
       " </span>\n",
       "   \n",
       "     (17)\n",
       "   \n",
       " </div>\n",
       " </div>\n",
       " </div>\n",
       " </a>,\n",
       " <a class=\"productbox fl js-ss-click cleanlink sb_noline js-product-bottom-link js-prod-content sb_prod_content yui3-filter-wrap \" data-click-track=\"sb_product_with_swatches_clicked,ss3301912_sale,browse_product:Superbrowse\" data-sku=\"BL3425\" href=\"http://www.wayfair.com/Birch-Lane-Owen-Loveseat-BL3425.html\" id=\"productbox_BL3425\">\n",
       " <div class=\"sb_prod_image_wrapper pos_rel js-clipbar_drag \" data-favorites-key=\"BL3425\" data-favorites-type=\"1\" data-image-url=\"https://secure.img1.wfrcdn.com/lf/79/hash/25006/11982994/1/Owen%2BLoveseat.jpg\" data-product-title=\"Owen Loveseat\" data-sku=\"BL3425\">\n",
       " <div class=\"sb_banner_wrap sbsale_banner heading_font_reg xstext whitetext \">\n",
       "                     Sale\n",
       "       </div>\n",
       " <div class=\"sb_prod_favs_wrap js-sb-favs-icon-wrap hidden-node favs_out\">\n",
       " <span class=\"favs_icon_lt pos_rel pointer inlineblock cleanlink_disabled js-favorites-button js_clipbar_button js-ss-click\" data-click-track=\"SB_Favorites\" data-favorites-key=\"BL3425\" data-favorites-type=\"1\" data-image-url=\"https://secure.img1.wfrcdn.com/lf/79/hash/25006/11982994/1/Owen%2BLoveseat.jpg\" data-product_manufacturer=\"Birch Lane\" data-product_title=\"Owen Loveseat\">\n",
       " <span class=\"favs_icon_glyph pos_rel\"></span>\n",
       " </span>\n",
       " </div>\n",
       " <div class=\"swatch_hover_zoom js-swatch_hover_zoom bgcolorwhite borderall hidden-node\">\n",
       " </div>\n",
       " <div class=\"sb_prod_qv_wrap sbprodoptionswrap favs_out centertext pointer js-sb-qv-btn-wrap hidden-node favs_out\" data-qv-js=\"true\">\n",
       " <input class=\"js-ss-click js-viewmore jq-quickview js-quickview-btn note emphasis ltbodytext pointer quickview_btn wflink viewmoreheadadmin \" data-click-track=\"sb_add_to_cart:SB_quickview\" data-product-block-url=\"/v/product/quick_view?sku=BL3425&amp;\" type=\"button\" value=\"QUICK VIEW\"/>\n",
       " </div>\n",
       " <img alt=\"Owen Loveseat\" class=\"js-lazy-loaded-image\" height=\"225\" src=\"data:image/gif;base64,R0lGODlhAQABAPAAAAAAAAAAACH5BAEAAAAALAAAAAABAAEAAAICRAEAOw==\" width=\"225\"/>\n",
       " <noscript>\n",
       " <img alt=\"Owen Loveseat\" height=\"225\" src=\"https://secure.img1.wfrcdn.com/lf/79/hash/25006/11982994/1/Owen%2BLoveseat.jpg\" width=\"225\"/>\n",
       " </noscript>\n",
       " </div>\n",
       " <div class=\"sb_prod_features borderleft\" data-click-location=\"Product36\">\n",
       " <div class=\"sb_prod_features_container\">\n",
       " <div class=\"emphasis\">\n",
       "               Product Features\n",
       "             </div>\n",
       " <ul class=\"sb_prod_feature_list\">\n",
       " <li class=\"sb_prod_feature_item\">\n",
       "                   Product Warranty: Limited lifetime warranty on frame and springs, 5 Years warranty on cushions, 1 Year warranty on fabric and labor\n",
       "                 </li>\n",
       " <li class=\"sb_prod_feature_item\">\n",
       "                   Assembly Required: No\n",
       "                 </li>\n",
       " <li class=\"sb_prod_feature_item\">\n",
       "                   Overall: 30\" H x 75\" W x 38\" D\n",
       "                 </li>\n",
       " </ul>\n",
       " <div class=\"sb_prod_copy\" data-click-location=\"Product36\">\n",
       "                 With easy, understated elegance, the Owen slipcovered loveseat boasts clean lines and sharp tailoring. Details include classic rolled arms and a waterfall skirt, combined with plump welted seat cushions and scatter-back pillows.\n",
       "               </div>\n",
       " </div>\n",
       " <div class=\"prod_info_collapse\"></div>\n",
       " </div>\n",
       " <div class=\"sb_prod_details_block js-ss-click\" data-click-location=\"Product36\" data-click-track=\"sb_swatch_bottom_product_info_click\">\n",
       " <div class=\"sb_prod_grid_height\">\n",
       " <div class=\"sbprodmoreopts note margin_sm_top margin_sm_bottom\">\n",
       " <span class=\"cleanlink inlineblock js-ss-click sb_swatch_more_link \" data-click-track=\"sb_swatch_more_options_click\" title=\"Owen Loveseat\">\n",
       "             More Options: Fabric »\n",
       "           </span>\n",
       " </div>\n",
       " <span class=\"sb_names blocklevel cleanlink margin_sm_top\" title=\"Owen Loveseat\">\n",
       " <p class=\"sb_prod_name emphasis\">Owen Loveseat</p>\n",
       " <p class=\"sb_manu_name_solo smtext\">\n",
       "               by Birch Lane\n",
       "             </p>\n",
       " </span>\n",
       " </div>\n",
       " <div class=\"sb_left_block\">\n",
       " <div class=\"sb_pricing_wrap\">\n",
       " <div class=\"price noticetext sb_noticetext midtitle\"><span class=\"is_price_label\"></span><span class=\"is_price_value\"><span class=\"from_text emphasis wf_bodycolortext note\">from </span>$1,120.00</span> <span class=\"wasprice wf_bodycolortext deemphasize strike\">$1,399.00</span></div>\n",
       " </div>\n",
       " <div class=\"sb_shipping_wrap\">\n",
       "         Free Inside Delivery\n",
       "         \n",
       "       </div>\n",
       " <div class=\"reviewbox pos_rel ltbodytext\">\n",
       " <span class=\"stars_wrap review_stars_block_sm pos_rel fl inlineblock cleanlink_disabled stars_sm_11 js-ss-click js-track-event\">\n",
       "      <span class=\"stars_foreground\"></span>\n",
       " </span>\n",
       "   \n",
       "     (1)\n",
       "   \n",
       " </div>\n",
       " </div>\n",
       " </div>\n",
       " </a>,\n",
       " <a class=\"productbox fl js-ss-click cleanlink sb_noline js-product-bottom-link js-prod-content sb_prod_content yui3-filter-wrap \" data-click-track=\"sb_product_with_swatches_clicked,ss3301912_sale,browse_product:Superbrowse\" data-sku=\"BL3380\" href=\"http://www.wayfair.com/Birch-Lane-Fairchild-Sofa-BL3380.html\" id=\"productbox_BL3380\">\n",
       " <div class=\"sb_prod_image_wrapper pos_rel js-clipbar_drag \" data-favorites-key=\"BL3380\" data-favorites-type=\"1\" data-image-url=\"https://secure.img2.wfrcdn.com/lf/79/hash/25006/14077279/1/Fairchild%2BSofa.jpg\" data-product-title=\"Fairchild Sofa\" data-sku=\"BL3380\">\n",
       " <div class=\"sb_banner_wrap sbsale_banner heading_font_reg xstext whitetext \">\n",
       "                     Sale\n",
       "       </div>\n",
       " <div class=\"sb_prod_favs_wrap js-sb-favs-icon-wrap hidden-node favs_out\">\n",
       " <span class=\"favs_icon_lt pos_rel pointer inlineblock cleanlink_disabled js-favorites-button js_clipbar_button js-ss-click\" data-click-track=\"SB_Favorites\" data-favorites-key=\"BL3380\" data-favorites-type=\"1\" data-image-url=\"https://secure.img2.wfrcdn.com/lf/79/hash/25006/14077279/1/Fairchild%2BSofa.jpg\" data-product_manufacturer=\"Birch Lane\" data-product_title=\"Fairchild Sofa\">\n",
       " <span class=\"favs_icon_glyph pos_rel\"></span>\n",
       " </span>\n",
       " </div>\n",
       " <div class=\"swatch_hover_zoom js-swatch_hover_zoom bgcolorwhite borderall hidden-node\">\n",
       " </div>\n",
       " <div class=\"sb_prod_qv_wrap sbprodoptionswrap favs_out centertext pointer js-sb-qv-btn-wrap hidden-node favs_out\" data-qv-js=\"true\">\n",
       " <input class=\"js-ss-click js-viewmore jq-quickview js-quickview-btn note emphasis ltbodytext pointer quickview_btn wflink viewmoreheadadmin \" data-click-track=\"sb_add_to_cart:SB_quickview\" data-product-block-url=\"/v/product/quick_view?sku=BL3380&amp;\" type=\"button\" value=\"QUICK VIEW\"/>\n",
       " </div>\n",
       " <img alt=\"Fairchild Sofa\" class=\"js-lazy-loaded-image\" height=\"225\" src=\"data:image/gif;base64,R0lGODlhAQABAPAAAAAAAAAAACH5BAEAAAAALAAAAAABAAEAAAICRAEAOw==\" width=\"225\"/>\n",
       " <noscript>\n",
       " <img alt=\"Fairchild Sofa\" height=\"225\" src=\"https://secure.img2.wfrcdn.com/lf/79/hash/25006/14077279/1/Fairchild%2BSofa.jpg\" width=\"225\"/>\n",
       " </noscript>\n",
       " </div>\n",
       " <div class=\"sb_prod_features borderleft\" data-click-location=\"Product37\">\n",
       " <div class=\"sb_prod_features_container\">\n",
       " <div class=\"emphasis\">\n",
       "               Product Features\n",
       "             </div>\n",
       " <ul class=\"sb_prod_feature_list\">\n",
       " <li class=\"sb_prod_feature_item\">\n",
       "                   Overall: 38\" H x 90\" W x 43\" D\n",
       "                 </li>\n",
       " <li class=\"sb_prod_feature_item\">\n",
       "                   Frame Material: Wood; Plastic\n",
       "                 </li>\n",
       " <li class=\"sb_prod_feature_item\">\n",
       "                   Overall Product Weight: 150lbs\n",
       "                 </li>\n",
       " </ul>\n",
       " <div class=\"sb_prod_copy\" data-click-location=\"Product37\">\n",
       "                 Add distinction and character to your living space with the Fairchild sofa. Slender track arms and blended down pillows offer chic comfort, while tapered, block wood legs provide a sturdy base.\n",
       "               </div>\n",
       " </div>\n",
       " <div class=\"prod_info_collapse\"></div>\n",
       " </div>\n",
       " <div class=\"sb_prod_details_block js-ss-click\" data-click-location=\"Product37\" data-click-track=\"sb_swatch_bottom_product_info_click\">\n",
       " <div class=\"sb_prod_grid_height\">\n",
       " <div class=\"sbprodmoreopts note margin_sm_top margin_sm_bottom\">\n",
       " <span class=\"cleanlink inlineblock js-ss-click sb_swatch_more_link \" data-click-track=\"sb_swatch_more_options_click\" title=\"Fairchild Sofa\">\n",
       "             More Options: Fabric »\n",
       "           </span>\n",
       " </div>\n",
       " <span class=\"sb_names blocklevel cleanlink margin_sm_top\" title=\"Fairchild Sofa\">\n",
       " <p class=\"sb_prod_name emphasis\">Fairchild Sofa</p>\n",
       " <p class=\"sb_manu_name_solo smtext\">\n",
       "               by Birch Lane\n",
       "             </p>\n",
       " </span>\n",
       " </div>\n",
       " <div class=\"sb_left_block\">\n",
       " <div class=\"sb_pricing_wrap\">\n",
       " <div class=\"price noticetext sb_noticetext midtitle\"><span class=\"is_price_label\"></span><span class=\"is_price_value\"><span class=\"from_text emphasis wf_bodycolortext note\">from </span>$1,040.00</span> <span class=\"wasprice wf_bodycolortext deemphasize strike\">$1,299.00</span></div>\n",
       " </div>\n",
       " <div class=\"sb_shipping_wrap\">\n",
       "         Free Inside Delivery\n",
       "         \n",
       "       </div>\n",
       " <div class=\"reviewbox pos_rel ltbodytext\">\n",
       " <span class=\"stars_wrap review_stars_block_sm pos_rel fl inlineblock cleanlink_disabled stars_sm_11 js-ss-click js-track-event\">\n",
       "      <span class=\"stars_foreground\"></span>\n",
       " </span>\n",
       "   \n",
       "     (18)\n",
       "   \n",
       " </div>\n",
       " </div>\n",
       " </div>\n",
       " </a>,\n",
       " <a class=\"productbox fl js-ss-click cleanlink sb_noline js-product-bottom-link js-prod-content sb_prod_content yui3-filter-wrap \" data-click-track=\"browse_product:Superbrowse\" data-sku=\"DRL1529\" href=\"http://www.wayfair.com/Frisco-Sofa-Sleeper-3296098-DRL1529.html\" id=\"productbox_DRL1529\">\n",
       " <div class=\"sb_prod_image_wrapper pos_rel js-clipbar_drag \" data-favorites-key=\"DRL1529\" data-favorites-type=\"1\" data-image-url=\"https://secure.img2.wfrcdn.com/lf/79/hash/7652/15582453/1/Frisco%2BSofa%2BSleeper.jpg\" data-product-title=\"Frisco Sofa Sleeper\" data-sku=\"DRL1529\">\n",
       " <div class=\"sb_prod_favs_wrap js-sb-favs-icon-wrap hidden-node favs_out\">\n",
       " <span class=\"favs_icon_lt pos_rel pointer inlineblock cleanlink_disabled js-favorites-button js_clipbar_button js-ss-click\" data-click-track=\"SB_Favorites\" data-favorites-key=\"DRL1529\" data-favorites-type=\"1\" data-image-url=\"https://secure.img2.wfrcdn.com/lf/79/hash/7652/15582453/1/Frisco%2BSofa%2BSleeper.jpg\" data-product_manufacturer=\"DHP\" data-product_title=\"Frisco Sofa Sleeper\">\n",
       " <span class=\"favs_icon_glyph pos_rel\"></span>\n",
       " </span>\n",
       " </div>\n",
       " <div class=\"sb_prod_qv_wrap sbprodoptionswrap favs_out centertext pointer js-sb-qv-btn-wrap hidden-node favs_out\" data-qv-js=\"true\">\n",
       " <input class=\"js-ss-click js-viewmore jq-quickview js-quickview-btn note emphasis ltbodytext pointer quickview_btn wflink viewmoreheadadmin \" data-click-track=\"sb_add_to_cart:SB_quickview\" data-product-block-url=\"/v/product/quick_view?sku=DRL1529&amp;\" type=\"button\" value=\"QUICK VIEW\"/>\n",
       " </div>\n",
       " <img alt=\"Frisco Sofa Sleeper\" class=\"js-lazy-loaded-image\" height=\"225\" src=\"data:image/gif;base64,R0lGODlhAQABAPAAAAAAAAAAACH5BAEAAAAALAAAAAABAAEAAAICRAEAOw==\" width=\"225\"/>\n",
       " <noscript>\n",
       " <img alt=\"Frisco Sofa Sleeper\" height=\"225\" src=\"https://secure.img2.wfrcdn.com/lf/79/hash/7652/15582453/1/Frisco%2BSofa%2BSleeper.jpg\" width=\"225\"/>\n",
       " </noscript>\n",
       " </div>\n",
       " <div class=\"sb_prod_features borderleft\" data-click-location=\"Product38\">\n",
       " <div class=\"sb_prod_features_container\">\n",
       " <div class=\"emphasis\">\n",
       "               Product Features\n",
       "             </div>\n",
       " <ul class=\"sb_prod_feature_list\">\n",
       " <li class=\"sb_prod_feature_item\">\n",
       "                   Overall: 33\" H x 81\" W x 32\" D\n",
       "                 </li>\n",
       " <li class=\"sb_prod_feature_item\">\n",
       "                   Design: Sleeper\n",
       "                 </li>\n",
       " <li class=\"sb_prod_feature_item\">\n",
       "                   Upholstery Material: Chenille\n",
       "                 </li>\n",
       " <li class=\"sb_prod_feature_item\">\n",
       "                   Overall Product Weight: 110lbs\n",
       "                 </li>\n",
       " </ul>\n",
       " <div class=\"sb_prod_copy\" data-click-location=\"Product38\">\n",
       "                 Vintage style is reinterpreted in this DHP Frisco Convertible Sofa Sleeper. Styled with scrolled arms in a honey finish and Victorian legs, the DHP Frisco is perfectly suited for any living space.  Squared cushions upholstered in chenille fabric adds a contemporary-twist that complements the overall look and feel. Each arm has a convenient compartment that is great for storing magazines and books. This elegant DHP Frisco Sofa converts quickly and easily from a comfortable lounger to a sleeper.\n",
       "               </div>\n",
       " </div>\n",
       " <div class=\"prod_info_collapse\"></div>\n",
       " </div>\n",
       " <div class=\"sb_prod_details_block js-ss-click\" data-click-location=\"Product38\" data-click-track=\"sb_swatch_bottom_product_info_click\">\n",
       " <div class=\"sb_prod_grid_height\">\n",
       " <span class=\"sb_names blocklevel cleanlink margin_sm_top\" title=\"Frisco Sofa Sleeper\">\n",
       " <p class=\"sb_prod_name emphasis\">Frisco Sofa Sleeper</p>\n",
       " <p class=\"sb_manu_name_solo smtext\">\n",
       "               by DHP\n",
       "             </p>\n",
       " </span>\n",
       " </div>\n",
       " <div class=\"sb_left_block\">\n",
       " <div class=\"sb_pricing_wrap\">\n",
       " <div class=\"price pricetext sb_pricetext midtitle\"><span class=\"is_price_label\"></span><span class=\"is_price_value\">$389.99</span> <span class=\"wasprice wf_bodycolortext deemphasize strike\">$629.00</span></div>\n",
       " </div>\n",
       " <div class=\"sb_shipping_wrap\">\n",
       "         Free Shipping\n",
       "         \n",
       "       </div>\n",
       " <div class=\"reviewbox pos_rel ltbodytext\">\n",
       " <span class=\"stars_wrap review_stars_block_sm pos_rel fl inlineblock cleanlink_disabled stars_sm_9 js-ss-click js-track-event\">\n",
       "      <span class=\"stars_foreground\"></span>\n",
       " </span>\n",
       "   \n",
       "     (8)\n",
       "   \n",
       " </div>\n",
       " </div>\n",
       " </div>\n",
       " </a>,\n",
       " <a class=\"productbox fl js-ss-click cleanlink sb_noline js-product-bottom-link js-prod-content sb_prod_content yui3-filter-wrap \" data-click-track=\"sb_product_with_swatches_clicked,browse_product:Superbrowse\" data-sku=\"XSQ1137\" href=\"http://www.wayfair.com/Serta-Upholstery-Sleeper-Sofa-4200IQSL-XSQ1137.html\" id=\"productbox_XSQ1137\">\n",
       " <div class=\"sb_prod_image_wrapper pos_rel js-clipbar_drag \" data-favorites-key=\"XSQ1137\" data-favorites-type=\"1\" data-image-url=\"https://secure.img1.wfrcdn.com/lf/79/hash/11881/18119202/1/Sleeper%2BSofa.jpg\" data-product-title=\"Sleeper Sofa\" data-sku=\"XSQ1137\">\n",
       " <div class=\"sb_prod_favs_wrap js-sb-favs-icon-wrap hidden-node favs_out\">\n",
       " <span class=\"favs_icon_lt pos_rel pointer inlineblock cleanlink_disabled js-favorites-button js_clipbar_button js-ss-click\" data-click-track=\"SB_Favorites\" data-favorites-key=\"XSQ1137\" data-favorites-type=\"1\" data-image-url=\"https://secure.img1.wfrcdn.com/lf/79/hash/11881/18119202/1/Sleeper%2BSofa.jpg\" data-product_manufacturer=\"Serta Upholstery\" data-product_title=\"Sleeper Sofa\">\n",
       " <span class=\"favs_icon_glyph pos_rel\"></span>\n",
       " </span>\n",
       " </div>\n",
       " <div class=\"swatch_hover_zoom js-swatch_hover_zoom bgcolorwhite borderall hidden-node\">\n",
       " </div>\n",
       " <div class=\"sb_prod_qv_wrap sbprodoptionswrap favs_out centertext pointer js-sb-qv-btn-wrap hidden-node favs_out\" data-qv-js=\"true\">\n",
       " <input class=\"js-ss-click js-viewmore jq-quickview js-quickview-btn note emphasis ltbodytext pointer quickview_btn wflink viewmoreheadadmin \" data-click-track=\"sb_add_to_cart:SB_quickview\" data-product-block-url=\"/v/product/quick_view?sku=XSQ1137&amp;\" type=\"button\" value=\"QUICK VIEW\"/>\n",
       " </div>\n",
       " <img alt=\"Sleeper Sofa\" class=\"js-lazy-loaded-image\" height=\"225\" src=\"data:image/gif;base64,R0lGODlhAQABAPAAAAAAAAAAACH5BAEAAAAALAAAAAABAAEAAAICRAEAOw==\" width=\"225\"/>\n",
       " <noscript>\n",
       " <img alt=\"Sleeper Sofa\" height=\"225\" src=\"https://secure.img1.wfrcdn.com/lf/79/hash/11881/18119202/1/Sleeper%2BSofa.jpg\" width=\"225\"/>\n",
       " </noscript>\n",
       " </div>\n",
       " <div class=\"sb_prod_features borderleft\" data-click-location=\"Product39\">\n",
       " <div class=\"sb_prod_features_container\">\n",
       " <div class=\"emphasis\">\n",
       "               Product Features\n",
       "             </div>\n",
       " <ul class=\"sb_prod_feature_list\">\n",
       " <li class=\"sb_prod_feature_item\">\n",
       "                   Overall: 36\" H x 81\" W x 35\" D\n",
       "                 </li>\n",
       " <li class=\"sb_prod_feature_item\">\n",
       "                   Design: Sleeper\n",
       "                 </li>\n",
       " <li class=\"sb_prod_feature_item\">\n",
       "                   Upholstery Material: Other\n",
       "                 </li>\n",
       " <li class=\"sb_prod_feature_item\">\n",
       "                   Overall Product Weight: 155lbs\n",
       "                 </li>\n",
       " </ul>\n",
       " <div class=\"sb_prod_copy\" data-click-location=\"Product39\">\n",
       "                 Sporting a stylish and comfortable design, the Serta Upholstery Sleeper Sofa is the perfect addition to your living room. This sleeper sofa is upholstered in 64% polyester and 36% polypropylene. It features foam-filled tufted cushions that ensure softness and comfort. The elegant sleeper sofa has a solid that adds to its visual. It is available in multiple colors, which lets you choose the one that best suits your living room. It features a stylish chrome plated legs that are made from steel....\n",
       "               </div>\n",
       " </div>\n",
       " <div class=\"prod_info_collapse\"></div>\n",
       " </div>\n",
       " <div class=\"sb_prod_details_block js-ss-click\" data-click-location=\"Product39\" data-click-track=\"sb_swatch_bottom_product_info_click\">\n",
       " <div class=\"sb_prod_grid_height\">\n",
       " <div class=\"sbprodmoreopts note margin_sm_top margin_sm_bottom\">\n",
       " <span class=\"cleanlink inlineblock js-ss-click sb_swatch_more_link \" data-click-track=\"sb_swatch_more_options_click\" title=\"Sleeper Sofa\">\n",
       "             More Options: Fabric »\n",
       "           </span>\n",
       " </div>\n",
       " <span class=\"sb_names blocklevel cleanlink margin_sm_top\" title=\"Sleeper Sofa\">\n",
       " <p class=\"sb_prod_name emphasis\">Sleeper Sofa</p>\n",
       " <p class=\"sb_manu_name_solo smtext\">\n",
       "               by Serta Upholstery\n",
       "             </p>\n",
       " </span>\n",
       " </div>\n",
       " <div class=\"sb_left_block\">\n",
       " <div class=\"sb_pricing_wrap\">\n",
       " <div class=\"price pricetext sb_pricetext midtitle\"><span class=\"is_price_label\"></span><span class=\"is_price_value\">$679.99</span> <span class=\"wasprice wf_bodycolortext deemphasize strike\">$820.00</span></div>\n",
       " </div>\n",
       " <div class=\"sb_shipping_wrap\">\n",
       "         Free Shipping\n",
       "         \n",
       "       </div>\n",
       " <div class=\"reviewbox pos_rel ltbodytext\">\n",
       " <span class=\"stars_wrap review_stars_block_sm pos_rel fl inlineblock cleanlink_disabled stars_sm_10 js-ss-click js-track-event\">\n",
       "      <span class=\"stars_foreground\"></span>\n",
       " </span>\n",
       "   \n",
       "     (43)\n",
       "   \n",
       " </div>\n",
       " </div>\n",
       " </div>\n",
       " </a>,\n",
       " <a class=\"productbox fl js-ss-click cleanlink sb_noline js-product-bottom-link js-prod-content sb_prod_content yui3-filter-wrap \" data-click-track=\"browse_product_with_two_day_delivery,browse_product:Superbrowse\" data-sku=\"MCRR1650\" href=\"http://www.wayfair.com/Convertible-Sleeper-Sofa-MCRR1650-MCRR1650.html\" id=\"productbox_MCRR1650\">\n",
       " <div class=\"sb_prod_image_wrapper pos_rel js-clipbar_drag \" data-favorites-key=\"MCRR1650\" data-favorites-type=\"1\" data-image-url=\"https://secure.img1.wfrcdn.com/lf/79/hash/33808/17872734/1/Convertible%2BSleeper%2BSofa.jpg\" data-product-title=\"Convertible Sleeper Sofa\" data-sku=\"MCRR1650\">\n",
       " <div class=\"sb_prod_favs_wrap js-sb-favs-icon-wrap hidden-node favs_out\">\n",
       " <span class=\"favs_icon_lt pos_rel pointer inlineblock cleanlink_disabled js-favorites-button js_clipbar_button js-ss-click\" data-click-track=\"SB_Favorites\" data-favorites-key=\"MCRR1650\" data-favorites-type=\"1\" data-image-url=\"https://secure.img1.wfrcdn.com/lf/79/hash/33808/17872734/1/Convertible%2BSleeper%2BSofa.jpg\" data-product_manufacturer=\"Mercury Row\" data-product_title=\"Convertible Sleeper Sofa\">\n",
       " <span class=\"favs_icon_glyph pos_rel\"></span>\n",
       " </span>\n",
       " </div>\n",
       " <div class=\"sb_prod_qv_wrap sbprodoptionswrap favs_out centertext pointer js-sb-qv-btn-wrap hidden-node favs_out\" data-qv-js=\"true\">\n",
       " <input class=\"js-ss-click js-viewmore jq-quickview js-quickview-btn note emphasis ltbodytext pointer quickview_btn wflink viewmoreheadadmin \" data-click-track=\"sb_add_to_cart:SB_quickview\" data-product-block-url=\"/v/product/quick_view?sku=MCRR1650&amp;\" type=\"button\" value=\"QUICK VIEW\"/>\n",
       " </div>\n",
       " <img alt=\"Convertible Sleeper Sofa\" class=\"js-lazy-loaded-image\" height=\"225\" src=\"data:image/gif;base64,R0lGODlhAQABAPAAAAAAAAAAACH5BAEAAAAALAAAAAABAAEAAAICRAEAOw==\" width=\"225\"/>\n",
       " <noscript>\n",
       " <img alt=\"Convertible Sleeper Sofa\" height=\"225\" src=\"https://secure.img1.wfrcdn.com/lf/79/hash/33808/17872734/1/Convertible%2BSleeper%2BSofa.jpg\" width=\"225\"/>\n",
       " </noscript>\n",
       " </div>\n",
       " <div class=\"sb_prod_features borderleft\" data-click-location=\"Product40\">\n",
       " <div class=\"sb_prod_features_container\">\n",
       " <div class=\"emphasis\">\n",
       "               Product Features\n",
       "             </div>\n",
       " <ul class=\"sb_prod_feature_list\">\n",
       " <li class=\"sb_prod_feature_item\">\n",
       "                   Overall: 36.5\" H x 87.5\" W x 37.75\" D\n",
       "                 </li>\n",
       " <li class=\"sb_prod_feature_item\">\n",
       "                   Assembly Required: Yes\n",
       "                 </li>\n",
       " <li class=\"sb_prod_feature_item\">\n",
       "                   Product Warranty: 1 Year\n",
       "                 </li>\n",
       " <li class=\"sb_prod_feature_item\">\n",
       "                   Design: Sleeper\n",
       "                 </li>\n",
       " <li class=\"sb_prod_feature_item\">\n",
       "                   Frame Material: Other\n",
       "                 </li>\n",
       " </ul>\n",
       " <div class=\"sb_prod_copy\" data-click-location=\"Product40\">\n",
       "                 Sleeping on the sofa has never been so chic. Simply fold down the back to transform this seat into a guest-ready full-size bed. A sturdy steel frame offers superior stability, while generously padded foam cushions ensure a good night’s sleep. Featuring block legs and track arms, this modern silhouette gets an on-trend upgrade from patterned pillows in complementary shades. Pewter is an always-sophisticated neutral, and teal is a surprisingly versatile hue in a glam or eclectic setting.\n",
       "               </div>\n",
       " </div>\n",
       " <div class=\"prod_info_collapse\"></div>\n",
       " </div>\n",
       " <div class=\"sb_prod_details_block js-ss-click\" data-click-location=\"Product40\" data-click-track=\"sb_swatch_bottom_product_info_click\">\n",
       " <div class=\"sb_prod_grid_height\">\n",
       " <div class=\"sbprodmoreopts note margin_sm_top margin_sm_bottom\">\n",
       " <span class=\"cleanlink inlineblock js-ss-click sb_swatch_more_link \" data-click-track=\"sb_swatch_more_options_click\" title=\"Convertible Sleeper Sofa\">\n",
       "             More Options »\n",
       "           </span>\n",
       " </div>\n",
       " <span class=\"sb_names blocklevel cleanlink margin_sm_top\" title=\"Convertible Sleeper Sofa\">\n",
       " <p class=\"sb_prod_name emphasis\">Convertible Sleeper Sofa</p>\n",
       " <p class=\"sb_manu_name_solo smtext\">\n",
       "               by Mercury Row\n",
       "             </p>\n",
       " </span>\n",
       " </div>\n",
       " <div class=\"sb_left_block\">\n",
       " <div class=\"sb_pricing_wrap\">\n",
       " <div class=\"price pricetext sb_pricetext midtitle\"><span class=\"is_price_label\"></span><span class=\"is_price_value\">$529.99</span> <span class=\"wasprice wf_bodycolortext deemphasize strike\">$744.00</span></div>\n",
       " </div>\n",
       " <div class=\"sb_shipping_wrap\">\n",
       "         Free Shipping &amp; 2-Day Delivery\n",
       "         \n",
       "       </div>\n",
       " <div class=\"reviewbox pos_rel ltbodytext\">\n",
       " <span class=\"stars_wrap review_stars_block_sm pos_rel fl inlineblock cleanlink_disabled stars_sm_9 js-ss-click js-track-event\">\n",
       "      <span class=\"stars_foreground\"></span>\n",
       " </span>\n",
       "   \n",
       "     (188)\n",
       "   \n",
       " </div>\n",
       " </div>\n",
       " </div>\n",
       " </a>,\n",
       " <a class=\"productbox fl js-ss-click cleanlink sb_noline js-product-bottom-link js-prod-content sb_prod_content yui3-filter-wrap \" data-click-track=\"browse_product:Superbrowse\" data-sku=\"GNT5237\" href=\"http://www.wayfair.com/Safia-Sofa-9530138-GNT5237.html\" id=\"productbox_GNT5237\">\n",
       " <div class=\"sb_prod_image_wrapper pos_rel js-clipbar_drag \" data-favorites-key=\"GNT5237\" data-favorites-type=\"1\" data-image-url=\"https://secure.img1.wfrcdn.com/lf/79/hash/2668/13403980/1/Safia%2BSofa.jpg\" data-product-title=\"Safia Sofa\" data-sku=\"GNT5237\">\n",
       " <div class=\"sb_prod_favs_wrap js-sb-favs-icon-wrap hidden-node favs_out\">\n",
       " <span class=\"favs_icon_lt pos_rel pointer inlineblock cleanlink_disabled js-favorites-button js_clipbar_button js-ss-click\" data-click-track=\"SB_Favorites\" data-favorites-key=\"GNT5237\" data-favorites-type=\"1\" data-image-url=\"https://secure.img1.wfrcdn.com/lf/79/hash/2668/13403980/1/Safia%2BSofa.jpg\" data-product_manufacturer=\"Signature Design by Ashley\" data-product_title=\"Safia Sofa\">\n",
       " <span class=\"favs_icon_glyph pos_rel\"></span>\n",
       " </span>\n",
       " </div>\n",
       " <div class=\"sb_prod_qv_wrap sbprodoptionswrap favs_out centertext pointer js-sb-qv-btn-wrap hidden-node favs_out\" data-qv-js=\"true\">\n",
       " <input class=\"js-ss-click js-viewmore jq-quickview js-quickview-btn note emphasis ltbodytext pointer quickview_btn wflink viewmoreheadadmin \" data-click-track=\"sb_add_to_cart:SB_quickview\" data-product-block-url=\"/v/product/quick_view?sku=GNT5237&amp;\" type=\"button\" value=\"QUICK VIEW\"/>\n",
       " </div>\n",
       " <img alt=\"Safia Sofa\" class=\"js-lazy-loaded-image\" height=\"225\" src=\"data:image/gif;base64,R0lGODlhAQABAPAAAAAAAAAAACH5BAEAAAAALAAAAAABAAEAAAICRAEAOw==\" width=\"225\"/>\n",
       " <noscript>\n",
       " <img alt=\"Safia Sofa\" height=\"225\" src=\"https://secure.img1.wfrcdn.com/lf/79/hash/2668/13403980/1/Safia%2BSofa.jpg\" width=\"225\"/>\n",
       " </noscript>\n",
       " </div>\n",
       " <div class=\"sb_prod_features borderleft\" data-click-location=\"Product41\">\n",
       " <div class=\"sb_prod_features_container\">\n",
       " <div class=\"emphasis\">\n",
       "               Product Features\n",
       "             </div>\n",
       " <ul class=\"sb_prod_feature_list\">\n",
       " <li class=\"sb_prod_feature_item\">\n",
       "                   Overall: 38\" H x 84\" W x 34\" D\n",
       "                 </li>\n",
       " <li class=\"sb_prod_feature_item\">\n",
       "                   Design: Standard\n",
       "                 </li>\n",
       " <li class=\"sb_prod_feature_item\">\n",
       "                   Frame Material: Manufactured wood\n",
       "                 </li>\n",
       " <li class=\"sb_prod_feature_item\">\n",
       "                   Upholstery Material: Other\n",
       "                 </li>\n",
       " <li class=\"sb_prod_feature_item\">\n",
       "                   Overall Product Weight: 121lbs\n",
       "                 </li>\n",
       " </ul>\n",
       " <div class=\"sb_prod_copy\" data-click-location=\"Product41\">\n",
       "                 The sleek track arms and plush boxed seat and back cushions of this piece are surrounded by soft fabric, creating a shining example of how the beauty of Vintage Casual design can awaken the décor of any room.\n",
       "               </div>\n",
       " </div>\n",
       " <div class=\"prod_info_collapse\"></div>\n",
       " </div>\n",
       " <div class=\"sb_prod_details_block js-ss-click\" data-click-location=\"Product41\" data-click-track=\"sb_swatch_bottom_product_info_click\">\n",
       " <div class=\"sb_prod_grid_height\">\n",
       " <span class=\"sb_names blocklevel cleanlink margin_sm_top\" title=\"Safia Sofa\">\n",
       " <p class=\"sb_prod_name emphasis\">Safia Sofa</p>\n",
       " <p class=\"sb_manu_name_solo smtext\">\n",
       "               by Signature Design by Ashley\n",
       "             </p>\n",
       " </span>\n",
       " </div>\n",
       " <div class=\"sb_left_block\">\n",
       " <div class=\"sb_pricing_wrap\">\n",
       " <div class=\"price pricetext sb_pricetext midtitle\"><span class=\"is_price_label\"></span><span class=\"is_price_value\">$479.95</span> <span class=\"wasprice wf_bodycolortext deemphasize strike\">$629.00</span></div>\n",
       " </div>\n",
       " <div class=\"sb_shipping_wrap\">\n",
       "         Free Shipping\n",
       "         \n",
       "       </div>\n",
       " <div class=\"reviewbox pos_rel ltbodytext\">\n",
       " <span class=\"stars_wrap review_stars_block_sm pos_rel fl inlineblock cleanlink_disabled stars_sm_9 js-ss-click js-track-event\">\n",
       "      <span class=\"stars_foreground\"></span>\n",
       " </span>\n",
       "   \n",
       "     (13)\n",
       "   \n",
       " </div>\n",
       " </div>\n",
       " </div>\n",
       " </a>,\n",
       " <a class=\"productbox fl js-ss-click cleanlink sb_noline js-product-bottom-link js-prod-content sb_prod_content yui3-filter-wrap \" data-click-track=\"browse_product:Superbrowse\" data-sku=\"XSQ2020\" href=\"http://www.wayfair.com/Sleeper-Sofa-1375IQSL01-XSQ2020.html\" id=\"productbox_XSQ2020\">\n",
       " <div class=\"sb_prod_image_wrapper pos_rel js-clipbar_drag \" data-favorites-key=\"XSQ2020\" data-favorites-type=\"1\" data-image-url=\"https://secure.img2.wfrcdn.com/lf/79/hash/11881/16378605/1/Elizabeth%2BQueen%2BSleeper%2BSofa.jpg\" data-product-title=\"Elizabeth Queen Sleeper Sofa\" data-sku=\"XSQ2020\">\n",
       " <div class=\"sb_prod_favs_wrap js-sb-favs-icon-wrap hidden-node favs_out\">\n",
       " <span class=\"favs_icon_lt pos_rel pointer inlineblock cleanlink_disabled js-favorites-button js_clipbar_button js-ss-click\" data-click-track=\"SB_Favorites\" data-favorites-key=\"XSQ2020\" data-favorites-type=\"1\" data-image-url=\"https://secure.img2.wfrcdn.com/lf/79/hash/11881/16378605/1/Elizabeth%2BQueen%2BSleeper%2BSofa.jpg\" data-product_manufacturer=\"Serta Upholstery\" data-product_title=\"Elizabeth Queen Sleeper Sofa\">\n",
       " <span class=\"favs_icon_glyph pos_rel\"></span>\n",
       " </span>\n",
       " </div>\n",
       " <div class=\"sb_prod_qv_wrap sbprodoptionswrap favs_out centertext pointer js-sb-qv-btn-wrap hidden-node favs_out\" data-qv-js=\"true\">\n",
       " <input class=\"js-ss-click js-viewmore jq-quickview js-quickview-btn note emphasis ltbodytext pointer quickview_btn wflink viewmoreheadadmin \" data-click-track=\"sb_add_to_cart:SB_quickview\" data-product-block-url=\"/v/product/quick_view?sku=XSQ2020&amp;\" type=\"button\" value=\"QUICK VIEW\"/>\n",
       " </div>\n",
       " <img alt=\"Elizabeth Queen Sleeper Sofa\" class=\"js-lazy-loaded-image\" height=\"225\" src=\"data:image/gif;base64,R0lGODlhAQABAPAAAAAAAAAAACH5BAEAAAAALAAAAAABAAEAAAICRAEAOw==\" width=\"225\"/>\n",
       " <noscript>\n",
       " <img alt=\"Elizabeth Queen Sleeper Sofa\" height=\"225\" src=\"https://secure.img2.wfrcdn.com/lf/79/hash/11881/16378605/1/Elizabeth%2BQueen%2BSleeper%2BSofa.jpg\" width=\"225\"/>\n",
       " </noscript>\n",
       " </div>\n",
       " <div class=\"sb_prod_features borderleft\" data-click-location=\"Product42\">\n",
       " <div class=\"sb_prod_features_container\">\n",
       " <div class=\"emphasis\">\n",
       "               Product Features\n",
       "             </div>\n",
       " <ul class=\"sb_prod_feature_list\">\n",
       " <li class=\"sb_prod_feature_item\">\n",
       "                   Assembly Required: No\n",
       "                 </li>\n",
       " <li class=\"sb_prod_feature_item\">\n",
       "                   Overall: 36\" H x 79\" W x 35\" D x 86\" D\n",
       "                 </li>\n",
       " <li class=\"sb_prod_feature_item\">\n",
       "                   Design: Sleeper\n",
       "                 </li>\n",
       " <li class=\"sb_prod_feature_item\">\n",
       "                   Frame Material: Wood\n",
       "                 </li>\n",
       " <li class=\"sb_prod_feature_item\">\n",
       "                   Upholstery Material: Other\n",
       "                 </li>\n",
       " </ul>\n",
       " <div class=\"sb_prod_copy\" data-click-location=\"Product42\">\n",
       "                 This product is manufactured with quality in mind. Using only hardwood frames, Certi-PUR foam, and durable fabrics that are hand tailored to the piece. Serta also uses recycled materials where possible to aid in design; giving you the best style, strength and value while minimizing environmental footprint.\n",
       "               </div>\n",
       " </div>\n",
       " <div class=\"prod_info_collapse\"></div>\n",
       " </div>\n",
       " <div class=\"sb_prod_details_block js-ss-click\" data-click-location=\"Product42\" data-click-track=\"sb_swatch_bottom_product_info_click\">\n",
       " <div class=\"sb_prod_grid_height\">\n",
       " <span class=\"sb_names blocklevel cleanlink margin_sm_top\" title=\"Elizabeth Queen Sleeper Sofa\">\n",
       " <p class=\"sb_prod_name emphasis\">Elizabeth Queen Sleeper Sofa</p>\n",
       " <p class=\"sb_manu_name_solo smtext\">\n",
       "               by Serta Upholstery\n",
       "             </p>\n",
       " </span>\n",
       " </div>\n",
       " <div class=\"sb_left_block\">\n",
       " <div class=\"sb_pricing_wrap\">\n",
       " <div class=\"price pricetext sb_pricetext midtitle\"><span class=\"is_price_label\"></span><span class=\"is_price_value\">$609.99</span> <span class=\"wasprice wf_bodycolortext deemphasize strike\">$632.99</span></div>\n",
       " </div>\n",
       " <div class=\"sb_shipping_wrap\">\n",
       "         Free Shipping\n",
       "         \n",
       "       </div>\n",
       " <div class=\"reviewbox pos_rel ltbodytext\">\n",
       " <span class=\"stars_wrap review_stars_block_sm pos_rel fl inlineblock cleanlink_disabled stars_sm_9 js-ss-click js-track-event\">\n",
       "      <span class=\"stars_foreground\"></span>\n",
       " </span>\n",
       "   \n",
       "     (9)\n",
       "   \n",
       " </div>\n",
       " </div>\n",
       " </div>\n",
       " </a>,\n",
       " <a class=\"productbox fl js-ss-click cleanlink sb_noline js-product-bottom-link js-prod-content sb_prod_content yui3-filter-wrap \" data-click-track=\"browse_product:Superbrowse\" data-sku=\"IRD1228\" href=\"http://www.wayfair.com/InRoom-Designs-Klik-Klak-Convertible-Sofa-IRD1228.html\" id=\"productbox_IRD1228\">\n",
       " <div class=\"sb_prod_image_wrapper pos_rel js-clipbar_drag \" data-favorites-key=\"IRD1228\" data-favorites-type=\"1\" data-image-url=\"https://secure.img1.wfrcdn.com/lf/79/hash/8432/6687806/1/Klik%2BKlak%2BConvertible%2BSleeper%2BSofa.jpg\" data-product-title=\"Klik Klak Convertible Sleeper Sofa\" data-sku=\"IRD1228\">\n",
       " <div class=\"sb_prod_favs_wrap js-sb-favs-icon-wrap hidden-node favs_out\">\n",
       " <span class=\"favs_icon_lt pos_rel pointer inlineblock cleanlink_disabled js-favorites-button js_clipbar_button js-ss-click\" data-click-track=\"SB_Favorites\" data-favorites-key=\"IRD1228\" data-favorites-type=\"1\" data-image-url=\"https://secure.img1.wfrcdn.com/lf/79/hash/8432/6687806/1/Klik%2BKlak%2BConvertible%2BSleeper%2BSofa.jpg\" data-product_manufacturer=\"InRoom Designs\" data-product_title=\"Klik Klak Convertible Sleeper Sofa\">\n",
       " <span class=\"favs_icon_glyph pos_rel\"></span>\n",
       " </span>\n",
       " </div>\n",
       " <div class=\"sb_prod_qv_wrap sbprodoptionswrap favs_out centertext pointer js-sb-qv-btn-wrap hidden-node favs_out\" data-qv-js=\"true\">\n",
       " <input class=\"js-ss-click js-viewmore jq-quickview js-quickview-btn note emphasis ltbodytext pointer quickview_btn wflink viewmoreheadadmin \" data-click-track=\"sb_add_to_cart:SB_quickview\" data-product-block-url=\"/v/product/quick_view?sku=IRD1228&amp;\" type=\"button\" value=\"QUICK VIEW\"/>\n",
       " </div>\n",
       " <img alt=\"Klik Klak Convertible Sleeper Sofa\" class=\"js-lazy-loaded-image\" height=\"225\" src=\"data:image/gif;base64,R0lGODlhAQABAPAAAAAAAAAAACH5BAEAAAAALAAAAAABAAEAAAICRAEAOw==\" width=\"225\"/>\n",
       " <noscript>\n",
       " <img alt=\"Klik Klak Convertible Sleeper Sofa\" height=\"225\" src=\"https://secure.img1.wfrcdn.com/lf/79/hash/8432/6687806/1/Klik%2BKlak%2BConvertible%2BSleeper%2BSofa.jpg\" width=\"225\"/>\n",
       " </noscript>\n",
       " </div>\n",
       " <div class=\"sb_prod_features borderleft\" data-click-location=\"Product43\">\n",
       " <div class=\"sb_prod_features_container\">\n",
       " <div class=\"emphasis\">\n",
       "               Product Features\n",
       "             </div>\n",
       " <ul class=\"sb_prod_feature_list\">\n",
       " <li class=\"sb_prod_feature_item\">\n",
       "                   Assembly Required: No\n",
       "                 </li>\n",
       " <li class=\"sb_prod_feature_item\">\n",
       "                   Overall: 30\" H x 65\" W x 37\" D\n",
       "                 </li>\n",
       " <li class=\"sb_prod_feature_item\">\n",
       "                   Design: Convertible\n",
       "                 </li>\n",
       " <li class=\"sb_prod_feature_item\">\n",
       "                   Frame Material: Wood\n",
       "                 </li>\n",
       " <li class=\"sb_prod_feature_item\">\n",
       "                   Upholstery Material: Microfiber\n",
       "                 </li>\n",
       " </ul>\n",
       " <div class=\"sb_prod_copy\" data-click-location=\"Product43\">\n",
       "                 Enjoy total comfort and luxury with style by getting home the InRoom Designs Klik-Klak Convertible Sofa. This convertible sofa has a wooden frame, which ensures years of reliable use. It has foam-filled upholstery and tufted cushions, which makes it extremely comfortable and plush. The convertible sofa gets can be adjusted in a sitting, lounging, or sleeping positions accordingly. It has the capacity to hold weight up to 200 pounds. The convertible sofa is a part of the Klik-Klak collection.\n",
       "               </div>\n",
       " </div>\n",
       " <div class=\"prod_info_collapse\"></div>\n",
       " </div>\n",
       " <div class=\"sb_prod_details_block js-ss-click\" data-click-location=\"Product43\" data-click-track=\"sb_swatch_bottom_product_info_click\">\n",
       " <div class=\"sb_prod_grid_height\">\n",
       " <div class=\"sbprodmoreopts note margin_sm_top margin_sm_bottom\">\n",
       " <span class=\"cleanlink inlineblock js-ss-click sb_swatch_more_link \" data-click-track=\"sb_swatch_more_options_click\" title=\"Klik Klak Convertible Sleeper Sofa\">\n",
       "             More Options »\n",
       "           </span>\n",
       " </div>\n",
       " <span class=\"sb_names blocklevel cleanlink margin_sm_top\" title=\"Klik Klak Convertible Sleeper Sofa\">\n",
       " <p class=\"sb_prod_name emphasis\">Klik Klak Convertible Sleeper Sofa</p>\n",
       " <p class=\"sb_manu_name_solo smtext\">\n",
       "               by InRoom Designs\n",
       "             </p>\n",
       " </span>\n",
       " </div>\n",
       " <div class=\"sb_left_block\">\n",
       " <div class=\"sb_pricing_wrap\">\n",
       " <div class=\"price pricetext sb_pricetext midtitle\"><span class=\"is_price_label\"></span><span class=\"is_price_value\">$176.99</span> <span class=\"wasprice wf_bodycolortext deemphasize strike\">$280.44</span></div>\n",
       " </div>\n",
       " <div class=\"sb_shipping_wrap\">\n",
       "         Free Shipping\n",
       "         \n",
       "       </div>\n",
       " <div class=\"reviewbox pos_rel ltbodytext\">\n",
       " <span class=\"stars_wrap review_stars_block_sm pos_rel fl inlineblock cleanlink_disabled stars_sm_9 js-ss-click js-track-event\">\n",
       "      <span class=\"stars_foreground\"></span>\n",
       " </span>\n",
       "   \n",
       "     (162)\n",
       "   \n",
       " </div>\n",
       " </div>\n",
       " </div>\n",
       " </a>,\n",
       " <a class=\"productbox fl js-ss-click cleanlink sb_noline js-product-bottom-link js-prod-content sb_prod_content yui3-filter-wrap \" data-click-track=\"sb_product_with_swatches_clicked,ss3301912_sale,browse_product:Superbrowse\" data-sku=\"BL3381\" href=\"http://www.wayfair.com/Birch-Lane-Jameson-Sofa-BL3381.html\" id=\"productbox_BL3381\">\n",
       " <div class=\"sb_prod_image_wrapper pos_rel js-clipbar_drag \" data-favorites-key=\"BL3381\" data-favorites-type=\"1\" data-image-url=\"https://secure.img2.wfrcdn.com/lf/79/hash/25006/11610633/1/Jameson%2BSofa.jpg\" data-product-title=\"Jameson Sofa\" data-sku=\"BL3381\">\n",
       " <div class=\"sb_banner_wrap sbsale_banner heading_font_reg xstext whitetext \">\n",
       "                     Sale\n",
       "       </div>\n",
       " <div class=\"sb_prod_favs_wrap js-sb-favs-icon-wrap hidden-node favs_out\">\n",
       " <span class=\"favs_icon_lt pos_rel pointer inlineblock cleanlink_disabled js-favorites-button js_clipbar_button js-ss-click\" data-click-track=\"SB_Favorites\" data-favorites-key=\"BL3381\" data-favorites-type=\"1\" data-image-url=\"https://secure.img2.wfrcdn.com/lf/79/hash/25006/11610633/1/Jameson%2BSofa.jpg\" data-product_manufacturer=\"Birch Lane\" data-product_title=\"Jameson Sofa\">\n",
       " <span class=\"favs_icon_glyph pos_rel\"></span>\n",
       " </span>\n",
       " </div>\n",
       " <div class=\"swatch_hover_zoom js-swatch_hover_zoom bgcolorwhite borderall hidden-node\">\n",
       " </div>\n",
       " <div class=\"sb_prod_qv_wrap sbprodoptionswrap favs_out centertext pointer js-sb-qv-btn-wrap hidden-node favs_out\" data-qv-js=\"true\">\n",
       " <input class=\"js-ss-click js-viewmore jq-quickview js-quickview-btn note emphasis ltbodytext pointer quickview_btn wflink viewmoreheadadmin \" data-click-track=\"sb_add_to_cart:SB_quickview\" data-product-block-url=\"/v/product/quick_view?sku=BL3381&amp;\" type=\"button\" value=\"QUICK VIEW\"/>\n",
       " </div>\n",
       " <img alt=\"Jameson Sofa\" class=\"js-lazy-loaded-image\" height=\"225\" src=\"data:image/gif;base64,R0lGODlhAQABAPAAAAAAAAAAACH5BAEAAAAALAAAAAABAAEAAAICRAEAOw==\" width=\"225\"/>\n",
       " <noscript>\n",
       " <img alt=\"Jameson Sofa\" height=\"225\" src=\"https://secure.img2.wfrcdn.com/lf/79/hash/25006/11610633/1/Jameson%2BSofa.jpg\" width=\"225\"/>\n",
       " </noscript>\n",
       " </div>\n",
       " <div class=\"sb_prod_features borderleft\" data-click-location=\"Product44\">\n",
       " <div class=\"sb_prod_features_container\">\n",
       " <div class=\"emphasis\">\n",
       "               Product Features\n",
       "             </div>\n",
       " <ul class=\"sb_prod_feature_list\">\n",
       " <li class=\"sb_prod_feature_item\">\n",
       "                   Overall: 31\" H x 84\" W x 40\" D\n",
       "                 </li>\n",
       " <li class=\"sb_prod_feature_item\">\n",
       "                   Frame Material: Wood; Plastic\n",
       "                 </li>\n",
       " <li class=\"sb_prod_feature_item\">\n",
       "                   Overall Product Weight: 157lbs\n",
       "                 </li>\n",
       " </ul>\n",
       " <div class=\"sb_prod_copy\" data-click-location=\"Product44\">\n",
       "                 With smart tailoring and clean good looks, the slipcovered Jameson sofa features classic rolled arms, casual skirted styling, and knife-edge overstuffed cushions for plush support.\n",
       "               </div>\n",
       " </div>\n",
       " <div class=\"prod_info_collapse\"></div>\n",
       " </div>\n",
       " <div class=\"sb_prod_details_block js-ss-click\" data-click-location=\"Product44\" data-click-track=\"sb_swatch_bottom_product_info_click\">\n",
       " <div class=\"sb_prod_grid_height\">\n",
       " <div class=\"sbprodmoreopts note margin_sm_top margin_sm_bottom\">\n",
       " <span class=\"cleanlink inlineblock js-ss-click sb_swatch_more_link \" data-click-track=\"sb_swatch_more_options_click\" title=\"Jameson Sofa\">\n",
       "             More Options: Fabric »\n",
       "           </span>\n",
       " </div>\n",
       " <span class=\"sb_names blocklevel cleanlink margin_sm_top\" title=\"Jameson Sofa\">\n",
       " <p class=\"sb_prod_name emphasis\">Jameson Sofa</p>\n",
       " <p class=\"sb_manu_name_solo smtext\">\n",
       "               by Birch Lane\n",
       "             </p>\n",
       " </span>\n",
       " </div>\n",
       " <div class=\"sb_left_block\">\n",
       " <div class=\"sb_pricing_wrap\">\n",
       " <div class=\"price noticetext sb_noticetext midtitle\"><span class=\"is_price_label\"></span><span class=\"is_price_value\"><span class=\"from_text emphasis wf_bodycolortext note\">from </span>$960.00</span> <span class=\"wasprice wf_bodycolortext deemphasize strike\">$1,199.00</span></div>\n",
       " </div>\n",
       " <div class=\"sb_shipping_wrap\">\n",
       "         Free Inside Delivery\n",
       "         \n",
       "       </div>\n",
       " <div class=\"reviewbox pos_rel ltbodytext\">\n",
       " <span class=\"stars_wrap review_stars_block_sm pos_rel fl inlineblock cleanlink_disabled stars_sm_11 js-ss-click js-track-event\">\n",
       "      <span class=\"stars_foreground\"></span>\n",
       " </span>\n",
       "   \n",
       "     (6)\n",
       "   \n",
       " </div>\n",
       " </div>\n",
       " </div>\n",
       " </a>,\n",
       " <a class=\"productbox fl js-ss-click cleanlink sb_noline js-product-bottom-link js-prod-content sb_prod_content yui3-filter-wrap \" data-click-track=\"browse_product:Superbrowse\" data-sku=\"THRE1974\" href=\"http://www.wayfair.com/Elmer-Sleeper-Sofa-THRE1974-THRE1974.html\" id=\"productbox_THRE1974\">\n",
       " <div class=\"sb_prod_image_wrapper pos_rel js-clipbar_drag \" data-favorites-key=\"THRE1974\" data-favorites-type=\"1\" data-image-url=\"https://secure.img1.wfrcdn.com/lf/79/hash/30973/16888466/1/Elmer%2BSleeper%2BSofa.jpg\" data-product-title=\"Elmer Sleeper Sofa\" data-sku=\"THRE1974\">\n",
       " <div class=\"sb_prod_favs_wrap js-sb-favs-icon-wrap hidden-node favs_out\">\n",
       " <span class=\"favs_icon_lt pos_rel pointer inlineblock cleanlink_disabled js-favorites-button js_clipbar_button js-ss-click\" data-click-track=\"SB_Favorites\" data-favorites-key=\"THRE1974\" data-favorites-type=\"1\" data-image-url=\"https://secure.img1.wfrcdn.com/lf/79/hash/30973/16888466/1/Elmer%2BSleeper%2BSofa.jpg\" data-product_manufacturer=\"Three Posts\" data-product_title=\"Elmer Sleeper Sofa\">\n",
       " <span class=\"favs_icon_glyph pos_rel\"></span>\n",
       " </span>\n",
       " </div>\n",
       " <div class=\"sb_prod_qv_wrap sbprodoptionswrap favs_out centertext pointer js-sb-qv-btn-wrap hidden-node favs_out\" data-qv-js=\"true\">\n",
       " <input class=\"js-ss-click js-viewmore jq-quickview js-quickview-btn note emphasis ltbodytext pointer quickview_btn wflink viewmoreheadadmin \" data-click-track=\"sb_add_to_cart:SB_quickview\" data-product-block-url=\"/v/product/quick_view?sku=THRE1974&amp;\" type=\"button\" value=\"QUICK VIEW\"/>\n",
       " </div>\n",
       " <img alt=\"Elmer Sleeper Sofa\" class=\"js-lazy-loaded-image\" height=\"225\" src=\"data:image/gif;base64,R0lGODlhAQABAPAAAAAAAAAAACH5BAEAAAAALAAAAAABAAEAAAICRAEAOw==\" width=\"225\"/>\n",
       " <noscript>\n",
       " <img alt=\"Elmer Sleeper Sofa\" height=\"225\" src=\"https://secure.img1.wfrcdn.com/lf/79/hash/30973/16888466/1/Elmer%2BSleeper%2BSofa.jpg\" width=\"225\"/>\n",
       " </noscript>\n",
       " </div>\n",
       " <div class=\"sb_prod_features borderleft\" data-click-location=\"Product45\">\n",
       " <div class=\"sb_prod_features_container\">\n",
       " <div class=\"emphasis\">\n",
       "               Product Features\n",
       "             </div>\n",
       " <ul class=\"sb_prod_feature_list\">\n",
       " <li class=\"sb_prod_feature_item\">\n",
       "                   Product Warranty: 1 Year\n",
       "                 </li>\n",
       " <li class=\"sb_prod_feature_item\">\n",
       "                   Assembly Required: Yes\n",
       "                 </li>\n",
       " <li class=\"sb_prod_feature_item\">\n",
       "                   Overall Depth - Front to Back: 90\n",
       "                 </li>\n",
       " <li class=\"sb_prod_feature_item\">\n",
       "                   Design: Sleeper\n",
       "                 </li>\n",
       " <li class=\"sb_prod_feature_item\">\n",
       "                   Frame Material: Wood; Manufactured wood\n",
       "                 </li>\n",
       " </ul>\n",
       " <div class=\"sb_prod_copy\" data-click-location=\"Product45\">\n",
       "                 Featuring brass nail head trim, block feet, and intricate stitching, the Elmer Sleeper Sofa marries convenient comfort with handsome style. The dual-purpose design pulls open to reveal a mattress for overnight guests.\n",
       "               </div>\n",
       " </div>\n",
       " <div class=\"prod_info_collapse\"></div>\n",
       " </div>\n",
       " <div class=\"sb_prod_details_block js-ss-click\" data-click-location=\"Product45\" data-click-track=\"sb_swatch_bottom_product_info_click\">\n",
       " <div class=\"sb_prod_grid_height\">\n",
       " <div class=\"sbprodmoreopts note margin_sm_top margin_sm_bottom\">\n",
       " <span class=\"cleanlink inlineblock js-ss-click sb_swatch_more_link \" data-click-track=\"sb_swatch_more_options_click\" title=\"Elmer Sleeper Sofa\">\n",
       "             More Options: Size »\n",
       "           </span>\n",
       " </div>\n",
       " <span class=\"sb_names blocklevel cleanlink margin_sm_top\" title=\"Elmer Sleeper Sofa\">\n",
       " <p class=\"sb_prod_name emphasis\">Elmer Sleeper Sofa</p>\n",
       " <p class=\"sb_manu_name_solo smtext\">\n",
       "               by Three Posts\n",
       "             </p>\n",
       " </span>\n",
       " </div>\n",
       " <div class=\"sb_left_block\">\n",
       " <div class=\"sb_pricing_wrap\">\n",
       " <div class=\"price pricetext sb_pricetext midtitle\"><span class=\"is_price_label\"></span><span class=\"is_price_value\"><span class=\"from_text emphasis wf_bodycolortext note\">from </span>$719.99</span> <span class=\"wasprice wf_bodycolortext deemphasize strike\">$908.95</span></div>\n",
       " </div>\n",
       " <div class=\"sb_shipping_wrap\">\n",
       "         Free Shipping\n",
       "         \n",
       "       </div>\n",
       " <div class=\"reviewbox pos_rel ltbodytext\">\n",
       " <span class=\"stars_wrap review_stars_block_sm pos_rel fl inlineblock cleanlink_disabled stars_sm_9 js-ss-click js-track-event\">\n",
       "      <span class=\"stars_foreground\"></span>\n",
       " </span>\n",
       "   \n",
       "     (8)\n",
       "   \n",
       " </div>\n",
       " </div>\n",
       " </div>\n",
       " </a>,\n",
       " <a class=\"productbox fl js-ss-click cleanlink sb_noline js-product-bottom-link js-prod-content sb_prod_content yui3-filter-wrap \" data-click-track=\"browse_product:Superbrowse\" data-sku=\"LARK1154\" href=\"http://www.wayfair.com/Versailles-Sofa-LARK1154-LARK1154.html\" id=\"productbox_LARK1154\">\n",
       " <div class=\"sb_prod_image_wrapper pos_rel js-clipbar_drag \" data-favorites-key=\"LARK1154\" data-favorites-type=\"1\" data-image-url=\"https://secure.img2.wfrcdn.com/lf/79/hash/37152/17468975/1/Versailles%2BSofa.jpg\" data-product-title=\"Versailles Sofa\" data-sku=\"LARK1154\">\n",
       " <div class=\"sb_prod_favs_wrap js-sb-favs-icon-wrap hidden-node favs_out\">\n",
       " <span class=\"favs_icon_lt pos_rel pointer inlineblock cleanlink_disabled js-favorites-button js_clipbar_button js-ss-click\" data-click-track=\"SB_Favorites\" data-favorites-key=\"LARK1154\" data-favorites-type=\"1\" data-image-url=\"https://secure.img2.wfrcdn.com/lf/79/hash/37152/17468975/1/Versailles%2BSofa.jpg\" data-product_manufacturer=\"Lark Manor\" data-product_title=\"Versailles Sofa\">\n",
       " <span class=\"favs_icon_glyph pos_rel\"></span>\n",
       " </span>\n",
       " </div>\n",
       " <div class=\"sb_prod_qv_wrap sbprodoptionswrap favs_out centertext pointer js-sb-qv-btn-wrap hidden-node favs_out\" data-qv-js=\"true\">\n",
       " <input class=\"js-ss-click js-viewmore jq-quickview js-quickview-btn note emphasis ltbodytext pointer quickview_btn wflink viewmoreheadadmin \" data-click-track=\"sb_add_to_cart:SB_quickview\" data-product-block-url=\"/v/product/quick_view?sku=LARK1154&amp;\" type=\"button\" value=\"QUICK VIEW\"/>\n",
       " </div>\n",
       " <img alt=\"Versailles Sofa\" class=\"js-lazy-loaded-image\" height=\"225\" src=\"data:image/gif;base64,R0lGODlhAQABAPAAAAAAAAAAACH5BAEAAAAALAAAAAABAAEAAAICRAEAOw==\" width=\"225\"/>\n",
       " <noscript>\n",
       " <img alt=\"Versailles Sofa\" height=\"225\" src=\"https://secure.img2.wfrcdn.com/lf/79/hash/37152/17468975/1/Versailles%2BSofa.jpg\" width=\"225\"/>\n",
       " </noscript>\n",
       " </div>\n",
       " <div class=\"sb_prod_features borderleft\" data-click-location=\"Product46\">\n",
       " <div class=\"sb_prod_features_container\">\n",
       " <div class=\"emphasis\">\n",
       "               Product Features\n",
       "             </div>\n",
       " <ul class=\"sb_prod_feature_list\">\n",
       " <li class=\"sb_prod_feature_item\">\n",
       "                   Overall: 34\" H x 92\" W x 36\" D\n",
       "                 </li>\n",
       " <li class=\"sb_prod_feature_item\">\n",
       "                   Assembly Required: No\n",
       "                 </li>\n",
       " <li class=\"sb_prod_feature_item\">\n",
       "                   Product Warranty: 10 years on frame and springs; 1 year on foam and fabric\n",
       "                 </li>\n",
       " <li class=\"sb_prod_feature_item\">\n",
       "                   Frame Material: Wood; Manufactured wood\n",
       "                 </li>\n",
       " </ul>\n",
       " <div class=\"sb_prod_copy\" data-click-location=\"Product46\">\n",
       "                 Button-tufted and plush, the Versailles Sofa redefines chic. A subtly curved back, flared arms, and refined nailhead trim encapsulate vintage-inspired elegance, while linen-like upholstery offers timeless style. Turned wood feet and throw pillows embossed with French script complete the romantic look.\n",
       " \n",
       " Bring home French-inspired elegance with the Versailles collection from Lark Manor. Curved silhouettes and crisp, button-tufted upholstery offer the Parisian-chic look at an unmatched price. \n",
       "               </div>\n",
       " </div>\n",
       " <div class=\"prod_info_collapse\"></div>\n",
       " </div>\n",
       " <div class=\"sb_prod_details_block js-ss-click\" data-click-location=\"Product46\" data-click-track=\"sb_swatch_bottom_product_info_click\">\n",
       " <div class=\"sb_prod_grid_height\">\n",
       " <span class=\"sb_names blocklevel cleanlink margin_sm_top\" title=\"Versailles Sofa\">\n",
       " <p class=\"sb_prod_name emphasis\">Versailles Sofa</p>\n",
       " <p class=\"sb_manu_name_solo smtext\">\n",
       "               by Lark Manor\n",
       "             </p>\n",
       " </span>\n",
       " </div>\n",
       " <div class=\"sb_left_block\">\n",
       " <div class=\"sb_pricing_wrap\">\n",
       " <div class=\"price pricetext sb_pricetext midtitle\"><span class=\"is_price_label\"></span><span class=\"is_price_value\">$699.99</span> <span class=\"wasprice wf_bodycolortext deemphasize strike\">$1,139.99</span></div>\n",
       " </div>\n",
       " <div class=\"sb_shipping_wrap\">\n",
       "         Free Shipping\n",
       "         \n",
       "       </div>\n",
       " <div class=\"reviewbox pos_rel ltbodytext\">\n",
       " <span class=\"stars_wrap review_stars_block_sm pos_rel fl inlineblock cleanlink_disabled stars_sm_10 js-ss-click js-track-event\">\n",
       "      <span class=\"stars_foreground\"></span>\n",
       " </span>\n",
       "   \n",
       "     (79)\n",
       "   \n",
       " </div>\n",
       " </div>\n",
       " </div>\n",
       " </a>,\n",
       " <a class=\"productbox fl js-ss-click cleanlink sb_noline js-product-bottom-link js-prod-content sb_prod_content yui3-filter-wrap \" data-click-track=\"browse_product:Superbrowse\" data-sku=\"HOHN1000\" href=\"http://www.wayfair.com/Cosette-Sofa-HOHN1000-HOHN1000.html\" id=\"productbox_HOHN1000\">\n",
       " <div class=\"sb_prod_image_wrapper pos_rel js-clipbar_drag \" data-favorites-key=\"HOHN1000\" data-favorites-type=\"1\" data-image-url=\"https://secure.img2.wfrcdn.com/lf/79/hash/37313/16967265/1/Cosette%2BSofa.jpg\" data-product-title=\"Cosette Sofa\" data-sku=\"HOHN1000\">\n",
       " <div class=\"sb_prod_favs_wrap js-sb-favs-icon-wrap hidden-node favs_out\">\n",
       " <span class=\"favs_icon_lt pos_rel pointer inlineblock cleanlink_disabled js-favorites-button js_clipbar_button js-ss-click\" data-click-track=\"SB_Favorites\" data-favorites-key=\"HOHN1000\" data-favorites-type=\"1\" data-image-url=\"https://secure.img2.wfrcdn.com/lf/79/hash/37313/16967265/1/Cosette%2BSofa.jpg\" data-product_manufacturer=\"House of Hampton\" data-product_title=\"Cosette Sofa\">\n",
       " <span class=\"favs_icon_glyph pos_rel\"></span>\n",
       " </span>\n",
       " </div>\n",
       " <div class=\"sb_prod_qv_wrap sbprodoptionswrap favs_out centertext pointer js-sb-qv-btn-wrap hidden-node favs_out\" data-qv-js=\"true\">\n",
       " <input class=\"js-ss-click js-viewmore jq-quickview js-quickview-btn note emphasis ltbodytext pointer quickview_btn wflink viewmoreheadadmin \" data-click-track=\"sb_add_to_cart:SB_quickview\" data-product-block-url=\"/v/product/quick_view?sku=HOHN1000&amp;\" type=\"button\" value=\"QUICK VIEW\"/>\n",
       " </div>\n",
       " <img alt=\"Cosette Sofa\" class=\"js-lazy-loaded-image\" height=\"225\" src=\"data:image/gif;base64,R0lGODlhAQABAPAAAAAAAAAAACH5BAEAAAAALAAAAAABAAEAAAICRAEAOw==\" width=\"225\"/>\n",
       " <noscript>\n",
       " <img alt=\"Cosette Sofa\" height=\"225\" src=\"https://secure.img2.wfrcdn.com/lf/79/hash/37313/16967265/1/Cosette%2BSofa.jpg\" width=\"225\"/>\n",
       " </noscript>\n",
       " </div>\n",
       " <div class=\"sb_prod_features borderleft\" data-click-location=\"Product47\">\n",
       " <div class=\"sb_prod_features_container\">\n",
       " <div class=\"emphasis\">\n",
       "               Product Features\n",
       "             </div>\n",
       " <ul class=\"sb_prod_feature_list\">\n",
       " <li class=\"sb_prod_feature_item\">\n",
       "                   Overall: 36\" H x 89.5\" W x 35\" D\n",
       "                 </li>\n",
       " <li class=\"sb_prod_feature_item\">\n",
       "                   Design: Standard\n",
       "                 </li>\n",
       " <li class=\"sb_prod_feature_item\">\n",
       "                   Upholstery Material: Linen\n",
       "                 </li>\n",
       " <li class=\"sb_prod_feature_item\">\n",
       "                   Overall Product Weight: 91lbs\n",
       "                 </li>\n",
       " </ul>\n",
       " <div class=\"sb_prod_copy\" data-click-location=\"Product47\">\n",
       "                 Redefine your living space with the graceful and refined Wildon Home Cosette Sofa. This sofa has an elegant style and is crafted using premium materials. Thanks to the wooden frame, this sofa is strong and durable. As it is upholstered in linen blend, this sofa is comfortable and truly relaxing. This Cosette Sofa from Wildon Home has decorative nail heads for a touch of sophistication. Sporting an off-white color, this sofa looks beautiful. Couple this sofa with contrasting colored throw...\n",
       "               </div>\n",
       " </div>\n",
       " <div class=\"prod_info_collapse\"></div>\n",
       " </div>\n",
       " <div class=\"sb_prod_details_block js-ss-click\" data-click-location=\"Product47\" data-click-track=\"sb_swatch_bottom_product_info_click\">\n",
       " <div class=\"sb_prod_grid_height\">\n",
       " <span class=\"sb_names blocklevel cleanlink margin_sm_top\" title=\"Cosette Sofa\">\n",
       " <p class=\"sb_prod_name emphasis\">Cosette Sofa</p>\n",
       " <p class=\"sb_manu_name_solo smtext\">\n",
       "               by House of Hampton\n",
       "             </p>\n",
       " </span>\n",
       " </div>\n",
       " <div class=\"sb_left_block\">\n",
       " <div class=\"sb_pricing_wrap\">\n",
       " <div class=\"price pricetext sb_pricetext midtitle\"><span class=\"is_price_label\"></span><span class=\"is_price_value\">$649.99</span> <span class=\"wasprice wf_bodycolortext deemphasize strike\">$921.00</span></div>\n",
       " </div>\n",
       " <div class=\"sb_shipping_wrap\">\n",
       "         Free Shipping\n",
       "         \n",
       "       </div>\n",
       " <div class=\"reviewbox pos_rel ltbodytext\">\n",
       " <span class=\"stars_wrap review_stars_block_sm pos_rel fl inlineblock cleanlink_disabled stars_sm_10 js-ss-click js-track-event\">\n",
       "      <span class=\"stars_foreground\"></span>\n",
       " </span>\n",
       "   \n",
       "     (86)\n",
       "   \n",
       " </div>\n",
       " </div>\n",
       " </div>\n",
       " </a>,\n",
       " <a class=\"productbox fl js-ss-click cleanlink sb_noline js-product-bottom-link js-prod-content sb_prod_content yui3-filter-wrap \" data-click-track=\"browse_product:Superbrowse\" data-sku=\"CST12488\" href=\"http://www.wayfair.com/Alexa-Sofa-504391-504491-CST12488.html\" id=\"productbox_CST12488\">\n",
       " <div class=\"sb_prod_image_wrapper pos_rel js-clipbar_drag \" data-favorites-key=\"CST12488\" data-favorites-type=\"1\" data-image-url=\"https://secure.img2.wfrcdn.com/lf/79/hash/1261/17001549/1/Alexa%2BSofa.jpg\" data-product-title=\"Alexa Sofa\" data-sku=\"CST12488\">\n",
       " <div class=\"sb_prod_favs_wrap js-sb-favs-icon-wrap hidden-node favs_out\">\n",
       " <span class=\"favs_icon_lt pos_rel pointer inlineblock cleanlink_disabled js-favorites-button js_clipbar_button js-ss-click\" data-click-track=\"SB_Favorites\" data-favorites-key=\"CST12488\" data-favorites-type=\"1\" data-image-url=\"https://secure.img2.wfrcdn.com/lf/79/hash/1261/17001549/1/Alexa%2BSofa.jpg\" data-product_manufacturer=\"Wildon Home ®\" data-product_title=\"Alexa Sofa\">\n",
       " <span class=\"favs_icon_glyph pos_rel\"></span>\n",
       " </span>\n",
       " </div>\n",
       " <div class=\"sb_prod_qv_wrap sbprodoptionswrap favs_out centertext pointer js-sb-qv-btn-wrap hidden-node favs_out\" data-qv-js=\"true\">\n",
       " <input class=\"js-ss-click js-viewmore jq-quickview js-quickview-btn note emphasis ltbodytext pointer quickview_btn wflink viewmoreheadadmin \" data-click-track=\"sb_add_to_cart:SB_quickview\" data-product-block-url=\"/v/product/quick_view?sku=CST12488&amp;\" type=\"button\" value=\"QUICK VIEW\"/>\n",
       " </div>\n",
       " <img alt=\"Alexa Sofa\" class=\"js-lazy-loaded-image\" height=\"225\" src=\"data:image/gif;base64,R0lGODlhAQABAPAAAAAAAAAAACH5BAEAAAAALAAAAAABAAEAAAICRAEAOw==\" width=\"225\"/>\n",
       " <noscript>\n",
       " <img alt=\"Alexa Sofa\" height=\"225\" src=\"https://secure.img2.wfrcdn.com/lf/79/hash/1261/17001549/1/Alexa%2BSofa.jpg\" width=\"225\"/>\n",
       " </noscript>\n",
       " </div>\n",
       " <div class=\"sb_prod_features borderleft\" data-click-location=\"Product48\">\n",
       " <div class=\"sb_prod_features_container\">\n",
       " <div class=\"emphasis\">\n",
       "               Product Features\n",
       "             </div>\n",
       " <ul class=\"sb_prod_feature_list\">\n",
       " <li class=\"sb_prod_feature_item\">\n",
       "                   Overall: 32.5\" H x 86\" W x 35\" D\n",
       "                 </li>\n",
       " <li class=\"sb_prod_feature_item\">\n",
       "                   Overall Product Weight: 95lbs\n",
       "                 </li>\n",
       " <li class=\"sb_prod_feature_item\">\n",
       "                   Product Type: Sofa\n",
       "                 </li>\n",
       " <li class=\"sb_prod_feature_item\">\n",
       "                   Style: Contemporary\n",
       "                 </li>\n",
       " <li class=\"sb_prod_feature_item\">\n",
       "                   Frame Finish: Dark Wood\n",
       "                 </li>\n",
       " </ul>\n",
       " <div class=\"sb_prod_copy\" data-click-location=\"Product48\">\n",
       "                 The Wildon Home Alexa Sofa is designed for a contemporary or casual home setting. This sofa belongs to the fabulous Alexa collection and is high on durability and make. Designed using elegance and comfort in mind, this sofa is constructed from premium-quality materials. Featuring a wooden frame, this sofa is strong and long lasting. As it is upholstered in low pile microfiber velvet material, this Alexa Sofa by Wildon Home is soft and ultra-comfortable. It is available in various colors...\n",
       "               </div>\n",
       " </div>\n",
       " <div class=\"prod_info_collapse\"></div>\n",
       " </div>\n",
       " <div class=\"sb_prod_details_block js-ss-click\" data-click-location=\"Product48\" data-click-track=\"sb_swatch_bottom_product_info_click\">\n",
       " <div class=\"sb_prod_grid_height\">\n",
       " <div class=\"sbprodmoreopts note margin_sm_top margin_sm_bottom\">\n",
       " <span class=\"cleanlink inlineblock js-ss-click sb_swatch_more_link \" data-click-track=\"sb_swatch_more_options_click\" title=\"Alexa Sofa\">\n",
       "             More Options: Color »\n",
       "           </span>\n",
       " </div>\n",
       " <span class=\"sb_names blocklevel cleanlink margin_sm_top\" title=\"Alexa Sofa\">\n",
       " <p class=\"sb_prod_name emphasis\">Alexa Sofa</p>\n",
       " <p class=\"sb_manu_name_solo smtext\">\n",
       "               by Wildon Home ®\n",
       "             </p>\n",
       " </span>\n",
       " </div>\n",
       " <div class=\"sb_left_block\">\n",
       " <div class=\"sb_pricing_wrap\">\n",
       " <div class=\"price pricetext sb_pricetext midtitle\"><span class=\"is_price_label\"></span><span class=\"is_price_value\">$659.99</span> <span class=\"wasprice wf_bodycolortext deemphasize strike\">$790.99</span></div>\n",
       " </div>\n",
       " <div class=\"sb_shipping_wrap\">\n",
       "         Free Shipping\n",
       "         \n",
       "       </div>\n",
       " <div class=\"reviewbox pos_rel ltbodytext\">\n",
       " <span class=\"stars_wrap review_stars_block_sm pos_rel fl inlineblock cleanlink_disabled stars_sm_10 js-ss-click js-track-event\">\n",
       "      <span class=\"stars_foreground\"></span>\n",
       " </span>\n",
       "   \n",
       "     (103)\n",
       "   \n",
       " </div>\n",
       " </div>\n",
       " </div>\n",
       " </a>]"
      ]
     },
     "execution_count": 7,
     "metadata": {},
     "output_type": "execute_result"
    }
   ],
   "source": [
    "productbox"
   ]
  },
  {
   "cell_type": "code",
   "execution_count": 9,
   "metadata": {
    "collapsed": false
   },
   "outputs": [
    {
     "data": {
      "text/plain": [
       "bs4.element.ResultSet"
      ]
     },
     "execution_count": 9,
     "metadata": {},
     "output_type": "execute_result"
    }
   ],
   "source": [
    "type(productbox)"
   ]
  },
  {
   "cell_type": "code",
   "execution_count": 43,
   "metadata": {
    "collapsed": false,
    "scrolled": true
   },
   "outputs": [
    {
     "data": {
      "text/plain": [
       "<a class=\"productbox fl js-ss-click cleanlink sb_noline js-product-bottom-link js-prod-content sb_prod_content yui3-filter-wrap \" data-click-track=\"ss3301912_sale,browse_product:Superbrowse\" data-sku=\"GNT3224\" href=\"http://www.wayfair.com/Harvest-Sofa-7500-GNT3224.html\" id=\"productbox_GNT3224\">\n",
       "<div class=\"sb_prod_image_wrapper pos_rel js-clipbar_drag \" data-favorites-key=\"GNT3224\" data-favorites-type=\"1\" data-image-url=\"https://secure.img2.wfrcdn.com/lf/79/hash/2668/18120165/1/Harvest%2BSofa.jpg\" data-product-title=\"Harvest Sofa\" data-sku=\"GNT3224\">\n",
       "<div class=\"sb_banner_wrap sbsale_banner heading_font_reg xstext whitetext \">\n",
       "                    Sale\n",
       "      </div>\n",
       "<div class=\"sb_prod_favs_wrap js-sb-favs-icon-wrap hidden-node favs_out\">\n",
       "<span class=\"favs_icon_lt pos_rel pointer inlineblock cleanlink_disabled js-favorites-button js_clipbar_button js-ss-click\" data-click-track=\"SB_Favorites\" data-favorites-key=\"GNT3224\" data-favorites-type=\"1\" data-image-url=\"https://secure.img2.wfrcdn.com/lf/79/hash/2668/18120165/1/Harvest%2BSofa.jpg\" data-product_manufacturer=\"Signature Design by Ashley\" data-product_title=\"Harvest Sofa\">\n",
       "<span class=\"favs_icon_glyph pos_rel\"></span>\n",
       "</span>\n",
       "</div>\n",
       "<div class=\"sb_prod_qv_wrap sbprodoptionswrap favs_out centertext pointer js-sb-qv-btn-wrap hidden-node favs_out\" data-qv-js=\"true\">\n",
       "<input class=\"js-ss-click js-viewmore jq-quickview js-quickview-btn note emphasis ltbodytext pointer quickview_btn wflink viewmoreheadadmin \" data-click-track=\"sb_add_to_cart:SB_quickview\" data-product-block-url=\"/v/product/quick_view?sku=GNT3224&amp;\" type=\"button\" value=\"QUICK VIEW\"/>\n",
       "</div>\n",
       "<img alt=\"Harvest Sofa\" class=\"blocklevel\" height=\"225\" id=\"img_GNT3224\" src=\"https://secure.img2.wfrcdn.com/lf/79/hash/2668/18120165/1/Harvest%2BSofa.jpg\" width=\"225\"/>\n",
       "</div>\n",
       "<div class=\"sb_prod_features borderleft\" data-click-location=\"Product1\">\n",
       "<div class=\"sb_prod_features_container\">\n",
       "<div class=\"emphasis\">\n",
       "              Product Features\n",
       "            </div>\n",
       "<ul class=\"sb_prod_feature_list\">\n",
       "<li class=\"sb_prod_feature_item\">\n",
       "                  Assembly Required: Yes\n",
       "                </li>\n",
       "<li class=\"sb_prod_feature_item\">\n",
       "                  Overall: 40\" H x 90\" W x 39\" D\n",
       "                </li>\n",
       "<li class=\"sb_prod_feature_item\">\n",
       "                  Design: Standard\n",
       "                </li>\n",
       "<li class=\"sb_prod_feature_item\">\n",
       "                  Upholstery Material: Other\n",
       "                </li>\n",
       "<li class=\"sb_prod_feature_item\">\n",
       "                  Overall Product Weight: 126.2lbs\n",
       "                </li>\n",
       "</ul>\n",
       "<div class=\"sb_prod_copy\" data-click-location=\"Product1\">\n",
       "                Add a touch of comfort and style to your home with the Signature Design by Ashley Harvest Sofa. This interesting piece of home decor is manufactured in the Unites States, so you can be rest assured of its quality and make. Thanks to the sinuous spring seating, this sofa keeps your guests comfortable always. Featuring a sturdy frame made from manufactured wood, this sofa is built to last. It is upholstered in 100% polyester fabric that adds a fashionable touch to the sofa. This Harvest Sofa from...\n",
       "              </div>\n",
       "</div>\n",
       "<div class=\"prod_info_collapse\"></div>\n",
       "</div>\n",
       "<div class=\"sb_prod_details_block js-ss-click\" data-click-location=\"Product1\" data-click-track=\"sb_swatch_bottom_product_info_click\">\n",
       "<div class=\"sb_prod_grid_height\">\n",
       "<div class=\"sbprodmoreopts note margin_sm_top margin_sm_bottom\">\n",
       "<span class=\"cleanlink inlineblock js-ss-click sb_swatch_more_link \" data-click-track=\"sb_swatch_more_options_click\" title=\"Harvest Sofa\">\n",
       "            More Options: Color »\n",
       "          </span>\n",
       "</div>\n",
       "<span class=\"sb_names blocklevel cleanlink margin_sm_top\" title=\"Harvest Sofa\">\n",
       "<p class=\"sb_prod_name emphasis\">Harvest Sofa</p>\n",
       "<p class=\"sb_manu_name_solo smtext\">\n",
       "              by Signature Design by Ashley\n",
       "            </p>\n",
       "</span>\n",
       "</div>\n",
       "<div class=\"sb_left_block\">\n",
       "<div class=\"sb_pricing_wrap\">\n",
       "<div class=\"price noticetext sb_noticetext midtitle\"><span class=\"is_price_label\"></span><span class=\"is_price_value\"><span class=\"from_text emphasis wf_bodycolortext note\">from </span>$357.99</span> <span class=\"wasprice wf_bodycolortext deemphasize strike\">$631.42</span></div>\n",
       "</div>\n",
       "<div class=\"sb_shipping_wrap\">\n",
       "        Free Shipping\n",
       "        \n",
       "      </div>\n",
       "<div class=\"reviewbox pos_rel ltbodytext\">\n",
       "<span class=\"stars_wrap review_stars_block_sm pos_rel fl inlineblock cleanlink_disabled stars_sm_10 js-ss-click js-track-event\">\n",
       "     <span class=\"stars_foreground\"></span>\n",
       "</span>\n",
       "  \n",
       "    (115)\n",
       "  \n",
       "</div>\n",
       "</div>\n",
       "</div>\n",
       "</a>"
      ]
     },
     "execution_count": 43,
     "metadata": {},
     "output_type": "execute_result"
    }
   ],
   "source": [
    "productbox[0]"
   ]
  },
  {
   "cell_type": "code",
   "execution_count": 48,
   "metadata": {
    "collapsed": false
   },
   "outputs": [
    {
     "data": {
      "text/plain": [
       "u'GNT3224'"
      ]
     },
     "execution_count": 48,
     "metadata": {},
     "output_type": "execute_result"
    }
   ],
   "source": [
    "productbox[0]['data-sku']"
   ]
  },
  {
   "cell_type": "code",
   "execution_count": 113,
   "metadata": {
    "collapsed": false
   },
   "outputs": [
    {
     "data": {
      "text/plain": [
       "u'https://secure.img2.wfrcdn.com/lf/79/hash/2668/18120165/1/Harvest%2BSofa.jpg'"
      ]
     },
     "execution_count": 113,
     "metadata": {},
     "output_type": "execute_result"
    }
   ],
   "source": [
    "productbox[0].img['src']"
   ]
  },
  {
   "cell_type": "code",
   "execution_count": 112,
   "metadata": {
    "collapsed": false
   },
   "outputs": [
    {
     "data": {
      "text/plain": [
       "u'https://secure.img2.wfrcdn.com/lf/79/hash/2668/18120165/1/Harvest%2BSofa.jpg'"
      ]
     },
     "execution_count": 112,
     "metadata": {},
     "output_type": "execute_result"
    }
   ],
   "source": [
    "productbox[0].div['data-image-url']"
   ]
  },
  {
   "cell_type": "code",
   "execution_count": 66,
   "metadata": {
    "collapsed": false
   },
   "outputs": [
    {
     "data": {
      "text/plain": [
       "<li class=\"sb_prod_feature_item\">\n",
       "                  Assembly Required: Yes\n",
       "                </li>"
      ]
     },
     "execution_count": 66,
     "metadata": {},
     "output_type": "execute_result"
    }
   ],
   "source": [
    "productbox[0].ul.li"
   ]
  },
  {
   "cell_type": "code",
   "execution_count": 300,
   "metadata": {
    "collapsed": true
   },
   "outputs": [],
   "source": [
    "def get_wayfair_product_links(link, num_pages=1):\n",
    "\n",
    "    product_links = []\n",
    "\n",
    "    for num in range(1,num_pages+1):\n",
    "        html  = urlopen(link+str(num))\n",
    "        soup = BeautifulSoup(html, 'html.parser')\n",
    "        productbox = soup.findAll('a', {'class':'productbox'})\n",
    "        product_links.extend([s['href'] for s in productbox])\n",
    "        \n",
    "    sleep(1)\n",
    "    return product_links"
   ]
  },
  {
   "cell_type": "markdown",
   "metadata": {},
   "source": [
    "# Get first 480 sofa product links:"
   ]
  },
  {
   "cell_type": "code",
   "execution_count": 311,
   "metadata": {
    "collapsed": false
   },
   "outputs": [],
   "source": [
    "sofa_links = get_wayfair_product_links(sofa_index, num_pages=10)"
   ]
  },
  {
   "cell_type": "code",
   "execution_count": 312,
   "metadata": {
    "collapsed": true
   },
   "outputs": [],
   "source": [
    "product_links = sofa_links"
   ]
  },
  {
   "cell_type": "code",
   "execution_count": 313,
   "metadata": {
    "collapsed": false
   },
   "outputs": [
    {
     "data": {
      "text/plain": [
       "480"
      ]
     },
     "execution_count": 313,
     "metadata": {},
     "output_type": "execute_result"
    }
   ],
   "source": [
    "len(sofa_links)"
   ]
  },
  {
   "cell_type": "code",
   "execution_count": 314,
   "metadata": {
    "collapsed": false,
    "scrolled": true
   },
   "outputs": [
    {
     "data": {
      "text/plain": [
       "[u'http://www.wayfair.com/Harvest-Sofa-7500-GNT3224.html',\n",
       " u'http://www.wayfair.com/Convertible-Sleeper-Sofa-MCRR1650-MCRR1650.html',\n",
       " u'http://www.wayfair.com/Handy-Living-Rio-Full-Convertible-Sofa-C6-S1-LIN-HLV1688.html',\n",
       " u'http://www.wayfair.com/Sofa-THRE2122-THRE2122.html',\n",
       " u'http://www.wayfair.com/Derry-Sofa-THRE1490-THRE1490.html',\n",
       " u'http://www.wayfair.com/Sanford-Sofa-6640038-6640138-GNT3183.html',\n",
       " u'http://www.wayfair.com/Compact-Sofa-MCRR1646-MCRR1646.html',\n",
       " u'http://www.wayfair.com/Brentwood-Sofa-THRE1480-THRE1480.html',\n",
       " u'http://www.wayfair.com/Danville-Loveseat-THRE1937-THRE1937.html',\n",
       " u'http://www.wayfair.com/Serta-Upholstery-Cooper-Sofa-1225S-XSQ1316.html',\n",
       " u'http://www.wayfair.com/Kingstown-Home-Carthusia-Tufted-Button-Sofa-KMDS1431.html',\n",
       " u'http://www.wayfair.com/Pratt-Sofa-012013277-BL8480.html',\n",
       " u'http://www.wayfair.com/Serta-at-Home-Copenhagen-Deluxe-Sofa-CR-43541PB-XSQ1696.html',\n",
       " u'http://www.wayfair.com/Harvest-Sleeper-Sofa-7500-GNT3200.html',\n",
       " u'http://www.wayfair.com/Montgomery-Sofa-012013262-BL8470.html',\n",
       " u'http://www.wayfair.com/Klaussner-Furniture-Audrina-Sofa-KLF3543.html',\n",
       " u'http://www.wayfair.com/Gracie-Sofa-ZIPC1540-ZIPC1540.html',\n",
       " u'http://www.wayfair.com/Aries-Sofa-by-Serta-Upholstery-MCRR1218-MCRR1218.html',\n",
       " u'http://www.wayfair.com/Serta-at-Home-Copenhagen-Sofa-CR-43536PB-XSQ1695.html',\n",
       " u'http://www.wayfair.com/Caroll-Sofa-by-Serta-Upholstery-THRE1317-THRE1317.html',\n",
       " u'http://www.wayfair.com/Serta-at-Home-Santa-Cruz-Sofa-CR-43534PB-XSQ1687.html',\n",
       " u'http://www.wayfair.com/Serta-Upholstery-Harry-Sofa-XSQ1817.html',\n",
       " u'http://www.wayfair.com/Handy-Living-Damen-Convert-a-Couch-Full-Convertible-Sofa-C1-S1-AAA-HLV1631.html',\n",
       " u'http://www.wayfair.com/Leda-Sofa-by-Serta-Upholstery-MCRR1219-MCRR1219.html',\n",
       " u'http://www.wayfair.com/Piedmont-Furniture-Emily-Sofa-6200SOM-DQPG1040.html',\n",
       " u'http://www.wayfair.com/Hannin-Sofa-9580-GNT5280.html',\n",
       " u'http://www.wayfair.com/Serta-Upholstery-Sofa-7650S-XSQ1388.html',\n",
       " u'http://www.wayfair.com/Franklin-Sofa-by-Serta-Upholstery-THRE1305-THRE1305.html',\n",
       " u'http://www.wayfair.com/Birch-Lane-Jameson-Sofa-Sleeper-BL3368.html',\n",
       " u'http://www.wayfair.com/Birch-Lane-E92820-IQSL-Queen-Sleeper-Sofa-0120132-BL6434.html',\n",
       " u'http://www.wayfair.com/Birch-Lane-Newton-Sofa-Sleeper-BL3422.html',\n",
       " u'http://www.wayfair.com/Serta-Upholstery-Wheaton-Sofa-5500S-XSQ1531.html',\n",
       " u'http://www.wayfair.com/Davey-Sofa-by-Serta-Upholstery-THRE1400-THRE1400.html',\n",
       " u'http://www.wayfair.com/Caldera-Sofa-MCRR1607-MCRR1607.html',\n",
       " u'http://www.wayfair.com/Brewster-Loveseat-ANDO1567-ANDO1567.html',\n",
       " u'http://www.wayfair.com/Serta-Upholstery-Sleeper-Sofa-4200IQSL-XSQ1137.html',\n",
       " u'http://www.wayfair.com/Piedmont-Furniture-Lydia-Sofa-3950SO-DQPG1033.html',\n",
       " u'http://www.wayfair.com/Frisco-Sofa-Sleeper-3296098-DRL1529.html',\n",
       " u'http://www.wayfair.com/Safia-Sofa-9530138-GNT5237.html',\n",
       " u'http://www.wayfair.com/Sleeper-Sofa-1375IQSL01-XSQ2020.html',\n",
       " u'http://www.wayfair.com/Birch-Lane-Fairchild-Sofa-BL3380.html',\n",
       " u'http://www.wayfair.com/InRoom-Designs-Klik-Klak-Convertible-Sofa-IRD1228.html',\n",
       " u'http://www.wayfair.com/Vienna-Convertible-Sofa-ZIPC1713-ZIPC1713.html',\n",
       " u'http://www.wayfair.com/Birch-Lane-Jameson-Sofa-BL3381.html',\n",
       " u'http://www.wayfair.com/Cosette-Sofa-HOHN1000-HOHN1000.html',\n",
       " u'http://www.wayfair.com/Versailles-Sofa-LARK1154-LARK1154.html',\n",
       " u'http://www.wayfair.com/Alexa-Sofa-504391-504491-CST12488.html',\n",
       " u'http://www.wayfair.com/TOV-Furniture-Camden-Sofa-TOVF1036.html',\n",
       " u'http://www.wayfair.com/Milton-Green-Star-Twin-Convertible-Sofa-7501BR-7501BK-MLGS1021.html',\n",
       " u'http://www.wayfair.com/Elmer-Sleeper-Sofa-THRE1974-THRE1974.html',\n",
       " u'http://www.wayfair.com/Harvest-Loveseat-7500-GNT3222.html',\n",
       " u'http://www.wayfair.com/Birch-Lane-E92820-S-Cruze-Sofa-BL6433.html',\n",
       " u'http://www.wayfair.com/LifeStyle-Solutions-Serta-Dream-Thomas-Convertible-Sofa-LF1936.html',\n",
       " u'http://www.wayfair.com/Clausen-Sleeper-01201324-BL8466.html',\n",
       " u'http://www.wayfair.com/Atwood-Sofa-CSTD1007-CSTD1007.html',\n",
       " u'http://www.wayfair.com/Birch-Lane-Owen-Loveseat-BL3425.html',\n",
       " u'http://www.wayfair.com/Wayfair-Custom-Upholstery-Harper-Sofa-CSTM1207-CSTM1207.html',\n",
       " u'http://www.wayfair.com/Sleeper-Sofa-MCRR1864-MCRR1864.html',\n",
       " u'http://www.wayfair.com/Durham-Loveseat-0120132-BL8484.html',\n",
       " u'http://www.wayfair.com/Birch-Lane-Newton-Sofa-BL3428.html',\n",
       " u'http://www.wayfair.com/DHP-Delaney-Sleeper-Sofa-3195098-3195198-DRL1368.html',\n",
       " u'http://www.wayfair.com/Birch-Lane-Landry-Leather-Sofa-BL3383.html',\n",
       " u'http://www.wayfair.com/Birch-Lane-Landry-Sofa-BL3399.html',\n",
       " u'http://www.wayfair.com/Smith-Sofa-ANDO1551-ANDO1551.html',\n",
       " u'http://www.wayfair.com/Handy-Living-Puebla-Convert-a-Couch-Full-Convertible-Sofa-HLV1629.html',\n",
       " u'http://www.wayfair.com/Jaxx-Zipline-Modular-Sleeper-Loveseat-16386-JAX1314.html',\n",
       " u'http://www.wayfair.com/Wayfair-Custom-Upholstery-Sarah-Sleeper-Sofa-CSTM1335-CSTM1335.html',\n",
       " u'http://www.wayfair.com/Serta-Upholstery-Regular-Sleeper-Sofa-4200IRSL-XSQ1128.html',\n",
       " u'http://www.wayfair.com/Birch-Lane-Owen-Sofa-Sleeper-BL3419.html',\n",
       " u'http://www.wayfair.com/Modway-Empress-Sofa-EEI-1011-FOW2014.html',\n",
       " u'http://www.wayfair.com/Sumter-Sofa-ANDO1530-ANDO1530.html',\n",
       " u'http://www.wayfair.com/Sanford-Loveseat-6640035-6640135-GNT3245.html',\n",
       " u'http://www.wayfair.com/Simmons-Upholstery-Manhattan-Sleeper-Sofa-2055-0-UFI2539.html',\n",
       " u'http://www.wayfair.com/Serta-Upholstery-Sofa-4900S-XSQ1376.html',\n",
       " u'http://www.wayfair.com/sofab-Muse-Sofa-SFAB1033.html',\n",
       " u'http://www.wayfair.com/Warren-Sofa-ANDO1536-ANDO1536.html',\n",
       " u'http://www.wayfair.com/Sleeper-Sofa-NU9615DB-SB-LKPH1084.html',\n",
       " u'http://www.wayfair.com/Clausen-Loveseat-012013-BL8476.html',\n",
       " u'http://www.wayfair.com/Solstice-Sofa-MCRR1869-MCRR1869.html',\n",
       " u'http://www.wayfair.com/Belmont-Loveseat-by-Serta-Upholstery-THRE1834-THRE1834.html',\n",
       " u'http://www.wayfair.com/Claire-Sofa-ZIPC1493-ZIPC1493.html',\n",
       " u'http://www.wayfair.com/Benchcraft-Mulberry-Sofa-1600038-1600138-GNT3413.html',\n",
       " u'http://www.wayfair.com/Birch-Lane-Owen-Sofa-BL3430.html',\n",
       " u'http://www.wayfair.com/Birch-Lane-Hawthorn-Sofa-12013205-BL5784.html',\n",
       " u'http://www.wayfair.com/Cressida-Sofa-MCRR1661-MCRR1661.html',\n",
       " u'http://www.wayfair.com/Versailles-Settee-LARK1166-LARK1166.html',\n",
       " u'http://www.wayfair.com/Cuddler-Sleeper-Loveseat-1375ICSL01-XSQ2022.html',\n",
       " u'http://www.wayfair.com/Avery-Sofa-12013995-CSTM1648.html',\n",
       " u'http://www.wayfair.com/Amanda-Sofa-ZIPC1461-ZIPC1461.html',\n",
       " u'http://www.wayfair.com/Birch-Lane-E92820-LS-Cruze-Loveseat-0120132-BL6443.html',\n",
       " u'http://www.wayfair.com/Klaussner-Furniture-Jenny-Sofa-012013120453-KLF3152.html',\n",
       " u'http://www.wayfair.com/Perseus-Loveseat-MCRR1826-MCRR1826.html',\n",
       " u'http://www.wayfair.com/Serta-at-Home-Santa-Cruz-Loveseat-CR-43529PB-XSQ1686.html',\n",
       " u'http://www.wayfair.com/Cresandra-Sofa-THRE1920-THRE1920.html',\n",
       " u'http://www.wayfair.com/Westwood-Convertible-Sofa-Sleeper-ALCT1810-ALCT1810.html',\n",
       " u'http://www.wayfair.com/Kingstown-Home-Carthusia-Tufted-Button-Loveseat-KMDS1432.html',\n",
       " u'http://www.wayfair.com/Wayfair-Custom-Upholstery-Casey-Sleeper-Sofa-CSTM1131-CSTM1131.html',\n",
       " u'http://www.wayfair.com/Serta-Upholstery-Hanover-Sofa-1000S-XSQ1334.html',\n",
       " u'http://www.wayfair.com/Montgomery-Loveseat-0120132623-BL8471.html',\n",
       " u'http://www.wayfair.com/Durham-Sofa-0120132-BL8475.html',\n",
       " u'http://www.wayfair.com/Carolina-Accents-Makenzie-Armless-Loveseat-CA5003-DD-ENT1245.html',\n",
       " u'http://www.wayfair.com/Smith-Loveseat-ANDO1550-ANDO1550.html',\n",
       " u'http://www.wayfair.com/Hokku-Designs-Tatianna-Premium-Sofa-XHX2270.html',\n",
       " u'http://www.wayfair.com/Birch-Lane-Jameson-Sofa-with-Contrast-Welt-01201320-BL5769.html',\n",
       " u'http://www.wayfair.com/Birch-Lane-Hawthorn-Leather-Sofa-0120132262-BL6397.html',\n",
       " u'http://www.wayfair.com/Convert-a-Couch%25C2%25AE-Sleeper-Sofa-HLV2003.html',\n",
       " u'http://www.wayfair.com/Serta-Upholstery-Sofa-XSQ1448.html',\n",
       " u'http://www.wayfair.com/Cheshire-Sofa-01201323-BL6875.html',\n",
       " u'http://www.wayfair.com/Modway-Prospect-Two-Seater-Loveseat-EEI-1043-FOW1903.html',\n",
       " u'http://www.wayfair.com/Wayfair-Custom-Upholstery-Sarah-Sofa-CSTM1292-CSTM1292.html',\n",
       " u'http://www.wayfair.com/Clausen-Sofa-012013-BL8482.html',\n",
       " u'http://www.wayfair.com/Janley-Sofa-BNCF1023.html',\n",
       " u'http://www.wayfair.com/Alliston-DuraBlend%25C2%25AE-Sofa-2010038-2010138-GNT5189.html',\n",
       " u'http://www.wayfair.com/Piedmont-Furniture-Elizabeth-Sofa-2100SOF-DQPG1060.html',\n",
       " u'http://www.wayfair.com/Birch-Lane-Elliot-Settee-BL3365.html',\n",
       " u'http://www.wayfair.com/Wayfair-Custom-Upholstery-Josephine-Sofa-CSTM1350-CSTM1350.html',\n",
       " u'http://www.wayfair.com/Paget-Sofa-in-Blue-SEHO1129-SEHO1129.html',\n",
       " u'http://www.wayfair.com/Convertible-Sofa-I-300281-CST12706.html',\n",
       " u'http://www.wayfair.com/Caroll-Loveseat-by-Serta-Upholstery-THRE1875-THRE1875.html',\n",
       " u'http://www.wayfair.com/Birch-Lane-Jameson-Sofa-Sleeper-with-Contrast-Welt-01201320-BL5776.html',\n",
       " u'http://www.wayfair.com/Brewster-Sofa-ANDO1568-ANDO1568.html',\n",
       " u'http://www.wayfair.com/Sonya-Sofa-MCRR1871-MCRR1871.html',\n",
       " u'http://www.wayfair.com/Gold-Sparrow-Atlanta-Convertible-Sectional-ADC-ATL-SEC-PUX-XQS1129.html',\n",
       " u'http://www.wayfair.com/Cressida-Loveseat-MCRR1659-MCRR1659.html',\n",
       " u'http://www.wayfair.com/Convertible-Sofa-300226-CST9260.html',\n",
       " u'http://www.wayfair.com/Wayfair-Custom-Upholstery-Carly-Sofa-CSTM1164-CSTM1164.html',\n",
       " u'http://www.wayfair.com/Carolina-Accents-Makenzie-Settee-CA5003-CAF005-ENT1125.html',\n",
       " u'http://www.wayfair.com/Hannin-Loveseat-9580-GNT5298.html',\n",
       " u'http://www.wayfair.com/Sofa-5600S-XSQ2057.html',\n",
       " u'http://www.wayfair.com/Birch-Lane-Esmont-Woven-Sofa-L4-210-SR-OA-BL5416.html',\n",
       " u'http://www.wayfair.com/TOV-Furniture-Oxford-Sofa-TOV-S19-TOVF1013.html',\n",
       " u'http://www.wayfair.com/Benchcraft-Full-Sleeper-Sofa-4460-GNT6061.html',\n",
       " u'http://www.wayfair.com/Employ-Upholstered-Loveseat-WQ17179-FOW2257.html',\n",
       " u'http://www.wayfair.com/angelo-HOME-Bradstreet-Settee-NIC-LX-PPG24A-ANH1331.html',\n",
       " u'http://www.wayfair.com/Milton-Green-Star-Chesire-Twin-Convertible-Sofa-7558DB-7558BK-MLGS1026.html',\n",
       " u'http://www.wayfair.com/Wayfair-Custom-Upholstery-Vivian-Sofa-CSTM1113-CSTM1113.html',\n",
       " u'http://www.wayfair.com/Sofa2Go%25E2%2584%25A2-Martinique-Deluxe-Sofa-CR45233B-XSQ1984.html',\n",
       " u'http://www.wayfair.com/Danville-Sofa-THRE1495-THRE1495.html',\n",
       " u'http://www.wayfair.com/Derry-Loveseat-THRE1952-THRE1952.html',\n",
       " u'http://www.wayfair.com/Wayfair-Custom-Upholstery-Casey-Sofa-CSTM1195-CSTM1195.html',\n",
       " u'http://www.wayfair.com/Sauder-Premier-Carver-74.8-Sleeper-Sofa-415060-SAU2215.html',\n",
       " u'http://www.wayfair.com/Leda-Loveseat-by-Serta-Upholstery-MCRR1756-MCRR1756.html',\n",
       " u'http://www.wayfair.com/DHI-Gigi-Phoenix-Loveseat-in-Crimson-AC-PH-LS-GIG-CR-DQH1422.html',\n",
       " u'http://www.wayfair.com/Daystar-Sofa-2820038-GNT5107.html',\n",
       " u'http://www.wayfair.com/DHP-Double-Convertible-Sofa-3334296-DRL1045.html',\n",
       " u'http://www.wayfair.com/Vienna-Convertible-Sofa-VKGL1178-VKGL1178.html',\n",
       " u'http://www.wayfair.com/Loveseat-8750LS02-XSQ2034.html',\n",
       " u'http://www.wayfair.com/sofab-Muse-Loveseat-SFAB1013.html',\n",
       " u'http://www.wayfair.com/Wildon-Home-%25C2%25AE-Loveseat-615893-615803-CST17234.html',\n",
       " u'http://www.wayfair.com/Benchcraft-Danely-Chaise-Sofa-3550018-GNT5121.html',\n",
       " u'http://www.wayfair.com/Serta-Upholstery-Loveseat-XSQ1458.html',\n",
       " u'http://www.wayfair.com/Overnight-Sofa-Obsessions-Sleeper-Sofa-with-Memory-Foam-Mattress-4450-Q-O-RHSD1015.html',\n",
       " u'http://www.wayfair.com/Woodbridge-Home-Designs-Caffery-Sleeper-Sofa-4829DB-HE6831.html',\n",
       " u'http://www.wayfair.com/Serta-Upholstery-Sofa-1085S-XSQ1296.html',\n",
       " u'http://www.wayfair.com/Serta-Upholstery-Sofa-7685S-XSQ1408.html',\n",
       " u'http://www.wayfair.com/Zeth-Queen-Sleeper-Sofa-2710-GNT5179.html',\n",
       " u'http://www.wayfair.com/Warren-Loveseat-ANDO1528-ANDO1528.html',\n",
       " u'http://www.wayfair.com/Rowe-Furniture-Abbott-Sofa-N120-000-RWE1526.html',\n",
       " u'http://www.wayfair.com/Skyline-Furniture-Velvet-Settee-Loveseat-I-6006-SKY1440.html',\n",
       " u'http://www.wayfair.com/Simmons-Upholstery-Cullen-Full-Sleeper-Sofa-1630-04F-Cullen-UFI2655.html',\n",
       " u'http://www.wayfair.com/Woodbridge-Home-Designs-Series-Elegant-Sofa-4790PU-HE4415.html',\n",
       " u'http://www.wayfair.com/Aries-Loveseat-by-Serta-Upholstery-MCRR1591-MCRR1591.html',\n",
       " u'http://www.wayfair.com/LifeStyle-Solutions-Signature-Rudolpho-Convertible-Sofa-GA-RUP-CC-SET-LF1707.html',\n",
       " u'http://www.wayfair.com/Hannin-Sleeper-Sofa-9580-GNT5259.html',\n",
       " u'http://www.wayfair.com/Eaton-Settee-GPNF2324-FOME1213.html',\n",
       " u'http://www.wayfair.com/Safavieh-Sarah-Tufted-Settee-FOX6206C-FV54721.html',\n",
       " u'http://www.wayfair.com/Piedmont-Furniture-Riley-Sofa-3225SO-DQPG1050.html',\n",
       " u'http://www.wayfair.com/Benchcraft-Paulie-DuraBlend%25C2%25AE-Sofa-2700-GNT5176.html',\n",
       " u'http://www.wayfair.com/Klaussner-Furniture-Walker-Sofa-KLF3059.html',\n",
       " u'http://www.wayfair.com/Abbyson-Living-Emily-Sofa-RL-1450G-BYV3210.html',\n",
       " u'http://www.wayfair.com/Sofa-3100S01-XSQ2028.html',\n",
       " u'http://www.wayfair.com/Franklin-Loveseat-by-Serta-Upholstery-THRE1993-THRE1993.html',\n",
       " u'http://www.wayfair.com/AM-Studio-Jenna-Sofa-WFSFJENN-pindov-GUS1222.html',\n",
       " u'http://www.wayfair.com/Miracle-Queen-Sleeper-Sofa-UFI2584.html',\n",
       " u'http://www.wayfair.com/Benchcraft-Oaktown-Sofa-1650038-1650138-GNT3415.html',\n",
       " u'http://www.wayfair.com/Benchcraft-Sofa-4460-GNT6060.html',\n",
       " u'http://www.wayfair.com/Convertible-Chaise-300277-CST12708.html',\n",
       " u'http://www.wayfair.com/Gold-Sparrow-Aspen-Convertible-Sectional-XQS1241.html',\n",
       " u'http://www.wayfair.com/Klaussner-Furniture-Tilly-Queen-Innerspring-Convertible-Sofa-012013134-KLF3565.html',\n",
       " u'http://www.wayfair.com/Serta-Upholstery-Vermont-Sofa-8800S-XSQ1190.html',\n",
       " u'http://www.wayfair.com/Birch-Lane-Jameson-Loveseat-BL3373.html',\n",
       " u'http://www.wayfair.com/LifeStyle-Solutions-San-Mateo-Convertible-Sofa-LF1136.html',\n",
       " u'http://www.wayfair.com/Serta-Upholstery-Loveseat-1085LS-XSQ1298.html',\n",
       " u'http://www.wayfair.com/Handy-Living-Chicago-Loft-SoFast%25E2%2584%25A2-81-Sofa-HLV1847.html',\n",
       " u'http://www.wayfair.com/Metro-Futon-Sofa-bed-2034619-DRL1531.html',\n",
       " u'http://www.wayfair.com/Simmons-Upholstery-Cullen-Twin-Sleeper-Sofa-1630-024-Cullen-UFI2694.html',\n",
       " u'http://www.wayfair.com/Warner-Modern-Loveseat-889913WL-2TL-KMDS1674.html',\n",
       " u'http://www.wayfair.com/Alenya-Sofa-1660138-GNT5243.html',\n",
       " u'http://www.wayfair.com/Simon-Li-Ashland-Leather-Sofa-J018-30-SIML1020.html',\n",
       " u'http://www.wayfair.com/Woodbridge-Home-Designs-Ramsey-Sofa-8518-3-HE7010.html',\n",
       " u'http://www.wayfair.com/Birch-Lane-Landry-Loveseat-BL3393.html',\n",
       " u'http://www.wayfair.com/Simmons-Upholstery-Cullen-Loveseat-1630-02-Cullen-UFI2658.html',\n",
       " u'http://www.wayfair.com/Gold-Sparrow-Detroit-Loveseat-II-ADC-DET-XQS1174.html',\n",
       " u'http://www.wayfair.com/Armen-Living-Barrister-Sofa-LC8443GREEN-ARA1257.html',\n",
       " u'http://www.wayfair.com/Claire-Loveseat-ZIPC1492-ZIPC1492.html',\n",
       " u'http://www.wayfair.com/Delila-Sofa-JEG-7377-KUI6135.html',\n",
       " u'http://www.wayfair.com/sofab-Angel-Loveseat-SFAB1005.html',\n",
       " u'http://www.wayfair.com/Serta-at-Home-Monaco-Deluxe-Sofa-CR-43595P-XSQ1679.html',\n",
       " u'http://www.wayfair.com/Wildon-Home-%25C2%25AE-Loveseat-615876-615879-CST17256.html',\n",
       " u'http://www.wayfair.com/Corona-Convertible-Loveseat-Sleeper-XQS1350.html',\n",
       " u'http://www.wayfair.com/Regard-Loveseat-WQ17632-FOW2505.html',\n",
       " u'http://www.wayfair.com/DHP-Julia-Convertible-Sofa-3205298-3205398-DRL1251.html',\n",
       " u'http://www.wayfair.com/Regular-Sleeper-Loveseat-1375IRSL01-XSQ2021.html',\n",
       " u'http://www.wayfair.com/Flash-Furniture-Grand-Series-Modular-Loveseat-FFC3570.html',\n",
       " u'http://www.wayfair.com/sofab-Angel-Sofa-SFAB1004.html',\n",
       " u'http://www.wayfair.com/Serta-Upholstery-Loveseat-7685LS-XSQ1417.html',\n",
       " u'http://www.wayfair.com/Serta-Upholstery-Queen-Sleeper-Sofa-XSQ1776.html',\n",
       " u'http://www.wayfair.com/Rudy-Reclining-Sofa-GNT2290.html',\n",
       " u'http://www.wayfair.com/Birch-Lane-Newton-Loveseat-BL3429.html',\n",
       " u'http://www.wayfair.com/Piedmont-Furniture-Jessica-Loveseat-5900LSM6-DQPG1020.html',\n",
       " u'http://www.wayfair.com/Piedmont-Furniture-Caroline-Sofa-6401SOM-DQPG1059.html',\n",
       " u'http://www.wayfair.com/Flash-Furniture-Darcy-Sofa-FSD-1109SO-FFC3152.html',\n",
       " u'http://www.wayfair.com/Overnight-Sofa-Hayden-Sleeper-Sofa-with-Memory-Foam-Mattress-4350-Q-H-RHSD1024.html',\n",
       " u'http://www.wayfair.com/Rowe-Furniture-Capri-Mini-Mod-Apartment-Loveseat-D173-000-RWE1173.html',\n",
       " u'http://www.wayfair.com/Amanda-Loveseat-ZIPC1460-ZIPC1460.html',\n",
       " u'http://www.wayfair.com/Beliani-Chesterfield-Leather-Sofa-BLNI1025.html',\n",
       " u'http://www.wayfair.com/Laurence-Sofa-504201-CST12476.html',\n",
       " u'http://www.wayfair.com/Serta-at-Home-Monaco-Loveseat-CR-43532P-XSQ1677.html',\n",
       " u'http://www.wayfair.com/Harvard-Leather-Sofa-500661-CST7622.html',\n",
       " u'http://www.wayfair.com/Hokku-Designs-Aristo-Convertible-Sofa-DN3017EL-KUI2387.html',\n",
       " u'http://www.wayfair.com/Serta-at-Home-Santa-Rosa-Deluxe-Sofa-CR-43879P-XSQ1675.html',\n",
       " u'http://www.wayfair.com/Birch-Lane-Landry-Leather-Loveseat-BL3385.html',\n",
       " u'http://www.wayfair.com/Chelsea-Home-Susie-Sofa-WCF1837.html',\n",
       " u'http://www.wayfair.com/Loveseat-5600LS-XSQ2056.html',\n",
       " u'http://www.wayfair.com/Alton-Loveseat-012013-BL8468.html',\n",
       " u'http://www.wayfair.com/Simmons-Upholstery-Roxanne-Queen-Sleeper-Sofa-UFI2607.html',\n",
       " u'http://www.wayfair.com/Garek-Double-Reclining-Loveseat-with-Console-9200-GNT6470.html',\n",
       " u'http://www.wayfair.com/Simmons-Upholstery-Luna-Sofa-UFI2486.html',\n",
       " u'http://www.wayfair.com/Modern-Sofa-503771-503774-AOAS1312.html',\n",
       " u'http://www.wayfair.com/Laramie-Queen-Sleeper-Sofa-BRH3913.html',\n",
       " u'http://www.wayfair.com/Piedmont-Furniture-Olivia-Sofa-72-DQPG1046.html',\n",
       " u'http://www.wayfair.com/Birch-Lane-Larson-Loveseat-BL3408.html',\n",
       " u'http://www.wayfair.com/Klaussner-Furniture-Darcy-Sofa-012013152553-KLF3212.html',\n",
       " u'http://www.wayfair.com/Pratt-Loveseat-0120132776-BL8473.html',\n",
       " u'http://www.wayfair.com/Derek-Convertible-Sofa-CSTD1072-CSTD1072.html',\n",
       " u'http://www.wayfair.com/Piedmont-Furniture-Emily-Loveseat-DQPG1038.html',\n",
       " u'http://www.wayfair.com/Serta-Upholstery-Sofa-4600S-XSQ1247.html',\n",
       " u'http://www.wayfair.com/Dozier-Sofa-3820038-GNT3531.html',\n",
       " u'http://www.wayfair.com/Serta-Upholstery-Sofa-4375S-XSQ1131.html',\n",
       " u'http://www.wayfair.com/Piedmont-Furniture-Camila-Sofa-DQPG1052.html',\n",
       " u'http://www.wayfair.com/Simmons-Upholstery-Champion-Double-Motion-Sofa-UFI2652.html',\n",
       " u'http://www.wayfair.com/Kosas-Home-Chatham-Sofa-GHM2522.html',\n",
       " u'http://www.wayfair.com/Serta-Upholstery-Loveseat-1225LS-XSQ1318.html',\n",
       " u'http://www.wayfair.com/AC-Pacific-Sleeper-Ottoman-JYQ1281.html',\n",
       " u'http://www.wayfair.com/Zuo-Era-Nob-Hill-Loveseat-98096-98097-ZORA1029.html',\n",
       " u'http://www.wayfair.com/Modway-Engage-Sofa-EEI-1180-FOW2024.html',\n",
       " u'http://www.wayfair.com/Istikbal-Max-Convertible-Sofa-ISB1173.html',\n",
       " u'http://www.wayfair.com/Wayfair-Custom-Upholstery-Delphine-Sofa-012013227-CSTM1278.html',\n",
       " u'http://www.wayfair.com/Overnight-Sofa-Dean-Sleeper-Sofa-with-Memory-Foam-Mattress-4850-Q-D-RHSD1021.html',\n",
       " u'http://www.wayfair.com/Beyan-Signature-Newark-Convertible-Sofa-SB-NEWARK-BYSN1002.html',\n",
       " u'http://www.wayfair.com/LifeStyle-Solutions-Serta-Dream-Avanzo-Convertible-Sofa-LF1929.html',\n",
       " u'http://www.wayfair.com/Wayfair-Custom-Upholstery-Felicity-Sofa-CSTM1183-CSTM1183.html',\n",
       " u'http://www.wayfair.com/Rudy-Two-Seat-Reclining-Sofa-GNT2134.html',\n",
       " u'http://www.wayfair.com/Rowe-Furniture-Nantucket-Slipcovered-Sofa-A910-EDP-1530-RWE1660.html',\n",
       " u'http://www.wayfair.com/Craftmaster-Burnish-Sofa-CAE1223.html',\n",
       " u'http://www.wayfair.com/InRoom-Designs-Klik-Klak-Convertible-Sofa-S012-IRD1884.html',\n",
       " u'http://www.wayfair.com/Glencoe-Sofa-3940038-3940138-GNT3186.html',\n",
       " u'http://www.wayfair.com/Serta-Upholstery-Double-Reclining-Loveseat-9950DRLS-XSQ1798.html',\n",
       " u'http://www.wayfair.com/Magnolia-Home-Microfiber-Two-Tone-Piping-Convertible-Sofa-850871-MHQF1014.html',\n",
       " u'http://www.wayfair.com/Klaussner-Furniture-Audrina-Loveseat-KLF3544.html',\n",
       " u'http://www.wayfair.com/Istikbal-Twist-Convertible-Loveseat-10-TWI-20-ISB1198.html',\n",
       " u'http://www.wayfair.com/TOV-Furniture-James-Sofa-TOVF1074.html',\n",
       " u'http://www.wayfair.com/InRoom-Designs-Sofa-1640-IRD2314.html',\n",
       " u'http://www.wayfair.com/Hokku-Designs-Tatianna-Premium-Loveseat-XHX2272.html',\n",
       " u'http://www.wayfair.com/Makonnen-Queen-Sleeper-Sofa-7800039-GNT5142.html',\n",
       " u'http://www.wayfair.com/Simmons-Upholstery-Premier-Sofa-UFI2679.html',\n",
       " u'http://www.wayfair.com/Klaussner-Furniture-Brighton-Dreamquest-Queen-Sleeper-Loveseat-012013142219-KLF2988.html',\n",
       " u'http://www.wayfair.com/Sofa-8750S02-XSQ2033.html',\n",
       " u'http://www.wayfair.com/Serta-Upholstery-Elizabeth-Sofa-I-7900S-XSQ1410.html',\n",
       " u'http://www.wayfair.com/LifeStyle-Solutions-Serta-Dream-Convertible-Sofa-LF1602.html',\n",
       " u'http://www.wayfair.com/DHI-Gigi-Allegro-Loveseat-in-Platinum-AC-AL-LS-GIG-PL-DQH1414.html',\n",
       " u'http://www.wayfair.com/Wayfair-Custom-Upholstery-Felicity-Sleeper-Sofa-CSTM1161-CSTM1161.html',\n",
       " u'http://www.wayfair.com/LifeStyle-Solutions-Casual-Storage-Convertible-Sofa-CA-NPA-JH-SET-LF1524.html',\n",
       " u'http://www.wayfair.com/Michael-Amini-Lavelle-Tufted-Sofa-ICO2758.html',\n",
       " u'http://www.wayfair.com/Serta-Upholstery-Double-Reclining-Sofa-9950DRS-XSQ1774.html',\n",
       " u'http://www.wayfair.com/Piedmont-Furniture-Lillian-Loveseat-DQPG1035.html',\n",
       " u'http://www.wayfair.com/Piedmont-Furniture-Chloe-Sofa-6301SOM-DQPG1039.html',\n",
       " u'http://www.wayfair.com/Hokku-Designs-Charlemagne-Premium-Sofa-XHX2268.html',\n",
       " u'http://www.wayfair.com/Benchcraft-Brileigh-Loveseat-9660-GNT5271.html',\n",
       " u'http://www.wayfair.com/Rio-Convert-A-Couch-Sofa-CAC1-S183-AAA63-HLV1941.html',\n",
       " u'http://www.wayfair.com/Simon-Li-Macco-Leather-Sofa-J310-3S-LW-SPOK-SIML1099.html',\n",
       " u'http://www.wayfair.com/DG-Casa-Palomar-Sofa-DGA1156.html',\n",
       " u'http://www.wayfair.com/Serta-Upholstery-Sofa-8500S-Radar-XSQ1848.html',\n",
       " u'http://www.wayfair.com/Sophia-Convert-A-Couch-Sofa-C11-S1-LIN-HLV1942.html',\n",
       " u'http://www.wayfair.com/Wildon-Home-%25C2%25AE-Loveseat-615666-CST17300.html',\n",
       " u'http://www.wayfair.com/Serta-Upholstery-Regular-Sleeper-Sofa-XSQ1779.html',\n",
       " u'http://www.wayfair.com/TOV-Furniture-Camden-Loveseat-TOVF1035.html',\n",
       " u'http://www.wayfair.com/Benchcraft-Oaktown-Loveseat-1650035-1650135-GNT3453.html',\n",
       " u'http://www.wayfair.com/Serta-at-Home-Santa-Cruz-Deluxe-Sofa-CR-43538PB-XSQ1688.html',\n",
       " u'http://www.wayfair.com/Klaussner-Furniture-Holly-Sofa-0120131-KLF3165.html',\n",
       " u'http://www.wayfair.com/Jaxx-Zipline-Modular-Sleeper-Chair-with-Otoman-16385-JAX1318.html',\n",
       " u'http://www.wayfair.com/Primo-International-Ara-Convertible-Sofa-ARA-SOFY0010-PMO1187.html',\n",
       " u'http://www.wayfair.com/Ave-Six-Pacific-Loveseat-PAC52-V18-AVS1292.html',\n",
       " u'http://www.wayfair.com/Klaussner-Furniture-Cliffside-Sofa-012013148396-KLF3186.html',\n",
       " u'http://www.wayfair.com/InRoom-Designs-Loveseat-1640-IRD2315.html',\n",
       " u'http://www.wayfair.com/Sofa-8650S0-XSQ2052.html',\n",
       " u'http://www.wayfair.com/Aristocrat-Leather-Sofa-ZMN1075-ZMN1075.html',\n",
       " u'http://www.wayfair.com/Simmons-Upholstery-Twillo-Twin-Sleeper-Sofa-8950-024-Twillo-UFI2659.html',\n",
       " u'http://www.wayfair.com/Serta-Upholstery-Elizabeth-Loveseat-I-7900LS-XSQ1411.html',\n",
       " u'http://www.wayfair.com/Piedmont-Furniture-Abigail-Sofa-6451SOM-DQPG1063.html',\n",
       " u'http://www.wayfair.com/Wholesale-Interiors-Baxton-Studio-Stapleton-Modern-Sofa-WHI5460.html',\n",
       " u'http://www.wayfair.com/Overnight-Sofa-Reggae-Queen-Sleeper-Sofa-with-Memory-Foam-Mattress-2550-Q-R-RHSD1038.html',\n",
       " u'http://www.wayfair.com/Lazzaro-Leather-Leather-Sofa-1009-30-3338-LAZ1229.html',\n",
       " u'http://www.wayfair.com/Wildon-Home-%25C2%25AE-Sofa-615875-615878-CST16977.html',\n",
       " u'http://www.wayfair.com/L-Sofa-Bed-Sofa-Bed-411323-411324-AOAS1692.html',\n",
       " u'http://www.wayfair.com/Simmons-Upholstery-Lucas-Hide-A-Bed-Sofa-UFI2884.html',\n",
       " u'http://www.wayfair.com/Riley-Convertible-Sofa-300229-CST9261.html',\n",
       " u'http://www.wayfair.com/Beyan-Signature-Parkave-Sleeper-Sofa-SB-PARKAVE-BYSN1241.html',\n",
       " u'http://www.wayfair.com/New-York-Reclining-Loveseat-600972-CST12423.html',\n",
       " u'http://www.wayfair.com/Princess-Upholstered-Modular-Sofa-FOW2435.html',\n",
       " u'http://www.wayfair.com/Cumberland-Grove-Sofa-500231-CST1222.html',\n",
       " u'http://www.wayfair.com/Hokku-Designs-Yirume-Modern-Modular-Sofa-JEG-7872-KUI5515.html',\n",
       " u'http://www.wayfair.com/Catherine-Sofa-D3662-03-FMT1192.html',\n",
       " u'http://www.wayfair.com/McKenzie-Sofa-5730038-GNT3267.html',\n",
       " u'http://www.wayfair.com/Leather-Sofa-614092-CST16790.html',\n",
       " u'http://www.wayfair.com/Safia-Loveseat-9530135-GNT5236.html',\n",
       " u'http://www.wayfair.com/Zeth-Twin-Sleeper-Sofa-2710-GNT5183.html',\n",
       " u'http://www.wayfair.com/Abbyson-Living-Foyer-Premium-Italian-Leather-Sofa-CI-9193-BRN-3-BYV2444.html',\n",
       " u'http://www.wayfair.com/Loni-M-Designs-Meagan-Sofa-LM-330-FZU1801.html',\n",
       " u'http://www.wayfair.com/Faenza-Leather-Convertible-Sofa-DMVT1001.html',\n",
       " u'http://www.wayfair.com/Zachary-Sofa-BRH3828.html',\n",
       " u'http://www.wayfair.com/Delila-Loveseat-JEG-7377-KUI6132.html',\n",
       " u'http://www.wayfair.com/Piedmont-Furniture-Lillian-Sofa-5550SO-DQPG1036.html',\n",
       " u'http://www.wayfair.com/Paula-Deen-Home-Duckling-Sofa-PDH2434.html',\n",
       " u'http://www.wayfair.com/Craftmaster-Taj-Mahal-Sofa-CAE1267.html',\n",
       " u'http://www.wayfair.com/Simmons-Upholstery-Cullen-Sofa-1630-03-Cullen-UFI2692.html',\n",
       " u'http://www.wayfair.com/Simmons-Upholstery-London-Full-Sleeper-Sofa-UFI2574.html',\n",
       " u'http://www.wayfair.com/Wildon-Home-%25C2%25AE-Sectional-Sofa-611127-CST16968.html',\n",
       " u'http://www.wayfair.com/sofab-Legend-Small-Scale-Sofa-1386-06-SFB2-SFAB1173.html',\n",
       " u'http://www.wayfair.com/Simmons-Upholstery-London-Sofa-UFI2576.html',\n",
       " u'http://www.wayfair.com/Benchcraft-Paulie-DuraBlend%25C2%25AE-Loveseat-2700-GNT5175.html',\n",
       " u'http://www.wayfair.com/Beyan-Signature-Queens-Convertible-Sofa-SB-QUEENS-BYSN1020.html',\n",
       " u'http://www.wayfair.com/Handy-Living-Rockford-SoFast%25E2%2584%25A2-Sofa-RKF-SX-LIN73-HLV1875.html',\n",
       " u'http://www.wayfair.com/Piedmont-Furniture-Elizabeth-Loveseat-2100LSF2P1-DQPG1004.html',\n",
       " u'http://www.wayfair.com/Armen-Living-Urbanity-Roxbury-Tufted-Sofa-LC10103GR-ARA1475.html',\n",
       " u'http://www.wayfair.com/Wildon-Home-%25C2%25AE-Tufted-Sofa-612532-CST16974.html',\n",
       " u'http://www.wayfair.com/Serta-at-Home-San-Paolo-Sofa-CR-43535PB-XSQ1684.html',\n",
       " u'http://www.wayfair.com/Beyan-Signature-Linden-Convertible-Loveseat-LS-LINDEN-BYSN1073.html',\n",
       " u'http://www.wayfair.com/Armen-Living-Barrister-Loveseat-LC8442-ARA1254.html',\n",
       " u'http://www.wayfair.com/Wayfair-Custom-Upholstery-Eliza-Sofa-CSTM1309-CSTM1309.html',\n",
       " u'http://www.wayfair.com/Handy-Living-Milan-Sofa-MLN1-SX-VBL79-HLV1378.html',\n",
       " u'http://www.wayfair.com/Serta-Upholstery-Loveseat-5500LS-XSQ1530.html',\n",
       " u'http://www.wayfair.com/Garek-Reclining-Sofa-9200-GNT6479.html',\n",
       " u'http://www.wayfair.com/Gold-Sparrow-Aspen-Convertible-Sectional-ADC-ASP-SEC-XQS1269.html',\n",
       " u'http://www.wayfair.com/Simmons-Upholstery-Wisconsin-Beautyrest-Motion-Sofa-50340BR-53-UFI2898.html',\n",
       " u'http://www.wayfair.com/Simmons-Upholstery-Riverside-Sofa-6159-Sofa-UFI2461.html',\n",
       " u'http://www.wayfair.com/Wayfair-Custom-Upholstery-Carly-Sleeper-Sofa-CSTM1127-CSTM1127.html',\n",
       " u'http://www.wayfair.com/Simmons-Upholstery-Soho-Bonded-Leather-Sofa-9569-Sofa-UFI2465.html',\n",
       " u'http://www.wayfair.com/Sofa-XJT2600.html',\n",
       " u'http://www.wayfair.com/Annalise-Sleeper-Loveseat-WF3059-WF4059-UT4030.html',\n",
       " u'http://www.wayfair.com/Overnight-Sofa-Sawyer-Sleeper-Sofa-with-Memory-Foam-Mattress-7950-Q-SC-KD-M-RHSD1030.html',\n",
       " u'http://www.wayfair.com/Serta-Upholstery-Sofa-XSQ1745.html',\n",
       " u'http://www.wayfair.com/Chelsea-Home-Ambrose-Reclining-Sofa-1003-AC-1003-SC-WCF1654.html',\n",
       " u'http://www.wayfair.com/Rockhill-Reclining-Sofa-2930087-2930088-GNT2892.html',\n",
       " u'http://www.wayfair.com/Simmons-Upholstery-Sassy-Barley-Sleeper-Sofa-UFI2843.html',\n",
       " u'http://www.wayfair.com/Flash-Furniture-Prestige-Series-Modular-Loveseat-FFC3568.html',\n",
       " u'http://www.wayfair.com/Serta-at-Home-San-Paolo-Loveseat-CR-43530PB-XSQ1683.html',\n",
       " u'http://www.wayfair.com/Corona-Ash-Convertible-Loveseat-Sleeper-XQS1399.html',\n",
       " u'http://www.wayfair.com/Valencia-Leather-Sofa-500681-CST1152.html',\n",
       " u'http://www.wayfair.com/Simmons-Upholstery-Twillo-Loveseat-8950-02-Twillo-UFI2656.html',\n",
       " u'http://www.wayfair.com/Wayfair-Custom-Upholstery-Caroline-Sofa-CSTM1253-CSTM1253.html',\n",
       " u'http://www.wayfair.com/Overnight-Sofa-Bang-Bang-Sleeper-Sofa-with-Memory-Foam-Mattress-RHSD1011.html',\n",
       " u'http://www.wayfair.com/New-Portland-Sleeper-Sofa-300160-CST8133.html',\n",
       " u'http://www.wayfair.com/Convertible-Sofa-411337-CST19270.html',\n",
       " u'http://www.wayfair.com/Barrister-Sofa-LC8443GRAY-ARA1325.html',\n",
       " u'http://www.wayfair.com/Klaussner-Furniture-Heather-Loveseat-0120131-KLF3167.html',\n",
       " u'http://www.wayfair.com/Benchcraft-Mulberry-Loveseat-1600035-1600135-GNT3412.html',\n",
       " u'http://www.wayfair.com/Sam-Moore-Emma-Sofa-7002-002-SMO1210.html',\n",
       " u'http://www.wayfair.com/Milton-Green-Star-Verano-Twin-Convertible-Sofa-7502ESP-7502BK-MLGS1031.html',\n",
       " u'http://www.wayfair.com/Millsap-Convertible-Sofa-300301-CST9263.html',\n",
       " u'http://www.wayfair.com/Klaussner-Furniture-Woodwin-Sofa-012013129029-KLF3049.html',\n",
       " u'http://www.wayfair.com/Modway-Empress-Sofa-FOW1998.html',\n",
       " u'http://www.wayfair.com/Baxton-Studio-Mid-Century-Masterpieces-Loveseat-TOGO-LS-109-541-WHI5542.html',\n",
       " u'http://www.wayfair.com/Avery-Sleeper-Sofa-12013996-CSTM1643.html',\n",
       " u'http://www.wayfair.com/Chelsea-Home-London-Sofa-FS3560-WCF1981.html',\n",
       " u'http://www.wayfair.com/Glencoe-Loveseat-3940035-3940135-GNT3331.html',\n",
       " u'http://www.wayfair.com/Southern-Motion-Savannah-Solarium-Track-Arm-Reclining-Loveseat-BOUT1054.html',\n",
       " u'http://www.wayfair.com/Wayfair-Custom-Upholstery-Vivian-Loveseat-CSTM1062-CSTM1062.html',\n",
       " u'http://www.wayfair.com/Loveseat-3100LS01-XSQ2029.html',\n",
       " u'http://www.wayfair.com/Abbyson-Living-Morgan-Sofa-RL-1600-BGE-3-BYV3190.html',\n",
       " u'http://www.wayfair.com/Bentley-Queen-Hide-A-Bed-UFI2925.html',\n",
       " u'http://www.wayfair.com/Serta-at-Home-Trinidad-Sofa-CR-43537PB-XSQ1692.html',\n",
       " u'http://www.wayfair.com/TOV-Furniture-Fairfield-Loveseat-TOVF1040.html',\n",
       " u'http://www.wayfair.com/Wholesale-Interiors-Baxton-Studio-Kerrigan-Modern-Settee-WHI5442.html',\n",
       " u'http://www.wayfair.com/Cicero-Queen-Hide-A-Bed-UFI2938.html',\n",
       " u'http://www.wayfair.com/Simmons-Upholstery-Soho-Sofa-UFI2650.html',\n",
       " u'http://www.wayfair.com/Global-Furniture-USA-Clark-Loveseat-559-Series-GQ1381.html',\n",
       " u'http://www.wayfair.com/Serta-at-Home-Santa-Rosa-Sofa-CR-43878P-XSQ1674.html',\n",
       " u'http://www.wayfair.com/Ludlow-Twin-Sleeper-Loveseat-3601XB-LR1360.html',\n",
       " u'http://www.wayfair.com/Abbyson-Living-Palazzo-Leather-Sofa-CI-D320-BRN-3-BYV1329.html',\n",
       " u'http://www.wayfair.com/Modway-Chesterfield-Sofa-FOW1291.html',\n",
       " u'http://www.wayfair.com/Wayfair-Custom-Upholstery-Sarah-Loveseat-CSTM1252-CSTM1252.html',\n",
       " u'http://www.wayfair.com/Wayfair-Custom-Upholstery-Paige-Sofa-01201322-CSTM1219.html',\n",
       " u'http://www.wayfair.com/Istikbal-Floris-3-Seat-Convertible-Sofa-ISB1196.html',\n",
       " u'http://www.wayfair.com/Venice-Leather-Reclining-Sofa-GNT2320.html',\n",
       " u'http://www.wayfair.com/Southern-Motion-Maverick-Lay-Flat-Console-Reclining-Loveseat-SMN1194.html',\n",
       " u'http://www.wayfair.com/Paula-Deen-Home-Alex-Sofa-PDH2426.html',\n",
       " u'http://www.wayfair.com/angelo-HOME-Benjamin-Loveseat-ANH1980.html',\n",
       " u'http://www.wayfair.com/Modus-Furniture-Yosemite-Upholstered-Kitchen-Bench-7YC969-MO4492.html',\n",
       " u'http://www.wayfair.com/Craftmaster-Peacock-Sofa-CAE1250.html',\n",
       " u'http://www.wayfair.com/Braddock-Reclining-Loveseat-5670174-5670186-GNT2887.html',\n",
       " u'http://www.wayfair.com/DHP-Rome-Sleeper-Sofa-5433196-DRL1079.html',\n",
       " u'http://www.wayfair.com/AandB-Home-Group-Inc-Loveseat-32342-WZA1260.html',\n",
       " u'http://www.wayfair.com/Weatherly-Double-Reclining-Loveseat-3270194-3270196-GNT2900.html',\n",
       " u'http://www.wayfair.com/Nolan-Armless-Loveseat-31820-TXR2378.html',\n",
       " u'http://www.wayfair.com/Eastfield-Loveseat-GPNF2191-FOME1080.html',\n",
       " u'http://www.wayfair.com/Safavieh-Sarah-Settee-FOX6205A-FV54145.html',\n",
       " u'http://www.wayfair.com/Loveseat-503772-503775-AOAS1313.html',\n",
       " u'http://www.wayfair.com/Bentley-Twin-Hide-A-Bed-UFI2926.html',\n",
       " u'http://www.wayfair.com/Janley-Loveseat-BNCF1025.html',\n",
       " u'http://www.wayfair.com/Serta-Upholstery-Loveseat-9200LS-XSQ1163.html',\n",
       " u'http://www.wayfair.com/Simmons-Upholstery-Twillo-Sofa-8950-03-Twillo-UFI2681.html',\n",
       " u'http://www.wayfair.com/Klaussner-Furniture-Holly-Loveseat-0120131-KLF3166.html',\n",
       " u'http://www.wayfair.com/Simmons-Upholstery-Soho-Faux-Leather-Sofa-9590-03-UFI2541.html',\n",
       " u'http://www.wayfair.com/Klaussner-Furniture-Dimitri-US-Reclining-Sofa-012013152386-KLF3210.html',\n",
       " u'http://www.wayfair.com/Woodbridge-Home-Designs-Piper-Convertible-Sofa-4802MFR-HE5553.html',\n",
       " u'http://www.wayfair.com/Compton-Convertible-Sofa-Sleeper-3297098-DRL1517.html',\n",
       " u'http://www.wayfair.com/Boyd-Leather-Sofa-502711-CST8960.html',\n",
       " u'http://www.wayfair.com/Haley-Sofa-HAL-S-SEAS-7-EQL1168.html',\n",
       " u'http://www.wayfair.com/Safia-Sleeper-Sofa-9530139-GNT5238.html',\n",
       " u'http://www.wayfair.com/Angelo-Home-Angelo-Home-Angie-Sofa-HLV1831.html',\n",
       " u'http://www.wayfair.com/Sofa-Bed-XJT2680.html',\n",
       " u'http://www.wayfair.com/sofab-Lass-Loveseat-SFAB1030.html',\n",
       " u'http://www.wayfair.com/Volo-Design-Inc-Hathaway-Sofa-102-VOLO1105.html',\n",
       " u'http://www.wayfair.com/Kingstown-Home-Keenan-Sofa-KMDS1349.html',\n",
       " u'http://www.wayfair.com/Piedmont-Furniture-Jessica-Sofa-5900SOM-DQPG1037.html',\n",
       " u'http://www.wayfair.com/Darion-Love-Seat-BRSD1778-BRSD1778.html',\n",
       " u'http://www.wayfair.com/Global-Furniture-USA-Reclining-Loveseat-U9968-R-L-GQ2759.html',\n",
       " u'http://www.wayfair.com/Simmons-Upholstery-Zephyr-Queen-Sleeper-Sofa-UFI2633.html',\n",
       " u'http://www.wayfair.com/Beverly-Fine-Furniture-Denver-Reclining-Sofa-QRMG1044.html',\n",
       " u'http://www.wayfair.com/Simmons-Upholstery-Renegade-Beautyrest-Motion-Console-Loveseat-50364BR-63-UFI2899.html',\n",
       " u'http://www.wayfair.com/Chelsea-Home-Kelsey-Sofa-6765011-S-C-WCF1735.html',\n",
       " u'http://www.wayfair.com/Sauder-Premier-Crash-71.26-Sleeper-Sofa-415078-SAU2219.html',\n",
       " u'http://www.wayfair.com/Istikbal-Aspen-Full-Convertible-Sofa-ISB1174.html',\n",
       " u'http://www.wayfair.com/Eastfield-Loveseat-GPNF2192-FOME1081.html',\n",
       " u'http://www.wayfair.com/Alliston-DuraBlend%25C2%25AE-Queen-Sleeper-Sofa-2010039-2010139-GNT5177.html',\n",
       " u'http://www.wayfair.com/Chelsea-Home-Catania-Sofa-WCF1572.html',\n",
       " u'http://www.wayfair.com/Benchcraft-Loveseat-4460-GNT6054.html',\n",
       " u'http://www.wayfair.com/Castleton-Home-Modular-Loveseat-CX1123-CTHM1159.html',\n",
       " u'http://www.wayfair.com/Franklin-Soho-Sofa-716381974204-FA2702.html',\n",
       " u'http://www.wayfair.com/Chelsea-Home-Hudson-Sofa-FS2600-S-WCF1762.html',\n",
       " u'http://www.wayfair.com/Franklin-Ashland-Sofa-716381984111-FA2685.html',\n",
       " u'http://www.wayfair.com/Sofas-to-Go-Osceola-Sleeper-Sofa-GTS1400.html',\n",
       " u'http://www.wayfair.com/Simmons-Upholstery-Santa-Monica-Loveseat-UFI2618.html',\n",
       " u'http://www.wayfair.com/Omnia-Furniture-Sedona-Leather-Sleeper-Sofa-SED-S-OTL1479.html',\n",
       " u'http://www.wayfair.com/Omnia-Furniture-City-Sleek-Leather-Sofa-CIT-3S-OTL1326.html',\n",
       " u'http://www.wayfair.com/Corner-II-LTD-Paris-Bohemian-Convertible-Click-Clack-Sofa-Bed-WF14010-CUQ1012.html',\n",
       " u'http://www.wayfair.com/Walton-Sofa-1660038-GNT3509.html',\n",
       " u'http://www.wayfair.com/Klaussner-Furniture-Brighton-Microsuede-Queen-Sleeper-Sofa-KLF2868.html',\n",
       " u'http://www.wayfair.com/Serta-at-Home-Monaco-Sofa-CR-43533P-XSQ1678.html',\n",
       " u'http://www.wayfair.com/Woodbridge-Home-Designs-Valentina-Sofa-9619-HE6981.html',\n",
       " u'http://www.wayfair.com/Rudy-Reclining-Sofa-GNT2526.html',\n",
       " u'http://www.wayfair.com/Southern-Motion-Maverick-Lay-Flat-Reclining-Sofa-SMN1193.html',\n",
       " u'http://www.wayfair.com/Istikbal-Regata-3-Seat-Convertible-Sofa-10-REG-ISB1197.html',\n",
       " u'http://www.wayfair.com/AC-Pacific-Jagger-Reclining-Loveseat-JagG1915-JYQ1079.html',\n",
       " u'http://www.wayfair.com/Piedmont-Furniture-Madison-Sofa-8700SO-DQPG1048.html',\n",
       " u'http://www.wayfair.com/Klaussner-Furniture-Posen-Sleeper-Sofa-012013131497-KLF3628.html',\n",
       " u'http://www.wayfair.com/Leighton-Leather-Loveseat-9920035-GNT3118.html',\n",
       " u'http://www.wayfair.com/Simmons-Upholstery-Editor-Sofa-UFI2792.html',\n",
       " u'http://www.wayfair.com/Wildon-Home-%25C2%25AE-Sofa-615892-615802-CST16978.html',\n",
       " u'http://www.wayfair.com/Palliser-Furniture-Shields-Reclining-Sofa-41077-PAF6623.html',\n",
       " u'http://www.wayfair.com/Chelsea-Home-Ambrose-Reclining-Loveseat-1002-AC-1002-SC-WCF1668.html',\n",
       " u'http://www.wayfair.com/Flash-Furniture-Prestige-Series-Modular-Sofa-FFC3574.html',\n",
       " u'http://www.wayfair.com/Valerie-Settee-LVS1003-FV58783.html',\n",
       " u'http://www.wayfair.com/Daystar-Loveseat-2820035-GNT5106.html',\n",
       " u'http://www.wayfair.com/Klaussner-Furniture-Tolbert-Sofa-012013152607-KLF3215.html',\n",
       " u'http://www.wayfair.com/Brooke-Sofa-SFAB1226.html',\n",
       " u'http://www.wayfair.com/Cedric-Tufted-Loveseat-JEG-7370-KUI6371.html',\n",
       " u'http://www.wayfair.com/Serta-at-Home-Trinidad-Loveseat-CR-43528PB-XSQ1691.html',\n",
       " u'http://www.wayfair.com/Chelsea-Home-Brittany-Sofa-475440-S-SPEA-WCF2028.html',\n",
       " u'http://www.wayfair.com/Serta-Upholstery-Double-Reclining-Loveseat-XSQ1822.html',\n",
       " u'http://www.wayfair.com/InRoom-Designs-Klik-Klak-Convertible-Sofa-033-S-IRD1223.html',\n",
       " u'http://www.wayfair.com/Elmwood-Reclining-Sofa-603021-CST12470.html',\n",
       " u'http://www.wayfair.com/Simmons-Upholstery-Premier-Loveseat-UFI2644.html',\n",
       " u'http://www.wayfair.com/Wildon-Home-%25C2%25AE-Motion-Reclining-Sofa-761262-CST16808.html',\n",
       " u'http://www.wayfair.com/Navarro-Nailhead-Trim-Sofa-KMDS1947.html',\n",
       " u'http://www.wayfair.com/Avery-Loveseat-1201399-CSTM1649.html',\n",
       " u'http://www.wayfair.com/Abbyson-Living-Beverly-Leather-Sofa-SK-9060-BRN-3-BYV2750.html',\n",
       " u'http://www.wayfair.com/Aubrey-Sofa-SFAB1222.html',\n",
       " u'http://www.wayfair.com/InRoom-Designs-Chenille-Sleeper-Sofa-7251-IRD1242.html']"
      ]
     },
     "execution_count": 314,
     "metadata": {},
     "output_type": "execute_result"
    }
   ],
   "source": [
    "sofa_links"
   ]
  },
  {
   "cell_type": "markdown",
   "metadata": {},
   "source": [
    "# Try putting a dictionary to a DataFrame"
   ]
  },
  {
   "cell_type": "code",
   "execution_count": 103,
   "metadata": {
    "collapsed": false
   },
   "outputs": [
    {
     "data": {
      "text/plain": [
       "[{'category': 'sofa',\n",
       "  'description': 'Modernize your living space with the Signature Design by Ashley Sanford Sofa. This interesting piece of home decor has a rounded track arm and features boxed edge welted seat cushions. Thanks to the sinuous spring seating, this sofa keeps your guests comfortable always. Featuring a sturdy frame made from manufactured wood, this sofa is built to last. It is upholstered in low melt fiber that adds a fashionable touch to the sofa. This Sanford Sofa from Signature Design by Ashley is available in...',\n",
       "  'furniture_ID': 'ETE2432',\n",
       "  'url': 'http://test',\n",
       "  'website': 'wayfair'}]"
      ]
     },
     "execution_count": 103,
     "metadata": {},
     "output_type": "execute_result"
    }
   ],
   "source": [
    "desc = 'Modernize your living space with the Signature Design by Ashley Sanford Sofa. This interesting piece of home decor has a rounded track arm and features boxed edge welted seat cushions. Thanks to the sinuous spring seating, this sofa keeps your guests comfortable always. Featuring a sturdy frame made from manufactured wood, this sofa is built to last. It is upholstered in low melt fiber that adds a fashionable touch to the sofa. This Sanford Sofa from Signature Design by Ashley is available in...'\n",
    "d = {'website': 'wayfair', 'url':'http://test', 'furniture_ID' : 'ETE2432', 'category':'sofa', 'description':desc}\n",
    "d = [d]\n",
    "d"
   ]
  },
  {
   "cell_type": "code",
   "execution_count": 105,
   "metadata": {
    "collapsed": false
   },
   "outputs": [
    {
     "data": {
      "text/html": [
       "<div>\n",
       "<table border=\"1\" class=\"dataframe\">\n",
       "  <thead>\n",
       "    <tr style=\"text-align: right;\">\n",
       "      <th></th>\n",
       "      <th>category</th>\n",
       "      <th>description</th>\n",
       "      <th>furniture_ID</th>\n",
       "      <th>url</th>\n",
       "      <th>website</th>\n",
       "    </tr>\n",
       "  </thead>\n",
       "  <tbody>\n",
       "    <tr>\n",
       "      <th>0</th>\n",
       "      <td>sofa</td>\n",
       "      <td>Modernize your living space with the Signature...</td>\n",
       "      <td>ETE2432</td>\n",
       "      <td>http://test</td>\n",
       "      <td>wayfair</td>\n",
       "    </tr>\n",
       "  </tbody>\n",
       "</table>\n",
       "</div>"
      ],
      "text/plain": [
       "  category                                        description furniture_ID  \\\n",
       "0     sofa  Modernize your living space with the Signature...      ETE2432   \n",
       "\n",
       "           url  website  \n",
       "0  http://test  wayfair  "
      ]
     },
     "execution_count": 105,
     "metadata": {},
     "output_type": "execute_result"
    }
   ],
   "source": [
    "df = pd.DataFrame(d)\n",
    "df"
   ]
  },
  {
   "cell_type": "code",
   "execution_count": 107,
   "metadata": {
    "collapsed": false
   },
   "outputs": [
    {
     "data": {
      "text/plain": [
       "'Modernize your living space with the Signature Design by Ashley Sanford Sofa. This interesting piece of home decor has a rounded track arm and features boxed edge welted seat cushions. Thanks to the sinuous spring seating, this sofa keeps your guests comfortable always. Featuring a sturdy frame made from manufactured wood, this sofa is built to last. It is upholstered in low melt fiber that adds a fashionable touch to the sofa. This Sanford Sofa from Signature Design by Ashley is available in...'"
      ]
     },
     "execution_count": 107,
     "metadata": {},
     "output_type": "execute_result"
    }
   ],
   "source": [
    "df.description[0]"
   ]
  },
  {
   "cell_type": "markdown",
   "metadata": {},
   "source": [
    "# Try scraping each project link:"
   ]
  },
  {
   "cell_type": "code",
   "execution_count": 119,
   "metadata": {
    "collapsed": false
   },
   "outputs": [
    {
     "data": {
      "text/plain": [
       "u'http://www.wayfair.com/Harvest-Sofa-7500-GNT3224.html'"
      ]
     },
     "execution_count": 119,
     "metadata": {},
     "output_type": "execute_result"
    }
   ],
   "source": [
    "link_0 = product_links[0]\n",
    "link_0"
   ]
  },
  {
   "cell_type": "code",
   "execution_count": 120,
   "metadata": {
    "collapsed": true
   },
   "outputs": [],
   "source": [
    "product_dict = {}"
   ]
  },
  {
   "cell_type": "code",
   "execution_count": 259,
   "metadata": {
    "collapsed": true
   },
   "outputs": [],
   "source": [
    "html  = urlopen(link_0)\n",
    "soup = BeautifulSoup(html, 'html.parser')\n",
    "product = soup.findAll('div', {'class':'product_sub_section'})"
   ]
  },
  {
   "cell_type": "code",
   "execution_count": 260,
   "metadata": {
    "collapsed": false,
    "scrolled": true
   },
   "outputs": [
    {
     "name": "stdout",
     "output_type": "stream",
     "text": [
      "\n",
      "Features\n",
      "\n",
      "Harvest collection\n",
      "Material: 100% Polyester fabric\n",
      "Contemporary style\n",
      "Medium brown block style leg\n",
      "Attached back cushions featuring stress welting to ensure lasting shape and comfort\n",
      "Stylish padded swoop arms featuring stress welting to ensure lasting shape and comfort\n",
      "Manufactured wood frame structure for lasting comfort and durability\n",
      "Sinuous spring seating provides lasting comfort and durability\n",
      "Low melt fiber wrapped over high quality foam\n",
      "Easy to clean and durable\n",
      "Assembled in the United States with global components\n",
      "Base is quite firm.\n",
      "Can be spot cleaned by water based products\n",
      "Back cushion are removable\n",
      "Legs material :Hard plastic\n",
      "1 Year\n",
      "\n",
      "\n"
     ]
    }
   ],
   "source": [
    "print product[0].text"
   ]
  },
  {
   "cell_type": "code",
   "execution_count": 269,
   "metadata": {
    "collapsed": false
   },
   "outputs": [
    {
     "data": {
      "text/plain": [
       "u'Add a touch of comfort and style to your home with the Signature Design by Ashley Harvest Sofa. This interesting piece of home decor is manufactured in the Unites States, so you can be rest assured of its quality and make. Thanks to the sinuous spring seating, this sofa keeps your guests comfortable always. Featuring a sturdy frame made from manufactured wood, this sofa is built to last. It is upholstered in 100% polyester fabric that adds a fashionable touch to the sofa. This Harvest Sofa from Signature Design by Ashley is available in various colors, helping you choose the perfect one for your home without much hassle. Complete the sofa with a pair of toss pillows for a wholesome look. '"
      ]
     },
     "execution_count": 269,
     "metadata": {},
     "output_type": "execute_result"
    }
   ],
   "source": [
    "soup.find('p', {'class':'product_section_description'}).text"
   ]
  },
  {
   "cell_type": "code",
   "execution_count": 270,
   "metadata": {
    "collapsed": false
   },
   "outputs": [
    {
     "data": {
      "text/plain": [
       "[u'\\nFeatures\\n\\nHarvest collection\\nMaterial: 100% Polyester fabric\\nContemporary style\\nMedium brown block style leg\\nAttached back cushions featuring stress welting to ensure lasting shape and comfort\\nStylish padded swoop arms featuring stress welting to ensure lasting shape and comfort\\nManufactured wood frame structure for lasting comfort and durability\\nSinuous spring seating provides lasting comfort and durability\\nLow melt fiber wrapped over high quality foam\\nEasy to clean and durable\\nAssembled in the United States with global components\\nBase is quite firm.\\nCan be spot cleaned by water based products\\nBack cushion are removable\\nLegs material :Hard plastic\\n1 Year\\n\\n',\n",
       " u'\\nProduct Details\\n\\nDesign:  Standard\\n\\n\\nUpholstery Material:  Other\\n\\n\\nAssembly Required:  Yes\\n\\n']"
      ]
     },
     "execution_count": 270,
     "metadata": {},
     "output_type": "execute_result"
    }
   ],
   "source": [
    "features = soup.findAll('div', {'class':'product_sub_section'})\n",
    "[x.text for x in features]"
   ]
  },
  {
   "cell_type": "code",
   "execution_count": 273,
   "metadata": {
    "collapsed": false
   },
   "outputs": [
    {
     "data": {
      "text/plain": [
       "u'\\nWeights & Dimensions\\n\\n\\n\\n            Overall:  40\" H x 90\" W x 39\" D\\n          \\n\\n              Seat cushion: 8\" thick \\n          \\n\\n              Seating area: 62\" W\\n          \\n\\n            Overall Product Weight:  126.2lbs\\n          \\n\\n'"
      ]
     },
     "execution_count": 273,
     "metadata": {},
     "output_type": "execute_result"
    }
   ],
   "source": [
    "soup.find('div', {'class':'spec_dimensions'}).text"
   ]
  },
  {
   "cell_type": "code",
   "execution_count": 143,
   "metadata": {
    "collapsed": false
   },
   "outputs": [
    {
     "data": {
      "text/plain": [
       "u'$357.99'"
      ]
     },
     "execution_count": 143,
     "metadata": {},
     "output_type": "execute_result"
    }
   ],
   "source": [
    "price = soup.find('div', {'class':'dynamic_sku_price'}).text.strip()\n",
    "price"
   ]
  },
  {
   "cell_type": "code",
   "execution_count": 144,
   "metadata": {
    "collapsed": false
   },
   "outputs": [
    {
     "data": {
      "text/plain": [
       "u'Harvest Sofa'"
      ]
     },
     "execution_count": 144,
     "metadata": {},
     "output_type": "execute_result"
    }
   ],
   "source": [
    "title = soup.find('span', {'class':'title_name'}).text.strip()\n",
    "title"
   ]
  },
  {
   "cell_type": "code",
   "execution_count": 152,
   "metadata": {
    "collapsed": false
   },
   "outputs": [
    {
     "data": {
      "text/plain": [
       "u'Signature Design by Ashley'"
      ]
     },
     "execution_count": 152,
     "metadata": {},
     "output_type": "execute_result"
    }
   ],
   "source": [
    "manufacturer = soup.find('span', {'class':'manu_name'}).text.strip().lstrip('by').strip()\n",
    "manufacturer"
   ]
  },
  {
   "cell_type": "code",
   "execution_count": 186,
   "metadata": {
    "collapsed": false
   },
   "outputs": [
    {
     "data": {
      "text/plain": [
       "u' GNT3224'"
      ]
     },
     "execution_count": 186,
     "metadata": {},
     "output_type": "execute_result"
    }
   ],
   "source": [
    "product_id = soup.find('span', {'class': 'product_breadcrumb'}).text.split(':')[1]\n",
    "product_id"
   ]
  },
  {
   "cell_type": "code",
   "execution_count": 189,
   "metadata": {
    "collapsed": false
   },
   "outputs": [
    {
     "data": {
      "text/plain": [
       "u'4.4'"
      ]
     },
     "execution_count": 189,
     "metadata": {},
     "output_type": "execute_result"
    }
   ],
   "source": [
    "rating_avg = soup.find('span', {'class': 'rating_value'}).text\n",
    "rating_avg"
   ]
  },
  {
   "cell_type": "code",
   "execution_count": 274,
   "metadata": {
    "collapsed": false
   },
   "outputs": [
    {
     "data": {
      "text/plain": [
       "u'115'"
      ]
     },
     "execution_count": 274,
     "metadata": {},
     "output_type": "execute_result"
    }
   ],
   "source": [
    "rating_count = soup.find('span', {'itemprop':\"reviewCount\"}).text\n",
    "rating_count"
   ]
  },
  {
   "cell_type": "code",
   "execution_count": 159,
   "metadata": {
    "collapsed": false
   },
   "outputs": [
    {
     "data": {
      "text/plain": [
       "u'https://secure.img2.wfrcdn.com/lf/49/hash/2668/18120165/1/Harvest-Sofa-7500.jpg'"
      ]
     },
     "execution_count": 159,
     "metadata": {},
     "output_type": "execute_result"
    }
   ],
   "source": [
    "soup.find('div', {'class': 'js-slider-container car_slider'}).find('img')['src']"
   ]
  },
  {
   "cell_type": "code",
   "execution_count": 161,
   "metadata": {
    "collapsed": false
   },
   "outputs": [
    {
     "data": {
      "text/plain": [
       "u'https://secure.img2.wfrcdn.com/lf/49/hash/2668/18120165/1/Harvest-Sofa-7500.jpg'"
      ]
     },
     "execution_count": 161,
     "metadata": {},
     "output_type": "execute_result"
    }
   ],
   "source": [
    "soup.find('a', {'class': 'photoswipe_link'}).find('img')['src']"
   ]
  },
  {
   "cell_type": "code",
   "execution_count": 231,
   "metadata": {
    "collapsed": true
   },
   "outputs": [],
   "source": [
    "link_2='http://www.wayfair.com/Harvest-Sofa-7500-GNT3224.html?piid[]=11255825'\n",
    "html2  = urlopen(link_2)\n",
    "soup2 = BeautifulSoup(html2, 'html.parser')"
   ]
  },
  {
   "cell_type": "code",
   "execution_count": 233,
   "metadata": {
    "collapsed": false
   },
   "outputs": [
    {
     "data": {
      "text/plain": [
       "[u'https://secure.img2.wfrcdn.com/lf/49/hash/2668/18120165/1/Harvest-Sofa-7500.jpg',\n",
       " u'https://secure.img2.wfrcdn.com/lf/49/hash/2668/10651335/1/Harvest-Sofa-7500.jpg',\n",
       " u'https://secure.img1.wfrcdn.com/lf/49/hash/2668/18120162/1/Harvest-Sofa-7500.jpg',\n",
       " u'https://secure.img2.wfrcdn.com/lf/49/hash/2668/14097665/1/Harvest%2BSofa.jpg',\n",
       " u'https://secure.img1.wfrcdn.com/lf/49/hash/2668/18150158/1/Harvest-Sofa-7500.jpg']"
      ]
     },
     "execution_count": 233,
     "metadata": {},
     "output_type": "execute_result"
    }
   ],
   "source": [
    "imgs = soup2.findAll('a', {'class': 'photoswipe_link'})\n",
    "[x['data-original-src'] for x in imgs]"
   ]
  },
  {
   "cell_type": "code",
   "execution_count": 278,
   "metadata": {
    "collapsed": true
   },
   "outputs": [],
   "source": [
    "color_info = soup.findAll('a', {'class': 'js-visual-option'})"
   ]
  },
  {
   "cell_type": "code",
   "execution_count": 279,
   "metadata": {
    "collapsed": false
   },
   "outputs": [
    {
     "data": {
      "text/plain": [
       "[u'?piid[]=11255825',\n",
       " u'?piid[]=11255824',\n",
       " u'?piid[]=11255822',\n",
       " u'?piid[]=11255823',\n",
       " u'?piid[]=11255821',\n",
       " u'?piid[]=11255826']"
      ]
     },
     "execution_count": 279,
     "metadata": {},
     "output_type": "execute_result"
    }
   ],
   "source": [
    "[x['href'] for x in color_info]"
   ]
  },
  {
   "cell_type": "code",
   "execution_count": 280,
   "metadata": {
    "collapsed": false
   },
   "outputs": [
    {
     "data": {
      "text/plain": [
       "[u'Cobblestone', u'Caf\\xe9', u'Mocha', u'Sage', u'Salsa', u'Stone']"
      ]
     },
     "execution_count": 280,
     "metadata": {},
     "output_type": "execute_result"
    }
   ],
   "source": [
    "[x['data-name'] for x in color_info]"
   ]
  },
  {
   "cell_type": "code",
   "execution_count": 234,
   "metadata": {
    "collapsed": false
   },
   "outputs": [
    {
     "name": "stdout",
     "output_type": "stream",
     "text": [
      "http://www.wayfair.com/Derry-Sofa-THRE1490-THRE1490.html\n"
     ]
    }
   ],
   "source": [
    "link_1 = product_links[1]\n",
    "print link_1\n",
    "html1  = urlopen(link_1)\n",
    "soup1 = BeautifulSoup(html1, 'html.parser')"
   ]
  },
  {
   "cell_type": "code",
   "execution_count": 277,
   "metadata": {
    "collapsed": false
   },
   "outputs": [
    {
     "data": {
      "text/plain": [
       "[u'https://secure.img2.wfrcdn.com/lf/49/hash/2668/18120165/1/Harvest-Sofa-7500.jpg',\n",
       " u'https://secure.img2.wfrcdn.com/lf/49/hash/2668/10651335/1/Harvest-Sofa-7500.jpg',\n",
       " u'https://secure.img1.wfrcdn.com/lf/49/hash/2668/18120162/1/Harvest-Sofa-7500.jpg',\n",
       " u'https://secure.img2.wfrcdn.com/lf/49/hash/2668/14097665/1/Harvest%2BSofa.jpg',\n",
       " u'https://secure.img1.wfrcdn.com/lf/49/hash/2668/18150158/1/Harvest-Sofa-7500.jpg']"
      ]
     },
     "execution_count": 277,
     "metadata": {},
     "output_type": "execute_result"
    }
   ],
   "source": [
    "imgs = soup2.findAll('a', {'class': 'photoswipe_link'})\n",
    "[x['data-original-src'] for x in imgs]"
   ]
  },
  {
   "cell_type": "code",
   "execution_count": 281,
   "metadata": {
    "collapsed": false
   },
   "outputs": [
    {
     "data": {
      "text/plain": [
       "[]"
      ]
     },
     "execution_count": 281,
     "metadata": {},
     "output_type": "execute_result"
    }
   ],
   "source": [
    "color_info = soup1.findAll('a', {'class': 'js-visual-option'})\n",
    "[x['data-name'] for x in color_info]"
   ]
  },
  {
   "cell_type": "markdown",
   "metadata": {},
   "source": [
    "# Write scrapping function!"
   ]
  },
  {
   "cell_type": "markdown",
   "metadata": {},
   "source": [
    "Y - product_id\n",
    "Y - website\n",
    "Y - category\n",
    "Y - url link\n",
    "Y - title\n",
    "Y - price\n",
    "\n",
    "Y - description\n",
    "Y - features\n",
    "Y - specs\n",
    "\n",
    "Y - manufacturer\n",
    "Y - rating_avg\n",
    "Y - rating_count\n",
    "\n",
    "Y - image links (all & by color)\n"
   ]
  },
  {
   "cell_type": "code",
   "execution_count": 488,
   "metadata": {
    "collapsed": false
   },
   "outputs": [],
   "source": [
    "def wayfair_product_info_scrapper(link, category_input):\n",
    "    '''\n",
    "    INPUT: \n",
    "    * product url link \n",
    "    * category\n",
    "    \n",
    "    OUTPUT:\n",
    "    A product info dictionary with the following keys:\n",
    "    * product_id\n",
    "    * website\n",
    "    * category\n",
    "    * url\n",
    "    * title\n",
    "    * price\n",
    "    * colors\n",
    "\n",
    "    * description\n",
    "    * features\n",
    "    * specs\n",
    "    \n",
    "    * manufacturer\n",
    "    * rating_avg\n",
    "    * rating_count\n",
    "\n",
    "    * image_links_all\n",
    "    * image_links_by_color\n",
    "    \n",
    "    '''\n",
    "\n",
    "    html  = urlopen(link, timeout=100)\n",
    "    \n",
    "#     import requests\n",
    "#     html = requests.get(link, timeout=100)\n",
    "    soup = BeautifulSoup(html, 'html.parser')\n",
    "    \n",
    "    product_id = soup.find('span', {'class': 'product_breadcrumb'}).text.split(':')[1]\n",
    "    website = 'wayfair'\n",
    "    category = category_input\n",
    "    url = link\n",
    "    title = soup.find('span', {'class':'title_name'}).text.strip()\n",
    "    price = soup.find('div', {'class':'dynamic_sku_price'}).text.strip()\n",
    "    color_info = soup.findAll('a', {'class': 'js-visual-option'})\n",
    "    colors = [x['data-name'] for x in color_info]\n",
    "    \n",
    "    features_info = soup.findAll('div', {'class':'product_sub_section'})\n",
    "    features = [x.text for x in features_info]\n",
    "       \n",
    "    manufacturer = soup.find('span', {'class':'manu_name'}).text.strip().lstrip('by').strip() \n",
    "    \n",
    "    if soup.find('p', {'class':'product_section_description'}) != None:\n",
    "        description = soup.find('p', {'class':'product_section_description'}).text\n",
    "    else:\n",
    "        description = None\n",
    "        \n",
    "    if soup.find('span', {'class': 'rating_value'}) != None:\n",
    "        rating_avg = soup.find('span', {'class': 'rating_value'}).text\n",
    "    else:\n",
    "        rating_avg = None\n",
    "    \n",
    "    if soup.find('span', {'itemprop':\"reviewCount\"}) != None:\n",
    "        rating_count = soup.find('span', {'itemprop':\"reviewCount\"}).text\n",
    "    else:\n",
    "        rating_count = None\n",
    "    \n",
    "    if soup.find('div', {'class':'spec_dimensions'}) != None:\n",
    "        specs = soup.find('div', {'class':'spec_dimensions'}).text\n",
    "    else:\n",
    "        specs = None\n",
    "     \n",
    "    image_links_all = []\n",
    "    image_links_by_color = {}\n",
    "    \n",
    "    image_info = soup.findAll('a', {'class': 'photoswipe_link'})\n",
    "    image_links = [x['data-original-src'] for x in image_info]\n",
    "    \n",
    "    \n",
    "    image_links_all = image_links\n",
    "    if len(colors) != 0:\n",
    "        color_links = [x['href'] for x in color_info]\n",
    "        for i, color_link in enumerate(color_links):\n",
    "            color_key = colors[i]\n",
    "            link_color = link + color_link\n",
    "            html_color  = urlopen(link_color, timeout=100)\n",
    "            soup_color = BeautifulSoup(html_color, 'html.parser')\n",
    "            image_info_color = soup_color.findAll('a', {'class': 'photoswipe_link'})\n",
    "            image_links_color = [x['data-original-src'] for x in image_info_color]\n",
    "            image_links_by_color[color_key] = image_links_color\n",
    "            image_links_all.extend(image_links_color)\n",
    "            \n",
    "    image_links_all = list(set(image_links_all))\n",
    "    \n",
    "    product_info_dict = {}\n",
    "    product_info_dict['product_id'] = product_id\n",
    "    product_info_dict['website'] = website\n",
    "    product_info_dict['category'] = category\n",
    "    product_info_dict['url'] = url\n",
    "    product_info_dict['title'] = title\n",
    "    product_info_dict['price'] = price\n",
    "    product_info_dict['colors'] = colors\n",
    "    \n",
    "    product_info_dict['description'] = description\n",
    "    product_info_dict['features'] = features\n",
    "    product_info_dict['specs'] = specs\n",
    "    product_info_dict['manufacturer'] = manufacturer\n",
    "    product_info_dict['rating_avg'] = rating_avg\n",
    "    product_info_dict['rating_count'] = rating_count\n",
    "    \n",
    "\n",
    "    product_info_dict['image_links_all'] = image_links_all\n",
    "    product_info_dict['image_links_by_color'] = image_links_by_color\n",
    "    \n",
    "    sleep(random.random())\n",
    "    return product_info_dict"
   ]
  },
  {
   "cell_type": "markdown",
   "metadata": {},
   "source": [
    "# Start scrapping sofa info! Data are put into sofa_df."
   ]
  },
  {
   "cell_type": "code",
   "execution_count": 315,
   "metadata": {
    "collapsed": false
   },
   "outputs": [
    {
     "data": {
      "text/plain": [
       "u'http://www.wayfair.com/Harvest-Sofa-7500-GNT3224.html'"
      ]
     },
     "execution_count": 315,
     "metadata": {},
     "output_type": "execute_result"
    }
   ],
   "source": [
    "link_0 = sofa_links[0]\n",
    "link_0"
   ]
  },
  {
   "cell_type": "code",
   "execution_count": 337,
   "metadata": {
    "collapsed": false
   },
   "outputs": [],
   "source": [
    "dict_0 = wayfair_product_info_scrapper(link_0, category_input= 'sofa')"
   ]
  },
  {
   "cell_type": "code",
   "execution_count": 338,
   "metadata": {
    "collapsed": false
   },
   "outputs": [],
   "source": [
    "sofa_df = pd.DataFrame([dict_0], index=[0])"
   ]
  },
  {
   "cell_type": "code",
   "execution_count": 339,
   "metadata": {
    "collapsed": false
   },
   "outputs": [
    {
     "data": {
      "text/html": [
       "<div>\n",
       "<table border=\"1\" class=\"dataframe\">\n",
       "  <thead>\n",
       "    <tr style=\"text-align: right;\">\n",
       "      <th></th>\n",
       "      <th>category</th>\n",
       "      <th>colors</th>\n",
       "      <th>description</th>\n",
       "      <th>features</th>\n",
       "      <th>image_links_all</th>\n",
       "      <th>image_links_by_color</th>\n",
       "      <th>manufacturer</th>\n",
       "      <th>price</th>\n",
       "      <th>product_id</th>\n",
       "      <th>rating_avg</th>\n",
       "      <th>rating_count</th>\n",
       "      <th>specs</th>\n",
       "      <th>title</th>\n",
       "      <th>url</th>\n",
       "      <th>website</th>\n",
       "    </tr>\n",
       "  </thead>\n",
       "  <tbody>\n",
       "    <tr>\n",
       "      <th>0</th>\n",
       "      <td>sofa</td>\n",
       "      <td>[Cobblestone, Café, Mocha, Sage, Salsa, Stone]</td>\n",
       "      <td>Add a touch of comfort and style to your home ...</td>\n",
       "      <td>[\\nFeatures\\n\\nHarvest collection\\nMaterial: 1...</td>\n",
       "      <td>[https://secure.img2.wfrcdn.com/lf/49/hash/266...</td>\n",
       "      <td>{u'Stone': [u'https://secure.img2.wfrcdn.com/l...</td>\n",
       "      <td>Signature Design by Ashley</td>\n",
       "      <td>$357.99</td>\n",
       "      <td>GNT3224</td>\n",
       "      <td>4.4</td>\n",
       "      <td>115</td>\n",
       "      <td>\\nWeights &amp; Dimensions\\n\\n\\n\\n            Over...</td>\n",
       "      <td>Harvest Sofa</td>\n",
       "      <td>http://www.wayfair.com/Harvest-Sofa-7500-GNT32...</td>\n",
       "      <td>wayfair</td>\n",
       "    </tr>\n",
       "  </tbody>\n",
       "</table>\n",
       "</div>"
      ],
      "text/plain": [
       "  category                                          colors  \\\n",
       "0     sofa  [Cobblestone, Café, Mocha, Sage, Salsa, Stone]   \n",
       "\n",
       "                                         description  \\\n",
       "0  Add a touch of comfort and style to your home ...   \n",
       "\n",
       "                                            features  \\\n",
       "0  [\\nFeatures\\n\\nHarvest collection\\nMaterial: 1...   \n",
       "\n",
       "                                     image_links_all  \\\n",
       "0  [https://secure.img2.wfrcdn.com/lf/49/hash/266...   \n",
       "\n",
       "                                image_links_by_color  \\\n",
       "0  {u'Stone': [u'https://secure.img2.wfrcdn.com/l...   \n",
       "\n",
       "                 manufacturer    price product_id rating_avg rating_count  \\\n",
       "0  Signature Design by Ashley  $357.99    GNT3224        4.4          115   \n",
       "\n",
       "                                               specs         title  \\\n",
       "0  \\nWeights & Dimensions\\n\\n\\n\\n            Over...  Harvest Sofa   \n",
       "\n",
       "                                                 url  website  \n",
       "0  http://www.wayfair.com/Harvest-Sofa-7500-GNT32...  wayfair  "
      ]
     },
     "execution_count": 339,
     "metadata": {},
     "output_type": "execute_result"
    }
   ],
   "source": [
    "sofa_df"
   ]
  },
  {
   "cell_type": "code",
   "execution_count": 316,
   "metadata": {
    "collapsed": false
   },
   "outputs": [
    {
     "data": {
      "text/plain": [
       "480"
      ]
     },
     "execution_count": 316,
     "metadata": {},
     "output_type": "execute_result"
    }
   ],
   "source": [
    "len(sofa_links)"
   ]
  },
  {
   "cell_type": "code",
   "execution_count": 340,
   "metadata": {
    "collapsed": false
   },
   "outputs": [
    {
     "ename": "AttributeError",
     "evalue": "'NoneType' object has no attribute 'text'",
     "output_type": "error",
     "traceback": [
      "\u001b[0;31m---------------------------------------------------------------------------\u001b[0m",
      "\u001b[0;31mAttributeError\u001b[0m                            Traceback (most recent call last)",
      "\u001b[0;32m<ipython-input-340-d9cedcd4af4a>\u001b[0m in \u001b[0;36m<module>\u001b[0;34m()\u001b[0m\n\u001b[1;32m      1\u001b[0m \u001b[0mi\u001b[0m \u001b[0;34m=\u001b[0m \u001b[0;36m1\u001b[0m\u001b[0;34m\u001b[0m\u001b[0m\n\u001b[1;32m      2\u001b[0m \u001b[0;32mfor\u001b[0m \u001b[0mlink\u001b[0m \u001b[0;32min\u001b[0m \u001b[0msofa_links\u001b[0m\u001b[0;34m[\u001b[0m\u001b[0;36m1\u001b[0m\u001b[0;34m:\u001b[0m\u001b[0;34m]\u001b[0m\u001b[0;34m:\u001b[0m\u001b[0;34m\u001b[0m\u001b[0m\n\u001b[0;32m----> 3\u001b[0;31m     \u001b[0mproduct_dict\u001b[0m \u001b[0;34m=\u001b[0m \u001b[0mwayfair_product_info_scrapper\u001b[0m\u001b[0;34m(\u001b[0m\u001b[0mlink\u001b[0m\u001b[0;34m,\u001b[0m \u001b[0mcategory_input\u001b[0m\u001b[0;34m=\u001b[0m\u001b[0;34m'sofa'\u001b[0m\u001b[0;34m)\u001b[0m\u001b[0;34m\u001b[0m\u001b[0m\n\u001b[0m\u001b[1;32m      4\u001b[0m     \u001b[0mdf_product\u001b[0m \u001b[0;34m=\u001b[0m \u001b[0mpd\u001b[0m\u001b[0;34m.\u001b[0m\u001b[0mDataFrame\u001b[0m\u001b[0;34m(\u001b[0m\u001b[0;34m[\u001b[0m\u001b[0mproduct_dict\u001b[0m\u001b[0;34m]\u001b[0m\u001b[0;34m,\u001b[0m \u001b[0mindex\u001b[0m\u001b[0;34m=\u001b[0m\u001b[0;34m[\u001b[0m\u001b[0mi\u001b[0m\u001b[0;34m]\u001b[0m\u001b[0;34m)\u001b[0m\u001b[0;34m\u001b[0m\u001b[0m\n\u001b[1;32m      5\u001b[0m     \u001b[0msofa_df\u001b[0m \u001b[0;34m=\u001b[0m \u001b[0mpd\u001b[0m\u001b[0;34m.\u001b[0m\u001b[0mconcat\u001b[0m\u001b[0;34m(\u001b[0m\u001b[0;34m[\u001b[0m\u001b[0msofa_df\u001b[0m\u001b[0;34m,\u001b[0m \u001b[0mdf_product\u001b[0m\u001b[0;34m]\u001b[0m\u001b[0;34m,\u001b[0m \u001b[0maxis\u001b[0m\u001b[0;34m=\u001b[0m\u001b[0;36m0\u001b[0m\u001b[0;34m)\u001b[0m\u001b[0;34m\u001b[0m\u001b[0m\n",
      "\u001b[0;32m<ipython-input-306-aaaa35b88975>\u001b[0m in \u001b[0;36mwayfair_product_info_scrapper\u001b[0;34m(link, category_input)\u001b[0m\n\u001b[1;32m     40\u001b[0m     \u001b[0mcolors\u001b[0m \u001b[0;34m=\u001b[0m \u001b[0;34m[\u001b[0m\u001b[0mx\u001b[0m\u001b[0;34m[\u001b[0m\u001b[0;34m'data-name'\u001b[0m\u001b[0;34m]\u001b[0m \u001b[0;32mfor\u001b[0m \u001b[0mx\u001b[0m \u001b[0;32min\u001b[0m \u001b[0mcolor_info\u001b[0m\u001b[0;34m]\u001b[0m\u001b[0;34m\u001b[0m\u001b[0m\n\u001b[1;32m     41\u001b[0m \u001b[0;34m\u001b[0m\u001b[0m\n\u001b[0;32m---> 42\u001b[0;31m     \u001b[0mdescription\u001b[0m \u001b[0;34m=\u001b[0m \u001b[0msoup\u001b[0m\u001b[0;34m.\u001b[0m\u001b[0mfind\u001b[0m\u001b[0;34m(\u001b[0m\u001b[0;34m'p'\u001b[0m\u001b[0;34m,\u001b[0m \u001b[0;34m{\u001b[0m\u001b[0;34m'class'\u001b[0m\u001b[0;34m:\u001b[0m\u001b[0;34m'product_section_description'\u001b[0m\u001b[0;34m}\u001b[0m\u001b[0;34m)\u001b[0m\u001b[0;34m.\u001b[0m\u001b[0mtext\u001b[0m\u001b[0;34m\u001b[0m\u001b[0m\n\u001b[0m\u001b[1;32m     43\u001b[0m     \u001b[0mfeatures_info\u001b[0m \u001b[0;34m=\u001b[0m \u001b[0msoup\u001b[0m\u001b[0;34m.\u001b[0m\u001b[0mfindAll\u001b[0m\u001b[0;34m(\u001b[0m\u001b[0;34m'div'\u001b[0m\u001b[0;34m,\u001b[0m \u001b[0;34m{\u001b[0m\u001b[0;34m'class'\u001b[0m\u001b[0;34m:\u001b[0m\u001b[0;34m'product_sub_section'\u001b[0m\u001b[0;34m}\u001b[0m\u001b[0;34m)\u001b[0m\u001b[0;34m\u001b[0m\u001b[0m\n\u001b[1;32m     44\u001b[0m     \u001b[0mfeatures\u001b[0m \u001b[0;34m=\u001b[0m \u001b[0;34m[\u001b[0m\u001b[0mx\u001b[0m\u001b[0;34m.\u001b[0m\u001b[0mtext\u001b[0m \u001b[0;32mfor\u001b[0m \u001b[0mx\u001b[0m \u001b[0;32min\u001b[0m \u001b[0mfeatures_info\u001b[0m\u001b[0;34m]\u001b[0m\u001b[0;34m\u001b[0m\u001b[0m\n",
      "\u001b[0;31mAttributeError\u001b[0m: 'NoneType' object has no attribute 'text'"
     ]
    }
   ],
   "source": [
    "i = 1\n",
    "for link in sofa_links[1:]:\n",
    "    product_dict = wayfair_product_info_scrapper(link, category_input='sofa')\n",
    "    df_product = pd.DataFrame([product_dict], index=[i])\n",
    "    sofa_df = pd.concat([sofa_df, df_product], axis=0)\n",
    "    i += 1"
   ]
  },
  {
   "cell_type": "code",
   "execution_count": 341,
   "metadata": {
    "collapsed": false
   },
   "outputs": [
    {
     "name": "stdout",
     "output_type": "stream",
     "text": [
      "<class 'pandas.core.frame.DataFrame'>\n",
      "Int64Index: 21 entries, 0 to 20\n",
      "Data columns (total 15 columns):\n",
      "category                21 non-null object\n",
      "colors                  21 non-null object\n",
      "description             21 non-null object\n",
      "features                21 non-null object\n",
      "image_links_all         21 non-null object\n",
      "image_links_by_color    21 non-null object\n",
      "manufacturer            21 non-null object\n",
      "price                   21 non-null object\n",
      "product_id              21 non-null object\n",
      "rating_avg              15 non-null object\n",
      "rating_count            15 non-null object\n",
      "specs                   21 non-null object\n",
      "title                   21 non-null object\n",
      "url                     21 non-null object\n",
      "website                 21 non-null object\n",
      "dtypes: object(15)\n",
      "memory usage: 2.6+ KB\n"
     ]
    }
   ],
   "source": [
    "sofa_df.info()"
   ]
  },
  {
   "cell_type": "code",
   "execution_count": 344,
   "metadata": {
    "collapsed": false
   },
   "outputs": [
    {
     "data": {
      "text/html": [
       "<div>\n",
       "<table border=\"1\" class=\"dataframe\">\n",
       "  <thead>\n",
       "    <tr style=\"text-align: right;\">\n",
       "      <th></th>\n",
       "      <th>category</th>\n",
       "      <th>colors</th>\n",
       "      <th>description</th>\n",
       "      <th>features</th>\n",
       "      <th>image_links_all</th>\n",
       "      <th>image_links_by_color</th>\n",
       "      <th>manufacturer</th>\n",
       "      <th>price</th>\n",
       "      <th>product_id</th>\n",
       "      <th>rating_avg</th>\n",
       "      <th>rating_count</th>\n",
       "      <th>specs</th>\n",
       "      <th>title</th>\n",
       "      <th>url</th>\n",
       "      <th>website</th>\n",
       "    </tr>\n",
       "  </thead>\n",
       "  <tbody>\n",
       "    <tr>\n",
       "      <th>16</th>\n",
       "      <td>sofa</td>\n",
       "      <td>[Sky Blue, Dark Chocolate]</td>\n",
       "      <td>Give your living room furniture a contemporary...</td>\n",
       "      <td>[\\nFeatures\\n\\nLoose back and seat cushions\\nH...</td>\n",
       "      <td>[https://secure.img1.wfrcdn.com/lf/49/hash/305...</td>\n",
       "      <td>{u'Sky Blue': [u'https://secure.img1.wfrcdn.co...</td>\n",
       "      <td>Zipcode Design</td>\n",
       "      <td>$349.99</td>\n",
       "      <td>ZIPC1540</td>\n",
       "      <td>3.5</td>\n",
       "      <td>8</td>\n",
       "      <td>\\nWeights &amp; Dimensions\\n\\n\\n\\n            Over...</td>\n",
       "      <td>Gracie Sofa</td>\n",
       "      <td>http://www.wayfair.com/Gracie-Sofa-ZIPC1540-ZI...</td>\n",
       "      <td>wayfair</td>\n",
       "    </tr>\n",
       "    <tr>\n",
       "      <th>17</th>\n",
       "      <td>sofa</td>\n",
       "      <td>[Graham Cream / Graffiti Nightlight, Graham Bl...</td>\n",
       "      <td>Lounge in style with the Aries Sofa. Its track...</td>\n",
       "      <td>[\\nFeatures\\n\\nReinforced hardwood frame\\nDura...</td>\n",
       "      <td>[https://secure.img2.wfrcdn.com/lf/49/hash/338...</td>\n",
       "      <td>{u'Graham Black / Graffiti Nightlight': [u'htt...</td>\n",
       "      <td>Mercury Row</td>\n",
       "      <td>$361.99</td>\n",
       "      <td>MCRR1218</td>\n",
       "      <td>4.1</td>\n",
       "      <td>84</td>\n",
       "      <td>\\nWeights &amp; Dimensions\\n\\n\\n\\n            Over...</td>\n",
       "      <td>Aries Sofa by Serta Upholstery</td>\n",
       "      <td>http://www.wayfair.com/Aries-Sofa-by-Serta-Uph...</td>\n",
       "      <td>wayfair</td>\n",
       "    </tr>\n",
       "    <tr>\n",
       "      <th>18</th>\n",
       "      <td>sofa</td>\n",
       "      <td>[]</td>\n",
       "      <td>An ideal option to keep in your living room, t...</td>\n",
       "      <td>[\\nFeatures\\n\\nMaterial: Polyester\\nStyle: Con...</td>\n",
       "      <td>[https://secure.img2.wfrcdn.com/lf/49/hash/251...</td>\n",
       "      <td>{}</td>\n",
       "      <td>Serta at Home</td>\n",
       "      <td>$364.99</td>\n",
       "      <td>XSQ1695</td>\n",
       "      <td>4.1</td>\n",
       "      <td>152</td>\n",
       "      <td>\\nWeights &amp; Dimensions\\nSeat Cushion\\n\\n\\n    ...</td>\n",
       "      <td>Copenhagen Sofa</td>\n",
       "      <td>http://www.wayfair.com/Serta-at-Home-Copenhage...</td>\n",
       "      <td>wayfair</td>\n",
       "    </tr>\n",
       "    <tr>\n",
       "      <th>19</th>\n",
       "      <td>sofa</td>\n",
       "      <td>[Keynote Ivory / Katy Mocha / Keynote Chocolat...</td>\n",
       "      <td>A timeless classic, this sofa will add gracefu...</td>\n",
       "      <td>[\\nFeatures\\n\\nExclusively ours\\nCushions are ...</td>\n",
       "      <td>[https://secure.img2.wfrcdn.com/lf/49/hash/309...</td>\n",
       "      <td>{u'Keynote Ivory / Katy Mocha / Keynote Chocol...</td>\n",
       "      <td>Three Posts</td>\n",
       "      <td>$401.99</td>\n",
       "      <td>THRE1317</td>\n",
       "      <td>4.5</td>\n",
       "      <td>94</td>\n",
       "      <td>\\nWeights &amp; Dimensions\\n\\n\\n\\n            Over...</td>\n",
       "      <td>Caroll Sofa by Serta Upholstery</td>\n",
       "      <td>http://www.wayfair.com/Caroll-Sofa-by-Serta-Up...</td>\n",
       "      <td>wayfair</td>\n",
       "    </tr>\n",
       "    <tr>\n",
       "      <th>20</th>\n",
       "      <td>sofa</td>\n",
       "      <td>[]</td>\n",
       "      <td>For more than 75 years, Serta has been an indu...</td>\n",
       "      <td>[\\nFeatures\\n\\nMaterial: Polyester\\nStyle: Con...</td>\n",
       "      <td>[https://secure.img2.wfrcdn.com/lf/49/hash/251...</td>\n",
       "      <td>{}</td>\n",
       "      <td>Serta at Home</td>\n",
       "      <td>$355.99</td>\n",
       "      <td>XSQ1687</td>\n",
       "      <td>4.4</td>\n",
       "      <td>177</td>\n",
       "      <td>\\nWeights &amp; Dimensions\\nSeat Cushion\\n\\n\\n    ...</td>\n",
       "      <td>Santa Cruz Sofa</td>\n",
       "      <td>http://www.wayfair.com/Serta-at-Home-Santa-Cru...</td>\n",
       "      <td>wayfair</td>\n",
       "    </tr>\n",
       "  </tbody>\n",
       "</table>\n",
       "</div>"
      ],
      "text/plain": [
       "   category                                             colors  \\\n",
       "16     sofa                         [Sky Blue, Dark Chocolate]   \n",
       "17     sofa  [Graham Cream / Graffiti Nightlight, Graham Bl...   \n",
       "18     sofa                                                 []   \n",
       "19     sofa  [Keynote Ivory / Katy Mocha / Keynote Chocolat...   \n",
       "20     sofa                                                 []   \n",
       "\n",
       "                                          description  \\\n",
       "16  Give your living room furniture a contemporary...   \n",
       "17  Lounge in style with the Aries Sofa. Its track...   \n",
       "18  An ideal option to keep in your living room, t...   \n",
       "19  A timeless classic, this sofa will add gracefu...   \n",
       "20  For more than 75 years, Serta has been an indu...   \n",
       "\n",
       "                                             features  \\\n",
       "16  [\\nFeatures\\n\\nLoose back and seat cushions\\nH...   \n",
       "17  [\\nFeatures\\n\\nReinforced hardwood frame\\nDura...   \n",
       "18  [\\nFeatures\\n\\nMaterial: Polyester\\nStyle: Con...   \n",
       "19  [\\nFeatures\\n\\nExclusively ours\\nCushions are ...   \n",
       "20  [\\nFeatures\\n\\nMaterial: Polyester\\nStyle: Con...   \n",
       "\n",
       "                                      image_links_all  \\\n",
       "16  [https://secure.img1.wfrcdn.com/lf/49/hash/305...   \n",
       "17  [https://secure.img2.wfrcdn.com/lf/49/hash/338...   \n",
       "18  [https://secure.img2.wfrcdn.com/lf/49/hash/251...   \n",
       "19  [https://secure.img2.wfrcdn.com/lf/49/hash/309...   \n",
       "20  [https://secure.img2.wfrcdn.com/lf/49/hash/251...   \n",
       "\n",
       "                                 image_links_by_color    manufacturer  \\\n",
       "16  {u'Sky Blue': [u'https://secure.img1.wfrcdn.co...  Zipcode Design   \n",
       "17  {u'Graham Black / Graffiti Nightlight': [u'htt...     Mercury Row   \n",
       "18                                                 {}   Serta at Home   \n",
       "19  {u'Keynote Ivory / Katy Mocha / Keynote Chocol...     Three Posts   \n",
       "20                                                 {}   Serta at Home   \n",
       "\n",
       "      price product_id rating_avg rating_count  \\\n",
       "16  $349.99   ZIPC1540        3.5            8   \n",
       "17  $361.99   MCRR1218        4.1           84   \n",
       "18  $364.99    XSQ1695        4.1          152   \n",
       "19  $401.99   THRE1317        4.5           94   \n",
       "20  $355.99    XSQ1687        4.4          177   \n",
       "\n",
       "                                                specs  \\\n",
       "16  \\nWeights & Dimensions\\n\\n\\n\\n            Over...   \n",
       "17  \\nWeights & Dimensions\\n\\n\\n\\n            Over...   \n",
       "18  \\nWeights & Dimensions\\nSeat Cushion\\n\\n\\n    ...   \n",
       "19  \\nWeights & Dimensions\\n\\n\\n\\n            Over...   \n",
       "20  \\nWeights & Dimensions\\nSeat Cushion\\n\\n\\n    ...   \n",
       "\n",
       "                              title  \\\n",
       "16                      Gracie Sofa   \n",
       "17   Aries Sofa by Serta Upholstery   \n",
       "18                  Copenhagen Sofa   \n",
       "19  Caroll Sofa by Serta Upholstery   \n",
       "20                  Santa Cruz Sofa   \n",
       "\n",
       "                                                  url  website  \n",
       "16  http://www.wayfair.com/Gracie-Sofa-ZIPC1540-ZI...  wayfair  \n",
       "17  http://www.wayfair.com/Aries-Sofa-by-Serta-Uph...  wayfair  \n",
       "18  http://www.wayfair.com/Serta-at-Home-Copenhage...  wayfair  \n",
       "19  http://www.wayfair.com/Caroll-Sofa-by-Serta-Up...  wayfair  \n",
       "20  http://www.wayfair.com/Serta-at-Home-Santa-Cru...  wayfair  "
      ]
     },
     "execution_count": 344,
     "metadata": {},
     "output_type": "execute_result"
    }
   ],
   "source": [
    "sofa_df.tail()"
   ]
  },
  {
   "cell_type": "code",
   "execution_count": 346,
   "metadata": {
    "collapsed": false
   },
   "outputs": [
    {
     "data": {
      "text/plain": [
       "u'http://www.wayfair.com/Serta-Upholstery-Harry-Sofa-XSQ1817.html'"
      ]
     },
     "execution_count": 346,
     "metadata": {},
     "output_type": "execute_result"
    }
   ],
   "source": [
    "sofa_links[21]"
   ]
  },
  {
   "cell_type": "markdown",
   "metadata": {},
   "source": [
    "Starting from 8:47"
   ]
  },
  {
   "cell_type": "code",
   "execution_count": 350,
   "metadata": {
    "collapsed": false
   },
   "outputs": [
    {
     "ename": "AttributeError",
     "evalue": "'NoneType' object has no attribute 'text'",
     "output_type": "error",
     "traceback": [
      "\u001b[0;31m---------------------------------------------------------------------------\u001b[0m",
      "\u001b[0;31mAttributeError\u001b[0m                            Traceback (most recent call last)",
      "\u001b[0;32m<ipython-input-350-87369fc79357>\u001b[0m in \u001b[0;36m<module>\u001b[0;34m()\u001b[0m\n\u001b[1;32m      1\u001b[0m \u001b[0mi\u001b[0m \u001b[0;34m=\u001b[0m \u001b[0;36m21\u001b[0m\u001b[0;34m\u001b[0m\u001b[0m\n\u001b[1;32m      2\u001b[0m \u001b[0;32mfor\u001b[0m \u001b[0mlink\u001b[0m \u001b[0;32min\u001b[0m \u001b[0msofa_links\u001b[0m\u001b[0;34m[\u001b[0m\u001b[0;36m21\u001b[0m\u001b[0;34m:\u001b[0m\u001b[0;34m]\u001b[0m\u001b[0;34m:\u001b[0m\u001b[0;34m\u001b[0m\u001b[0m\n\u001b[0;32m----> 3\u001b[0;31m     \u001b[0mproduct_dict\u001b[0m \u001b[0;34m=\u001b[0m \u001b[0mwayfair_product_info_scrapper\u001b[0m\u001b[0;34m(\u001b[0m\u001b[0mlink\u001b[0m\u001b[0;34m,\u001b[0m \u001b[0mcategory_input\u001b[0m\u001b[0;34m=\u001b[0m\u001b[0;34m'sofa'\u001b[0m\u001b[0;34m)\u001b[0m\u001b[0;34m\u001b[0m\u001b[0m\n\u001b[0m\u001b[1;32m      4\u001b[0m     \u001b[0mdf_product\u001b[0m \u001b[0;34m=\u001b[0m \u001b[0mpd\u001b[0m\u001b[0;34m.\u001b[0m\u001b[0mDataFrame\u001b[0m\u001b[0;34m(\u001b[0m\u001b[0;34m[\u001b[0m\u001b[0mproduct_dict\u001b[0m\u001b[0;34m]\u001b[0m\u001b[0;34m,\u001b[0m \u001b[0mindex\u001b[0m\u001b[0;34m=\u001b[0m\u001b[0;34m[\u001b[0m\u001b[0mi\u001b[0m\u001b[0;34m]\u001b[0m\u001b[0;34m)\u001b[0m\u001b[0;34m\u001b[0m\u001b[0m\n\u001b[1;32m      5\u001b[0m     \u001b[0msofa_df\u001b[0m \u001b[0;34m=\u001b[0m \u001b[0mpd\u001b[0m\u001b[0;34m.\u001b[0m\u001b[0mconcat\u001b[0m\u001b[0;34m(\u001b[0m\u001b[0;34m[\u001b[0m\u001b[0msofa_df\u001b[0m\u001b[0;34m,\u001b[0m \u001b[0mdf_product\u001b[0m\u001b[0;34m]\u001b[0m\u001b[0;34m,\u001b[0m \u001b[0maxis\u001b[0m\u001b[0;34m=\u001b[0m\u001b[0;36m0\u001b[0m\u001b[0;34m)\u001b[0m\u001b[0;34m\u001b[0m\u001b[0m\n",
      "\u001b[0;32m<ipython-input-349-ce3a44bf2757>\u001b[0m in \u001b[0;36mwayfair_product_info_scrapper\u001b[0;34m(link, category_input)\u001b[0m\n\u001b[1;32m     43\u001b[0m     \u001b[0mfeatures_info\u001b[0m \u001b[0;34m=\u001b[0m \u001b[0msoup\u001b[0m\u001b[0;34m.\u001b[0m\u001b[0mfindAll\u001b[0m\u001b[0;34m(\u001b[0m\u001b[0;34m'div'\u001b[0m\u001b[0;34m,\u001b[0m \u001b[0;34m{\u001b[0m\u001b[0;34m'class'\u001b[0m\u001b[0;34m:\u001b[0m\u001b[0;34m'product_sub_section'\u001b[0m\u001b[0;34m}\u001b[0m\u001b[0;34m)\u001b[0m\u001b[0;34m\u001b[0m\u001b[0m\n\u001b[1;32m     44\u001b[0m     \u001b[0mfeatures\u001b[0m \u001b[0;34m=\u001b[0m \u001b[0;34m[\u001b[0m\u001b[0mx\u001b[0m\u001b[0;34m.\u001b[0m\u001b[0mtext\u001b[0m \u001b[0;32mfor\u001b[0m \u001b[0mx\u001b[0m \u001b[0;32min\u001b[0m \u001b[0mfeatures_info\u001b[0m\u001b[0;34m]\u001b[0m\u001b[0;34m\u001b[0m\u001b[0m\n\u001b[0;32m---> 45\u001b[0;31m     \u001b[0mspecs\u001b[0m \u001b[0;34m=\u001b[0m \u001b[0msoup\u001b[0m\u001b[0;34m.\u001b[0m\u001b[0mfind\u001b[0m\u001b[0;34m(\u001b[0m\u001b[0;34m'div'\u001b[0m\u001b[0;34m,\u001b[0m \u001b[0;34m{\u001b[0m\u001b[0;34m'class'\u001b[0m\u001b[0;34m:\u001b[0m\u001b[0;34m'spec_dimensions'\u001b[0m\u001b[0;34m}\u001b[0m\u001b[0;34m)\u001b[0m\u001b[0;34m.\u001b[0m\u001b[0mtext\u001b[0m\u001b[0;34m\u001b[0m\u001b[0m\n\u001b[0m\u001b[1;32m     46\u001b[0m \u001b[0;34m\u001b[0m\u001b[0m\n\u001b[1;32m     47\u001b[0m     \u001b[0mmanufacturer\u001b[0m \u001b[0;34m=\u001b[0m \u001b[0msoup\u001b[0m\u001b[0;34m.\u001b[0m\u001b[0mfind\u001b[0m\u001b[0;34m(\u001b[0m\u001b[0;34m'span'\u001b[0m\u001b[0;34m,\u001b[0m \u001b[0;34m{\u001b[0m\u001b[0;34m'class'\u001b[0m\u001b[0;34m:\u001b[0m\u001b[0;34m'manu_name'\u001b[0m\u001b[0;34m}\u001b[0m\u001b[0;34m)\u001b[0m\u001b[0;34m.\u001b[0m\u001b[0mtext\u001b[0m\u001b[0;34m.\u001b[0m\u001b[0mstrip\u001b[0m\u001b[0;34m(\u001b[0m\u001b[0;34m)\u001b[0m\u001b[0;34m.\u001b[0m\u001b[0mlstrip\u001b[0m\u001b[0;34m(\u001b[0m\u001b[0;34m'by'\u001b[0m\u001b[0;34m)\u001b[0m\u001b[0;34m.\u001b[0m\u001b[0mstrip\u001b[0m\u001b[0;34m(\u001b[0m\u001b[0;34m)\u001b[0m\u001b[0;34m\u001b[0m\u001b[0m\n",
      "\u001b[0;31mAttributeError\u001b[0m: 'NoneType' object has no attribute 'text'"
     ]
    }
   ],
   "source": [
    "i = 21\n",
    "for link in sofa_links[21:]:\n",
    "    product_dict = wayfair_product_info_scrapper(link, category_input='sofa')\n",
    "    df_product = pd.DataFrame([product_dict], index=[i])\n",
    "    sofa_df = pd.concat([sofa_df, df_product], axis=0)\n",
    "    i += 1"
   ]
  },
  {
   "cell_type": "markdown",
   "metadata": {},
   "source": [
    "Ended on 9:17"
   ]
  },
  {
   "cell_type": "code",
   "execution_count": 352,
   "metadata": {
    "collapsed": false
   },
   "outputs": [
    {
     "name": "stdout",
     "output_type": "stream",
     "text": [
      "<class 'pandas.core.frame.DataFrame'>\n",
      "Int64Index: 172 entries, 0 to 171\n",
      "Data columns (total 15 columns):\n",
      "category                172 non-null object\n",
      "colors                  172 non-null object\n",
      "description             141 non-null object\n",
      "features                172 non-null object\n",
      "image_links_all         172 non-null object\n",
      "image_links_by_color    172 non-null object\n",
      "manufacturer            172 non-null object\n",
      "price                   172 non-null object\n",
      "product_id              172 non-null object\n",
      "rating_avg              135 non-null object\n",
      "rating_count            135 non-null object\n",
      "specs                   172 non-null object\n",
      "title                   172 non-null object\n",
      "url                     172 non-null object\n",
      "website                 172 non-null object\n",
      "dtypes: object(15)\n",
      "memory usage: 21.5+ KB\n"
     ]
    }
   ],
   "source": [
    "sofa_df.info()"
   ]
  },
  {
   "cell_type": "markdown",
   "metadata": {},
   "source": [
    "Starting from 9:32"
   ]
  },
  {
   "cell_type": "code",
   "execution_count": 373,
   "metadata": {
    "collapsed": false
   },
   "outputs": [
    {
     "ename": "IncompleteRead",
     "evalue": "IncompleteRead(77 bytes read)",
     "output_type": "error",
     "traceback": [
      "\u001b[0;31m---------------------------------------------------------------------------\u001b[0m",
      "\u001b[0;31mIncompleteRead\u001b[0m                            Traceback (most recent call last)",
      "\u001b[0;32m<ipython-input-373-d76ea5a9950d>\u001b[0m in \u001b[0;36m<module>\u001b[0;34m()\u001b[0m\n\u001b[1;32m      1\u001b[0m \u001b[0mi\u001b[0m \u001b[0;34m=\u001b[0m \u001b[0;36m172\u001b[0m\u001b[0;34m\u001b[0m\u001b[0m\n\u001b[1;32m      2\u001b[0m \u001b[0;32mfor\u001b[0m \u001b[0mlink\u001b[0m \u001b[0;32min\u001b[0m \u001b[0msofa_links\u001b[0m\u001b[0;34m[\u001b[0m\u001b[0;36m172\u001b[0m\u001b[0;34m:\u001b[0m\u001b[0;34m]\u001b[0m\u001b[0;34m:\u001b[0m\u001b[0;34m\u001b[0m\u001b[0m\n\u001b[0;32m----> 3\u001b[0;31m     \u001b[0mproduct_dict\u001b[0m \u001b[0;34m=\u001b[0m \u001b[0mwayfair_product_info_scrapper\u001b[0m\u001b[0;34m(\u001b[0m\u001b[0mlink\u001b[0m\u001b[0;34m,\u001b[0m \u001b[0mcategory_input\u001b[0m\u001b[0;34m=\u001b[0m\u001b[0;34m'sofa'\u001b[0m\u001b[0;34m)\u001b[0m\u001b[0;34m\u001b[0m\u001b[0m\n\u001b[0m\u001b[1;32m      4\u001b[0m     \u001b[0mdf_product\u001b[0m \u001b[0;34m=\u001b[0m \u001b[0mpd\u001b[0m\u001b[0;34m.\u001b[0m\u001b[0mDataFrame\u001b[0m\u001b[0;34m(\u001b[0m\u001b[0;34m[\u001b[0m\u001b[0mproduct_dict\u001b[0m\u001b[0;34m]\u001b[0m\u001b[0;34m,\u001b[0m \u001b[0mindex\u001b[0m\u001b[0;34m=\u001b[0m\u001b[0;34m[\u001b[0m\u001b[0mi\u001b[0m\u001b[0;34m]\u001b[0m\u001b[0;34m)\u001b[0m\u001b[0;34m\u001b[0m\u001b[0m\n\u001b[1;32m      5\u001b[0m     \u001b[0msofa_df\u001b[0m \u001b[0;34m=\u001b[0m \u001b[0mpd\u001b[0m\u001b[0;34m.\u001b[0m\u001b[0mconcat\u001b[0m\u001b[0;34m(\u001b[0m\u001b[0;34m[\u001b[0m\u001b[0msofa_df\u001b[0m\u001b[0;34m,\u001b[0m \u001b[0mdf_product\u001b[0m\u001b[0;34m]\u001b[0m\u001b[0;34m,\u001b[0m \u001b[0maxis\u001b[0m\u001b[0;34m=\u001b[0m\u001b[0;36m0\u001b[0m\u001b[0;34m)\u001b[0m\u001b[0;34m\u001b[0m\u001b[0m\n",
      "\u001b[0;32m<ipython-input-372-51a500849dc8>\u001b[0m in \u001b[0;36mwayfair_product_info_scrapper\u001b[0;34m(link, category_input)\u001b[0m\n\u001b[1;32m     79\u001b[0m             \u001b[0mlink_color\u001b[0m \u001b[0;34m=\u001b[0m \u001b[0mlink\u001b[0m \u001b[0;34m+\u001b[0m \u001b[0mcolor_link\u001b[0m\u001b[0;34m\u001b[0m\u001b[0m\n\u001b[1;32m     80\u001b[0m             \u001b[0mhtml_color\u001b[0m  \u001b[0;34m=\u001b[0m \u001b[0murlopen\u001b[0m\u001b[0;34m(\u001b[0m\u001b[0mlink_color\u001b[0m\u001b[0;34m)\u001b[0m\u001b[0;34m\u001b[0m\u001b[0m\n\u001b[0;32m---> 81\u001b[0;31m             \u001b[0msoup_color\u001b[0m \u001b[0;34m=\u001b[0m \u001b[0mBeautifulSoup\u001b[0m\u001b[0;34m(\u001b[0m\u001b[0mhtml_color\u001b[0m\u001b[0;34m,\u001b[0m \u001b[0;34m'html.parser'\u001b[0m\u001b[0;34m)\u001b[0m\u001b[0;34m\u001b[0m\u001b[0m\n\u001b[0m\u001b[1;32m     82\u001b[0m             \u001b[0mimage_info_color\u001b[0m \u001b[0;34m=\u001b[0m \u001b[0msoup_color\u001b[0m\u001b[0;34m.\u001b[0m\u001b[0mfindAll\u001b[0m\u001b[0;34m(\u001b[0m\u001b[0;34m'a'\u001b[0m\u001b[0;34m,\u001b[0m \u001b[0;34m{\u001b[0m\u001b[0;34m'class'\u001b[0m\u001b[0;34m:\u001b[0m \u001b[0;34m'photoswipe_link'\u001b[0m\u001b[0;34m}\u001b[0m\u001b[0;34m)\u001b[0m\u001b[0;34m\u001b[0m\u001b[0m\n\u001b[1;32m     83\u001b[0m             \u001b[0mimage_links_color\u001b[0m \u001b[0;34m=\u001b[0m \u001b[0;34m[\u001b[0m\u001b[0mx\u001b[0m\u001b[0;34m[\u001b[0m\u001b[0;34m'data-original-src'\u001b[0m\u001b[0;34m]\u001b[0m \u001b[0;32mfor\u001b[0m \u001b[0mx\u001b[0m \u001b[0;32min\u001b[0m \u001b[0mimage_info_color\u001b[0m\u001b[0;34m]\u001b[0m\u001b[0;34m\u001b[0m\u001b[0m\n",
      "\u001b[0;32m//anaconda/lib/python2.7/site-packages/bs4/__init__.pyc\u001b[0m in \u001b[0;36m__init__\u001b[0;34m(self, markup, features, builder, parse_only, from_encoding, **kwargs)\u001b[0m\n\u001b[1;32m    159\u001b[0m \u001b[0;34m\u001b[0m\u001b[0m\n\u001b[1;32m    160\u001b[0m         \u001b[0;32mif\u001b[0m \u001b[0mhasattr\u001b[0m\u001b[0;34m(\u001b[0m\u001b[0mmarkup\u001b[0m\u001b[0;34m,\u001b[0m \u001b[0;34m'read'\u001b[0m\u001b[0;34m)\u001b[0m\u001b[0;34m:\u001b[0m        \u001b[0;31m# It's a file-type object.\u001b[0m\u001b[0;34m\u001b[0m\u001b[0m\n\u001b[0;32m--> 161\u001b[0;31m             \u001b[0mmarkup\u001b[0m \u001b[0;34m=\u001b[0m \u001b[0mmarkup\u001b[0m\u001b[0;34m.\u001b[0m\u001b[0mread\u001b[0m\u001b[0;34m(\u001b[0m\u001b[0;34m)\u001b[0m\u001b[0;34m\u001b[0m\u001b[0m\n\u001b[0m\u001b[1;32m    162\u001b[0m         \u001b[0;32melif\u001b[0m \u001b[0mlen\u001b[0m\u001b[0;34m(\u001b[0m\u001b[0mmarkup\u001b[0m\u001b[0;34m)\u001b[0m \u001b[0;34m<=\u001b[0m \u001b[0;36m256\u001b[0m\u001b[0;34m:\u001b[0m\u001b[0;34m\u001b[0m\u001b[0m\n\u001b[1;32m    163\u001b[0m             \u001b[0;31m# Print out warnings for a couple beginner problems\u001b[0m\u001b[0;34m\u001b[0m\u001b[0;34m\u001b[0m\u001b[0m\n",
      "\u001b[0;32m//anaconda/lib/python2.7/socket.pyc\u001b[0m in \u001b[0;36mread\u001b[0;34m(self, size)\u001b[0m\n\u001b[1;32m    353\u001b[0m             \u001b[0;32mwhile\u001b[0m \u001b[0mTrue\u001b[0m\u001b[0;34m:\u001b[0m\u001b[0;34m\u001b[0m\u001b[0m\n\u001b[1;32m    354\u001b[0m                 \u001b[0;32mtry\u001b[0m\u001b[0;34m:\u001b[0m\u001b[0;34m\u001b[0m\u001b[0m\n\u001b[0;32m--> 355\u001b[0;31m                     \u001b[0mdata\u001b[0m \u001b[0;34m=\u001b[0m \u001b[0mself\u001b[0m\u001b[0;34m.\u001b[0m\u001b[0m_sock\u001b[0m\u001b[0;34m.\u001b[0m\u001b[0mrecv\u001b[0m\u001b[0;34m(\u001b[0m\u001b[0mrbufsize\u001b[0m\u001b[0;34m)\u001b[0m\u001b[0;34m\u001b[0m\u001b[0m\n\u001b[0m\u001b[1;32m    356\u001b[0m                 \u001b[0;32mexcept\u001b[0m \u001b[0merror\u001b[0m\u001b[0;34m,\u001b[0m \u001b[0me\u001b[0m\u001b[0;34m:\u001b[0m\u001b[0;34m\u001b[0m\u001b[0m\n\u001b[1;32m    357\u001b[0m                     \u001b[0;32mif\u001b[0m \u001b[0me\u001b[0m\u001b[0;34m.\u001b[0m\u001b[0margs\u001b[0m\u001b[0;34m[\u001b[0m\u001b[0;36m0\u001b[0m\u001b[0;34m]\u001b[0m \u001b[0;34m==\u001b[0m \u001b[0mEINTR\u001b[0m\u001b[0;34m:\u001b[0m\u001b[0;34m\u001b[0m\u001b[0m\n",
      "\u001b[0;32m//anaconda/lib/python2.7/httplib.pyc\u001b[0m in \u001b[0;36mread\u001b[0;34m(self, amt)\u001b[0m\n\u001b[1;32m    586\u001b[0m \u001b[0;34m\u001b[0m\u001b[0m\n\u001b[1;32m    587\u001b[0m         \u001b[0;32mif\u001b[0m \u001b[0mself\u001b[0m\u001b[0;34m.\u001b[0m\u001b[0mchunked\u001b[0m\u001b[0;34m:\u001b[0m\u001b[0;34m\u001b[0m\u001b[0m\n\u001b[0;32m--> 588\u001b[0;31m             \u001b[0;32mreturn\u001b[0m \u001b[0mself\u001b[0m\u001b[0;34m.\u001b[0m\u001b[0m_read_chunked\u001b[0m\u001b[0;34m(\u001b[0m\u001b[0mamt\u001b[0m\u001b[0;34m)\u001b[0m\u001b[0;34m\u001b[0m\u001b[0m\n\u001b[0m\u001b[1;32m    589\u001b[0m \u001b[0;34m\u001b[0m\u001b[0m\n\u001b[1;32m    590\u001b[0m         \u001b[0;32mif\u001b[0m \u001b[0mamt\u001b[0m \u001b[0;32mis\u001b[0m \u001b[0mNone\u001b[0m\u001b[0;34m:\u001b[0m\u001b[0;34m\u001b[0m\u001b[0m\n",
      "\u001b[0;32m//anaconda/lib/python2.7/httplib.pyc\u001b[0m in \u001b[0;36m_read_chunked\u001b[0;34m(self, amt)\u001b[0m\n\u001b[1;32m    640\u001b[0m                     \u001b[0;31m# probably lost\u001b[0m\u001b[0;34m\u001b[0m\u001b[0;34m\u001b[0m\u001b[0m\n\u001b[1;32m    641\u001b[0m                     \u001b[0mself\u001b[0m\u001b[0;34m.\u001b[0m\u001b[0mclose\u001b[0m\u001b[0;34m(\u001b[0m\u001b[0;34m)\u001b[0m\u001b[0;34m\u001b[0m\u001b[0m\n\u001b[0;32m--> 642\u001b[0;31m                     \u001b[0;32mraise\u001b[0m \u001b[0mIncompleteRead\u001b[0m\u001b[0;34m(\u001b[0m\u001b[0;34m''\u001b[0m\u001b[0;34m.\u001b[0m\u001b[0mjoin\u001b[0m\u001b[0;34m(\u001b[0m\u001b[0mvalue\u001b[0m\u001b[0;34m)\u001b[0m\u001b[0;34m)\u001b[0m\u001b[0;34m\u001b[0m\u001b[0m\n\u001b[0m\u001b[1;32m    643\u001b[0m                 \u001b[0;32mif\u001b[0m \u001b[0mchunk_left\u001b[0m \u001b[0;34m==\u001b[0m \u001b[0;36m0\u001b[0m\u001b[0;34m:\u001b[0m\u001b[0;34m\u001b[0m\u001b[0m\n\u001b[1;32m    644\u001b[0m                     \u001b[0;32mbreak\u001b[0m\u001b[0;34m\u001b[0m\u001b[0m\n",
      "\u001b[0;31mIncompleteRead\u001b[0m: IncompleteRead(77 bytes read)"
     ]
    }
   ],
   "source": [
    "i = 172\n",
    "for link in sofa_links[172:]:\n",
    "    product_dict = wayfair_product_info_scrapper(link, category_input='sofa')\n",
    "    df_product = pd.DataFrame([product_dict], index=[i])\n",
    "    sofa_df = pd.concat([sofa_df, df_product], axis=0)\n",
    "    i += 1"
   ]
  },
  {
   "cell_type": "code",
   "execution_count": 374,
   "metadata": {
    "collapsed": false
   },
   "outputs": [
    {
     "name": "stdout",
     "output_type": "stream",
     "text": [
      "<class 'pandas.core.frame.DataFrame'>\n",
      "Int64Index: 179 entries, 0 to 178\n",
      "Data columns (total 15 columns):\n",
      "category                179 non-null object\n",
      "colors                  179 non-null object\n",
      "description             145 non-null object\n",
      "features                179 non-null object\n",
      "image_links_all         179 non-null object\n",
      "image_links_by_color    179 non-null object\n",
      "manufacturer            179 non-null object\n",
      "price                   179 non-null object\n",
      "product_id              179 non-null object\n",
      "rating_avg              142 non-null object\n",
      "rating_count            142 non-null object\n",
      "specs                   178 non-null object\n",
      "title                   179 non-null object\n",
      "url                     179 non-null object\n",
      "website                 179 non-null object\n",
      "dtypes: object(15)\n",
      "memory usage: 22.4+ KB\n"
     ]
    }
   ],
   "source": [
    "sofa_df.info()"
   ]
  },
  {
   "cell_type": "markdown",
   "metadata": {},
   "source": [
    "Starting from 9:46"
   ]
  },
  {
   "cell_type": "code",
   "execution_count": 383,
   "metadata": {
    "collapsed": true
   },
   "outputs": [],
   "source": [
    "i = 179\n",
    "for link in sofa_links[179:]:\n",
    "    product_dict = wayfair_product_info_scrapper(link, category_input='sofa')\n",
    "    df_product = pd.DataFrame([product_dict], index=[i])\n",
    "    sofa_df = pd.concat([sofa_df, df_product], axis=0)\n",
    "    i += 1"
   ]
  },
  {
   "cell_type": "markdown",
   "metadata": {},
   "source": [
    "Ended at 10:21"
   ]
  },
  {
   "cell_type": "markdown",
   "metadata": {},
   "source": [
    "# Sofa scrapping finished. Now check results:"
   ]
  },
  {
   "cell_type": "code",
   "execution_count": 384,
   "metadata": {
    "collapsed": false
   },
   "outputs": [
    {
     "name": "stdout",
     "output_type": "stream",
     "text": [
      "<class 'pandas.core.frame.DataFrame'>\n",
      "Int64Index: 480 entries, 0 to 479\n",
      "Data columns (total 15 columns):\n",
      "category                480 non-null object\n",
      "colors                  480 non-null object\n",
      "description             359 non-null object\n",
      "features                480 non-null object\n",
      "image_links_all         480 non-null object\n",
      "image_links_by_color    480 non-null object\n",
      "manufacturer            480 non-null object\n",
      "price                   480 non-null object\n",
      "product_id              480 non-null object\n",
      "rating_avg              420 non-null object\n",
      "rating_count            420 non-null object\n",
      "specs                   470 non-null object\n",
      "title                   480 non-null object\n",
      "url                     480 non-null object\n",
      "website                 480 non-null object\n",
      "dtypes: object(15)\n",
      "memory usage: 60.0+ KB\n"
     ]
    }
   ],
   "source": [
    "sofa_df.info()"
   ]
  },
  {
   "cell_type": "markdown",
   "metadata": {},
   "source": [
    "# Results saved in 'wayfair/sofa.json'. Try to reload it:"
   ]
  },
  {
   "cell_type": "code",
   "execution_count": 385,
   "metadata": {
    "collapsed": true
   },
   "outputs": [],
   "source": [
    "sofa_df.to_json('wayfair/sofa.json')"
   ]
  },
  {
   "cell_type": "code",
   "execution_count": 387,
   "metadata": {
    "collapsed": true
   },
   "outputs": [],
   "source": [
    "sofa_df_reload = pd.read_json('wayfair/sofa.json')"
   ]
  },
  {
   "cell_type": "code",
   "execution_count": 389,
   "metadata": {
    "collapsed": false
   },
   "outputs": [
    {
     "name": "stdout",
     "output_type": "stream",
     "text": [
      "<class 'pandas.core.frame.DataFrame'>\n",
      "Float64Index: 480 entries, 0.0 to 99.0\n",
      "Data columns (total 15 columns):\n",
      "category                480 non-null object\n",
      "colors                  480 non-null object\n",
      "description             359 non-null object\n",
      "features                480 non-null object\n",
      "image_links_all         480 non-null object\n",
      "image_links_by_color    480 non-null object\n",
      "manufacturer            480 non-null object\n",
      "price                   480 non-null object\n",
      "product_id              480 non-null object\n",
      "rating_avg              420 non-null float64\n",
      "rating_count            420 non-null float64\n",
      "specs                   470 non-null object\n",
      "title                   480 non-null object\n",
      "url                     480 non-null object\n",
      "website                 480 non-null object\n",
      "dtypes: float64(2), object(13)\n",
      "memory usage: 60.0+ KB\n"
     ]
    }
   ],
   "source": [
    "sofa_df_reload.info()"
   ]
  },
  {
   "cell_type": "code",
   "execution_count": 395,
   "metadata": {
    "collapsed": false,
    "scrolled": true
   },
   "outputs": [
    {
     "data": {
      "text/plain": [
       "[u'https://secure.img2.wfrcdn.com/lf/49/hash/2668/18120165/1/Harvest-Sofa-7500.jpg',\n",
       " u'https://secure.img2.wfrcdn.com/lf/49/hash/2668/10651335/1/Harvest-Sofa-7500.jpg',\n",
       " u'https://secure.img1.wfrcdn.com/lf/49/hash/2668/18120162/1/Harvest-Sofa-7500.jpg',\n",
       " u'https://secure.img2.wfrcdn.com/lf/49/hash/2668/14097665/1/Harvest%2BSofa.jpg',\n",
       " u'https://secure.img1.wfrcdn.com/lf/49/hash/2668/18150158/1/Harvest-Sofa-7500.jpg',\n",
       " u'https://secure.img2.wfrcdn.com/lf/49/hash/2668/18120177/1/Harvest-Sofa-7500.jpg',\n",
       " u'https://secure.img2.wfrcdn.com/lf/49/hash/2668/18120183/1/Harvest-Sofa-7500.jpg',\n",
       " u'https://secure.img1.wfrcdn.com/lf/49/hash/2668/18120182/1/Harvest-Sofa-7500.jpg',\n",
       " u'https://secure.img1.wfrcdn.com/lf/49/hash/2668/10651332/1/Harvest-Sofa-7500.jpg',\n",
       " u'https://secure.img1.wfrcdn.com/lf/49/hash/2668/10555824/1/Harvest-Sofa-7500.jpg',\n",
       " u'https://secure.img2.wfrcdn.com/lf/49/hash/2668/18150171/1/Harvest-Sofa-7500.jpg',\n",
       " u'https://secure.img1.wfrcdn.com/lf/49/hash/2668/18120172/1/Harvest-Sofa-7500.jpg',\n",
       " u'https://secure.img1.wfrcdn.com/lf/49/hash/2668/18120170/1/Harvest-Sofa-7500.jpg',\n",
       " u'https://secure.img2.wfrcdn.com/lf/49/hash/2668/18120163/1/Harvest-Sofa-7500.jpg',\n",
       " u'https://secure.img1.wfrcdn.com/lf/49/hash/2668/14097668/1/Harvest%2BSofa.jpg',\n",
       " u'https://secure.img1.wfrcdn.com/lf/49/hash/2668/18120168/1/Harvest-Sofa-7500.jpg',\n",
       " u'https://secure.img2.wfrcdn.com/lf/49/hash/2668/18120175/1/Harvest-Sofa-7500.jpg',\n",
       " u'https://secure.img1.wfrcdn.com/lf/49/hash/2668/18120176/1/Harvest-Sofa-7500.jpg',\n",
       " u'https://secure.img2.wfrcdn.com/lf/49/hash/2668/14097669/1/Harvest%2BSofa.jpg',\n",
       " u'https://secure.img1.wfrcdn.com/lf/49/hash/2668/18150298/1/Harvest-Sofa-7500.jpg',\n",
       " u'https://secure.img2.wfrcdn.com/lf/49/hash/2668/10651351/1/Harvest-Sofa-7500.jpg',\n",
       " u'https://secure.img2.wfrcdn.com/lf/49/hash/2668/18120173/1/Harvest-Sofa-7500.jpg',\n",
       " u'https://secure.img1.wfrcdn.com/lf/49/hash/2668/14097670/1/Harvest%2BSofa.jpg',\n",
       " u'https://secure.img1.wfrcdn.com/lf/49/hash/2668/18150312/1/Harvest-Sofa-7500.jpg',\n",
       " u'https://secure.img2.wfrcdn.com/lf/49/hash/2668/10651331/1/Harvest-Sofa-7500.jpg',\n",
       " u'https://secure.img2.wfrcdn.com/lf/49/hash/2668/18120171/1/Harvest-Sofa-7500.jpg',\n",
       " u'https://secure.img2.wfrcdn.com/lf/49/hash/2668/18120181/1/Harvest-Sofa-7500.jpg',\n",
       " u'https://secure.img1.wfrcdn.com/lf/49/hash/2668/18120178/1/Harvest-Sofa-7500.jpg',\n",
       " u'https://secure.img1.wfrcdn.com/lf/49/hash/2668/14097672/1/Harvest%2BSofa.jpg',\n",
       " u'https://secure.img2.wfrcdn.com/lf/49/hash/2668/18150159/1/Harvest-Sofa-7500.jpg']"
      ]
     },
     "execution_count": 395,
     "metadata": {},
     "output_type": "execute_result"
    }
   ],
   "source": [
    "sofa_df_reload['image_links_all'].values[0]"
   ]
  },
  {
   "cell_type": "code",
   "execution_count": 396,
   "metadata": {
    "collapsed": false
   },
   "outputs": [
    {
     "data": {
      "text/html": [
       "<div>\n",
       "<table border=\"1\" class=\"dataframe\">\n",
       "  <thead>\n",
       "    <tr style=\"text-align: right;\">\n",
       "      <th></th>\n",
       "      <th>category</th>\n",
       "      <th>colors</th>\n",
       "      <th>description</th>\n",
       "      <th>features</th>\n",
       "      <th>image_links_all</th>\n",
       "      <th>image_links_by_color</th>\n",
       "      <th>manufacturer</th>\n",
       "      <th>price</th>\n",
       "      <th>product_id</th>\n",
       "      <th>rating_avg</th>\n",
       "      <th>rating_count</th>\n",
       "      <th>specs</th>\n",
       "      <th>title</th>\n",
       "      <th>url</th>\n",
       "      <th>website</th>\n",
       "    </tr>\n",
       "  </thead>\n",
       "  <tbody>\n",
       "    <tr>\n",
       "      <th>95</th>\n",
       "      <td>sofa</td>\n",
       "      <td>[Purple, Red, Brown, Dark Grey, Grey]</td>\n",
       "      <td>This luxurious loveseat merging with style and...</td>\n",
       "      <td>[\\nFeatures\\n\\nCarthusia collection\\nRubberwoo...</td>\n",
       "      <td>[https://secure.img2.wfrcdn.com/lf/49/hash/296...</td>\n",
       "      <td>{u'Purple': [u'https://secure.img2.wfrcdn.com/...</td>\n",
       "      <td>Kingstown Home</td>\n",
       "      <td>$779.99</td>\n",
       "      <td>KMDS1432</td>\n",
       "      <td>4.5</td>\n",
       "      <td>29</td>\n",
       "      <td>\\nWeights &amp; Dimensions\\nSeat Cushion\\n\\n\\n    ...</td>\n",
       "      <td>Tiffany Tufted Loveseat</td>\n",
       "      <td>http://www.wayfair.com/Kingstown-Home-Carthusi...</td>\n",
       "      <td>wayfair</td>\n",
       "    </tr>\n",
       "    <tr>\n",
       "      <th>96</th>\n",
       "      <td>sofa</td>\n",
       "      <td>[Bevin Chinchilla, Bevin Driftwood, Bull Natur...</td>\n",
       "      <td>Casual and carefree, the Casey sleeper sofa co...</td>\n",
       "      <td>[\\nFeatures\\n\\nIncludes two accent pillows\\nCa...</td>\n",
       "      <td>[https://secure.img1.wfrcdn.com/lf/49/hash/297...</td>\n",
       "      <td>{u'Bevin Chinchilla': [u'https://secure.img1.w...</td>\n",
       "      <td>Wayfair Custom Upholstery</td>\n",
       "      <td>$1,249.00</td>\n",
       "      <td>CSTM1131</td>\n",
       "      <td>4.4</td>\n",
       "      <td>25</td>\n",
       "      <td>\\nWeights &amp; Dimensions\\n\\n\\n\\n            Over...</td>\n",
       "      <td>Casey Sleeper Sofa</td>\n",
       "      <td>http://www.wayfair.com/Wayfair-Custom-Upholste...</td>\n",
       "      <td>wayfair</td>\n",
       "    </tr>\n",
       "    <tr>\n",
       "      <th>97</th>\n",
       "      <td>sofa</td>\n",
       "      <td>[Sienna Chocolate, Sienna Mocha, Sienna Sage]</td>\n",
       "      <td>None</td>\n",
       "      <td>[\\nFeatures\\n\\nHardwood lumber in all stress p...</td>\n",
       "      <td>[https://secure.img2.wfrcdn.com/lf/49/hash/118...</td>\n",
       "      <td>{u'Sienna Chocolate': [u'https://secure.img2.w...</td>\n",
       "      <td>Serta Upholstery</td>\n",
       "      <td>$379.99</td>\n",
       "      <td>XSQ1334</td>\n",
       "      <td>NaN</td>\n",
       "      <td>NaN</td>\n",
       "      <td>\\nWeights &amp; Dimensions\\n\\n\\n\\n            Over...</td>\n",
       "      <td>Hanover Sofa</td>\n",
       "      <td>http://www.wayfair.com/Serta-Upholstery-Hanove...</td>\n",
       "      <td>wayfair</td>\n",
       "    </tr>\n",
       "    <tr>\n",
       "      <th>98</th>\n",
       "      <td>sofa</td>\n",
       "      <td>[Bryant Leather, Huxley Leather, Melton Leathe...</td>\n",
       "      <td>None</td>\n",
       "      <td>[\\nFeatures\\n\\nMontgomery collection\\nWood fra...</td>\n",
       "      <td>[https://secure.img2.wfrcdn.com/lf/49/hash/250...</td>\n",
       "      <td>{u'Huxley Leather': [u'https://secure.img2.wfr...</td>\n",
       "      <td>Birch Lane</td>\n",
       "      <td>$1,360.00</td>\n",
       "      <td>BL8471</td>\n",
       "      <td>NaN</td>\n",
       "      <td>NaN</td>\n",
       "      <td>\\nWeights &amp; Dimensions\\n\\n\\n\\n            Over...</td>\n",
       "      <td>Montgomery Leather Loveseat</td>\n",
       "      <td>http://www.wayfair.com/Montgomery-Loveseat-012...</td>\n",
       "      <td>wayfair</td>\n",
       "    </tr>\n",
       "    <tr>\n",
       "      <th>99</th>\n",
       "      <td>sofa</td>\n",
       "      <td>[Jackson Bark Microsuede, Jackson Coffee Micro...</td>\n",
       "      <td>None</td>\n",
       "      <td>[\\nFeatures\\n\\nWood frame construction wrapped...</td>\n",
       "      <td>[https://secure.img1.wfrcdn.com/lf/49/hash/250...</td>\n",
       "      <td>{u'Griffin Midnight Twill': [u'https://secure....</td>\n",
       "      <td>Birch Lane</td>\n",
       "      <td>$1,120.00</td>\n",
       "      <td>BL8475</td>\n",
       "      <td>NaN</td>\n",
       "      <td>NaN</td>\n",
       "      <td>\\nWeights &amp; Dimensions\\n\\n\\n\\n            Over...</td>\n",
       "      <td>Durham Sofa</td>\n",
       "      <td>http://www.wayfair.com/Durham-Sofa-0120132-BL8...</td>\n",
       "      <td>wayfair</td>\n",
       "    </tr>\n",
       "  </tbody>\n",
       "</table>\n",
       "</div>"
      ],
      "text/plain": [
       "   category                                             colors  \\\n",
       "95     sofa              [Purple, Red, Brown, Dark Grey, Grey]   \n",
       "96     sofa  [Bevin Chinchilla, Bevin Driftwood, Bull Natur...   \n",
       "97     sofa      [Sienna Chocolate, Sienna Mocha, Sienna Sage]   \n",
       "98     sofa  [Bryant Leather, Huxley Leather, Melton Leathe...   \n",
       "99     sofa  [Jackson Bark Microsuede, Jackson Coffee Micro...   \n",
       "\n",
       "                                          description  \\\n",
       "95  This luxurious loveseat merging with style and...   \n",
       "96  Casual and carefree, the Casey sleeper sofa co...   \n",
       "97                                               None   \n",
       "98                                               None   \n",
       "99                                               None   \n",
       "\n",
       "                                             features  \\\n",
       "95  [\\nFeatures\\n\\nCarthusia collection\\nRubberwoo...   \n",
       "96  [\\nFeatures\\n\\nIncludes two accent pillows\\nCa...   \n",
       "97  [\\nFeatures\\n\\nHardwood lumber in all stress p...   \n",
       "98  [\\nFeatures\\n\\nMontgomery collection\\nWood fra...   \n",
       "99  [\\nFeatures\\n\\nWood frame construction wrapped...   \n",
       "\n",
       "                                      image_links_all  \\\n",
       "95  [https://secure.img2.wfrcdn.com/lf/49/hash/296...   \n",
       "96  [https://secure.img1.wfrcdn.com/lf/49/hash/297...   \n",
       "97  [https://secure.img2.wfrcdn.com/lf/49/hash/118...   \n",
       "98  [https://secure.img2.wfrcdn.com/lf/49/hash/250...   \n",
       "99  [https://secure.img1.wfrcdn.com/lf/49/hash/250...   \n",
       "\n",
       "                                 image_links_by_color  \\\n",
       "95  {u'Purple': [u'https://secure.img2.wfrcdn.com/...   \n",
       "96  {u'Bevin Chinchilla': [u'https://secure.img1.w...   \n",
       "97  {u'Sienna Chocolate': [u'https://secure.img2.w...   \n",
       "98  {u'Huxley Leather': [u'https://secure.img2.wfr...   \n",
       "99  {u'Griffin Midnight Twill': [u'https://secure....   \n",
       "\n",
       "                 manufacturer      price product_id  rating_avg  rating_count  \\\n",
       "95             Kingstown Home    $779.99   KMDS1432         4.5            29   \n",
       "96  Wayfair Custom Upholstery  $1,249.00   CSTM1131         4.4            25   \n",
       "97           Serta Upholstery    $379.99    XSQ1334         NaN           NaN   \n",
       "98                 Birch Lane  $1,360.00     BL8471         NaN           NaN   \n",
       "99                 Birch Lane  $1,120.00     BL8475         NaN           NaN   \n",
       "\n",
       "                                                specs  \\\n",
       "95  \\nWeights & Dimensions\\nSeat Cushion\\n\\n\\n    ...   \n",
       "96  \\nWeights & Dimensions\\n\\n\\n\\n            Over...   \n",
       "97  \\nWeights & Dimensions\\n\\n\\n\\n            Over...   \n",
       "98  \\nWeights & Dimensions\\n\\n\\n\\n            Over...   \n",
       "99  \\nWeights & Dimensions\\n\\n\\n\\n            Over...   \n",
       "\n",
       "                          title  \\\n",
       "95      Tiffany Tufted Loveseat   \n",
       "96           Casey Sleeper Sofa   \n",
       "97                 Hanover Sofa   \n",
       "98  Montgomery Leather Loveseat   \n",
       "99                  Durham Sofa   \n",
       "\n",
       "                                                  url  website  \n",
       "95  http://www.wayfair.com/Kingstown-Home-Carthusi...  wayfair  \n",
       "96  http://www.wayfair.com/Wayfair-Custom-Upholste...  wayfair  \n",
       "97  http://www.wayfair.com/Serta-Upholstery-Hanove...  wayfair  \n",
       "98  http://www.wayfair.com/Montgomery-Loveseat-012...  wayfair  \n",
       "99  http://www.wayfair.com/Durham-Sofa-0120132-BL8...  wayfair  "
      ]
     },
     "execution_count": 396,
     "metadata": {},
     "output_type": "execute_result"
    }
   ],
   "source": [
    "sofa_df_reload.tail()"
   ]
  },
  {
   "cell_type": "markdown",
   "metadata": {},
   "source": [
    "# Now scrapping other categories:"
   ]
  },
  {
   "cell_type": "code",
   "execution_count": 386,
   "metadata": {
    "collapsed": true
   },
   "outputs": [],
   "source": [
    "sofa_bed_index = 'http://www.wayfair.com/Sofa-Beds-C413895.html?&curpage='\n",
    "futon_index = 'http://www.wayfair.com/Futons-C1780368.html?&curpage='\n",
    "loveseat_index = 'http://www.wayfair.com/Loveseats-C413896.html?&curpage='\n",
    "\n",
    "coffee_table_index = 'http://www.wayfair.com/Coffee-Tables-C414602.html?&curpage='\n",
    "\n",
    "desk_index = 'http://www.wayfair.com/All-Desks-C1780384.html?&curpage='\n",
    "\n",
    "office_chair_index = 'http://www.wayfair.com/All-Office-Chairs-C478390.html?&curpage='\n",
    "\n",
    "bookcase_index = 'http://www.wayfair.com/All-Bookcases-C1780385.html?&curpage='\n",
    "\n",
    "dining_table_index = 'http://www.wayfair.com/Kitchen-and-Dining-Tables-C46129.html?&curpage='\n",
    "\n",
    "dining_chair_index = 'http://www.wayfair.com/Kitchen-and-Dining-Chairs-C46130.html?&curpage='\n",
    "\n",
    "bed_index = 'http://www.wayfair.com/Beds-C46122.html?&curpage='\n",
    "\n",
    "nightstand_index = 'http://www.wayfair.com/Nightstands-C46062.html?&curpage='\n",
    "\n",
    "dresser_index = 'http://www.wayfair.com/Dressers-C46091.html?&curpage='"
   ]
  },
  {
   "cell_type": "markdown",
   "metadata": {},
   "source": [
    "# Sofa beds:"
   ]
  },
  {
   "cell_type": "code",
   "execution_count": 397,
   "metadata": {
    "collapsed": false
   },
   "outputs": [
    {
     "data": {
      "text/plain": [
       "480"
      ]
     },
     "execution_count": 397,
     "metadata": {},
     "output_type": "execute_result"
    }
   ],
   "source": [
    "sofa_bed_links = get_wayfair_product_links(sofa_bed_index, num_pages=10)\n",
    "print len(sofa_bed_links)"
   ]
  },
  {
   "cell_type": "code",
   "execution_count": 400,
   "metadata": {
    "collapsed": false
   },
   "outputs": [
    {
     "data": {
      "text/html": [
       "<div>\n",
       "<table border=\"1\" class=\"dataframe\">\n",
       "  <thead>\n",
       "    <tr style=\"text-align: right;\">\n",
       "      <th></th>\n",
       "      <th>category</th>\n",
       "      <th>colors</th>\n",
       "      <th>description</th>\n",
       "      <th>features</th>\n",
       "      <th>image_links_all</th>\n",
       "      <th>image_links_by_color</th>\n",
       "      <th>manufacturer</th>\n",
       "      <th>price</th>\n",
       "      <th>product_id</th>\n",
       "      <th>rating_avg</th>\n",
       "      <th>rating_count</th>\n",
       "      <th>specs</th>\n",
       "      <th>title</th>\n",
       "      <th>url</th>\n",
       "      <th>website</th>\n",
       "    </tr>\n",
       "  </thead>\n",
       "  <tbody>\n",
       "    <tr>\n",
       "      <th>0</th>\n",
       "      <td>sofa_bed</td>\n",
       "      <td>[Blue Linen / Chevron, Blue Linen / Greek Key,...</td>\n",
       "      <td>Sleeping on the sofa has never been so chic. S...</td>\n",
       "      <td>[\\nFeatures\\n\\nMaterial: 100% Polyester Linen\\...</td>\n",
       "      <td>[https://secure.img2.wfrcdn.com/lf/49/hash/338...</td>\n",
       "      <td>{u'Blue Linen / Chevron': [u'https://secure.im...</td>\n",
       "      <td>Mercury Row</td>\n",
       "      <td>$529.99</td>\n",
       "      <td>MCRR1650</td>\n",
       "      <td>4.1</td>\n",
       "      <td>189</td>\n",
       "      <td>\\nWeights &amp; Dimensions\\nSeat Cushion\\n\\n\\n    ...</td>\n",
       "      <td>Convertible Sleeper Sofa</td>\n",
       "      <td>http://www.wayfair.com/Convertible-Sleeper-Sof...</td>\n",
       "      <td>wayfair</td>\n",
       "    </tr>\n",
       "  </tbody>\n",
       "</table>\n",
       "</div>"
      ],
      "text/plain": [
       "   category                                             colors  \\\n",
       "0  sofa_bed  [Blue Linen / Chevron, Blue Linen / Greek Key,...   \n",
       "\n",
       "                                         description  \\\n",
       "0  Sleeping on the sofa has never been so chic. S...   \n",
       "\n",
       "                                            features  \\\n",
       "0  [\\nFeatures\\n\\nMaterial: 100% Polyester Linen\\...   \n",
       "\n",
       "                                     image_links_all  \\\n",
       "0  [https://secure.img2.wfrcdn.com/lf/49/hash/338...   \n",
       "\n",
       "                                image_links_by_color manufacturer    price  \\\n",
       "0  {u'Blue Linen / Chevron': [u'https://secure.im...  Mercury Row  $529.99   \n",
       "\n",
       "  product_id rating_avg rating_count  \\\n",
       "0   MCRR1650        4.1          189   \n",
       "\n",
       "                                               specs  \\\n",
       "0  \\nWeights & Dimensions\\nSeat Cushion\\n\\n\\n    ...   \n",
       "\n",
       "                      title  \\\n",
       "0  Convertible Sleeper Sofa   \n",
       "\n",
       "                                                 url  website  \n",
       "0  http://www.wayfair.com/Convertible-Sleeper-Sof...  wayfair  "
      ]
     },
     "execution_count": 400,
     "metadata": {},
     "output_type": "execute_result"
    }
   ],
   "source": [
    "link_0 = sofa_bed_links[0]\n",
    "dict_0 = wayfair_product_info_scrapper(link_0, category_input= 'sofa_bed')\n",
    "sofa_bed_df = pd.DataFrame([dict_0], index=[0])\n",
    "print sofa_bed_df"
   ]
  },
  {
   "cell_type": "markdown",
   "metadata": {},
   "source": [
    "Started from 10:38"
   ]
  },
  {
   "cell_type": "code",
   "execution_count": 402,
   "metadata": {
    "collapsed": false
   },
   "outputs": [
    {
     "ename": "error",
     "evalue": "[Errno 60] Operation timed out",
     "output_type": "error",
     "traceback": [
      "\u001b[0;31m---------------------------------------------------------------------------\u001b[0m",
      "\u001b[0;31merror\u001b[0m                                     Traceback (most recent call last)",
      "\u001b[0;32m<ipython-input-402-8d88a2f0d0d5>\u001b[0m in \u001b[0;36m<module>\u001b[0;34m()\u001b[0m\n\u001b[1;32m      1\u001b[0m \u001b[0mi\u001b[0m \u001b[0;34m=\u001b[0m \u001b[0;36m1\u001b[0m\u001b[0;34m\u001b[0m\u001b[0m\n\u001b[1;32m      2\u001b[0m \u001b[0;32mfor\u001b[0m \u001b[0mlink\u001b[0m \u001b[0;32min\u001b[0m \u001b[0msofa_bed_links\u001b[0m\u001b[0;34m[\u001b[0m\u001b[0;36m1\u001b[0m\u001b[0;34m:\u001b[0m\u001b[0;34m]\u001b[0m\u001b[0;34m:\u001b[0m\u001b[0;34m\u001b[0m\u001b[0m\n\u001b[0;32m----> 3\u001b[0;31m     \u001b[0mproduct_dict\u001b[0m \u001b[0;34m=\u001b[0m \u001b[0mwayfair_product_info_scrapper\u001b[0m\u001b[0;34m(\u001b[0m\u001b[0mlink\u001b[0m\u001b[0;34m,\u001b[0m \u001b[0mcategory_input\u001b[0m\u001b[0;34m=\u001b[0m\u001b[0;34m'sofa_bed'\u001b[0m\u001b[0;34m)\u001b[0m\u001b[0;34m\u001b[0m\u001b[0m\n\u001b[0m\u001b[1;32m      4\u001b[0m     \u001b[0mdf_product\u001b[0m \u001b[0;34m=\u001b[0m \u001b[0mpd\u001b[0m\u001b[0;34m.\u001b[0m\u001b[0mDataFrame\u001b[0m\u001b[0;34m(\u001b[0m\u001b[0;34m[\u001b[0m\u001b[0mproduct_dict\u001b[0m\u001b[0;34m]\u001b[0m\u001b[0;34m,\u001b[0m \u001b[0mindex\u001b[0m\u001b[0;34m=\u001b[0m\u001b[0;34m[\u001b[0m\u001b[0mi\u001b[0m\u001b[0;34m]\u001b[0m\u001b[0;34m)\u001b[0m\u001b[0;34m\u001b[0m\u001b[0m\n\u001b[1;32m      5\u001b[0m     \u001b[0msofa_bed_df\u001b[0m \u001b[0;34m=\u001b[0m \u001b[0mpd\u001b[0m\u001b[0;34m.\u001b[0m\u001b[0mconcat\u001b[0m\u001b[0;34m(\u001b[0m\u001b[0;34m[\u001b[0m\u001b[0msofa_bed_df\u001b[0m\u001b[0;34m,\u001b[0m \u001b[0mdf_product\u001b[0m\u001b[0;34m]\u001b[0m\u001b[0;34m,\u001b[0m \u001b[0maxis\u001b[0m\u001b[0;34m=\u001b[0m\u001b[0;36m0\u001b[0m\u001b[0;34m)\u001b[0m\u001b[0;34m\u001b[0m\u001b[0m\n",
      "\u001b[0;32m<ipython-input-372-51a500849dc8>\u001b[0m in \u001b[0;36mwayfair_product_info_scrapper\u001b[0;34m(link, category_input)\u001b[0m\n\u001b[1;32m     28\u001b[0m     '''\n\u001b[1;32m     29\u001b[0m \u001b[0;34m\u001b[0m\u001b[0m\n\u001b[0;32m---> 30\u001b[0;31m     \u001b[0mhtml\u001b[0m  \u001b[0;34m=\u001b[0m \u001b[0murlopen\u001b[0m\u001b[0;34m(\u001b[0m\u001b[0mlink\u001b[0m\u001b[0;34m)\u001b[0m\u001b[0;34m\u001b[0m\u001b[0m\n\u001b[0m\u001b[1;32m     31\u001b[0m     \u001b[0msoup\u001b[0m \u001b[0;34m=\u001b[0m \u001b[0mBeautifulSoup\u001b[0m\u001b[0;34m(\u001b[0m\u001b[0mhtml\u001b[0m\u001b[0;34m,\u001b[0m \u001b[0;34m'html.parser'\u001b[0m\u001b[0;34m)\u001b[0m\u001b[0;34m\u001b[0m\u001b[0m\n\u001b[1;32m     32\u001b[0m \u001b[0;34m\u001b[0m\u001b[0m\n",
      "\u001b[0;32m//anaconda/lib/python2.7/urllib2.pyc\u001b[0m in \u001b[0;36murlopen\u001b[0;34m(url, data, timeout, cafile, capath, cadefault, context)\u001b[0m\n\u001b[1;32m    152\u001b[0m     \u001b[0;32melse\u001b[0m\u001b[0;34m:\u001b[0m\u001b[0;34m\u001b[0m\u001b[0m\n\u001b[1;32m    153\u001b[0m         \u001b[0mopener\u001b[0m \u001b[0;34m=\u001b[0m \u001b[0m_opener\u001b[0m\u001b[0;34m\u001b[0m\u001b[0m\n\u001b[0;32m--> 154\u001b[0;31m     \u001b[0;32mreturn\u001b[0m \u001b[0mopener\u001b[0m\u001b[0;34m.\u001b[0m\u001b[0mopen\u001b[0m\u001b[0;34m(\u001b[0m\u001b[0murl\u001b[0m\u001b[0;34m,\u001b[0m \u001b[0mdata\u001b[0m\u001b[0;34m,\u001b[0m \u001b[0mtimeout\u001b[0m\u001b[0;34m)\u001b[0m\u001b[0;34m\u001b[0m\u001b[0m\n\u001b[0m\u001b[1;32m    155\u001b[0m \u001b[0;34m\u001b[0m\u001b[0m\n\u001b[1;32m    156\u001b[0m \u001b[0;32mdef\u001b[0m \u001b[0minstall_opener\u001b[0m\u001b[0;34m(\u001b[0m\u001b[0mopener\u001b[0m\u001b[0;34m)\u001b[0m\u001b[0;34m:\u001b[0m\u001b[0;34m\u001b[0m\u001b[0m\n",
      "\u001b[0;32m//anaconda/lib/python2.7/urllib2.pyc\u001b[0m in \u001b[0;36mopen\u001b[0;34m(self, fullurl, data, timeout)\u001b[0m\n\u001b[1;32m    429\u001b[0m             \u001b[0mreq\u001b[0m \u001b[0;34m=\u001b[0m \u001b[0mmeth\u001b[0m\u001b[0;34m(\u001b[0m\u001b[0mreq\u001b[0m\u001b[0;34m)\u001b[0m\u001b[0;34m\u001b[0m\u001b[0m\n\u001b[1;32m    430\u001b[0m \u001b[0;34m\u001b[0m\u001b[0m\n\u001b[0;32m--> 431\u001b[0;31m         \u001b[0mresponse\u001b[0m \u001b[0;34m=\u001b[0m \u001b[0mself\u001b[0m\u001b[0;34m.\u001b[0m\u001b[0m_open\u001b[0m\u001b[0;34m(\u001b[0m\u001b[0mreq\u001b[0m\u001b[0;34m,\u001b[0m \u001b[0mdata\u001b[0m\u001b[0;34m)\u001b[0m\u001b[0;34m\u001b[0m\u001b[0m\n\u001b[0m\u001b[1;32m    432\u001b[0m \u001b[0;34m\u001b[0m\u001b[0m\n\u001b[1;32m    433\u001b[0m         \u001b[0;31m# post-process response\u001b[0m\u001b[0;34m\u001b[0m\u001b[0;34m\u001b[0m\u001b[0m\n",
      "\u001b[0;32m//anaconda/lib/python2.7/urllib2.pyc\u001b[0m in \u001b[0;36m_open\u001b[0;34m(self, req, data)\u001b[0m\n\u001b[1;32m    447\u001b[0m         \u001b[0mprotocol\u001b[0m \u001b[0;34m=\u001b[0m \u001b[0mreq\u001b[0m\u001b[0;34m.\u001b[0m\u001b[0mget_type\u001b[0m\u001b[0;34m(\u001b[0m\u001b[0;34m)\u001b[0m\u001b[0;34m\u001b[0m\u001b[0m\n\u001b[1;32m    448\u001b[0m         result = self._call_chain(self.handle_open, protocol, protocol +\n\u001b[0;32m--> 449\u001b[0;31m                                   '_open', req)\n\u001b[0m\u001b[1;32m    450\u001b[0m         \u001b[0;32mif\u001b[0m \u001b[0mresult\u001b[0m\u001b[0;34m:\u001b[0m\u001b[0;34m\u001b[0m\u001b[0m\n\u001b[1;32m    451\u001b[0m             \u001b[0;32mreturn\u001b[0m \u001b[0mresult\u001b[0m\u001b[0;34m\u001b[0m\u001b[0m\n",
      "\u001b[0;32m//anaconda/lib/python2.7/urllib2.pyc\u001b[0m in \u001b[0;36m_call_chain\u001b[0;34m(self, chain, kind, meth_name, *args)\u001b[0m\n\u001b[1;32m    407\u001b[0m             \u001b[0mfunc\u001b[0m \u001b[0;34m=\u001b[0m \u001b[0mgetattr\u001b[0m\u001b[0;34m(\u001b[0m\u001b[0mhandler\u001b[0m\u001b[0;34m,\u001b[0m \u001b[0mmeth_name\u001b[0m\u001b[0;34m)\u001b[0m\u001b[0;34m\u001b[0m\u001b[0m\n\u001b[1;32m    408\u001b[0m \u001b[0;34m\u001b[0m\u001b[0m\n\u001b[0;32m--> 409\u001b[0;31m             \u001b[0mresult\u001b[0m \u001b[0;34m=\u001b[0m \u001b[0mfunc\u001b[0m\u001b[0;34m(\u001b[0m\u001b[0;34m*\u001b[0m\u001b[0margs\u001b[0m\u001b[0;34m)\u001b[0m\u001b[0;34m\u001b[0m\u001b[0m\n\u001b[0m\u001b[1;32m    410\u001b[0m             \u001b[0;32mif\u001b[0m \u001b[0mresult\u001b[0m \u001b[0;32mis\u001b[0m \u001b[0;32mnot\u001b[0m \u001b[0mNone\u001b[0m\u001b[0;34m:\u001b[0m\u001b[0;34m\u001b[0m\u001b[0m\n\u001b[1;32m    411\u001b[0m                 \u001b[0;32mreturn\u001b[0m \u001b[0mresult\u001b[0m\u001b[0;34m\u001b[0m\u001b[0m\n",
      "\u001b[0;32m//anaconda/lib/python2.7/urllib2.pyc\u001b[0m in \u001b[0;36mhttp_open\u001b[0;34m(self, req)\u001b[0m\n\u001b[1;32m   1225\u001b[0m \u001b[0;34m\u001b[0m\u001b[0m\n\u001b[1;32m   1226\u001b[0m     \u001b[0;32mdef\u001b[0m \u001b[0mhttp_open\u001b[0m\u001b[0;34m(\u001b[0m\u001b[0mself\u001b[0m\u001b[0;34m,\u001b[0m \u001b[0mreq\u001b[0m\u001b[0;34m)\u001b[0m\u001b[0;34m:\u001b[0m\u001b[0;34m\u001b[0m\u001b[0m\n\u001b[0;32m-> 1227\u001b[0;31m         \u001b[0;32mreturn\u001b[0m \u001b[0mself\u001b[0m\u001b[0;34m.\u001b[0m\u001b[0mdo_open\u001b[0m\u001b[0;34m(\u001b[0m\u001b[0mhttplib\u001b[0m\u001b[0;34m.\u001b[0m\u001b[0mHTTPConnection\u001b[0m\u001b[0;34m,\u001b[0m \u001b[0mreq\u001b[0m\u001b[0;34m)\u001b[0m\u001b[0;34m\u001b[0m\u001b[0m\n\u001b[0m\u001b[1;32m   1228\u001b[0m \u001b[0;34m\u001b[0m\u001b[0m\n\u001b[1;32m   1229\u001b[0m     \u001b[0mhttp_request\u001b[0m \u001b[0;34m=\u001b[0m \u001b[0mAbstractHTTPHandler\u001b[0m\u001b[0;34m.\u001b[0m\u001b[0mdo_request_\u001b[0m\u001b[0;34m\u001b[0m\u001b[0m\n",
      "\u001b[0;32m//anaconda/lib/python2.7/urllib2.pyc\u001b[0m in \u001b[0;36mdo_open\u001b[0;34m(self, http_class, req, **http_conn_args)\u001b[0m\n\u001b[1;32m   1198\u001b[0m         \u001b[0;32melse\u001b[0m\u001b[0;34m:\u001b[0m\u001b[0;34m\u001b[0m\u001b[0m\n\u001b[1;32m   1199\u001b[0m             \u001b[0;32mtry\u001b[0m\u001b[0;34m:\u001b[0m\u001b[0;34m\u001b[0m\u001b[0m\n\u001b[0;32m-> 1200\u001b[0;31m                 \u001b[0mr\u001b[0m \u001b[0;34m=\u001b[0m \u001b[0mh\u001b[0m\u001b[0;34m.\u001b[0m\u001b[0mgetresponse\u001b[0m\u001b[0;34m(\u001b[0m\u001b[0mbuffering\u001b[0m\u001b[0;34m=\u001b[0m\u001b[0mTrue\u001b[0m\u001b[0;34m)\u001b[0m\u001b[0;34m\u001b[0m\u001b[0m\n\u001b[0m\u001b[1;32m   1201\u001b[0m             \u001b[0;32mexcept\u001b[0m \u001b[0mTypeError\u001b[0m\u001b[0;34m:\u001b[0m \u001b[0;31m# buffering kw not supported\u001b[0m\u001b[0;34m\u001b[0m\u001b[0m\n\u001b[1;32m   1202\u001b[0m                 \u001b[0mr\u001b[0m \u001b[0;34m=\u001b[0m \u001b[0mh\u001b[0m\u001b[0;34m.\u001b[0m\u001b[0mgetresponse\u001b[0m\u001b[0;34m(\u001b[0m\u001b[0;34m)\u001b[0m\u001b[0;34m\u001b[0m\u001b[0m\n",
      "\u001b[0;32m//anaconda/lib/python2.7/httplib.pyc\u001b[0m in \u001b[0;36mgetresponse\u001b[0;34m(self, buffering)\u001b[0m\n\u001b[1;32m   1130\u001b[0m \u001b[0;34m\u001b[0m\u001b[0m\n\u001b[1;32m   1131\u001b[0m         \u001b[0;32mtry\u001b[0m\u001b[0;34m:\u001b[0m\u001b[0;34m\u001b[0m\u001b[0m\n\u001b[0;32m-> 1132\u001b[0;31m             \u001b[0mresponse\u001b[0m\u001b[0;34m.\u001b[0m\u001b[0mbegin\u001b[0m\u001b[0;34m(\u001b[0m\u001b[0;34m)\u001b[0m\u001b[0;34m\u001b[0m\u001b[0m\n\u001b[0m\u001b[1;32m   1133\u001b[0m             \u001b[0;32massert\u001b[0m \u001b[0mresponse\u001b[0m\u001b[0;34m.\u001b[0m\u001b[0mwill_close\u001b[0m \u001b[0;34m!=\u001b[0m \u001b[0m_UNKNOWN\u001b[0m\u001b[0;34m\u001b[0m\u001b[0m\n\u001b[1;32m   1134\u001b[0m             \u001b[0mself\u001b[0m\u001b[0;34m.\u001b[0m\u001b[0m__state\u001b[0m \u001b[0;34m=\u001b[0m \u001b[0m_CS_IDLE\u001b[0m\u001b[0;34m\u001b[0m\u001b[0m\n",
      "\u001b[0;32m//anaconda/lib/python2.7/httplib.pyc\u001b[0m in \u001b[0;36mbegin\u001b[0;34m(self)\u001b[0m\n\u001b[1;32m    451\u001b[0m         \u001b[0;31m# read until we get a non-100 response\u001b[0m\u001b[0;34m\u001b[0m\u001b[0;34m\u001b[0m\u001b[0m\n\u001b[1;32m    452\u001b[0m         \u001b[0;32mwhile\u001b[0m \u001b[0mTrue\u001b[0m\u001b[0;34m:\u001b[0m\u001b[0;34m\u001b[0m\u001b[0m\n\u001b[0;32m--> 453\u001b[0;31m             \u001b[0mversion\u001b[0m\u001b[0;34m,\u001b[0m \u001b[0mstatus\u001b[0m\u001b[0;34m,\u001b[0m \u001b[0mreason\u001b[0m \u001b[0;34m=\u001b[0m \u001b[0mself\u001b[0m\u001b[0;34m.\u001b[0m\u001b[0m_read_status\u001b[0m\u001b[0;34m(\u001b[0m\u001b[0;34m)\u001b[0m\u001b[0;34m\u001b[0m\u001b[0m\n\u001b[0m\u001b[1;32m    454\u001b[0m             \u001b[0;32mif\u001b[0m \u001b[0mstatus\u001b[0m \u001b[0;34m!=\u001b[0m \u001b[0mCONTINUE\u001b[0m\u001b[0;34m:\u001b[0m\u001b[0;34m\u001b[0m\u001b[0m\n\u001b[1;32m    455\u001b[0m                 \u001b[0;32mbreak\u001b[0m\u001b[0;34m\u001b[0m\u001b[0m\n",
      "\u001b[0;32m//anaconda/lib/python2.7/httplib.pyc\u001b[0m in \u001b[0;36m_read_status\u001b[0;34m(self)\u001b[0m\n\u001b[1;32m    407\u001b[0m     \u001b[0;32mdef\u001b[0m \u001b[0m_read_status\u001b[0m\u001b[0;34m(\u001b[0m\u001b[0mself\u001b[0m\u001b[0;34m)\u001b[0m\u001b[0;34m:\u001b[0m\u001b[0;34m\u001b[0m\u001b[0m\n\u001b[1;32m    408\u001b[0m         \u001b[0;31m# Initialize with Simple-Response defaults\u001b[0m\u001b[0;34m\u001b[0m\u001b[0;34m\u001b[0m\u001b[0m\n\u001b[0;32m--> 409\u001b[0;31m         \u001b[0mline\u001b[0m \u001b[0;34m=\u001b[0m \u001b[0mself\u001b[0m\u001b[0;34m.\u001b[0m\u001b[0mfp\u001b[0m\u001b[0;34m.\u001b[0m\u001b[0mreadline\u001b[0m\u001b[0;34m(\u001b[0m\u001b[0m_MAXLINE\u001b[0m \u001b[0;34m+\u001b[0m \u001b[0;36m1\u001b[0m\u001b[0;34m)\u001b[0m\u001b[0;34m\u001b[0m\u001b[0m\n\u001b[0m\u001b[1;32m    410\u001b[0m         \u001b[0;32mif\u001b[0m \u001b[0mlen\u001b[0m\u001b[0;34m(\u001b[0m\u001b[0mline\u001b[0m\u001b[0;34m)\u001b[0m \u001b[0;34m>\u001b[0m \u001b[0m_MAXLINE\u001b[0m\u001b[0;34m:\u001b[0m\u001b[0;34m\u001b[0m\u001b[0m\n\u001b[1;32m    411\u001b[0m             \u001b[0;32mraise\u001b[0m \u001b[0mLineTooLong\u001b[0m\u001b[0;34m(\u001b[0m\u001b[0;34m\"header line\"\u001b[0m\u001b[0;34m)\u001b[0m\u001b[0;34m\u001b[0m\u001b[0m\n",
      "\u001b[0;32m//anaconda/lib/python2.7/socket.pyc\u001b[0m in \u001b[0;36mreadline\u001b[0;34m(self, size)\u001b[0m\n\u001b[1;32m    478\u001b[0m             \u001b[0;32mwhile\u001b[0m \u001b[0mTrue\u001b[0m\u001b[0;34m:\u001b[0m\u001b[0;34m\u001b[0m\u001b[0m\n\u001b[1;32m    479\u001b[0m                 \u001b[0;32mtry\u001b[0m\u001b[0;34m:\u001b[0m\u001b[0;34m\u001b[0m\u001b[0m\n\u001b[0;32m--> 480\u001b[0;31m                     \u001b[0mdata\u001b[0m \u001b[0;34m=\u001b[0m \u001b[0mself\u001b[0m\u001b[0;34m.\u001b[0m\u001b[0m_sock\u001b[0m\u001b[0;34m.\u001b[0m\u001b[0mrecv\u001b[0m\u001b[0;34m(\u001b[0m\u001b[0mself\u001b[0m\u001b[0;34m.\u001b[0m\u001b[0m_rbufsize\u001b[0m\u001b[0;34m)\u001b[0m\u001b[0;34m\u001b[0m\u001b[0m\n\u001b[0m\u001b[1;32m    481\u001b[0m                 \u001b[0;32mexcept\u001b[0m \u001b[0merror\u001b[0m\u001b[0;34m,\u001b[0m \u001b[0me\u001b[0m\u001b[0;34m:\u001b[0m\u001b[0;34m\u001b[0m\u001b[0m\n\u001b[1;32m    482\u001b[0m                     \u001b[0;32mif\u001b[0m \u001b[0me\u001b[0m\u001b[0;34m.\u001b[0m\u001b[0margs\u001b[0m\u001b[0;34m[\u001b[0m\u001b[0;36m0\u001b[0m\u001b[0;34m]\u001b[0m \u001b[0;34m==\u001b[0m \u001b[0mEINTR\u001b[0m\u001b[0;34m:\u001b[0m\u001b[0;34m\u001b[0m\u001b[0m\n",
      "\u001b[0;31merror\u001b[0m: [Errno 60] Operation timed out"
     ]
    }
   ],
   "source": [
    "i = 1\n",
    "for link in sofa_bed_links[1:]:\n",
    "    product_dict = wayfair_product_info_scrapper(link, category_input='sofa_bed')\n",
    "    df_product = pd.DataFrame([product_dict], index=[i])\n",
    "    sofa_bed_df = pd.concat([sofa_bed_df, df_product], axis=0)\n",
    "    i += 1"
   ]
  },
  {
   "cell_type": "code",
   "execution_count": 403,
   "metadata": {
    "collapsed": false
   },
   "outputs": [
    {
     "name": "stdout",
     "output_type": "stream",
     "text": [
      "<class 'pandas.core.frame.DataFrame'>\n",
      "Int64Index: 415 entries, 0 to 414\n",
      "Data columns (total 15 columns):\n",
      "category                415 non-null object\n",
      "colors                  415 non-null object\n",
      "description             293 non-null object\n",
      "features                415 non-null object\n",
      "image_links_all         415 non-null object\n",
      "image_links_by_color    415 non-null object\n",
      "manufacturer            415 non-null object\n",
      "price                   415 non-null object\n",
      "product_id              415 non-null object\n",
      "rating_avg              279 non-null object\n",
      "rating_count            279 non-null object\n",
      "specs                   398 non-null object\n",
      "title                   415 non-null object\n",
      "url                     415 non-null object\n",
      "website                 415 non-null object\n",
      "dtypes: object(15)\n",
      "memory usage: 51.9+ KB\n"
     ]
    }
   ],
   "source": [
    "sofa_bed_df.info()"
   ]
  },
  {
   "cell_type": "code",
   "execution_count": 404,
   "metadata": {
    "collapsed": false
   },
   "outputs": [
    {
     "data": {
      "text/html": [
       "<div>\n",
       "<table border=\"1\" class=\"dataframe\">\n",
       "  <thead>\n",
       "    <tr style=\"text-align: right;\">\n",
       "      <th></th>\n",
       "      <th>category</th>\n",
       "      <th>colors</th>\n",
       "      <th>description</th>\n",
       "      <th>features</th>\n",
       "      <th>image_links_all</th>\n",
       "      <th>image_links_by_color</th>\n",
       "      <th>manufacturer</th>\n",
       "      <th>price</th>\n",
       "      <th>product_id</th>\n",
       "      <th>rating_avg</th>\n",
       "      <th>rating_count</th>\n",
       "      <th>specs</th>\n",
       "      <th>title</th>\n",
       "      <th>url</th>\n",
       "      <th>website</th>\n",
       "    </tr>\n",
       "  </thead>\n",
       "  <tbody>\n",
       "    <tr>\n",
       "      <th>413</th>\n",
       "      <td>sofa_bed</td>\n",
       "      <td>[Common Ground Clove, Common Ground Cork, Comm...</td>\n",
       "      <td>The SM1 Sofa will provide you with a comfortab...</td>\n",
       "      <td>[\\nFeatures\\n\\nLegs included: Yes\\nSM collecti...</td>\n",
       "      <td>[https://secure.img2.wfrcdn.com/lf/49/hash/151...</td>\n",
       "      <td>{u'Common Ground Clove': [u'https://secure.img...</td>\n",
       "      <td>Knoll ®</td>\n",
       "      <td>$4,111.45</td>\n",
       "      <td>KLL1859</td>\n",
       "      <td>None</td>\n",
       "      <td>None</td>\n",
       "      <td>\\nWeights &amp; Dimensions\\n\\n\\n\\n            Over...</td>\n",
       "      <td>SM 85.5\" Sofa</td>\n",
       "      <td>http://www.wayfair.com/Knoll-%25C2%25AE-SM-85....</td>\n",
       "      <td>wayfair</td>\n",
       "    </tr>\n",
       "    <tr>\n",
       "      <th>414</th>\n",
       "      <td>sofa_bed</td>\n",
       "      <td>[]</td>\n",
       "      <td>None</td>\n",
       "      <td>[\\nFeatures\\n\\nEasy click-clak adjustment for ...</td>\n",
       "      <td>[https://secure.img1.wfrcdn.com/lf/49/hash/435...</td>\n",
       "      <td>{}</td>\n",
       "      <td>Sauder</td>\n",
       "      <td>$399.99</td>\n",
       "      <td>SAU2261</td>\n",
       "      <td>None</td>\n",
       "      <td>None</td>\n",
       "      <td>\\nWeights &amp; Dimensions\\n\\n\\n\\n            Over...</td>\n",
       "      <td>Bergen DuraPlush Convertible Sofa</td>\n",
       "      <td>http://www.wayfair.com/Sauder-Bergen-DuraPlush...</td>\n",
       "      <td>wayfair</td>\n",
       "    </tr>\n",
       "  </tbody>\n",
       "</table>\n",
       "</div>"
      ],
      "text/plain": [
       "     category                                             colors  \\\n",
       "413  sofa_bed  [Common Ground Clove, Common Ground Cork, Comm...   \n",
       "414  sofa_bed                                                 []   \n",
       "\n",
       "                                           description  \\\n",
       "413  The SM1 Sofa will provide you with a comfortab...   \n",
       "414                                               None   \n",
       "\n",
       "                                              features  \\\n",
       "413  [\\nFeatures\\n\\nLegs included: Yes\\nSM collecti...   \n",
       "414  [\\nFeatures\\n\\nEasy click-clak adjustment for ...   \n",
       "\n",
       "                                       image_links_all  \\\n",
       "413  [https://secure.img2.wfrcdn.com/lf/49/hash/151...   \n",
       "414  [https://secure.img1.wfrcdn.com/lf/49/hash/435...   \n",
       "\n",
       "                                  image_links_by_color manufacturer  \\\n",
       "413  {u'Common Ground Clove': [u'https://secure.img...      Knoll ®   \n",
       "414                                                 {}       Sauder   \n",
       "\n",
       "         price product_id rating_avg rating_count  \\\n",
       "413  $4,111.45    KLL1859       None         None   \n",
       "414    $399.99    SAU2261       None         None   \n",
       "\n",
       "                                                 specs  \\\n",
       "413  \\nWeights & Dimensions\\n\\n\\n\\n            Over...   \n",
       "414  \\nWeights & Dimensions\\n\\n\\n\\n            Over...   \n",
       "\n",
       "                                 title  \\\n",
       "413                      SM 85.5\" Sofa   \n",
       "414  Bergen DuraPlush Convertible Sofa   \n",
       "\n",
       "                                                   url  website  \n",
       "413  http://www.wayfair.com/Knoll-%25C2%25AE-SM-85....  wayfair  \n",
       "414  http://www.wayfair.com/Sauder-Bergen-DuraPlush...  wayfair  "
      ]
     },
     "execution_count": 404,
     "metadata": {},
     "output_type": "execute_result"
    }
   ],
   "source": [
    "sofa_bed_df.tail(2)"
   ]
  },
  {
   "cell_type": "code",
   "execution_count": 405,
   "metadata": {
    "collapsed": false
   },
   "outputs": [
    {
     "name": "stdout",
     "output_type": "stream",
     "text": [
      "420\n",
      "440\n",
      "460\n",
      "480\n"
     ]
    }
   ],
   "source": [
    "i = 415\n",
    "for link in sofa_bed_links[415:]:\n",
    "    product_dict = wayfair_product_info_scrapper(link, category_input='sofa_bed')\n",
    "    df_product = pd.DataFrame([product_dict], index=[i])\n",
    "    sofa_bed_df = pd.concat([sofa_bed_df, df_product], axis=0)\n",
    "    i += 1\n",
    "    if i % 20 == 0:\n",
    "        print i"
   ]
  },
  {
   "cell_type": "code",
   "execution_count": 406,
   "metadata": {
    "collapsed": true
   },
   "outputs": [],
   "source": [
    "sofa_bed_df.to_json('wayfair/sofa_bed.json')"
   ]
  },
  {
   "cell_type": "code",
   "execution_count": 407,
   "metadata": {
    "collapsed": false
   },
   "outputs": [
    {
     "data": {
      "text/plain": [
       "'Sun Sep 20 23:50:13 2015'"
      ]
     },
     "execution_count": 407,
     "metadata": {},
     "output_type": "execute_result"
    }
   ],
   "source": [
    "import time\n",
    "time.ctime(time.time())"
   ]
  },
  {
   "cell_type": "markdown",
   "metadata": {},
   "source": [
    "# Futons:"
   ]
  },
  {
   "cell_type": "code",
   "execution_count": 408,
   "metadata": {
    "collapsed": false
   },
   "outputs": [
    {
     "data": {
      "text/plain": [
       "'Sun Sep 20 23:50:13 2015'"
      ]
     },
     "execution_count": 408,
     "metadata": {},
     "output_type": "execute_result"
    }
   ],
   "source": [
    "time.ctime(time.time())"
   ]
  },
  {
   "cell_type": "code",
   "execution_count": 409,
   "metadata": {
    "collapsed": false
   },
   "outputs": [
    {
     "name": "stdout",
     "output_type": "stream",
     "text": [
      "416\n",
      "  category colors                                        description  \\\n",
      "0    futon     []  A streamlined profiled accentuated by a lush p...   \n",
      "\n",
      "                                            features  \\\n",
      "0  [\\nFeatures\\n\\nUpholstered in black microfiber...   \n",
      "\n",
      "                                     image_links_all image_links_by_color  \\\n",
      "0  [https://secure.img1.wfrcdn.com/lf/49/hash/765...                   {}   \n",
      "\n",
      "     manufacturer    price product_id rating_avg rating_count  \\\n",
      "0  Zipcode Design  $134.99   ZIPC1715        3.8           26   \n",
      "\n",
      "                                               specs        title  \\\n",
      "0  \\nWeights & Dimensions\\n\\n\\n\\n            Over...  Jaden Futon   \n",
      "\n",
      "                                                 url  website  \n",
      "0  http://www.wayfair.com/Kent-Futon-and-Mattress...  wayfair  \n",
      "20\n",
      "40\n",
      "60\n",
      "80\n",
      "100\n",
      "120\n",
      "140\n"
     ]
    },
    {
     "ename": "KeyboardInterrupt",
     "evalue": "",
     "output_type": "error",
     "traceback": [
      "\u001b[0;31m---------------------------------------------------------------------------\u001b[0m",
      "\u001b[0;31mKeyboardInterrupt\u001b[0m                         Traceback (most recent call last)",
      "\u001b[0;32m<ipython-input-409-8cc9b1ec2e4d>\u001b[0m in \u001b[0;36m<module>\u001b[0;34m()\u001b[0m\n\u001b[1;32m      7\u001b[0m \u001b[0mi\u001b[0m \u001b[0;34m=\u001b[0m \u001b[0;36m1\u001b[0m\u001b[0;34m\u001b[0m\u001b[0m\n\u001b[1;32m      8\u001b[0m \u001b[0;32mfor\u001b[0m \u001b[0mlink\u001b[0m \u001b[0;32min\u001b[0m \u001b[0mfuton_links\u001b[0m\u001b[0;34m[\u001b[0m\u001b[0;36m1\u001b[0m\u001b[0;34m:\u001b[0m\u001b[0;34m]\u001b[0m\u001b[0;34m:\u001b[0m\u001b[0;34m\u001b[0m\u001b[0m\n\u001b[0;32m----> 9\u001b[0;31m     \u001b[0mproduct_dict\u001b[0m \u001b[0;34m=\u001b[0m \u001b[0mwayfair_product_info_scrapper\u001b[0m\u001b[0;34m(\u001b[0m\u001b[0mlink\u001b[0m\u001b[0;34m,\u001b[0m \u001b[0mcategory_input\u001b[0m\u001b[0;34m=\u001b[0m\u001b[0;34m'futon'\u001b[0m\u001b[0;34m)\u001b[0m\u001b[0;34m\u001b[0m\u001b[0m\n\u001b[0m\u001b[1;32m     10\u001b[0m     \u001b[0mdf_product\u001b[0m \u001b[0;34m=\u001b[0m \u001b[0mpd\u001b[0m\u001b[0;34m.\u001b[0m\u001b[0mDataFrame\u001b[0m\u001b[0;34m(\u001b[0m\u001b[0;34m[\u001b[0m\u001b[0mproduct_dict\u001b[0m\u001b[0;34m]\u001b[0m\u001b[0;34m,\u001b[0m \u001b[0mindex\u001b[0m\u001b[0;34m=\u001b[0m\u001b[0;34m[\u001b[0m\u001b[0mi\u001b[0m\u001b[0;34m]\u001b[0m\u001b[0;34m)\u001b[0m\u001b[0;34m\u001b[0m\u001b[0m\n\u001b[1;32m     11\u001b[0m     \u001b[0mfuton_df\u001b[0m \u001b[0;34m=\u001b[0m \u001b[0mpd\u001b[0m\u001b[0;34m.\u001b[0m\u001b[0mconcat\u001b[0m\u001b[0;34m(\u001b[0m\u001b[0;34m[\u001b[0m\u001b[0mfuton_df\u001b[0m\u001b[0;34m,\u001b[0m \u001b[0mdf_product\u001b[0m\u001b[0;34m]\u001b[0m\u001b[0;34m,\u001b[0m \u001b[0maxis\u001b[0m\u001b[0;34m=\u001b[0m\u001b[0;36m0\u001b[0m\u001b[0;34m)\u001b[0m\u001b[0;34m\u001b[0m\u001b[0m\n",
      "\u001b[0;32m<ipython-input-372-51a500849dc8>\u001b[0m in \u001b[0;36mwayfair_product_info_scrapper\u001b[0;34m(link, category_input)\u001b[0m\n\u001b[1;32m     79\u001b[0m             \u001b[0mlink_color\u001b[0m \u001b[0;34m=\u001b[0m \u001b[0mlink\u001b[0m \u001b[0;34m+\u001b[0m \u001b[0mcolor_link\u001b[0m\u001b[0;34m\u001b[0m\u001b[0m\n\u001b[1;32m     80\u001b[0m             \u001b[0mhtml_color\u001b[0m  \u001b[0;34m=\u001b[0m \u001b[0murlopen\u001b[0m\u001b[0;34m(\u001b[0m\u001b[0mlink_color\u001b[0m\u001b[0;34m)\u001b[0m\u001b[0;34m\u001b[0m\u001b[0m\n\u001b[0;32m---> 81\u001b[0;31m             \u001b[0msoup_color\u001b[0m \u001b[0;34m=\u001b[0m \u001b[0mBeautifulSoup\u001b[0m\u001b[0;34m(\u001b[0m\u001b[0mhtml_color\u001b[0m\u001b[0;34m,\u001b[0m \u001b[0;34m'html.parser'\u001b[0m\u001b[0;34m)\u001b[0m\u001b[0;34m\u001b[0m\u001b[0m\n\u001b[0m\u001b[1;32m     82\u001b[0m             \u001b[0mimage_info_color\u001b[0m \u001b[0;34m=\u001b[0m \u001b[0msoup_color\u001b[0m\u001b[0;34m.\u001b[0m\u001b[0mfindAll\u001b[0m\u001b[0;34m(\u001b[0m\u001b[0;34m'a'\u001b[0m\u001b[0;34m,\u001b[0m \u001b[0;34m{\u001b[0m\u001b[0;34m'class'\u001b[0m\u001b[0;34m:\u001b[0m \u001b[0;34m'photoswipe_link'\u001b[0m\u001b[0;34m}\u001b[0m\u001b[0;34m)\u001b[0m\u001b[0;34m\u001b[0m\u001b[0m\n\u001b[1;32m     83\u001b[0m             \u001b[0mimage_links_color\u001b[0m \u001b[0;34m=\u001b[0m \u001b[0;34m[\u001b[0m\u001b[0mx\u001b[0m\u001b[0;34m[\u001b[0m\u001b[0;34m'data-original-src'\u001b[0m\u001b[0;34m]\u001b[0m \u001b[0;32mfor\u001b[0m \u001b[0mx\u001b[0m \u001b[0;32min\u001b[0m \u001b[0mimage_info_color\u001b[0m\u001b[0;34m]\u001b[0m\u001b[0;34m\u001b[0m\u001b[0m\n",
      "\u001b[0;32m//anaconda/lib/python2.7/site-packages/bs4/__init__.pyc\u001b[0m in \u001b[0;36m__init__\u001b[0;34m(self, markup, features, builder, parse_only, from_encoding, **kwargs)\u001b[0m\n\u001b[1;32m    159\u001b[0m \u001b[0;34m\u001b[0m\u001b[0m\n\u001b[1;32m    160\u001b[0m         \u001b[0;32mif\u001b[0m \u001b[0mhasattr\u001b[0m\u001b[0;34m(\u001b[0m\u001b[0mmarkup\u001b[0m\u001b[0;34m,\u001b[0m \u001b[0;34m'read'\u001b[0m\u001b[0;34m)\u001b[0m\u001b[0;34m:\u001b[0m        \u001b[0;31m# It's a file-type object.\u001b[0m\u001b[0;34m\u001b[0m\u001b[0m\n\u001b[0;32m--> 161\u001b[0;31m             \u001b[0mmarkup\u001b[0m \u001b[0;34m=\u001b[0m \u001b[0mmarkup\u001b[0m\u001b[0;34m.\u001b[0m\u001b[0mread\u001b[0m\u001b[0;34m(\u001b[0m\u001b[0;34m)\u001b[0m\u001b[0;34m\u001b[0m\u001b[0m\n\u001b[0m\u001b[1;32m    162\u001b[0m         \u001b[0;32melif\u001b[0m \u001b[0mlen\u001b[0m\u001b[0;34m(\u001b[0m\u001b[0mmarkup\u001b[0m\u001b[0;34m)\u001b[0m \u001b[0;34m<=\u001b[0m \u001b[0;36m256\u001b[0m\u001b[0;34m:\u001b[0m\u001b[0;34m\u001b[0m\u001b[0m\n\u001b[1;32m    163\u001b[0m             \u001b[0;31m# Print out warnings for a couple beginner problems\u001b[0m\u001b[0;34m\u001b[0m\u001b[0;34m\u001b[0m\u001b[0m\n",
      "\u001b[0;32m//anaconda/lib/python2.7/socket.pyc\u001b[0m in \u001b[0;36mread\u001b[0;34m(self, size)\u001b[0m\n\u001b[1;32m    353\u001b[0m             \u001b[0;32mwhile\u001b[0m \u001b[0mTrue\u001b[0m\u001b[0;34m:\u001b[0m\u001b[0;34m\u001b[0m\u001b[0m\n\u001b[1;32m    354\u001b[0m                 \u001b[0;32mtry\u001b[0m\u001b[0;34m:\u001b[0m\u001b[0;34m\u001b[0m\u001b[0m\n\u001b[0;32m--> 355\u001b[0;31m                     \u001b[0mdata\u001b[0m \u001b[0;34m=\u001b[0m \u001b[0mself\u001b[0m\u001b[0;34m.\u001b[0m\u001b[0m_sock\u001b[0m\u001b[0;34m.\u001b[0m\u001b[0mrecv\u001b[0m\u001b[0;34m(\u001b[0m\u001b[0mrbufsize\u001b[0m\u001b[0;34m)\u001b[0m\u001b[0;34m\u001b[0m\u001b[0m\n\u001b[0m\u001b[1;32m    356\u001b[0m                 \u001b[0;32mexcept\u001b[0m \u001b[0merror\u001b[0m\u001b[0;34m,\u001b[0m \u001b[0me\u001b[0m\u001b[0;34m:\u001b[0m\u001b[0;34m\u001b[0m\u001b[0m\n\u001b[1;32m    357\u001b[0m                     \u001b[0;32mif\u001b[0m \u001b[0me\u001b[0m\u001b[0;34m.\u001b[0m\u001b[0margs\u001b[0m\u001b[0;34m[\u001b[0m\u001b[0;36m0\u001b[0m\u001b[0;34m]\u001b[0m \u001b[0;34m==\u001b[0m \u001b[0mEINTR\u001b[0m\u001b[0;34m:\u001b[0m\u001b[0;34m\u001b[0m\u001b[0m\n",
      "\u001b[0;32m//anaconda/lib/python2.7/httplib.pyc\u001b[0m in \u001b[0;36mread\u001b[0;34m(self, amt)\u001b[0m\n\u001b[1;32m    586\u001b[0m \u001b[0;34m\u001b[0m\u001b[0m\n\u001b[1;32m    587\u001b[0m         \u001b[0;32mif\u001b[0m \u001b[0mself\u001b[0m\u001b[0;34m.\u001b[0m\u001b[0mchunked\u001b[0m\u001b[0;34m:\u001b[0m\u001b[0;34m\u001b[0m\u001b[0m\n\u001b[0;32m--> 588\u001b[0;31m             \u001b[0;32mreturn\u001b[0m \u001b[0mself\u001b[0m\u001b[0;34m.\u001b[0m\u001b[0m_read_chunked\u001b[0m\u001b[0;34m(\u001b[0m\u001b[0mamt\u001b[0m\u001b[0;34m)\u001b[0m\u001b[0;34m\u001b[0m\u001b[0m\n\u001b[0m\u001b[1;32m    589\u001b[0m \u001b[0;34m\u001b[0m\u001b[0m\n\u001b[1;32m    590\u001b[0m         \u001b[0;32mif\u001b[0m \u001b[0mamt\u001b[0m \u001b[0;32mis\u001b[0m \u001b[0mNone\u001b[0m\u001b[0;34m:\u001b[0m\u001b[0;34m\u001b[0m\u001b[0m\n",
      "\u001b[0;32m//anaconda/lib/python2.7/httplib.pyc\u001b[0m in \u001b[0;36m_read_chunked\u001b[0;34m(self, amt)\u001b[0m\n\u001b[1;32m    646\u001b[0m                 \u001b[0mvalue\u001b[0m\u001b[0;34m.\u001b[0m\u001b[0mappend\u001b[0m\u001b[0;34m(\u001b[0m\u001b[0mself\u001b[0m\u001b[0;34m.\u001b[0m\u001b[0m_safe_read\u001b[0m\u001b[0;34m(\u001b[0m\u001b[0mchunk_left\u001b[0m\u001b[0;34m)\u001b[0m\u001b[0;34m)\u001b[0m\u001b[0;34m\u001b[0m\u001b[0m\n\u001b[1;32m    647\u001b[0m             \u001b[0;32melif\u001b[0m \u001b[0mamt\u001b[0m \u001b[0;34m<\u001b[0m \u001b[0mchunk_left\u001b[0m\u001b[0;34m:\u001b[0m\u001b[0;34m\u001b[0m\u001b[0m\n\u001b[0;32m--> 648\u001b[0;31m                 \u001b[0mvalue\u001b[0m\u001b[0;34m.\u001b[0m\u001b[0mappend\u001b[0m\u001b[0;34m(\u001b[0m\u001b[0mself\u001b[0m\u001b[0;34m.\u001b[0m\u001b[0m_safe_read\u001b[0m\u001b[0;34m(\u001b[0m\u001b[0mamt\u001b[0m\u001b[0;34m)\u001b[0m\u001b[0;34m)\u001b[0m\u001b[0;34m\u001b[0m\u001b[0m\n\u001b[0m\u001b[1;32m    649\u001b[0m                 \u001b[0mself\u001b[0m\u001b[0;34m.\u001b[0m\u001b[0mchunk_left\u001b[0m \u001b[0;34m=\u001b[0m \u001b[0mchunk_left\u001b[0m \u001b[0;34m-\u001b[0m \u001b[0mamt\u001b[0m\u001b[0;34m\u001b[0m\u001b[0m\n\u001b[1;32m    650\u001b[0m                 \u001b[0;32mreturn\u001b[0m \u001b[0;34m''\u001b[0m\u001b[0;34m.\u001b[0m\u001b[0mjoin\u001b[0m\u001b[0;34m(\u001b[0m\u001b[0mvalue\u001b[0m\u001b[0;34m)\u001b[0m\u001b[0;34m\u001b[0m\u001b[0m\n",
      "\u001b[0;32m//anaconda/lib/python2.7/httplib.pyc\u001b[0m in \u001b[0;36m_safe_read\u001b[0;34m(self, amt)\u001b[0m\n\u001b[1;32m    701\u001b[0m         \u001b[0ms\u001b[0m \u001b[0;34m=\u001b[0m \u001b[0;34m[\u001b[0m\u001b[0;34m]\u001b[0m\u001b[0;34m\u001b[0m\u001b[0m\n\u001b[1;32m    702\u001b[0m         \u001b[0;32mwhile\u001b[0m \u001b[0mamt\u001b[0m \u001b[0;34m>\u001b[0m \u001b[0;36m0\u001b[0m\u001b[0;34m:\u001b[0m\u001b[0;34m\u001b[0m\u001b[0m\n\u001b[0;32m--> 703\u001b[0;31m             \u001b[0mchunk\u001b[0m \u001b[0;34m=\u001b[0m \u001b[0mself\u001b[0m\u001b[0;34m.\u001b[0m\u001b[0mfp\u001b[0m\u001b[0;34m.\u001b[0m\u001b[0mread\u001b[0m\u001b[0;34m(\u001b[0m\u001b[0mmin\u001b[0m\u001b[0;34m(\u001b[0m\u001b[0mamt\u001b[0m\u001b[0;34m,\u001b[0m \u001b[0mMAXAMOUNT\u001b[0m\u001b[0;34m)\u001b[0m\u001b[0;34m)\u001b[0m\u001b[0;34m\u001b[0m\u001b[0m\n\u001b[0m\u001b[1;32m    704\u001b[0m             \u001b[0;32mif\u001b[0m \u001b[0;32mnot\u001b[0m \u001b[0mchunk\u001b[0m\u001b[0;34m:\u001b[0m\u001b[0;34m\u001b[0m\u001b[0m\n\u001b[1;32m    705\u001b[0m                 \u001b[0;32mraise\u001b[0m \u001b[0mIncompleteRead\u001b[0m\u001b[0;34m(\u001b[0m\u001b[0;34m''\u001b[0m\u001b[0;34m.\u001b[0m\u001b[0mjoin\u001b[0m\u001b[0;34m(\u001b[0m\u001b[0ms\u001b[0m\u001b[0;34m)\u001b[0m\u001b[0;34m,\u001b[0m \u001b[0mamt\u001b[0m\u001b[0;34m)\u001b[0m\u001b[0;34m\u001b[0m\u001b[0m\n",
      "\u001b[0;32m//anaconda/lib/python2.7/socket.pyc\u001b[0m in \u001b[0;36mread\u001b[0;34m(self, size)\u001b[0m\n\u001b[1;32m    382\u001b[0m                 \u001b[0;31m# fragmentation issues on many platforms.\u001b[0m\u001b[0;34m\u001b[0m\u001b[0;34m\u001b[0m\u001b[0m\n\u001b[1;32m    383\u001b[0m                 \u001b[0;32mtry\u001b[0m\u001b[0;34m:\u001b[0m\u001b[0;34m\u001b[0m\u001b[0m\n\u001b[0;32m--> 384\u001b[0;31m                     \u001b[0mdata\u001b[0m \u001b[0;34m=\u001b[0m \u001b[0mself\u001b[0m\u001b[0;34m.\u001b[0m\u001b[0m_sock\u001b[0m\u001b[0;34m.\u001b[0m\u001b[0mrecv\u001b[0m\u001b[0;34m(\u001b[0m\u001b[0mleft\u001b[0m\u001b[0;34m)\u001b[0m\u001b[0;34m\u001b[0m\u001b[0m\n\u001b[0m\u001b[1;32m    385\u001b[0m                 \u001b[0;32mexcept\u001b[0m \u001b[0merror\u001b[0m\u001b[0;34m,\u001b[0m \u001b[0me\u001b[0m\u001b[0;34m:\u001b[0m\u001b[0;34m\u001b[0m\u001b[0m\n\u001b[1;32m    386\u001b[0m                     \u001b[0;32mif\u001b[0m \u001b[0me\u001b[0m\u001b[0;34m.\u001b[0m\u001b[0margs\u001b[0m\u001b[0;34m[\u001b[0m\u001b[0;36m0\u001b[0m\u001b[0;34m]\u001b[0m \u001b[0;34m==\u001b[0m \u001b[0mEINTR\u001b[0m\u001b[0;34m:\u001b[0m\u001b[0;34m\u001b[0m\u001b[0m\n",
      "\u001b[0;31mKeyboardInterrupt\u001b[0m: "
     ]
    }
   ],
   "source": [
    "futon_links = get_wayfair_product_links(futon_index, num_pages=11)\n",
    "print len(futon_links)\n",
    "link_0 = futon_links[0]\n",
    "dict_0 = wayfair_product_info_scrapper(link_0, category_input= 'futon')\n",
    "futon_df = pd.DataFrame([dict_0], index=[0])\n",
    "print futon_df\n",
    "i = 1\n",
    "for link in futon_links[1:]:\n",
    "    product_dict = wayfair_product_info_scrapper(link, category_input='futon')\n",
    "    df_product = pd.DataFrame([product_dict], index=[i])\n",
    "    futon_df = pd.concat([futon_df, df_product], axis=0)\n",
    "    i += 1\n",
    "    if i % 20 == 0:\n",
    "        print i"
   ]
  },
  {
   "cell_type": "code",
   "execution_count": 410,
   "metadata": {
    "collapsed": false
   },
   "outputs": [
    {
     "name": "stdout",
     "output_type": "stream",
     "text": [
      "<class 'pandas.core.frame.DataFrame'>\n",
      "Int64Index: 154 entries, 0 to 153\n",
      "Data columns (total 15 columns):\n",
      "category                154 non-null object\n",
      "colors                  154 non-null object\n",
      "description             123 non-null object\n",
      "features                154 non-null object\n",
      "image_links_all         154 non-null object\n",
      "image_links_by_color    154 non-null object\n",
      "manufacturer            154 non-null object\n",
      "price                   154 non-null object\n",
      "product_id              154 non-null object\n",
      "rating_avg              142 non-null object\n",
      "rating_count            142 non-null object\n",
      "specs                   148 non-null object\n",
      "title                   154 non-null object\n",
      "url                     154 non-null object\n",
      "website                 154 non-null object\n",
      "dtypes: object(15)\n",
      "memory usage: 19.2+ KB\n"
     ]
    }
   ],
   "source": [
    "futon_df.info()"
   ]
  },
  {
   "cell_type": "code",
   "execution_count": 411,
   "metadata": {
    "collapsed": false
   },
   "outputs": [
    {
     "data": {
      "text/html": [
       "<div>\n",
       "<table border=\"1\" class=\"dataframe\">\n",
       "  <thead>\n",
       "    <tr style=\"text-align: right;\">\n",
       "      <th></th>\n",
       "      <th>category</th>\n",
       "      <th>colors</th>\n",
       "      <th>description</th>\n",
       "      <th>features</th>\n",
       "      <th>image_links_all</th>\n",
       "      <th>image_links_by_color</th>\n",
       "      <th>manufacturer</th>\n",
       "      <th>price</th>\n",
       "      <th>product_id</th>\n",
       "      <th>rating_avg</th>\n",
       "      <th>rating_count</th>\n",
       "      <th>specs</th>\n",
       "      <th>title</th>\n",
       "      <th>url</th>\n",
       "      <th>website</th>\n",
       "    </tr>\n",
       "  </thead>\n",
       "  <tbody>\n",
       "    <tr>\n",
       "      <th>152</th>\n",
       "      <td>futon</td>\n",
       "      <td>[]</td>\n",
       "      <td>Specially actual and relevant for solving prob...</td>\n",
       "      <td>[\\nFeatures\\n\\nUpholstered in vinyl\\nContempor...</td>\n",
       "      <td>[https://secure.img1.wfrcdn.com/lf/49/hash/230...</td>\n",
       "      <td>{}</td>\n",
       "      <td>Beyan</td>\n",
       "      <td>$829.99</td>\n",
       "      <td>BYSN1052</td>\n",
       "      <td>5.0</td>\n",
       "      <td>1</td>\n",
       "      <td>\\nWeights &amp; Dimensions\\n\\n\\n\\n            Over...</td>\n",
       "      <td>Wisconsin Convertible Sofa</td>\n",
       "      <td>http://www.wayfair.com/Beyan-Signature-Wiscons...</td>\n",
       "      <td>wayfair</td>\n",
       "    </tr>\n",
       "    <tr>\n",
       "      <th>153</th>\n",
       "      <td>futon</td>\n",
       "      <td>[]</td>\n",
       "      <td>The desire to make your home comfortable, cozy...</td>\n",
       "      <td>[\\nFeatures\\n\\nContemporary style\\nMetal legs\\...</td>\n",
       "      <td>[https://secure.img1.wfrcdn.com/lf/49/hash/230...</td>\n",
       "      <td>{}</td>\n",
       "      <td>Beyan</td>\n",
       "      <td>$599.99</td>\n",
       "      <td>BYSN1150</td>\n",
       "      <td>2.8</td>\n",
       "      <td>6</td>\n",
       "      <td>\\nWeights &amp; Dimensions\\n\\n\\n\\n            Over...</td>\n",
       "      <td>Harlem Convertible Sofa</td>\n",
       "      <td>http://www.wayfair.com/Beyan-Signature-Harlem-...</td>\n",
       "      <td>wayfair</td>\n",
       "    </tr>\n",
       "  </tbody>\n",
       "</table>\n",
       "</div>"
      ],
      "text/plain": [
       "    category colors                                        description  \\\n",
       "152    futon     []  Specially actual and relevant for solving prob...   \n",
       "153    futon     []  The desire to make your home comfortable, cozy...   \n",
       "\n",
       "                                              features  \\\n",
       "152  [\\nFeatures\\n\\nUpholstered in vinyl\\nContempor...   \n",
       "153  [\\nFeatures\\n\\nContemporary style\\nMetal legs\\...   \n",
       "\n",
       "                                       image_links_all image_links_by_color  \\\n",
       "152  [https://secure.img1.wfrcdn.com/lf/49/hash/230...                   {}   \n",
       "153  [https://secure.img1.wfrcdn.com/lf/49/hash/230...                   {}   \n",
       "\n",
       "    manufacturer    price product_id rating_avg rating_count  \\\n",
       "152        Beyan  $829.99   BYSN1052        5.0            1   \n",
       "153        Beyan  $599.99   BYSN1150        2.8            6   \n",
       "\n",
       "                                                 specs  \\\n",
       "152  \\nWeights & Dimensions\\n\\n\\n\\n            Over...   \n",
       "153  \\nWeights & Dimensions\\n\\n\\n\\n            Over...   \n",
       "\n",
       "                          title  \\\n",
       "152  Wisconsin Convertible Sofa   \n",
       "153     Harlem Convertible Sofa   \n",
       "\n",
       "                                                   url  website  \n",
       "152  http://www.wayfair.com/Beyan-Signature-Wiscons...  wayfair  \n",
       "153  http://www.wayfair.com/Beyan-Signature-Harlem-...  wayfair  "
      ]
     },
     "execution_count": 411,
     "metadata": {},
     "output_type": "execute_result"
    }
   ],
   "source": [
    "futon_df.tail(2)"
   ]
  },
  {
   "cell_type": "code",
   "execution_count": 412,
   "metadata": {
    "collapsed": false
   },
   "outputs": [
    {
     "name": "stdout",
     "output_type": "stream",
     "text": [
      "160\n",
      "180\n",
      "200\n",
      "220\n",
      "240\n",
      "260\n",
      "280\n"
     ]
    },
    {
     "ename": "error",
     "evalue": "[Errno 60] Operation timed out",
     "output_type": "error",
     "traceback": [
      "\u001b[0;31m---------------------------------------------------------------------------\u001b[0m",
      "\u001b[0;31merror\u001b[0m                                     Traceback (most recent call last)",
      "\u001b[0;32m<ipython-input-412-a1f75bb14c0e>\u001b[0m in \u001b[0;36m<module>\u001b[0;34m()\u001b[0m\n\u001b[1;32m      1\u001b[0m \u001b[0mi\u001b[0m \u001b[0;34m=\u001b[0m \u001b[0;36m154\u001b[0m\u001b[0;34m\u001b[0m\u001b[0m\n\u001b[1;32m      2\u001b[0m \u001b[0;32mfor\u001b[0m \u001b[0mlink\u001b[0m \u001b[0;32min\u001b[0m \u001b[0mfuton_links\u001b[0m\u001b[0;34m[\u001b[0m\u001b[0;36m154\u001b[0m\u001b[0;34m:\u001b[0m\u001b[0;34m]\u001b[0m\u001b[0;34m:\u001b[0m\u001b[0;34m\u001b[0m\u001b[0m\n\u001b[0;32m----> 3\u001b[0;31m     \u001b[0mproduct_dict\u001b[0m \u001b[0;34m=\u001b[0m \u001b[0mwayfair_product_info_scrapper\u001b[0m\u001b[0;34m(\u001b[0m\u001b[0mlink\u001b[0m\u001b[0;34m,\u001b[0m \u001b[0mcategory_input\u001b[0m\u001b[0;34m=\u001b[0m\u001b[0;34m'futon'\u001b[0m\u001b[0;34m)\u001b[0m\u001b[0;34m\u001b[0m\u001b[0m\n\u001b[0m\u001b[1;32m      4\u001b[0m     \u001b[0mdf_product\u001b[0m \u001b[0;34m=\u001b[0m \u001b[0mpd\u001b[0m\u001b[0;34m.\u001b[0m\u001b[0mDataFrame\u001b[0m\u001b[0;34m(\u001b[0m\u001b[0;34m[\u001b[0m\u001b[0mproduct_dict\u001b[0m\u001b[0;34m]\u001b[0m\u001b[0;34m,\u001b[0m \u001b[0mindex\u001b[0m\u001b[0;34m=\u001b[0m\u001b[0;34m[\u001b[0m\u001b[0mi\u001b[0m\u001b[0;34m]\u001b[0m\u001b[0;34m)\u001b[0m\u001b[0;34m\u001b[0m\u001b[0m\n\u001b[1;32m      5\u001b[0m     \u001b[0mfuton_df\u001b[0m \u001b[0;34m=\u001b[0m \u001b[0mpd\u001b[0m\u001b[0;34m.\u001b[0m\u001b[0mconcat\u001b[0m\u001b[0;34m(\u001b[0m\u001b[0;34m[\u001b[0m\u001b[0mfuton_df\u001b[0m\u001b[0;34m,\u001b[0m \u001b[0mdf_product\u001b[0m\u001b[0;34m]\u001b[0m\u001b[0;34m,\u001b[0m \u001b[0maxis\u001b[0m\u001b[0;34m=\u001b[0m\u001b[0;36m0\u001b[0m\u001b[0;34m)\u001b[0m\u001b[0;34m\u001b[0m\u001b[0m\n",
      "\u001b[0;32m<ipython-input-372-51a500849dc8>\u001b[0m in \u001b[0;36mwayfair_product_info_scrapper\u001b[0;34m(link, category_input)\u001b[0m\n\u001b[1;32m     28\u001b[0m     '''\n\u001b[1;32m     29\u001b[0m \u001b[0;34m\u001b[0m\u001b[0m\n\u001b[0;32m---> 30\u001b[0;31m     \u001b[0mhtml\u001b[0m  \u001b[0;34m=\u001b[0m \u001b[0murlopen\u001b[0m\u001b[0;34m(\u001b[0m\u001b[0mlink\u001b[0m\u001b[0;34m)\u001b[0m\u001b[0;34m\u001b[0m\u001b[0m\n\u001b[0m\u001b[1;32m     31\u001b[0m     \u001b[0msoup\u001b[0m \u001b[0;34m=\u001b[0m \u001b[0mBeautifulSoup\u001b[0m\u001b[0;34m(\u001b[0m\u001b[0mhtml\u001b[0m\u001b[0;34m,\u001b[0m \u001b[0;34m'html.parser'\u001b[0m\u001b[0;34m)\u001b[0m\u001b[0;34m\u001b[0m\u001b[0m\n\u001b[1;32m     32\u001b[0m \u001b[0;34m\u001b[0m\u001b[0m\n",
      "\u001b[0;32m//anaconda/lib/python2.7/urllib2.pyc\u001b[0m in \u001b[0;36murlopen\u001b[0;34m(url, data, timeout, cafile, capath, cadefault, context)\u001b[0m\n\u001b[1;32m    152\u001b[0m     \u001b[0;32melse\u001b[0m\u001b[0;34m:\u001b[0m\u001b[0;34m\u001b[0m\u001b[0m\n\u001b[1;32m    153\u001b[0m         \u001b[0mopener\u001b[0m \u001b[0;34m=\u001b[0m \u001b[0m_opener\u001b[0m\u001b[0;34m\u001b[0m\u001b[0m\n\u001b[0;32m--> 154\u001b[0;31m     \u001b[0;32mreturn\u001b[0m \u001b[0mopener\u001b[0m\u001b[0;34m.\u001b[0m\u001b[0mopen\u001b[0m\u001b[0;34m(\u001b[0m\u001b[0murl\u001b[0m\u001b[0;34m,\u001b[0m \u001b[0mdata\u001b[0m\u001b[0;34m,\u001b[0m \u001b[0mtimeout\u001b[0m\u001b[0;34m)\u001b[0m\u001b[0;34m\u001b[0m\u001b[0m\n\u001b[0m\u001b[1;32m    155\u001b[0m \u001b[0;34m\u001b[0m\u001b[0m\n\u001b[1;32m    156\u001b[0m \u001b[0;32mdef\u001b[0m \u001b[0minstall_opener\u001b[0m\u001b[0;34m(\u001b[0m\u001b[0mopener\u001b[0m\u001b[0;34m)\u001b[0m\u001b[0;34m:\u001b[0m\u001b[0;34m\u001b[0m\u001b[0m\n",
      "\u001b[0;32m//anaconda/lib/python2.7/urllib2.pyc\u001b[0m in \u001b[0;36mopen\u001b[0;34m(self, fullurl, data, timeout)\u001b[0m\n\u001b[1;32m    429\u001b[0m             \u001b[0mreq\u001b[0m \u001b[0;34m=\u001b[0m \u001b[0mmeth\u001b[0m\u001b[0;34m(\u001b[0m\u001b[0mreq\u001b[0m\u001b[0;34m)\u001b[0m\u001b[0;34m\u001b[0m\u001b[0m\n\u001b[1;32m    430\u001b[0m \u001b[0;34m\u001b[0m\u001b[0m\n\u001b[0;32m--> 431\u001b[0;31m         \u001b[0mresponse\u001b[0m \u001b[0;34m=\u001b[0m \u001b[0mself\u001b[0m\u001b[0;34m.\u001b[0m\u001b[0m_open\u001b[0m\u001b[0;34m(\u001b[0m\u001b[0mreq\u001b[0m\u001b[0;34m,\u001b[0m \u001b[0mdata\u001b[0m\u001b[0;34m)\u001b[0m\u001b[0;34m\u001b[0m\u001b[0m\n\u001b[0m\u001b[1;32m    432\u001b[0m \u001b[0;34m\u001b[0m\u001b[0m\n\u001b[1;32m    433\u001b[0m         \u001b[0;31m# post-process response\u001b[0m\u001b[0;34m\u001b[0m\u001b[0;34m\u001b[0m\u001b[0m\n",
      "\u001b[0;32m//anaconda/lib/python2.7/urllib2.pyc\u001b[0m in \u001b[0;36m_open\u001b[0;34m(self, req, data)\u001b[0m\n\u001b[1;32m    447\u001b[0m         \u001b[0mprotocol\u001b[0m \u001b[0;34m=\u001b[0m \u001b[0mreq\u001b[0m\u001b[0;34m.\u001b[0m\u001b[0mget_type\u001b[0m\u001b[0;34m(\u001b[0m\u001b[0;34m)\u001b[0m\u001b[0;34m\u001b[0m\u001b[0m\n\u001b[1;32m    448\u001b[0m         result = self._call_chain(self.handle_open, protocol, protocol +\n\u001b[0;32m--> 449\u001b[0;31m                                   '_open', req)\n\u001b[0m\u001b[1;32m    450\u001b[0m         \u001b[0;32mif\u001b[0m \u001b[0mresult\u001b[0m\u001b[0;34m:\u001b[0m\u001b[0;34m\u001b[0m\u001b[0m\n\u001b[1;32m    451\u001b[0m             \u001b[0;32mreturn\u001b[0m \u001b[0mresult\u001b[0m\u001b[0;34m\u001b[0m\u001b[0m\n",
      "\u001b[0;32m//anaconda/lib/python2.7/urllib2.pyc\u001b[0m in \u001b[0;36m_call_chain\u001b[0;34m(self, chain, kind, meth_name, *args)\u001b[0m\n\u001b[1;32m    407\u001b[0m             \u001b[0mfunc\u001b[0m \u001b[0;34m=\u001b[0m \u001b[0mgetattr\u001b[0m\u001b[0;34m(\u001b[0m\u001b[0mhandler\u001b[0m\u001b[0;34m,\u001b[0m \u001b[0mmeth_name\u001b[0m\u001b[0;34m)\u001b[0m\u001b[0;34m\u001b[0m\u001b[0m\n\u001b[1;32m    408\u001b[0m \u001b[0;34m\u001b[0m\u001b[0m\n\u001b[0;32m--> 409\u001b[0;31m             \u001b[0mresult\u001b[0m \u001b[0;34m=\u001b[0m \u001b[0mfunc\u001b[0m\u001b[0;34m(\u001b[0m\u001b[0;34m*\u001b[0m\u001b[0margs\u001b[0m\u001b[0;34m)\u001b[0m\u001b[0;34m\u001b[0m\u001b[0m\n\u001b[0m\u001b[1;32m    410\u001b[0m             \u001b[0;32mif\u001b[0m \u001b[0mresult\u001b[0m \u001b[0;32mis\u001b[0m \u001b[0;32mnot\u001b[0m \u001b[0mNone\u001b[0m\u001b[0;34m:\u001b[0m\u001b[0;34m\u001b[0m\u001b[0m\n\u001b[1;32m    411\u001b[0m                 \u001b[0;32mreturn\u001b[0m \u001b[0mresult\u001b[0m\u001b[0;34m\u001b[0m\u001b[0m\n",
      "\u001b[0;32m//anaconda/lib/python2.7/urllib2.pyc\u001b[0m in \u001b[0;36mhttp_open\u001b[0;34m(self, req)\u001b[0m\n\u001b[1;32m   1225\u001b[0m \u001b[0;34m\u001b[0m\u001b[0m\n\u001b[1;32m   1226\u001b[0m     \u001b[0;32mdef\u001b[0m \u001b[0mhttp_open\u001b[0m\u001b[0;34m(\u001b[0m\u001b[0mself\u001b[0m\u001b[0;34m,\u001b[0m \u001b[0mreq\u001b[0m\u001b[0;34m)\u001b[0m\u001b[0;34m:\u001b[0m\u001b[0;34m\u001b[0m\u001b[0m\n\u001b[0;32m-> 1227\u001b[0;31m         \u001b[0;32mreturn\u001b[0m \u001b[0mself\u001b[0m\u001b[0;34m.\u001b[0m\u001b[0mdo_open\u001b[0m\u001b[0;34m(\u001b[0m\u001b[0mhttplib\u001b[0m\u001b[0;34m.\u001b[0m\u001b[0mHTTPConnection\u001b[0m\u001b[0;34m,\u001b[0m \u001b[0mreq\u001b[0m\u001b[0;34m)\u001b[0m\u001b[0;34m\u001b[0m\u001b[0m\n\u001b[0m\u001b[1;32m   1228\u001b[0m \u001b[0;34m\u001b[0m\u001b[0m\n\u001b[1;32m   1229\u001b[0m     \u001b[0mhttp_request\u001b[0m \u001b[0;34m=\u001b[0m \u001b[0mAbstractHTTPHandler\u001b[0m\u001b[0;34m.\u001b[0m\u001b[0mdo_request_\u001b[0m\u001b[0;34m\u001b[0m\u001b[0m\n",
      "\u001b[0;32m//anaconda/lib/python2.7/urllib2.pyc\u001b[0m in \u001b[0;36mdo_open\u001b[0;34m(self, http_class, req, **http_conn_args)\u001b[0m\n\u001b[1;32m   1198\u001b[0m         \u001b[0;32melse\u001b[0m\u001b[0;34m:\u001b[0m\u001b[0;34m\u001b[0m\u001b[0m\n\u001b[1;32m   1199\u001b[0m             \u001b[0;32mtry\u001b[0m\u001b[0;34m:\u001b[0m\u001b[0;34m\u001b[0m\u001b[0m\n\u001b[0;32m-> 1200\u001b[0;31m                 \u001b[0mr\u001b[0m \u001b[0;34m=\u001b[0m \u001b[0mh\u001b[0m\u001b[0;34m.\u001b[0m\u001b[0mgetresponse\u001b[0m\u001b[0;34m(\u001b[0m\u001b[0mbuffering\u001b[0m\u001b[0;34m=\u001b[0m\u001b[0mTrue\u001b[0m\u001b[0;34m)\u001b[0m\u001b[0;34m\u001b[0m\u001b[0m\n\u001b[0m\u001b[1;32m   1201\u001b[0m             \u001b[0;32mexcept\u001b[0m \u001b[0mTypeError\u001b[0m\u001b[0;34m:\u001b[0m \u001b[0;31m# buffering kw not supported\u001b[0m\u001b[0;34m\u001b[0m\u001b[0m\n\u001b[1;32m   1202\u001b[0m                 \u001b[0mr\u001b[0m \u001b[0;34m=\u001b[0m \u001b[0mh\u001b[0m\u001b[0;34m.\u001b[0m\u001b[0mgetresponse\u001b[0m\u001b[0;34m(\u001b[0m\u001b[0;34m)\u001b[0m\u001b[0;34m\u001b[0m\u001b[0m\n",
      "\u001b[0;32m//anaconda/lib/python2.7/httplib.pyc\u001b[0m in \u001b[0;36mgetresponse\u001b[0;34m(self, buffering)\u001b[0m\n\u001b[1;32m   1130\u001b[0m \u001b[0;34m\u001b[0m\u001b[0m\n\u001b[1;32m   1131\u001b[0m         \u001b[0;32mtry\u001b[0m\u001b[0;34m:\u001b[0m\u001b[0;34m\u001b[0m\u001b[0m\n\u001b[0;32m-> 1132\u001b[0;31m             \u001b[0mresponse\u001b[0m\u001b[0;34m.\u001b[0m\u001b[0mbegin\u001b[0m\u001b[0;34m(\u001b[0m\u001b[0;34m)\u001b[0m\u001b[0;34m\u001b[0m\u001b[0m\n\u001b[0m\u001b[1;32m   1133\u001b[0m             \u001b[0;32massert\u001b[0m \u001b[0mresponse\u001b[0m\u001b[0;34m.\u001b[0m\u001b[0mwill_close\u001b[0m \u001b[0;34m!=\u001b[0m \u001b[0m_UNKNOWN\u001b[0m\u001b[0;34m\u001b[0m\u001b[0m\n\u001b[1;32m   1134\u001b[0m             \u001b[0mself\u001b[0m\u001b[0;34m.\u001b[0m\u001b[0m__state\u001b[0m \u001b[0;34m=\u001b[0m \u001b[0m_CS_IDLE\u001b[0m\u001b[0;34m\u001b[0m\u001b[0m\n",
      "\u001b[0;32m//anaconda/lib/python2.7/httplib.pyc\u001b[0m in \u001b[0;36mbegin\u001b[0;34m(self)\u001b[0m\n\u001b[1;32m    451\u001b[0m         \u001b[0;31m# read until we get a non-100 response\u001b[0m\u001b[0;34m\u001b[0m\u001b[0;34m\u001b[0m\u001b[0m\n\u001b[1;32m    452\u001b[0m         \u001b[0;32mwhile\u001b[0m \u001b[0mTrue\u001b[0m\u001b[0;34m:\u001b[0m\u001b[0;34m\u001b[0m\u001b[0m\n\u001b[0;32m--> 453\u001b[0;31m             \u001b[0mversion\u001b[0m\u001b[0;34m,\u001b[0m \u001b[0mstatus\u001b[0m\u001b[0;34m,\u001b[0m \u001b[0mreason\u001b[0m \u001b[0;34m=\u001b[0m \u001b[0mself\u001b[0m\u001b[0;34m.\u001b[0m\u001b[0m_read_status\u001b[0m\u001b[0;34m(\u001b[0m\u001b[0;34m)\u001b[0m\u001b[0;34m\u001b[0m\u001b[0m\n\u001b[0m\u001b[1;32m    454\u001b[0m             \u001b[0;32mif\u001b[0m \u001b[0mstatus\u001b[0m \u001b[0;34m!=\u001b[0m \u001b[0mCONTINUE\u001b[0m\u001b[0;34m:\u001b[0m\u001b[0;34m\u001b[0m\u001b[0m\n\u001b[1;32m    455\u001b[0m                 \u001b[0;32mbreak\u001b[0m\u001b[0;34m\u001b[0m\u001b[0m\n",
      "\u001b[0;32m//anaconda/lib/python2.7/httplib.pyc\u001b[0m in \u001b[0;36m_read_status\u001b[0;34m(self)\u001b[0m\n\u001b[1;32m    407\u001b[0m     \u001b[0;32mdef\u001b[0m \u001b[0m_read_status\u001b[0m\u001b[0;34m(\u001b[0m\u001b[0mself\u001b[0m\u001b[0;34m)\u001b[0m\u001b[0;34m:\u001b[0m\u001b[0;34m\u001b[0m\u001b[0m\n\u001b[1;32m    408\u001b[0m         \u001b[0;31m# Initialize with Simple-Response defaults\u001b[0m\u001b[0;34m\u001b[0m\u001b[0;34m\u001b[0m\u001b[0m\n\u001b[0;32m--> 409\u001b[0;31m         \u001b[0mline\u001b[0m \u001b[0;34m=\u001b[0m \u001b[0mself\u001b[0m\u001b[0;34m.\u001b[0m\u001b[0mfp\u001b[0m\u001b[0;34m.\u001b[0m\u001b[0mreadline\u001b[0m\u001b[0;34m(\u001b[0m\u001b[0m_MAXLINE\u001b[0m \u001b[0;34m+\u001b[0m \u001b[0;36m1\u001b[0m\u001b[0;34m)\u001b[0m\u001b[0;34m\u001b[0m\u001b[0m\n\u001b[0m\u001b[1;32m    410\u001b[0m         \u001b[0;32mif\u001b[0m \u001b[0mlen\u001b[0m\u001b[0;34m(\u001b[0m\u001b[0mline\u001b[0m\u001b[0;34m)\u001b[0m \u001b[0;34m>\u001b[0m \u001b[0m_MAXLINE\u001b[0m\u001b[0;34m:\u001b[0m\u001b[0;34m\u001b[0m\u001b[0m\n\u001b[1;32m    411\u001b[0m             \u001b[0;32mraise\u001b[0m \u001b[0mLineTooLong\u001b[0m\u001b[0;34m(\u001b[0m\u001b[0;34m\"header line\"\u001b[0m\u001b[0;34m)\u001b[0m\u001b[0;34m\u001b[0m\u001b[0m\n",
      "\u001b[0;32m//anaconda/lib/python2.7/socket.pyc\u001b[0m in \u001b[0;36mreadline\u001b[0;34m(self, size)\u001b[0m\n\u001b[1;32m    478\u001b[0m             \u001b[0;32mwhile\u001b[0m \u001b[0mTrue\u001b[0m\u001b[0;34m:\u001b[0m\u001b[0;34m\u001b[0m\u001b[0m\n\u001b[1;32m    479\u001b[0m                 \u001b[0;32mtry\u001b[0m\u001b[0;34m:\u001b[0m\u001b[0;34m\u001b[0m\u001b[0m\n\u001b[0;32m--> 480\u001b[0;31m                     \u001b[0mdata\u001b[0m \u001b[0;34m=\u001b[0m \u001b[0mself\u001b[0m\u001b[0;34m.\u001b[0m\u001b[0m_sock\u001b[0m\u001b[0;34m.\u001b[0m\u001b[0mrecv\u001b[0m\u001b[0;34m(\u001b[0m\u001b[0mself\u001b[0m\u001b[0;34m.\u001b[0m\u001b[0m_rbufsize\u001b[0m\u001b[0;34m)\u001b[0m\u001b[0;34m\u001b[0m\u001b[0m\n\u001b[0m\u001b[1;32m    481\u001b[0m                 \u001b[0;32mexcept\u001b[0m \u001b[0merror\u001b[0m\u001b[0;34m,\u001b[0m \u001b[0me\u001b[0m\u001b[0;34m:\u001b[0m\u001b[0;34m\u001b[0m\u001b[0m\n\u001b[1;32m    482\u001b[0m                     \u001b[0;32mif\u001b[0m \u001b[0me\u001b[0m\u001b[0;34m.\u001b[0m\u001b[0margs\u001b[0m\u001b[0;34m[\u001b[0m\u001b[0;36m0\u001b[0m\u001b[0;34m]\u001b[0m \u001b[0;34m==\u001b[0m \u001b[0mEINTR\u001b[0m\u001b[0;34m:\u001b[0m\u001b[0;34m\u001b[0m\u001b[0m\n",
      "\u001b[0;31merror\u001b[0m: [Errno 60] Operation timed out"
     ]
    }
   ],
   "source": [
    "i = 154\n",
    "for link in futon_links[154:]:\n",
    "    product_dict = wayfair_product_info_scrapper(link, category_input='futon')\n",
    "    df_product = pd.DataFrame([product_dict], index=[i])\n",
    "    futon_df = pd.concat([futon_df, df_product], axis=0)\n",
    "    i += 1\n",
    "    if i % 20 == 0:\n",
    "        print i"
   ]
  },
  {
   "cell_type": "code",
   "execution_count": 413,
   "metadata": {
    "collapsed": false
   },
   "outputs": [
    {
     "name": "stdout",
     "output_type": "stream",
     "text": [
      "<class 'pandas.core.frame.DataFrame'>\n",
      "Int64Index: 284 entries, 0 to 283\n",
      "Data columns (total 15 columns):\n",
      "category                284 non-null object\n",
      "colors                  284 non-null object\n",
      "description             203 non-null object\n",
      "features                284 non-null object\n",
      "image_links_all         284 non-null object\n",
      "image_links_by_color    284 non-null object\n",
      "manufacturer            284 non-null object\n",
      "price                   284 non-null object\n",
      "product_id              284 non-null object\n",
      "rating_avg              225 non-null object\n",
      "rating_count            225 non-null object\n",
      "specs                   262 non-null object\n",
      "title                   284 non-null object\n",
      "url                     284 non-null object\n",
      "website                 284 non-null object\n",
      "dtypes: object(15)\n",
      "memory usage: 35.5+ KB\n"
     ]
    }
   ],
   "source": [
    "futon_df.info()"
   ]
  },
  {
   "cell_type": "code",
   "execution_count": 418,
   "metadata": {
    "collapsed": false
   },
   "outputs": [
    {
     "name": "stdout",
     "output_type": "stream",
     "text": [
      "300\n",
      "320\n",
      "340\n"
     ]
    },
    {
     "ename": "AttributeError",
     "evalue": "'NoneType' object has no attribute 'text'",
     "output_type": "error",
     "traceback": [
      "\u001b[0;31m---------------------------------------------------------------------------\u001b[0m",
      "\u001b[0;31mAttributeError\u001b[0m                            Traceback (most recent call last)",
      "\u001b[0;32m<ipython-input-418-86e143fdd084>\u001b[0m in \u001b[0;36m<module>\u001b[0;34m()\u001b[0m\n\u001b[1;32m      1\u001b[0m \u001b[0mi\u001b[0m \u001b[0;34m=\u001b[0m\u001b[0;36m284\u001b[0m\u001b[0;34m\u001b[0m\u001b[0m\n\u001b[1;32m      2\u001b[0m \u001b[0;32mfor\u001b[0m \u001b[0mlink\u001b[0m \u001b[0;32min\u001b[0m \u001b[0mfuton_links\u001b[0m\u001b[0;34m[\u001b[0m\u001b[0;36m284\u001b[0m\u001b[0;34m:\u001b[0m\u001b[0;34m]\u001b[0m\u001b[0;34m:\u001b[0m\u001b[0;34m\u001b[0m\u001b[0m\n\u001b[0;32m----> 3\u001b[0;31m     \u001b[0mproduct_dict\u001b[0m \u001b[0;34m=\u001b[0m \u001b[0mwayfair_product_info_scrapper\u001b[0m\u001b[0;34m(\u001b[0m\u001b[0mlink\u001b[0m\u001b[0;34m,\u001b[0m \u001b[0mcategory_input\u001b[0m\u001b[0;34m=\u001b[0m\u001b[0;34m'futon'\u001b[0m\u001b[0;34m)\u001b[0m\u001b[0;34m\u001b[0m\u001b[0m\n\u001b[0m\u001b[1;32m      4\u001b[0m     \u001b[0mdf_product\u001b[0m \u001b[0;34m=\u001b[0m \u001b[0mpd\u001b[0m\u001b[0;34m.\u001b[0m\u001b[0mDataFrame\u001b[0m\u001b[0;34m(\u001b[0m\u001b[0;34m[\u001b[0m\u001b[0mproduct_dict\u001b[0m\u001b[0;34m]\u001b[0m\u001b[0;34m,\u001b[0m \u001b[0mindex\u001b[0m\u001b[0;34m=\u001b[0m\u001b[0;34m[\u001b[0m\u001b[0mi\u001b[0m\u001b[0;34m]\u001b[0m\u001b[0;34m)\u001b[0m\u001b[0;34m\u001b[0m\u001b[0m\n\u001b[1;32m      5\u001b[0m     \u001b[0mfuton_df\u001b[0m \u001b[0;34m=\u001b[0m \u001b[0mpd\u001b[0m\u001b[0;34m.\u001b[0m\u001b[0mconcat\u001b[0m\u001b[0;34m(\u001b[0m\u001b[0;34m[\u001b[0m\u001b[0mfuton_df\u001b[0m\u001b[0;34m,\u001b[0m \u001b[0mdf_product\u001b[0m\u001b[0;34m]\u001b[0m\u001b[0;34m,\u001b[0m \u001b[0maxis\u001b[0m\u001b[0;34m=\u001b[0m\u001b[0;36m0\u001b[0m\u001b[0;34m)\u001b[0m\u001b[0;34m\u001b[0m\u001b[0m\n",
      "\u001b[0;32m<ipython-input-417-f07b798788de>\u001b[0m in \u001b[0;36mwayfair_product_info_scrapper\u001b[0;34m(link, category_input)\u001b[0m\n\u001b[1;32m     31\u001b[0m     \u001b[0msoup\u001b[0m \u001b[0;34m=\u001b[0m \u001b[0mBeautifulSoup\u001b[0m\u001b[0;34m(\u001b[0m\u001b[0mhtml\u001b[0m\u001b[0;34m,\u001b[0m \u001b[0;34m'html.parser'\u001b[0m\u001b[0;34m)\u001b[0m\u001b[0;34m\u001b[0m\u001b[0m\n\u001b[1;32m     32\u001b[0m \u001b[0;34m\u001b[0m\u001b[0m\n\u001b[0;32m---> 33\u001b[0;31m     \u001b[0mproduct_id\u001b[0m \u001b[0;34m=\u001b[0m \u001b[0msoup\u001b[0m\u001b[0;34m.\u001b[0m\u001b[0mfind\u001b[0m\u001b[0;34m(\u001b[0m\u001b[0;34m'span'\u001b[0m\u001b[0;34m,\u001b[0m \u001b[0;34m{\u001b[0m\u001b[0;34m'class'\u001b[0m\u001b[0;34m:\u001b[0m \u001b[0;34m'product_breadcrumb'\u001b[0m\u001b[0;34m}\u001b[0m\u001b[0;34m)\u001b[0m\u001b[0;34m.\u001b[0m\u001b[0mtext\u001b[0m\u001b[0;34m.\u001b[0m\u001b[0msplit\u001b[0m\u001b[0;34m(\u001b[0m\u001b[0;34m':'\u001b[0m\u001b[0;34m)\u001b[0m\u001b[0;34m[\u001b[0m\u001b[0;36m1\u001b[0m\u001b[0;34m]\u001b[0m\u001b[0;34m\u001b[0m\u001b[0m\n\u001b[0m\u001b[1;32m     34\u001b[0m     \u001b[0mwebsite\u001b[0m \u001b[0;34m=\u001b[0m \u001b[0;34m'wayfair'\u001b[0m\u001b[0;34m\u001b[0m\u001b[0m\n\u001b[1;32m     35\u001b[0m     \u001b[0mcategory\u001b[0m \u001b[0;34m=\u001b[0m \u001b[0mcategory_input\u001b[0m\u001b[0;34m\u001b[0m\u001b[0m\n",
      "\u001b[0;31mAttributeError\u001b[0m: 'NoneType' object has no attribute 'text'"
     ]
    }
   ],
   "source": [
    "i =284\n",
    "for link in futon_links[284:]:\n",
    "    product_dict = wayfair_product_info_scrapper(link, category_input='futon')\n",
    "    df_product = pd.DataFrame([product_dict], index=[i])\n",
    "    futon_df = pd.concat([futon_df, df_product], axis=0)\n",
    "    i += 1\n",
    "    if i % 20 == 0:\n",
    "        print i"
   ]
  },
  {
   "cell_type": "code",
   "execution_count": 419,
   "metadata": {
    "collapsed": false
   },
   "outputs": [
    {
     "name": "stdout",
     "output_type": "stream",
     "text": [
      "<class 'pandas.core.frame.DataFrame'>\n",
      "Int64Index: 354 entries, 0 to 353\n",
      "Data columns (total 15 columns):\n",
      "category                354 non-null object\n",
      "colors                  354 non-null object\n",
      "description             267 non-null object\n",
      "features                354 non-null object\n",
      "image_links_all         354 non-null object\n",
      "image_links_by_color    354 non-null object\n",
      "manufacturer            354 non-null object\n",
      "price                   354 non-null object\n",
      "product_id              354 non-null object\n",
      "rating_avg              259 non-null object\n",
      "rating_count            259 non-null object\n",
      "specs                   324 non-null object\n",
      "title                   354 non-null object\n",
      "url                     354 non-null object\n",
      "website                 354 non-null object\n",
      "dtypes: object(15)\n",
      "memory usage: 44.2+ KB\n"
     ]
    }
   ],
   "source": [
    "futon_df.info()"
   ]
  },
  {
   "cell_type": "code",
   "execution_count": 422,
   "metadata": {
    "collapsed": false
   },
   "outputs": [
    {
     "data": {
      "text/plain": [
       "416"
      ]
     },
     "execution_count": 422,
     "metadata": {},
     "output_type": "execute_result"
    }
   ],
   "source": [
    "len(futon_links)"
   ]
  },
  {
   "cell_type": "code",
   "execution_count": 421,
   "metadata": {
    "collapsed": false
   },
   "outputs": [],
   "source": [
    "dead_link = futon_links[354]"
   ]
  },
  {
   "cell_type": "code",
   "execution_count": 423,
   "metadata": {
    "collapsed": true
   },
   "outputs": [],
   "source": [
    "futon_links.remove(dead_link)"
   ]
  },
  {
   "cell_type": "code",
   "execution_count": 424,
   "metadata": {
    "collapsed": false
   },
   "outputs": [
    {
     "data": {
      "text/plain": [
       "415"
      ]
     },
     "execution_count": 424,
     "metadata": {},
     "output_type": "execute_result"
    }
   ],
   "source": [
    "len(futon_links)"
   ]
  },
  {
   "cell_type": "code",
   "execution_count": 425,
   "metadata": {
    "collapsed": false
   },
   "outputs": [
    {
     "name": "stdout",
     "output_type": "stream",
     "text": [
      "360\n",
      "380\n",
      "400\n"
     ]
    }
   ],
   "source": [
    "i = 354\n",
    "for link in futon_links[354:]:\n",
    "    product_dict = wayfair_product_info_scrapper(link, category_input='futon')\n",
    "    df_product = pd.DataFrame([product_dict], index=[i])\n",
    "    futon_df = pd.concat([futon_df, df_product], axis=0)\n",
    "    i += 1\n",
    "    if i % 20 == 0:\n",
    "        print i"
   ]
  },
  {
   "cell_type": "code",
   "execution_count": 427,
   "metadata": {
    "collapsed": false
   },
   "outputs": [
    {
     "name": "stdout",
     "output_type": "stream",
     "text": [
      "<class 'pandas.core.frame.DataFrame'>\n",
      "Int64Index: 415 entries, 0 to 414\n",
      "Data columns (total 15 columns):\n",
      "category                415 non-null object\n",
      "colors                  415 non-null object\n",
      "description             314 non-null object\n",
      "features                415 non-null object\n",
      "image_links_all         415 non-null object\n",
      "image_links_by_color    415 non-null object\n",
      "manufacturer            415 non-null object\n",
      "price                   415 non-null object\n",
      "product_id              415 non-null object\n",
      "rating_avg              293 non-null object\n",
      "rating_count            293 non-null object\n",
      "specs                   376 non-null object\n",
      "title                   415 non-null object\n",
      "url                     415 non-null object\n",
      "website                 415 non-null object\n",
      "dtypes: object(15)\n",
      "memory usage: 51.9+ KB\n"
     ]
    }
   ],
   "source": [
    "futon_df.info()"
   ]
  },
  {
   "cell_type": "code",
   "execution_count": 428,
   "metadata": {
    "collapsed": true
   },
   "outputs": [],
   "source": [
    "futon_df.to_json('wayfair/futon.json')"
   ]
  },
  {
   "cell_type": "code",
   "execution_count": 429,
   "metadata": {
    "collapsed": false
   },
   "outputs": [
    {
     "data": {
      "text/plain": [
       "'Mon Sep 21 10:17:23 2015'"
      ]
     },
     "execution_count": 429,
     "metadata": {},
     "output_type": "execute_result"
    }
   ],
   "source": [
    "time.ctime(time.time())"
   ]
  },
  {
   "cell_type": "code",
   "execution_count": 430,
   "metadata": {
    "collapsed": false
   },
   "outputs": [
    {
     "data": {
      "text/html": [
       "<div>\n",
       "<table border=\"1\" class=\"dataframe\">\n",
       "  <thead>\n",
       "    <tr style=\"text-align: right;\">\n",
       "      <th></th>\n",
       "      <th>category</th>\n",
       "      <th>colors</th>\n",
       "      <th>description</th>\n",
       "      <th>features</th>\n",
       "      <th>image_links_all</th>\n",
       "      <th>image_links_by_color</th>\n",
       "      <th>manufacturer</th>\n",
       "      <th>price</th>\n",
       "      <th>product_id</th>\n",
       "      <th>rating_avg</th>\n",
       "      <th>rating_count</th>\n",
       "      <th>specs</th>\n",
       "      <th>title</th>\n",
       "      <th>url</th>\n",
       "      <th>website</th>\n",
       "    </tr>\n",
       "  </thead>\n",
       "  <tbody>\n",
       "    <tr>\n",
       "      <th>0</th>\n",
       "      <td>futon</td>\n",
       "      <td>[]</td>\n",
       "      <td>A streamlined profiled accentuated by a lush p...</td>\n",
       "      <td>[\\nFeatures\\n\\nUpholstered in black microfiber...</td>\n",
       "      <td>[https://secure.img1.wfrcdn.com/lf/49/hash/765...</td>\n",
       "      <td>{}</td>\n",
       "      <td>Zipcode Design</td>\n",
       "      <td>$134.99</td>\n",
       "      <td>ZIPC1715</td>\n",
       "      <td>3.8</td>\n",
       "      <td>26</td>\n",
       "      <td>\\nWeights &amp; Dimensions\\n\\n\\n\\n            Over...</td>\n",
       "      <td>Jaden Futon</td>\n",
       "      <td>http://www.wayfair.com/Kent-Futon-and-Mattress...</td>\n",
       "      <td>wayfair</td>\n",
       "    </tr>\n",
       "    <tr>\n",
       "      <th>1</th>\n",
       "      <td>futon</td>\n",
       "      <td>[Black, Pink, Teal]</td>\n",
       "      <td>Perfectly sized for your kids to study, play v...</td>\n",
       "      <td>[\\nFeatures\\n\\nWide enough to seat 2 people\\nP...</td>\n",
       "      <td>[https://secure.img2.wfrcdn.com/lf/49/hash/765...</td>\n",
       "      <td>{u'Pink': [u'https://secure.img1.wfrcdn.com/lf...</td>\n",
       "      <td>DHP</td>\n",
       "      <td>$116.99</td>\n",
       "      <td>DRL1371</td>\n",
       "      <td>4.0</td>\n",
       "      <td>108</td>\n",
       "      <td>\\nWeights &amp; Dimensions\\n\\n\\n\\n            Over...</td>\n",
       "      <td>Ariana Junior Futon</td>\n",
       "      <td>http://www.wayfair.com/DHP-Ariana-Junior-Futon...</td>\n",
       "      <td>wayfair</td>\n",
       "    </tr>\n",
       "    <tr>\n",
       "      <th>2</th>\n",
       "      <td>futon</td>\n",
       "      <td>[]</td>\n",
       "      <td>Add some contrasting colors into your home wit...</td>\n",
       "      <td>[\\nFeatures\\n\\nFuton is upholstered in black f...</td>\n",
       "      <td>[https://secure.img1.wfrcdn.com/lf/49/hash/305...</td>\n",
       "      <td>{}</td>\n",
       "      <td>Zipcode Design</td>\n",
       "      <td>$192.99</td>\n",
       "      <td>ZIPC1716</td>\n",
       "      <td>4.7</td>\n",
       "      <td>22</td>\n",
       "      <td>\\nWeights &amp; Dimensions\\n\\n\\n\\n            Over...</td>\n",
       "      <td>Heather Futon</td>\n",
       "      <td>http://www.wayfair.com/Axel-Futon-and-Mattress...</td>\n",
       "      <td>wayfair</td>\n",
       "    </tr>\n",
       "    <tr>\n",
       "      <th>3</th>\n",
       "      <td>futon</td>\n",
       "      <td>[]</td>\n",
       "      <td>Perfect for small spaces, the futon combines s...</td>\n",
       "      <td>[\\nFeatures\\n\\nUpholstered in black microfiber...</td>\n",
       "      <td>[https://secure.img1.wfrcdn.com/lf/49/hash/305...</td>\n",
       "      <td>{}</td>\n",
       "      <td>Zipcode Design</td>\n",
       "      <td>$149.99</td>\n",
       "      <td>ZIPC1714</td>\n",
       "      <td>4.1</td>\n",
       "      <td>26</td>\n",
       "      <td>\\nWeights &amp; Dimensions\\n\\n\\n\\n            Over...</td>\n",
       "      <td>Alex Futon</td>\n",
       "      <td>http://www.wayfair.com/Mica-Futon-and-Mattress...</td>\n",
       "      <td>wayfair</td>\n",
       "    </tr>\n",
       "    <tr>\n",
       "      <th>4</th>\n",
       "      <td>futon</td>\n",
       "      <td>[Black, Brown, Charcoal, Red]</td>\n",
       "      <td>Style meets functionality in the DHP Lodge Fut...</td>\n",
       "      <td>[\\nFeatures\\n\\nIdeal for sitting, lounging and...</td>\n",
       "      <td>[https://secure.img1.wfrcdn.com/lf/49/hash/765...</td>\n",
       "      <td>{u'Brown': [u'https://secure.img2.wfrcdn.com/l...</td>\n",
       "      <td>DHP</td>\n",
       "      <td>$150.99</td>\n",
       "      <td>DRL1299</td>\n",
       "      <td>4.1</td>\n",
       "      <td>261</td>\n",
       "      <td>\\nWeights &amp; Dimensions\\nSitting\\n\\n\\n         ...</td>\n",
       "      <td>Lodge Futon Frame &amp; Mattress</td>\n",
       "      <td>http://www.wayfair.com/DHP-Lodge-Futon-Frame-a...</td>\n",
       "      <td>wayfair</td>\n",
       "    </tr>\n",
       "  </tbody>\n",
       "</table>\n",
       "</div>"
      ],
      "text/plain": [
       "  category                         colors  \\\n",
       "0    futon                             []   \n",
       "1    futon            [Black, Pink, Teal]   \n",
       "2    futon                             []   \n",
       "3    futon                             []   \n",
       "4    futon  [Black, Brown, Charcoal, Red]   \n",
       "\n",
       "                                         description  \\\n",
       "0  A streamlined profiled accentuated by a lush p...   \n",
       "1  Perfectly sized for your kids to study, play v...   \n",
       "2  Add some contrasting colors into your home wit...   \n",
       "3  Perfect for small spaces, the futon combines s...   \n",
       "4  Style meets functionality in the DHP Lodge Fut...   \n",
       "\n",
       "                                            features  \\\n",
       "0  [\\nFeatures\\n\\nUpholstered in black microfiber...   \n",
       "1  [\\nFeatures\\n\\nWide enough to seat 2 people\\nP...   \n",
       "2  [\\nFeatures\\n\\nFuton is upholstered in black f...   \n",
       "3  [\\nFeatures\\n\\nUpholstered in black microfiber...   \n",
       "4  [\\nFeatures\\n\\nIdeal for sitting, lounging and...   \n",
       "\n",
       "                                     image_links_all  \\\n",
       "0  [https://secure.img1.wfrcdn.com/lf/49/hash/765...   \n",
       "1  [https://secure.img2.wfrcdn.com/lf/49/hash/765...   \n",
       "2  [https://secure.img1.wfrcdn.com/lf/49/hash/305...   \n",
       "3  [https://secure.img1.wfrcdn.com/lf/49/hash/305...   \n",
       "4  [https://secure.img1.wfrcdn.com/lf/49/hash/765...   \n",
       "\n",
       "                                image_links_by_color    manufacturer    price  \\\n",
       "0                                                 {}  Zipcode Design  $134.99   \n",
       "1  {u'Pink': [u'https://secure.img1.wfrcdn.com/lf...             DHP  $116.99   \n",
       "2                                                 {}  Zipcode Design  $192.99   \n",
       "3                                                 {}  Zipcode Design  $149.99   \n",
       "4  {u'Brown': [u'https://secure.img2.wfrcdn.com/l...             DHP  $150.99   \n",
       "\n",
       "  product_id rating_avg rating_count  \\\n",
       "0   ZIPC1715        3.8           26   \n",
       "1    DRL1371        4.0          108   \n",
       "2   ZIPC1716        4.7           22   \n",
       "3   ZIPC1714        4.1           26   \n",
       "4    DRL1299        4.1          261   \n",
       "\n",
       "                                               specs  \\\n",
       "0  \\nWeights & Dimensions\\n\\n\\n\\n            Over...   \n",
       "1  \\nWeights & Dimensions\\n\\n\\n\\n            Over...   \n",
       "2  \\nWeights & Dimensions\\n\\n\\n\\n            Over...   \n",
       "3  \\nWeights & Dimensions\\n\\n\\n\\n            Over...   \n",
       "4  \\nWeights & Dimensions\\nSitting\\n\\n\\n         ...   \n",
       "\n",
       "                          title  \\\n",
       "0                   Jaden Futon   \n",
       "1           Ariana Junior Futon   \n",
       "2                 Heather Futon   \n",
       "3                    Alex Futon   \n",
       "4  Lodge Futon Frame & Mattress   \n",
       "\n",
       "                                                 url  website  \n",
       "0  http://www.wayfair.com/Kent-Futon-and-Mattress...  wayfair  \n",
       "1  http://www.wayfair.com/DHP-Ariana-Junior-Futon...  wayfair  \n",
       "2  http://www.wayfair.com/Axel-Futon-and-Mattress...  wayfair  \n",
       "3  http://www.wayfair.com/Mica-Futon-and-Mattress...  wayfair  \n",
       "4  http://www.wayfair.com/DHP-Lodge-Futon-Frame-a...  wayfair  "
      ]
     },
     "execution_count": 430,
     "metadata": {},
     "output_type": "execute_result"
    }
   ],
   "source": [
    "futon_df.head()"
   ]
  },
  {
   "cell_type": "code",
   "execution_count": 432,
   "metadata": {
    "collapsed": false
   },
   "outputs": [
    {
     "data": {
      "text/plain": [
       "list"
      ]
     },
     "execution_count": 432,
     "metadata": {},
     "output_type": "execute_result"
    }
   ],
   "source": [
    "type(futon_df['image_links_all'].values[0])"
   ]
  },
  {
   "cell_type": "markdown",
   "metadata": {},
   "source": [
    "# Loveseats"
   ]
  },
  {
   "cell_type": "code",
   "execution_count": 433,
   "metadata": {
    "collapsed": false
   },
   "outputs": [
    {
     "data": {
      "text/plain": [
       "'Mon Sep 21 10:22:55 2015'"
      ]
     },
     "execution_count": 433,
     "metadata": {},
     "output_type": "execute_result"
    }
   ],
   "source": [
    "time.ctime(time.time())"
   ]
  },
  {
   "cell_type": "code",
   "execution_count": 434,
   "metadata": {
    "collapsed": false
   },
   "outputs": [
    {
     "name": "stdout",
     "output_type": "stream",
     "text": [
      "528\n",
      "   category colors                                        description  \\\n",
      "0  loveseat     []  Featuring dual-toned upholstery and a cozy des...   \n",
      "\n",
      "                                            features  \\\n",
      "0  [\\nFeatures\\n\\nHardwood frames\\nMolded plastic...   \n",
      "\n",
      "                                     image_links_all image_links_by_color  \\\n",
      "0  [https://secure.img1.wfrcdn.com/lf/49/hash/308...                   {}   \n",
      "\n",
      "    manufacturer    price product_id rating_avg rating_count  \\\n",
      "0  Andover Mills  $379.99   ANDO1567        4.3            3   \n",
      "\n",
      "                                               specs              title  \\\n",
      "0  \\nWeights & Dimensions\\n\\n\\n\\n            Over...  Brewster Loveseat   \n",
      "\n",
      "                                                 url  website  \n",
      "0  http://www.wayfair.com/Brewster-Loveseat-ANDO1...  wayfair  \n"
     ]
    },
    {
     "ename": "error",
     "evalue": "[Errno 60] Operation timed out",
     "output_type": "error",
     "traceback": [
      "\u001b[0;31m---------------------------------------------------------------------------\u001b[0m",
      "\u001b[0;31merror\u001b[0m                                     Traceback (most recent call last)",
      "\u001b[0;32m<ipython-input-434-776f752cf0c9>\u001b[0m in \u001b[0;36m<module>\u001b[0;34m()\u001b[0m\n\u001b[1;32m      7\u001b[0m \u001b[0mi\u001b[0m \u001b[0;34m=\u001b[0m \u001b[0;36m1\u001b[0m\u001b[0;34m\u001b[0m\u001b[0m\n\u001b[1;32m      8\u001b[0m \u001b[0;32mfor\u001b[0m \u001b[0mlink\u001b[0m \u001b[0;32min\u001b[0m \u001b[0mloveseat_links\u001b[0m\u001b[0;34m[\u001b[0m\u001b[0;36m1\u001b[0m\u001b[0;34m:\u001b[0m\u001b[0;34m]\u001b[0m\u001b[0;34m:\u001b[0m\u001b[0;34m\u001b[0m\u001b[0m\n\u001b[0;32m----> 9\u001b[0;31m     \u001b[0mproduct_dict\u001b[0m \u001b[0;34m=\u001b[0m \u001b[0mwayfair_product_info_scrapper\u001b[0m\u001b[0;34m(\u001b[0m\u001b[0mlink\u001b[0m\u001b[0;34m,\u001b[0m \u001b[0mcategory_input\u001b[0m\u001b[0;34m=\u001b[0m\u001b[0;34m'loveseat'\u001b[0m\u001b[0;34m)\u001b[0m\u001b[0;34m\u001b[0m\u001b[0m\n\u001b[0m\u001b[1;32m     10\u001b[0m     \u001b[0mdf_product\u001b[0m \u001b[0;34m=\u001b[0m \u001b[0mpd\u001b[0m\u001b[0;34m.\u001b[0m\u001b[0mDataFrame\u001b[0m\u001b[0;34m(\u001b[0m\u001b[0;34m[\u001b[0m\u001b[0mproduct_dict\u001b[0m\u001b[0;34m]\u001b[0m\u001b[0;34m,\u001b[0m \u001b[0mindex\u001b[0m\u001b[0;34m=\u001b[0m\u001b[0;34m[\u001b[0m\u001b[0mi\u001b[0m\u001b[0;34m]\u001b[0m\u001b[0;34m)\u001b[0m\u001b[0;34m\u001b[0m\u001b[0m\n\u001b[1;32m     11\u001b[0m     \u001b[0mloveseat_df\u001b[0m \u001b[0;34m=\u001b[0m \u001b[0mpd\u001b[0m\u001b[0;34m.\u001b[0m\u001b[0mconcat\u001b[0m\u001b[0;34m(\u001b[0m\u001b[0;34m[\u001b[0m\u001b[0mloveseat_df\u001b[0m\u001b[0;34m,\u001b[0m \u001b[0mdf_product\u001b[0m\u001b[0;34m]\u001b[0m\u001b[0;34m,\u001b[0m \u001b[0maxis\u001b[0m\u001b[0;34m=\u001b[0m\u001b[0;36m0\u001b[0m\u001b[0;34m)\u001b[0m\u001b[0;34m\u001b[0m\u001b[0m\n",
      "\u001b[0;32m<ipython-input-417-f07b798788de>\u001b[0m in \u001b[0;36mwayfair_product_info_scrapper\u001b[0;34m(link, category_input)\u001b[0m\n\u001b[1;32m     78\u001b[0m             \u001b[0mcolor_key\u001b[0m \u001b[0;34m=\u001b[0m \u001b[0mcolors\u001b[0m\u001b[0;34m[\u001b[0m\u001b[0mi\u001b[0m\u001b[0;34m]\u001b[0m\u001b[0;34m\u001b[0m\u001b[0m\n\u001b[1;32m     79\u001b[0m             \u001b[0mlink_color\u001b[0m \u001b[0;34m=\u001b[0m \u001b[0mlink\u001b[0m \u001b[0;34m+\u001b[0m \u001b[0mcolor_link\u001b[0m\u001b[0;34m\u001b[0m\u001b[0m\n\u001b[0;32m---> 80\u001b[0;31m             \u001b[0mhtml_color\u001b[0m  \u001b[0;34m=\u001b[0m \u001b[0murlopen\u001b[0m\u001b[0;34m(\u001b[0m\u001b[0mlink_color\u001b[0m\u001b[0;34m)\u001b[0m\u001b[0;34m\u001b[0m\u001b[0m\n\u001b[0m\u001b[1;32m     81\u001b[0m             \u001b[0msoup_color\u001b[0m \u001b[0;34m=\u001b[0m \u001b[0mBeautifulSoup\u001b[0m\u001b[0;34m(\u001b[0m\u001b[0mhtml_color\u001b[0m\u001b[0;34m,\u001b[0m \u001b[0;34m'html.parser'\u001b[0m\u001b[0;34m)\u001b[0m\u001b[0;34m\u001b[0m\u001b[0m\n\u001b[1;32m     82\u001b[0m             \u001b[0mimage_info_color\u001b[0m \u001b[0;34m=\u001b[0m \u001b[0msoup_color\u001b[0m\u001b[0;34m.\u001b[0m\u001b[0mfindAll\u001b[0m\u001b[0;34m(\u001b[0m\u001b[0;34m'a'\u001b[0m\u001b[0;34m,\u001b[0m \u001b[0;34m{\u001b[0m\u001b[0;34m'class'\u001b[0m\u001b[0;34m:\u001b[0m \u001b[0;34m'photoswipe_link'\u001b[0m\u001b[0;34m}\u001b[0m\u001b[0;34m)\u001b[0m\u001b[0;34m\u001b[0m\u001b[0m\n",
      "\u001b[0;32m//anaconda/lib/python2.7/urllib2.pyc\u001b[0m in \u001b[0;36murlopen\u001b[0;34m(url, data, timeout, cafile, capath, cadefault, context)\u001b[0m\n\u001b[1;32m    152\u001b[0m     \u001b[0;32melse\u001b[0m\u001b[0;34m:\u001b[0m\u001b[0;34m\u001b[0m\u001b[0m\n\u001b[1;32m    153\u001b[0m         \u001b[0mopener\u001b[0m \u001b[0;34m=\u001b[0m \u001b[0m_opener\u001b[0m\u001b[0;34m\u001b[0m\u001b[0m\n\u001b[0;32m--> 154\u001b[0;31m     \u001b[0;32mreturn\u001b[0m \u001b[0mopener\u001b[0m\u001b[0;34m.\u001b[0m\u001b[0mopen\u001b[0m\u001b[0;34m(\u001b[0m\u001b[0murl\u001b[0m\u001b[0;34m,\u001b[0m \u001b[0mdata\u001b[0m\u001b[0;34m,\u001b[0m \u001b[0mtimeout\u001b[0m\u001b[0;34m)\u001b[0m\u001b[0;34m\u001b[0m\u001b[0m\n\u001b[0m\u001b[1;32m    155\u001b[0m \u001b[0;34m\u001b[0m\u001b[0m\n\u001b[1;32m    156\u001b[0m \u001b[0;32mdef\u001b[0m \u001b[0minstall_opener\u001b[0m\u001b[0;34m(\u001b[0m\u001b[0mopener\u001b[0m\u001b[0;34m)\u001b[0m\u001b[0;34m:\u001b[0m\u001b[0;34m\u001b[0m\u001b[0m\n",
      "\u001b[0;32m//anaconda/lib/python2.7/urllib2.pyc\u001b[0m in \u001b[0;36mopen\u001b[0;34m(self, fullurl, data, timeout)\u001b[0m\n\u001b[1;32m    429\u001b[0m             \u001b[0mreq\u001b[0m \u001b[0;34m=\u001b[0m \u001b[0mmeth\u001b[0m\u001b[0;34m(\u001b[0m\u001b[0mreq\u001b[0m\u001b[0;34m)\u001b[0m\u001b[0;34m\u001b[0m\u001b[0m\n\u001b[1;32m    430\u001b[0m \u001b[0;34m\u001b[0m\u001b[0m\n\u001b[0;32m--> 431\u001b[0;31m         \u001b[0mresponse\u001b[0m \u001b[0;34m=\u001b[0m \u001b[0mself\u001b[0m\u001b[0;34m.\u001b[0m\u001b[0m_open\u001b[0m\u001b[0;34m(\u001b[0m\u001b[0mreq\u001b[0m\u001b[0;34m,\u001b[0m \u001b[0mdata\u001b[0m\u001b[0;34m)\u001b[0m\u001b[0;34m\u001b[0m\u001b[0m\n\u001b[0m\u001b[1;32m    432\u001b[0m \u001b[0;34m\u001b[0m\u001b[0m\n\u001b[1;32m    433\u001b[0m         \u001b[0;31m# post-process response\u001b[0m\u001b[0;34m\u001b[0m\u001b[0;34m\u001b[0m\u001b[0m\n",
      "\u001b[0;32m//anaconda/lib/python2.7/urllib2.pyc\u001b[0m in \u001b[0;36m_open\u001b[0;34m(self, req, data)\u001b[0m\n\u001b[1;32m    447\u001b[0m         \u001b[0mprotocol\u001b[0m \u001b[0;34m=\u001b[0m \u001b[0mreq\u001b[0m\u001b[0;34m.\u001b[0m\u001b[0mget_type\u001b[0m\u001b[0;34m(\u001b[0m\u001b[0;34m)\u001b[0m\u001b[0;34m\u001b[0m\u001b[0m\n\u001b[1;32m    448\u001b[0m         result = self._call_chain(self.handle_open, protocol, protocol +\n\u001b[0;32m--> 449\u001b[0;31m                                   '_open', req)\n\u001b[0m\u001b[1;32m    450\u001b[0m         \u001b[0;32mif\u001b[0m \u001b[0mresult\u001b[0m\u001b[0;34m:\u001b[0m\u001b[0;34m\u001b[0m\u001b[0m\n\u001b[1;32m    451\u001b[0m             \u001b[0;32mreturn\u001b[0m \u001b[0mresult\u001b[0m\u001b[0;34m\u001b[0m\u001b[0m\n",
      "\u001b[0;32m//anaconda/lib/python2.7/urllib2.pyc\u001b[0m in \u001b[0;36m_call_chain\u001b[0;34m(self, chain, kind, meth_name, *args)\u001b[0m\n\u001b[1;32m    407\u001b[0m             \u001b[0mfunc\u001b[0m \u001b[0;34m=\u001b[0m \u001b[0mgetattr\u001b[0m\u001b[0;34m(\u001b[0m\u001b[0mhandler\u001b[0m\u001b[0;34m,\u001b[0m \u001b[0mmeth_name\u001b[0m\u001b[0;34m)\u001b[0m\u001b[0;34m\u001b[0m\u001b[0m\n\u001b[1;32m    408\u001b[0m \u001b[0;34m\u001b[0m\u001b[0m\n\u001b[0;32m--> 409\u001b[0;31m             \u001b[0mresult\u001b[0m \u001b[0;34m=\u001b[0m \u001b[0mfunc\u001b[0m\u001b[0;34m(\u001b[0m\u001b[0;34m*\u001b[0m\u001b[0margs\u001b[0m\u001b[0;34m)\u001b[0m\u001b[0;34m\u001b[0m\u001b[0m\n\u001b[0m\u001b[1;32m    410\u001b[0m             \u001b[0;32mif\u001b[0m \u001b[0mresult\u001b[0m \u001b[0;32mis\u001b[0m \u001b[0;32mnot\u001b[0m \u001b[0mNone\u001b[0m\u001b[0;34m:\u001b[0m\u001b[0;34m\u001b[0m\u001b[0m\n\u001b[1;32m    411\u001b[0m                 \u001b[0;32mreturn\u001b[0m \u001b[0mresult\u001b[0m\u001b[0;34m\u001b[0m\u001b[0m\n",
      "\u001b[0;32m//anaconda/lib/python2.7/urllib2.pyc\u001b[0m in \u001b[0;36mhttp_open\u001b[0;34m(self, req)\u001b[0m\n\u001b[1;32m   1225\u001b[0m \u001b[0;34m\u001b[0m\u001b[0m\n\u001b[1;32m   1226\u001b[0m     \u001b[0;32mdef\u001b[0m \u001b[0mhttp_open\u001b[0m\u001b[0;34m(\u001b[0m\u001b[0mself\u001b[0m\u001b[0;34m,\u001b[0m \u001b[0mreq\u001b[0m\u001b[0;34m)\u001b[0m\u001b[0;34m:\u001b[0m\u001b[0;34m\u001b[0m\u001b[0m\n\u001b[0;32m-> 1227\u001b[0;31m         \u001b[0;32mreturn\u001b[0m \u001b[0mself\u001b[0m\u001b[0;34m.\u001b[0m\u001b[0mdo_open\u001b[0m\u001b[0;34m(\u001b[0m\u001b[0mhttplib\u001b[0m\u001b[0;34m.\u001b[0m\u001b[0mHTTPConnection\u001b[0m\u001b[0;34m,\u001b[0m \u001b[0mreq\u001b[0m\u001b[0;34m)\u001b[0m\u001b[0;34m\u001b[0m\u001b[0m\n\u001b[0m\u001b[1;32m   1228\u001b[0m \u001b[0;34m\u001b[0m\u001b[0m\n\u001b[1;32m   1229\u001b[0m     \u001b[0mhttp_request\u001b[0m \u001b[0;34m=\u001b[0m \u001b[0mAbstractHTTPHandler\u001b[0m\u001b[0;34m.\u001b[0m\u001b[0mdo_request_\u001b[0m\u001b[0;34m\u001b[0m\u001b[0m\n",
      "\u001b[0;32m//anaconda/lib/python2.7/urllib2.pyc\u001b[0m in \u001b[0;36mdo_open\u001b[0;34m(self, http_class, req, **http_conn_args)\u001b[0m\n\u001b[1;32m   1198\u001b[0m         \u001b[0;32melse\u001b[0m\u001b[0;34m:\u001b[0m\u001b[0;34m\u001b[0m\u001b[0m\n\u001b[1;32m   1199\u001b[0m             \u001b[0;32mtry\u001b[0m\u001b[0;34m:\u001b[0m\u001b[0;34m\u001b[0m\u001b[0m\n\u001b[0;32m-> 1200\u001b[0;31m                 \u001b[0mr\u001b[0m \u001b[0;34m=\u001b[0m \u001b[0mh\u001b[0m\u001b[0;34m.\u001b[0m\u001b[0mgetresponse\u001b[0m\u001b[0;34m(\u001b[0m\u001b[0mbuffering\u001b[0m\u001b[0;34m=\u001b[0m\u001b[0mTrue\u001b[0m\u001b[0;34m)\u001b[0m\u001b[0;34m\u001b[0m\u001b[0m\n\u001b[0m\u001b[1;32m   1201\u001b[0m             \u001b[0;32mexcept\u001b[0m \u001b[0mTypeError\u001b[0m\u001b[0;34m:\u001b[0m \u001b[0;31m# buffering kw not supported\u001b[0m\u001b[0;34m\u001b[0m\u001b[0m\n\u001b[1;32m   1202\u001b[0m                 \u001b[0mr\u001b[0m \u001b[0;34m=\u001b[0m \u001b[0mh\u001b[0m\u001b[0;34m.\u001b[0m\u001b[0mgetresponse\u001b[0m\u001b[0;34m(\u001b[0m\u001b[0;34m)\u001b[0m\u001b[0;34m\u001b[0m\u001b[0m\n",
      "\u001b[0;32m//anaconda/lib/python2.7/httplib.pyc\u001b[0m in \u001b[0;36mgetresponse\u001b[0;34m(self, buffering)\u001b[0m\n\u001b[1;32m   1130\u001b[0m \u001b[0;34m\u001b[0m\u001b[0m\n\u001b[1;32m   1131\u001b[0m         \u001b[0;32mtry\u001b[0m\u001b[0;34m:\u001b[0m\u001b[0;34m\u001b[0m\u001b[0m\n\u001b[0;32m-> 1132\u001b[0;31m             \u001b[0mresponse\u001b[0m\u001b[0;34m.\u001b[0m\u001b[0mbegin\u001b[0m\u001b[0;34m(\u001b[0m\u001b[0;34m)\u001b[0m\u001b[0;34m\u001b[0m\u001b[0m\n\u001b[0m\u001b[1;32m   1133\u001b[0m             \u001b[0;32massert\u001b[0m \u001b[0mresponse\u001b[0m\u001b[0;34m.\u001b[0m\u001b[0mwill_close\u001b[0m \u001b[0;34m!=\u001b[0m \u001b[0m_UNKNOWN\u001b[0m\u001b[0;34m\u001b[0m\u001b[0m\n\u001b[1;32m   1134\u001b[0m             \u001b[0mself\u001b[0m\u001b[0;34m.\u001b[0m\u001b[0m__state\u001b[0m \u001b[0;34m=\u001b[0m \u001b[0m_CS_IDLE\u001b[0m\u001b[0;34m\u001b[0m\u001b[0m\n",
      "\u001b[0;32m//anaconda/lib/python2.7/httplib.pyc\u001b[0m in \u001b[0;36mbegin\u001b[0;34m(self)\u001b[0m\n\u001b[1;32m    451\u001b[0m         \u001b[0;31m# read until we get a non-100 response\u001b[0m\u001b[0;34m\u001b[0m\u001b[0;34m\u001b[0m\u001b[0m\n\u001b[1;32m    452\u001b[0m         \u001b[0;32mwhile\u001b[0m \u001b[0mTrue\u001b[0m\u001b[0;34m:\u001b[0m\u001b[0;34m\u001b[0m\u001b[0m\n\u001b[0;32m--> 453\u001b[0;31m             \u001b[0mversion\u001b[0m\u001b[0;34m,\u001b[0m \u001b[0mstatus\u001b[0m\u001b[0;34m,\u001b[0m \u001b[0mreason\u001b[0m \u001b[0;34m=\u001b[0m \u001b[0mself\u001b[0m\u001b[0;34m.\u001b[0m\u001b[0m_read_status\u001b[0m\u001b[0;34m(\u001b[0m\u001b[0;34m)\u001b[0m\u001b[0;34m\u001b[0m\u001b[0m\n\u001b[0m\u001b[1;32m    454\u001b[0m             \u001b[0;32mif\u001b[0m \u001b[0mstatus\u001b[0m \u001b[0;34m!=\u001b[0m \u001b[0mCONTINUE\u001b[0m\u001b[0;34m:\u001b[0m\u001b[0;34m\u001b[0m\u001b[0m\n\u001b[1;32m    455\u001b[0m                 \u001b[0;32mbreak\u001b[0m\u001b[0;34m\u001b[0m\u001b[0m\n",
      "\u001b[0;32m//anaconda/lib/python2.7/httplib.pyc\u001b[0m in \u001b[0;36m_read_status\u001b[0;34m(self)\u001b[0m\n\u001b[1;32m    407\u001b[0m     \u001b[0;32mdef\u001b[0m \u001b[0m_read_status\u001b[0m\u001b[0;34m(\u001b[0m\u001b[0mself\u001b[0m\u001b[0;34m)\u001b[0m\u001b[0;34m:\u001b[0m\u001b[0;34m\u001b[0m\u001b[0m\n\u001b[1;32m    408\u001b[0m         \u001b[0;31m# Initialize with Simple-Response defaults\u001b[0m\u001b[0;34m\u001b[0m\u001b[0;34m\u001b[0m\u001b[0m\n\u001b[0;32m--> 409\u001b[0;31m         \u001b[0mline\u001b[0m \u001b[0;34m=\u001b[0m \u001b[0mself\u001b[0m\u001b[0;34m.\u001b[0m\u001b[0mfp\u001b[0m\u001b[0;34m.\u001b[0m\u001b[0mreadline\u001b[0m\u001b[0;34m(\u001b[0m\u001b[0m_MAXLINE\u001b[0m \u001b[0;34m+\u001b[0m \u001b[0;36m1\u001b[0m\u001b[0;34m)\u001b[0m\u001b[0;34m\u001b[0m\u001b[0m\n\u001b[0m\u001b[1;32m    410\u001b[0m         \u001b[0;32mif\u001b[0m \u001b[0mlen\u001b[0m\u001b[0;34m(\u001b[0m\u001b[0mline\u001b[0m\u001b[0;34m)\u001b[0m \u001b[0;34m>\u001b[0m \u001b[0m_MAXLINE\u001b[0m\u001b[0;34m:\u001b[0m\u001b[0;34m\u001b[0m\u001b[0m\n\u001b[1;32m    411\u001b[0m             \u001b[0;32mraise\u001b[0m \u001b[0mLineTooLong\u001b[0m\u001b[0;34m(\u001b[0m\u001b[0;34m\"header line\"\u001b[0m\u001b[0;34m)\u001b[0m\u001b[0;34m\u001b[0m\u001b[0m\n",
      "\u001b[0;32m//anaconda/lib/python2.7/socket.pyc\u001b[0m in \u001b[0;36mreadline\u001b[0;34m(self, size)\u001b[0m\n\u001b[1;32m    478\u001b[0m             \u001b[0;32mwhile\u001b[0m \u001b[0mTrue\u001b[0m\u001b[0;34m:\u001b[0m\u001b[0;34m\u001b[0m\u001b[0m\n\u001b[1;32m    479\u001b[0m                 \u001b[0;32mtry\u001b[0m\u001b[0;34m:\u001b[0m\u001b[0;34m\u001b[0m\u001b[0m\n\u001b[0;32m--> 480\u001b[0;31m                     \u001b[0mdata\u001b[0m \u001b[0;34m=\u001b[0m \u001b[0mself\u001b[0m\u001b[0;34m.\u001b[0m\u001b[0m_sock\u001b[0m\u001b[0;34m.\u001b[0m\u001b[0mrecv\u001b[0m\u001b[0;34m(\u001b[0m\u001b[0mself\u001b[0m\u001b[0;34m.\u001b[0m\u001b[0m_rbufsize\u001b[0m\u001b[0;34m)\u001b[0m\u001b[0;34m\u001b[0m\u001b[0m\n\u001b[0m\u001b[1;32m    481\u001b[0m                 \u001b[0;32mexcept\u001b[0m \u001b[0merror\u001b[0m\u001b[0;34m,\u001b[0m \u001b[0me\u001b[0m\u001b[0;34m:\u001b[0m\u001b[0;34m\u001b[0m\u001b[0m\n\u001b[1;32m    482\u001b[0m                     \u001b[0;32mif\u001b[0m \u001b[0me\u001b[0m\u001b[0;34m.\u001b[0m\u001b[0margs\u001b[0m\u001b[0;34m[\u001b[0m\u001b[0;36m0\u001b[0m\u001b[0;34m]\u001b[0m \u001b[0;34m==\u001b[0m \u001b[0mEINTR\u001b[0m\u001b[0;34m:\u001b[0m\u001b[0;34m\u001b[0m\u001b[0m\n",
      "\u001b[0;31merror\u001b[0m: [Errno 60] Operation timed out"
     ]
    }
   ],
   "source": [
    "loveseat_links = get_wayfair_product_links(loveseat_index, num_pages=11)\n",
    "print len(loveseat_links)\n",
    "link_0 = loveseat_links[0]\n",
    "dict_0 = wayfair_product_info_scrapper(link_0, category_input= 'loveseat')\n",
    "loveseat_df = pd.DataFrame([dict_0], index=[0])\n",
    "print loveseat_df\n",
    "i = 1\n",
    "for link in loveseat_links[1:]:\n",
    "    product_dict = wayfair_product_info_scrapper(link, category_input='loveseat')\n",
    "    df_product = pd.DataFrame([product_dict], index=[i])\n",
    "    loveseat_df = pd.concat([loveseat_df, df_product], axis=0)\n",
    "    i += 1\n",
    "    if i % 20 == 0:\n",
    "        print i"
   ]
  },
  {
   "cell_type": "code",
   "execution_count": 440,
   "metadata": {
    "collapsed": false
   },
   "outputs": [
    {
     "name": "stdout",
     "output_type": "stream",
     "text": [
      "<class 'pandas.core.frame.DataFrame'>\n",
      "Int64Index: 4 entries, 0 to 3\n",
      "Data columns (total 15 columns):\n",
      "category                4 non-null object\n",
      "colors                  4 non-null object\n",
      "description             3 non-null object\n",
      "features                4 non-null object\n",
      "image_links_all         4 non-null object\n",
      "image_links_by_color    4 non-null object\n",
      "manufacturer            4 non-null object\n",
      "price                   4 non-null object\n",
      "product_id              4 non-null object\n",
      "rating_avg              4 non-null object\n",
      "rating_count            4 non-null object\n",
      "specs                   4 non-null object\n",
      "title                   4 non-null object\n",
      "url                     4 non-null object\n",
      "website                 4 non-null object\n",
      "dtypes: object(15)\n",
      "memory usage: 512.0+ bytes\n"
     ]
    }
   ],
   "source": [
    "loveseat_df.info()"
   ]
  },
  {
   "cell_type": "code",
   "execution_count": 441,
   "metadata": {
    "collapsed": false
   },
   "outputs": [
    {
     "data": {
      "text/html": [
       "<div>\n",
       "<table border=\"1\" class=\"dataframe\">\n",
       "  <thead>\n",
       "    <tr style=\"text-align: right;\">\n",
       "      <th></th>\n",
       "      <th>category</th>\n",
       "      <th>colors</th>\n",
       "      <th>description</th>\n",
       "      <th>features</th>\n",
       "      <th>image_links_all</th>\n",
       "      <th>image_links_by_color</th>\n",
       "      <th>manufacturer</th>\n",
       "      <th>price</th>\n",
       "      <th>product_id</th>\n",
       "      <th>rating_avg</th>\n",
       "      <th>rating_count</th>\n",
       "      <th>specs</th>\n",
       "      <th>title</th>\n",
       "      <th>url</th>\n",
       "      <th>website</th>\n",
       "    </tr>\n",
       "  </thead>\n",
       "  <tbody>\n",
       "    <tr>\n",
       "      <th>0</th>\n",
       "      <td>loveseat</td>\n",
       "      <td>[]</td>\n",
       "      <td>Featuring dual-toned upholstery and a cozy des...</td>\n",
       "      <td>[\\nFeatures\\n\\nHardwood frames\\nMolded plastic...</td>\n",
       "      <td>[https://secure.img1.wfrcdn.com/lf/49/hash/308...</td>\n",
       "      <td>{}</td>\n",
       "      <td>Andover Mills</td>\n",
       "      <td>$379.99</td>\n",
       "      <td>ANDO1567</td>\n",
       "      <td>4.3</td>\n",
       "      <td>3</td>\n",
       "      <td>\\nWeights &amp; Dimensions\\n\\n\\n\\n            Over...</td>\n",
       "      <td>Brewster Loveseat</td>\n",
       "      <td>http://www.wayfair.com/Brewster-Loveseat-ANDO1...</td>\n",
       "      <td>wayfair</td>\n",
       "    </tr>\n",
       "    <tr>\n",
       "      <th>1</th>\n",
       "      <td>loveseat</td>\n",
       "      <td>[]</td>\n",
       "      <td>This product is manufactured with quality in m...</td>\n",
       "      <td>[\\nFeatures\\n\\nModern style\\nReversible cushio...</td>\n",
       "      <td>[https://secure.img2.wfrcdn.com/lf/49/hash/118...</td>\n",
       "      <td>{}</td>\n",
       "      <td>Serta Upholstery</td>\n",
       "      <td>$609.99</td>\n",
       "      <td>XSQ2020</td>\n",
       "      <td>4.2</td>\n",
       "      <td>10</td>\n",
       "      <td>\\nWeights &amp; Dimensions\\n\\n\\n\\n            Over...</td>\n",
       "      <td>Elizabeth Queen Sleeper Sofa</td>\n",
       "      <td>http://www.wayfair.com/Sleeper-Sofa-1375IQSL01...</td>\n",
       "      <td>wayfair</td>\n",
       "    </tr>\n",
       "    <tr>\n",
       "      <th>2</th>\n",
       "      <td>loveseat</td>\n",
       "      <td>[Café, Cobblestone, Mocha, Sage, Salsa, Stone]</td>\n",
       "      <td>None</td>\n",
       "      <td>[\\nFeatures\\n\\nHeath collection\\n100% Polyeste...</td>\n",
       "      <td>[https://secure.img1.wfrcdn.com/lf/49/hash/266...</td>\n",
       "      <td>{u'Stone': [u'https://secure.img1.wfrcdn.com/l...</td>\n",
       "      <td>Signature Design by Ashley</td>\n",
       "      <td>$361.99</td>\n",
       "      <td>GNT3222</td>\n",
       "      <td>4.5</td>\n",
       "      <td>76</td>\n",
       "      <td>\\nWeights &amp; Dimensions\\n\\n\\n\\n            Over...</td>\n",
       "      <td>Harvest Loveseat</td>\n",
       "      <td>http://www.wayfair.com/Harvest-Loveseat-7500-G...</td>\n",
       "      <td>wayfair</td>\n",
       "    </tr>\n",
       "    <tr>\n",
       "      <th>3</th>\n",
       "      <td>loveseat</td>\n",
       "      <td>[Jackson Bark Microsuede, Jackson Coffee Micro...</td>\n",
       "      <td>With easy, understated elegance, the Owen slip...</td>\n",
       "      <td>[\\nFeatures\\n\\nWood and laminate frame\\nDown b...</td>\n",
       "      <td>[https://secure.img1.wfrcdn.com/lf/49/hash/250...</td>\n",
       "      <td>{u'Griffin Midnight Twill': [u'https://secure....</td>\n",
       "      <td>Birch Lane</td>\n",
       "      <td>$1,120.00</td>\n",
       "      <td>BL3425</td>\n",
       "      <td>5.0</td>\n",
       "      <td>1</td>\n",
       "      <td>\\nWeights &amp; Dimensions\\nSeat Cushion\\n\\n\\n    ...</td>\n",
       "      <td>Owen Loveseat</td>\n",
       "      <td>http://www.wayfair.com/Birch-Lane-Owen-Lovesea...</td>\n",
       "      <td>wayfair</td>\n",
       "    </tr>\n",
       "  </tbody>\n",
       "</table>\n",
       "</div>"
      ],
      "text/plain": [
       "   category                                             colors  \\\n",
       "0  loveseat                                                 []   \n",
       "1  loveseat                                                 []   \n",
       "2  loveseat     [Café, Cobblestone, Mocha, Sage, Salsa, Stone]   \n",
       "3  loveseat  [Jackson Bark Microsuede, Jackson Coffee Micro...   \n",
       "\n",
       "                                         description  \\\n",
       "0  Featuring dual-toned upholstery and a cozy des...   \n",
       "1  This product is manufactured with quality in m...   \n",
       "2                                               None   \n",
       "3  With easy, understated elegance, the Owen slip...   \n",
       "\n",
       "                                            features  \\\n",
       "0  [\\nFeatures\\n\\nHardwood frames\\nMolded plastic...   \n",
       "1  [\\nFeatures\\n\\nModern style\\nReversible cushio...   \n",
       "2  [\\nFeatures\\n\\nHeath collection\\n100% Polyeste...   \n",
       "3  [\\nFeatures\\n\\nWood and laminate frame\\nDown b...   \n",
       "\n",
       "                                     image_links_all  \\\n",
       "0  [https://secure.img1.wfrcdn.com/lf/49/hash/308...   \n",
       "1  [https://secure.img2.wfrcdn.com/lf/49/hash/118...   \n",
       "2  [https://secure.img1.wfrcdn.com/lf/49/hash/266...   \n",
       "3  [https://secure.img1.wfrcdn.com/lf/49/hash/250...   \n",
       "\n",
       "                                image_links_by_color  \\\n",
       "0                                                 {}   \n",
       "1                                                 {}   \n",
       "2  {u'Stone': [u'https://secure.img1.wfrcdn.com/l...   \n",
       "3  {u'Griffin Midnight Twill': [u'https://secure....   \n",
       "\n",
       "                 manufacturer      price product_id rating_avg rating_count  \\\n",
       "0               Andover Mills    $379.99   ANDO1567        4.3            3   \n",
       "1            Serta Upholstery    $609.99    XSQ2020        4.2           10   \n",
       "2  Signature Design by Ashley    $361.99    GNT3222        4.5           76   \n",
       "3                  Birch Lane  $1,120.00     BL3425        5.0            1   \n",
       "\n",
       "                                               specs  \\\n",
       "0  \\nWeights & Dimensions\\n\\n\\n\\n            Over...   \n",
       "1  \\nWeights & Dimensions\\n\\n\\n\\n            Over...   \n",
       "2  \\nWeights & Dimensions\\n\\n\\n\\n            Over...   \n",
       "3  \\nWeights & Dimensions\\nSeat Cushion\\n\\n\\n    ...   \n",
       "\n",
       "                          title  \\\n",
       "0             Brewster Loveseat   \n",
       "1  Elizabeth Queen Sleeper Sofa   \n",
       "2              Harvest Loveseat   \n",
       "3                 Owen Loveseat   \n",
       "\n",
       "                                                 url  website  \n",
       "0  http://www.wayfair.com/Brewster-Loveseat-ANDO1...  wayfair  \n",
       "1  http://www.wayfair.com/Sleeper-Sofa-1375IQSL01...  wayfair  \n",
       "2  http://www.wayfair.com/Harvest-Loveseat-7500-G...  wayfair  \n",
       "3  http://www.wayfair.com/Birch-Lane-Owen-Lovesea...  wayfair  "
      ]
     },
     "execution_count": 441,
     "metadata": {},
     "output_type": "execute_result"
    }
   ],
   "source": [
    "loveseat_df"
   ]
  },
  {
   "cell_type": "code",
   "execution_count": 442,
   "metadata": {
    "collapsed": false
   },
   "outputs": [
    {
     "name": "stdout",
     "output_type": "stream",
     "text": [
      "20\n",
      "40\n",
      "60\n",
      "80\n",
      "100\n",
      "120\n",
      "140\n",
      "160\n",
      "180\n",
      "200\n",
      "220\n",
      "240\n",
      "260\n",
      "280\n",
      "300\n",
      "320\n",
      "340\n",
      "360\n",
      "380\n",
      "400\n"
     ]
    },
    {
     "ename": "error",
     "evalue": "[Errno 60] Operation timed out",
     "output_type": "error",
     "traceback": [
      "\u001b[0;31m---------------------------------------------------------------------------\u001b[0m",
      "\u001b[0;31merror\u001b[0m                                     Traceback (most recent call last)",
      "\u001b[0;32m<ipython-input-442-3651105ef96c>\u001b[0m in \u001b[0;36m<module>\u001b[0;34m()\u001b[0m\n\u001b[1;32m      1\u001b[0m \u001b[0mi\u001b[0m \u001b[0;34m=\u001b[0m \u001b[0;36m4\u001b[0m\u001b[0;34m\u001b[0m\u001b[0m\n\u001b[1;32m      2\u001b[0m \u001b[0;32mfor\u001b[0m \u001b[0mlink\u001b[0m \u001b[0;32min\u001b[0m \u001b[0mloveseat_links\u001b[0m\u001b[0;34m[\u001b[0m\u001b[0;36m4\u001b[0m\u001b[0;34m:\u001b[0m\u001b[0;34m]\u001b[0m\u001b[0;34m:\u001b[0m\u001b[0;34m\u001b[0m\u001b[0m\n\u001b[0;32m----> 3\u001b[0;31m     \u001b[0mproduct_dict\u001b[0m \u001b[0;34m=\u001b[0m \u001b[0mwayfair_product_info_scrapper\u001b[0m\u001b[0;34m(\u001b[0m\u001b[0mlink\u001b[0m\u001b[0;34m,\u001b[0m \u001b[0mcategory_input\u001b[0m\u001b[0;34m=\u001b[0m\u001b[0;34m'loveseat'\u001b[0m\u001b[0;34m)\u001b[0m\u001b[0;34m\u001b[0m\u001b[0m\n\u001b[0m\u001b[1;32m      4\u001b[0m     \u001b[0mdf_product\u001b[0m \u001b[0;34m=\u001b[0m \u001b[0mpd\u001b[0m\u001b[0;34m.\u001b[0m\u001b[0mDataFrame\u001b[0m\u001b[0;34m(\u001b[0m\u001b[0;34m[\u001b[0m\u001b[0mproduct_dict\u001b[0m\u001b[0;34m]\u001b[0m\u001b[0;34m,\u001b[0m \u001b[0mindex\u001b[0m\u001b[0;34m=\u001b[0m\u001b[0;34m[\u001b[0m\u001b[0mi\u001b[0m\u001b[0;34m]\u001b[0m\u001b[0;34m)\u001b[0m\u001b[0;34m\u001b[0m\u001b[0m\n\u001b[1;32m      5\u001b[0m     \u001b[0mloveseat_df\u001b[0m \u001b[0;34m=\u001b[0m \u001b[0mpd\u001b[0m\u001b[0;34m.\u001b[0m\u001b[0mconcat\u001b[0m\u001b[0;34m(\u001b[0m\u001b[0;34m[\u001b[0m\u001b[0mloveseat_df\u001b[0m\u001b[0;34m,\u001b[0m \u001b[0mdf_product\u001b[0m\u001b[0;34m]\u001b[0m\u001b[0;34m,\u001b[0m \u001b[0maxis\u001b[0m\u001b[0;34m=\u001b[0m\u001b[0;36m0\u001b[0m\u001b[0;34m)\u001b[0m\u001b[0;34m\u001b[0m\u001b[0m\n",
      "\u001b[0;32m<ipython-input-439-3be2a5d97420>\u001b[0m in \u001b[0;36mwayfair_product_info_scrapper\u001b[0;34m(link, category_input)\u001b[0m\n\u001b[1;32m     81\u001b[0m             \u001b[0mcolor_key\u001b[0m \u001b[0;34m=\u001b[0m \u001b[0mcolors\u001b[0m\u001b[0;34m[\u001b[0m\u001b[0mi\u001b[0m\u001b[0;34m]\u001b[0m\u001b[0;34m\u001b[0m\u001b[0m\n\u001b[1;32m     82\u001b[0m             \u001b[0mlink_color\u001b[0m \u001b[0;34m=\u001b[0m \u001b[0mlink\u001b[0m \u001b[0;34m+\u001b[0m \u001b[0mcolor_link\u001b[0m\u001b[0;34m\u001b[0m\u001b[0m\n\u001b[0;32m---> 83\u001b[0;31m             \u001b[0mhtml_color\u001b[0m  \u001b[0;34m=\u001b[0m \u001b[0murlopen\u001b[0m\u001b[0;34m(\u001b[0m\u001b[0mlink_color\u001b[0m\u001b[0;34m)\u001b[0m\u001b[0;34m\u001b[0m\u001b[0m\n\u001b[0m\u001b[1;32m     84\u001b[0m             \u001b[0msoup_color\u001b[0m \u001b[0;34m=\u001b[0m \u001b[0mBeautifulSoup\u001b[0m\u001b[0;34m(\u001b[0m\u001b[0mhtml_color\u001b[0m\u001b[0;34m,\u001b[0m \u001b[0;34m'html.parser'\u001b[0m\u001b[0;34m)\u001b[0m\u001b[0;34m\u001b[0m\u001b[0m\n\u001b[1;32m     85\u001b[0m             \u001b[0mimage_info_color\u001b[0m \u001b[0;34m=\u001b[0m \u001b[0msoup_color\u001b[0m\u001b[0;34m.\u001b[0m\u001b[0mfindAll\u001b[0m\u001b[0;34m(\u001b[0m\u001b[0;34m'a'\u001b[0m\u001b[0;34m,\u001b[0m \u001b[0;34m{\u001b[0m\u001b[0;34m'class'\u001b[0m\u001b[0;34m:\u001b[0m \u001b[0;34m'photoswipe_link'\u001b[0m\u001b[0;34m}\u001b[0m\u001b[0;34m)\u001b[0m\u001b[0;34m\u001b[0m\u001b[0m\n",
      "\u001b[0;32m//anaconda/lib/python2.7/urllib2.pyc\u001b[0m in \u001b[0;36murlopen\u001b[0;34m(url, data, timeout, cafile, capath, cadefault, context)\u001b[0m\n\u001b[1;32m    152\u001b[0m     \u001b[0;32melse\u001b[0m\u001b[0;34m:\u001b[0m\u001b[0;34m\u001b[0m\u001b[0m\n\u001b[1;32m    153\u001b[0m         \u001b[0mopener\u001b[0m \u001b[0;34m=\u001b[0m \u001b[0m_opener\u001b[0m\u001b[0;34m\u001b[0m\u001b[0m\n\u001b[0;32m--> 154\u001b[0;31m     \u001b[0;32mreturn\u001b[0m \u001b[0mopener\u001b[0m\u001b[0;34m.\u001b[0m\u001b[0mopen\u001b[0m\u001b[0;34m(\u001b[0m\u001b[0murl\u001b[0m\u001b[0;34m,\u001b[0m \u001b[0mdata\u001b[0m\u001b[0;34m,\u001b[0m \u001b[0mtimeout\u001b[0m\u001b[0;34m)\u001b[0m\u001b[0;34m\u001b[0m\u001b[0m\n\u001b[0m\u001b[1;32m    155\u001b[0m \u001b[0;34m\u001b[0m\u001b[0m\n\u001b[1;32m    156\u001b[0m \u001b[0;32mdef\u001b[0m \u001b[0minstall_opener\u001b[0m\u001b[0;34m(\u001b[0m\u001b[0mopener\u001b[0m\u001b[0;34m)\u001b[0m\u001b[0;34m:\u001b[0m\u001b[0;34m\u001b[0m\u001b[0m\n",
      "\u001b[0;32m//anaconda/lib/python2.7/urllib2.pyc\u001b[0m in \u001b[0;36mopen\u001b[0;34m(self, fullurl, data, timeout)\u001b[0m\n\u001b[1;32m    429\u001b[0m             \u001b[0mreq\u001b[0m \u001b[0;34m=\u001b[0m \u001b[0mmeth\u001b[0m\u001b[0;34m(\u001b[0m\u001b[0mreq\u001b[0m\u001b[0;34m)\u001b[0m\u001b[0;34m\u001b[0m\u001b[0m\n\u001b[1;32m    430\u001b[0m \u001b[0;34m\u001b[0m\u001b[0m\n\u001b[0;32m--> 431\u001b[0;31m         \u001b[0mresponse\u001b[0m \u001b[0;34m=\u001b[0m \u001b[0mself\u001b[0m\u001b[0;34m.\u001b[0m\u001b[0m_open\u001b[0m\u001b[0;34m(\u001b[0m\u001b[0mreq\u001b[0m\u001b[0;34m,\u001b[0m \u001b[0mdata\u001b[0m\u001b[0;34m)\u001b[0m\u001b[0;34m\u001b[0m\u001b[0m\n\u001b[0m\u001b[1;32m    432\u001b[0m \u001b[0;34m\u001b[0m\u001b[0m\n\u001b[1;32m    433\u001b[0m         \u001b[0;31m# post-process response\u001b[0m\u001b[0;34m\u001b[0m\u001b[0;34m\u001b[0m\u001b[0m\n",
      "\u001b[0;32m//anaconda/lib/python2.7/urllib2.pyc\u001b[0m in \u001b[0;36m_open\u001b[0;34m(self, req, data)\u001b[0m\n\u001b[1;32m    447\u001b[0m         \u001b[0mprotocol\u001b[0m \u001b[0;34m=\u001b[0m \u001b[0mreq\u001b[0m\u001b[0;34m.\u001b[0m\u001b[0mget_type\u001b[0m\u001b[0;34m(\u001b[0m\u001b[0;34m)\u001b[0m\u001b[0;34m\u001b[0m\u001b[0m\n\u001b[1;32m    448\u001b[0m         result = self._call_chain(self.handle_open, protocol, protocol +\n\u001b[0;32m--> 449\u001b[0;31m                                   '_open', req)\n\u001b[0m\u001b[1;32m    450\u001b[0m         \u001b[0;32mif\u001b[0m \u001b[0mresult\u001b[0m\u001b[0;34m:\u001b[0m\u001b[0;34m\u001b[0m\u001b[0m\n\u001b[1;32m    451\u001b[0m             \u001b[0;32mreturn\u001b[0m \u001b[0mresult\u001b[0m\u001b[0;34m\u001b[0m\u001b[0m\n",
      "\u001b[0;32m//anaconda/lib/python2.7/urllib2.pyc\u001b[0m in \u001b[0;36m_call_chain\u001b[0;34m(self, chain, kind, meth_name, *args)\u001b[0m\n\u001b[1;32m    407\u001b[0m             \u001b[0mfunc\u001b[0m \u001b[0;34m=\u001b[0m \u001b[0mgetattr\u001b[0m\u001b[0;34m(\u001b[0m\u001b[0mhandler\u001b[0m\u001b[0;34m,\u001b[0m \u001b[0mmeth_name\u001b[0m\u001b[0;34m)\u001b[0m\u001b[0;34m\u001b[0m\u001b[0m\n\u001b[1;32m    408\u001b[0m \u001b[0;34m\u001b[0m\u001b[0m\n\u001b[0;32m--> 409\u001b[0;31m             \u001b[0mresult\u001b[0m \u001b[0;34m=\u001b[0m \u001b[0mfunc\u001b[0m\u001b[0;34m(\u001b[0m\u001b[0;34m*\u001b[0m\u001b[0margs\u001b[0m\u001b[0;34m)\u001b[0m\u001b[0;34m\u001b[0m\u001b[0m\n\u001b[0m\u001b[1;32m    410\u001b[0m             \u001b[0;32mif\u001b[0m \u001b[0mresult\u001b[0m \u001b[0;32mis\u001b[0m \u001b[0;32mnot\u001b[0m \u001b[0mNone\u001b[0m\u001b[0;34m:\u001b[0m\u001b[0;34m\u001b[0m\u001b[0m\n\u001b[1;32m    411\u001b[0m                 \u001b[0;32mreturn\u001b[0m \u001b[0mresult\u001b[0m\u001b[0;34m\u001b[0m\u001b[0m\n",
      "\u001b[0;32m//anaconda/lib/python2.7/urllib2.pyc\u001b[0m in \u001b[0;36mhttp_open\u001b[0;34m(self, req)\u001b[0m\n\u001b[1;32m   1225\u001b[0m \u001b[0;34m\u001b[0m\u001b[0m\n\u001b[1;32m   1226\u001b[0m     \u001b[0;32mdef\u001b[0m \u001b[0mhttp_open\u001b[0m\u001b[0;34m(\u001b[0m\u001b[0mself\u001b[0m\u001b[0;34m,\u001b[0m \u001b[0mreq\u001b[0m\u001b[0;34m)\u001b[0m\u001b[0;34m:\u001b[0m\u001b[0;34m\u001b[0m\u001b[0m\n\u001b[0;32m-> 1227\u001b[0;31m         \u001b[0;32mreturn\u001b[0m \u001b[0mself\u001b[0m\u001b[0;34m.\u001b[0m\u001b[0mdo_open\u001b[0m\u001b[0;34m(\u001b[0m\u001b[0mhttplib\u001b[0m\u001b[0;34m.\u001b[0m\u001b[0mHTTPConnection\u001b[0m\u001b[0;34m,\u001b[0m \u001b[0mreq\u001b[0m\u001b[0;34m)\u001b[0m\u001b[0;34m\u001b[0m\u001b[0m\n\u001b[0m\u001b[1;32m   1228\u001b[0m \u001b[0;34m\u001b[0m\u001b[0m\n\u001b[1;32m   1229\u001b[0m     \u001b[0mhttp_request\u001b[0m \u001b[0;34m=\u001b[0m \u001b[0mAbstractHTTPHandler\u001b[0m\u001b[0;34m.\u001b[0m\u001b[0mdo_request_\u001b[0m\u001b[0;34m\u001b[0m\u001b[0m\n",
      "\u001b[0;32m//anaconda/lib/python2.7/urllib2.pyc\u001b[0m in \u001b[0;36mdo_open\u001b[0;34m(self, http_class, req, **http_conn_args)\u001b[0m\n\u001b[1;32m   1198\u001b[0m         \u001b[0;32melse\u001b[0m\u001b[0;34m:\u001b[0m\u001b[0;34m\u001b[0m\u001b[0m\n\u001b[1;32m   1199\u001b[0m             \u001b[0;32mtry\u001b[0m\u001b[0;34m:\u001b[0m\u001b[0;34m\u001b[0m\u001b[0m\n\u001b[0;32m-> 1200\u001b[0;31m                 \u001b[0mr\u001b[0m \u001b[0;34m=\u001b[0m \u001b[0mh\u001b[0m\u001b[0;34m.\u001b[0m\u001b[0mgetresponse\u001b[0m\u001b[0;34m(\u001b[0m\u001b[0mbuffering\u001b[0m\u001b[0;34m=\u001b[0m\u001b[0mTrue\u001b[0m\u001b[0;34m)\u001b[0m\u001b[0;34m\u001b[0m\u001b[0m\n\u001b[0m\u001b[1;32m   1201\u001b[0m             \u001b[0;32mexcept\u001b[0m \u001b[0mTypeError\u001b[0m\u001b[0;34m:\u001b[0m \u001b[0;31m# buffering kw not supported\u001b[0m\u001b[0;34m\u001b[0m\u001b[0m\n\u001b[1;32m   1202\u001b[0m                 \u001b[0mr\u001b[0m \u001b[0;34m=\u001b[0m \u001b[0mh\u001b[0m\u001b[0;34m.\u001b[0m\u001b[0mgetresponse\u001b[0m\u001b[0;34m(\u001b[0m\u001b[0;34m)\u001b[0m\u001b[0;34m\u001b[0m\u001b[0m\n",
      "\u001b[0;32m//anaconda/lib/python2.7/httplib.pyc\u001b[0m in \u001b[0;36mgetresponse\u001b[0;34m(self, buffering)\u001b[0m\n\u001b[1;32m   1130\u001b[0m \u001b[0;34m\u001b[0m\u001b[0m\n\u001b[1;32m   1131\u001b[0m         \u001b[0;32mtry\u001b[0m\u001b[0;34m:\u001b[0m\u001b[0;34m\u001b[0m\u001b[0m\n\u001b[0;32m-> 1132\u001b[0;31m             \u001b[0mresponse\u001b[0m\u001b[0;34m.\u001b[0m\u001b[0mbegin\u001b[0m\u001b[0;34m(\u001b[0m\u001b[0;34m)\u001b[0m\u001b[0;34m\u001b[0m\u001b[0m\n\u001b[0m\u001b[1;32m   1133\u001b[0m             \u001b[0;32massert\u001b[0m \u001b[0mresponse\u001b[0m\u001b[0;34m.\u001b[0m\u001b[0mwill_close\u001b[0m \u001b[0;34m!=\u001b[0m \u001b[0m_UNKNOWN\u001b[0m\u001b[0;34m\u001b[0m\u001b[0m\n\u001b[1;32m   1134\u001b[0m             \u001b[0mself\u001b[0m\u001b[0;34m.\u001b[0m\u001b[0m__state\u001b[0m \u001b[0;34m=\u001b[0m \u001b[0m_CS_IDLE\u001b[0m\u001b[0;34m\u001b[0m\u001b[0m\n",
      "\u001b[0;32m//anaconda/lib/python2.7/httplib.pyc\u001b[0m in \u001b[0;36mbegin\u001b[0;34m(self)\u001b[0m\n\u001b[1;32m    451\u001b[0m         \u001b[0;31m# read until we get a non-100 response\u001b[0m\u001b[0;34m\u001b[0m\u001b[0;34m\u001b[0m\u001b[0m\n\u001b[1;32m    452\u001b[0m         \u001b[0;32mwhile\u001b[0m \u001b[0mTrue\u001b[0m\u001b[0;34m:\u001b[0m\u001b[0;34m\u001b[0m\u001b[0m\n\u001b[0;32m--> 453\u001b[0;31m             \u001b[0mversion\u001b[0m\u001b[0;34m,\u001b[0m \u001b[0mstatus\u001b[0m\u001b[0;34m,\u001b[0m \u001b[0mreason\u001b[0m \u001b[0;34m=\u001b[0m \u001b[0mself\u001b[0m\u001b[0;34m.\u001b[0m\u001b[0m_read_status\u001b[0m\u001b[0;34m(\u001b[0m\u001b[0;34m)\u001b[0m\u001b[0;34m\u001b[0m\u001b[0m\n\u001b[0m\u001b[1;32m    454\u001b[0m             \u001b[0;32mif\u001b[0m \u001b[0mstatus\u001b[0m \u001b[0;34m!=\u001b[0m \u001b[0mCONTINUE\u001b[0m\u001b[0;34m:\u001b[0m\u001b[0;34m\u001b[0m\u001b[0m\n\u001b[1;32m    455\u001b[0m                 \u001b[0;32mbreak\u001b[0m\u001b[0;34m\u001b[0m\u001b[0m\n",
      "\u001b[0;32m//anaconda/lib/python2.7/httplib.pyc\u001b[0m in \u001b[0;36m_read_status\u001b[0;34m(self)\u001b[0m\n\u001b[1;32m    407\u001b[0m     \u001b[0;32mdef\u001b[0m \u001b[0m_read_status\u001b[0m\u001b[0;34m(\u001b[0m\u001b[0mself\u001b[0m\u001b[0;34m)\u001b[0m\u001b[0;34m:\u001b[0m\u001b[0;34m\u001b[0m\u001b[0m\n\u001b[1;32m    408\u001b[0m         \u001b[0;31m# Initialize with Simple-Response defaults\u001b[0m\u001b[0;34m\u001b[0m\u001b[0;34m\u001b[0m\u001b[0m\n\u001b[0;32m--> 409\u001b[0;31m         \u001b[0mline\u001b[0m \u001b[0;34m=\u001b[0m \u001b[0mself\u001b[0m\u001b[0;34m.\u001b[0m\u001b[0mfp\u001b[0m\u001b[0;34m.\u001b[0m\u001b[0mreadline\u001b[0m\u001b[0;34m(\u001b[0m\u001b[0m_MAXLINE\u001b[0m \u001b[0;34m+\u001b[0m \u001b[0;36m1\u001b[0m\u001b[0;34m)\u001b[0m\u001b[0;34m\u001b[0m\u001b[0m\n\u001b[0m\u001b[1;32m    410\u001b[0m         \u001b[0;32mif\u001b[0m \u001b[0mlen\u001b[0m\u001b[0;34m(\u001b[0m\u001b[0mline\u001b[0m\u001b[0;34m)\u001b[0m \u001b[0;34m>\u001b[0m \u001b[0m_MAXLINE\u001b[0m\u001b[0;34m:\u001b[0m\u001b[0;34m\u001b[0m\u001b[0m\n\u001b[1;32m    411\u001b[0m             \u001b[0;32mraise\u001b[0m \u001b[0mLineTooLong\u001b[0m\u001b[0;34m(\u001b[0m\u001b[0;34m\"header line\"\u001b[0m\u001b[0;34m)\u001b[0m\u001b[0;34m\u001b[0m\u001b[0m\n",
      "\u001b[0;32m//anaconda/lib/python2.7/socket.pyc\u001b[0m in \u001b[0;36mreadline\u001b[0;34m(self, size)\u001b[0m\n\u001b[1;32m    478\u001b[0m             \u001b[0;32mwhile\u001b[0m \u001b[0mTrue\u001b[0m\u001b[0;34m:\u001b[0m\u001b[0;34m\u001b[0m\u001b[0m\n\u001b[1;32m    479\u001b[0m                 \u001b[0;32mtry\u001b[0m\u001b[0;34m:\u001b[0m\u001b[0;34m\u001b[0m\u001b[0m\n\u001b[0;32m--> 480\u001b[0;31m                     \u001b[0mdata\u001b[0m \u001b[0;34m=\u001b[0m \u001b[0mself\u001b[0m\u001b[0;34m.\u001b[0m\u001b[0m_sock\u001b[0m\u001b[0;34m.\u001b[0m\u001b[0mrecv\u001b[0m\u001b[0;34m(\u001b[0m\u001b[0mself\u001b[0m\u001b[0;34m.\u001b[0m\u001b[0m_rbufsize\u001b[0m\u001b[0;34m)\u001b[0m\u001b[0;34m\u001b[0m\u001b[0m\n\u001b[0m\u001b[1;32m    481\u001b[0m                 \u001b[0;32mexcept\u001b[0m \u001b[0merror\u001b[0m\u001b[0;34m,\u001b[0m \u001b[0me\u001b[0m\u001b[0;34m:\u001b[0m\u001b[0;34m\u001b[0m\u001b[0m\n\u001b[1;32m    482\u001b[0m                     \u001b[0;32mif\u001b[0m \u001b[0me\u001b[0m\u001b[0;34m.\u001b[0m\u001b[0margs\u001b[0m\u001b[0;34m[\u001b[0m\u001b[0;36m0\u001b[0m\u001b[0;34m]\u001b[0m \u001b[0;34m==\u001b[0m \u001b[0mEINTR\u001b[0m\u001b[0;34m:\u001b[0m\u001b[0;34m\u001b[0m\u001b[0m\n",
      "\u001b[0;31merror\u001b[0m: [Errno 60] Operation timed out"
     ]
    }
   ],
   "source": [
    "i = 4\n",
    "for link in loveseat_links[4:]:\n",
    "    product_dict = wayfair_product_info_scrapper(link, category_input='loveseat')\n",
    "    df_product = pd.DataFrame([product_dict], index=[i])\n",
    "    loveseat_df = pd.concat([loveseat_df, df_product], axis=0)\n",
    "    i += 1\n",
    "    if i % 20 == 0:\n",
    "        print i"
   ]
  },
  {
   "cell_type": "code",
   "execution_count": 444,
   "metadata": {
    "collapsed": false
   },
   "outputs": [
    {
     "name": "stdout",
     "output_type": "stream",
     "text": [
      "<class 'pandas.core.frame.DataFrame'>\n",
      "Int64Index: 400 entries, 0 to 399\n",
      "Data columns (total 15 columns):\n",
      "category                400 non-null object\n",
      "colors                  400 non-null object\n",
      "description             272 non-null object\n",
      "features                400 non-null object\n",
      "image_links_all         400 non-null object\n",
      "image_links_by_color    400 non-null object\n",
      "manufacturer            400 non-null object\n",
      "price                   400 non-null object\n",
      "product_id              400 non-null object\n",
      "rating_avg              322 non-null object\n",
      "rating_count            322 non-null object\n",
      "specs                   396 non-null object\n",
      "title                   400 non-null object\n",
      "url                     400 non-null object\n",
      "website                 400 non-null object\n",
      "dtypes: object(15)\n",
      "memory usage: 50.0+ KB\n"
     ]
    }
   ],
   "source": [
    "loveseat_df.info()"
   ]
  },
  {
   "cell_type": "code",
   "execution_count": 445,
   "metadata": {
    "collapsed": false
   },
   "outputs": [
    {
     "data": {
      "text/html": [
       "<div>\n",
       "<table border=\"1\" class=\"dataframe\">\n",
       "  <thead>\n",
       "    <tr style=\"text-align: right;\">\n",
       "      <th></th>\n",
       "      <th>category</th>\n",
       "      <th>colors</th>\n",
       "      <th>description</th>\n",
       "      <th>features</th>\n",
       "      <th>image_links_all</th>\n",
       "      <th>image_links_by_color</th>\n",
       "      <th>manufacturer</th>\n",
       "      <th>price</th>\n",
       "      <th>product_id</th>\n",
       "      <th>rating_avg</th>\n",
       "      <th>rating_count</th>\n",
       "      <th>specs</th>\n",
       "      <th>title</th>\n",
       "      <th>url</th>\n",
       "      <th>website</th>\n",
       "    </tr>\n",
       "  </thead>\n",
       "  <tbody>\n",
       "    <tr>\n",
       "      <th>398</th>\n",
       "      <td>loveseat</td>\n",
       "      <td>[]</td>\n",
       "      <td>None</td>\n",
       "      <td>[\\nFeatures\\n\\nFrame material: Solid Mahogany ...</td>\n",
       "      <td>[https://secure.img2.wfrcdn.com/lf/49/hash/233...</td>\n",
       "      <td>{}</td>\n",
       "      <td>Benetti's Italia</td>\n",
       "      <td>$3,239.99</td>\n",
       "      <td>BENN1004</td>\n",
       "      <td>None</td>\n",
       "      <td>None</td>\n",
       "      <td>\\nWeights &amp; Dimensions\\n\\n\\n\\n            Over...</td>\n",
       "      <td>Abrianna Loveseat</td>\n",
       "      <td>http://www.wayfair.com/Benettis-Italia-Abriann...</td>\n",
       "      <td>wayfair</td>\n",
       "    </tr>\n",
       "    <tr>\n",
       "      <th>399</th>\n",
       "      <td>loveseat</td>\n",
       "      <td>[]</td>\n",
       "      <td>Thoroughly modern, this loveseat features a hi...</td>\n",
       "      <td>[\\nFeatures\\n\\nRamsey collection\\n90 Days warr...</td>\n",
       "      <td>[https://secure.img2.wfrcdn.com/lf/49/hash/254...</td>\n",
       "      <td>{}</td>\n",
       "      <td>Woodbridge Home Designs</td>\n",
       "      <td>$429.99</td>\n",
       "      <td>HE7009</td>\n",
       "      <td>5.0</td>\n",
       "      <td>2</td>\n",
       "      <td>\\nWeights &amp; Dimensions\\n\\n\\n\\n            Over...</td>\n",
       "      <td>Ramsey Loveseat</td>\n",
       "      <td>http://www.wayfair.com/Woodbridge-Home-Designs...</td>\n",
       "      <td>wayfair</td>\n",
       "    </tr>\n",
       "  </tbody>\n",
       "</table>\n",
       "</div>"
      ],
      "text/plain": [
       "     category colors                                        description  \\\n",
       "398  loveseat     []                                               None   \n",
       "399  loveseat     []  Thoroughly modern, this loveseat features a hi...   \n",
       "\n",
       "                                              features  \\\n",
       "398  [\\nFeatures\\n\\nFrame material: Solid Mahogany ...   \n",
       "399  [\\nFeatures\\n\\nRamsey collection\\n90 Days warr...   \n",
       "\n",
       "                                       image_links_all image_links_by_color  \\\n",
       "398  [https://secure.img2.wfrcdn.com/lf/49/hash/233...                   {}   \n",
       "399  [https://secure.img2.wfrcdn.com/lf/49/hash/254...                   {}   \n",
       "\n",
       "                manufacturer      price product_id rating_avg rating_count  \\\n",
       "398         Benetti's Italia  $3,239.99   BENN1004       None         None   \n",
       "399  Woodbridge Home Designs    $429.99     HE7009        5.0            2   \n",
       "\n",
       "                                                 specs              title  \\\n",
       "398  \\nWeights & Dimensions\\n\\n\\n\\n            Over...  Abrianna Loveseat   \n",
       "399  \\nWeights & Dimensions\\n\\n\\n\\n            Over...    Ramsey Loveseat   \n",
       "\n",
       "                                                   url  website  \n",
       "398  http://www.wayfair.com/Benettis-Italia-Abriann...  wayfair  \n",
       "399  http://www.wayfair.com/Woodbridge-Home-Designs...  wayfair  "
      ]
     },
     "execution_count": 445,
     "metadata": {},
     "output_type": "execute_result"
    }
   ],
   "source": [
    "loveseat_df.tail(2)"
   ]
  },
  {
   "cell_type": "code",
   "execution_count": 446,
   "metadata": {
    "collapsed": false
   },
   "outputs": [
    {
     "ename": "error",
     "evalue": "[Errno 60] Operation timed out",
     "output_type": "error",
     "traceback": [
      "\u001b[0;31m---------------------------------------------------------------------------\u001b[0m",
      "\u001b[0;31merror\u001b[0m                                     Traceback (most recent call last)",
      "\u001b[0;32m<ipython-input-446-a734b0e8392d>\u001b[0m in \u001b[0;36m<module>\u001b[0;34m()\u001b[0m\n\u001b[1;32m      1\u001b[0m \u001b[0mi\u001b[0m \u001b[0;34m=\u001b[0m \u001b[0;36m400\u001b[0m\u001b[0;34m\u001b[0m\u001b[0m\n\u001b[1;32m      2\u001b[0m \u001b[0;32mfor\u001b[0m \u001b[0mlink\u001b[0m \u001b[0;32min\u001b[0m \u001b[0mloveseat_links\u001b[0m\u001b[0;34m[\u001b[0m\u001b[0;36m400\u001b[0m\u001b[0;34m:\u001b[0m\u001b[0;34m]\u001b[0m\u001b[0;34m:\u001b[0m\u001b[0;34m\u001b[0m\u001b[0m\n\u001b[0;32m----> 3\u001b[0;31m     \u001b[0mproduct_dict\u001b[0m \u001b[0;34m=\u001b[0m \u001b[0mwayfair_product_info_scrapper\u001b[0m\u001b[0;34m(\u001b[0m\u001b[0mlink\u001b[0m\u001b[0;34m,\u001b[0m \u001b[0mcategory_input\u001b[0m\u001b[0;34m=\u001b[0m\u001b[0;34m'loveseat'\u001b[0m\u001b[0;34m)\u001b[0m\u001b[0;34m\u001b[0m\u001b[0m\n\u001b[0m\u001b[1;32m      4\u001b[0m     \u001b[0mdf_product\u001b[0m \u001b[0;34m=\u001b[0m \u001b[0mpd\u001b[0m\u001b[0;34m.\u001b[0m\u001b[0mDataFrame\u001b[0m\u001b[0;34m(\u001b[0m\u001b[0;34m[\u001b[0m\u001b[0mproduct_dict\u001b[0m\u001b[0;34m]\u001b[0m\u001b[0;34m,\u001b[0m \u001b[0mindex\u001b[0m\u001b[0;34m=\u001b[0m\u001b[0;34m[\u001b[0m\u001b[0mi\u001b[0m\u001b[0;34m]\u001b[0m\u001b[0;34m)\u001b[0m\u001b[0;34m\u001b[0m\u001b[0m\n\u001b[1;32m      5\u001b[0m     \u001b[0mloveseat_df\u001b[0m \u001b[0;34m=\u001b[0m \u001b[0mpd\u001b[0m\u001b[0;34m.\u001b[0m\u001b[0mconcat\u001b[0m\u001b[0;34m(\u001b[0m\u001b[0;34m[\u001b[0m\u001b[0mloveseat_df\u001b[0m\u001b[0;34m,\u001b[0m \u001b[0mdf_product\u001b[0m\u001b[0;34m]\u001b[0m\u001b[0;34m,\u001b[0m \u001b[0maxis\u001b[0m\u001b[0;34m=\u001b[0m\u001b[0;36m0\u001b[0m\u001b[0;34m)\u001b[0m\u001b[0;34m\u001b[0m\u001b[0m\n",
      "\u001b[0;32m<ipython-input-443-bb9ace42025d>\u001b[0m in \u001b[0;36mwayfair_product_info_scrapper\u001b[0;34m(link, category_input)\u001b[0m\n\u001b[1;32m     81\u001b[0m             \u001b[0mcolor_key\u001b[0m \u001b[0;34m=\u001b[0m \u001b[0mcolors\u001b[0m\u001b[0;34m[\u001b[0m\u001b[0mi\u001b[0m\u001b[0;34m]\u001b[0m\u001b[0;34m\u001b[0m\u001b[0m\n\u001b[1;32m     82\u001b[0m             \u001b[0mlink_color\u001b[0m \u001b[0;34m=\u001b[0m \u001b[0mlink\u001b[0m \u001b[0;34m+\u001b[0m \u001b[0mcolor_link\u001b[0m\u001b[0;34m\u001b[0m\u001b[0m\n\u001b[0;32m---> 83\u001b[0;31m             \u001b[0mhtml_color\u001b[0m  \u001b[0;34m=\u001b[0m \u001b[0murlopen\u001b[0m\u001b[0;34m(\u001b[0m\u001b[0mlink_color\u001b[0m\u001b[0;34m,\u001b[0m \u001b[0mtimeout\u001b[0m\u001b[0;34m=\u001b[0m\u001b[0;36m100\u001b[0m\u001b[0;34m)\u001b[0m\u001b[0;34m\u001b[0m\u001b[0m\n\u001b[0m\u001b[1;32m     84\u001b[0m             \u001b[0msoup_color\u001b[0m \u001b[0;34m=\u001b[0m \u001b[0mBeautifulSoup\u001b[0m\u001b[0;34m(\u001b[0m\u001b[0mhtml_color\u001b[0m\u001b[0;34m,\u001b[0m \u001b[0;34m'html.parser'\u001b[0m\u001b[0;34m)\u001b[0m\u001b[0;34m\u001b[0m\u001b[0m\n\u001b[1;32m     85\u001b[0m             \u001b[0mimage_info_color\u001b[0m \u001b[0;34m=\u001b[0m \u001b[0msoup_color\u001b[0m\u001b[0;34m.\u001b[0m\u001b[0mfindAll\u001b[0m\u001b[0;34m(\u001b[0m\u001b[0;34m'a'\u001b[0m\u001b[0;34m,\u001b[0m \u001b[0;34m{\u001b[0m\u001b[0;34m'class'\u001b[0m\u001b[0;34m:\u001b[0m \u001b[0;34m'photoswipe_link'\u001b[0m\u001b[0;34m}\u001b[0m\u001b[0;34m)\u001b[0m\u001b[0;34m\u001b[0m\u001b[0m\n",
      "\u001b[0;32m//anaconda/lib/python2.7/urllib2.pyc\u001b[0m in \u001b[0;36murlopen\u001b[0;34m(url, data, timeout, cafile, capath, cadefault, context)\u001b[0m\n\u001b[1;32m    152\u001b[0m     \u001b[0;32melse\u001b[0m\u001b[0;34m:\u001b[0m\u001b[0;34m\u001b[0m\u001b[0m\n\u001b[1;32m    153\u001b[0m         \u001b[0mopener\u001b[0m \u001b[0;34m=\u001b[0m \u001b[0m_opener\u001b[0m\u001b[0;34m\u001b[0m\u001b[0m\n\u001b[0;32m--> 154\u001b[0;31m     \u001b[0;32mreturn\u001b[0m \u001b[0mopener\u001b[0m\u001b[0;34m.\u001b[0m\u001b[0mopen\u001b[0m\u001b[0;34m(\u001b[0m\u001b[0murl\u001b[0m\u001b[0;34m,\u001b[0m \u001b[0mdata\u001b[0m\u001b[0;34m,\u001b[0m \u001b[0mtimeout\u001b[0m\u001b[0;34m)\u001b[0m\u001b[0;34m\u001b[0m\u001b[0m\n\u001b[0m\u001b[1;32m    155\u001b[0m \u001b[0;34m\u001b[0m\u001b[0m\n\u001b[1;32m    156\u001b[0m \u001b[0;32mdef\u001b[0m \u001b[0minstall_opener\u001b[0m\u001b[0;34m(\u001b[0m\u001b[0mopener\u001b[0m\u001b[0;34m)\u001b[0m\u001b[0;34m:\u001b[0m\u001b[0;34m\u001b[0m\u001b[0m\n",
      "\u001b[0;32m//anaconda/lib/python2.7/urllib2.pyc\u001b[0m in \u001b[0;36mopen\u001b[0;34m(self, fullurl, data, timeout)\u001b[0m\n\u001b[1;32m    429\u001b[0m             \u001b[0mreq\u001b[0m \u001b[0;34m=\u001b[0m \u001b[0mmeth\u001b[0m\u001b[0;34m(\u001b[0m\u001b[0mreq\u001b[0m\u001b[0;34m)\u001b[0m\u001b[0;34m\u001b[0m\u001b[0m\n\u001b[1;32m    430\u001b[0m \u001b[0;34m\u001b[0m\u001b[0m\n\u001b[0;32m--> 431\u001b[0;31m         \u001b[0mresponse\u001b[0m \u001b[0;34m=\u001b[0m \u001b[0mself\u001b[0m\u001b[0;34m.\u001b[0m\u001b[0m_open\u001b[0m\u001b[0;34m(\u001b[0m\u001b[0mreq\u001b[0m\u001b[0;34m,\u001b[0m \u001b[0mdata\u001b[0m\u001b[0;34m)\u001b[0m\u001b[0;34m\u001b[0m\u001b[0m\n\u001b[0m\u001b[1;32m    432\u001b[0m \u001b[0;34m\u001b[0m\u001b[0m\n\u001b[1;32m    433\u001b[0m         \u001b[0;31m# post-process response\u001b[0m\u001b[0;34m\u001b[0m\u001b[0;34m\u001b[0m\u001b[0m\n",
      "\u001b[0;32m//anaconda/lib/python2.7/urllib2.pyc\u001b[0m in \u001b[0;36m_open\u001b[0;34m(self, req, data)\u001b[0m\n\u001b[1;32m    447\u001b[0m         \u001b[0mprotocol\u001b[0m \u001b[0;34m=\u001b[0m \u001b[0mreq\u001b[0m\u001b[0;34m.\u001b[0m\u001b[0mget_type\u001b[0m\u001b[0;34m(\u001b[0m\u001b[0;34m)\u001b[0m\u001b[0;34m\u001b[0m\u001b[0m\n\u001b[1;32m    448\u001b[0m         result = self._call_chain(self.handle_open, protocol, protocol +\n\u001b[0;32m--> 449\u001b[0;31m                                   '_open', req)\n\u001b[0m\u001b[1;32m    450\u001b[0m         \u001b[0;32mif\u001b[0m \u001b[0mresult\u001b[0m\u001b[0;34m:\u001b[0m\u001b[0;34m\u001b[0m\u001b[0m\n\u001b[1;32m    451\u001b[0m             \u001b[0;32mreturn\u001b[0m \u001b[0mresult\u001b[0m\u001b[0;34m\u001b[0m\u001b[0m\n",
      "\u001b[0;32m//anaconda/lib/python2.7/urllib2.pyc\u001b[0m in \u001b[0;36m_call_chain\u001b[0;34m(self, chain, kind, meth_name, *args)\u001b[0m\n\u001b[1;32m    407\u001b[0m             \u001b[0mfunc\u001b[0m \u001b[0;34m=\u001b[0m \u001b[0mgetattr\u001b[0m\u001b[0;34m(\u001b[0m\u001b[0mhandler\u001b[0m\u001b[0;34m,\u001b[0m \u001b[0mmeth_name\u001b[0m\u001b[0;34m)\u001b[0m\u001b[0;34m\u001b[0m\u001b[0m\n\u001b[1;32m    408\u001b[0m \u001b[0;34m\u001b[0m\u001b[0m\n\u001b[0;32m--> 409\u001b[0;31m             \u001b[0mresult\u001b[0m \u001b[0;34m=\u001b[0m \u001b[0mfunc\u001b[0m\u001b[0;34m(\u001b[0m\u001b[0;34m*\u001b[0m\u001b[0margs\u001b[0m\u001b[0;34m)\u001b[0m\u001b[0;34m\u001b[0m\u001b[0m\n\u001b[0m\u001b[1;32m    410\u001b[0m             \u001b[0;32mif\u001b[0m \u001b[0mresult\u001b[0m \u001b[0;32mis\u001b[0m \u001b[0;32mnot\u001b[0m \u001b[0mNone\u001b[0m\u001b[0;34m:\u001b[0m\u001b[0;34m\u001b[0m\u001b[0m\n\u001b[1;32m    411\u001b[0m                 \u001b[0;32mreturn\u001b[0m \u001b[0mresult\u001b[0m\u001b[0;34m\u001b[0m\u001b[0m\n",
      "\u001b[0;32m//anaconda/lib/python2.7/urllib2.pyc\u001b[0m in \u001b[0;36mhttp_open\u001b[0;34m(self, req)\u001b[0m\n\u001b[1;32m   1225\u001b[0m \u001b[0;34m\u001b[0m\u001b[0m\n\u001b[1;32m   1226\u001b[0m     \u001b[0;32mdef\u001b[0m \u001b[0mhttp_open\u001b[0m\u001b[0;34m(\u001b[0m\u001b[0mself\u001b[0m\u001b[0;34m,\u001b[0m \u001b[0mreq\u001b[0m\u001b[0;34m)\u001b[0m\u001b[0;34m:\u001b[0m\u001b[0;34m\u001b[0m\u001b[0m\n\u001b[0;32m-> 1227\u001b[0;31m         \u001b[0;32mreturn\u001b[0m \u001b[0mself\u001b[0m\u001b[0;34m.\u001b[0m\u001b[0mdo_open\u001b[0m\u001b[0;34m(\u001b[0m\u001b[0mhttplib\u001b[0m\u001b[0;34m.\u001b[0m\u001b[0mHTTPConnection\u001b[0m\u001b[0;34m,\u001b[0m \u001b[0mreq\u001b[0m\u001b[0;34m)\u001b[0m\u001b[0;34m\u001b[0m\u001b[0m\n\u001b[0m\u001b[1;32m   1228\u001b[0m \u001b[0;34m\u001b[0m\u001b[0m\n\u001b[1;32m   1229\u001b[0m     \u001b[0mhttp_request\u001b[0m \u001b[0;34m=\u001b[0m \u001b[0mAbstractHTTPHandler\u001b[0m\u001b[0;34m.\u001b[0m\u001b[0mdo_request_\u001b[0m\u001b[0;34m\u001b[0m\u001b[0m\n",
      "\u001b[0;32m//anaconda/lib/python2.7/urllib2.pyc\u001b[0m in \u001b[0;36mdo_open\u001b[0;34m(self, http_class, req, **http_conn_args)\u001b[0m\n\u001b[1;32m   1198\u001b[0m         \u001b[0;32melse\u001b[0m\u001b[0;34m:\u001b[0m\u001b[0;34m\u001b[0m\u001b[0m\n\u001b[1;32m   1199\u001b[0m             \u001b[0;32mtry\u001b[0m\u001b[0;34m:\u001b[0m\u001b[0;34m\u001b[0m\u001b[0m\n\u001b[0;32m-> 1200\u001b[0;31m                 \u001b[0mr\u001b[0m \u001b[0;34m=\u001b[0m \u001b[0mh\u001b[0m\u001b[0;34m.\u001b[0m\u001b[0mgetresponse\u001b[0m\u001b[0;34m(\u001b[0m\u001b[0mbuffering\u001b[0m\u001b[0;34m=\u001b[0m\u001b[0mTrue\u001b[0m\u001b[0;34m)\u001b[0m\u001b[0;34m\u001b[0m\u001b[0m\n\u001b[0m\u001b[1;32m   1201\u001b[0m             \u001b[0;32mexcept\u001b[0m \u001b[0mTypeError\u001b[0m\u001b[0;34m:\u001b[0m \u001b[0;31m# buffering kw not supported\u001b[0m\u001b[0;34m\u001b[0m\u001b[0m\n\u001b[1;32m   1202\u001b[0m                 \u001b[0mr\u001b[0m \u001b[0;34m=\u001b[0m \u001b[0mh\u001b[0m\u001b[0;34m.\u001b[0m\u001b[0mgetresponse\u001b[0m\u001b[0;34m(\u001b[0m\u001b[0;34m)\u001b[0m\u001b[0;34m\u001b[0m\u001b[0m\n",
      "\u001b[0;32m//anaconda/lib/python2.7/httplib.pyc\u001b[0m in \u001b[0;36mgetresponse\u001b[0;34m(self, buffering)\u001b[0m\n\u001b[1;32m   1130\u001b[0m \u001b[0;34m\u001b[0m\u001b[0m\n\u001b[1;32m   1131\u001b[0m         \u001b[0;32mtry\u001b[0m\u001b[0;34m:\u001b[0m\u001b[0;34m\u001b[0m\u001b[0m\n\u001b[0;32m-> 1132\u001b[0;31m             \u001b[0mresponse\u001b[0m\u001b[0;34m.\u001b[0m\u001b[0mbegin\u001b[0m\u001b[0;34m(\u001b[0m\u001b[0;34m)\u001b[0m\u001b[0;34m\u001b[0m\u001b[0m\n\u001b[0m\u001b[1;32m   1133\u001b[0m             \u001b[0;32massert\u001b[0m \u001b[0mresponse\u001b[0m\u001b[0;34m.\u001b[0m\u001b[0mwill_close\u001b[0m \u001b[0;34m!=\u001b[0m \u001b[0m_UNKNOWN\u001b[0m\u001b[0;34m\u001b[0m\u001b[0m\n\u001b[1;32m   1134\u001b[0m             \u001b[0mself\u001b[0m\u001b[0;34m.\u001b[0m\u001b[0m__state\u001b[0m \u001b[0;34m=\u001b[0m \u001b[0m_CS_IDLE\u001b[0m\u001b[0;34m\u001b[0m\u001b[0m\n",
      "\u001b[0;32m//anaconda/lib/python2.7/httplib.pyc\u001b[0m in \u001b[0;36mbegin\u001b[0;34m(self)\u001b[0m\n\u001b[1;32m    451\u001b[0m         \u001b[0;31m# read until we get a non-100 response\u001b[0m\u001b[0;34m\u001b[0m\u001b[0;34m\u001b[0m\u001b[0m\n\u001b[1;32m    452\u001b[0m         \u001b[0;32mwhile\u001b[0m \u001b[0mTrue\u001b[0m\u001b[0;34m:\u001b[0m\u001b[0;34m\u001b[0m\u001b[0m\n\u001b[0;32m--> 453\u001b[0;31m             \u001b[0mversion\u001b[0m\u001b[0;34m,\u001b[0m \u001b[0mstatus\u001b[0m\u001b[0;34m,\u001b[0m \u001b[0mreason\u001b[0m \u001b[0;34m=\u001b[0m \u001b[0mself\u001b[0m\u001b[0;34m.\u001b[0m\u001b[0m_read_status\u001b[0m\u001b[0;34m(\u001b[0m\u001b[0;34m)\u001b[0m\u001b[0;34m\u001b[0m\u001b[0m\n\u001b[0m\u001b[1;32m    454\u001b[0m             \u001b[0;32mif\u001b[0m \u001b[0mstatus\u001b[0m \u001b[0;34m!=\u001b[0m \u001b[0mCONTINUE\u001b[0m\u001b[0;34m:\u001b[0m\u001b[0;34m\u001b[0m\u001b[0m\n\u001b[1;32m    455\u001b[0m                 \u001b[0;32mbreak\u001b[0m\u001b[0;34m\u001b[0m\u001b[0m\n",
      "\u001b[0;32m//anaconda/lib/python2.7/httplib.pyc\u001b[0m in \u001b[0;36m_read_status\u001b[0;34m(self)\u001b[0m\n\u001b[1;32m    407\u001b[0m     \u001b[0;32mdef\u001b[0m \u001b[0m_read_status\u001b[0m\u001b[0;34m(\u001b[0m\u001b[0mself\u001b[0m\u001b[0;34m)\u001b[0m\u001b[0;34m:\u001b[0m\u001b[0;34m\u001b[0m\u001b[0m\n\u001b[1;32m    408\u001b[0m         \u001b[0;31m# Initialize with Simple-Response defaults\u001b[0m\u001b[0;34m\u001b[0m\u001b[0;34m\u001b[0m\u001b[0m\n\u001b[0;32m--> 409\u001b[0;31m         \u001b[0mline\u001b[0m \u001b[0;34m=\u001b[0m \u001b[0mself\u001b[0m\u001b[0;34m.\u001b[0m\u001b[0mfp\u001b[0m\u001b[0;34m.\u001b[0m\u001b[0mreadline\u001b[0m\u001b[0;34m(\u001b[0m\u001b[0m_MAXLINE\u001b[0m \u001b[0;34m+\u001b[0m \u001b[0;36m1\u001b[0m\u001b[0;34m)\u001b[0m\u001b[0;34m\u001b[0m\u001b[0m\n\u001b[0m\u001b[1;32m    410\u001b[0m         \u001b[0;32mif\u001b[0m \u001b[0mlen\u001b[0m\u001b[0;34m(\u001b[0m\u001b[0mline\u001b[0m\u001b[0;34m)\u001b[0m \u001b[0;34m>\u001b[0m \u001b[0m_MAXLINE\u001b[0m\u001b[0;34m:\u001b[0m\u001b[0;34m\u001b[0m\u001b[0m\n\u001b[1;32m    411\u001b[0m             \u001b[0;32mraise\u001b[0m \u001b[0mLineTooLong\u001b[0m\u001b[0;34m(\u001b[0m\u001b[0;34m\"header line\"\u001b[0m\u001b[0;34m)\u001b[0m\u001b[0;34m\u001b[0m\u001b[0m\n",
      "\u001b[0;32m//anaconda/lib/python2.7/socket.pyc\u001b[0m in \u001b[0;36mreadline\u001b[0;34m(self, size)\u001b[0m\n\u001b[1;32m    478\u001b[0m             \u001b[0;32mwhile\u001b[0m \u001b[0mTrue\u001b[0m\u001b[0;34m:\u001b[0m\u001b[0;34m\u001b[0m\u001b[0m\n\u001b[1;32m    479\u001b[0m                 \u001b[0;32mtry\u001b[0m\u001b[0;34m:\u001b[0m\u001b[0;34m\u001b[0m\u001b[0m\n\u001b[0;32m--> 480\u001b[0;31m                     \u001b[0mdata\u001b[0m \u001b[0;34m=\u001b[0m \u001b[0mself\u001b[0m\u001b[0;34m.\u001b[0m\u001b[0m_sock\u001b[0m\u001b[0;34m.\u001b[0m\u001b[0mrecv\u001b[0m\u001b[0;34m(\u001b[0m\u001b[0mself\u001b[0m\u001b[0;34m.\u001b[0m\u001b[0m_rbufsize\u001b[0m\u001b[0;34m)\u001b[0m\u001b[0;34m\u001b[0m\u001b[0m\n\u001b[0m\u001b[1;32m    481\u001b[0m                 \u001b[0;32mexcept\u001b[0m \u001b[0merror\u001b[0m\u001b[0;34m,\u001b[0m \u001b[0me\u001b[0m\u001b[0;34m:\u001b[0m\u001b[0;34m\u001b[0m\u001b[0m\n\u001b[1;32m    482\u001b[0m                     \u001b[0;32mif\u001b[0m \u001b[0me\u001b[0m\u001b[0;34m.\u001b[0m\u001b[0margs\u001b[0m\u001b[0;34m[\u001b[0m\u001b[0;36m0\u001b[0m\u001b[0;34m]\u001b[0m \u001b[0;34m==\u001b[0m \u001b[0mEINTR\u001b[0m\u001b[0;34m:\u001b[0m\u001b[0;34m\u001b[0m\u001b[0m\n",
      "\u001b[0;31merror\u001b[0m: [Errno 60] Operation timed out"
     ]
    }
   ],
   "source": [
    "i = 400\n",
    "for link in loveseat_links[400:]:\n",
    "    product_dict = wayfair_product_info_scrapper(link, category_input='loveseat')\n",
    "    df_product = pd.DataFrame([product_dict], index=[i])\n",
    "    loveseat_df = pd.concat([loveseat_df, df_product], axis=0)\n",
    "    i += 1\n",
    "    if i % 20 == 0:\n",
    "        print i"
   ]
  },
  {
   "cell_type": "code",
   "execution_count": 447,
   "metadata": {
    "collapsed": false
   },
   "outputs": [
    {
     "name": "stdout",
     "output_type": "stream",
     "text": [
      "<class 'pandas.core.frame.DataFrame'>\n",
      "Int64Index: 403 entries, 0 to 402\n",
      "Data columns (total 15 columns):\n",
      "category                403 non-null object\n",
      "colors                  403 non-null object\n",
      "description             275 non-null object\n",
      "features                403 non-null object\n",
      "image_links_all         403 non-null object\n",
      "image_links_by_color    403 non-null object\n",
      "manufacturer            403 non-null object\n",
      "price                   403 non-null object\n",
      "product_id              403 non-null object\n",
      "rating_avg              324 non-null object\n",
      "rating_count            324 non-null object\n",
      "specs                   399 non-null object\n",
      "title                   403 non-null object\n",
      "url                     403 non-null object\n",
      "website                 403 non-null object\n",
      "dtypes: object(15)\n",
      "memory usage: 50.4+ KB\n"
     ]
    }
   ],
   "source": [
    "loveseat_df.info()"
   ]
  },
  {
   "cell_type": "code",
   "execution_count": 448,
   "metadata": {
    "collapsed": false
   },
   "outputs": [
    {
     "data": {
      "text/html": [
       "<div>\n",
       "<table border=\"1\" class=\"dataframe\">\n",
       "  <thead>\n",
       "    <tr style=\"text-align: right;\">\n",
       "      <th></th>\n",
       "      <th>category</th>\n",
       "      <th>colors</th>\n",
       "      <th>description</th>\n",
       "      <th>features</th>\n",
       "      <th>image_links_all</th>\n",
       "      <th>image_links_by_color</th>\n",
       "      <th>manufacturer</th>\n",
       "      <th>price</th>\n",
       "      <th>product_id</th>\n",
       "      <th>rating_avg</th>\n",
       "      <th>rating_count</th>\n",
       "      <th>specs</th>\n",
       "      <th>title</th>\n",
       "      <th>url</th>\n",
       "      <th>website</th>\n",
       "    </tr>\n",
       "  </thead>\n",
       "  <tbody>\n",
       "    <tr>\n",
       "      <th>401</th>\n",
       "      <td>loveseat</td>\n",
       "      <td>[]</td>\n",
       "      <td>Relax and put your feet up with the coffee Dua...</td>\n",
       "      <td>[\\nFeatures\\n\\nMadison collection\\nModern styl...</td>\n",
       "      <td>[https://secure.img2.wfrcdn.com/lf/49/hash/321...</td>\n",
       "      <td>{}</td>\n",
       "      <td>Beverly Fine Furniture</td>\n",
       "      <td>$549.99</td>\n",
       "      <td>QRMG1000</td>\n",
       "      <td>4.0</td>\n",
       "      <td>2</td>\n",
       "      <td>\\nWeights &amp; Dimensions\\n\\n\\n\\n            Over...</td>\n",
       "      <td>Madison Reclining Loveseat</td>\n",
       "      <td>http://www.wayfair.com/Beverly-Fine-Furniture-...</td>\n",
       "      <td>wayfair</td>\n",
       "    </tr>\n",
       "    <tr>\n",
       "      <th>402</th>\n",
       "      <td>loveseat</td>\n",
       "      <td>[Crave Fern, Crave Linen, Sensation Pea Green,...</td>\n",
       "      <td>Distinguish your living room with the unique t...</td>\n",
       "      <td>[\\nFeatures\\n\\nHeavy Density 1.8 deluxe foam c...</td>\n",
       "      <td>[https://secure.img1.wfrcdn.com/lf/49/hash/389...</td>\n",
       "      <td>{u'Crave Linen': [u'https://secure.img1.wfrcdn...</td>\n",
       "      <td>LaCrosse Furniture</td>\n",
       "      <td>$839.99</td>\n",
       "      <td>LR1174</td>\n",
       "      <td>None</td>\n",
       "      <td>None</td>\n",
       "      <td>\\nWeights &amp; Dimensions\\n\\n\\n\\n            Over...</td>\n",
       "      <td>Leyland Apartment Sleeper Sofa</td>\n",
       "      <td>http://www.wayfair.com/LaCrosse-Furniture-Leyl...</td>\n",
       "      <td>wayfair</td>\n",
       "    </tr>\n",
       "  </tbody>\n",
       "</table>\n",
       "</div>"
      ],
      "text/plain": [
       "     category                                             colors  \\\n",
       "401  loveseat                                                 []   \n",
       "402  loveseat  [Crave Fern, Crave Linen, Sensation Pea Green,...   \n",
       "\n",
       "                                           description  \\\n",
       "401  Relax and put your feet up with the coffee Dua...   \n",
       "402  Distinguish your living room with the unique t...   \n",
       "\n",
       "                                              features  \\\n",
       "401  [\\nFeatures\\n\\nMadison collection\\nModern styl...   \n",
       "402  [\\nFeatures\\n\\nHeavy Density 1.8 deluxe foam c...   \n",
       "\n",
       "                                       image_links_all  \\\n",
       "401  [https://secure.img2.wfrcdn.com/lf/49/hash/321...   \n",
       "402  [https://secure.img1.wfrcdn.com/lf/49/hash/389...   \n",
       "\n",
       "                                  image_links_by_color  \\\n",
       "401                                                 {}   \n",
       "402  {u'Crave Linen': [u'https://secure.img1.wfrcdn...   \n",
       "\n",
       "               manufacturer    price product_id rating_avg rating_count  \\\n",
       "401  Beverly Fine Furniture  $549.99   QRMG1000        4.0            2   \n",
       "402      LaCrosse Furniture  $839.99     LR1174       None         None   \n",
       "\n",
       "                                                 specs  \\\n",
       "401  \\nWeights & Dimensions\\n\\n\\n\\n            Over...   \n",
       "402  \\nWeights & Dimensions\\n\\n\\n\\n            Over...   \n",
       "\n",
       "                              title  \\\n",
       "401      Madison Reclining Loveseat   \n",
       "402  Leyland Apartment Sleeper Sofa   \n",
       "\n",
       "                                                   url  website  \n",
       "401  http://www.wayfair.com/Beverly-Fine-Furniture-...  wayfair  \n",
       "402  http://www.wayfair.com/LaCrosse-Furniture-Leyl...  wayfair  "
      ]
     },
     "execution_count": 448,
     "metadata": {},
     "output_type": "execute_result"
    }
   ],
   "source": [
    "loveseat_df.tail(2)"
   ]
  },
  {
   "cell_type": "code",
   "execution_count": 449,
   "metadata": {
    "collapsed": false
   },
   "outputs": [
    {
     "name": "stdout",
     "output_type": "stream",
     "text": [
      "420\n",
      "440\n",
      "460\n",
      "480\n",
      "500\n"
     ]
    },
    {
     "ename": "timeout",
     "evalue": "timed out",
     "output_type": "error",
     "traceback": [
      "\u001b[0;31m---------------------------------------------------------------------------\u001b[0m",
      "\u001b[0;31mtimeout\u001b[0m                                   Traceback (most recent call last)",
      "\u001b[0;32m<ipython-input-449-7f9acca6067f>\u001b[0m in \u001b[0;36m<module>\u001b[0;34m()\u001b[0m\n\u001b[1;32m      1\u001b[0m \u001b[0mi\u001b[0m \u001b[0;34m=\u001b[0m \u001b[0;36m403\u001b[0m\u001b[0;34m\u001b[0m\u001b[0m\n\u001b[1;32m      2\u001b[0m \u001b[0;32mfor\u001b[0m \u001b[0mlink\u001b[0m \u001b[0;32min\u001b[0m \u001b[0mloveseat_links\u001b[0m\u001b[0;34m[\u001b[0m\u001b[0;36m403\u001b[0m\u001b[0;34m:\u001b[0m\u001b[0;34m]\u001b[0m\u001b[0;34m:\u001b[0m\u001b[0;34m\u001b[0m\u001b[0m\n\u001b[0;32m----> 3\u001b[0;31m     \u001b[0mproduct_dict\u001b[0m \u001b[0;34m=\u001b[0m \u001b[0mwayfair_product_info_scrapper\u001b[0m\u001b[0;34m(\u001b[0m\u001b[0mlink\u001b[0m\u001b[0;34m,\u001b[0m \u001b[0mcategory_input\u001b[0m\u001b[0;34m=\u001b[0m\u001b[0;34m'loveseat'\u001b[0m\u001b[0;34m)\u001b[0m\u001b[0;34m\u001b[0m\u001b[0m\n\u001b[0m\u001b[1;32m      4\u001b[0m     \u001b[0mdf_product\u001b[0m \u001b[0;34m=\u001b[0m \u001b[0mpd\u001b[0m\u001b[0;34m.\u001b[0m\u001b[0mDataFrame\u001b[0m\u001b[0;34m(\u001b[0m\u001b[0;34m[\u001b[0m\u001b[0mproduct_dict\u001b[0m\u001b[0;34m]\u001b[0m\u001b[0;34m,\u001b[0m \u001b[0mindex\u001b[0m\u001b[0;34m=\u001b[0m\u001b[0;34m[\u001b[0m\u001b[0mi\u001b[0m\u001b[0;34m]\u001b[0m\u001b[0;34m)\u001b[0m\u001b[0;34m\u001b[0m\u001b[0m\n\u001b[1;32m      5\u001b[0m     \u001b[0mloveseat_df\u001b[0m \u001b[0;34m=\u001b[0m \u001b[0mpd\u001b[0m\u001b[0;34m.\u001b[0m\u001b[0mconcat\u001b[0m\u001b[0;34m(\u001b[0m\u001b[0;34m[\u001b[0m\u001b[0mloveseat_df\u001b[0m\u001b[0;34m,\u001b[0m \u001b[0mdf_product\u001b[0m\u001b[0;34m]\u001b[0m\u001b[0;34m,\u001b[0m \u001b[0maxis\u001b[0m\u001b[0;34m=\u001b[0m\u001b[0;36m0\u001b[0m\u001b[0;34m)\u001b[0m\u001b[0;34m\u001b[0m\u001b[0m\n",
      "\u001b[0;32m<ipython-input-443-bb9ace42025d>\u001b[0m in \u001b[0;36mwayfair_product_info_scrapper\u001b[0;34m(link, category_input)\u001b[0m\n\u001b[1;32m     82\u001b[0m             \u001b[0mlink_color\u001b[0m \u001b[0;34m=\u001b[0m \u001b[0mlink\u001b[0m \u001b[0;34m+\u001b[0m \u001b[0mcolor_link\u001b[0m\u001b[0;34m\u001b[0m\u001b[0m\n\u001b[1;32m     83\u001b[0m             \u001b[0mhtml_color\u001b[0m  \u001b[0;34m=\u001b[0m \u001b[0murlopen\u001b[0m\u001b[0;34m(\u001b[0m\u001b[0mlink_color\u001b[0m\u001b[0;34m,\u001b[0m \u001b[0mtimeout\u001b[0m\u001b[0;34m=\u001b[0m\u001b[0;36m100\u001b[0m\u001b[0;34m)\u001b[0m\u001b[0;34m\u001b[0m\u001b[0m\n\u001b[0;32m---> 84\u001b[0;31m             \u001b[0msoup_color\u001b[0m \u001b[0;34m=\u001b[0m \u001b[0mBeautifulSoup\u001b[0m\u001b[0;34m(\u001b[0m\u001b[0mhtml_color\u001b[0m\u001b[0;34m,\u001b[0m \u001b[0;34m'html.parser'\u001b[0m\u001b[0;34m)\u001b[0m\u001b[0;34m\u001b[0m\u001b[0m\n\u001b[0m\u001b[1;32m     85\u001b[0m             \u001b[0mimage_info_color\u001b[0m \u001b[0;34m=\u001b[0m \u001b[0msoup_color\u001b[0m\u001b[0;34m.\u001b[0m\u001b[0mfindAll\u001b[0m\u001b[0;34m(\u001b[0m\u001b[0;34m'a'\u001b[0m\u001b[0;34m,\u001b[0m \u001b[0;34m{\u001b[0m\u001b[0;34m'class'\u001b[0m\u001b[0;34m:\u001b[0m \u001b[0;34m'photoswipe_link'\u001b[0m\u001b[0;34m}\u001b[0m\u001b[0;34m)\u001b[0m\u001b[0;34m\u001b[0m\u001b[0m\n\u001b[1;32m     86\u001b[0m             \u001b[0mimage_links_color\u001b[0m \u001b[0;34m=\u001b[0m \u001b[0;34m[\u001b[0m\u001b[0mx\u001b[0m\u001b[0;34m[\u001b[0m\u001b[0;34m'data-original-src'\u001b[0m\u001b[0;34m]\u001b[0m \u001b[0;32mfor\u001b[0m \u001b[0mx\u001b[0m \u001b[0;32min\u001b[0m \u001b[0mimage_info_color\u001b[0m\u001b[0;34m]\u001b[0m\u001b[0;34m\u001b[0m\u001b[0m\n",
      "\u001b[0;32m//anaconda/lib/python2.7/site-packages/bs4/__init__.pyc\u001b[0m in \u001b[0;36m__init__\u001b[0;34m(self, markup, features, builder, parse_only, from_encoding, **kwargs)\u001b[0m\n\u001b[1;32m    159\u001b[0m \u001b[0;34m\u001b[0m\u001b[0m\n\u001b[1;32m    160\u001b[0m         \u001b[0;32mif\u001b[0m \u001b[0mhasattr\u001b[0m\u001b[0;34m(\u001b[0m\u001b[0mmarkup\u001b[0m\u001b[0;34m,\u001b[0m \u001b[0;34m'read'\u001b[0m\u001b[0;34m)\u001b[0m\u001b[0;34m:\u001b[0m        \u001b[0;31m# It's a file-type object.\u001b[0m\u001b[0;34m\u001b[0m\u001b[0m\n\u001b[0;32m--> 161\u001b[0;31m             \u001b[0mmarkup\u001b[0m \u001b[0;34m=\u001b[0m \u001b[0mmarkup\u001b[0m\u001b[0;34m.\u001b[0m\u001b[0mread\u001b[0m\u001b[0;34m(\u001b[0m\u001b[0;34m)\u001b[0m\u001b[0;34m\u001b[0m\u001b[0m\n\u001b[0m\u001b[1;32m    162\u001b[0m         \u001b[0;32melif\u001b[0m \u001b[0mlen\u001b[0m\u001b[0;34m(\u001b[0m\u001b[0mmarkup\u001b[0m\u001b[0;34m)\u001b[0m \u001b[0;34m<=\u001b[0m \u001b[0;36m256\u001b[0m\u001b[0;34m:\u001b[0m\u001b[0;34m\u001b[0m\u001b[0m\n\u001b[1;32m    163\u001b[0m             \u001b[0;31m# Print out warnings for a couple beginner problems\u001b[0m\u001b[0;34m\u001b[0m\u001b[0;34m\u001b[0m\u001b[0m\n",
      "\u001b[0;32m//anaconda/lib/python2.7/socket.pyc\u001b[0m in \u001b[0;36mread\u001b[0;34m(self, size)\u001b[0m\n\u001b[1;32m    353\u001b[0m             \u001b[0;32mwhile\u001b[0m \u001b[0mTrue\u001b[0m\u001b[0;34m:\u001b[0m\u001b[0;34m\u001b[0m\u001b[0m\n\u001b[1;32m    354\u001b[0m                 \u001b[0;32mtry\u001b[0m\u001b[0;34m:\u001b[0m\u001b[0;34m\u001b[0m\u001b[0m\n\u001b[0;32m--> 355\u001b[0;31m                     \u001b[0mdata\u001b[0m \u001b[0;34m=\u001b[0m \u001b[0mself\u001b[0m\u001b[0;34m.\u001b[0m\u001b[0m_sock\u001b[0m\u001b[0;34m.\u001b[0m\u001b[0mrecv\u001b[0m\u001b[0;34m(\u001b[0m\u001b[0mrbufsize\u001b[0m\u001b[0;34m)\u001b[0m\u001b[0;34m\u001b[0m\u001b[0m\n\u001b[0m\u001b[1;32m    356\u001b[0m                 \u001b[0;32mexcept\u001b[0m \u001b[0merror\u001b[0m\u001b[0;34m,\u001b[0m \u001b[0me\u001b[0m\u001b[0;34m:\u001b[0m\u001b[0;34m\u001b[0m\u001b[0m\n\u001b[1;32m    357\u001b[0m                     \u001b[0;32mif\u001b[0m \u001b[0me\u001b[0m\u001b[0;34m.\u001b[0m\u001b[0margs\u001b[0m\u001b[0;34m[\u001b[0m\u001b[0;36m0\u001b[0m\u001b[0;34m]\u001b[0m \u001b[0;34m==\u001b[0m \u001b[0mEINTR\u001b[0m\u001b[0;34m:\u001b[0m\u001b[0;34m\u001b[0m\u001b[0m\n",
      "\u001b[0;32m//anaconda/lib/python2.7/httplib.pyc\u001b[0m in \u001b[0;36mread\u001b[0;34m(self, amt)\u001b[0m\n\u001b[1;32m    586\u001b[0m \u001b[0;34m\u001b[0m\u001b[0m\n\u001b[1;32m    587\u001b[0m         \u001b[0;32mif\u001b[0m \u001b[0mself\u001b[0m\u001b[0;34m.\u001b[0m\u001b[0mchunked\u001b[0m\u001b[0;34m:\u001b[0m\u001b[0;34m\u001b[0m\u001b[0m\n\u001b[0;32m--> 588\u001b[0;31m             \u001b[0;32mreturn\u001b[0m \u001b[0mself\u001b[0m\u001b[0;34m.\u001b[0m\u001b[0m_read_chunked\u001b[0m\u001b[0;34m(\u001b[0m\u001b[0mamt\u001b[0m\u001b[0;34m)\u001b[0m\u001b[0;34m\u001b[0m\u001b[0m\n\u001b[0m\u001b[1;32m    589\u001b[0m \u001b[0;34m\u001b[0m\u001b[0m\n\u001b[1;32m    590\u001b[0m         \u001b[0;32mif\u001b[0m \u001b[0mamt\u001b[0m \u001b[0;32mis\u001b[0m \u001b[0mNone\u001b[0m\u001b[0;34m:\u001b[0m\u001b[0;34m\u001b[0m\u001b[0m\n",
      "\u001b[0;32m//anaconda/lib/python2.7/httplib.pyc\u001b[0m in \u001b[0;36m_read_chunked\u001b[0;34m(self, amt)\u001b[0m\n\u001b[1;32m    646\u001b[0m                 \u001b[0mvalue\u001b[0m\u001b[0;34m.\u001b[0m\u001b[0mappend\u001b[0m\u001b[0;34m(\u001b[0m\u001b[0mself\u001b[0m\u001b[0;34m.\u001b[0m\u001b[0m_safe_read\u001b[0m\u001b[0;34m(\u001b[0m\u001b[0mchunk_left\u001b[0m\u001b[0;34m)\u001b[0m\u001b[0;34m)\u001b[0m\u001b[0;34m\u001b[0m\u001b[0m\n\u001b[1;32m    647\u001b[0m             \u001b[0;32melif\u001b[0m \u001b[0mamt\u001b[0m \u001b[0;34m<\u001b[0m \u001b[0mchunk_left\u001b[0m\u001b[0;34m:\u001b[0m\u001b[0;34m\u001b[0m\u001b[0m\n\u001b[0;32m--> 648\u001b[0;31m                 \u001b[0mvalue\u001b[0m\u001b[0;34m.\u001b[0m\u001b[0mappend\u001b[0m\u001b[0;34m(\u001b[0m\u001b[0mself\u001b[0m\u001b[0;34m.\u001b[0m\u001b[0m_safe_read\u001b[0m\u001b[0;34m(\u001b[0m\u001b[0mamt\u001b[0m\u001b[0;34m)\u001b[0m\u001b[0;34m)\u001b[0m\u001b[0;34m\u001b[0m\u001b[0m\n\u001b[0m\u001b[1;32m    649\u001b[0m                 \u001b[0mself\u001b[0m\u001b[0;34m.\u001b[0m\u001b[0mchunk_left\u001b[0m \u001b[0;34m=\u001b[0m \u001b[0mchunk_left\u001b[0m \u001b[0;34m-\u001b[0m \u001b[0mamt\u001b[0m\u001b[0;34m\u001b[0m\u001b[0m\n\u001b[1;32m    650\u001b[0m                 \u001b[0;32mreturn\u001b[0m \u001b[0;34m''\u001b[0m\u001b[0;34m.\u001b[0m\u001b[0mjoin\u001b[0m\u001b[0;34m(\u001b[0m\u001b[0mvalue\u001b[0m\u001b[0;34m)\u001b[0m\u001b[0;34m\u001b[0m\u001b[0m\n",
      "\u001b[0;32m//anaconda/lib/python2.7/httplib.pyc\u001b[0m in \u001b[0;36m_safe_read\u001b[0;34m(self, amt)\u001b[0m\n\u001b[1;32m    701\u001b[0m         \u001b[0ms\u001b[0m \u001b[0;34m=\u001b[0m \u001b[0;34m[\u001b[0m\u001b[0;34m]\u001b[0m\u001b[0;34m\u001b[0m\u001b[0m\n\u001b[1;32m    702\u001b[0m         \u001b[0;32mwhile\u001b[0m \u001b[0mamt\u001b[0m \u001b[0;34m>\u001b[0m \u001b[0;36m0\u001b[0m\u001b[0;34m:\u001b[0m\u001b[0;34m\u001b[0m\u001b[0m\n\u001b[0;32m--> 703\u001b[0;31m             \u001b[0mchunk\u001b[0m \u001b[0;34m=\u001b[0m \u001b[0mself\u001b[0m\u001b[0;34m.\u001b[0m\u001b[0mfp\u001b[0m\u001b[0;34m.\u001b[0m\u001b[0mread\u001b[0m\u001b[0;34m(\u001b[0m\u001b[0mmin\u001b[0m\u001b[0;34m(\u001b[0m\u001b[0mamt\u001b[0m\u001b[0;34m,\u001b[0m \u001b[0mMAXAMOUNT\u001b[0m\u001b[0;34m)\u001b[0m\u001b[0;34m)\u001b[0m\u001b[0;34m\u001b[0m\u001b[0m\n\u001b[0m\u001b[1;32m    704\u001b[0m             \u001b[0;32mif\u001b[0m \u001b[0;32mnot\u001b[0m \u001b[0mchunk\u001b[0m\u001b[0;34m:\u001b[0m\u001b[0;34m\u001b[0m\u001b[0m\n\u001b[1;32m    705\u001b[0m                 \u001b[0;32mraise\u001b[0m \u001b[0mIncompleteRead\u001b[0m\u001b[0;34m(\u001b[0m\u001b[0;34m''\u001b[0m\u001b[0;34m.\u001b[0m\u001b[0mjoin\u001b[0m\u001b[0;34m(\u001b[0m\u001b[0ms\u001b[0m\u001b[0;34m)\u001b[0m\u001b[0;34m,\u001b[0m \u001b[0mamt\u001b[0m\u001b[0;34m)\u001b[0m\u001b[0;34m\u001b[0m\u001b[0m\n",
      "\u001b[0;32m//anaconda/lib/python2.7/socket.pyc\u001b[0m in \u001b[0;36mread\u001b[0;34m(self, size)\u001b[0m\n\u001b[1;32m    382\u001b[0m                 \u001b[0;31m# fragmentation issues on many platforms.\u001b[0m\u001b[0;34m\u001b[0m\u001b[0;34m\u001b[0m\u001b[0m\n\u001b[1;32m    383\u001b[0m                 \u001b[0;32mtry\u001b[0m\u001b[0;34m:\u001b[0m\u001b[0;34m\u001b[0m\u001b[0m\n\u001b[0;32m--> 384\u001b[0;31m                     \u001b[0mdata\u001b[0m \u001b[0;34m=\u001b[0m \u001b[0mself\u001b[0m\u001b[0;34m.\u001b[0m\u001b[0m_sock\u001b[0m\u001b[0;34m.\u001b[0m\u001b[0mrecv\u001b[0m\u001b[0;34m(\u001b[0m\u001b[0mleft\u001b[0m\u001b[0;34m)\u001b[0m\u001b[0;34m\u001b[0m\u001b[0m\n\u001b[0m\u001b[1;32m    385\u001b[0m                 \u001b[0;32mexcept\u001b[0m \u001b[0merror\u001b[0m\u001b[0;34m,\u001b[0m \u001b[0me\u001b[0m\u001b[0;34m:\u001b[0m\u001b[0;34m\u001b[0m\u001b[0m\n\u001b[1;32m    386\u001b[0m                     \u001b[0;32mif\u001b[0m \u001b[0me\u001b[0m\u001b[0;34m.\u001b[0m\u001b[0margs\u001b[0m\u001b[0;34m[\u001b[0m\u001b[0;36m0\u001b[0m\u001b[0;34m]\u001b[0m \u001b[0;34m==\u001b[0m \u001b[0mEINTR\u001b[0m\u001b[0;34m:\u001b[0m\u001b[0;34m\u001b[0m\u001b[0m\n",
      "\u001b[0;31mtimeout\u001b[0m: timed out"
     ]
    }
   ],
   "source": [
    "i = 403\n",
    "for link in loveseat_links[403:]:\n",
    "    product_dict = wayfair_product_info_scrapper(link, category_input='loveseat')\n",
    "    df_product = pd.DataFrame([product_dict], index=[i])\n",
    "    loveseat_df = pd.concat([loveseat_df, df_product], axis=0)\n",
    "    i += 1\n",
    "    if i % 20 == 0:\n",
    "        print i"
   ]
  },
  {
   "cell_type": "code",
   "execution_count": 450,
   "metadata": {
    "collapsed": false
   },
   "outputs": [
    {
     "name": "stdout",
     "output_type": "stream",
     "text": [
      "<class 'pandas.core.frame.DataFrame'>\n",
      "Int64Index: 519 entries, 0 to 518\n",
      "Data columns (total 15 columns):\n",
      "category                519 non-null object\n",
      "colors                  519 non-null object\n",
      "description             331 non-null object\n",
      "features                519 non-null object\n",
      "image_links_all         519 non-null object\n",
      "image_links_by_color    519 non-null object\n",
      "manufacturer            519 non-null object\n",
      "price                   519 non-null object\n",
      "product_id              519 non-null object\n",
      "rating_avg              386 non-null object\n",
      "rating_count            386 non-null object\n",
      "specs                   514 non-null object\n",
      "title                   519 non-null object\n",
      "url                     519 non-null object\n",
      "website                 519 non-null object\n",
      "dtypes: object(15)\n",
      "memory usage: 64.9+ KB\n"
     ]
    }
   ],
   "source": [
    "loveseat_df.info()"
   ]
  },
  {
   "cell_type": "code",
   "execution_count": 451,
   "metadata": {
    "collapsed": false
   },
   "outputs": [
    {
     "name": "stdout",
     "output_type": "stream",
     "text": [
      "520\n"
     ]
    }
   ],
   "source": [
    "i = 519\n",
    "for link in loveseat_links[519:]:\n",
    "    product_dict = wayfair_product_info_scrapper(link, category_input='loveseat')\n",
    "    df_product = pd.DataFrame([product_dict], index=[i])\n",
    "    loveseat_df = pd.concat([loveseat_df, df_product], axis=0)\n",
    "    i += 1\n",
    "    if i % 20 == 0:\n",
    "        print i"
   ]
  },
  {
   "cell_type": "code",
   "execution_count": 452,
   "metadata": {
    "collapsed": true
   },
   "outputs": [],
   "source": [
    "loveseat_df.to_json('wayfair/loveseat.json')"
   ]
  },
  {
   "cell_type": "code",
   "execution_count": 453,
   "metadata": {
    "collapsed": false
   },
   "outputs": [
    {
     "data": {
      "text/plain": [
       "'Mon Sep 21 11:34:38 2015'"
      ]
     },
     "execution_count": 453,
     "metadata": {},
     "output_type": "execute_result"
    }
   ],
   "source": [
    "time.ctime(time.time())"
   ]
  },
  {
   "cell_type": "markdown",
   "metadata": {},
   "source": [
    "# Coffee tables"
   ]
  },
  {
   "cell_type": "code",
   "execution_count": 454,
   "metadata": {
    "collapsed": false
   },
   "outputs": [
    {
     "data": {
      "text/plain": [
       "'Mon Sep 21 11:34:38 2015'"
      ]
     },
     "execution_count": 454,
     "metadata": {},
     "output_type": "execute_result"
    }
   ],
   "source": [
    "time.ctime(time.time())"
   ]
  },
  {
   "cell_type": "code",
   "execution_count": 455,
   "metadata": {
    "collapsed": false
   },
   "outputs": [
    {
     "name": "stdout",
     "output_type": "stream",
     "text": [
      "1008\n",
      "       category colors                                        description  \\\n",
      "0  coffee_table     []  A sparkling beauty, this coffee table features...   \n",
      "\n",
      "                                            features  \\\n",
      "0  [\\nFeatures\\n\\nMaterial: Steel and glass\\nCont...   \n",
      "\n",
      "                                     image_links_all image_links_by_color  \\\n",
      "0  [https://secure.img1.wfrcdn.com/lf/49/hash/305...                   {}   \n",
      "\n",
      "     manufacturer   price product_id rating_avg rating_count specs  \\\n",
      "0  Zipcode Design  $87.99   ZIPC1534        4.9            8  None   \n",
      "\n",
      "                title                                                url  \\\n",
      "0  Glass Coffee Table  http://www.wayfair.com/Glass-Coffee-Table-ZIPC...   \n",
      "\n",
      "   website  \n",
      "0  wayfair  \n",
      "20\n"
     ]
    },
    {
     "ename": "error",
     "evalue": "[Errno 60] Operation timed out",
     "output_type": "error",
     "traceback": [
      "\u001b[0;31m---------------------------------------------------------------------------\u001b[0m",
      "\u001b[0;31merror\u001b[0m                                     Traceback (most recent call last)",
      "\u001b[0;32m<ipython-input-455-8b6444724239>\u001b[0m in \u001b[0;36m<module>\u001b[0;34m()\u001b[0m\n\u001b[1;32m      7\u001b[0m \u001b[0mi\u001b[0m \u001b[0;34m=\u001b[0m \u001b[0;36m1\u001b[0m\u001b[0;34m\u001b[0m\u001b[0m\n\u001b[1;32m      8\u001b[0m \u001b[0;32mfor\u001b[0m \u001b[0mlink\u001b[0m \u001b[0;32min\u001b[0m \u001b[0mcoffee_table_links\u001b[0m\u001b[0;34m[\u001b[0m\u001b[0;36m1\u001b[0m\u001b[0;34m:\u001b[0m\u001b[0;34m]\u001b[0m\u001b[0;34m:\u001b[0m\u001b[0;34m\u001b[0m\u001b[0m\n\u001b[0;32m----> 9\u001b[0;31m     \u001b[0mproduct_dict\u001b[0m \u001b[0;34m=\u001b[0m \u001b[0mwayfair_product_info_scrapper\u001b[0m\u001b[0;34m(\u001b[0m\u001b[0mlink\u001b[0m\u001b[0;34m,\u001b[0m \u001b[0mcategory_input\u001b[0m\u001b[0;34m=\u001b[0m\u001b[0;34m'coffee_table'\u001b[0m\u001b[0;34m)\u001b[0m\u001b[0;34m\u001b[0m\u001b[0m\n\u001b[0m\u001b[1;32m     10\u001b[0m     \u001b[0mdf_product\u001b[0m \u001b[0;34m=\u001b[0m \u001b[0mpd\u001b[0m\u001b[0;34m.\u001b[0m\u001b[0mDataFrame\u001b[0m\u001b[0;34m(\u001b[0m\u001b[0;34m[\u001b[0m\u001b[0mproduct_dict\u001b[0m\u001b[0;34m]\u001b[0m\u001b[0;34m,\u001b[0m \u001b[0mindex\u001b[0m\u001b[0;34m=\u001b[0m\u001b[0;34m[\u001b[0m\u001b[0mi\u001b[0m\u001b[0;34m]\u001b[0m\u001b[0;34m)\u001b[0m\u001b[0;34m\u001b[0m\u001b[0m\n\u001b[1;32m     11\u001b[0m     \u001b[0mcoffee_table_df\u001b[0m \u001b[0;34m=\u001b[0m \u001b[0mpd\u001b[0m\u001b[0;34m.\u001b[0m\u001b[0mconcat\u001b[0m\u001b[0;34m(\u001b[0m\u001b[0;34m[\u001b[0m\u001b[0mcoffee_table_df\u001b[0m\u001b[0;34m,\u001b[0m \u001b[0mdf_product\u001b[0m\u001b[0;34m]\u001b[0m\u001b[0;34m,\u001b[0m \u001b[0maxis\u001b[0m\u001b[0;34m=\u001b[0m\u001b[0;36m0\u001b[0m\u001b[0;34m)\u001b[0m\u001b[0;34m\u001b[0m\u001b[0m\n",
      "\u001b[0;32m<ipython-input-443-bb9ace42025d>\u001b[0m in \u001b[0;36mwayfair_product_info_scrapper\u001b[0;34m(link, category_input)\u001b[0m\n\u001b[1;32m     81\u001b[0m             \u001b[0mcolor_key\u001b[0m \u001b[0;34m=\u001b[0m \u001b[0mcolors\u001b[0m\u001b[0;34m[\u001b[0m\u001b[0mi\u001b[0m\u001b[0;34m]\u001b[0m\u001b[0;34m\u001b[0m\u001b[0m\n\u001b[1;32m     82\u001b[0m             \u001b[0mlink_color\u001b[0m \u001b[0;34m=\u001b[0m \u001b[0mlink\u001b[0m \u001b[0;34m+\u001b[0m \u001b[0mcolor_link\u001b[0m\u001b[0;34m\u001b[0m\u001b[0m\n\u001b[0;32m---> 83\u001b[0;31m             \u001b[0mhtml_color\u001b[0m  \u001b[0;34m=\u001b[0m \u001b[0murlopen\u001b[0m\u001b[0;34m(\u001b[0m\u001b[0mlink_color\u001b[0m\u001b[0;34m,\u001b[0m \u001b[0mtimeout\u001b[0m\u001b[0;34m=\u001b[0m\u001b[0;36m100\u001b[0m\u001b[0;34m)\u001b[0m\u001b[0;34m\u001b[0m\u001b[0m\n\u001b[0m\u001b[1;32m     84\u001b[0m             \u001b[0msoup_color\u001b[0m \u001b[0;34m=\u001b[0m \u001b[0mBeautifulSoup\u001b[0m\u001b[0;34m(\u001b[0m\u001b[0mhtml_color\u001b[0m\u001b[0;34m,\u001b[0m \u001b[0;34m'html.parser'\u001b[0m\u001b[0;34m)\u001b[0m\u001b[0;34m\u001b[0m\u001b[0m\n\u001b[1;32m     85\u001b[0m             \u001b[0mimage_info_color\u001b[0m \u001b[0;34m=\u001b[0m \u001b[0msoup_color\u001b[0m\u001b[0;34m.\u001b[0m\u001b[0mfindAll\u001b[0m\u001b[0;34m(\u001b[0m\u001b[0;34m'a'\u001b[0m\u001b[0;34m,\u001b[0m \u001b[0;34m{\u001b[0m\u001b[0;34m'class'\u001b[0m\u001b[0;34m:\u001b[0m \u001b[0;34m'photoswipe_link'\u001b[0m\u001b[0;34m}\u001b[0m\u001b[0;34m)\u001b[0m\u001b[0;34m\u001b[0m\u001b[0m\n",
      "\u001b[0;32m//anaconda/lib/python2.7/urllib2.pyc\u001b[0m in \u001b[0;36murlopen\u001b[0;34m(url, data, timeout, cafile, capath, cadefault, context)\u001b[0m\n\u001b[1;32m    152\u001b[0m     \u001b[0;32melse\u001b[0m\u001b[0;34m:\u001b[0m\u001b[0;34m\u001b[0m\u001b[0m\n\u001b[1;32m    153\u001b[0m         \u001b[0mopener\u001b[0m \u001b[0;34m=\u001b[0m \u001b[0m_opener\u001b[0m\u001b[0;34m\u001b[0m\u001b[0m\n\u001b[0;32m--> 154\u001b[0;31m     \u001b[0;32mreturn\u001b[0m \u001b[0mopener\u001b[0m\u001b[0;34m.\u001b[0m\u001b[0mopen\u001b[0m\u001b[0;34m(\u001b[0m\u001b[0murl\u001b[0m\u001b[0;34m,\u001b[0m \u001b[0mdata\u001b[0m\u001b[0;34m,\u001b[0m \u001b[0mtimeout\u001b[0m\u001b[0;34m)\u001b[0m\u001b[0;34m\u001b[0m\u001b[0m\n\u001b[0m\u001b[1;32m    155\u001b[0m \u001b[0;34m\u001b[0m\u001b[0m\n\u001b[1;32m    156\u001b[0m \u001b[0;32mdef\u001b[0m \u001b[0minstall_opener\u001b[0m\u001b[0;34m(\u001b[0m\u001b[0mopener\u001b[0m\u001b[0;34m)\u001b[0m\u001b[0;34m:\u001b[0m\u001b[0;34m\u001b[0m\u001b[0m\n",
      "\u001b[0;32m//anaconda/lib/python2.7/urllib2.pyc\u001b[0m in \u001b[0;36mopen\u001b[0;34m(self, fullurl, data, timeout)\u001b[0m\n\u001b[1;32m    429\u001b[0m             \u001b[0mreq\u001b[0m \u001b[0;34m=\u001b[0m \u001b[0mmeth\u001b[0m\u001b[0;34m(\u001b[0m\u001b[0mreq\u001b[0m\u001b[0;34m)\u001b[0m\u001b[0;34m\u001b[0m\u001b[0m\n\u001b[1;32m    430\u001b[0m \u001b[0;34m\u001b[0m\u001b[0m\n\u001b[0;32m--> 431\u001b[0;31m         \u001b[0mresponse\u001b[0m \u001b[0;34m=\u001b[0m \u001b[0mself\u001b[0m\u001b[0;34m.\u001b[0m\u001b[0m_open\u001b[0m\u001b[0;34m(\u001b[0m\u001b[0mreq\u001b[0m\u001b[0;34m,\u001b[0m \u001b[0mdata\u001b[0m\u001b[0;34m)\u001b[0m\u001b[0;34m\u001b[0m\u001b[0m\n\u001b[0m\u001b[1;32m    432\u001b[0m \u001b[0;34m\u001b[0m\u001b[0m\n\u001b[1;32m    433\u001b[0m         \u001b[0;31m# post-process response\u001b[0m\u001b[0;34m\u001b[0m\u001b[0;34m\u001b[0m\u001b[0m\n",
      "\u001b[0;32m//anaconda/lib/python2.7/urllib2.pyc\u001b[0m in \u001b[0;36m_open\u001b[0;34m(self, req, data)\u001b[0m\n\u001b[1;32m    447\u001b[0m         \u001b[0mprotocol\u001b[0m \u001b[0;34m=\u001b[0m \u001b[0mreq\u001b[0m\u001b[0;34m.\u001b[0m\u001b[0mget_type\u001b[0m\u001b[0;34m(\u001b[0m\u001b[0;34m)\u001b[0m\u001b[0;34m\u001b[0m\u001b[0m\n\u001b[1;32m    448\u001b[0m         result = self._call_chain(self.handle_open, protocol, protocol +\n\u001b[0;32m--> 449\u001b[0;31m                                   '_open', req)\n\u001b[0m\u001b[1;32m    450\u001b[0m         \u001b[0;32mif\u001b[0m \u001b[0mresult\u001b[0m\u001b[0;34m:\u001b[0m\u001b[0;34m\u001b[0m\u001b[0m\n\u001b[1;32m    451\u001b[0m             \u001b[0;32mreturn\u001b[0m \u001b[0mresult\u001b[0m\u001b[0;34m\u001b[0m\u001b[0m\n",
      "\u001b[0;32m//anaconda/lib/python2.7/urllib2.pyc\u001b[0m in \u001b[0;36m_call_chain\u001b[0;34m(self, chain, kind, meth_name, *args)\u001b[0m\n\u001b[1;32m    407\u001b[0m             \u001b[0mfunc\u001b[0m \u001b[0;34m=\u001b[0m \u001b[0mgetattr\u001b[0m\u001b[0;34m(\u001b[0m\u001b[0mhandler\u001b[0m\u001b[0;34m,\u001b[0m \u001b[0mmeth_name\u001b[0m\u001b[0;34m)\u001b[0m\u001b[0;34m\u001b[0m\u001b[0m\n\u001b[1;32m    408\u001b[0m \u001b[0;34m\u001b[0m\u001b[0m\n\u001b[0;32m--> 409\u001b[0;31m             \u001b[0mresult\u001b[0m \u001b[0;34m=\u001b[0m \u001b[0mfunc\u001b[0m\u001b[0;34m(\u001b[0m\u001b[0;34m*\u001b[0m\u001b[0margs\u001b[0m\u001b[0;34m)\u001b[0m\u001b[0;34m\u001b[0m\u001b[0m\n\u001b[0m\u001b[1;32m    410\u001b[0m             \u001b[0;32mif\u001b[0m \u001b[0mresult\u001b[0m \u001b[0;32mis\u001b[0m \u001b[0;32mnot\u001b[0m \u001b[0mNone\u001b[0m\u001b[0;34m:\u001b[0m\u001b[0;34m\u001b[0m\u001b[0m\n\u001b[1;32m    411\u001b[0m                 \u001b[0;32mreturn\u001b[0m \u001b[0mresult\u001b[0m\u001b[0;34m\u001b[0m\u001b[0m\n",
      "\u001b[0;32m//anaconda/lib/python2.7/urllib2.pyc\u001b[0m in \u001b[0;36mhttp_open\u001b[0;34m(self, req)\u001b[0m\n\u001b[1;32m   1225\u001b[0m \u001b[0;34m\u001b[0m\u001b[0m\n\u001b[1;32m   1226\u001b[0m     \u001b[0;32mdef\u001b[0m \u001b[0mhttp_open\u001b[0m\u001b[0;34m(\u001b[0m\u001b[0mself\u001b[0m\u001b[0;34m,\u001b[0m \u001b[0mreq\u001b[0m\u001b[0;34m)\u001b[0m\u001b[0;34m:\u001b[0m\u001b[0;34m\u001b[0m\u001b[0m\n\u001b[0;32m-> 1227\u001b[0;31m         \u001b[0;32mreturn\u001b[0m \u001b[0mself\u001b[0m\u001b[0;34m.\u001b[0m\u001b[0mdo_open\u001b[0m\u001b[0;34m(\u001b[0m\u001b[0mhttplib\u001b[0m\u001b[0;34m.\u001b[0m\u001b[0mHTTPConnection\u001b[0m\u001b[0;34m,\u001b[0m \u001b[0mreq\u001b[0m\u001b[0;34m)\u001b[0m\u001b[0;34m\u001b[0m\u001b[0m\n\u001b[0m\u001b[1;32m   1228\u001b[0m \u001b[0;34m\u001b[0m\u001b[0m\n\u001b[1;32m   1229\u001b[0m     \u001b[0mhttp_request\u001b[0m \u001b[0;34m=\u001b[0m \u001b[0mAbstractHTTPHandler\u001b[0m\u001b[0;34m.\u001b[0m\u001b[0mdo_request_\u001b[0m\u001b[0;34m\u001b[0m\u001b[0m\n",
      "\u001b[0;32m//anaconda/lib/python2.7/urllib2.pyc\u001b[0m in \u001b[0;36mdo_open\u001b[0;34m(self, http_class, req, **http_conn_args)\u001b[0m\n\u001b[1;32m   1198\u001b[0m         \u001b[0;32melse\u001b[0m\u001b[0;34m:\u001b[0m\u001b[0;34m\u001b[0m\u001b[0m\n\u001b[1;32m   1199\u001b[0m             \u001b[0;32mtry\u001b[0m\u001b[0;34m:\u001b[0m\u001b[0;34m\u001b[0m\u001b[0m\n\u001b[0;32m-> 1200\u001b[0;31m                 \u001b[0mr\u001b[0m \u001b[0;34m=\u001b[0m \u001b[0mh\u001b[0m\u001b[0;34m.\u001b[0m\u001b[0mgetresponse\u001b[0m\u001b[0;34m(\u001b[0m\u001b[0mbuffering\u001b[0m\u001b[0;34m=\u001b[0m\u001b[0mTrue\u001b[0m\u001b[0;34m)\u001b[0m\u001b[0;34m\u001b[0m\u001b[0m\n\u001b[0m\u001b[1;32m   1201\u001b[0m             \u001b[0;32mexcept\u001b[0m \u001b[0mTypeError\u001b[0m\u001b[0;34m:\u001b[0m \u001b[0;31m# buffering kw not supported\u001b[0m\u001b[0;34m\u001b[0m\u001b[0m\n\u001b[1;32m   1202\u001b[0m                 \u001b[0mr\u001b[0m \u001b[0;34m=\u001b[0m \u001b[0mh\u001b[0m\u001b[0;34m.\u001b[0m\u001b[0mgetresponse\u001b[0m\u001b[0;34m(\u001b[0m\u001b[0;34m)\u001b[0m\u001b[0;34m\u001b[0m\u001b[0m\n",
      "\u001b[0;32m//anaconda/lib/python2.7/httplib.pyc\u001b[0m in \u001b[0;36mgetresponse\u001b[0;34m(self, buffering)\u001b[0m\n\u001b[1;32m   1130\u001b[0m \u001b[0;34m\u001b[0m\u001b[0m\n\u001b[1;32m   1131\u001b[0m         \u001b[0;32mtry\u001b[0m\u001b[0;34m:\u001b[0m\u001b[0;34m\u001b[0m\u001b[0m\n\u001b[0;32m-> 1132\u001b[0;31m             \u001b[0mresponse\u001b[0m\u001b[0;34m.\u001b[0m\u001b[0mbegin\u001b[0m\u001b[0;34m(\u001b[0m\u001b[0;34m)\u001b[0m\u001b[0;34m\u001b[0m\u001b[0m\n\u001b[0m\u001b[1;32m   1133\u001b[0m             \u001b[0;32massert\u001b[0m \u001b[0mresponse\u001b[0m\u001b[0;34m.\u001b[0m\u001b[0mwill_close\u001b[0m \u001b[0;34m!=\u001b[0m \u001b[0m_UNKNOWN\u001b[0m\u001b[0;34m\u001b[0m\u001b[0m\n\u001b[1;32m   1134\u001b[0m             \u001b[0mself\u001b[0m\u001b[0;34m.\u001b[0m\u001b[0m__state\u001b[0m \u001b[0;34m=\u001b[0m \u001b[0m_CS_IDLE\u001b[0m\u001b[0;34m\u001b[0m\u001b[0m\n",
      "\u001b[0;32m//anaconda/lib/python2.7/httplib.pyc\u001b[0m in \u001b[0;36mbegin\u001b[0;34m(self)\u001b[0m\n\u001b[1;32m    451\u001b[0m         \u001b[0;31m# read until we get a non-100 response\u001b[0m\u001b[0;34m\u001b[0m\u001b[0;34m\u001b[0m\u001b[0m\n\u001b[1;32m    452\u001b[0m         \u001b[0;32mwhile\u001b[0m \u001b[0mTrue\u001b[0m\u001b[0;34m:\u001b[0m\u001b[0;34m\u001b[0m\u001b[0m\n\u001b[0;32m--> 453\u001b[0;31m             \u001b[0mversion\u001b[0m\u001b[0;34m,\u001b[0m \u001b[0mstatus\u001b[0m\u001b[0;34m,\u001b[0m \u001b[0mreason\u001b[0m \u001b[0;34m=\u001b[0m \u001b[0mself\u001b[0m\u001b[0;34m.\u001b[0m\u001b[0m_read_status\u001b[0m\u001b[0;34m(\u001b[0m\u001b[0;34m)\u001b[0m\u001b[0;34m\u001b[0m\u001b[0m\n\u001b[0m\u001b[1;32m    454\u001b[0m             \u001b[0;32mif\u001b[0m \u001b[0mstatus\u001b[0m \u001b[0;34m!=\u001b[0m \u001b[0mCONTINUE\u001b[0m\u001b[0;34m:\u001b[0m\u001b[0;34m\u001b[0m\u001b[0m\n\u001b[1;32m    455\u001b[0m                 \u001b[0;32mbreak\u001b[0m\u001b[0;34m\u001b[0m\u001b[0m\n",
      "\u001b[0;32m//anaconda/lib/python2.7/httplib.pyc\u001b[0m in \u001b[0;36m_read_status\u001b[0;34m(self)\u001b[0m\n\u001b[1;32m    407\u001b[0m     \u001b[0;32mdef\u001b[0m \u001b[0m_read_status\u001b[0m\u001b[0;34m(\u001b[0m\u001b[0mself\u001b[0m\u001b[0;34m)\u001b[0m\u001b[0;34m:\u001b[0m\u001b[0;34m\u001b[0m\u001b[0m\n\u001b[1;32m    408\u001b[0m         \u001b[0;31m# Initialize with Simple-Response defaults\u001b[0m\u001b[0;34m\u001b[0m\u001b[0;34m\u001b[0m\u001b[0m\n\u001b[0;32m--> 409\u001b[0;31m         \u001b[0mline\u001b[0m \u001b[0;34m=\u001b[0m \u001b[0mself\u001b[0m\u001b[0;34m.\u001b[0m\u001b[0mfp\u001b[0m\u001b[0;34m.\u001b[0m\u001b[0mreadline\u001b[0m\u001b[0;34m(\u001b[0m\u001b[0m_MAXLINE\u001b[0m \u001b[0;34m+\u001b[0m \u001b[0;36m1\u001b[0m\u001b[0;34m)\u001b[0m\u001b[0;34m\u001b[0m\u001b[0m\n\u001b[0m\u001b[1;32m    410\u001b[0m         \u001b[0;32mif\u001b[0m \u001b[0mlen\u001b[0m\u001b[0;34m(\u001b[0m\u001b[0mline\u001b[0m\u001b[0;34m)\u001b[0m \u001b[0;34m>\u001b[0m \u001b[0m_MAXLINE\u001b[0m\u001b[0;34m:\u001b[0m\u001b[0;34m\u001b[0m\u001b[0m\n\u001b[1;32m    411\u001b[0m             \u001b[0;32mraise\u001b[0m \u001b[0mLineTooLong\u001b[0m\u001b[0;34m(\u001b[0m\u001b[0;34m\"header line\"\u001b[0m\u001b[0;34m)\u001b[0m\u001b[0;34m\u001b[0m\u001b[0m\n",
      "\u001b[0;32m//anaconda/lib/python2.7/socket.pyc\u001b[0m in \u001b[0;36mreadline\u001b[0;34m(self, size)\u001b[0m\n\u001b[1;32m    478\u001b[0m             \u001b[0;32mwhile\u001b[0m \u001b[0mTrue\u001b[0m\u001b[0;34m:\u001b[0m\u001b[0;34m\u001b[0m\u001b[0m\n\u001b[1;32m    479\u001b[0m                 \u001b[0;32mtry\u001b[0m\u001b[0;34m:\u001b[0m\u001b[0;34m\u001b[0m\u001b[0m\n\u001b[0;32m--> 480\u001b[0;31m                     \u001b[0mdata\u001b[0m \u001b[0;34m=\u001b[0m \u001b[0mself\u001b[0m\u001b[0;34m.\u001b[0m\u001b[0m_sock\u001b[0m\u001b[0;34m.\u001b[0m\u001b[0mrecv\u001b[0m\u001b[0;34m(\u001b[0m\u001b[0mself\u001b[0m\u001b[0;34m.\u001b[0m\u001b[0m_rbufsize\u001b[0m\u001b[0;34m)\u001b[0m\u001b[0;34m\u001b[0m\u001b[0m\n\u001b[0m\u001b[1;32m    481\u001b[0m                 \u001b[0;32mexcept\u001b[0m \u001b[0merror\u001b[0m\u001b[0;34m,\u001b[0m \u001b[0me\u001b[0m\u001b[0;34m:\u001b[0m\u001b[0;34m\u001b[0m\u001b[0m\n\u001b[1;32m    482\u001b[0m                     \u001b[0;32mif\u001b[0m \u001b[0me\u001b[0m\u001b[0;34m.\u001b[0m\u001b[0margs\u001b[0m\u001b[0;34m[\u001b[0m\u001b[0;36m0\u001b[0m\u001b[0;34m]\u001b[0m \u001b[0;34m==\u001b[0m \u001b[0mEINTR\u001b[0m\u001b[0;34m:\u001b[0m\u001b[0;34m\u001b[0m\u001b[0m\n",
      "\u001b[0;31merror\u001b[0m: [Errno 60] Operation timed out"
     ]
    }
   ],
   "source": [
    "coffee_table_links = get_wayfair_product_links(coffee_table_index, num_pages=21)\n",
    "print len(coffee_table_links)\n",
    "link_0 = coffee_table_links[0]\n",
    "dict_0 = wayfair_product_info_scrapper(link_0, category_input= 'coffee_table')\n",
    "coffee_table_df = pd.DataFrame([dict_0], index=[0])\n",
    "print coffee_table_df\n",
    "i = 1\n",
    "for link in coffee_table_links[1:]:\n",
    "    product_dict = wayfair_product_info_scrapper(link, category_input='coffee_table')\n",
    "    df_product = pd.DataFrame([product_dict], index=[i])\n",
    "    coffee_table_df = pd.concat([coffee_table_df, df_product], axis=0)\n",
    "    i += 1\n",
    "    if i % 20 == 0:\n",
    "        print i"
   ]
  },
  {
   "cell_type": "code",
   "execution_count": 456,
   "metadata": {
    "collapsed": false
   },
   "outputs": [
    {
     "name": "stdout",
     "output_type": "stream",
     "text": [
      "<class 'pandas.core.frame.DataFrame'>\n",
      "Int64Index: 22 entries, 0 to 21\n",
      "Data columns (total 15 columns):\n",
      "category                22 non-null object\n",
      "colors                  22 non-null object\n",
      "description             21 non-null object\n",
      "features                22 non-null object\n",
      "image_links_all         22 non-null object\n",
      "image_links_by_color    22 non-null object\n",
      "manufacturer            22 non-null object\n",
      "price                   22 non-null object\n",
      "product_id              22 non-null object\n",
      "rating_avg              22 non-null object\n",
      "rating_count            22 non-null object\n",
      "specs                   20 non-null object\n",
      "title                   22 non-null object\n",
      "url                     22 non-null object\n",
      "website                 22 non-null object\n",
      "dtypes: object(15)\n",
      "memory usage: 2.8+ KB\n"
     ]
    }
   ],
   "source": [
    "coffee_table_df.info()"
   ]
  },
  {
   "cell_type": "code",
   "execution_count": 459,
   "metadata": {
    "collapsed": false
   },
   "outputs": [
    {
     "name": "stdout",
     "output_type": "stream",
     "text": [
      "40\n",
      "60\n",
      "80\n",
      "100\n",
      "120\n",
      "140\n",
      "160\n",
      "180\n",
      "200\n",
      "220\n",
      "240\n",
      "260\n",
      "280\n",
      "300\n",
      "320\n",
      "340\n",
      "360\n",
      "380\n",
      "400\n",
      "420\n",
      "440\n",
      "460\n",
      "480\n",
      "500\n",
      "520\n",
      "540\n",
      "560\n",
      "580\n",
      "600\n",
      "620\n",
      "640\n",
      "660\n",
      "680\n",
      "700\n",
      "720\n"
     ]
    },
    {
     "ename": "URLError",
     "evalue": "<urlopen error [Errno 50] Network is down>",
     "output_type": "error",
     "traceback": [
      "\u001b[0;31m---------------------------------------------------------------------------\u001b[0m",
      "\u001b[0;31mURLError\u001b[0m                                  Traceback (most recent call last)",
      "\u001b[0;32m<ipython-input-459-973199db7eec>\u001b[0m in \u001b[0;36m<module>\u001b[0;34m()\u001b[0m\n\u001b[1;32m      1\u001b[0m \u001b[0mi\u001b[0m \u001b[0;34m=\u001b[0m \u001b[0;36m22\u001b[0m\u001b[0;34m\u001b[0m\u001b[0m\n\u001b[1;32m      2\u001b[0m \u001b[0;32mfor\u001b[0m \u001b[0mlink\u001b[0m \u001b[0;32min\u001b[0m \u001b[0mcoffee_table_links\u001b[0m\u001b[0;34m[\u001b[0m\u001b[0;36m22\u001b[0m\u001b[0;34m:\u001b[0m\u001b[0;34m]\u001b[0m\u001b[0;34m:\u001b[0m\u001b[0;34m\u001b[0m\u001b[0m\n\u001b[0;32m----> 3\u001b[0;31m     \u001b[0mproduct_dict\u001b[0m \u001b[0;34m=\u001b[0m \u001b[0mwayfair_product_info_scrapper\u001b[0m\u001b[0;34m(\u001b[0m\u001b[0mlink\u001b[0m\u001b[0;34m,\u001b[0m \u001b[0mcategory_input\u001b[0m\u001b[0;34m=\u001b[0m\u001b[0;34m'coffee_table'\u001b[0m\u001b[0;34m)\u001b[0m\u001b[0;34m\u001b[0m\u001b[0m\n\u001b[0m\u001b[1;32m      4\u001b[0m     \u001b[0mdf_product\u001b[0m \u001b[0;34m=\u001b[0m \u001b[0mpd\u001b[0m\u001b[0;34m.\u001b[0m\u001b[0mDataFrame\u001b[0m\u001b[0;34m(\u001b[0m\u001b[0;34m[\u001b[0m\u001b[0mproduct_dict\u001b[0m\u001b[0;34m]\u001b[0m\u001b[0;34m,\u001b[0m \u001b[0mindex\u001b[0m\u001b[0;34m=\u001b[0m\u001b[0;34m[\u001b[0m\u001b[0mi\u001b[0m\u001b[0;34m]\u001b[0m\u001b[0;34m)\u001b[0m\u001b[0;34m\u001b[0m\u001b[0m\n\u001b[1;32m      5\u001b[0m     \u001b[0mcoffee_table_df\u001b[0m \u001b[0;34m=\u001b[0m \u001b[0mpd\u001b[0m\u001b[0;34m.\u001b[0m\u001b[0mconcat\u001b[0m\u001b[0;34m(\u001b[0m\u001b[0;34m[\u001b[0m\u001b[0mcoffee_table_df\u001b[0m\u001b[0;34m,\u001b[0m \u001b[0mdf_product\u001b[0m\u001b[0;34m]\u001b[0m\u001b[0;34m,\u001b[0m \u001b[0maxis\u001b[0m\u001b[0;34m=\u001b[0m\u001b[0;36m0\u001b[0m\u001b[0;34m)\u001b[0m\u001b[0;34m\u001b[0m\u001b[0m\n",
      "\u001b[0;32m<ipython-input-443-bb9ace42025d>\u001b[0m in \u001b[0;36mwayfair_product_info_scrapper\u001b[0;34m(link, category_input)\u001b[0m\n\u001b[1;32m     81\u001b[0m             \u001b[0mcolor_key\u001b[0m \u001b[0;34m=\u001b[0m \u001b[0mcolors\u001b[0m\u001b[0;34m[\u001b[0m\u001b[0mi\u001b[0m\u001b[0;34m]\u001b[0m\u001b[0;34m\u001b[0m\u001b[0m\n\u001b[1;32m     82\u001b[0m             \u001b[0mlink_color\u001b[0m \u001b[0;34m=\u001b[0m \u001b[0mlink\u001b[0m \u001b[0;34m+\u001b[0m \u001b[0mcolor_link\u001b[0m\u001b[0;34m\u001b[0m\u001b[0m\n\u001b[0;32m---> 83\u001b[0;31m             \u001b[0mhtml_color\u001b[0m  \u001b[0;34m=\u001b[0m \u001b[0murlopen\u001b[0m\u001b[0;34m(\u001b[0m\u001b[0mlink_color\u001b[0m\u001b[0;34m,\u001b[0m \u001b[0mtimeout\u001b[0m\u001b[0;34m=\u001b[0m\u001b[0;36m100\u001b[0m\u001b[0;34m)\u001b[0m\u001b[0;34m\u001b[0m\u001b[0m\n\u001b[0m\u001b[1;32m     84\u001b[0m             \u001b[0msoup_color\u001b[0m \u001b[0;34m=\u001b[0m \u001b[0mBeautifulSoup\u001b[0m\u001b[0;34m(\u001b[0m\u001b[0mhtml_color\u001b[0m\u001b[0;34m,\u001b[0m \u001b[0;34m'html.parser'\u001b[0m\u001b[0;34m)\u001b[0m\u001b[0;34m\u001b[0m\u001b[0m\n\u001b[1;32m     85\u001b[0m             \u001b[0mimage_info_color\u001b[0m \u001b[0;34m=\u001b[0m \u001b[0msoup_color\u001b[0m\u001b[0;34m.\u001b[0m\u001b[0mfindAll\u001b[0m\u001b[0;34m(\u001b[0m\u001b[0;34m'a'\u001b[0m\u001b[0;34m,\u001b[0m \u001b[0;34m{\u001b[0m\u001b[0;34m'class'\u001b[0m\u001b[0;34m:\u001b[0m \u001b[0;34m'photoswipe_link'\u001b[0m\u001b[0;34m}\u001b[0m\u001b[0;34m)\u001b[0m\u001b[0;34m\u001b[0m\u001b[0m\n",
      "\u001b[0;32m//anaconda/lib/python2.7/urllib2.pyc\u001b[0m in \u001b[0;36murlopen\u001b[0;34m(url, data, timeout, cafile, capath, cadefault, context)\u001b[0m\n\u001b[1;32m    152\u001b[0m     \u001b[0;32melse\u001b[0m\u001b[0;34m:\u001b[0m\u001b[0;34m\u001b[0m\u001b[0m\n\u001b[1;32m    153\u001b[0m         \u001b[0mopener\u001b[0m \u001b[0;34m=\u001b[0m \u001b[0m_opener\u001b[0m\u001b[0;34m\u001b[0m\u001b[0m\n\u001b[0;32m--> 154\u001b[0;31m     \u001b[0;32mreturn\u001b[0m \u001b[0mopener\u001b[0m\u001b[0;34m.\u001b[0m\u001b[0mopen\u001b[0m\u001b[0;34m(\u001b[0m\u001b[0murl\u001b[0m\u001b[0;34m,\u001b[0m \u001b[0mdata\u001b[0m\u001b[0;34m,\u001b[0m \u001b[0mtimeout\u001b[0m\u001b[0;34m)\u001b[0m\u001b[0;34m\u001b[0m\u001b[0m\n\u001b[0m\u001b[1;32m    155\u001b[0m \u001b[0;34m\u001b[0m\u001b[0m\n\u001b[1;32m    156\u001b[0m \u001b[0;32mdef\u001b[0m \u001b[0minstall_opener\u001b[0m\u001b[0;34m(\u001b[0m\u001b[0mopener\u001b[0m\u001b[0;34m)\u001b[0m\u001b[0;34m:\u001b[0m\u001b[0;34m\u001b[0m\u001b[0m\n",
      "\u001b[0;32m//anaconda/lib/python2.7/urllib2.pyc\u001b[0m in \u001b[0;36mopen\u001b[0;34m(self, fullurl, data, timeout)\u001b[0m\n\u001b[1;32m    429\u001b[0m             \u001b[0mreq\u001b[0m \u001b[0;34m=\u001b[0m \u001b[0mmeth\u001b[0m\u001b[0;34m(\u001b[0m\u001b[0mreq\u001b[0m\u001b[0;34m)\u001b[0m\u001b[0;34m\u001b[0m\u001b[0m\n\u001b[1;32m    430\u001b[0m \u001b[0;34m\u001b[0m\u001b[0m\n\u001b[0;32m--> 431\u001b[0;31m         \u001b[0mresponse\u001b[0m \u001b[0;34m=\u001b[0m \u001b[0mself\u001b[0m\u001b[0;34m.\u001b[0m\u001b[0m_open\u001b[0m\u001b[0;34m(\u001b[0m\u001b[0mreq\u001b[0m\u001b[0;34m,\u001b[0m \u001b[0mdata\u001b[0m\u001b[0;34m)\u001b[0m\u001b[0;34m\u001b[0m\u001b[0m\n\u001b[0m\u001b[1;32m    432\u001b[0m \u001b[0;34m\u001b[0m\u001b[0m\n\u001b[1;32m    433\u001b[0m         \u001b[0;31m# post-process response\u001b[0m\u001b[0;34m\u001b[0m\u001b[0;34m\u001b[0m\u001b[0m\n",
      "\u001b[0;32m//anaconda/lib/python2.7/urllib2.pyc\u001b[0m in \u001b[0;36m_open\u001b[0;34m(self, req, data)\u001b[0m\n\u001b[1;32m    447\u001b[0m         \u001b[0mprotocol\u001b[0m \u001b[0;34m=\u001b[0m \u001b[0mreq\u001b[0m\u001b[0;34m.\u001b[0m\u001b[0mget_type\u001b[0m\u001b[0;34m(\u001b[0m\u001b[0;34m)\u001b[0m\u001b[0;34m\u001b[0m\u001b[0m\n\u001b[1;32m    448\u001b[0m         result = self._call_chain(self.handle_open, protocol, protocol +\n\u001b[0;32m--> 449\u001b[0;31m                                   '_open', req)\n\u001b[0m\u001b[1;32m    450\u001b[0m         \u001b[0;32mif\u001b[0m \u001b[0mresult\u001b[0m\u001b[0;34m:\u001b[0m\u001b[0;34m\u001b[0m\u001b[0m\n\u001b[1;32m    451\u001b[0m             \u001b[0;32mreturn\u001b[0m \u001b[0mresult\u001b[0m\u001b[0;34m\u001b[0m\u001b[0m\n",
      "\u001b[0;32m//anaconda/lib/python2.7/urllib2.pyc\u001b[0m in \u001b[0;36m_call_chain\u001b[0;34m(self, chain, kind, meth_name, *args)\u001b[0m\n\u001b[1;32m    407\u001b[0m             \u001b[0mfunc\u001b[0m \u001b[0;34m=\u001b[0m \u001b[0mgetattr\u001b[0m\u001b[0;34m(\u001b[0m\u001b[0mhandler\u001b[0m\u001b[0;34m,\u001b[0m \u001b[0mmeth_name\u001b[0m\u001b[0;34m)\u001b[0m\u001b[0;34m\u001b[0m\u001b[0m\n\u001b[1;32m    408\u001b[0m \u001b[0;34m\u001b[0m\u001b[0m\n\u001b[0;32m--> 409\u001b[0;31m             \u001b[0mresult\u001b[0m \u001b[0;34m=\u001b[0m \u001b[0mfunc\u001b[0m\u001b[0;34m(\u001b[0m\u001b[0;34m*\u001b[0m\u001b[0margs\u001b[0m\u001b[0;34m)\u001b[0m\u001b[0;34m\u001b[0m\u001b[0m\n\u001b[0m\u001b[1;32m    410\u001b[0m             \u001b[0;32mif\u001b[0m \u001b[0mresult\u001b[0m \u001b[0;32mis\u001b[0m \u001b[0;32mnot\u001b[0m \u001b[0mNone\u001b[0m\u001b[0;34m:\u001b[0m\u001b[0;34m\u001b[0m\u001b[0m\n\u001b[1;32m    411\u001b[0m                 \u001b[0;32mreturn\u001b[0m \u001b[0mresult\u001b[0m\u001b[0;34m\u001b[0m\u001b[0m\n",
      "\u001b[0;32m//anaconda/lib/python2.7/urllib2.pyc\u001b[0m in \u001b[0;36mhttp_open\u001b[0;34m(self, req)\u001b[0m\n\u001b[1;32m   1225\u001b[0m \u001b[0;34m\u001b[0m\u001b[0m\n\u001b[1;32m   1226\u001b[0m     \u001b[0;32mdef\u001b[0m \u001b[0mhttp_open\u001b[0m\u001b[0;34m(\u001b[0m\u001b[0mself\u001b[0m\u001b[0;34m,\u001b[0m \u001b[0mreq\u001b[0m\u001b[0;34m)\u001b[0m\u001b[0;34m:\u001b[0m\u001b[0;34m\u001b[0m\u001b[0m\n\u001b[0;32m-> 1227\u001b[0;31m         \u001b[0;32mreturn\u001b[0m \u001b[0mself\u001b[0m\u001b[0;34m.\u001b[0m\u001b[0mdo_open\u001b[0m\u001b[0;34m(\u001b[0m\u001b[0mhttplib\u001b[0m\u001b[0;34m.\u001b[0m\u001b[0mHTTPConnection\u001b[0m\u001b[0;34m,\u001b[0m \u001b[0mreq\u001b[0m\u001b[0;34m)\u001b[0m\u001b[0;34m\u001b[0m\u001b[0m\n\u001b[0m\u001b[1;32m   1228\u001b[0m \u001b[0;34m\u001b[0m\u001b[0m\n\u001b[1;32m   1229\u001b[0m     \u001b[0mhttp_request\u001b[0m \u001b[0;34m=\u001b[0m \u001b[0mAbstractHTTPHandler\u001b[0m\u001b[0;34m.\u001b[0m\u001b[0mdo_request_\u001b[0m\u001b[0;34m\u001b[0m\u001b[0m\n",
      "\u001b[0;32m//anaconda/lib/python2.7/urllib2.pyc\u001b[0m in \u001b[0;36mdo_open\u001b[0;34m(self, http_class, req, **http_conn_args)\u001b[0m\n\u001b[1;32m   1195\u001b[0m         \u001b[0;32mexcept\u001b[0m \u001b[0msocket\u001b[0m\u001b[0;34m.\u001b[0m\u001b[0merror\u001b[0m\u001b[0;34m,\u001b[0m \u001b[0merr\u001b[0m\u001b[0;34m:\u001b[0m \u001b[0;31m# XXX what error?\u001b[0m\u001b[0;34m\u001b[0m\u001b[0m\n\u001b[1;32m   1196\u001b[0m             \u001b[0mh\u001b[0m\u001b[0;34m.\u001b[0m\u001b[0mclose\u001b[0m\u001b[0;34m(\u001b[0m\u001b[0;34m)\u001b[0m\u001b[0;34m\u001b[0m\u001b[0m\n\u001b[0;32m-> 1197\u001b[0;31m             \u001b[0;32mraise\u001b[0m \u001b[0mURLError\u001b[0m\u001b[0;34m(\u001b[0m\u001b[0merr\u001b[0m\u001b[0;34m)\u001b[0m\u001b[0;34m\u001b[0m\u001b[0m\n\u001b[0m\u001b[1;32m   1198\u001b[0m         \u001b[0;32melse\u001b[0m\u001b[0;34m:\u001b[0m\u001b[0;34m\u001b[0m\u001b[0m\n\u001b[1;32m   1199\u001b[0m             \u001b[0;32mtry\u001b[0m\u001b[0;34m:\u001b[0m\u001b[0;34m\u001b[0m\u001b[0m\n",
      "\u001b[0;31mURLError\u001b[0m: <urlopen error [Errno 50] Network is down>"
     ]
    }
   ],
   "source": [
    "i = 22\n",
    "for link in coffee_table_links[22:]:\n",
    "    product_dict = wayfair_product_info_scrapper(link, category_input='coffee_table')\n",
    "    df_product = pd.DataFrame([product_dict], index=[i])\n",
    "    coffee_table_df = pd.concat([coffee_table_df, df_product], axis=0)\n",
    "    i += 1\n",
    "    if i % 20 == 0:\n",
    "        print i"
   ]
  },
  {
   "cell_type": "code",
   "execution_count": 460,
   "metadata": {
    "collapsed": false
   },
   "outputs": [
    {
     "name": "stdout",
     "output_type": "stream",
     "text": [
      "<class 'pandas.core.frame.DataFrame'>\n",
      "Int64Index: 721 entries, 0 to 720\n",
      "Data columns (total 15 columns):\n",
      "category                721 non-null object\n",
      "colors                  721 non-null object\n",
      "description             570 non-null object\n",
      "features                721 non-null object\n",
      "image_links_all         721 non-null object\n",
      "image_links_by_color    721 non-null object\n",
      "manufacturer            721 non-null object\n",
      "price                   721 non-null object\n",
      "product_id              721 non-null object\n",
      "rating_avg              683 non-null object\n",
      "rating_count            683 non-null object\n",
      "specs                   708 non-null object\n",
      "title                   721 non-null object\n",
      "url                     721 non-null object\n",
      "website                 721 non-null object\n",
      "dtypes: object(15)\n",
      "memory usage: 90.1+ KB\n"
     ]
    }
   ],
   "source": [
    "coffee_table_df.info()"
   ]
  },
  {
   "cell_type": "code",
   "execution_count": 461,
   "metadata": {
    "collapsed": false
   },
   "outputs": [
    {
     "name": "stdout",
     "output_type": "stream",
     "text": [
      "740\n",
      "760\n",
      "780\n",
      "800\n",
      "820\n",
      "840\n",
      "860\n",
      "880\n",
      "900\n",
      "920\n",
      "940\n",
      "960\n",
      "980\n",
      "1000\n"
     ]
    }
   ],
   "source": [
    "i = 721\n",
    "for link in coffee_table_links[721:]:\n",
    "    product_dict = wayfair_product_info_scrapper(link, category_input='coffee_table')\n",
    "    df_product = pd.DataFrame([product_dict], index=[i])\n",
    "    coffee_table_df = pd.concat([coffee_table_df, df_product], axis=0)\n",
    "    i += 1\n",
    "    if i % 20 == 0:\n",
    "        print i"
   ]
  },
  {
   "cell_type": "code",
   "execution_count": 462,
   "metadata": {
    "collapsed": true
   },
   "outputs": [],
   "source": [
    "coffee_table_df.to_json('wayfair/coffee_table.json')"
   ]
  },
  {
   "cell_type": "code",
   "execution_count": 463,
   "metadata": {
    "collapsed": false
   },
   "outputs": [
    {
     "data": {
      "text/plain": [
       "'Mon Sep 21 12:33:25 2015'"
      ]
     },
     "execution_count": 463,
     "metadata": {},
     "output_type": "execute_result"
    }
   ],
   "source": [
    "time.ctime(time.time())"
   ]
  },
  {
   "cell_type": "code",
   "execution_count": 464,
   "metadata": {
    "collapsed": false
   },
   "outputs": [
    {
     "name": "stdout",
     "output_type": "stream",
     "text": [
      "<class 'pandas.core.frame.DataFrame'>\n",
      "Int64Index: 1008 entries, 0 to 1007\n",
      "Data columns (total 15 columns):\n",
      "category                1008 non-null object\n",
      "colors                  1008 non-null object\n",
      "description             765 non-null object\n",
      "features                1008 non-null object\n",
      "image_links_all         1008 non-null object\n",
      "image_links_by_color    1008 non-null object\n",
      "manufacturer            1008 non-null object\n",
      "price                   1008 non-null object\n",
      "product_id              1008 non-null object\n",
      "rating_avg              909 non-null object\n",
      "rating_count            909 non-null object\n",
      "specs                   984 non-null object\n",
      "title                   1008 non-null object\n",
      "url                     1008 non-null object\n",
      "website                 1008 non-null object\n",
      "dtypes: object(15)\n",
      "memory usage: 126.0+ KB\n"
     ]
    }
   ],
   "source": [
    "coffee_table_df.info()"
   ]
  },
  {
   "cell_type": "code",
   "execution_count": 465,
   "metadata": {
    "collapsed": false
   },
   "outputs": [
    {
     "data": {
      "text/html": [
       "<div>\n",
       "<table border=\"1\" class=\"dataframe\">\n",
       "  <thead>\n",
       "    <tr style=\"text-align: right;\">\n",
       "      <th></th>\n",
       "      <th>category</th>\n",
       "      <th>colors</th>\n",
       "      <th>description</th>\n",
       "      <th>features</th>\n",
       "      <th>image_links_all</th>\n",
       "      <th>image_links_by_color</th>\n",
       "      <th>manufacturer</th>\n",
       "      <th>price</th>\n",
       "      <th>product_id</th>\n",
       "      <th>rating_avg</th>\n",
       "      <th>rating_count</th>\n",
       "      <th>specs</th>\n",
       "      <th>title</th>\n",
       "      <th>url</th>\n",
       "      <th>website</th>\n",
       "    </tr>\n",
       "  </thead>\n",
       "  <tbody>\n",
       "    <tr>\n",
       "      <th>1003</th>\n",
       "      <td>coffee_table</td>\n",
       "      <td>[]</td>\n",
       "      <td>The Contempo Lights LED designer lamps have a ...</td>\n",
       "      <td>[\\nFeatures\\n\\nLuminArt collection\\nShade mate...</td>\n",
       "      <td>[https://secure.img2.wfrcdn.com/lf/49/hash/241...</td>\n",
       "      <td>{}</td>\n",
       "      <td>Contempo Lights</td>\n",
       "      <td>$469.99</td>\n",
       "      <td>CNTQ1091</td>\n",
       "      <td>5.0</td>\n",
       "      <td>2</td>\n",
       "      <td>\\nWeights &amp; Dimensions\\n\\n\\n\\n            Over...</td>\n",
       "      <td>LuminArt Serendipity Coffee Table</td>\n",
       "      <td>http://www.wayfair.com/Contempo-Lights-Inc-Lum...</td>\n",
       "      <td>wayfair</td>\n",
       "    </tr>\n",
       "    <tr>\n",
       "      <th>1004</th>\n",
       "      <td>coffee_table</td>\n",
       "      <td>[Black with Gold Accents, Brown]</td>\n",
       "      <td>None</td>\n",
       "      <td>[\\nFeatures\\n\\nBeveled and tempered, glass top...</td>\n",
       "      <td>[https://secure.img1.wfrcdn.com/lf/49/hash/252...</td>\n",
       "      <td>{u'Black with Gold Accents': [u'https://secure...</td>\n",
       "      <td>Reual James</td>\n",
       "      <td>$519.99</td>\n",
       "      <td>RLJM1100</td>\n",
       "      <td>4.7</td>\n",
       "      <td>3</td>\n",
       "      <td>\\nWeights &amp; Dimensions\\n\\n\\n\\n            Over...</td>\n",
       "      <td>Regency Coffee Table</td>\n",
       "      <td>http://www.wayfair.com/Reual-James-Regency-Cof...</td>\n",
       "      <td>wayfair</td>\n",
       "    </tr>\n",
       "    <tr>\n",
       "      <th>1005</th>\n",
       "      <td>coffee_table</td>\n",
       "      <td>[Unfinished, Autumn, Bleached, Clear, Toffee, ...</td>\n",
       "      <td>With a minimalist yet handsome look, the urban...</td>\n",
       "      <td>[\\nFeatures\\n\\nHand sanded and hand finished w...</td>\n",
       "      <td>[https://secure.img2.wfrcdn.com/lf/49/hash/226...</td>\n",
       "      <td>{u'Amber': [u'https://secure.img1.wfrcdn.com/l...</td>\n",
       "      <td>Urbangreen</td>\n",
       "      <td>$314.99</td>\n",
       "      <td>UBGR1299</td>\n",
       "      <td>None</td>\n",
       "      <td>None</td>\n",
       "      <td>\\nWeights &amp; Dimensions\\n\\n\\n\\n            Over...</td>\n",
       "      <td>Media Coffee Table</td>\n",
       "      <td>http://www.wayfair.com/Urbangreen-Furniture-Me...</td>\n",
       "      <td>wayfair</td>\n",
       "    </tr>\n",
       "    <tr>\n",
       "      <th>1006</th>\n",
       "      <td>coffee_table</td>\n",
       "      <td>[]</td>\n",
       "      <td>Synonymous with modern luxury and invites cons...</td>\n",
       "      <td>[\\nFeatures\\n\\nLacquer top\\nSquare shape\\nFram...</td>\n",
       "      <td>[https://secure.img2.wfrcdn.com/lf/49/hash/289...</td>\n",
       "      <td>{}</td>\n",
       "      <td>Modloft</td>\n",
       "      <td>$1,199.99</td>\n",
       "      <td>LXM1047</td>\n",
       "      <td>None</td>\n",
       "      <td>None</td>\n",
       "      <td>\\nWeights &amp; Dimensions\\n\\n\\n\\n            Over...</td>\n",
       "      <td>Duke Coffee Table</td>\n",
       "      <td>http://www.wayfair.com/Duke-Coffee-Table-MCB01...</td>\n",
       "      <td>wayfair</td>\n",
       "    </tr>\n",
       "    <tr>\n",
       "      <th>1007</th>\n",
       "      <td>coffee_table</td>\n",
       "      <td>[]</td>\n",
       "      <td>Anyone who has ever faced the task of furnishi...</td>\n",
       "      <td>[\\nFeatures\\n\\nWedge lift top\\nContemporary st...</td>\n",
       "      <td>[https://secure.img2.wfrcdn.com/lf/49/hash/244...</td>\n",
       "      <td>{}</td>\n",
       "      <td>Hammary</td>\n",
       "      <td>$529.99</td>\n",
       "      <td>HAM2911</td>\n",
       "      <td>5.0</td>\n",
       "      <td>2</td>\n",
       "      <td>\\nWeights &amp; Dimensions\\n\\n\\n\\n            Over...</td>\n",
       "      <td>Oasis Coffee Table with Lift-Top</td>\n",
       "      <td>http://www.wayfair.com/Hammary-Oasis-Coffee-Ta...</td>\n",
       "      <td>wayfair</td>\n",
       "    </tr>\n",
       "  </tbody>\n",
       "</table>\n",
       "</div>"
      ],
      "text/plain": [
       "          category                                             colors  \\\n",
       "1003  coffee_table                                                 []   \n",
       "1004  coffee_table                   [Black with Gold Accents, Brown]   \n",
       "1005  coffee_table  [Unfinished, Autumn, Bleached, Clear, Toffee, ...   \n",
       "1006  coffee_table                                                 []   \n",
       "1007  coffee_table                                                 []   \n",
       "\n",
       "                                            description  \\\n",
       "1003  The Contempo Lights LED designer lamps have a ...   \n",
       "1004                                               None   \n",
       "1005  With a minimalist yet handsome look, the urban...   \n",
       "1006  Synonymous with modern luxury and invites cons...   \n",
       "1007  Anyone who has ever faced the task of furnishi...   \n",
       "\n",
       "                                               features  \\\n",
       "1003  [\\nFeatures\\n\\nLuminArt collection\\nShade mate...   \n",
       "1004  [\\nFeatures\\n\\nBeveled and tempered, glass top...   \n",
       "1005  [\\nFeatures\\n\\nHand sanded and hand finished w...   \n",
       "1006  [\\nFeatures\\n\\nLacquer top\\nSquare shape\\nFram...   \n",
       "1007  [\\nFeatures\\n\\nWedge lift top\\nContemporary st...   \n",
       "\n",
       "                                        image_links_all  \\\n",
       "1003  [https://secure.img2.wfrcdn.com/lf/49/hash/241...   \n",
       "1004  [https://secure.img1.wfrcdn.com/lf/49/hash/252...   \n",
       "1005  [https://secure.img2.wfrcdn.com/lf/49/hash/226...   \n",
       "1006  [https://secure.img2.wfrcdn.com/lf/49/hash/289...   \n",
       "1007  [https://secure.img2.wfrcdn.com/lf/49/hash/244...   \n",
       "\n",
       "                                   image_links_by_color     manufacturer  \\\n",
       "1003                                                 {}  Contempo Lights   \n",
       "1004  {u'Black with Gold Accents': [u'https://secure...      Reual James   \n",
       "1005  {u'Amber': [u'https://secure.img1.wfrcdn.com/l...       Urbangreen   \n",
       "1006                                                 {}          Modloft   \n",
       "1007                                                 {}          Hammary   \n",
       "\n",
       "          price product_id rating_avg rating_count  \\\n",
       "1003    $469.99   CNTQ1091        5.0            2   \n",
       "1004    $519.99   RLJM1100        4.7            3   \n",
       "1005    $314.99   UBGR1299       None         None   \n",
       "1006  $1,199.99    LXM1047       None         None   \n",
       "1007    $529.99    HAM2911        5.0            2   \n",
       "\n",
       "                                                  specs  \\\n",
       "1003  \\nWeights & Dimensions\\n\\n\\n\\n            Over...   \n",
       "1004  \\nWeights & Dimensions\\n\\n\\n\\n            Over...   \n",
       "1005  \\nWeights & Dimensions\\n\\n\\n\\n            Over...   \n",
       "1006  \\nWeights & Dimensions\\n\\n\\n\\n            Over...   \n",
       "1007  \\nWeights & Dimensions\\n\\n\\n\\n            Over...   \n",
       "\n",
       "                                  title  \\\n",
       "1003  LuminArt Serendipity Coffee Table   \n",
       "1004               Regency Coffee Table   \n",
       "1005                 Media Coffee Table   \n",
       "1006                  Duke Coffee Table   \n",
       "1007   Oasis Coffee Table with Lift-Top   \n",
       "\n",
       "                                                    url  website  \n",
       "1003  http://www.wayfair.com/Contempo-Lights-Inc-Lum...  wayfair  \n",
       "1004  http://www.wayfair.com/Reual-James-Regency-Cof...  wayfair  \n",
       "1005  http://www.wayfair.com/Urbangreen-Furniture-Me...  wayfair  \n",
       "1006  http://www.wayfair.com/Duke-Coffee-Table-MCB01...  wayfair  \n",
       "1007  http://www.wayfair.com/Hammary-Oasis-Coffee-Ta...  wayfair  "
      ]
     },
     "execution_count": 465,
     "metadata": {},
     "output_type": "execute_result"
    }
   ],
   "source": [
    "coffee_table_df.tail()"
   ]
  },
  {
   "cell_type": "markdown",
   "metadata": {},
   "source": [
    "# Desks"
   ]
  },
  {
   "cell_type": "code",
   "execution_count": 466,
   "metadata": {
    "collapsed": false
   },
   "outputs": [
    {
     "data": {
      "text/plain": [
       "'Mon Sep 21 12:35:57 2015'"
      ]
     },
     "execution_count": 466,
     "metadata": {},
     "output_type": "execute_result"
    }
   ],
   "source": [
    "time.ctime(time.time())"
   ]
  },
  {
   "cell_type": "code",
   "execution_count": 467,
   "metadata": {
    "collapsed": false
   },
   "outputs": [
    {
     "name": "stdout",
     "output_type": "stream",
     "text": [
      "1008\n",
      "  category colors                                        description  \\\n",
      "0     desk     []  Try this minimalist desk to create a workspace...   \n",
      "\n",
      "                                            features  \\\n",
      "0  [\\nFeatures\\n\\nPull out storage drawer\\nStorag...   \n",
      "\n",
      "                                     image_links_all image_links_by_color  \\\n",
      "0  [https://secure.img1.wfrcdn.com/lf/49/hash/305...                   {}   \n",
      "\n",
      "     manufacturer    price product_id rating_avg rating_count  \\\n",
      "0  Zipcode Design  $102.99   ZIPC1663        3.0           28   \n",
      "\n",
      "                                               specs            title  \\\n",
      "0  \\nWeights & Dimensions\\n\\n\\n\\n            Over...  Writing Desk II   \n",
      "\n",
      "                                                 url  website  \n",
      "0  http://www.wayfair.com/Writing-Desk-II-ZIPC166...  wayfair  \n",
      "20\n"
     ]
    },
    {
     "ename": "error",
     "evalue": "[Errno 60] Operation timed out",
     "output_type": "error",
     "traceback": [
      "\u001b[0;31m---------------------------------------------------------------------------\u001b[0m",
      "\u001b[0;31merror\u001b[0m                                     Traceback (most recent call last)",
      "\u001b[0;32m<ipython-input-467-50a557aaf712>\u001b[0m in \u001b[0;36m<module>\u001b[0;34m()\u001b[0m\n\u001b[1;32m      7\u001b[0m \u001b[0mi\u001b[0m \u001b[0;34m=\u001b[0m \u001b[0;36m1\u001b[0m\u001b[0;34m\u001b[0m\u001b[0m\n\u001b[1;32m      8\u001b[0m \u001b[0;32mfor\u001b[0m \u001b[0mlink\u001b[0m \u001b[0;32min\u001b[0m \u001b[0mdesk_links\u001b[0m\u001b[0;34m[\u001b[0m\u001b[0;36m1\u001b[0m\u001b[0;34m:\u001b[0m\u001b[0;34m]\u001b[0m\u001b[0;34m:\u001b[0m\u001b[0;34m\u001b[0m\u001b[0m\n\u001b[0;32m----> 9\u001b[0;31m     \u001b[0mproduct_dict\u001b[0m \u001b[0;34m=\u001b[0m \u001b[0mwayfair_product_info_scrapper\u001b[0m\u001b[0;34m(\u001b[0m\u001b[0mlink\u001b[0m\u001b[0;34m,\u001b[0m \u001b[0mcategory_input\u001b[0m\u001b[0;34m=\u001b[0m\u001b[0;34m'desk'\u001b[0m\u001b[0;34m)\u001b[0m\u001b[0;34m\u001b[0m\u001b[0m\n\u001b[0m\u001b[1;32m     10\u001b[0m     \u001b[0mdf_product\u001b[0m \u001b[0;34m=\u001b[0m \u001b[0mpd\u001b[0m\u001b[0;34m.\u001b[0m\u001b[0mDataFrame\u001b[0m\u001b[0;34m(\u001b[0m\u001b[0;34m[\u001b[0m\u001b[0mproduct_dict\u001b[0m\u001b[0;34m]\u001b[0m\u001b[0;34m,\u001b[0m \u001b[0mindex\u001b[0m\u001b[0;34m=\u001b[0m\u001b[0;34m[\u001b[0m\u001b[0mi\u001b[0m\u001b[0;34m]\u001b[0m\u001b[0;34m)\u001b[0m\u001b[0;34m\u001b[0m\u001b[0m\n\u001b[1;32m     11\u001b[0m     \u001b[0mdesk_df\u001b[0m \u001b[0;34m=\u001b[0m \u001b[0mpd\u001b[0m\u001b[0;34m.\u001b[0m\u001b[0mconcat\u001b[0m\u001b[0;34m(\u001b[0m\u001b[0;34m[\u001b[0m\u001b[0mdesk_df\u001b[0m\u001b[0;34m,\u001b[0m \u001b[0mdf_product\u001b[0m\u001b[0;34m]\u001b[0m\u001b[0;34m,\u001b[0m \u001b[0maxis\u001b[0m\u001b[0;34m=\u001b[0m\u001b[0;36m0\u001b[0m\u001b[0;34m)\u001b[0m\u001b[0;34m\u001b[0m\u001b[0m\n",
      "\u001b[0;32m<ipython-input-443-bb9ace42025d>\u001b[0m in \u001b[0;36mwayfair_product_info_scrapper\u001b[0;34m(link, category_input)\u001b[0m\n\u001b[1;32m     81\u001b[0m             \u001b[0mcolor_key\u001b[0m \u001b[0;34m=\u001b[0m \u001b[0mcolors\u001b[0m\u001b[0;34m[\u001b[0m\u001b[0mi\u001b[0m\u001b[0;34m]\u001b[0m\u001b[0;34m\u001b[0m\u001b[0m\n\u001b[1;32m     82\u001b[0m             \u001b[0mlink_color\u001b[0m \u001b[0;34m=\u001b[0m \u001b[0mlink\u001b[0m \u001b[0;34m+\u001b[0m \u001b[0mcolor_link\u001b[0m\u001b[0;34m\u001b[0m\u001b[0m\n\u001b[0;32m---> 83\u001b[0;31m             \u001b[0mhtml_color\u001b[0m  \u001b[0;34m=\u001b[0m \u001b[0murlopen\u001b[0m\u001b[0;34m(\u001b[0m\u001b[0mlink_color\u001b[0m\u001b[0;34m,\u001b[0m \u001b[0mtimeout\u001b[0m\u001b[0;34m=\u001b[0m\u001b[0;36m100\u001b[0m\u001b[0;34m)\u001b[0m\u001b[0;34m\u001b[0m\u001b[0m\n\u001b[0m\u001b[1;32m     84\u001b[0m             \u001b[0msoup_color\u001b[0m \u001b[0;34m=\u001b[0m \u001b[0mBeautifulSoup\u001b[0m\u001b[0;34m(\u001b[0m\u001b[0mhtml_color\u001b[0m\u001b[0;34m,\u001b[0m \u001b[0;34m'html.parser'\u001b[0m\u001b[0;34m)\u001b[0m\u001b[0;34m\u001b[0m\u001b[0m\n\u001b[1;32m     85\u001b[0m             \u001b[0mimage_info_color\u001b[0m \u001b[0;34m=\u001b[0m \u001b[0msoup_color\u001b[0m\u001b[0;34m.\u001b[0m\u001b[0mfindAll\u001b[0m\u001b[0;34m(\u001b[0m\u001b[0;34m'a'\u001b[0m\u001b[0;34m,\u001b[0m \u001b[0;34m{\u001b[0m\u001b[0;34m'class'\u001b[0m\u001b[0;34m:\u001b[0m \u001b[0;34m'photoswipe_link'\u001b[0m\u001b[0;34m}\u001b[0m\u001b[0;34m)\u001b[0m\u001b[0;34m\u001b[0m\u001b[0m\n",
      "\u001b[0;32m//anaconda/lib/python2.7/urllib2.pyc\u001b[0m in \u001b[0;36murlopen\u001b[0;34m(url, data, timeout, cafile, capath, cadefault, context)\u001b[0m\n\u001b[1;32m    152\u001b[0m     \u001b[0;32melse\u001b[0m\u001b[0;34m:\u001b[0m\u001b[0;34m\u001b[0m\u001b[0m\n\u001b[1;32m    153\u001b[0m         \u001b[0mopener\u001b[0m \u001b[0;34m=\u001b[0m \u001b[0m_opener\u001b[0m\u001b[0;34m\u001b[0m\u001b[0m\n\u001b[0;32m--> 154\u001b[0;31m     \u001b[0;32mreturn\u001b[0m \u001b[0mopener\u001b[0m\u001b[0;34m.\u001b[0m\u001b[0mopen\u001b[0m\u001b[0;34m(\u001b[0m\u001b[0murl\u001b[0m\u001b[0;34m,\u001b[0m \u001b[0mdata\u001b[0m\u001b[0;34m,\u001b[0m \u001b[0mtimeout\u001b[0m\u001b[0;34m)\u001b[0m\u001b[0;34m\u001b[0m\u001b[0m\n\u001b[0m\u001b[1;32m    155\u001b[0m \u001b[0;34m\u001b[0m\u001b[0m\n\u001b[1;32m    156\u001b[0m \u001b[0;32mdef\u001b[0m \u001b[0minstall_opener\u001b[0m\u001b[0;34m(\u001b[0m\u001b[0mopener\u001b[0m\u001b[0;34m)\u001b[0m\u001b[0;34m:\u001b[0m\u001b[0;34m\u001b[0m\u001b[0m\n",
      "\u001b[0;32m//anaconda/lib/python2.7/urllib2.pyc\u001b[0m in \u001b[0;36mopen\u001b[0;34m(self, fullurl, data, timeout)\u001b[0m\n\u001b[1;32m    429\u001b[0m             \u001b[0mreq\u001b[0m \u001b[0;34m=\u001b[0m \u001b[0mmeth\u001b[0m\u001b[0;34m(\u001b[0m\u001b[0mreq\u001b[0m\u001b[0;34m)\u001b[0m\u001b[0;34m\u001b[0m\u001b[0m\n\u001b[1;32m    430\u001b[0m \u001b[0;34m\u001b[0m\u001b[0m\n\u001b[0;32m--> 431\u001b[0;31m         \u001b[0mresponse\u001b[0m \u001b[0;34m=\u001b[0m \u001b[0mself\u001b[0m\u001b[0;34m.\u001b[0m\u001b[0m_open\u001b[0m\u001b[0;34m(\u001b[0m\u001b[0mreq\u001b[0m\u001b[0;34m,\u001b[0m \u001b[0mdata\u001b[0m\u001b[0;34m)\u001b[0m\u001b[0;34m\u001b[0m\u001b[0m\n\u001b[0m\u001b[1;32m    432\u001b[0m \u001b[0;34m\u001b[0m\u001b[0m\n\u001b[1;32m    433\u001b[0m         \u001b[0;31m# post-process response\u001b[0m\u001b[0;34m\u001b[0m\u001b[0;34m\u001b[0m\u001b[0m\n",
      "\u001b[0;32m//anaconda/lib/python2.7/urllib2.pyc\u001b[0m in \u001b[0;36m_open\u001b[0;34m(self, req, data)\u001b[0m\n\u001b[1;32m    447\u001b[0m         \u001b[0mprotocol\u001b[0m \u001b[0;34m=\u001b[0m \u001b[0mreq\u001b[0m\u001b[0;34m.\u001b[0m\u001b[0mget_type\u001b[0m\u001b[0;34m(\u001b[0m\u001b[0;34m)\u001b[0m\u001b[0;34m\u001b[0m\u001b[0m\n\u001b[1;32m    448\u001b[0m         result = self._call_chain(self.handle_open, protocol, protocol +\n\u001b[0;32m--> 449\u001b[0;31m                                   '_open', req)\n\u001b[0m\u001b[1;32m    450\u001b[0m         \u001b[0;32mif\u001b[0m \u001b[0mresult\u001b[0m\u001b[0;34m:\u001b[0m\u001b[0;34m\u001b[0m\u001b[0m\n\u001b[1;32m    451\u001b[0m             \u001b[0;32mreturn\u001b[0m \u001b[0mresult\u001b[0m\u001b[0;34m\u001b[0m\u001b[0m\n",
      "\u001b[0;32m//anaconda/lib/python2.7/urllib2.pyc\u001b[0m in \u001b[0;36m_call_chain\u001b[0;34m(self, chain, kind, meth_name, *args)\u001b[0m\n\u001b[1;32m    407\u001b[0m             \u001b[0mfunc\u001b[0m \u001b[0;34m=\u001b[0m \u001b[0mgetattr\u001b[0m\u001b[0;34m(\u001b[0m\u001b[0mhandler\u001b[0m\u001b[0;34m,\u001b[0m \u001b[0mmeth_name\u001b[0m\u001b[0;34m)\u001b[0m\u001b[0;34m\u001b[0m\u001b[0m\n\u001b[1;32m    408\u001b[0m \u001b[0;34m\u001b[0m\u001b[0m\n\u001b[0;32m--> 409\u001b[0;31m             \u001b[0mresult\u001b[0m \u001b[0;34m=\u001b[0m \u001b[0mfunc\u001b[0m\u001b[0;34m(\u001b[0m\u001b[0;34m*\u001b[0m\u001b[0margs\u001b[0m\u001b[0;34m)\u001b[0m\u001b[0;34m\u001b[0m\u001b[0m\n\u001b[0m\u001b[1;32m    410\u001b[0m             \u001b[0;32mif\u001b[0m \u001b[0mresult\u001b[0m \u001b[0;32mis\u001b[0m \u001b[0;32mnot\u001b[0m \u001b[0mNone\u001b[0m\u001b[0;34m:\u001b[0m\u001b[0;34m\u001b[0m\u001b[0m\n\u001b[1;32m    411\u001b[0m                 \u001b[0;32mreturn\u001b[0m \u001b[0mresult\u001b[0m\u001b[0;34m\u001b[0m\u001b[0m\n",
      "\u001b[0;32m//anaconda/lib/python2.7/urllib2.pyc\u001b[0m in \u001b[0;36mhttp_open\u001b[0;34m(self, req)\u001b[0m\n\u001b[1;32m   1225\u001b[0m \u001b[0;34m\u001b[0m\u001b[0m\n\u001b[1;32m   1226\u001b[0m     \u001b[0;32mdef\u001b[0m \u001b[0mhttp_open\u001b[0m\u001b[0;34m(\u001b[0m\u001b[0mself\u001b[0m\u001b[0;34m,\u001b[0m \u001b[0mreq\u001b[0m\u001b[0;34m)\u001b[0m\u001b[0;34m:\u001b[0m\u001b[0;34m\u001b[0m\u001b[0m\n\u001b[0;32m-> 1227\u001b[0;31m         \u001b[0;32mreturn\u001b[0m \u001b[0mself\u001b[0m\u001b[0;34m.\u001b[0m\u001b[0mdo_open\u001b[0m\u001b[0;34m(\u001b[0m\u001b[0mhttplib\u001b[0m\u001b[0;34m.\u001b[0m\u001b[0mHTTPConnection\u001b[0m\u001b[0;34m,\u001b[0m \u001b[0mreq\u001b[0m\u001b[0;34m)\u001b[0m\u001b[0;34m\u001b[0m\u001b[0m\n\u001b[0m\u001b[1;32m   1228\u001b[0m \u001b[0;34m\u001b[0m\u001b[0m\n\u001b[1;32m   1229\u001b[0m     \u001b[0mhttp_request\u001b[0m \u001b[0;34m=\u001b[0m \u001b[0mAbstractHTTPHandler\u001b[0m\u001b[0;34m.\u001b[0m\u001b[0mdo_request_\u001b[0m\u001b[0;34m\u001b[0m\u001b[0m\n",
      "\u001b[0;32m//anaconda/lib/python2.7/urllib2.pyc\u001b[0m in \u001b[0;36mdo_open\u001b[0;34m(self, http_class, req, **http_conn_args)\u001b[0m\n\u001b[1;32m   1198\u001b[0m         \u001b[0;32melse\u001b[0m\u001b[0;34m:\u001b[0m\u001b[0;34m\u001b[0m\u001b[0m\n\u001b[1;32m   1199\u001b[0m             \u001b[0;32mtry\u001b[0m\u001b[0;34m:\u001b[0m\u001b[0;34m\u001b[0m\u001b[0m\n\u001b[0;32m-> 1200\u001b[0;31m                 \u001b[0mr\u001b[0m \u001b[0;34m=\u001b[0m \u001b[0mh\u001b[0m\u001b[0;34m.\u001b[0m\u001b[0mgetresponse\u001b[0m\u001b[0;34m(\u001b[0m\u001b[0mbuffering\u001b[0m\u001b[0;34m=\u001b[0m\u001b[0mTrue\u001b[0m\u001b[0;34m)\u001b[0m\u001b[0;34m\u001b[0m\u001b[0m\n\u001b[0m\u001b[1;32m   1201\u001b[0m             \u001b[0;32mexcept\u001b[0m \u001b[0mTypeError\u001b[0m\u001b[0;34m:\u001b[0m \u001b[0;31m# buffering kw not supported\u001b[0m\u001b[0;34m\u001b[0m\u001b[0m\n\u001b[1;32m   1202\u001b[0m                 \u001b[0mr\u001b[0m \u001b[0;34m=\u001b[0m \u001b[0mh\u001b[0m\u001b[0;34m.\u001b[0m\u001b[0mgetresponse\u001b[0m\u001b[0;34m(\u001b[0m\u001b[0;34m)\u001b[0m\u001b[0;34m\u001b[0m\u001b[0m\n",
      "\u001b[0;32m//anaconda/lib/python2.7/httplib.pyc\u001b[0m in \u001b[0;36mgetresponse\u001b[0;34m(self, buffering)\u001b[0m\n\u001b[1;32m   1130\u001b[0m \u001b[0;34m\u001b[0m\u001b[0m\n\u001b[1;32m   1131\u001b[0m         \u001b[0;32mtry\u001b[0m\u001b[0;34m:\u001b[0m\u001b[0;34m\u001b[0m\u001b[0m\n\u001b[0;32m-> 1132\u001b[0;31m             \u001b[0mresponse\u001b[0m\u001b[0;34m.\u001b[0m\u001b[0mbegin\u001b[0m\u001b[0;34m(\u001b[0m\u001b[0;34m)\u001b[0m\u001b[0;34m\u001b[0m\u001b[0m\n\u001b[0m\u001b[1;32m   1133\u001b[0m             \u001b[0;32massert\u001b[0m \u001b[0mresponse\u001b[0m\u001b[0;34m.\u001b[0m\u001b[0mwill_close\u001b[0m \u001b[0;34m!=\u001b[0m \u001b[0m_UNKNOWN\u001b[0m\u001b[0;34m\u001b[0m\u001b[0m\n\u001b[1;32m   1134\u001b[0m             \u001b[0mself\u001b[0m\u001b[0;34m.\u001b[0m\u001b[0m__state\u001b[0m \u001b[0;34m=\u001b[0m \u001b[0m_CS_IDLE\u001b[0m\u001b[0;34m\u001b[0m\u001b[0m\n",
      "\u001b[0;32m//anaconda/lib/python2.7/httplib.pyc\u001b[0m in \u001b[0;36mbegin\u001b[0;34m(self)\u001b[0m\n\u001b[1;32m    451\u001b[0m         \u001b[0;31m# read until we get a non-100 response\u001b[0m\u001b[0;34m\u001b[0m\u001b[0;34m\u001b[0m\u001b[0m\n\u001b[1;32m    452\u001b[0m         \u001b[0;32mwhile\u001b[0m \u001b[0mTrue\u001b[0m\u001b[0;34m:\u001b[0m\u001b[0;34m\u001b[0m\u001b[0m\n\u001b[0;32m--> 453\u001b[0;31m             \u001b[0mversion\u001b[0m\u001b[0;34m,\u001b[0m \u001b[0mstatus\u001b[0m\u001b[0;34m,\u001b[0m \u001b[0mreason\u001b[0m \u001b[0;34m=\u001b[0m \u001b[0mself\u001b[0m\u001b[0;34m.\u001b[0m\u001b[0m_read_status\u001b[0m\u001b[0;34m(\u001b[0m\u001b[0;34m)\u001b[0m\u001b[0;34m\u001b[0m\u001b[0m\n\u001b[0m\u001b[1;32m    454\u001b[0m             \u001b[0;32mif\u001b[0m \u001b[0mstatus\u001b[0m \u001b[0;34m!=\u001b[0m \u001b[0mCONTINUE\u001b[0m\u001b[0;34m:\u001b[0m\u001b[0;34m\u001b[0m\u001b[0m\n\u001b[1;32m    455\u001b[0m                 \u001b[0;32mbreak\u001b[0m\u001b[0;34m\u001b[0m\u001b[0m\n",
      "\u001b[0;32m//anaconda/lib/python2.7/httplib.pyc\u001b[0m in \u001b[0;36m_read_status\u001b[0;34m(self)\u001b[0m\n\u001b[1;32m    407\u001b[0m     \u001b[0;32mdef\u001b[0m \u001b[0m_read_status\u001b[0m\u001b[0;34m(\u001b[0m\u001b[0mself\u001b[0m\u001b[0;34m)\u001b[0m\u001b[0;34m:\u001b[0m\u001b[0;34m\u001b[0m\u001b[0m\n\u001b[1;32m    408\u001b[0m         \u001b[0;31m# Initialize with Simple-Response defaults\u001b[0m\u001b[0;34m\u001b[0m\u001b[0;34m\u001b[0m\u001b[0m\n\u001b[0;32m--> 409\u001b[0;31m         \u001b[0mline\u001b[0m \u001b[0;34m=\u001b[0m \u001b[0mself\u001b[0m\u001b[0;34m.\u001b[0m\u001b[0mfp\u001b[0m\u001b[0;34m.\u001b[0m\u001b[0mreadline\u001b[0m\u001b[0;34m(\u001b[0m\u001b[0m_MAXLINE\u001b[0m \u001b[0;34m+\u001b[0m \u001b[0;36m1\u001b[0m\u001b[0;34m)\u001b[0m\u001b[0;34m\u001b[0m\u001b[0m\n\u001b[0m\u001b[1;32m    410\u001b[0m         \u001b[0;32mif\u001b[0m \u001b[0mlen\u001b[0m\u001b[0;34m(\u001b[0m\u001b[0mline\u001b[0m\u001b[0;34m)\u001b[0m \u001b[0;34m>\u001b[0m \u001b[0m_MAXLINE\u001b[0m\u001b[0;34m:\u001b[0m\u001b[0;34m\u001b[0m\u001b[0m\n\u001b[1;32m    411\u001b[0m             \u001b[0;32mraise\u001b[0m \u001b[0mLineTooLong\u001b[0m\u001b[0;34m(\u001b[0m\u001b[0;34m\"header line\"\u001b[0m\u001b[0;34m)\u001b[0m\u001b[0;34m\u001b[0m\u001b[0m\n",
      "\u001b[0;32m//anaconda/lib/python2.7/socket.pyc\u001b[0m in \u001b[0;36mreadline\u001b[0;34m(self, size)\u001b[0m\n\u001b[1;32m    478\u001b[0m             \u001b[0;32mwhile\u001b[0m \u001b[0mTrue\u001b[0m\u001b[0;34m:\u001b[0m\u001b[0;34m\u001b[0m\u001b[0m\n\u001b[1;32m    479\u001b[0m                 \u001b[0;32mtry\u001b[0m\u001b[0;34m:\u001b[0m\u001b[0;34m\u001b[0m\u001b[0m\n\u001b[0;32m--> 480\u001b[0;31m                     \u001b[0mdata\u001b[0m \u001b[0;34m=\u001b[0m \u001b[0mself\u001b[0m\u001b[0;34m.\u001b[0m\u001b[0m_sock\u001b[0m\u001b[0;34m.\u001b[0m\u001b[0mrecv\u001b[0m\u001b[0;34m(\u001b[0m\u001b[0mself\u001b[0m\u001b[0;34m.\u001b[0m\u001b[0m_rbufsize\u001b[0m\u001b[0;34m)\u001b[0m\u001b[0;34m\u001b[0m\u001b[0m\n\u001b[0m\u001b[1;32m    481\u001b[0m                 \u001b[0;32mexcept\u001b[0m \u001b[0merror\u001b[0m\u001b[0;34m,\u001b[0m \u001b[0me\u001b[0m\u001b[0;34m:\u001b[0m\u001b[0;34m\u001b[0m\u001b[0m\n\u001b[1;32m    482\u001b[0m                     \u001b[0;32mif\u001b[0m \u001b[0me\u001b[0m\u001b[0;34m.\u001b[0m\u001b[0margs\u001b[0m\u001b[0;34m[\u001b[0m\u001b[0;36m0\u001b[0m\u001b[0;34m]\u001b[0m \u001b[0;34m==\u001b[0m \u001b[0mEINTR\u001b[0m\u001b[0;34m:\u001b[0m\u001b[0;34m\u001b[0m\u001b[0m\n",
      "\u001b[0;31merror\u001b[0m: [Errno 60] Operation timed out"
     ]
    }
   ],
   "source": [
    "desk_links = get_wayfair_product_links(desk_index, num_pages=21)\n",
    "print len(desk_links)\n",
    "link_0 = desk_links[0]\n",
    "dict_0 = wayfair_product_info_scrapper(link_0, category_input= 'desk')\n",
    "desk_df = pd.DataFrame([dict_0], index=[0])\n",
    "print desk_df\n",
    "i = 1\n",
    "for link in desk_links[1:]:\n",
    "    product_dict = wayfair_product_info_scrapper(link, category_input='desk')\n",
    "    df_product = pd.DataFrame([product_dict], index=[i])\n",
    "    desk_df = pd.concat([desk_df, df_product], axis=0)\n",
    "    i += 1\n",
    "    if i % 20 == 0:\n",
    "        print i"
   ]
  },
  {
   "cell_type": "code",
   "execution_count": 468,
   "metadata": {
    "collapsed": false
   },
   "outputs": [
    {
     "name": "stdout",
     "output_type": "stream",
     "text": [
      "<class 'pandas.core.frame.DataFrame'>\n",
      "Int64Index: 28 entries, 0 to 27\n",
      "Data columns (total 15 columns):\n",
      "category                28 non-null object\n",
      "colors                  28 non-null object\n",
      "description             25 non-null object\n",
      "features                28 non-null object\n",
      "image_links_all         28 non-null object\n",
      "image_links_by_color    28 non-null object\n",
      "manufacturer            28 non-null object\n",
      "price                   28 non-null object\n",
      "product_id              28 non-null object\n",
      "rating_avg              20 non-null object\n",
      "rating_count            20 non-null object\n",
      "specs                   27 non-null object\n",
      "title                   28 non-null object\n",
      "url                     28 non-null object\n",
      "website                 28 non-null object\n",
      "dtypes: object(15)\n",
      "memory usage: 3.5+ KB\n"
     ]
    }
   ],
   "source": [
    "desk_df.info()"
   ]
  },
  {
   "cell_type": "code",
   "execution_count": 469,
   "metadata": {
    "collapsed": false
   },
   "outputs": [
    {
     "name": "stdout",
     "output_type": "stream",
     "text": [
      "40\n",
      "60\n",
      "80\n",
      "100\n",
      "120\n",
      "140\n",
      "160\n",
      "180\n",
      "200\n",
      "220\n",
      "240\n",
      "260\n",
      "280\n",
      "300\n",
      "320\n",
      "340\n",
      "360\n",
      "380\n",
      "400\n",
      "420\n",
      "440\n",
      "460\n",
      "480\n",
      "500\n",
      "520\n",
      "540\n",
      "560\n",
      "580\n",
      "600\n",
      "620\n",
      "640\n",
      "660\n",
      "680\n",
      "700\n",
      "720\n",
      "740\n",
      "760\n",
      "780\n",
      "800\n",
      "820\n",
      "840\n",
      "860\n",
      "880\n",
      "900\n",
      "920\n",
      "940\n",
      "960\n",
      "980\n",
      "1000\n"
     ]
    }
   ],
   "source": [
    "i = 28\n",
    "for link in desk_links[28:]:\n",
    "    product_dict = wayfair_product_info_scrapper(link, category_input='desk')\n",
    "    df_product = pd.DataFrame([product_dict], index=[i])\n",
    "    desk_df = pd.concat([desk_df, df_product], axis=0)\n",
    "    i += 1\n",
    "    if i % 20 == 0:\n",
    "        print i"
   ]
  },
  {
   "cell_type": "code",
   "execution_count": 470,
   "metadata": {
    "collapsed": true
   },
   "outputs": [],
   "source": [
    "desk_df.to_json('wayfair/desk.json')"
   ]
  },
  {
   "cell_type": "code",
   "execution_count": 471,
   "metadata": {
    "collapsed": false
   },
   "outputs": [
    {
     "data": {
      "text/plain": [
       "'Mon Sep 21 13:35:48 2015'"
      ]
     },
     "execution_count": 471,
     "metadata": {},
     "output_type": "execute_result"
    }
   ],
   "source": [
    "time.ctime(time.time())"
   ]
  },
  {
   "cell_type": "code",
   "execution_count": 472,
   "metadata": {
    "collapsed": false
   },
   "outputs": [
    {
     "name": "stdout",
     "output_type": "stream",
     "text": [
      "<class 'pandas.core.frame.DataFrame'>\n",
      "Int64Index: 1008 entries, 0 to 1007\n",
      "Data columns (total 15 columns):\n",
      "category                1008 non-null object\n",
      "colors                  1008 non-null object\n",
      "description             803 non-null object\n",
      "features                1008 non-null object\n",
      "image_links_all         1008 non-null object\n",
      "image_links_by_color    1008 non-null object\n",
      "manufacturer            1008 non-null object\n",
      "price                   1008 non-null object\n",
      "product_id              1008 non-null object\n",
      "rating_avg              911 non-null object\n",
      "rating_count            911 non-null object\n",
      "specs                   970 non-null object\n",
      "title                   1008 non-null object\n",
      "url                     1008 non-null object\n",
      "website                 1008 non-null object\n",
      "dtypes: object(15)\n",
      "memory usage: 126.0+ KB\n"
     ]
    }
   ],
   "source": [
    "desk_df.info()"
   ]
  },
  {
   "cell_type": "code",
   "execution_count": 474,
   "metadata": {
    "collapsed": false
   },
   "outputs": [
    {
     "data": {
      "text/html": [
       "<div>\n",
       "<table border=\"1\" class=\"dataframe\">\n",
       "  <thead>\n",
       "    <tr style=\"text-align: right;\">\n",
       "      <th></th>\n",
       "      <th>category</th>\n",
       "      <th>colors</th>\n",
       "      <th>description</th>\n",
       "      <th>features</th>\n",
       "      <th>image_links_all</th>\n",
       "      <th>image_links_by_color</th>\n",
       "      <th>manufacturer</th>\n",
       "      <th>price</th>\n",
       "      <th>product_id</th>\n",
       "      <th>rating_avg</th>\n",
       "      <th>rating_count</th>\n",
       "      <th>specs</th>\n",
       "      <th>title</th>\n",
       "      <th>url</th>\n",
       "      <th>website</th>\n",
       "    </tr>\n",
       "  </thead>\n",
       "  <tbody>\n",
       "    <tr>\n",
       "      <th>1003</th>\n",
       "      <td>desk</td>\n",
       "      <td>[]</td>\n",
       "      <td>None</td>\n",
       "      <td>[\\nFeatures\\n\\nColor: Espresso\\nGlass-top\\nMag...</td>\n",
       "      <td>[https://secure.img2.wfrcdn.com/lf/49/hash/231...</td>\n",
       "      <td>{}</td>\n",
       "      <td>Techni Mobili</td>\n",
       "      <td>$172.99</td>\n",
       "      <td>TMB1213</td>\n",
       "      <td>4.0</td>\n",
       "      <td>1</td>\n",
       "      <td>\\nWeights &amp; Dimensions\\n\\n\\n\\n            Over...</td>\n",
       "      <td>Computer Desk with Magazine Rack</td>\n",
       "      <td>http://www.wayfair.com/Techni-Mobili-Computer-...</td>\n",
       "      <td>wayfair</td>\n",
       "    </tr>\n",
       "    <tr>\n",
       "      <th>1004</th>\n",
       "      <td>desk</td>\n",
       "      <td>[]</td>\n",
       "      <td>This beautiful home office collection is finis...</td>\n",
       "      <td>[\\nFeatures\\n\\nFinish: Walnut\\n\\n, \\nProduct D...</td>\n",
       "      <td>[https://secure.img2.wfrcdn.com/lf/49/hash/126...</td>\n",
       "      <td>{}</td>\n",
       "      <td>Wildon Home ®</td>\n",
       "      <td>$309.99</td>\n",
       "      <td>CST17142</td>\n",
       "      <td>4.0</td>\n",
       "      <td>1</td>\n",
       "      <td>\\nWeights &amp; Dimensions\\n\\n\\n\\n            Over...</td>\n",
       "      <td>Writing Desk</td>\n",
       "      <td>http://www.wayfair.com/Writing-Desk-912822-CST...</td>\n",
       "      <td>wayfair</td>\n",
       "    </tr>\n",
       "    <tr>\n",
       "      <th>1005</th>\n",
       "      <td>desk</td>\n",
       "      <td>[]</td>\n",
       "      <td>The Furinno Besi Office Computer Desk is a com...</td>\n",
       "      <td>[\\nFeatures\\n\\nBesi collection\\nLeg material: ...</td>\n",
       "      <td>[https://secure.img1.wfrcdn.com/lf/49/hash/186...</td>\n",
       "      <td>{}</td>\n",
       "      <td>Furinno</td>\n",
       "      <td>$63.99</td>\n",
       "      <td>FVD1243</td>\n",
       "      <td>4.1</td>\n",
       "      <td>7</td>\n",
       "      <td>\\nWeights &amp; Dimensions\\n\\n\\n\\n            Over...</td>\n",
       "      <td>Besi Office Computer Desk</td>\n",
       "      <td>http://www.wayfair.com/Furinno-Besi-Office-Com...</td>\n",
       "      <td>wayfair</td>\n",
       "    </tr>\n",
       "    <tr>\n",
       "      <th>1006</th>\n",
       "      <td>desk</td>\n",
       "      <td>[]</td>\n",
       "      <td>Bring a touch of old-Hollywood style to your h...</td>\n",
       "      <td>[\\nFeatures\\n\\nStunning mirror tabletop and su...</td>\n",
       "      <td>[https://secure.img2.wfrcdn.com/lf/49/hash/126...</td>\n",
       "      <td>{}</td>\n",
       "      <td>Wildon Home ®</td>\n",
       "      <td>$224.99</td>\n",
       "      <td>UT4333</td>\n",
       "      <td>4.0</td>\n",
       "      <td>3</td>\n",
       "      <td>\\nWeights &amp; Dimensions\\n\\n\\n\\n            Over...</td>\n",
       "      <td>Breland Computer Desk</td>\n",
       "      <td>http://www.wayfair.com/Breland-Computer-Desk-W...</td>\n",
       "      <td>wayfair</td>\n",
       "    </tr>\n",
       "    <tr>\n",
       "      <th>1007</th>\n",
       "      <td>desk</td>\n",
       "      <td>[]</td>\n",
       "      <td>Start creating your attractive and sturdy home...</td>\n",
       "      <td>[\\nFeatures\\n\\nYorktown collection\\nDurable la...</td>\n",
       "      <td>[https://secure.img1.wfrcdn.com/lf/49/hash/150...</td>\n",
       "      <td>{}</td>\n",
       "      <td>Bush</td>\n",
       "      <td>$339.99</td>\n",
       "      <td>BU5182</td>\n",
       "      <td>None</td>\n",
       "      <td>None</td>\n",
       "      <td>\\nWeights &amp; Dimensions\\n\\n\\n\\n            Over...</td>\n",
       "      <td>Yorktown Corner Desk and Hutch</td>\n",
       "      <td>http://www.wayfair.com/Yorktown-Corner-Desk-an...</td>\n",
       "      <td>wayfair</td>\n",
       "    </tr>\n",
       "  </tbody>\n",
       "</table>\n",
       "</div>"
      ],
      "text/plain": [
       "     category colors                                        description  \\\n",
       "1003     desk     []                                               None   \n",
       "1004     desk     []  This beautiful home office collection is finis...   \n",
       "1005     desk     []  The Furinno Besi Office Computer Desk is a com...   \n",
       "1006     desk     []  Bring a touch of old-Hollywood style to your h...   \n",
       "1007     desk     []  Start creating your attractive and sturdy home...   \n",
       "\n",
       "                                               features  \\\n",
       "1003  [\\nFeatures\\n\\nColor: Espresso\\nGlass-top\\nMag...   \n",
       "1004  [\\nFeatures\\n\\nFinish: Walnut\\n\\n, \\nProduct D...   \n",
       "1005  [\\nFeatures\\n\\nBesi collection\\nLeg material: ...   \n",
       "1006  [\\nFeatures\\n\\nStunning mirror tabletop and su...   \n",
       "1007  [\\nFeatures\\n\\nYorktown collection\\nDurable la...   \n",
       "\n",
       "                                        image_links_all image_links_by_color  \\\n",
       "1003  [https://secure.img2.wfrcdn.com/lf/49/hash/231...                   {}   \n",
       "1004  [https://secure.img2.wfrcdn.com/lf/49/hash/126...                   {}   \n",
       "1005  [https://secure.img1.wfrcdn.com/lf/49/hash/186...                   {}   \n",
       "1006  [https://secure.img2.wfrcdn.com/lf/49/hash/126...                   {}   \n",
       "1007  [https://secure.img1.wfrcdn.com/lf/49/hash/150...                   {}   \n",
       "\n",
       "       manufacturer    price product_id rating_avg rating_count  \\\n",
       "1003  Techni Mobili  $172.99    TMB1213        4.0            1   \n",
       "1004  Wildon Home ®  $309.99   CST17142        4.0            1   \n",
       "1005        Furinno   $63.99    FVD1243        4.1            7   \n",
       "1006  Wildon Home ®  $224.99     UT4333        4.0            3   \n",
       "1007           Bush  $339.99     BU5182       None         None   \n",
       "\n",
       "                                                  specs  \\\n",
       "1003  \\nWeights & Dimensions\\n\\n\\n\\n            Over...   \n",
       "1004  \\nWeights & Dimensions\\n\\n\\n\\n            Over...   \n",
       "1005  \\nWeights & Dimensions\\n\\n\\n\\n            Over...   \n",
       "1006  \\nWeights & Dimensions\\n\\n\\n\\n            Over...   \n",
       "1007  \\nWeights & Dimensions\\n\\n\\n\\n            Over...   \n",
       "\n",
       "                                 title  \\\n",
       "1003  Computer Desk with Magazine Rack   \n",
       "1004                      Writing Desk   \n",
       "1005         Besi Office Computer Desk   \n",
       "1006             Breland Computer Desk   \n",
       "1007    Yorktown Corner Desk and Hutch   \n",
       "\n",
       "                                                    url  website  \n",
       "1003  http://www.wayfair.com/Techni-Mobili-Computer-...  wayfair  \n",
       "1004  http://www.wayfair.com/Writing-Desk-912822-CST...  wayfair  \n",
       "1005  http://www.wayfair.com/Furinno-Besi-Office-Com...  wayfair  \n",
       "1006  http://www.wayfair.com/Breland-Computer-Desk-W...  wayfair  \n",
       "1007  http://www.wayfair.com/Yorktown-Corner-Desk-an...  wayfair  "
      ]
     },
     "execution_count": 474,
     "metadata": {},
     "output_type": "execute_result"
    }
   ],
   "source": [
    "desk_df.tail()"
   ]
  },
  {
   "cell_type": "markdown",
   "metadata": {},
   "source": [
    "# Office chairs"
   ]
  },
  {
   "cell_type": "code",
   "execution_count": 475,
   "metadata": {
    "collapsed": false
   },
   "outputs": [
    {
     "data": {
      "text/plain": [
       "'Mon Sep 21 13:38:30 2015'"
      ]
     },
     "execution_count": 475,
     "metadata": {},
     "output_type": "execute_result"
    }
   ],
   "source": [
    "time.ctime(time.time())"
   ]
  },
  {
   "cell_type": "code",
   "execution_count": 476,
   "metadata": {
    "collapsed": false
   },
   "outputs": [
    {
     "name": "stdout",
     "output_type": "stream",
     "text": [
      "1008\n",
      "       category colors                                        description  \\\n",
      "0  office_chair     []  With a pivoting base, cushioned seat and back,...   \n",
      "\n",
      "                                            features  \\\n",
      "0  [\\nFeatures\\n\\nWipe clean with a dry cloth; us...   \n",
      "\n",
      "                                     image_links_all image_links_by_color  \\\n",
      "0  [https://secure.img2.wfrcdn.com/lf/49/hash/250...                   {}   \n",
      "\n",
      "  manufacturer    price product_id rating_avg rating_count  \\\n",
      "0   Birch Lane  $599.00     BL6301        3.3            6   \n",
      "\n",
      "                                               specs  \\\n",
      "0  \\nWeights & Dimensions\\nAdjustable Seat Height...   \n",
      "\n",
      "                        title  \\\n",
      "0  Wetherly Swivel Desk Chair   \n",
      "\n",
      "                                                 url  website  \n",
      "0  http://www.wayfair.com/Birch-Lane-Wetherly-Swi...  wayfair  \n",
      "20\n",
      "40\n",
      "60\n",
      "80\n",
      "100\n",
      "120\n",
      "140\n"
     ]
    },
    {
     "ename": "timeout",
     "evalue": "timed out",
     "output_type": "error",
     "traceback": [
      "\u001b[0;31m---------------------------------------------------------------------------\u001b[0m",
      "\u001b[0;31mtimeout\u001b[0m                                   Traceback (most recent call last)",
      "\u001b[0;32m<ipython-input-476-bcb657399e55>\u001b[0m in \u001b[0;36m<module>\u001b[0;34m()\u001b[0m\n\u001b[1;32m      7\u001b[0m \u001b[0mi\u001b[0m \u001b[0;34m=\u001b[0m \u001b[0;36m1\u001b[0m\u001b[0;34m\u001b[0m\u001b[0m\n\u001b[1;32m      8\u001b[0m \u001b[0;32mfor\u001b[0m \u001b[0mlink\u001b[0m \u001b[0;32min\u001b[0m \u001b[0moffice_chair_links\u001b[0m\u001b[0;34m[\u001b[0m\u001b[0;36m1\u001b[0m\u001b[0;34m:\u001b[0m\u001b[0;34m]\u001b[0m\u001b[0;34m:\u001b[0m\u001b[0;34m\u001b[0m\u001b[0m\n\u001b[0;32m----> 9\u001b[0;31m     \u001b[0mproduct_dict\u001b[0m \u001b[0;34m=\u001b[0m \u001b[0mwayfair_product_info_scrapper\u001b[0m\u001b[0;34m(\u001b[0m\u001b[0mlink\u001b[0m\u001b[0;34m,\u001b[0m \u001b[0mcategory_input\u001b[0m\u001b[0;34m=\u001b[0m\u001b[0;34m'office_chair'\u001b[0m\u001b[0;34m)\u001b[0m\u001b[0;34m\u001b[0m\u001b[0m\n\u001b[0m\u001b[1;32m     10\u001b[0m     \u001b[0mdf_product\u001b[0m \u001b[0;34m=\u001b[0m \u001b[0mpd\u001b[0m\u001b[0;34m.\u001b[0m\u001b[0mDataFrame\u001b[0m\u001b[0;34m(\u001b[0m\u001b[0;34m[\u001b[0m\u001b[0mproduct_dict\u001b[0m\u001b[0;34m]\u001b[0m\u001b[0;34m,\u001b[0m \u001b[0mindex\u001b[0m\u001b[0;34m=\u001b[0m\u001b[0;34m[\u001b[0m\u001b[0mi\u001b[0m\u001b[0;34m]\u001b[0m\u001b[0;34m)\u001b[0m\u001b[0;34m\u001b[0m\u001b[0m\n\u001b[1;32m     11\u001b[0m     \u001b[0moffice_chair_df\u001b[0m \u001b[0;34m=\u001b[0m \u001b[0mpd\u001b[0m\u001b[0;34m.\u001b[0m\u001b[0mconcat\u001b[0m\u001b[0;34m(\u001b[0m\u001b[0;34m[\u001b[0m\u001b[0moffice_chair_df\u001b[0m\u001b[0;34m,\u001b[0m \u001b[0mdf_product\u001b[0m\u001b[0;34m]\u001b[0m\u001b[0;34m,\u001b[0m \u001b[0maxis\u001b[0m\u001b[0;34m=\u001b[0m\u001b[0;36m0\u001b[0m\u001b[0;34m)\u001b[0m\u001b[0;34m\u001b[0m\u001b[0m\n",
      "\u001b[0;32m<ipython-input-443-bb9ace42025d>\u001b[0m in \u001b[0;36mwayfair_product_info_scrapper\u001b[0;34m(link, category_input)\u001b[0m\n\u001b[1;32m     81\u001b[0m             \u001b[0mcolor_key\u001b[0m \u001b[0;34m=\u001b[0m \u001b[0mcolors\u001b[0m\u001b[0;34m[\u001b[0m\u001b[0mi\u001b[0m\u001b[0;34m]\u001b[0m\u001b[0;34m\u001b[0m\u001b[0m\n\u001b[1;32m     82\u001b[0m             \u001b[0mlink_color\u001b[0m \u001b[0;34m=\u001b[0m \u001b[0mlink\u001b[0m \u001b[0;34m+\u001b[0m \u001b[0mcolor_link\u001b[0m\u001b[0;34m\u001b[0m\u001b[0m\n\u001b[0;32m---> 83\u001b[0;31m             \u001b[0mhtml_color\u001b[0m  \u001b[0;34m=\u001b[0m \u001b[0murlopen\u001b[0m\u001b[0;34m(\u001b[0m\u001b[0mlink_color\u001b[0m\u001b[0;34m,\u001b[0m \u001b[0mtimeout\u001b[0m\u001b[0;34m=\u001b[0m\u001b[0;36m100\u001b[0m\u001b[0;34m)\u001b[0m\u001b[0;34m\u001b[0m\u001b[0m\n\u001b[0m\u001b[1;32m     84\u001b[0m             \u001b[0msoup_color\u001b[0m \u001b[0;34m=\u001b[0m \u001b[0mBeautifulSoup\u001b[0m\u001b[0;34m(\u001b[0m\u001b[0mhtml_color\u001b[0m\u001b[0;34m,\u001b[0m \u001b[0;34m'html.parser'\u001b[0m\u001b[0;34m)\u001b[0m\u001b[0;34m\u001b[0m\u001b[0m\n\u001b[1;32m     85\u001b[0m             \u001b[0mimage_info_color\u001b[0m \u001b[0;34m=\u001b[0m \u001b[0msoup_color\u001b[0m\u001b[0;34m.\u001b[0m\u001b[0mfindAll\u001b[0m\u001b[0;34m(\u001b[0m\u001b[0;34m'a'\u001b[0m\u001b[0;34m,\u001b[0m \u001b[0;34m{\u001b[0m\u001b[0;34m'class'\u001b[0m\u001b[0;34m:\u001b[0m \u001b[0;34m'photoswipe_link'\u001b[0m\u001b[0;34m}\u001b[0m\u001b[0;34m)\u001b[0m\u001b[0;34m\u001b[0m\u001b[0m\n",
      "\u001b[0;32m//anaconda/lib/python2.7/urllib2.pyc\u001b[0m in \u001b[0;36murlopen\u001b[0;34m(url, data, timeout, cafile, capath, cadefault, context)\u001b[0m\n\u001b[1;32m    152\u001b[0m     \u001b[0;32melse\u001b[0m\u001b[0;34m:\u001b[0m\u001b[0;34m\u001b[0m\u001b[0m\n\u001b[1;32m    153\u001b[0m         \u001b[0mopener\u001b[0m \u001b[0;34m=\u001b[0m \u001b[0m_opener\u001b[0m\u001b[0;34m\u001b[0m\u001b[0m\n\u001b[0;32m--> 154\u001b[0;31m     \u001b[0;32mreturn\u001b[0m \u001b[0mopener\u001b[0m\u001b[0;34m.\u001b[0m\u001b[0mopen\u001b[0m\u001b[0;34m(\u001b[0m\u001b[0murl\u001b[0m\u001b[0;34m,\u001b[0m \u001b[0mdata\u001b[0m\u001b[0;34m,\u001b[0m \u001b[0mtimeout\u001b[0m\u001b[0;34m)\u001b[0m\u001b[0;34m\u001b[0m\u001b[0m\n\u001b[0m\u001b[1;32m    155\u001b[0m \u001b[0;34m\u001b[0m\u001b[0m\n\u001b[1;32m    156\u001b[0m \u001b[0;32mdef\u001b[0m \u001b[0minstall_opener\u001b[0m\u001b[0;34m(\u001b[0m\u001b[0mopener\u001b[0m\u001b[0;34m)\u001b[0m\u001b[0;34m:\u001b[0m\u001b[0;34m\u001b[0m\u001b[0m\n",
      "\u001b[0;32m//anaconda/lib/python2.7/urllib2.pyc\u001b[0m in \u001b[0;36mopen\u001b[0;34m(self, fullurl, data, timeout)\u001b[0m\n\u001b[1;32m    429\u001b[0m             \u001b[0mreq\u001b[0m \u001b[0;34m=\u001b[0m \u001b[0mmeth\u001b[0m\u001b[0;34m(\u001b[0m\u001b[0mreq\u001b[0m\u001b[0;34m)\u001b[0m\u001b[0;34m\u001b[0m\u001b[0m\n\u001b[1;32m    430\u001b[0m \u001b[0;34m\u001b[0m\u001b[0m\n\u001b[0;32m--> 431\u001b[0;31m         \u001b[0mresponse\u001b[0m \u001b[0;34m=\u001b[0m \u001b[0mself\u001b[0m\u001b[0;34m.\u001b[0m\u001b[0m_open\u001b[0m\u001b[0;34m(\u001b[0m\u001b[0mreq\u001b[0m\u001b[0;34m,\u001b[0m \u001b[0mdata\u001b[0m\u001b[0;34m)\u001b[0m\u001b[0;34m\u001b[0m\u001b[0m\n\u001b[0m\u001b[1;32m    432\u001b[0m \u001b[0;34m\u001b[0m\u001b[0m\n\u001b[1;32m    433\u001b[0m         \u001b[0;31m# post-process response\u001b[0m\u001b[0;34m\u001b[0m\u001b[0;34m\u001b[0m\u001b[0m\n",
      "\u001b[0;32m//anaconda/lib/python2.7/urllib2.pyc\u001b[0m in \u001b[0;36m_open\u001b[0;34m(self, req, data)\u001b[0m\n\u001b[1;32m    447\u001b[0m         \u001b[0mprotocol\u001b[0m \u001b[0;34m=\u001b[0m \u001b[0mreq\u001b[0m\u001b[0;34m.\u001b[0m\u001b[0mget_type\u001b[0m\u001b[0;34m(\u001b[0m\u001b[0;34m)\u001b[0m\u001b[0;34m\u001b[0m\u001b[0m\n\u001b[1;32m    448\u001b[0m         result = self._call_chain(self.handle_open, protocol, protocol +\n\u001b[0;32m--> 449\u001b[0;31m                                   '_open', req)\n\u001b[0m\u001b[1;32m    450\u001b[0m         \u001b[0;32mif\u001b[0m \u001b[0mresult\u001b[0m\u001b[0;34m:\u001b[0m\u001b[0;34m\u001b[0m\u001b[0m\n\u001b[1;32m    451\u001b[0m             \u001b[0;32mreturn\u001b[0m \u001b[0mresult\u001b[0m\u001b[0;34m\u001b[0m\u001b[0m\n",
      "\u001b[0;32m//anaconda/lib/python2.7/urllib2.pyc\u001b[0m in \u001b[0;36m_call_chain\u001b[0;34m(self, chain, kind, meth_name, *args)\u001b[0m\n\u001b[1;32m    407\u001b[0m             \u001b[0mfunc\u001b[0m \u001b[0;34m=\u001b[0m \u001b[0mgetattr\u001b[0m\u001b[0;34m(\u001b[0m\u001b[0mhandler\u001b[0m\u001b[0;34m,\u001b[0m \u001b[0mmeth_name\u001b[0m\u001b[0;34m)\u001b[0m\u001b[0;34m\u001b[0m\u001b[0m\n\u001b[1;32m    408\u001b[0m \u001b[0;34m\u001b[0m\u001b[0m\n\u001b[0;32m--> 409\u001b[0;31m             \u001b[0mresult\u001b[0m \u001b[0;34m=\u001b[0m \u001b[0mfunc\u001b[0m\u001b[0;34m(\u001b[0m\u001b[0;34m*\u001b[0m\u001b[0margs\u001b[0m\u001b[0;34m)\u001b[0m\u001b[0;34m\u001b[0m\u001b[0m\n\u001b[0m\u001b[1;32m    410\u001b[0m             \u001b[0;32mif\u001b[0m \u001b[0mresult\u001b[0m \u001b[0;32mis\u001b[0m \u001b[0;32mnot\u001b[0m \u001b[0mNone\u001b[0m\u001b[0;34m:\u001b[0m\u001b[0;34m\u001b[0m\u001b[0m\n\u001b[1;32m    411\u001b[0m                 \u001b[0;32mreturn\u001b[0m \u001b[0mresult\u001b[0m\u001b[0;34m\u001b[0m\u001b[0m\n",
      "\u001b[0;32m//anaconda/lib/python2.7/urllib2.pyc\u001b[0m in \u001b[0;36mhttp_open\u001b[0;34m(self, req)\u001b[0m\n\u001b[1;32m   1225\u001b[0m \u001b[0;34m\u001b[0m\u001b[0m\n\u001b[1;32m   1226\u001b[0m     \u001b[0;32mdef\u001b[0m \u001b[0mhttp_open\u001b[0m\u001b[0;34m(\u001b[0m\u001b[0mself\u001b[0m\u001b[0;34m,\u001b[0m \u001b[0mreq\u001b[0m\u001b[0;34m)\u001b[0m\u001b[0;34m:\u001b[0m\u001b[0;34m\u001b[0m\u001b[0m\n\u001b[0;32m-> 1227\u001b[0;31m         \u001b[0;32mreturn\u001b[0m \u001b[0mself\u001b[0m\u001b[0;34m.\u001b[0m\u001b[0mdo_open\u001b[0m\u001b[0;34m(\u001b[0m\u001b[0mhttplib\u001b[0m\u001b[0;34m.\u001b[0m\u001b[0mHTTPConnection\u001b[0m\u001b[0;34m,\u001b[0m \u001b[0mreq\u001b[0m\u001b[0;34m)\u001b[0m\u001b[0;34m\u001b[0m\u001b[0m\n\u001b[0m\u001b[1;32m   1228\u001b[0m \u001b[0;34m\u001b[0m\u001b[0m\n\u001b[1;32m   1229\u001b[0m     \u001b[0mhttp_request\u001b[0m \u001b[0;34m=\u001b[0m \u001b[0mAbstractHTTPHandler\u001b[0m\u001b[0;34m.\u001b[0m\u001b[0mdo_request_\u001b[0m\u001b[0;34m\u001b[0m\u001b[0m\n",
      "\u001b[0;32m//anaconda/lib/python2.7/urllib2.pyc\u001b[0m in \u001b[0;36mdo_open\u001b[0;34m(self, http_class, req, **http_conn_args)\u001b[0m\n\u001b[1;32m   1198\u001b[0m         \u001b[0;32melse\u001b[0m\u001b[0;34m:\u001b[0m\u001b[0;34m\u001b[0m\u001b[0m\n\u001b[1;32m   1199\u001b[0m             \u001b[0;32mtry\u001b[0m\u001b[0;34m:\u001b[0m\u001b[0;34m\u001b[0m\u001b[0m\n\u001b[0;32m-> 1200\u001b[0;31m                 \u001b[0mr\u001b[0m \u001b[0;34m=\u001b[0m \u001b[0mh\u001b[0m\u001b[0;34m.\u001b[0m\u001b[0mgetresponse\u001b[0m\u001b[0;34m(\u001b[0m\u001b[0mbuffering\u001b[0m\u001b[0;34m=\u001b[0m\u001b[0mTrue\u001b[0m\u001b[0;34m)\u001b[0m\u001b[0;34m\u001b[0m\u001b[0m\n\u001b[0m\u001b[1;32m   1201\u001b[0m             \u001b[0;32mexcept\u001b[0m \u001b[0mTypeError\u001b[0m\u001b[0;34m:\u001b[0m \u001b[0;31m# buffering kw not supported\u001b[0m\u001b[0;34m\u001b[0m\u001b[0m\n\u001b[1;32m   1202\u001b[0m                 \u001b[0mr\u001b[0m \u001b[0;34m=\u001b[0m \u001b[0mh\u001b[0m\u001b[0;34m.\u001b[0m\u001b[0mgetresponse\u001b[0m\u001b[0;34m(\u001b[0m\u001b[0;34m)\u001b[0m\u001b[0;34m\u001b[0m\u001b[0m\n",
      "\u001b[0;32m//anaconda/lib/python2.7/httplib.pyc\u001b[0m in \u001b[0;36mgetresponse\u001b[0;34m(self, buffering)\u001b[0m\n\u001b[1;32m   1130\u001b[0m \u001b[0;34m\u001b[0m\u001b[0m\n\u001b[1;32m   1131\u001b[0m         \u001b[0;32mtry\u001b[0m\u001b[0;34m:\u001b[0m\u001b[0;34m\u001b[0m\u001b[0m\n\u001b[0;32m-> 1132\u001b[0;31m             \u001b[0mresponse\u001b[0m\u001b[0;34m.\u001b[0m\u001b[0mbegin\u001b[0m\u001b[0;34m(\u001b[0m\u001b[0;34m)\u001b[0m\u001b[0;34m\u001b[0m\u001b[0m\n\u001b[0m\u001b[1;32m   1133\u001b[0m             \u001b[0;32massert\u001b[0m \u001b[0mresponse\u001b[0m\u001b[0;34m.\u001b[0m\u001b[0mwill_close\u001b[0m \u001b[0;34m!=\u001b[0m \u001b[0m_UNKNOWN\u001b[0m\u001b[0;34m\u001b[0m\u001b[0m\n\u001b[1;32m   1134\u001b[0m             \u001b[0mself\u001b[0m\u001b[0;34m.\u001b[0m\u001b[0m__state\u001b[0m \u001b[0;34m=\u001b[0m \u001b[0m_CS_IDLE\u001b[0m\u001b[0;34m\u001b[0m\u001b[0m\n",
      "\u001b[0;32m//anaconda/lib/python2.7/httplib.pyc\u001b[0m in \u001b[0;36mbegin\u001b[0;34m(self)\u001b[0m\n\u001b[1;32m    451\u001b[0m         \u001b[0;31m# read until we get a non-100 response\u001b[0m\u001b[0;34m\u001b[0m\u001b[0;34m\u001b[0m\u001b[0m\n\u001b[1;32m    452\u001b[0m         \u001b[0;32mwhile\u001b[0m \u001b[0mTrue\u001b[0m\u001b[0;34m:\u001b[0m\u001b[0;34m\u001b[0m\u001b[0m\n\u001b[0;32m--> 453\u001b[0;31m             \u001b[0mversion\u001b[0m\u001b[0;34m,\u001b[0m \u001b[0mstatus\u001b[0m\u001b[0;34m,\u001b[0m \u001b[0mreason\u001b[0m \u001b[0;34m=\u001b[0m \u001b[0mself\u001b[0m\u001b[0;34m.\u001b[0m\u001b[0m_read_status\u001b[0m\u001b[0;34m(\u001b[0m\u001b[0;34m)\u001b[0m\u001b[0;34m\u001b[0m\u001b[0m\n\u001b[0m\u001b[1;32m    454\u001b[0m             \u001b[0;32mif\u001b[0m \u001b[0mstatus\u001b[0m \u001b[0;34m!=\u001b[0m \u001b[0mCONTINUE\u001b[0m\u001b[0;34m:\u001b[0m\u001b[0;34m\u001b[0m\u001b[0m\n\u001b[1;32m    455\u001b[0m                 \u001b[0;32mbreak\u001b[0m\u001b[0;34m\u001b[0m\u001b[0m\n",
      "\u001b[0;32m//anaconda/lib/python2.7/httplib.pyc\u001b[0m in \u001b[0;36m_read_status\u001b[0;34m(self)\u001b[0m\n\u001b[1;32m    407\u001b[0m     \u001b[0;32mdef\u001b[0m \u001b[0m_read_status\u001b[0m\u001b[0;34m(\u001b[0m\u001b[0mself\u001b[0m\u001b[0;34m)\u001b[0m\u001b[0;34m:\u001b[0m\u001b[0;34m\u001b[0m\u001b[0m\n\u001b[1;32m    408\u001b[0m         \u001b[0;31m# Initialize with Simple-Response defaults\u001b[0m\u001b[0;34m\u001b[0m\u001b[0;34m\u001b[0m\u001b[0m\n\u001b[0;32m--> 409\u001b[0;31m         \u001b[0mline\u001b[0m \u001b[0;34m=\u001b[0m \u001b[0mself\u001b[0m\u001b[0;34m.\u001b[0m\u001b[0mfp\u001b[0m\u001b[0;34m.\u001b[0m\u001b[0mreadline\u001b[0m\u001b[0;34m(\u001b[0m\u001b[0m_MAXLINE\u001b[0m \u001b[0;34m+\u001b[0m \u001b[0;36m1\u001b[0m\u001b[0;34m)\u001b[0m\u001b[0;34m\u001b[0m\u001b[0m\n\u001b[0m\u001b[1;32m    410\u001b[0m         \u001b[0;32mif\u001b[0m \u001b[0mlen\u001b[0m\u001b[0;34m(\u001b[0m\u001b[0mline\u001b[0m\u001b[0;34m)\u001b[0m \u001b[0;34m>\u001b[0m \u001b[0m_MAXLINE\u001b[0m\u001b[0;34m:\u001b[0m\u001b[0;34m\u001b[0m\u001b[0m\n\u001b[1;32m    411\u001b[0m             \u001b[0;32mraise\u001b[0m \u001b[0mLineTooLong\u001b[0m\u001b[0;34m(\u001b[0m\u001b[0;34m\"header line\"\u001b[0m\u001b[0;34m)\u001b[0m\u001b[0;34m\u001b[0m\u001b[0m\n",
      "\u001b[0;32m//anaconda/lib/python2.7/socket.pyc\u001b[0m in \u001b[0;36mreadline\u001b[0;34m(self, size)\u001b[0m\n\u001b[1;32m    478\u001b[0m             \u001b[0;32mwhile\u001b[0m \u001b[0mTrue\u001b[0m\u001b[0;34m:\u001b[0m\u001b[0;34m\u001b[0m\u001b[0m\n\u001b[1;32m    479\u001b[0m                 \u001b[0;32mtry\u001b[0m\u001b[0;34m:\u001b[0m\u001b[0;34m\u001b[0m\u001b[0m\n\u001b[0;32m--> 480\u001b[0;31m                     \u001b[0mdata\u001b[0m \u001b[0;34m=\u001b[0m \u001b[0mself\u001b[0m\u001b[0;34m.\u001b[0m\u001b[0m_sock\u001b[0m\u001b[0;34m.\u001b[0m\u001b[0mrecv\u001b[0m\u001b[0;34m(\u001b[0m\u001b[0mself\u001b[0m\u001b[0;34m.\u001b[0m\u001b[0m_rbufsize\u001b[0m\u001b[0;34m)\u001b[0m\u001b[0;34m\u001b[0m\u001b[0m\n\u001b[0m\u001b[1;32m    481\u001b[0m                 \u001b[0;32mexcept\u001b[0m \u001b[0merror\u001b[0m\u001b[0;34m,\u001b[0m \u001b[0me\u001b[0m\u001b[0;34m:\u001b[0m\u001b[0;34m\u001b[0m\u001b[0m\n\u001b[1;32m    482\u001b[0m                     \u001b[0;32mif\u001b[0m \u001b[0me\u001b[0m\u001b[0;34m.\u001b[0m\u001b[0margs\u001b[0m\u001b[0;34m[\u001b[0m\u001b[0;36m0\u001b[0m\u001b[0;34m]\u001b[0m \u001b[0;34m==\u001b[0m \u001b[0mEINTR\u001b[0m\u001b[0;34m:\u001b[0m\u001b[0;34m\u001b[0m\u001b[0m\n",
      "\u001b[0;31mtimeout\u001b[0m: timed out"
     ]
    }
   ],
   "source": [
    "office_chair_links = get_wayfair_product_links(office_chair_index, num_pages=21)\n",
    "print len(office_chair_links)\n",
    "link_0 = office_chair_links[0]\n",
    "dict_0 = wayfair_product_info_scrapper(link_0, category_input= 'office_chair')\n",
    "office_chair_df = pd.DataFrame([dict_0], index=[0])\n",
    "print office_chair_df\n",
    "i = 1\n",
    "for link in office_chair_links[1:]:\n",
    "    product_dict = wayfair_product_info_scrapper(link, category_input='office_chair')\n",
    "    df_product = pd.DataFrame([product_dict], index=[i])\n",
    "    office_chair_df = pd.concat([office_chair_df, df_product], axis=0)\n",
    "    i += 1\n",
    "    if i % 20 == 0:\n",
    "        print i"
   ]
  },
  {
   "cell_type": "code",
   "execution_count": 477,
   "metadata": {
    "collapsed": false
   },
   "outputs": [
    {
     "name": "stdout",
     "output_type": "stream",
     "text": [
      "<class 'pandas.core.frame.DataFrame'>\n",
      "Int64Index: 156 entries, 0 to 155\n",
      "Data columns (total 15 columns):\n",
      "category                156 non-null object\n",
      "colors                  156 non-null object\n",
      "description             106 non-null object\n",
      "features                156 non-null object\n",
      "image_links_all         156 non-null object\n",
      "image_links_by_color    156 non-null object\n",
      "manufacturer            156 non-null object\n",
      "price                   156 non-null object\n",
      "product_id              156 non-null object\n",
      "rating_avg              152 non-null object\n",
      "rating_count            152 non-null object\n",
      "specs                   156 non-null object\n",
      "title                   156 non-null object\n",
      "url                     156 non-null object\n",
      "website                 156 non-null object\n",
      "dtypes: object(15)\n",
      "memory usage: 19.5+ KB\n"
     ]
    }
   ],
   "source": [
    "office_chair_df.info()"
   ]
  },
  {
   "cell_type": "code",
   "execution_count": 478,
   "metadata": {
    "collapsed": false
   },
   "outputs": [
    {
     "name": "stdout",
     "output_type": "stream",
     "text": [
      "160\n",
      "180\n",
      "200\n",
      "220\n",
      "240\n",
      "260\n",
      "280\n",
      "300\n",
      "320\n"
     ]
    },
    {
     "ename": "error",
     "evalue": "[Errno 60] Operation timed out",
     "output_type": "error",
     "traceback": [
      "\u001b[0;31m---------------------------------------------------------------------------\u001b[0m",
      "\u001b[0;31merror\u001b[0m                                     Traceback (most recent call last)",
      "\u001b[0;32m<ipython-input-478-6902f21e05ae>\u001b[0m in \u001b[0;36m<module>\u001b[0;34m()\u001b[0m\n\u001b[1;32m      1\u001b[0m \u001b[0mi\u001b[0m \u001b[0;34m=\u001b[0m \u001b[0;36m156\u001b[0m\u001b[0;34m\u001b[0m\u001b[0m\n\u001b[1;32m      2\u001b[0m \u001b[0;32mfor\u001b[0m \u001b[0mlink\u001b[0m \u001b[0;32min\u001b[0m \u001b[0moffice_chair_links\u001b[0m\u001b[0;34m[\u001b[0m\u001b[0;36m156\u001b[0m\u001b[0;34m:\u001b[0m\u001b[0;34m]\u001b[0m\u001b[0;34m:\u001b[0m\u001b[0;34m\u001b[0m\u001b[0m\n\u001b[0;32m----> 3\u001b[0;31m     \u001b[0mproduct_dict\u001b[0m \u001b[0;34m=\u001b[0m \u001b[0mwayfair_product_info_scrapper\u001b[0m\u001b[0;34m(\u001b[0m\u001b[0mlink\u001b[0m\u001b[0;34m,\u001b[0m \u001b[0mcategory_input\u001b[0m\u001b[0;34m=\u001b[0m\u001b[0;34m'office_chair'\u001b[0m\u001b[0;34m)\u001b[0m\u001b[0;34m\u001b[0m\u001b[0m\n\u001b[0m\u001b[1;32m      4\u001b[0m     \u001b[0mdf_product\u001b[0m \u001b[0;34m=\u001b[0m \u001b[0mpd\u001b[0m\u001b[0;34m.\u001b[0m\u001b[0mDataFrame\u001b[0m\u001b[0;34m(\u001b[0m\u001b[0;34m[\u001b[0m\u001b[0mproduct_dict\u001b[0m\u001b[0;34m]\u001b[0m\u001b[0;34m,\u001b[0m \u001b[0mindex\u001b[0m\u001b[0;34m=\u001b[0m\u001b[0;34m[\u001b[0m\u001b[0mi\u001b[0m\u001b[0;34m]\u001b[0m\u001b[0;34m)\u001b[0m\u001b[0;34m\u001b[0m\u001b[0m\n\u001b[1;32m      5\u001b[0m     \u001b[0moffice_chair_df\u001b[0m \u001b[0;34m=\u001b[0m \u001b[0mpd\u001b[0m\u001b[0;34m.\u001b[0m\u001b[0mconcat\u001b[0m\u001b[0;34m(\u001b[0m\u001b[0;34m[\u001b[0m\u001b[0moffice_chair_df\u001b[0m\u001b[0;34m,\u001b[0m \u001b[0mdf_product\u001b[0m\u001b[0;34m]\u001b[0m\u001b[0;34m,\u001b[0m \u001b[0maxis\u001b[0m\u001b[0;34m=\u001b[0m\u001b[0;36m0\u001b[0m\u001b[0;34m)\u001b[0m\u001b[0;34m\u001b[0m\u001b[0m\n",
      "\u001b[0;32m<ipython-input-443-bb9ace42025d>\u001b[0m in \u001b[0;36mwayfair_product_info_scrapper\u001b[0;34m(link, category_input)\u001b[0m\n\u001b[1;32m     81\u001b[0m             \u001b[0mcolor_key\u001b[0m \u001b[0;34m=\u001b[0m \u001b[0mcolors\u001b[0m\u001b[0;34m[\u001b[0m\u001b[0mi\u001b[0m\u001b[0;34m]\u001b[0m\u001b[0;34m\u001b[0m\u001b[0m\n\u001b[1;32m     82\u001b[0m             \u001b[0mlink_color\u001b[0m \u001b[0;34m=\u001b[0m \u001b[0mlink\u001b[0m \u001b[0;34m+\u001b[0m \u001b[0mcolor_link\u001b[0m\u001b[0;34m\u001b[0m\u001b[0m\n\u001b[0;32m---> 83\u001b[0;31m             \u001b[0mhtml_color\u001b[0m  \u001b[0;34m=\u001b[0m \u001b[0murlopen\u001b[0m\u001b[0;34m(\u001b[0m\u001b[0mlink_color\u001b[0m\u001b[0;34m,\u001b[0m \u001b[0mtimeout\u001b[0m\u001b[0;34m=\u001b[0m\u001b[0;36m100\u001b[0m\u001b[0;34m)\u001b[0m\u001b[0;34m\u001b[0m\u001b[0m\n\u001b[0m\u001b[1;32m     84\u001b[0m             \u001b[0msoup_color\u001b[0m \u001b[0;34m=\u001b[0m \u001b[0mBeautifulSoup\u001b[0m\u001b[0;34m(\u001b[0m\u001b[0mhtml_color\u001b[0m\u001b[0;34m,\u001b[0m \u001b[0;34m'html.parser'\u001b[0m\u001b[0;34m)\u001b[0m\u001b[0;34m\u001b[0m\u001b[0m\n\u001b[1;32m     85\u001b[0m             \u001b[0mimage_info_color\u001b[0m \u001b[0;34m=\u001b[0m \u001b[0msoup_color\u001b[0m\u001b[0;34m.\u001b[0m\u001b[0mfindAll\u001b[0m\u001b[0;34m(\u001b[0m\u001b[0;34m'a'\u001b[0m\u001b[0;34m,\u001b[0m \u001b[0;34m{\u001b[0m\u001b[0;34m'class'\u001b[0m\u001b[0;34m:\u001b[0m \u001b[0;34m'photoswipe_link'\u001b[0m\u001b[0;34m}\u001b[0m\u001b[0;34m)\u001b[0m\u001b[0;34m\u001b[0m\u001b[0m\n",
      "\u001b[0;32m//anaconda/lib/python2.7/urllib2.pyc\u001b[0m in \u001b[0;36murlopen\u001b[0;34m(url, data, timeout, cafile, capath, cadefault, context)\u001b[0m\n\u001b[1;32m    152\u001b[0m     \u001b[0;32melse\u001b[0m\u001b[0;34m:\u001b[0m\u001b[0;34m\u001b[0m\u001b[0m\n\u001b[1;32m    153\u001b[0m         \u001b[0mopener\u001b[0m \u001b[0;34m=\u001b[0m \u001b[0m_opener\u001b[0m\u001b[0;34m\u001b[0m\u001b[0m\n\u001b[0;32m--> 154\u001b[0;31m     \u001b[0;32mreturn\u001b[0m \u001b[0mopener\u001b[0m\u001b[0;34m.\u001b[0m\u001b[0mopen\u001b[0m\u001b[0;34m(\u001b[0m\u001b[0murl\u001b[0m\u001b[0;34m,\u001b[0m \u001b[0mdata\u001b[0m\u001b[0;34m,\u001b[0m \u001b[0mtimeout\u001b[0m\u001b[0;34m)\u001b[0m\u001b[0;34m\u001b[0m\u001b[0m\n\u001b[0m\u001b[1;32m    155\u001b[0m \u001b[0;34m\u001b[0m\u001b[0m\n\u001b[1;32m    156\u001b[0m \u001b[0;32mdef\u001b[0m \u001b[0minstall_opener\u001b[0m\u001b[0;34m(\u001b[0m\u001b[0mopener\u001b[0m\u001b[0;34m)\u001b[0m\u001b[0;34m:\u001b[0m\u001b[0;34m\u001b[0m\u001b[0m\n",
      "\u001b[0;32m//anaconda/lib/python2.7/urllib2.pyc\u001b[0m in \u001b[0;36mopen\u001b[0;34m(self, fullurl, data, timeout)\u001b[0m\n\u001b[1;32m    429\u001b[0m             \u001b[0mreq\u001b[0m \u001b[0;34m=\u001b[0m \u001b[0mmeth\u001b[0m\u001b[0;34m(\u001b[0m\u001b[0mreq\u001b[0m\u001b[0;34m)\u001b[0m\u001b[0;34m\u001b[0m\u001b[0m\n\u001b[1;32m    430\u001b[0m \u001b[0;34m\u001b[0m\u001b[0m\n\u001b[0;32m--> 431\u001b[0;31m         \u001b[0mresponse\u001b[0m \u001b[0;34m=\u001b[0m \u001b[0mself\u001b[0m\u001b[0;34m.\u001b[0m\u001b[0m_open\u001b[0m\u001b[0;34m(\u001b[0m\u001b[0mreq\u001b[0m\u001b[0;34m,\u001b[0m \u001b[0mdata\u001b[0m\u001b[0;34m)\u001b[0m\u001b[0;34m\u001b[0m\u001b[0m\n\u001b[0m\u001b[1;32m    432\u001b[0m \u001b[0;34m\u001b[0m\u001b[0m\n\u001b[1;32m    433\u001b[0m         \u001b[0;31m# post-process response\u001b[0m\u001b[0;34m\u001b[0m\u001b[0;34m\u001b[0m\u001b[0m\n",
      "\u001b[0;32m//anaconda/lib/python2.7/urllib2.pyc\u001b[0m in \u001b[0;36m_open\u001b[0;34m(self, req, data)\u001b[0m\n\u001b[1;32m    447\u001b[0m         \u001b[0mprotocol\u001b[0m \u001b[0;34m=\u001b[0m \u001b[0mreq\u001b[0m\u001b[0;34m.\u001b[0m\u001b[0mget_type\u001b[0m\u001b[0;34m(\u001b[0m\u001b[0;34m)\u001b[0m\u001b[0;34m\u001b[0m\u001b[0m\n\u001b[1;32m    448\u001b[0m         result = self._call_chain(self.handle_open, protocol, protocol +\n\u001b[0;32m--> 449\u001b[0;31m                                   '_open', req)\n\u001b[0m\u001b[1;32m    450\u001b[0m         \u001b[0;32mif\u001b[0m \u001b[0mresult\u001b[0m\u001b[0;34m:\u001b[0m\u001b[0;34m\u001b[0m\u001b[0m\n\u001b[1;32m    451\u001b[0m             \u001b[0;32mreturn\u001b[0m \u001b[0mresult\u001b[0m\u001b[0;34m\u001b[0m\u001b[0m\n",
      "\u001b[0;32m//anaconda/lib/python2.7/urllib2.pyc\u001b[0m in \u001b[0;36m_call_chain\u001b[0;34m(self, chain, kind, meth_name, *args)\u001b[0m\n\u001b[1;32m    407\u001b[0m             \u001b[0mfunc\u001b[0m \u001b[0;34m=\u001b[0m \u001b[0mgetattr\u001b[0m\u001b[0;34m(\u001b[0m\u001b[0mhandler\u001b[0m\u001b[0;34m,\u001b[0m \u001b[0mmeth_name\u001b[0m\u001b[0;34m)\u001b[0m\u001b[0;34m\u001b[0m\u001b[0m\n\u001b[1;32m    408\u001b[0m \u001b[0;34m\u001b[0m\u001b[0m\n\u001b[0;32m--> 409\u001b[0;31m             \u001b[0mresult\u001b[0m \u001b[0;34m=\u001b[0m \u001b[0mfunc\u001b[0m\u001b[0;34m(\u001b[0m\u001b[0;34m*\u001b[0m\u001b[0margs\u001b[0m\u001b[0;34m)\u001b[0m\u001b[0;34m\u001b[0m\u001b[0m\n\u001b[0m\u001b[1;32m    410\u001b[0m             \u001b[0;32mif\u001b[0m \u001b[0mresult\u001b[0m \u001b[0;32mis\u001b[0m \u001b[0;32mnot\u001b[0m \u001b[0mNone\u001b[0m\u001b[0;34m:\u001b[0m\u001b[0;34m\u001b[0m\u001b[0m\n\u001b[1;32m    411\u001b[0m                 \u001b[0;32mreturn\u001b[0m \u001b[0mresult\u001b[0m\u001b[0;34m\u001b[0m\u001b[0m\n",
      "\u001b[0;32m//anaconda/lib/python2.7/urllib2.pyc\u001b[0m in \u001b[0;36mhttp_open\u001b[0;34m(self, req)\u001b[0m\n\u001b[1;32m   1225\u001b[0m \u001b[0;34m\u001b[0m\u001b[0m\n\u001b[1;32m   1226\u001b[0m     \u001b[0;32mdef\u001b[0m \u001b[0mhttp_open\u001b[0m\u001b[0;34m(\u001b[0m\u001b[0mself\u001b[0m\u001b[0;34m,\u001b[0m \u001b[0mreq\u001b[0m\u001b[0;34m)\u001b[0m\u001b[0;34m:\u001b[0m\u001b[0;34m\u001b[0m\u001b[0m\n\u001b[0;32m-> 1227\u001b[0;31m         \u001b[0;32mreturn\u001b[0m \u001b[0mself\u001b[0m\u001b[0;34m.\u001b[0m\u001b[0mdo_open\u001b[0m\u001b[0;34m(\u001b[0m\u001b[0mhttplib\u001b[0m\u001b[0;34m.\u001b[0m\u001b[0mHTTPConnection\u001b[0m\u001b[0;34m,\u001b[0m \u001b[0mreq\u001b[0m\u001b[0;34m)\u001b[0m\u001b[0;34m\u001b[0m\u001b[0m\n\u001b[0m\u001b[1;32m   1228\u001b[0m \u001b[0;34m\u001b[0m\u001b[0m\n\u001b[1;32m   1229\u001b[0m     \u001b[0mhttp_request\u001b[0m \u001b[0;34m=\u001b[0m \u001b[0mAbstractHTTPHandler\u001b[0m\u001b[0;34m.\u001b[0m\u001b[0mdo_request_\u001b[0m\u001b[0;34m\u001b[0m\u001b[0m\n",
      "\u001b[0;32m//anaconda/lib/python2.7/urllib2.pyc\u001b[0m in \u001b[0;36mdo_open\u001b[0;34m(self, http_class, req, **http_conn_args)\u001b[0m\n\u001b[1;32m   1198\u001b[0m         \u001b[0;32melse\u001b[0m\u001b[0;34m:\u001b[0m\u001b[0;34m\u001b[0m\u001b[0m\n\u001b[1;32m   1199\u001b[0m             \u001b[0;32mtry\u001b[0m\u001b[0;34m:\u001b[0m\u001b[0;34m\u001b[0m\u001b[0m\n\u001b[0;32m-> 1200\u001b[0;31m                 \u001b[0mr\u001b[0m \u001b[0;34m=\u001b[0m \u001b[0mh\u001b[0m\u001b[0;34m.\u001b[0m\u001b[0mgetresponse\u001b[0m\u001b[0;34m(\u001b[0m\u001b[0mbuffering\u001b[0m\u001b[0;34m=\u001b[0m\u001b[0mTrue\u001b[0m\u001b[0;34m)\u001b[0m\u001b[0;34m\u001b[0m\u001b[0m\n\u001b[0m\u001b[1;32m   1201\u001b[0m             \u001b[0;32mexcept\u001b[0m \u001b[0mTypeError\u001b[0m\u001b[0;34m:\u001b[0m \u001b[0;31m# buffering kw not supported\u001b[0m\u001b[0;34m\u001b[0m\u001b[0m\n\u001b[1;32m   1202\u001b[0m                 \u001b[0mr\u001b[0m \u001b[0;34m=\u001b[0m \u001b[0mh\u001b[0m\u001b[0;34m.\u001b[0m\u001b[0mgetresponse\u001b[0m\u001b[0;34m(\u001b[0m\u001b[0;34m)\u001b[0m\u001b[0;34m\u001b[0m\u001b[0m\n",
      "\u001b[0;32m//anaconda/lib/python2.7/httplib.pyc\u001b[0m in \u001b[0;36mgetresponse\u001b[0;34m(self, buffering)\u001b[0m\n\u001b[1;32m   1130\u001b[0m \u001b[0;34m\u001b[0m\u001b[0m\n\u001b[1;32m   1131\u001b[0m         \u001b[0;32mtry\u001b[0m\u001b[0;34m:\u001b[0m\u001b[0;34m\u001b[0m\u001b[0m\n\u001b[0;32m-> 1132\u001b[0;31m             \u001b[0mresponse\u001b[0m\u001b[0;34m.\u001b[0m\u001b[0mbegin\u001b[0m\u001b[0;34m(\u001b[0m\u001b[0;34m)\u001b[0m\u001b[0;34m\u001b[0m\u001b[0m\n\u001b[0m\u001b[1;32m   1133\u001b[0m             \u001b[0;32massert\u001b[0m \u001b[0mresponse\u001b[0m\u001b[0;34m.\u001b[0m\u001b[0mwill_close\u001b[0m \u001b[0;34m!=\u001b[0m \u001b[0m_UNKNOWN\u001b[0m\u001b[0;34m\u001b[0m\u001b[0m\n\u001b[1;32m   1134\u001b[0m             \u001b[0mself\u001b[0m\u001b[0;34m.\u001b[0m\u001b[0m__state\u001b[0m \u001b[0;34m=\u001b[0m \u001b[0m_CS_IDLE\u001b[0m\u001b[0;34m\u001b[0m\u001b[0m\n",
      "\u001b[0;32m//anaconda/lib/python2.7/httplib.pyc\u001b[0m in \u001b[0;36mbegin\u001b[0;34m(self)\u001b[0m\n\u001b[1;32m    451\u001b[0m         \u001b[0;31m# read until we get a non-100 response\u001b[0m\u001b[0;34m\u001b[0m\u001b[0;34m\u001b[0m\u001b[0m\n\u001b[1;32m    452\u001b[0m         \u001b[0;32mwhile\u001b[0m \u001b[0mTrue\u001b[0m\u001b[0;34m:\u001b[0m\u001b[0;34m\u001b[0m\u001b[0m\n\u001b[0;32m--> 453\u001b[0;31m             \u001b[0mversion\u001b[0m\u001b[0;34m,\u001b[0m \u001b[0mstatus\u001b[0m\u001b[0;34m,\u001b[0m \u001b[0mreason\u001b[0m \u001b[0;34m=\u001b[0m \u001b[0mself\u001b[0m\u001b[0;34m.\u001b[0m\u001b[0m_read_status\u001b[0m\u001b[0;34m(\u001b[0m\u001b[0;34m)\u001b[0m\u001b[0;34m\u001b[0m\u001b[0m\n\u001b[0m\u001b[1;32m    454\u001b[0m             \u001b[0;32mif\u001b[0m \u001b[0mstatus\u001b[0m \u001b[0;34m!=\u001b[0m \u001b[0mCONTINUE\u001b[0m\u001b[0;34m:\u001b[0m\u001b[0;34m\u001b[0m\u001b[0m\n\u001b[1;32m    455\u001b[0m                 \u001b[0;32mbreak\u001b[0m\u001b[0;34m\u001b[0m\u001b[0m\n",
      "\u001b[0;32m//anaconda/lib/python2.7/httplib.pyc\u001b[0m in \u001b[0;36m_read_status\u001b[0;34m(self)\u001b[0m\n\u001b[1;32m    407\u001b[0m     \u001b[0;32mdef\u001b[0m \u001b[0m_read_status\u001b[0m\u001b[0;34m(\u001b[0m\u001b[0mself\u001b[0m\u001b[0;34m)\u001b[0m\u001b[0;34m:\u001b[0m\u001b[0;34m\u001b[0m\u001b[0m\n\u001b[1;32m    408\u001b[0m         \u001b[0;31m# Initialize with Simple-Response defaults\u001b[0m\u001b[0;34m\u001b[0m\u001b[0;34m\u001b[0m\u001b[0m\n\u001b[0;32m--> 409\u001b[0;31m         \u001b[0mline\u001b[0m \u001b[0;34m=\u001b[0m \u001b[0mself\u001b[0m\u001b[0;34m.\u001b[0m\u001b[0mfp\u001b[0m\u001b[0;34m.\u001b[0m\u001b[0mreadline\u001b[0m\u001b[0;34m(\u001b[0m\u001b[0m_MAXLINE\u001b[0m \u001b[0;34m+\u001b[0m \u001b[0;36m1\u001b[0m\u001b[0;34m)\u001b[0m\u001b[0;34m\u001b[0m\u001b[0m\n\u001b[0m\u001b[1;32m    410\u001b[0m         \u001b[0;32mif\u001b[0m \u001b[0mlen\u001b[0m\u001b[0;34m(\u001b[0m\u001b[0mline\u001b[0m\u001b[0;34m)\u001b[0m \u001b[0;34m>\u001b[0m \u001b[0m_MAXLINE\u001b[0m\u001b[0;34m:\u001b[0m\u001b[0;34m\u001b[0m\u001b[0m\n\u001b[1;32m    411\u001b[0m             \u001b[0;32mraise\u001b[0m \u001b[0mLineTooLong\u001b[0m\u001b[0;34m(\u001b[0m\u001b[0;34m\"header line\"\u001b[0m\u001b[0;34m)\u001b[0m\u001b[0;34m\u001b[0m\u001b[0m\n",
      "\u001b[0;32m//anaconda/lib/python2.7/socket.pyc\u001b[0m in \u001b[0;36mreadline\u001b[0;34m(self, size)\u001b[0m\n\u001b[1;32m    478\u001b[0m             \u001b[0;32mwhile\u001b[0m \u001b[0mTrue\u001b[0m\u001b[0;34m:\u001b[0m\u001b[0;34m\u001b[0m\u001b[0m\n\u001b[1;32m    479\u001b[0m                 \u001b[0;32mtry\u001b[0m\u001b[0;34m:\u001b[0m\u001b[0;34m\u001b[0m\u001b[0m\n\u001b[0;32m--> 480\u001b[0;31m                     \u001b[0mdata\u001b[0m \u001b[0;34m=\u001b[0m \u001b[0mself\u001b[0m\u001b[0;34m.\u001b[0m\u001b[0m_sock\u001b[0m\u001b[0;34m.\u001b[0m\u001b[0mrecv\u001b[0m\u001b[0;34m(\u001b[0m\u001b[0mself\u001b[0m\u001b[0;34m.\u001b[0m\u001b[0m_rbufsize\u001b[0m\u001b[0;34m)\u001b[0m\u001b[0;34m\u001b[0m\u001b[0m\n\u001b[0m\u001b[1;32m    481\u001b[0m                 \u001b[0;32mexcept\u001b[0m \u001b[0merror\u001b[0m\u001b[0;34m,\u001b[0m \u001b[0me\u001b[0m\u001b[0;34m:\u001b[0m\u001b[0;34m\u001b[0m\u001b[0m\n\u001b[1;32m    482\u001b[0m                     \u001b[0;32mif\u001b[0m \u001b[0me\u001b[0m\u001b[0;34m.\u001b[0m\u001b[0margs\u001b[0m\u001b[0;34m[\u001b[0m\u001b[0;36m0\u001b[0m\u001b[0;34m]\u001b[0m \u001b[0;34m==\u001b[0m \u001b[0mEINTR\u001b[0m\u001b[0;34m:\u001b[0m\u001b[0;34m\u001b[0m\u001b[0m\n",
      "\u001b[0;31merror\u001b[0m: [Errno 60] Operation timed out"
     ]
    }
   ],
   "source": [
    "i = 156\n",
    "for link in office_chair_links[156:]:\n",
    "    product_dict = wayfair_product_info_scrapper(link, category_input='office_chair')\n",
    "    df_product = pd.DataFrame([product_dict], index=[i])\n",
    "    office_chair_df = pd.concat([office_chair_df, df_product], axis=0)\n",
    "    i += 1\n",
    "    if i % 20 == 0:\n",
    "        print i"
   ]
  },
  {
   "cell_type": "code",
   "execution_count": 479,
   "metadata": {
    "collapsed": false
   },
   "outputs": [
    {
     "name": "stdout",
     "output_type": "stream",
     "text": [
      "<class 'pandas.core.frame.DataFrame'>\n",
      "Int64Index: 322 entries, 0 to 321\n",
      "Data columns (total 15 columns):\n",
      "category                322 non-null object\n",
      "colors                  322 non-null object\n",
      "description             201 non-null object\n",
      "features                322 non-null object\n",
      "image_links_all         322 non-null object\n",
      "image_links_by_color    322 non-null object\n",
      "manufacturer            322 non-null object\n",
      "price                   322 non-null object\n",
      "product_id              322 non-null object\n",
      "rating_avg              311 non-null object\n",
      "rating_count            311 non-null object\n",
      "specs                   322 non-null object\n",
      "title                   322 non-null object\n",
      "url                     322 non-null object\n",
      "website                 322 non-null object\n",
      "dtypes: object(15)\n",
      "memory usage: 40.2+ KB\n"
     ]
    }
   ],
   "source": [
    "office_chair_df.info()"
   ]
  },
  {
   "cell_type": "code",
   "execution_count": 480,
   "metadata": {
    "collapsed": false
   },
   "outputs": [
    {
     "name": "stdout",
     "output_type": "stream",
     "text": [
      "340\n",
      "360\n",
      "380\n",
      "400\n",
      "420\n",
      "440\n",
      "460\n",
      "480\n",
      "500\n",
      "520\n",
      "540\n"
     ]
    },
    {
     "ename": "error",
     "evalue": "[Errno 60] Operation timed out",
     "output_type": "error",
     "traceback": [
      "\u001b[0;31m---------------------------------------------------------------------------\u001b[0m",
      "\u001b[0;31merror\u001b[0m                                     Traceback (most recent call last)",
      "\u001b[0;32m<ipython-input-480-c2e047de7941>\u001b[0m in \u001b[0;36m<module>\u001b[0;34m()\u001b[0m\n\u001b[1;32m      1\u001b[0m \u001b[0mi\u001b[0m \u001b[0;34m=\u001b[0m \u001b[0;36m322\u001b[0m\u001b[0;34m\u001b[0m\u001b[0m\n\u001b[1;32m      2\u001b[0m \u001b[0;32mfor\u001b[0m \u001b[0mlink\u001b[0m \u001b[0;32min\u001b[0m \u001b[0moffice_chair_links\u001b[0m\u001b[0;34m[\u001b[0m\u001b[0;36m322\u001b[0m\u001b[0;34m:\u001b[0m\u001b[0;34m]\u001b[0m\u001b[0;34m:\u001b[0m\u001b[0;34m\u001b[0m\u001b[0m\n\u001b[0;32m----> 3\u001b[0;31m     \u001b[0mproduct_dict\u001b[0m \u001b[0;34m=\u001b[0m \u001b[0mwayfair_product_info_scrapper\u001b[0m\u001b[0;34m(\u001b[0m\u001b[0mlink\u001b[0m\u001b[0;34m,\u001b[0m \u001b[0mcategory_input\u001b[0m\u001b[0;34m=\u001b[0m\u001b[0;34m'office_chair'\u001b[0m\u001b[0;34m)\u001b[0m\u001b[0;34m\u001b[0m\u001b[0m\n\u001b[0m\u001b[1;32m      4\u001b[0m     \u001b[0mdf_product\u001b[0m \u001b[0;34m=\u001b[0m \u001b[0mpd\u001b[0m\u001b[0;34m.\u001b[0m\u001b[0mDataFrame\u001b[0m\u001b[0;34m(\u001b[0m\u001b[0;34m[\u001b[0m\u001b[0mproduct_dict\u001b[0m\u001b[0;34m]\u001b[0m\u001b[0;34m,\u001b[0m \u001b[0mindex\u001b[0m\u001b[0;34m=\u001b[0m\u001b[0;34m[\u001b[0m\u001b[0mi\u001b[0m\u001b[0;34m]\u001b[0m\u001b[0;34m)\u001b[0m\u001b[0;34m\u001b[0m\u001b[0m\n\u001b[1;32m      5\u001b[0m     \u001b[0moffice_chair_df\u001b[0m \u001b[0;34m=\u001b[0m \u001b[0mpd\u001b[0m\u001b[0;34m.\u001b[0m\u001b[0mconcat\u001b[0m\u001b[0;34m(\u001b[0m\u001b[0;34m[\u001b[0m\u001b[0moffice_chair_df\u001b[0m\u001b[0;34m,\u001b[0m \u001b[0mdf_product\u001b[0m\u001b[0;34m]\u001b[0m\u001b[0;34m,\u001b[0m \u001b[0maxis\u001b[0m\u001b[0;34m=\u001b[0m\u001b[0;36m0\u001b[0m\u001b[0;34m)\u001b[0m\u001b[0;34m\u001b[0m\u001b[0m\n",
      "\u001b[0;32m<ipython-input-443-bb9ace42025d>\u001b[0m in \u001b[0;36mwayfair_product_info_scrapper\u001b[0;34m(link, category_input)\u001b[0m\n\u001b[1;32m     81\u001b[0m             \u001b[0mcolor_key\u001b[0m \u001b[0;34m=\u001b[0m \u001b[0mcolors\u001b[0m\u001b[0;34m[\u001b[0m\u001b[0mi\u001b[0m\u001b[0;34m]\u001b[0m\u001b[0;34m\u001b[0m\u001b[0m\n\u001b[1;32m     82\u001b[0m             \u001b[0mlink_color\u001b[0m \u001b[0;34m=\u001b[0m \u001b[0mlink\u001b[0m \u001b[0;34m+\u001b[0m \u001b[0mcolor_link\u001b[0m\u001b[0;34m\u001b[0m\u001b[0m\n\u001b[0;32m---> 83\u001b[0;31m             \u001b[0mhtml_color\u001b[0m  \u001b[0;34m=\u001b[0m \u001b[0murlopen\u001b[0m\u001b[0;34m(\u001b[0m\u001b[0mlink_color\u001b[0m\u001b[0;34m,\u001b[0m \u001b[0mtimeout\u001b[0m\u001b[0;34m=\u001b[0m\u001b[0;36m100\u001b[0m\u001b[0;34m)\u001b[0m\u001b[0;34m\u001b[0m\u001b[0m\n\u001b[0m\u001b[1;32m     84\u001b[0m             \u001b[0msoup_color\u001b[0m \u001b[0;34m=\u001b[0m \u001b[0mBeautifulSoup\u001b[0m\u001b[0;34m(\u001b[0m\u001b[0mhtml_color\u001b[0m\u001b[0;34m,\u001b[0m \u001b[0;34m'html.parser'\u001b[0m\u001b[0;34m)\u001b[0m\u001b[0;34m\u001b[0m\u001b[0m\n\u001b[1;32m     85\u001b[0m             \u001b[0mimage_info_color\u001b[0m \u001b[0;34m=\u001b[0m \u001b[0msoup_color\u001b[0m\u001b[0;34m.\u001b[0m\u001b[0mfindAll\u001b[0m\u001b[0;34m(\u001b[0m\u001b[0;34m'a'\u001b[0m\u001b[0;34m,\u001b[0m \u001b[0;34m{\u001b[0m\u001b[0;34m'class'\u001b[0m\u001b[0;34m:\u001b[0m \u001b[0;34m'photoswipe_link'\u001b[0m\u001b[0;34m}\u001b[0m\u001b[0;34m)\u001b[0m\u001b[0;34m\u001b[0m\u001b[0m\n",
      "\u001b[0;32m//anaconda/lib/python2.7/urllib2.pyc\u001b[0m in \u001b[0;36murlopen\u001b[0;34m(url, data, timeout, cafile, capath, cadefault, context)\u001b[0m\n\u001b[1;32m    152\u001b[0m     \u001b[0;32melse\u001b[0m\u001b[0;34m:\u001b[0m\u001b[0;34m\u001b[0m\u001b[0m\n\u001b[1;32m    153\u001b[0m         \u001b[0mopener\u001b[0m \u001b[0;34m=\u001b[0m \u001b[0m_opener\u001b[0m\u001b[0;34m\u001b[0m\u001b[0m\n\u001b[0;32m--> 154\u001b[0;31m     \u001b[0;32mreturn\u001b[0m \u001b[0mopener\u001b[0m\u001b[0;34m.\u001b[0m\u001b[0mopen\u001b[0m\u001b[0;34m(\u001b[0m\u001b[0murl\u001b[0m\u001b[0;34m,\u001b[0m \u001b[0mdata\u001b[0m\u001b[0;34m,\u001b[0m \u001b[0mtimeout\u001b[0m\u001b[0;34m)\u001b[0m\u001b[0;34m\u001b[0m\u001b[0m\n\u001b[0m\u001b[1;32m    155\u001b[0m \u001b[0;34m\u001b[0m\u001b[0m\n\u001b[1;32m    156\u001b[0m \u001b[0;32mdef\u001b[0m \u001b[0minstall_opener\u001b[0m\u001b[0;34m(\u001b[0m\u001b[0mopener\u001b[0m\u001b[0;34m)\u001b[0m\u001b[0;34m:\u001b[0m\u001b[0;34m\u001b[0m\u001b[0m\n",
      "\u001b[0;32m//anaconda/lib/python2.7/urllib2.pyc\u001b[0m in \u001b[0;36mopen\u001b[0;34m(self, fullurl, data, timeout)\u001b[0m\n\u001b[1;32m    429\u001b[0m             \u001b[0mreq\u001b[0m \u001b[0;34m=\u001b[0m \u001b[0mmeth\u001b[0m\u001b[0;34m(\u001b[0m\u001b[0mreq\u001b[0m\u001b[0;34m)\u001b[0m\u001b[0;34m\u001b[0m\u001b[0m\n\u001b[1;32m    430\u001b[0m \u001b[0;34m\u001b[0m\u001b[0m\n\u001b[0;32m--> 431\u001b[0;31m         \u001b[0mresponse\u001b[0m \u001b[0;34m=\u001b[0m \u001b[0mself\u001b[0m\u001b[0;34m.\u001b[0m\u001b[0m_open\u001b[0m\u001b[0;34m(\u001b[0m\u001b[0mreq\u001b[0m\u001b[0;34m,\u001b[0m \u001b[0mdata\u001b[0m\u001b[0;34m)\u001b[0m\u001b[0;34m\u001b[0m\u001b[0m\n\u001b[0m\u001b[1;32m    432\u001b[0m \u001b[0;34m\u001b[0m\u001b[0m\n\u001b[1;32m    433\u001b[0m         \u001b[0;31m# post-process response\u001b[0m\u001b[0;34m\u001b[0m\u001b[0;34m\u001b[0m\u001b[0m\n",
      "\u001b[0;32m//anaconda/lib/python2.7/urllib2.pyc\u001b[0m in \u001b[0;36m_open\u001b[0;34m(self, req, data)\u001b[0m\n\u001b[1;32m    447\u001b[0m         \u001b[0mprotocol\u001b[0m \u001b[0;34m=\u001b[0m \u001b[0mreq\u001b[0m\u001b[0;34m.\u001b[0m\u001b[0mget_type\u001b[0m\u001b[0;34m(\u001b[0m\u001b[0;34m)\u001b[0m\u001b[0;34m\u001b[0m\u001b[0m\n\u001b[1;32m    448\u001b[0m         result = self._call_chain(self.handle_open, protocol, protocol +\n\u001b[0;32m--> 449\u001b[0;31m                                   '_open', req)\n\u001b[0m\u001b[1;32m    450\u001b[0m         \u001b[0;32mif\u001b[0m \u001b[0mresult\u001b[0m\u001b[0;34m:\u001b[0m\u001b[0;34m\u001b[0m\u001b[0m\n\u001b[1;32m    451\u001b[0m             \u001b[0;32mreturn\u001b[0m \u001b[0mresult\u001b[0m\u001b[0;34m\u001b[0m\u001b[0m\n",
      "\u001b[0;32m//anaconda/lib/python2.7/urllib2.pyc\u001b[0m in \u001b[0;36m_call_chain\u001b[0;34m(self, chain, kind, meth_name, *args)\u001b[0m\n\u001b[1;32m    407\u001b[0m             \u001b[0mfunc\u001b[0m \u001b[0;34m=\u001b[0m \u001b[0mgetattr\u001b[0m\u001b[0;34m(\u001b[0m\u001b[0mhandler\u001b[0m\u001b[0;34m,\u001b[0m \u001b[0mmeth_name\u001b[0m\u001b[0;34m)\u001b[0m\u001b[0;34m\u001b[0m\u001b[0m\n\u001b[1;32m    408\u001b[0m \u001b[0;34m\u001b[0m\u001b[0m\n\u001b[0;32m--> 409\u001b[0;31m             \u001b[0mresult\u001b[0m \u001b[0;34m=\u001b[0m \u001b[0mfunc\u001b[0m\u001b[0;34m(\u001b[0m\u001b[0;34m*\u001b[0m\u001b[0margs\u001b[0m\u001b[0;34m)\u001b[0m\u001b[0;34m\u001b[0m\u001b[0m\n\u001b[0m\u001b[1;32m    410\u001b[0m             \u001b[0;32mif\u001b[0m \u001b[0mresult\u001b[0m \u001b[0;32mis\u001b[0m \u001b[0;32mnot\u001b[0m \u001b[0mNone\u001b[0m\u001b[0;34m:\u001b[0m\u001b[0;34m\u001b[0m\u001b[0m\n\u001b[1;32m    411\u001b[0m                 \u001b[0;32mreturn\u001b[0m \u001b[0mresult\u001b[0m\u001b[0;34m\u001b[0m\u001b[0m\n",
      "\u001b[0;32m//anaconda/lib/python2.7/urllib2.pyc\u001b[0m in \u001b[0;36mhttp_open\u001b[0;34m(self, req)\u001b[0m\n\u001b[1;32m   1225\u001b[0m \u001b[0;34m\u001b[0m\u001b[0m\n\u001b[1;32m   1226\u001b[0m     \u001b[0;32mdef\u001b[0m \u001b[0mhttp_open\u001b[0m\u001b[0;34m(\u001b[0m\u001b[0mself\u001b[0m\u001b[0;34m,\u001b[0m \u001b[0mreq\u001b[0m\u001b[0;34m)\u001b[0m\u001b[0;34m:\u001b[0m\u001b[0;34m\u001b[0m\u001b[0m\n\u001b[0;32m-> 1227\u001b[0;31m         \u001b[0;32mreturn\u001b[0m \u001b[0mself\u001b[0m\u001b[0;34m.\u001b[0m\u001b[0mdo_open\u001b[0m\u001b[0;34m(\u001b[0m\u001b[0mhttplib\u001b[0m\u001b[0;34m.\u001b[0m\u001b[0mHTTPConnection\u001b[0m\u001b[0;34m,\u001b[0m \u001b[0mreq\u001b[0m\u001b[0;34m)\u001b[0m\u001b[0;34m\u001b[0m\u001b[0m\n\u001b[0m\u001b[1;32m   1228\u001b[0m \u001b[0;34m\u001b[0m\u001b[0m\n\u001b[1;32m   1229\u001b[0m     \u001b[0mhttp_request\u001b[0m \u001b[0;34m=\u001b[0m \u001b[0mAbstractHTTPHandler\u001b[0m\u001b[0;34m.\u001b[0m\u001b[0mdo_request_\u001b[0m\u001b[0;34m\u001b[0m\u001b[0m\n",
      "\u001b[0;32m//anaconda/lib/python2.7/urllib2.pyc\u001b[0m in \u001b[0;36mdo_open\u001b[0;34m(self, http_class, req, **http_conn_args)\u001b[0m\n\u001b[1;32m   1198\u001b[0m         \u001b[0;32melse\u001b[0m\u001b[0;34m:\u001b[0m\u001b[0;34m\u001b[0m\u001b[0m\n\u001b[1;32m   1199\u001b[0m             \u001b[0;32mtry\u001b[0m\u001b[0;34m:\u001b[0m\u001b[0;34m\u001b[0m\u001b[0m\n\u001b[0;32m-> 1200\u001b[0;31m                 \u001b[0mr\u001b[0m \u001b[0;34m=\u001b[0m \u001b[0mh\u001b[0m\u001b[0;34m.\u001b[0m\u001b[0mgetresponse\u001b[0m\u001b[0;34m(\u001b[0m\u001b[0mbuffering\u001b[0m\u001b[0;34m=\u001b[0m\u001b[0mTrue\u001b[0m\u001b[0;34m)\u001b[0m\u001b[0;34m\u001b[0m\u001b[0m\n\u001b[0m\u001b[1;32m   1201\u001b[0m             \u001b[0;32mexcept\u001b[0m \u001b[0mTypeError\u001b[0m\u001b[0;34m:\u001b[0m \u001b[0;31m# buffering kw not supported\u001b[0m\u001b[0;34m\u001b[0m\u001b[0m\n\u001b[1;32m   1202\u001b[0m                 \u001b[0mr\u001b[0m \u001b[0;34m=\u001b[0m \u001b[0mh\u001b[0m\u001b[0;34m.\u001b[0m\u001b[0mgetresponse\u001b[0m\u001b[0;34m(\u001b[0m\u001b[0;34m)\u001b[0m\u001b[0;34m\u001b[0m\u001b[0m\n",
      "\u001b[0;32m//anaconda/lib/python2.7/httplib.pyc\u001b[0m in \u001b[0;36mgetresponse\u001b[0;34m(self, buffering)\u001b[0m\n\u001b[1;32m   1130\u001b[0m \u001b[0;34m\u001b[0m\u001b[0m\n\u001b[1;32m   1131\u001b[0m         \u001b[0;32mtry\u001b[0m\u001b[0;34m:\u001b[0m\u001b[0;34m\u001b[0m\u001b[0m\n\u001b[0;32m-> 1132\u001b[0;31m             \u001b[0mresponse\u001b[0m\u001b[0;34m.\u001b[0m\u001b[0mbegin\u001b[0m\u001b[0;34m(\u001b[0m\u001b[0;34m)\u001b[0m\u001b[0;34m\u001b[0m\u001b[0m\n\u001b[0m\u001b[1;32m   1133\u001b[0m             \u001b[0;32massert\u001b[0m \u001b[0mresponse\u001b[0m\u001b[0;34m.\u001b[0m\u001b[0mwill_close\u001b[0m \u001b[0;34m!=\u001b[0m \u001b[0m_UNKNOWN\u001b[0m\u001b[0;34m\u001b[0m\u001b[0m\n\u001b[1;32m   1134\u001b[0m             \u001b[0mself\u001b[0m\u001b[0;34m.\u001b[0m\u001b[0m__state\u001b[0m \u001b[0;34m=\u001b[0m \u001b[0m_CS_IDLE\u001b[0m\u001b[0;34m\u001b[0m\u001b[0m\n",
      "\u001b[0;32m//anaconda/lib/python2.7/httplib.pyc\u001b[0m in \u001b[0;36mbegin\u001b[0;34m(self)\u001b[0m\n\u001b[1;32m    451\u001b[0m         \u001b[0;31m# read until we get a non-100 response\u001b[0m\u001b[0;34m\u001b[0m\u001b[0;34m\u001b[0m\u001b[0m\n\u001b[1;32m    452\u001b[0m         \u001b[0;32mwhile\u001b[0m \u001b[0mTrue\u001b[0m\u001b[0;34m:\u001b[0m\u001b[0;34m\u001b[0m\u001b[0m\n\u001b[0;32m--> 453\u001b[0;31m             \u001b[0mversion\u001b[0m\u001b[0;34m,\u001b[0m \u001b[0mstatus\u001b[0m\u001b[0;34m,\u001b[0m \u001b[0mreason\u001b[0m \u001b[0;34m=\u001b[0m \u001b[0mself\u001b[0m\u001b[0;34m.\u001b[0m\u001b[0m_read_status\u001b[0m\u001b[0;34m(\u001b[0m\u001b[0;34m)\u001b[0m\u001b[0;34m\u001b[0m\u001b[0m\n\u001b[0m\u001b[1;32m    454\u001b[0m             \u001b[0;32mif\u001b[0m \u001b[0mstatus\u001b[0m \u001b[0;34m!=\u001b[0m \u001b[0mCONTINUE\u001b[0m\u001b[0;34m:\u001b[0m\u001b[0;34m\u001b[0m\u001b[0m\n\u001b[1;32m    455\u001b[0m                 \u001b[0;32mbreak\u001b[0m\u001b[0;34m\u001b[0m\u001b[0m\n",
      "\u001b[0;32m//anaconda/lib/python2.7/httplib.pyc\u001b[0m in \u001b[0;36m_read_status\u001b[0;34m(self)\u001b[0m\n\u001b[1;32m    407\u001b[0m     \u001b[0;32mdef\u001b[0m \u001b[0m_read_status\u001b[0m\u001b[0;34m(\u001b[0m\u001b[0mself\u001b[0m\u001b[0;34m)\u001b[0m\u001b[0;34m:\u001b[0m\u001b[0;34m\u001b[0m\u001b[0m\n\u001b[1;32m    408\u001b[0m         \u001b[0;31m# Initialize with Simple-Response defaults\u001b[0m\u001b[0;34m\u001b[0m\u001b[0;34m\u001b[0m\u001b[0m\n\u001b[0;32m--> 409\u001b[0;31m         \u001b[0mline\u001b[0m \u001b[0;34m=\u001b[0m \u001b[0mself\u001b[0m\u001b[0;34m.\u001b[0m\u001b[0mfp\u001b[0m\u001b[0;34m.\u001b[0m\u001b[0mreadline\u001b[0m\u001b[0;34m(\u001b[0m\u001b[0m_MAXLINE\u001b[0m \u001b[0;34m+\u001b[0m \u001b[0;36m1\u001b[0m\u001b[0;34m)\u001b[0m\u001b[0;34m\u001b[0m\u001b[0m\n\u001b[0m\u001b[1;32m    410\u001b[0m         \u001b[0;32mif\u001b[0m \u001b[0mlen\u001b[0m\u001b[0;34m(\u001b[0m\u001b[0mline\u001b[0m\u001b[0;34m)\u001b[0m \u001b[0;34m>\u001b[0m \u001b[0m_MAXLINE\u001b[0m\u001b[0;34m:\u001b[0m\u001b[0;34m\u001b[0m\u001b[0m\n\u001b[1;32m    411\u001b[0m             \u001b[0;32mraise\u001b[0m \u001b[0mLineTooLong\u001b[0m\u001b[0;34m(\u001b[0m\u001b[0;34m\"header line\"\u001b[0m\u001b[0;34m)\u001b[0m\u001b[0;34m\u001b[0m\u001b[0m\n",
      "\u001b[0;32m//anaconda/lib/python2.7/socket.pyc\u001b[0m in \u001b[0;36mreadline\u001b[0;34m(self, size)\u001b[0m\n\u001b[1;32m    478\u001b[0m             \u001b[0;32mwhile\u001b[0m \u001b[0mTrue\u001b[0m\u001b[0;34m:\u001b[0m\u001b[0;34m\u001b[0m\u001b[0m\n\u001b[1;32m    479\u001b[0m                 \u001b[0;32mtry\u001b[0m\u001b[0;34m:\u001b[0m\u001b[0;34m\u001b[0m\u001b[0m\n\u001b[0;32m--> 480\u001b[0;31m                     \u001b[0mdata\u001b[0m \u001b[0;34m=\u001b[0m \u001b[0mself\u001b[0m\u001b[0;34m.\u001b[0m\u001b[0m_sock\u001b[0m\u001b[0;34m.\u001b[0m\u001b[0mrecv\u001b[0m\u001b[0;34m(\u001b[0m\u001b[0mself\u001b[0m\u001b[0;34m.\u001b[0m\u001b[0m_rbufsize\u001b[0m\u001b[0;34m)\u001b[0m\u001b[0;34m\u001b[0m\u001b[0m\n\u001b[0m\u001b[1;32m    481\u001b[0m                 \u001b[0;32mexcept\u001b[0m \u001b[0merror\u001b[0m\u001b[0;34m,\u001b[0m \u001b[0me\u001b[0m\u001b[0;34m:\u001b[0m\u001b[0;34m\u001b[0m\u001b[0m\n\u001b[1;32m    482\u001b[0m                     \u001b[0;32mif\u001b[0m \u001b[0me\u001b[0m\u001b[0;34m.\u001b[0m\u001b[0margs\u001b[0m\u001b[0;34m[\u001b[0m\u001b[0;36m0\u001b[0m\u001b[0;34m]\u001b[0m \u001b[0;34m==\u001b[0m \u001b[0mEINTR\u001b[0m\u001b[0;34m:\u001b[0m\u001b[0;34m\u001b[0m\u001b[0m\n",
      "\u001b[0;31merror\u001b[0m: [Errno 60] Operation timed out"
     ]
    }
   ],
   "source": [
    "i = 322\n",
    "for link in office_chair_links[322:]:\n",
    "    product_dict = wayfair_product_info_scrapper(link, category_input='office_chair')\n",
    "    df_product = pd.DataFrame([product_dict], index=[i])\n",
    "    office_chair_df = pd.concat([office_chair_df, df_product], axis=0)\n",
    "    i += 1\n",
    "    if i % 20 == 0:\n",
    "        print i"
   ]
  },
  {
   "cell_type": "code",
   "execution_count": 481,
   "metadata": {
    "collapsed": false
   },
   "outputs": [
    {
     "name": "stdout",
     "output_type": "stream",
     "text": [
      "<class 'pandas.core.frame.DataFrame'>\n",
      "Int64Index: 543 entries, 0 to 542\n",
      "Data columns (total 15 columns):\n",
      "category                543 non-null object\n",
      "colors                  543 non-null object\n",
      "description             321 non-null object\n",
      "features                543 non-null object\n",
      "image_links_all         543 non-null object\n",
      "image_links_by_color    543 non-null object\n",
      "manufacturer            543 non-null object\n",
      "price                   543 non-null object\n",
      "product_id              543 non-null object\n",
      "rating_avg              505 non-null object\n",
      "rating_count            505 non-null object\n",
      "specs                   543 non-null object\n",
      "title                   543 non-null object\n",
      "url                     543 non-null object\n",
      "website                 543 non-null object\n",
      "dtypes: object(15)\n",
      "memory usage: 67.9+ KB\n"
     ]
    }
   ],
   "source": [
    "office_chair_df.info()"
   ]
  },
  {
   "cell_type": "code",
   "execution_count": 489,
   "metadata": {
    "collapsed": false
   },
   "outputs": [
    {
     "name": "stdout",
     "output_type": "stream",
     "text": [
      "560\n"
     ]
    },
    {
     "ename": "error",
     "evalue": "[Errno 60] Operation timed out",
     "output_type": "error",
     "traceback": [
      "\u001b[0;31m---------------------------------------------------------------------------\u001b[0m",
      "\u001b[0;31merror\u001b[0m                                     Traceback (most recent call last)",
      "\u001b[0;32m<ipython-input-489-df0f98ecf465>\u001b[0m in \u001b[0;36m<module>\u001b[0;34m()\u001b[0m\n\u001b[1;32m      1\u001b[0m \u001b[0mi\u001b[0m \u001b[0;34m=\u001b[0m \u001b[0;36m543\u001b[0m\u001b[0;34m\u001b[0m\u001b[0m\n\u001b[1;32m      2\u001b[0m \u001b[0;32mfor\u001b[0m \u001b[0mlink\u001b[0m \u001b[0;32min\u001b[0m \u001b[0moffice_chair_links\u001b[0m\u001b[0;34m[\u001b[0m\u001b[0;36m543\u001b[0m\u001b[0;34m:\u001b[0m\u001b[0;34m]\u001b[0m\u001b[0;34m:\u001b[0m\u001b[0;34m\u001b[0m\u001b[0m\n\u001b[0;32m----> 3\u001b[0;31m     \u001b[0mproduct_dict\u001b[0m \u001b[0;34m=\u001b[0m \u001b[0mwayfair_product_info_scrapper\u001b[0m\u001b[0;34m(\u001b[0m\u001b[0mlink\u001b[0m\u001b[0;34m,\u001b[0m \u001b[0mcategory_input\u001b[0m\u001b[0;34m=\u001b[0m\u001b[0;34m'office_chair'\u001b[0m\u001b[0;34m)\u001b[0m\u001b[0;34m\u001b[0m\u001b[0m\n\u001b[0m\u001b[1;32m      4\u001b[0m     \u001b[0mdf_product\u001b[0m \u001b[0;34m=\u001b[0m \u001b[0mpd\u001b[0m\u001b[0;34m.\u001b[0m\u001b[0mDataFrame\u001b[0m\u001b[0;34m(\u001b[0m\u001b[0;34m[\u001b[0m\u001b[0mproduct_dict\u001b[0m\u001b[0;34m]\u001b[0m\u001b[0;34m,\u001b[0m \u001b[0mindex\u001b[0m\u001b[0;34m=\u001b[0m\u001b[0;34m[\u001b[0m\u001b[0mi\u001b[0m\u001b[0;34m]\u001b[0m\u001b[0;34m)\u001b[0m\u001b[0;34m\u001b[0m\u001b[0m\n\u001b[1;32m      5\u001b[0m     \u001b[0moffice_chair_df\u001b[0m \u001b[0;34m=\u001b[0m \u001b[0mpd\u001b[0m\u001b[0;34m.\u001b[0m\u001b[0mconcat\u001b[0m\u001b[0;34m(\u001b[0m\u001b[0;34m[\u001b[0m\u001b[0moffice_chair_df\u001b[0m\u001b[0;34m,\u001b[0m \u001b[0mdf_product\u001b[0m\u001b[0;34m]\u001b[0m\u001b[0;34m,\u001b[0m \u001b[0maxis\u001b[0m\u001b[0;34m=\u001b[0m\u001b[0;36m0\u001b[0m\u001b[0;34m)\u001b[0m\u001b[0;34m\u001b[0m\u001b[0m\n",
      "\u001b[0;32m<ipython-input-488-95e4aa27a703>\u001b[0m in \u001b[0;36mwayfair_product_info_scrapper\u001b[0;34m(link, category_input)\u001b[0m\n\u001b[1;32m     81\u001b[0m             \u001b[0mcolor_key\u001b[0m \u001b[0;34m=\u001b[0m \u001b[0mcolors\u001b[0m\u001b[0;34m[\u001b[0m\u001b[0mi\u001b[0m\u001b[0;34m]\u001b[0m\u001b[0;34m\u001b[0m\u001b[0m\n\u001b[1;32m     82\u001b[0m             \u001b[0mlink_color\u001b[0m \u001b[0;34m=\u001b[0m \u001b[0mlink\u001b[0m \u001b[0;34m+\u001b[0m \u001b[0mcolor_link\u001b[0m\u001b[0;34m\u001b[0m\u001b[0m\n\u001b[0;32m---> 83\u001b[0;31m             \u001b[0mhtml_color\u001b[0m  \u001b[0;34m=\u001b[0m \u001b[0murlopen\u001b[0m\u001b[0;34m(\u001b[0m\u001b[0mlink_color\u001b[0m\u001b[0;34m,\u001b[0m \u001b[0mtimeout\u001b[0m\u001b[0;34m=\u001b[0m\u001b[0;36m100\u001b[0m\u001b[0;34m)\u001b[0m\u001b[0;34m\u001b[0m\u001b[0m\n\u001b[0m\u001b[1;32m     84\u001b[0m             \u001b[0msoup_color\u001b[0m \u001b[0;34m=\u001b[0m \u001b[0mBeautifulSoup\u001b[0m\u001b[0;34m(\u001b[0m\u001b[0mhtml_color\u001b[0m\u001b[0;34m,\u001b[0m \u001b[0;34m'html.parser'\u001b[0m\u001b[0;34m)\u001b[0m\u001b[0;34m\u001b[0m\u001b[0m\n\u001b[1;32m     85\u001b[0m             \u001b[0mimage_info_color\u001b[0m \u001b[0;34m=\u001b[0m \u001b[0msoup_color\u001b[0m\u001b[0;34m.\u001b[0m\u001b[0mfindAll\u001b[0m\u001b[0;34m(\u001b[0m\u001b[0;34m'a'\u001b[0m\u001b[0;34m,\u001b[0m \u001b[0;34m{\u001b[0m\u001b[0;34m'class'\u001b[0m\u001b[0;34m:\u001b[0m \u001b[0;34m'photoswipe_link'\u001b[0m\u001b[0;34m}\u001b[0m\u001b[0;34m)\u001b[0m\u001b[0;34m\u001b[0m\u001b[0m\n",
      "\u001b[0;32m//anaconda/lib/python2.7/urllib2.pyc\u001b[0m in \u001b[0;36murlopen\u001b[0;34m(url, data, timeout, cafile, capath, cadefault, context)\u001b[0m\n\u001b[1;32m    152\u001b[0m     \u001b[0;32melse\u001b[0m\u001b[0;34m:\u001b[0m\u001b[0;34m\u001b[0m\u001b[0m\n\u001b[1;32m    153\u001b[0m         \u001b[0mopener\u001b[0m \u001b[0;34m=\u001b[0m \u001b[0m_opener\u001b[0m\u001b[0;34m\u001b[0m\u001b[0m\n\u001b[0;32m--> 154\u001b[0;31m     \u001b[0;32mreturn\u001b[0m \u001b[0mopener\u001b[0m\u001b[0;34m.\u001b[0m\u001b[0mopen\u001b[0m\u001b[0;34m(\u001b[0m\u001b[0murl\u001b[0m\u001b[0;34m,\u001b[0m \u001b[0mdata\u001b[0m\u001b[0;34m,\u001b[0m \u001b[0mtimeout\u001b[0m\u001b[0;34m)\u001b[0m\u001b[0;34m\u001b[0m\u001b[0m\n\u001b[0m\u001b[1;32m    155\u001b[0m \u001b[0;34m\u001b[0m\u001b[0m\n\u001b[1;32m    156\u001b[0m \u001b[0;32mdef\u001b[0m \u001b[0minstall_opener\u001b[0m\u001b[0;34m(\u001b[0m\u001b[0mopener\u001b[0m\u001b[0;34m)\u001b[0m\u001b[0;34m:\u001b[0m\u001b[0;34m\u001b[0m\u001b[0m\n",
      "\u001b[0;32m//anaconda/lib/python2.7/urllib2.pyc\u001b[0m in \u001b[0;36mopen\u001b[0;34m(self, fullurl, data, timeout)\u001b[0m\n\u001b[1;32m    429\u001b[0m             \u001b[0mreq\u001b[0m \u001b[0;34m=\u001b[0m \u001b[0mmeth\u001b[0m\u001b[0;34m(\u001b[0m\u001b[0mreq\u001b[0m\u001b[0;34m)\u001b[0m\u001b[0;34m\u001b[0m\u001b[0m\n\u001b[1;32m    430\u001b[0m \u001b[0;34m\u001b[0m\u001b[0m\n\u001b[0;32m--> 431\u001b[0;31m         \u001b[0mresponse\u001b[0m \u001b[0;34m=\u001b[0m \u001b[0mself\u001b[0m\u001b[0;34m.\u001b[0m\u001b[0m_open\u001b[0m\u001b[0;34m(\u001b[0m\u001b[0mreq\u001b[0m\u001b[0;34m,\u001b[0m \u001b[0mdata\u001b[0m\u001b[0;34m)\u001b[0m\u001b[0;34m\u001b[0m\u001b[0m\n\u001b[0m\u001b[1;32m    432\u001b[0m \u001b[0;34m\u001b[0m\u001b[0m\n\u001b[1;32m    433\u001b[0m         \u001b[0;31m# post-process response\u001b[0m\u001b[0;34m\u001b[0m\u001b[0;34m\u001b[0m\u001b[0m\n",
      "\u001b[0;32m//anaconda/lib/python2.7/urllib2.pyc\u001b[0m in \u001b[0;36m_open\u001b[0;34m(self, req, data)\u001b[0m\n\u001b[1;32m    447\u001b[0m         \u001b[0mprotocol\u001b[0m \u001b[0;34m=\u001b[0m \u001b[0mreq\u001b[0m\u001b[0;34m.\u001b[0m\u001b[0mget_type\u001b[0m\u001b[0;34m(\u001b[0m\u001b[0;34m)\u001b[0m\u001b[0;34m\u001b[0m\u001b[0m\n\u001b[1;32m    448\u001b[0m         result = self._call_chain(self.handle_open, protocol, protocol +\n\u001b[0;32m--> 449\u001b[0;31m                                   '_open', req)\n\u001b[0m\u001b[1;32m    450\u001b[0m         \u001b[0;32mif\u001b[0m \u001b[0mresult\u001b[0m\u001b[0;34m:\u001b[0m\u001b[0;34m\u001b[0m\u001b[0m\n\u001b[1;32m    451\u001b[0m             \u001b[0;32mreturn\u001b[0m \u001b[0mresult\u001b[0m\u001b[0;34m\u001b[0m\u001b[0m\n",
      "\u001b[0;32m//anaconda/lib/python2.7/urllib2.pyc\u001b[0m in \u001b[0;36m_call_chain\u001b[0;34m(self, chain, kind, meth_name, *args)\u001b[0m\n\u001b[1;32m    407\u001b[0m             \u001b[0mfunc\u001b[0m \u001b[0;34m=\u001b[0m \u001b[0mgetattr\u001b[0m\u001b[0;34m(\u001b[0m\u001b[0mhandler\u001b[0m\u001b[0;34m,\u001b[0m \u001b[0mmeth_name\u001b[0m\u001b[0;34m)\u001b[0m\u001b[0;34m\u001b[0m\u001b[0m\n\u001b[1;32m    408\u001b[0m \u001b[0;34m\u001b[0m\u001b[0m\n\u001b[0;32m--> 409\u001b[0;31m             \u001b[0mresult\u001b[0m \u001b[0;34m=\u001b[0m \u001b[0mfunc\u001b[0m\u001b[0;34m(\u001b[0m\u001b[0;34m*\u001b[0m\u001b[0margs\u001b[0m\u001b[0;34m)\u001b[0m\u001b[0;34m\u001b[0m\u001b[0m\n\u001b[0m\u001b[1;32m    410\u001b[0m             \u001b[0;32mif\u001b[0m \u001b[0mresult\u001b[0m \u001b[0;32mis\u001b[0m \u001b[0;32mnot\u001b[0m \u001b[0mNone\u001b[0m\u001b[0;34m:\u001b[0m\u001b[0;34m\u001b[0m\u001b[0m\n\u001b[1;32m    411\u001b[0m                 \u001b[0;32mreturn\u001b[0m \u001b[0mresult\u001b[0m\u001b[0;34m\u001b[0m\u001b[0m\n",
      "\u001b[0;32m//anaconda/lib/python2.7/urllib2.pyc\u001b[0m in \u001b[0;36mhttp_open\u001b[0;34m(self, req)\u001b[0m\n\u001b[1;32m   1225\u001b[0m \u001b[0;34m\u001b[0m\u001b[0m\n\u001b[1;32m   1226\u001b[0m     \u001b[0;32mdef\u001b[0m \u001b[0mhttp_open\u001b[0m\u001b[0;34m(\u001b[0m\u001b[0mself\u001b[0m\u001b[0;34m,\u001b[0m \u001b[0mreq\u001b[0m\u001b[0;34m)\u001b[0m\u001b[0;34m:\u001b[0m\u001b[0;34m\u001b[0m\u001b[0m\n\u001b[0;32m-> 1227\u001b[0;31m         \u001b[0;32mreturn\u001b[0m \u001b[0mself\u001b[0m\u001b[0;34m.\u001b[0m\u001b[0mdo_open\u001b[0m\u001b[0;34m(\u001b[0m\u001b[0mhttplib\u001b[0m\u001b[0;34m.\u001b[0m\u001b[0mHTTPConnection\u001b[0m\u001b[0;34m,\u001b[0m \u001b[0mreq\u001b[0m\u001b[0;34m)\u001b[0m\u001b[0;34m\u001b[0m\u001b[0m\n\u001b[0m\u001b[1;32m   1228\u001b[0m \u001b[0;34m\u001b[0m\u001b[0m\n\u001b[1;32m   1229\u001b[0m     \u001b[0mhttp_request\u001b[0m \u001b[0;34m=\u001b[0m \u001b[0mAbstractHTTPHandler\u001b[0m\u001b[0;34m.\u001b[0m\u001b[0mdo_request_\u001b[0m\u001b[0;34m\u001b[0m\u001b[0m\n",
      "\u001b[0;32m//anaconda/lib/python2.7/urllib2.pyc\u001b[0m in \u001b[0;36mdo_open\u001b[0;34m(self, http_class, req, **http_conn_args)\u001b[0m\n\u001b[1;32m   1198\u001b[0m         \u001b[0;32melse\u001b[0m\u001b[0;34m:\u001b[0m\u001b[0;34m\u001b[0m\u001b[0m\n\u001b[1;32m   1199\u001b[0m             \u001b[0;32mtry\u001b[0m\u001b[0;34m:\u001b[0m\u001b[0;34m\u001b[0m\u001b[0m\n\u001b[0;32m-> 1200\u001b[0;31m                 \u001b[0mr\u001b[0m \u001b[0;34m=\u001b[0m \u001b[0mh\u001b[0m\u001b[0;34m.\u001b[0m\u001b[0mgetresponse\u001b[0m\u001b[0;34m(\u001b[0m\u001b[0mbuffering\u001b[0m\u001b[0;34m=\u001b[0m\u001b[0mTrue\u001b[0m\u001b[0;34m)\u001b[0m\u001b[0;34m\u001b[0m\u001b[0m\n\u001b[0m\u001b[1;32m   1201\u001b[0m             \u001b[0;32mexcept\u001b[0m \u001b[0mTypeError\u001b[0m\u001b[0;34m:\u001b[0m \u001b[0;31m# buffering kw not supported\u001b[0m\u001b[0;34m\u001b[0m\u001b[0m\n\u001b[1;32m   1202\u001b[0m                 \u001b[0mr\u001b[0m \u001b[0;34m=\u001b[0m \u001b[0mh\u001b[0m\u001b[0;34m.\u001b[0m\u001b[0mgetresponse\u001b[0m\u001b[0;34m(\u001b[0m\u001b[0;34m)\u001b[0m\u001b[0;34m\u001b[0m\u001b[0m\n",
      "\u001b[0;32m//anaconda/lib/python2.7/httplib.pyc\u001b[0m in \u001b[0;36mgetresponse\u001b[0;34m(self, buffering)\u001b[0m\n\u001b[1;32m   1130\u001b[0m \u001b[0;34m\u001b[0m\u001b[0m\n\u001b[1;32m   1131\u001b[0m         \u001b[0;32mtry\u001b[0m\u001b[0;34m:\u001b[0m\u001b[0;34m\u001b[0m\u001b[0m\n\u001b[0;32m-> 1132\u001b[0;31m             \u001b[0mresponse\u001b[0m\u001b[0;34m.\u001b[0m\u001b[0mbegin\u001b[0m\u001b[0;34m(\u001b[0m\u001b[0;34m)\u001b[0m\u001b[0;34m\u001b[0m\u001b[0m\n\u001b[0m\u001b[1;32m   1133\u001b[0m             \u001b[0;32massert\u001b[0m \u001b[0mresponse\u001b[0m\u001b[0;34m.\u001b[0m\u001b[0mwill_close\u001b[0m \u001b[0;34m!=\u001b[0m \u001b[0m_UNKNOWN\u001b[0m\u001b[0;34m\u001b[0m\u001b[0m\n\u001b[1;32m   1134\u001b[0m             \u001b[0mself\u001b[0m\u001b[0;34m.\u001b[0m\u001b[0m__state\u001b[0m \u001b[0;34m=\u001b[0m \u001b[0m_CS_IDLE\u001b[0m\u001b[0;34m\u001b[0m\u001b[0m\n",
      "\u001b[0;32m//anaconda/lib/python2.7/httplib.pyc\u001b[0m in \u001b[0;36mbegin\u001b[0;34m(self)\u001b[0m\n\u001b[1;32m    451\u001b[0m         \u001b[0;31m# read until we get a non-100 response\u001b[0m\u001b[0;34m\u001b[0m\u001b[0;34m\u001b[0m\u001b[0m\n\u001b[1;32m    452\u001b[0m         \u001b[0;32mwhile\u001b[0m \u001b[0mTrue\u001b[0m\u001b[0;34m:\u001b[0m\u001b[0;34m\u001b[0m\u001b[0m\n\u001b[0;32m--> 453\u001b[0;31m             \u001b[0mversion\u001b[0m\u001b[0;34m,\u001b[0m \u001b[0mstatus\u001b[0m\u001b[0;34m,\u001b[0m \u001b[0mreason\u001b[0m \u001b[0;34m=\u001b[0m \u001b[0mself\u001b[0m\u001b[0;34m.\u001b[0m\u001b[0m_read_status\u001b[0m\u001b[0;34m(\u001b[0m\u001b[0;34m)\u001b[0m\u001b[0;34m\u001b[0m\u001b[0m\n\u001b[0m\u001b[1;32m    454\u001b[0m             \u001b[0;32mif\u001b[0m \u001b[0mstatus\u001b[0m \u001b[0;34m!=\u001b[0m \u001b[0mCONTINUE\u001b[0m\u001b[0;34m:\u001b[0m\u001b[0;34m\u001b[0m\u001b[0m\n\u001b[1;32m    455\u001b[0m                 \u001b[0;32mbreak\u001b[0m\u001b[0;34m\u001b[0m\u001b[0m\n",
      "\u001b[0;32m//anaconda/lib/python2.7/httplib.pyc\u001b[0m in \u001b[0;36m_read_status\u001b[0;34m(self)\u001b[0m\n\u001b[1;32m    407\u001b[0m     \u001b[0;32mdef\u001b[0m \u001b[0m_read_status\u001b[0m\u001b[0;34m(\u001b[0m\u001b[0mself\u001b[0m\u001b[0;34m)\u001b[0m\u001b[0;34m:\u001b[0m\u001b[0;34m\u001b[0m\u001b[0m\n\u001b[1;32m    408\u001b[0m         \u001b[0;31m# Initialize with Simple-Response defaults\u001b[0m\u001b[0;34m\u001b[0m\u001b[0;34m\u001b[0m\u001b[0m\n\u001b[0;32m--> 409\u001b[0;31m         \u001b[0mline\u001b[0m \u001b[0;34m=\u001b[0m \u001b[0mself\u001b[0m\u001b[0;34m.\u001b[0m\u001b[0mfp\u001b[0m\u001b[0;34m.\u001b[0m\u001b[0mreadline\u001b[0m\u001b[0;34m(\u001b[0m\u001b[0m_MAXLINE\u001b[0m \u001b[0;34m+\u001b[0m \u001b[0;36m1\u001b[0m\u001b[0;34m)\u001b[0m\u001b[0;34m\u001b[0m\u001b[0m\n\u001b[0m\u001b[1;32m    410\u001b[0m         \u001b[0;32mif\u001b[0m \u001b[0mlen\u001b[0m\u001b[0;34m(\u001b[0m\u001b[0mline\u001b[0m\u001b[0;34m)\u001b[0m \u001b[0;34m>\u001b[0m \u001b[0m_MAXLINE\u001b[0m\u001b[0;34m:\u001b[0m\u001b[0;34m\u001b[0m\u001b[0m\n\u001b[1;32m    411\u001b[0m             \u001b[0;32mraise\u001b[0m \u001b[0mLineTooLong\u001b[0m\u001b[0;34m(\u001b[0m\u001b[0;34m\"header line\"\u001b[0m\u001b[0;34m)\u001b[0m\u001b[0;34m\u001b[0m\u001b[0m\n",
      "\u001b[0;32m//anaconda/lib/python2.7/socket.pyc\u001b[0m in \u001b[0;36mreadline\u001b[0;34m(self, size)\u001b[0m\n\u001b[1;32m    478\u001b[0m             \u001b[0;32mwhile\u001b[0m \u001b[0mTrue\u001b[0m\u001b[0;34m:\u001b[0m\u001b[0;34m\u001b[0m\u001b[0m\n\u001b[1;32m    479\u001b[0m                 \u001b[0;32mtry\u001b[0m\u001b[0;34m:\u001b[0m\u001b[0;34m\u001b[0m\u001b[0m\n\u001b[0;32m--> 480\u001b[0;31m                     \u001b[0mdata\u001b[0m \u001b[0;34m=\u001b[0m \u001b[0mself\u001b[0m\u001b[0;34m.\u001b[0m\u001b[0m_sock\u001b[0m\u001b[0;34m.\u001b[0m\u001b[0mrecv\u001b[0m\u001b[0;34m(\u001b[0m\u001b[0mself\u001b[0m\u001b[0;34m.\u001b[0m\u001b[0m_rbufsize\u001b[0m\u001b[0;34m)\u001b[0m\u001b[0;34m\u001b[0m\u001b[0m\n\u001b[0m\u001b[1;32m    481\u001b[0m                 \u001b[0;32mexcept\u001b[0m \u001b[0merror\u001b[0m\u001b[0;34m,\u001b[0m \u001b[0me\u001b[0m\u001b[0;34m:\u001b[0m\u001b[0;34m\u001b[0m\u001b[0m\n\u001b[1;32m    482\u001b[0m                     \u001b[0;32mif\u001b[0m \u001b[0me\u001b[0m\u001b[0;34m.\u001b[0m\u001b[0margs\u001b[0m\u001b[0;34m[\u001b[0m\u001b[0;36m0\u001b[0m\u001b[0;34m]\u001b[0m \u001b[0;34m==\u001b[0m \u001b[0mEINTR\u001b[0m\u001b[0;34m:\u001b[0m\u001b[0;34m\u001b[0m\u001b[0m\n",
      "\u001b[0;31merror\u001b[0m: [Errno 60] Operation timed out"
     ]
    }
   ],
   "source": [
    "i = 543\n",
    "for link in office_chair_links[543:]:\n",
    "    product_dict = wayfair_product_info_scrapper(link, category_input='office_chair')\n",
    "    df_product = pd.DataFrame([product_dict], index=[i])\n",
    "    office_chair_df = pd.concat([office_chair_df, df_product], axis=0)\n",
    "    i += 1\n",
    "    if i % 20 == 0:\n",
    "        print i"
   ]
  },
  {
   "cell_type": "code",
   "execution_count": 490,
   "metadata": {
    "collapsed": false
   },
   "outputs": [
    {
     "name": "stdout",
     "output_type": "stream",
     "text": [
      "<class 'pandas.core.frame.DataFrame'>\n",
      "Int64Index: 567 entries, 0 to 566\n",
      "Data columns (total 15 columns):\n",
      "category                567 non-null object\n",
      "colors                  567 non-null object\n",
      "description             330 non-null object\n",
      "features                567 non-null object\n",
      "image_links_all         567 non-null object\n",
      "image_links_by_color    567 non-null object\n",
      "manufacturer            567 non-null object\n",
      "price                   567 non-null object\n",
      "product_id              567 non-null object\n",
      "rating_avg              527 non-null object\n",
      "rating_count            527 non-null object\n",
      "specs                   567 non-null object\n",
      "title                   567 non-null object\n",
      "url                     567 non-null object\n",
      "website                 567 non-null object\n",
      "dtypes: object(15)\n",
      "memory usage: 70.9+ KB\n"
     ]
    }
   ],
   "source": [
    "office_chair_df.info()"
   ]
  },
  {
   "cell_type": "code",
   "execution_count": 491,
   "metadata": {
    "collapsed": false
   },
   "outputs": [
    {
     "name": "stdout",
     "output_type": "stream",
     "text": [
      "580\n",
      "600\n",
      "620\n",
      "640\n",
      "660\n",
      "680\n",
      "700\n",
      "720\n"
     ]
    },
    {
     "ename": "error",
     "evalue": "[Errno 60] Operation timed out",
     "output_type": "error",
     "traceback": [
      "\u001b[0;31m---------------------------------------------------------------------------\u001b[0m",
      "\u001b[0;31merror\u001b[0m                                     Traceback (most recent call last)",
      "\u001b[0;32m<ipython-input-491-a4a139d16c89>\u001b[0m in \u001b[0;36m<module>\u001b[0;34m()\u001b[0m\n\u001b[1;32m      1\u001b[0m \u001b[0mi\u001b[0m \u001b[0;34m=\u001b[0m \u001b[0;36m567\u001b[0m\u001b[0;34m\u001b[0m\u001b[0m\n\u001b[1;32m      2\u001b[0m \u001b[0;32mfor\u001b[0m \u001b[0mlink\u001b[0m \u001b[0;32min\u001b[0m \u001b[0moffice_chair_links\u001b[0m\u001b[0;34m[\u001b[0m\u001b[0;36m567\u001b[0m\u001b[0;34m:\u001b[0m\u001b[0;34m]\u001b[0m\u001b[0;34m:\u001b[0m\u001b[0;34m\u001b[0m\u001b[0m\n\u001b[0;32m----> 3\u001b[0;31m     \u001b[0mproduct_dict\u001b[0m \u001b[0;34m=\u001b[0m \u001b[0mwayfair_product_info_scrapper\u001b[0m\u001b[0;34m(\u001b[0m\u001b[0mlink\u001b[0m\u001b[0;34m,\u001b[0m \u001b[0mcategory_input\u001b[0m\u001b[0;34m=\u001b[0m\u001b[0;34m'office_chair'\u001b[0m\u001b[0;34m)\u001b[0m\u001b[0;34m\u001b[0m\u001b[0m\n\u001b[0m\u001b[1;32m      4\u001b[0m     \u001b[0mdf_product\u001b[0m \u001b[0;34m=\u001b[0m \u001b[0mpd\u001b[0m\u001b[0;34m.\u001b[0m\u001b[0mDataFrame\u001b[0m\u001b[0;34m(\u001b[0m\u001b[0;34m[\u001b[0m\u001b[0mproduct_dict\u001b[0m\u001b[0;34m]\u001b[0m\u001b[0;34m,\u001b[0m \u001b[0mindex\u001b[0m\u001b[0;34m=\u001b[0m\u001b[0;34m[\u001b[0m\u001b[0mi\u001b[0m\u001b[0;34m]\u001b[0m\u001b[0;34m)\u001b[0m\u001b[0;34m\u001b[0m\u001b[0m\n\u001b[1;32m      5\u001b[0m     \u001b[0moffice_chair_df\u001b[0m \u001b[0;34m=\u001b[0m \u001b[0mpd\u001b[0m\u001b[0;34m.\u001b[0m\u001b[0mconcat\u001b[0m\u001b[0;34m(\u001b[0m\u001b[0;34m[\u001b[0m\u001b[0moffice_chair_df\u001b[0m\u001b[0;34m,\u001b[0m \u001b[0mdf_product\u001b[0m\u001b[0;34m]\u001b[0m\u001b[0;34m,\u001b[0m \u001b[0maxis\u001b[0m\u001b[0;34m=\u001b[0m\u001b[0;36m0\u001b[0m\u001b[0;34m)\u001b[0m\u001b[0;34m\u001b[0m\u001b[0m\n",
      "\u001b[0;32m<ipython-input-488-95e4aa27a703>\u001b[0m in \u001b[0;36mwayfair_product_info_scrapper\u001b[0;34m(link, category_input)\u001b[0m\n\u001b[1;32m     81\u001b[0m             \u001b[0mcolor_key\u001b[0m \u001b[0;34m=\u001b[0m \u001b[0mcolors\u001b[0m\u001b[0;34m[\u001b[0m\u001b[0mi\u001b[0m\u001b[0;34m]\u001b[0m\u001b[0;34m\u001b[0m\u001b[0m\n\u001b[1;32m     82\u001b[0m             \u001b[0mlink_color\u001b[0m \u001b[0;34m=\u001b[0m \u001b[0mlink\u001b[0m \u001b[0;34m+\u001b[0m \u001b[0mcolor_link\u001b[0m\u001b[0;34m\u001b[0m\u001b[0m\n\u001b[0;32m---> 83\u001b[0;31m             \u001b[0mhtml_color\u001b[0m  \u001b[0;34m=\u001b[0m \u001b[0murlopen\u001b[0m\u001b[0;34m(\u001b[0m\u001b[0mlink_color\u001b[0m\u001b[0;34m,\u001b[0m \u001b[0mtimeout\u001b[0m\u001b[0;34m=\u001b[0m\u001b[0;36m100\u001b[0m\u001b[0;34m)\u001b[0m\u001b[0;34m\u001b[0m\u001b[0m\n\u001b[0m\u001b[1;32m     84\u001b[0m             \u001b[0msoup_color\u001b[0m \u001b[0;34m=\u001b[0m \u001b[0mBeautifulSoup\u001b[0m\u001b[0;34m(\u001b[0m\u001b[0mhtml_color\u001b[0m\u001b[0;34m,\u001b[0m \u001b[0;34m'html.parser'\u001b[0m\u001b[0;34m)\u001b[0m\u001b[0;34m\u001b[0m\u001b[0m\n\u001b[1;32m     85\u001b[0m             \u001b[0mimage_info_color\u001b[0m \u001b[0;34m=\u001b[0m \u001b[0msoup_color\u001b[0m\u001b[0;34m.\u001b[0m\u001b[0mfindAll\u001b[0m\u001b[0;34m(\u001b[0m\u001b[0;34m'a'\u001b[0m\u001b[0;34m,\u001b[0m \u001b[0;34m{\u001b[0m\u001b[0;34m'class'\u001b[0m\u001b[0;34m:\u001b[0m \u001b[0;34m'photoswipe_link'\u001b[0m\u001b[0;34m}\u001b[0m\u001b[0;34m)\u001b[0m\u001b[0;34m\u001b[0m\u001b[0m\n",
      "\u001b[0;32m//anaconda/lib/python2.7/urllib2.pyc\u001b[0m in \u001b[0;36murlopen\u001b[0;34m(url, data, timeout, cafile, capath, cadefault, context)\u001b[0m\n\u001b[1;32m    152\u001b[0m     \u001b[0;32melse\u001b[0m\u001b[0;34m:\u001b[0m\u001b[0;34m\u001b[0m\u001b[0m\n\u001b[1;32m    153\u001b[0m         \u001b[0mopener\u001b[0m \u001b[0;34m=\u001b[0m \u001b[0m_opener\u001b[0m\u001b[0;34m\u001b[0m\u001b[0m\n\u001b[0;32m--> 154\u001b[0;31m     \u001b[0;32mreturn\u001b[0m \u001b[0mopener\u001b[0m\u001b[0;34m.\u001b[0m\u001b[0mopen\u001b[0m\u001b[0;34m(\u001b[0m\u001b[0murl\u001b[0m\u001b[0;34m,\u001b[0m \u001b[0mdata\u001b[0m\u001b[0;34m,\u001b[0m \u001b[0mtimeout\u001b[0m\u001b[0;34m)\u001b[0m\u001b[0;34m\u001b[0m\u001b[0m\n\u001b[0m\u001b[1;32m    155\u001b[0m \u001b[0;34m\u001b[0m\u001b[0m\n\u001b[1;32m    156\u001b[0m \u001b[0;32mdef\u001b[0m \u001b[0minstall_opener\u001b[0m\u001b[0;34m(\u001b[0m\u001b[0mopener\u001b[0m\u001b[0;34m)\u001b[0m\u001b[0;34m:\u001b[0m\u001b[0;34m\u001b[0m\u001b[0m\n",
      "\u001b[0;32m//anaconda/lib/python2.7/urllib2.pyc\u001b[0m in \u001b[0;36mopen\u001b[0;34m(self, fullurl, data, timeout)\u001b[0m\n\u001b[1;32m    429\u001b[0m             \u001b[0mreq\u001b[0m \u001b[0;34m=\u001b[0m \u001b[0mmeth\u001b[0m\u001b[0;34m(\u001b[0m\u001b[0mreq\u001b[0m\u001b[0;34m)\u001b[0m\u001b[0;34m\u001b[0m\u001b[0m\n\u001b[1;32m    430\u001b[0m \u001b[0;34m\u001b[0m\u001b[0m\n\u001b[0;32m--> 431\u001b[0;31m         \u001b[0mresponse\u001b[0m \u001b[0;34m=\u001b[0m \u001b[0mself\u001b[0m\u001b[0;34m.\u001b[0m\u001b[0m_open\u001b[0m\u001b[0;34m(\u001b[0m\u001b[0mreq\u001b[0m\u001b[0;34m,\u001b[0m \u001b[0mdata\u001b[0m\u001b[0;34m)\u001b[0m\u001b[0;34m\u001b[0m\u001b[0m\n\u001b[0m\u001b[1;32m    432\u001b[0m \u001b[0;34m\u001b[0m\u001b[0m\n\u001b[1;32m    433\u001b[0m         \u001b[0;31m# post-process response\u001b[0m\u001b[0;34m\u001b[0m\u001b[0;34m\u001b[0m\u001b[0m\n",
      "\u001b[0;32m//anaconda/lib/python2.7/urllib2.pyc\u001b[0m in \u001b[0;36m_open\u001b[0;34m(self, req, data)\u001b[0m\n\u001b[1;32m    447\u001b[0m         \u001b[0mprotocol\u001b[0m \u001b[0;34m=\u001b[0m \u001b[0mreq\u001b[0m\u001b[0;34m.\u001b[0m\u001b[0mget_type\u001b[0m\u001b[0;34m(\u001b[0m\u001b[0;34m)\u001b[0m\u001b[0;34m\u001b[0m\u001b[0m\n\u001b[1;32m    448\u001b[0m         result = self._call_chain(self.handle_open, protocol, protocol +\n\u001b[0;32m--> 449\u001b[0;31m                                   '_open', req)\n\u001b[0m\u001b[1;32m    450\u001b[0m         \u001b[0;32mif\u001b[0m \u001b[0mresult\u001b[0m\u001b[0;34m:\u001b[0m\u001b[0;34m\u001b[0m\u001b[0m\n\u001b[1;32m    451\u001b[0m             \u001b[0;32mreturn\u001b[0m \u001b[0mresult\u001b[0m\u001b[0;34m\u001b[0m\u001b[0m\n",
      "\u001b[0;32m//anaconda/lib/python2.7/urllib2.pyc\u001b[0m in \u001b[0;36m_call_chain\u001b[0;34m(self, chain, kind, meth_name, *args)\u001b[0m\n\u001b[1;32m    407\u001b[0m             \u001b[0mfunc\u001b[0m \u001b[0;34m=\u001b[0m \u001b[0mgetattr\u001b[0m\u001b[0;34m(\u001b[0m\u001b[0mhandler\u001b[0m\u001b[0;34m,\u001b[0m \u001b[0mmeth_name\u001b[0m\u001b[0;34m)\u001b[0m\u001b[0;34m\u001b[0m\u001b[0m\n\u001b[1;32m    408\u001b[0m \u001b[0;34m\u001b[0m\u001b[0m\n\u001b[0;32m--> 409\u001b[0;31m             \u001b[0mresult\u001b[0m \u001b[0;34m=\u001b[0m \u001b[0mfunc\u001b[0m\u001b[0;34m(\u001b[0m\u001b[0;34m*\u001b[0m\u001b[0margs\u001b[0m\u001b[0;34m)\u001b[0m\u001b[0;34m\u001b[0m\u001b[0m\n\u001b[0m\u001b[1;32m    410\u001b[0m             \u001b[0;32mif\u001b[0m \u001b[0mresult\u001b[0m \u001b[0;32mis\u001b[0m \u001b[0;32mnot\u001b[0m \u001b[0mNone\u001b[0m\u001b[0;34m:\u001b[0m\u001b[0;34m\u001b[0m\u001b[0m\n\u001b[1;32m    411\u001b[0m                 \u001b[0;32mreturn\u001b[0m \u001b[0mresult\u001b[0m\u001b[0;34m\u001b[0m\u001b[0m\n",
      "\u001b[0;32m//anaconda/lib/python2.7/urllib2.pyc\u001b[0m in \u001b[0;36mhttp_open\u001b[0;34m(self, req)\u001b[0m\n\u001b[1;32m   1225\u001b[0m \u001b[0;34m\u001b[0m\u001b[0m\n\u001b[1;32m   1226\u001b[0m     \u001b[0;32mdef\u001b[0m \u001b[0mhttp_open\u001b[0m\u001b[0;34m(\u001b[0m\u001b[0mself\u001b[0m\u001b[0;34m,\u001b[0m \u001b[0mreq\u001b[0m\u001b[0;34m)\u001b[0m\u001b[0;34m:\u001b[0m\u001b[0;34m\u001b[0m\u001b[0m\n\u001b[0;32m-> 1227\u001b[0;31m         \u001b[0;32mreturn\u001b[0m \u001b[0mself\u001b[0m\u001b[0;34m.\u001b[0m\u001b[0mdo_open\u001b[0m\u001b[0;34m(\u001b[0m\u001b[0mhttplib\u001b[0m\u001b[0;34m.\u001b[0m\u001b[0mHTTPConnection\u001b[0m\u001b[0;34m,\u001b[0m \u001b[0mreq\u001b[0m\u001b[0;34m)\u001b[0m\u001b[0;34m\u001b[0m\u001b[0m\n\u001b[0m\u001b[1;32m   1228\u001b[0m \u001b[0;34m\u001b[0m\u001b[0m\n\u001b[1;32m   1229\u001b[0m     \u001b[0mhttp_request\u001b[0m \u001b[0;34m=\u001b[0m \u001b[0mAbstractHTTPHandler\u001b[0m\u001b[0;34m.\u001b[0m\u001b[0mdo_request_\u001b[0m\u001b[0;34m\u001b[0m\u001b[0m\n",
      "\u001b[0;32m//anaconda/lib/python2.7/urllib2.pyc\u001b[0m in \u001b[0;36mdo_open\u001b[0;34m(self, http_class, req, **http_conn_args)\u001b[0m\n\u001b[1;32m   1198\u001b[0m         \u001b[0;32melse\u001b[0m\u001b[0;34m:\u001b[0m\u001b[0;34m\u001b[0m\u001b[0m\n\u001b[1;32m   1199\u001b[0m             \u001b[0;32mtry\u001b[0m\u001b[0;34m:\u001b[0m\u001b[0;34m\u001b[0m\u001b[0m\n\u001b[0;32m-> 1200\u001b[0;31m                 \u001b[0mr\u001b[0m \u001b[0;34m=\u001b[0m \u001b[0mh\u001b[0m\u001b[0;34m.\u001b[0m\u001b[0mgetresponse\u001b[0m\u001b[0;34m(\u001b[0m\u001b[0mbuffering\u001b[0m\u001b[0;34m=\u001b[0m\u001b[0mTrue\u001b[0m\u001b[0;34m)\u001b[0m\u001b[0;34m\u001b[0m\u001b[0m\n\u001b[0m\u001b[1;32m   1201\u001b[0m             \u001b[0;32mexcept\u001b[0m \u001b[0mTypeError\u001b[0m\u001b[0;34m:\u001b[0m \u001b[0;31m# buffering kw not supported\u001b[0m\u001b[0;34m\u001b[0m\u001b[0m\n\u001b[1;32m   1202\u001b[0m                 \u001b[0mr\u001b[0m \u001b[0;34m=\u001b[0m \u001b[0mh\u001b[0m\u001b[0;34m.\u001b[0m\u001b[0mgetresponse\u001b[0m\u001b[0;34m(\u001b[0m\u001b[0;34m)\u001b[0m\u001b[0;34m\u001b[0m\u001b[0m\n",
      "\u001b[0;32m//anaconda/lib/python2.7/httplib.pyc\u001b[0m in \u001b[0;36mgetresponse\u001b[0;34m(self, buffering)\u001b[0m\n\u001b[1;32m   1130\u001b[0m \u001b[0;34m\u001b[0m\u001b[0m\n\u001b[1;32m   1131\u001b[0m         \u001b[0;32mtry\u001b[0m\u001b[0;34m:\u001b[0m\u001b[0;34m\u001b[0m\u001b[0m\n\u001b[0;32m-> 1132\u001b[0;31m             \u001b[0mresponse\u001b[0m\u001b[0;34m.\u001b[0m\u001b[0mbegin\u001b[0m\u001b[0;34m(\u001b[0m\u001b[0;34m)\u001b[0m\u001b[0;34m\u001b[0m\u001b[0m\n\u001b[0m\u001b[1;32m   1133\u001b[0m             \u001b[0;32massert\u001b[0m \u001b[0mresponse\u001b[0m\u001b[0;34m.\u001b[0m\u001b[0mwill_close\u001b[0m \u001b[0;34m!=\u001b[0m \u001b[0m_UNKNOWN\u001b[0m\u001b[0;34m\u001b[0m\u001b[0m\n\u001b[1;32m   1134\u001b[0m             \u001b[0mself\u001b[0m\u001b[0;34m.\u001b[0m\u001b[0m__state\u001b[0m \u001b[0;34m=\u001b[0m \u001b[0m_CS_IDLE\u001b[0m\u001b[0;34m\u001b[0m\u001b[0m\n",
      "\u001b[0;32m//anaconda/lib/python2.7/httplib.pyc\u001b[0m in \u001b[0;36mbegin\u001b[0;34m(self)\u001b[0m\n\u001b[1;32m    451\u001b[0m         \u001b[0;31m# read until we get a non-100 response\u001b[0m\u001b[0;34m\u001b[0m\u001b[0;34m\u001b[0m\u001b[0m\n\u001b[1;32m    452\u001b[0m         \u001b[0;32mwhile\u001b[0m \u001b[0mTrue\u001b[0m\u001b[0;34m:\u001b[0m\u001b[0;34m\u001b[0m\u001b[0m\n\u001b[0;32m--> 453\u001b[0;31m             \u001b[0mversion\u001b[0m\u001b[0;34m,\u001b[0m \u001b[0mstatus\u001b[0m\u001b[0;34m,\u001b[0m \u001b[0mreason\u001b[0m \u001b[0;34m=\u001b[0m \u001b[0mself\u001b[0m\u001b[0;34m.\u001b[0m\u001b[0m_read_status\u001b[0m\u001b[0;34m(\u001b[0m\u001b[0;34m)\u001b[0m\u001b[0;34m\u001b[0m\u001b[0m\n\u001b[0m\u001b[1;32m    454\u001b[0m             \u001b[0;32mif\u001b[0m \u001b[0mstatus\u001b[0m \u001b[0;34m!=\u001b[0m \u001b[0mCONTINUE\u001b[0m\u001b[0;34m:\u001b[0m\u001b[0;34m\u001b[0m\u001b[0m\n\u001b[1;32m    455\u001b[0m                 \u001b[0;32mbreak\u001b[0m\u001b[0;34m\u001b[0m\u001b[0m\n",
      "\u001b[0;32m//anaconda/lib/python2.7/httplib.pyc\u001b[0m in \u001b[0;36m_read_status\u001b[0;34m(self)\u001b[0m\n\u001b[1;32m    407\u001b[0m     \u001b[0;32mdef\u001b[0m \u001b[0m_read_status\u001b[0m\u001b[0;34m(\u001b[0m\u001b[0mself\u001b[0m\u001b[0;34m)\u001b[0m\u001b[0;34m:\u001b[0m\u001b[0;34m\u001b[0m\u001b[0m\n\u001b[1;32m    408\u001b[0m         \u001b[0;31m# Initialize with Simple-Response defaults\u001b[0m\u001b[0;34m\u001b[0m\u001b[0;34m\u001b[0m\u001b[0m\n\u001b[0;32m--> 409\u001b[0;31m         \u001b[0mline\u001b[0m \u001b[0;34m=\u001b[0m \u001b[0mself\u001b[0m\u001b[0;34m.\u001b[0m\u001b[0mfp\u001b[0m\u001b[0;34m.\u001b[0m\u001b[0mreadline\u001b[0m\u001b[0;34m(\u001b[0m\u001b[0m_MAXLINE\u001b[0m \u001b[0;34m+\u001b[0m \u001b[0;36m1\u001b[0m\u001b[0;34m)\u001b[0m\u001b[0;34m\u001b[0m\u001b[0m\n\u001b[0m\u001b[1;32m    410\u001b[0m         \u001b[0;32mif\u001b[0m \u001b[0mlen\u001b[0m\u001b[0;34m(\u001b[0m\u001b[0mline\u001b[0m\u001b[0;34m)\u001b[0m \u001b[0;34m>\u001b[0m \u001b[0m_MAXLINE\u001b[0m\u001b[0;34m:\u001b[0m\u001b[0;34m\u001b[0m\u001b[0m\n\u001b[1;32m    411\u001b[0m             \u001b[0;32mraise\u001b[0m \u001b[0mLineTooLong\u001b[0m\u001b[0;34m(\u001b[0m\u001b[0;34m\"header line\"\u001b[0m\u001b[0;34m)\u001b[0m\u001b[0;34m\u001b[0m\u001b[0m\n",
      "\u001b[0;32m//anaconda/lib/python2.7/socket.pyc\u001b[0m in \u001b[0;36mreadline\u001b[0;34m(self, size)\u001b[0m\n\u001b[1;32m    478\u001b[0m             \u001b[0;32mwhile\u001b[0m \u001b[0mTrue\u001b[0m\u001b[0;34m:\u001b[0m\u001b[0;34m\u001b[0m\u001b[0m\n\u001b[1;32m    479\u001b[0m                 \u001b[0;32mtry\u001b[0m\u001b[0;34m:\u001b[0m\u001b[0;34m\u001b[0m\u001b[0m\n\u001b[0;32m--> 480\u001b[0;31m                     \u001b[0mdata\u001b[0m \u001b[0;34m=\u001b[0m \u001b[0mself\u001b[0m\u001b[0;34m.\u001b[0m\u001b[0m_sock\u001b[0m\u001b[0;34m.\u001b[0m\u001b[0mrecv\u001b[0m\u001b[0;34m(\u001b[0m\u001b[0mself\u001b[0m\u001b[0;34m.\u001b[0m\u001b[0m_rbufsize\u001b[0m\u001b[0;34m)\u001b[0m\u001b[0;34m\u001b[0m\u001b[0m\n\u001b[0m\u001b[1;32m    481\u001b[0m                 \u001b[0;32mexcept\u001b[0m \u001b[0merror\u001b[0m\u001b[0;34m,\u001b[0m \u001b[0me\u001b[0m\u001b[0;34m:\u001b[0m\u001b[0;34m\u001b[0m\u001b[0m\n\u001b[1;32m    482\u001b[0m                     \u001b[0;32mif\u001b[0m \u001b[0me\u001b[0m\u001b[0;34m.\u001b[0m\u001b[0margs\u001b[0m\u001b[0;34m[\u001b[0m\u001b[0;36m0\u001b[0m\u001b[0;34m]\u001b[0m \u001b[0;34m==\u001b[0m \u001b[0mEINTR\u001b[0m\u001b[0;34m:\u001b[0m\u001b[0;34m\u001b[0m\u001b[0m\n",
      "\u001b[0;31merror\u001b[0m: [Errno 60] Operation timed out"
     ]
    }
   ],
   "source": [
    "i = 567\n",
    "for link in office_chair_links[567:]:\n",
    "    product_dict = wayfair_product_info_scrapper(link, category_input='office_chair')\n",
    "    df_product = pd.DataFrame([product_dict], index=[i])\n",
    "    office_chair_df = pd.concat([office_chair_df, df_product], axis=0)\n",
    "    i += 1\n",
    "    if i % 20 == 0:\n",
    "        print i"
   ]
  },
  {
   "cell_type": "code",
   "execution_count": 492,
   "metadata": {
    "collapsed": false
   },
   "outputs": [
    {
     "name": "stdout",
     "output_type": "stream",
     "text": [
      "<class 'pandas.core.frame.DataFrame'>\n",
      "Int64Index: 722 entries, 0 to 721\n",
      "Data columns (total 15 columns):\n",
      "category                722 non-null object\n",
      "colors                  722 non-null object\n",
      "description             412 non-null object\n",
      "features                722 non-null object\n",
      "image_links_all         722 non-null object\n",
      "image_links_by_color    722 non-null object\n",
      "manufacturer            722 non-null object\n",
      "price                   722 non-null object\n",
      "product_id              722 non-null object\n",
      "rating_avg              649 non-null object\n",
      "rating_count            649 non-null object\n",
      "specs                   721 non-null object\n",
      "title                   722 non-null object\n",
      "url                     722 non-null object\n",
      "website                 722 non-null object\n",
      "dtypes: object(15)\n",
      "memory usage: 90.2+ KB\n"
     ]
    }
   ],
   "source": [
    "office_chair_df.info()"
   ]
  },
  {
   "cell_type": "code",
   "execution_count": 493,
   "metadata": {
    "collapsed": false
   },
   "outputs": [
    {
     "name": "stdout",
     "output_type": "stream",
     "text": [
      "740\n",
      "760\n",
      "780\n",
      "800\n"
     ]
    },
    {
     "ename": "error",
     "evalue": "[Errno 60] Operation timed out",
     "output_type": "error",
     "traceback": [
      "\u001b[0;31m---------------------------------------------------------------------------\u001b[0m",
      "\u001b[0;31merror\u001b[0m                                     Traceback (most recent call last)",
      "\u001b[0;32m<ipython-input-493-c40e446dae11>\u001b[0m in \u001b[0;36m<module>\u001b[0;34m()\u001b[0m\n\u001b[1;32m      1\u001b[0m \u001b[0mi\u001b[0m \u001b[0;34m=\u001b[0m \u001b[0;36m722\u001b[0m\u001b[0;34m\u001b[0m\u001b[0m\n\u001b[1;32m      2\u001b[0m \u001b[0;32mfor\u001b[0m \u001b[0mlink\u001b[0m \u001b[0;32min\u001b[0m \u001b[0moffice_chair_links\u001b[0m\u001b[0;34m[\u001b[0m\u001b[0;36m722\u001b[0m\u001b[0;34m:\u001b[0m\u001b[0;34m]\u001b[0m\u001b[0;34m:\u001b[0m\u001b[0;34m\u001b[0m\u001b[0m\n\u001b[0;32m----> 3\u001b[0;31m     \u001b[0mproduct_dict\u001b[0m \u001b[0;34m=\u001b[0m \u001b[0mwayfair_product_info_scrapper\u001b[0m\u001b[0;34m(\u001b[0m\u001b[0mlink\u001b[0m\u001b[0;34m,\u001b[0m \u001b[0mcategory_input\u001b[0m\u001b[0;34m=\u001b[0m\u001b[0;34m'office_chair'\u001b[0m\u001b[0;34m)\u001b[0m\u001b[0;34m\u001b[0m\u001b[0m\n\u001b[0m\u001b[1;32m      4\u001b[0m     \u001b[0mdf_product\u001b[0m \u001b[0;34m=\u001b[0m \u001b[0mpd\u001b[0m\u001b[0;34m.\u001b[0m\u001b[0mDataFrame\u001b[0m\u001b[0;34m(\u001b[0m\u001b[0;34m[\u001b[0m\u001b[0mproduct_dict\u001b[0m\u001b[0;34m]\u001b[0m\u001b[0;34m,\u001b[0m \u001b[0mindex\u001b[0m\u001b[0;34m=\u001b[0m\u001b[0;34m[\u001b[0m\u001b[0mi\u001b[0m\u001b[0;34m]\u001b[0m\u001b[0;34m)\u001b[0m\u001b[0;34m\u001b[0m\u001b[0m\n\u001b[1;32m      5\u001b[0m     \u001b[0moffice_chair_df\u001b[0m \u001b[0;34m=\u001b[0m \u001b[0mpd\u001b[0m\u001b[0;34m.\u001b[0m\u001b[0mconcat\u001b[0m\u001b[0;34m(\u001b[0m\u001b[0;34m[\u001b[0m\u001b[0moffice_chair_df\u001b[0m\u001b[0;34m,\u001b[0m \u001b[0mdf_product\u001b[0m\u001b[0;34m]\u001b[0m\u001b[0;34m,\u001b[0m \u001b[0maxis\u001b[0m\u001b[0;34m=\u001b[0m\u001b[0;36m0\u001b[0m\u001b[0;34m)\u001b[0m\u001b[0;34m\u001b[0m\u001b[0m\n",
      "\u001b[0;32m<ipython-input-488-95e4aa27a703>\u001b[0m in \u001b[0;36mwayfair_product_info_scrapper\u001b[0;34m(link, category_input)\u001b[0m\n\u001b[1;32m     81\u001b[0m             \u001b[0mcolor_key\u001b[0m \u001b[0;34m=\u001b[0m \u001b[0mcolors\u001b[0m\u001b[0;34m[\u001b[0m\u001b[0mi\u001b[0m\u001b[0;34m]\u001b[0m\u001b[0;34m\u001b[0m\u001b[0m\n\u001b[1;32m     82\u001b[0m             \u001b[0mlink_color\u001b[0m \u001b[0;34m=\u001b[0m \u001b[0mlink\u001b[0m \u001b[0;34m+\u001b[0m \u001b[0mcolor_link\u001b[0m\u001b[0;34m\u001b[0m\u001b[0m\n\u001b[0;32m---> 83\u001b[0;31m             \u001b[0mhtml_color\u001b[0m  \u001b[0;34m=\u001b[0m \u001b[0murlopen\u001b[0m\u001b[0;34m(\u001b[0m\u001b[0mlink_color\u001b[0m\u001b[0;34m,\u001b[0m \u001b[0mtimeout\u001b[0m\u001b[0;34m=\u001b[0m\u001b[0;36m100\u001b[0m\u001b[0;34m)\u001b[0m\u001b[0;34m\u001b[0m\u001b[0m\n\u001b[0m\u001b[1;32m     84\u001b[0m             \u001b[0msoup_color\u001b[0m \u001b[0;34m=\u001b[0m \u001b[0mBeautifulSoup\u001b[0m\u001b[0;34m(\u001b[0m\u001b[0mhtml_color\u001b[0m\u001b[0;34m,\u001b[0m \u001b[0;34m'html.parser'\u001b[0m\u001b[0;34m)\u001b[0m\u001b[0;34m\u001b[0m\u001b[0m\n\u001b[1;32m     85\u001b[0m             \u001b[0mimage_info_color\u001b[0m \u001b[0;34m=\u001b[0m \u001b[0msoup_color\u001b[0m\u001b[0;34m.\u001b[0m\u001b[0mfindAll\u001b[0m\u001b[0;34m(\u001b[0m\u001b[0;34m'a'\u001b[0m\u001b[0;34m,\u001b[0m \u001b[0;34m{\u001b[0m\u001b[0;34m'class'\u001b[0m\u001b[0;34m:\u001b[0m \u001b[0;34m'photoswipe_link'\u001b[0m\u001b[0;34m}\u001b[0m\u001b[0;34m)\u001b[0m\u001b[0;34m\u001b[0m\u001b[0m\n",
      "\u001b[0;32m//anaconda/lib/python2.7/urllib2.pyc\u001b[0m in \u001b[0;36murlopen\u001b[0;34m(url, data, timeout, cafile, capath, cadefault, context)\u001b[0m\n\u001b[1;32m    152\u001b[0m     \u001b[0;32melse\u001b[0m\u001b[0;34m:\u001b[0m\u001b[0;34m\u001b[0m\u001b[0m\n\u001b[1;32m    153\u001b[0m         \u001b[0mopener\u001b[0m \u001b[0;34m=\u001b[0m \u001b[0m_opener\u001b[0m\u001b[0;34m\u001b[0m\u001b[0m\n\u001b[0;32m--> 154\u001b[0;31m     \u001b[0;32mreturn\u001b[0m \u001b[0mopener\u001b[0m\u001b[0;34m.\u001b[0m\u001b[0mopen\u001b[0m\u001b[0;34m(\u001b[0m\u001b[0murl\u001b[0m\u001b[0;34m,\u001b[0m \u001b[0mdata\u001b[0m\u001b[0;34m,\u001b[0m \u001b[0mtimeout\u001b[0m\u001b[0;34m)\u001b[0m\u001b[0;34m\u001b[0m\u001b[0m\n\u001b[0m\u001b[1;32m    155\u001b[0m \u001b[0;34m\u001b[0m\u001b[0m\n\u001b[1;32m    156\u001b[0m \u001b[0;32mdef\u001b[0m \u001b[0minstall_opener\u001b[0m\u001b[0;34m(\u001b[0m\u001b[0mopener\u001b[0m\u001b[0;34m)\u001b[0m\u001b[0;34m:\u001b[0m\u001b[0;34m\u001b[0m\u001b[0m\n",
      "\u001b[0;32m//anaconda/lib/python2.7/urllib2.pyc\u001b[0m in \u001b[0;36mopen\u001b[0;34m(self, fullurl, data, timeout)\u001b[0m\n\u001b[1;32m    429\u001b[0m             \u001b[0mreq\u001b[0m \u001b[0;34m=\u001b[0m \u001b[0mmeth\u001b[0m\u001b[0;34m(\u001b[0m\u001b[0mreq\u001b[0m\u001b[0;34m)\u001b[0m\u001b[0;34m\u001b[0m\u001b[0m\n\u001b[1;32m    430\u001b[0m \u001b[0;34m\u001b[0m\u001b[0m\n\u001b[0;32m--> 431\u001b[0;31m         \u001b[0mresponse\u001b[0m \u001b[0;34m=\u001b[0m \u001b[0mself\u001b[0m\u001b[0;34m.\u001b[0m\u001b[0m_open\u001b[0m\u001b[0;34m(\u001b[0m\u001b[0mreq\u001b[0m\u001b[0;34m,\u001b[0m \u001b[0mdata\u001b[0m\u001b[0;34m)\u001b[0m\u001b[0;34m\u001b[0m\u001b[0m\n\u001b[0m\u001b[1;32m    432\u001b[0m \u001b[0;34m\u001b[0m\u001b[0m\n\u001b[1;32m    433\u001b[0m         \u001b[0;31m# post-process response\u001b[0m\u001b[0;34m\u001b[0m\u001b[0;34m\u001b[0m\u001b[0m\n",
      "\u001b[0;32m//anaconda/lib/python2.7/urllib2.pyc\u001b[0m in \u001b[0;36m_open\u001b[0;34m(self, req, data)\u001b[0m\n\u001b[1;32m    447\u001b[0m         \u001b[0mprotocol\u001b[0m \u001b[0;34m=\u001b[0m \u001b[0mreq\u001b[0m\u001b[0;34m.\u001b[0m\u001b[0mget_type\u001b[0m\u001b[0;34m(\u001b[0m\u001b[0;34m)\u001b[0m\u001b[0;34m\u001b[0m\u001b[0m\n\u001b[1;32m    448\u001b[0m         result = self._call_chain(self.handle_open, protocol, protocol +\n\u001b[0;32m--> 449\u001b[0;31m                                   '_open', req)\n\u001b[0m\u001b[1;32m    450\u001b[0m         \u001b[0;32mif\u001b[0m \u001b[0mresult\u001b[0m\u001b[0;34m:\u001b[0m\u001b[0;34m\u001b[0m\u001b[0m\n\u001b[1;32m    451\u001b[0m             \u001b[0;32mreturn\u001b[0m \u001b[0mresult\u001b[0m\u001b[0;34m\u001b[0m\u001b[0m\n",
      "\u001b[0;32m//anaconda/lib/python2.7/urllib2.pyc\u001b[0m in \u001b[0;36m_call_chain\u001b[0;34m(self, chain, kind, meth_name, *args)\u001b[0m\n\u001b[1;32m    407\u001b[0m             \u001b[0mfunc\u001b[0m \u001b[0;34m=\u001b[0m \u001b[0mgetattr\u001b[0m\u001b[0;34m(\u001b[0m\u001b[0mhandler\u001b[0m\u001b[0;34m,\u001b[0m \u001b[0mmeth_name\u001b[0m\u001b[0;34m)\u001b[0m\u001b[0;34m\u001b[0m\u001b[0m\n\u001b[1;32m    408\u001b[0m \u001b[0;34m\u001b[0m\u001b[0m\n\u001b[0;32m--> 409\u001b[0;31m             \u001b[0mresult\u001b[0m \u001b[0;34m=\u001b[0m \u001b[0mfunc\u001b[0m\u001b[0;34m(\u001b[0m\u001b[0;34m*\u001b[0m\u001b[0margs\u001b[0m\u001b[0;34m)\u001b[0m\u001b[0;34m\u001b[0m\u001b[0m\n\u001b[0m\u001b[1;32m    410\u001b[0m             \u001b[0;32mif\u001b[0m \u001b[0mresult\u001b[0m \u001b[0;32mis\u001b[0m \u001b[0;32mnot\u001b[0m \u001b[0mNone\u001b[0m\u001b[0;34m:\u001b[0m\u001b[0;34m\u001b[0m\u001b[0m\n\u001b[1;32m    411\u001b[0m                 \u001b[0;32mreturn\u001b[0m \u001b[0mresult\u001b[0m\u001b[0;34m\u001b[0m\u001b[0m\n",
      "\u001b[0;32m//anaconda/lib/python2.7/urllib2.pyc\u001b[0m in \u001b[0;36mhttp_open\u001b[0;34m(self, req)\u001b[0m\n\u001b[1;32m   1225\u001b[0m \u001b[0;34m\u001b[0m\u001b[0m\n\u001b[1;32m   1226\u001b[0m     \u001b[0;32mdef\u001b[0m \u001b[0mhttp_open\u001b[0m\u001b[0;34m(\u001b[0m\u001b[0mself\u001b[0m\u001b[0;34m,\u001b[0m \u001b[0mreq\u001b[0m\u001b[0;34m)\u001b[0m\u001b[0;34m:\u001b[0m\u001b[0;34m\u001b[0m\u001b[0m\n\u001b[0;32m-> 1227\u001b[0;31m         \u001b[0;32mreturn\u001b[0m \u001b[0mself\u001b[0m\u001b[0;34m.\u001b[0m\u001b[0mdo_open\u001b[0m\u001b[0;34m(\u001b[0m\u001b[0mhttplib\u001b[0m\u001b[0;34m.\u001b[0m\u001b[0mHTTPConnection\u001b[0m\u001b[0;34m,\u001b[0m \u001b[0mreq\u001b[0m\u001b[0;34m)\u001b[0m\u001b[0;34m\u001b[0m\u001b[0m\n\u001b[0m\u001b[1;32m   1228\u001b[0m \u001b[0;34m\u001b[0m\u001b[0m\n\u001b[1;32m   1229\u001b[0m     \u001b[0mhttp_request\u001b[0m \u001b[0;34m=\u001b[0m \u001b[0mAbstractHTTPHandler\u001b[0m\u001b[0;34m.\u001b[0m\u001b[0mdo_request_\u001b[0m\u001b[0;34m\u001b[0m\u001b[0m\n",
      "\u001b[0;32m//anaconda/lib/python2.7/urllib2.pyc\u001b[0m in \u001b[0;36mdo_open\u001b[0;34m(self, http_class, req, **http_conn_args)\u001b[0m\n\u001b[1;32m   1198\u001b[0m         \u001b[0;32melse\u001b[0m\u001b[0;34m:\u001b[0m\u001b[0;34m\u001b[0m\u001b[0m\n\u001b[1;32m   1199\u001b[0m             \u001b[0;32mtry\u001b[0m\u001b[0;34m:\u001b[0m\u001b[0;34m\u001b[0m\u001b[0m\n\u001b[0;32m-> 1200\u001b[0;31m                 \u001b[0mr\u001b[0m \u001b[0;34m=\u001b[0m \u001b[0mh\u001b[0m\u001b[0;34m.\u001b[0m\u001b[0mgetresponse\u001b[0m\u001b[0;34m(\u001b[0m\u001b[0mbuffering\u001b[0m\u001b[0;34m=\u001b[0m\u001b[0mTrue\u001b[0m\u001b[0;34m)\u001b[0m\u001b[0;34m\u001b[0m\u001b[0m\n\u001b[0m\u001b[1;32m   1201\u001b[0m             \u001b[0;32mexcept\u001b[0m \u001b[0mTypeError\u001b[0m\u001b[0;34m:\u001b[0m \u001b[0;31m# buffering kw not supported\u001b[0m\u001b[0;34m\u001b[0m\u001b[0m\n\u001b[1;32m   1202\u001b[0m                 \u001b[0mr\u001b[0m \u001b[0;34m=\u001b[0m \u001b[0mh\u001b[0m\u001b[0;34m.\u001b[0m\u001b[0mgetresponse\u001b[0m\u001b[0;34m(\u001b[0m\u001b[0;34m)\u001b[0m\u001b[0;34m\u001b[0m\u001b[0m\n",
      "\u001b[0;32m//anaconda/lib/python2.7/httplib.pyc\u001b[0m in \u001b[0;36mgetresponse\u001b[0;34m(self, buffering)\u001b[0m\n\u001b[1;32m   1130\u001b[0m \u001b[0;34m\u001b[0m\u001b[0m\n\u001b[1;32m   1131\u001b[0m         \u001b[0;32mtry\u001b[0m\u001b[0;34m:\u001b[0m\u001b[0;34m\u001b[0m\u001b[0m\n\u001b[0;32m-> 1132\u001b[0;31m             \u001b[0mresponse\u001b[0m\u001b[0;34m.\u001b[0m\u001b[0mbegin\u001b[0m\u001b[0;34m(\u001b[0m\u001b[0;34m)\u001b[0m\u001b[0;34m\u001b[0m\u001b[0m\n\u001b[0m\u001b[1;32m   1133\u001b[0m             \u001b[0;32massert\u001b[0m \u001b[0mresponse\u001b[0m\u001b[0;34m.\u001b[0m\u001b[0mwill_close\u001b[0m \u001b[0;34m!=\u001b[0m \u001b[0m_UNKNOWN\u001b[0m\u001b[0;34m\u001b[0m\u001b[0m\n\u001b[1;32m   1134\u001b[0m             \u001b[0mself\u001b[0m\u001b[0;34m.\u001b[0m\u001b[0m__state\u001b[0m \u001b[0;34m=\u001b[0m \u001b[0m_CS_IDLE\u001b[0m\u001b[0;34m\u001b[0m\u001b[0m\n",
      "\u001b[0;32m//anaconda/lib/python2.7/httplib.pyc\u001b[0m in \u001b[0;36mbegin\u001b[0;34m(self)\u001b[0m\n\u001b[1;32m    451\u001b[0m         \u001b[0;31m# read until we get a non-100 response\u001b[0m\u001b[0;34m\u001b[0m\u001b[0;34m\u001b[0m\u001b[0m\n\u001b[1;32m    452\u001b[0m         \u001b[0;32mwhile\u001b[0m \u001b[0mTrue\u001b[0m\u001b[0;34m:\u001b[0m\u001b[0;34m\u001b[0m\u001b[0m\n\u001b[0;32m--> 453\u001b[0;31m             \u001b[0mversion\u001b[0m\u001b[0;34m,\u001b[0m \u001b[0mstatus\u001b[0m\u001b[0;34m,\u001b[0m \u001b[0mreason\u001b[0m \u001b[0;34m=\u001b[0m \u001b[0mself\u001b[0m\u001b[0;34m.\u001b[0m\u001b[0m_read_status\u001b[0m\u001b[0;34m(\u001b[0m\u001b[0;34m)\u001b[0m\u001b[0;34m\u001b[0m\u001b[0m\n\u001b[0m\u001b[1;32m    454\u001b[0m             \u001b[0;32mif\u001b[0m \u001b[0mstatus\u001b[0m \u001b[0;34m!=\u001b[0m \u001b[0mCONTINUE\u001b[0m\u001b[0;34m:\u001b[0m\u001b[0;34m\u001b[0m\u001b[0m\n\u001b[1;32m    455\u001b[0m                 \u001b[0;32mbreak\u001b[0m\u001b[0;34m\u001b[0m\u001b[0m\n",
      "\u001b[0;32m//anaconda/lib/python2.7/httplib.pyc\u001b[0m in \u001b[0;36m_read_status\u001b[0;34m(self)\u001b[0m\n\u001b[1;32m    407\u001b[0m     \u001b[0;32mdef\u001b[0m \u001b[0m_read_status\u001b[0m\u001b[0;34m(\u001b[0m\u001b[0mself\u001b[0m\u001b[0;34m)\u001b[0m\u001b[0;34m:\u001b[0m\u001b[0;34m\u001b[0m\u001b[0m\n\u001b[1;32m    408\u001b[0m         \u001b[0;31m# Initialize with Simple-Response defaults\u001b[0m\u001b[0;34m\u001b[0m\u001b[0;34m\u001b[0m\u001b[0m\n\u001b[0;32m--> 409\u001b[0;31m         \u001b[0mline\u001b[0m \u001b[0;34m=\u001b[0m \u001b[0mself\u001b[0m\u001b[0;34m.\u001b[0m\u001b[0mfp\u001b[0m\u001b[0;34m.\u001b[0m\u001b[0mreadline\u001b[0m\u001b[0;34m(\u001b[0m\u001b[0m_MAXLINE\u001b[0m \u001b[0;34m+\u001b[0m \u001b[0;36m1\u001b[0m\u001b[0;34m)\u001b[0m\u001b[0;34m\u001b[0m\u001b[0m\n\u001b[0m\u001b[1;32m    410\u001b[0m         \u001b[0;32mif\u001b[0m \u001b[0mlen\u001b[0m\u001b[0;34m(\u001b[0m\u001b[0mline\u001b[0m\u001b[0;34m)\u001b[0m \u001b[0;34m>\u001b[0m \u001b[0m_MAXLINE\u001b[0m\u001b[0;34m:\u001b[0m\u001b[0;34m\u001b[0m\u001b[0m\n\u001b[1;32m    411\u001b[0m             \u001b[0;32mraise\u001b[0m \u001b[0mLineTooLong\u001b[0m\u001b[0;34m(\u001b[0m\u001b[0;34m\"header line\"\u001b[0m\u001b[0;34m)\u001b[0m\u001b[0;34m\u001b[0m\u001b[0m\n",
      "\u001b[0;32m//anaconda/lib/python2.7/socket.pyc\u001b[0m in \u001b[0;36mreadline\u001b[0;34m(self, size)\u001b[0m\n\u001b[1;32m    478\u001b[0m             \u001b[0;32mwhile\u001b[0m \u001b[0mTrue\u001b[0m\u001b[0;34m:\u001b[0m\u001b[0;34m\u001b[0m\u001b[0m\n\u001b[1;32m    479\u001b[0m                 \u001b[0;32mtry\u001b[0m\u001b[0;34m:\u001b[0m\u001b[0;34m\u001b[0m\u001b[0m\n\u001b[0;32m--> 480\u001b[0;31m                     \u001b[0mdata\u001b[0m \u001b[0;34m=\u001b[0m \u001b[0mself\u001b[0m\u001b[0;34m.\u001b[0m\u001b[0m_sock\u001b[0m\u001b[0;34m.\u001b[0m\u001b[0mrecv\u001b[0m\u001b[0;34m(\u001b[0m\u001b[0mself\u001b[0m\u001b[0;34m.\u001b[0m\u001b[0m_rbufsize\u001b[0m\u001b[0;34m)\u001b[0m\u001b[0;34m\u001b[0m\u001b[0m\n\u001b[0m\u001b[1;32m    481\u001b[0m                 \u001b[0;32mexcept\u001b[0m \u001b[0merror\u001b[0m\u001b[0;34m,\u001b[0m \u001b[0me\u001b[0m\u001b[0;34m:\u001b[0m\u001b[0;34m\u001b[0m\u001b[0m\n\u001b[1;32m    482\u001b[0m                     \u001b[0;32mif\u001b[0m \u001b[0me\u001b[0m\u001b[0;34m.\u001b[0m\u001b[0margs\u001b[0m\u001b[0;34m[\u001b[0m\u001b[0;36m0\u001b[0m\u001b[0;34m]\u001b[0m \u001b[0;34m==\u001b[0m \u001b[0mEINTR\u001b[0m\u001b[0;34m:\u001b[0m\u001b[0;34m\u001b[0m\u001b[0m\n",
      "\u001b[0;31merror\u001b[0m: [Errno 60] Operation timed out"
     ]
    }
   ],
   "source": [
    "i = 722\n",
    "for link in office_chair_links[722:]:\n",
    "    product_dict = wayfair_product_info_scrapper(link, category_input='office_chair')\n",
    "    df_product = pd.DataFrame([product_dict], index=[i])\n",
    "    office_chair_df = pd.concat([office_chair_df, df_product], axis=0)\n",
    "    i += 1\n",
    "    if i % 20 == 0:\n",
    "        print i"
   ]
  },
  {
   "cell_type": "code",
   "execution_count": 494,
   "metadata": {
    "collapsed": false
   },
   "outputs": [
    {
     "name": "stdout",
     "output_type": "stream",
     "text": [
      "<class 'pandas.core.frame.DataFrame'>\n",
      "Int64Index: 816 entries, 0 to 815\n",
      "Data columns (total 15 columns):\n",
      "category                816 non-null object\n",
      "colors                  816 non-null object\n",
      "description             458 non-null object\n",
      "features                816 non-null object\n",
      "image_links_all         816 non-null object\n",
      "image_links_by_color    816 non-null object\n",
      "manufacturer            816 non-null object\n",
      "price                   816 non-null object\n",
      "product_id              816 non-null object\n",
      "rating_avg              720 non-null object\n",
      "rating_count            720 non-null object\n",
      "specs                   814 non-null object\n",
      "title                   816 non-null object\n",
      "url                     816 non-null object\n",
      "website                 816 non-null object\n",
      "dtypes: object(15)\n",
      "memory usage: 102.0+ KB\n"
     ]
    }
   ],
   "source": [
    "office_chair_df.info()"
   ]
  },
  {
   "cell_type": "code",
   "execution_count": 495,
   "metadata": {
    "collapsed": false
   },
   "outputs": [
    {
     "name": "stdout",
     "output_type": "stream",
     "text": [
      "820\n",
      "840\n",
      "860\n",
      "880\n",
      "900\n",
      "920\n",
      "940\n",
      "960\n",
      "980\n",
      "1000\n"
     ]
    }
   ],
   "source": [
    "i = 816\n",
    "for link in office_chair_links[816:]:\n",
    "    product_dict = wayfair_product_info_scrapper(link, category_input='office_chair')\n",
    "    df_product = pd.DataFrame([product_dict], index=[i])\n",
    "    office_chair_df = pd.concat([office_chair_df, df_product], axis=0)\n",
    "    i += 1\n",
    "    if i % 20 == 0:\n",
    "        print i"
   ]
  },
  {
   "cell_type": "code",
   "execution_count": 496,
   "metadata": {
    "collapsed": true
   },
   "outputs": [],
   "source": [
    "office_chair_df.to_json('wayfair/office_chair.json')"
   ]
  },
  {
   "cell_type": "code",
   "execution_count": 497,
   "metadata": {
    "collapsed": false
   },
   "outputs": [
    {
     "data": {
      "text/plain": [
       "'Mon Sep 21 15:40:25 2015'"
      ]
     },
     "execution_count": 497,
     "metadata": {},
     "output_type": "execute_result"
    }
   ],
   "source": [
    "time.ctime(time.time())"
   ]
  },
  {
   "cell_type": "code",
   "execution_count": 498,
   "metadata": {
    "collapsed": false
   },
   "outputs": [
    {
     "name": "stdout",
     "output_type": "stream",
     "text": [
      "<class 'pandas.core.frame.DataFrame'>\n",
      "Int64Index: 1008 entries, 0 to 1007\n",
      "Data columns (total 15 columns):\n",
      "category                1008 non-null object\n",
      "colors                  1008 non-null object\n",
      "description             539 non-null object\n",
      "features                1008 non-null object\n",
      "image_links_all         1008 non-null object\n",
      "image_links_by_color    1008 non-null object\n",
      "manufacturer            1008 non-null object\n",
      "price                   1008 non-null object\n",
      "product_id              1008 non-null object\n",
      "rating_avg              849 non-null object\n",
      "rating_count            849 non-null object\n",
      "specs                   1004 non-null object\n",
      "title                   1008 non-null object\n",
      "url                     1008 non-null object\n",
      "website                 1008 non-null object\n",
      "dtypes: object(15)\n",
      "memory usage: 126.0+ KB\n"
     ]
    }
   ],
   "source": [
    "office_chair_df.info()"
   ]
  },
  {
   "cell_type": "markdown",
   "metadata": {},
   "source": [
    "# Bookcases"
   ]
  },
  {
   "cell_type": "code",
   "execution_count": 499,
   "metadata": {
    "collapsed": false
   },
   "outputs": [
    {
     "data": {
      "text/plain": [
       "'Mon Sep 21 15:40:41 2015'"
      ]
     },
     "execution_count": 499,
     "metadata": {},
     "output_type": "execute_result"
    }
   ],
   "source": [
    "time.ctime(time.time())"
   ]
  },
  {
   "cell_type": "code",
   "execution_count": 500,
   "metadata": {
    "collapsed": false,
    "scrolled": false
   },
   "outputs": [
    {
     "name": "stdout",
     "output_type": "stream",
     "text": [
      "1008\n",
      "   category                   colors  \\\n",
      "0  bookcase  [Salt Oak, Scribed Oak]   \n",
      "\n",
      "                                         description  \\\n",
      "0  Featuring a cottage style, the Sauder Barriste...   \n",
      "\n",
      "                                            features  \\\n",
      "0  [\\nFeatures\\n\\nAccommodates label ID tags\\nTop...   \n",
      "\n",
      "                                     image_links_all  \\\n",
      "0  [https://secure.img1.wfrcdn.com/lf/49/hash/435...   \n",
      "\n",
      "                                image_links_by_color manufacturer    price  \\\n",
      "0  {u'Scribed Oak': [u'https://secure.img2.wfrcdn...       Sauder  $172.99   \n",
      "\n",
      "  product_id rating_avg rating_count  \\\n",
      "0    SAU1798        4.6          338   \n",
      "\n",
      "                                               specs  \\\n",
      "0  \\nWeights & Dimensions\\n\\n\\n\\n            Over...   \n",
      "\n",
      "                            title  \\\n",
      "0  Barrister Lane 47.52\" Bookcase   \n",
      "\n",
      "                                                 url  website  \n",
      "0  http://www.wayfair.com/Sauder-Barrister-Lane-4...  wayfair  \n",
      "20\n",
      "40\n",
      "60\n",
      "80\n",
      "100\n",
      "120\n",
      "140\n",
      "160\n",
      "180\n",
      "200\n",
      "220\n",
      "240\n",
      "260\n",
      "280\n"
     ]
    },
    {
     "ename": "error",
     "evalue": "[Errno 60] Operation timed out",
     "output_type": "error",
     "traceback": [
      "\u001b[0;31m---------------------------------------------------------------------------\u001b[0m",
      "\u001b[0;31merror\u001b[0m                                     Traceback (most recent call last)",
      "\u001b[0;32m<ipython-input-500-426fe20a63be>\u001b[0m in \u001b[0;36m<module>\u001b[0;34m()\u001b[0m\n\u001b[1;32m      7\u001b[0m \u001b[0mi\u001b[0m \u001b[0;34m=\u001b[0m \u001b[0;36m1\u001b[0m\u001b[0;34m\u001b[0m\u001b[0m\n\u001b[1;32m      8\u001b[0m \u001b[0;32mfor\u001b[0m \u001b[0mlink\u001b[0m \u001b[0;32min\u001b[0m \u001b[0mbookcase_links\u001b[0m\u001b[0;34m[\u001b[0m\u001b[0;36m1\u001b[0m\u001b[0;34m:\u001b[0m\u001b[0;34m]\u001b[0m\u001b[0;34m:\u001b[0m\u001b[0;34m\u001b[0m\u001b[0m\n\u001b[0;32m----> 9\u001b[0;31m     \u001b[0mproduct_dict\u001b[0m \u001b[0;34m=\u001b[0m \u001b[0mwayfair_product_info_scrapper\u001b[0m\u001b[0;34m(\u001b[0m\u001b[0mlink\u001b[0m\u001b[0;34m,\u001b[0m \u001b[0mcategory_input\u001b[0m\u001b[0;34m=\u001b[0m\u001b[0;34m'bookcase'\u001b[0m\u001b[0;34m)\u001b[0m\u001b[0;34m\u001b[0m\u001b[0m\n\u001b[0m\u001b[1;32m     10\u001b[0m     \u001b[0mdf_product\u001b[0m \u001b[0;34m=\u001b[0m \u001b[0mpd\u001b[0m\u001b[0;34m.\u001b[0m\u001b[0mDataFrame\u001b[0m\u001b[0;34m(\u001b[0m\u001b[0;34m[\u001b[0m\u001b[0mproduct_dict\u001b[0m\u001b[0;34m]\u001b[0m\u001b[0;34m,\u001b[0m \u001b[0mindex\u001b[0m\u001b[0;34m=\u001b[0m\u001b[0;34m[\u001b[0m\u001b[0mi\u001b[0m\u001b[0;34m]\u001b[0m\u001b[0;34m)\u001b[0m\u001b[0;34m\u001b[0m\u001b[0m\n\u001b[1;32m     11\u001b[0m     \u001b[0mbookcase_df\u001b[0m \u001b[0;34m=\u001b[0m \u001b[0mpd\u001b[0m\u001b[0;34m.\u001b[0m\u001b[0mconcat\u001b[0m\u001b[0;34m(\u001b[0m\u001b[0;34m[\u001b[0m\u001b[0mbookcase_df\u001b[0m\u001b[0;34m,\u001b[0m \u001b[0mdf_product\u001b[0m\u001b[0;34m]\u001b[0m\u001b[0;34m,\u001b[0m \u001b[0maxis\u001b[0m\u001b[0;34m=\u001b[0m\u001b[0;36m0\u001b[0m\u001b[0;34m)\u001b[0m\u001b[0;34m\u001b[0m\u001b[0m\n",
      "\u001b[0;32m<ipython-input-488-95e4aa27a703>\u001b[0m in \u001b[0;36mwayfair_product_info_scrapper\u001b[0;34m(link, category_input)\u001b[0m\n\u001b[1;32m     28\u001b[0m     '''\n\u001b[1;32m     29\u001b[0m \u001b[0;34m\u001b[0m\u001b[0m\n\u001b[0;32m---> 30\u001b[0;31m     \u001b[0mhtml\u001b[0m  \u001b[0;34m=\u001b[0m \u001b[0murlopen\u001b[0m\u001b[0;34m(\u001b[0m\u001b[0mlink\u001b[0m\u001b[0;34m,\u001b[0m \u001b[0mtimeout\u001b[0m\u001b[0;34m=\u001b[0m\u001b[0;36m100\u001b[0m\u001b[0;34m)\u001b[0m\u001b[0;34m\u001b[0m\u001b[0m\n\u001b[0m\u001b[1;32m     31\u001b[0m \u001b[0;34m\u001b[0m\u001b[0m\n\u001b[1;32m     32\u001b[0m \u001b[0;31m#     import requests\u001b[0m\u001b[0;34m\u001b[0m\u001b[0;34m\u001b[0m\u001b[0m\n",
      "\u001b[0;32m//anaconda/lib/python2.7/urllib2.pyc\u001b[0m in \u001b[0;36murlopen\u001b[0;34m(url, data, timeout, cafile, capath, cadefault, context)\u001b[0m\n\u001b[1;32m    152\u001b[0m     \u001b[0;32melse\u001b[0m\u001b[0;34m:\u001b[0m\u001b[0;34m\u001b[0m\u001b[0m\n\u001b[1;32m    153\u001b[0m         \u001b[0mopener\u001b[0m \u001b[0;34m=\u001b[0m \u001b[0m_opener\u001b[0m\u001b[0;34m\u001b[0m\u001b[0m\n\u001b[0;32m--> 154\u001b[0;31m     \u001b[0;32mreturn\u001b[0m \u001b[0mopener\u001b[0m\u001b[0;34m.\u001b[0m\u001b[0mopen\u001b[0m\u001b[0;34m(\u001b[0m\u001b[0murl\u001b[0m\u001b[0;34m,\u001b[0m \u001b[0mdata\u001b[0m\u001b[0;34m,\u001b[0m \u001b[0mtimeout\u001b[0m\u001b[0;34m)\u001b[0m\u001b[0;34m\u001b[0m\u001b[0m\n\u001b[0m\u001b[1;32m    155\u001b[0m \u001b[0;34m\u001b[0m\u001b[0m\n\u001b[1;32m    156\u001b[0m \u001b[0;32mdef\u001b[0m \u001b[0minstall_opener\u001b[0m\u001b[0;34m(\u001b[0m\u001b[0mopener\u001b[0m\u001b[0;34m)\u001b[0m\u001b[0;34m:\u001b[0m\u001b[0;34m\u001b[0m\u001b[0m\n",
      "\u001b[0;32m//anaconda/lib/python2.7/urllib2.pyc\u001b[0m in \u001b[0;36mopen\u001b[0;34m(self, fullurl, data, timeout)\u001b[0m\n\u001b[1;32m    429\u001b[0m             \u001b[0mreq\u001b[0m \u001b[0;34m=\u001b[0m \u001b[0mmeth\u001b[0m\u001b[0;34m(\u001b[0m\u001b[0mreq\u001b[0m\u001b[0;34m)\u001b[0m\u001b[0;34m\u001b[0m\u001b[0m\n\u001b[1;32m    430\u001b[0m \u001b[0;34m\u001b[0m\u001b[0m\n\u001b[0;32m--> 431\u001b[0;31m         \u001b[0mresponse\u001b[0m \u001b[0;34m=\u001b[0m \u001b[0mself\u001b[0m\u001b[0;34m.\u001b[0m\u001b[0m_open\u001b[0m\u001b[0;34m(\u001b[0m\u001b[0mreq\u001b[0m\u001b[0;34m,\u001b[0m \u001b[0mdata\u001b[0m\u001b[0;34m)\u001b[0m\u001b[0;34m\u001b[0m\u001b[0m\n\u001b[0m\u001b[1;32m    432\u001b[0m \u001b[0;34m\u001b[0m\u001b[0m\n\u001b[1;32m    433\u001b[0m         \u001b[0;31m# post-process response\u001b[0m\u001b[0;34m\u001b[0m\u001b[0;34m\u001b[0m\u001b[0m\n",
      "\u001b[0;32m//anaconda/lib/python2.7/urllib2.pyc\u001b[0m in \u001b[0;36m_open\u001b[0;34m(self, req, data)\u001b[0m\n\u001b[1;32m    447\u001b[0m         \u001b[0mprotocol\u001b[0m \u001b[0;34m=\u001b[0m \u001b[0mreq\u001b[0m\u001b[0;34m.\u001b[0m\u001b[0mget_type\u001b[0m\u001b[0;34m(\u001b[0m\u001b[0;34m)\u001b[0m\u001b[0;34m\u001b[0m\u001b[0m\n\u001b[1;32m    448\u001b[0m         result = self._call_chain(self.handle_open, protocol, protocol +\n\u001b[0;32m--> 449\u001b[0;31m                                   '_open', req)\n\u001b[0m\u001b[1;32m    450\u001b[0m         \u001b[0;32mif\u001b[0m \u001b[0mresult\u001b[0m\u001b[0;34m:\u001b[0m\u001b[0;34m\u001b[0m\u001b[0m\n\u001b[1;32m    451\u001b[0m             \u001b[0;32mreturn\u001b[0m \u001b[0mresult\u001b[0m\u001b[0;34m\u001b[0m\u001b[0m\n",
      "\u001b[0;32m//anaconda/lib/python2.7/urllib2.pyc\u001b[0m in \u001b[0;36m_call_chain\u001b[0;34m(self, chain, kind, meth_name, *args)\u001b[0m\n\u001b[1;32m    407\u001b[0m             \u001b[0mfunc\u001b[0m \u001b[0;34m=\u001b[0m \u001b[0mgetattr\u001b[0m\u001b[0;34m(\u001b[0m\u001b[0mhandler\u001b[0m\u001b[0;34m,\u001b[0m \u001b[0mmeth_name\u001b[0m\u001b[0;34m)\u001b[0m\u001b[0;34m\u001b[0m\u001b[0m\n\u001b[1;32m    408\u001b[0m \u001b[0;34m\u001b[0m\u001b[0m\n\u001b[0;32m--> 409\u001b[0;31m             \u001b[0mresult\u001b[0m \u001b[0;34m=\u001b[0m \u001b[0mfunc\u001b[0m\u001b[0;34m(\u001b[0m\u001b[0;34m*\u001b[0m\u001b[0margs\u001b[0m\u001b[0;34m)\u001b[0m\u001b[0;34m\u001b[0m\u001b[0m\n\u001b[0m\u001b[1;32m    410\u001b[0m             \u001b[0;32mif\u001b[0m \u001b[0mresult\u001b[0m \u001b[0;32mis\u001b[0m \u001b[0;32mnot\u001b[0m \u001b[0mNone\u001b[0m\u001b[0;34m:\u001b[0m\u001b[0;34m\u001b[0m\u001b[0m\n\u001b[1;32m    411\u001b[0m                 \u001b[0;32mreturn\u001b[0m \u001b[0mresult\u001b[0m\u001b[0;34m\u001b[0m\u001b[0m\n",
      "\u001b[0;32m//anaconda/lib/python2.7/urllib2.pyc\u001b[0m in \u001b[0;36mhttp_open\u001b[0;34m(self, req)\u001b[0m\n\u001b[1;32m   1225\u001b[0m \u001b[0;34m\u001b[0m\u001b[0m\n\u001b[1;32m   1226\u001b[0m     \u001b[0;32mdef\u001b[0m \u001b[0mhttp_open\u001b[0m\u001b[0;34m(\u001b[0m\u001b[0mself\u001b[0m\u001b[0;34m,\u001b[0m \u001b[0mreq\u001b[0m\u001b[0;34m)\u001b[0m\u001b[0;34m:\u001b[0m\u001b[0;34m\u001b[0m\u001b[0m\n\u001b[0;32m-> 1227\u001b[0;31m         \u001b[0;32mreturn\u001b[0m \u001b[0mself\u001b[0m\u001b[0;34m.\u001b[0m\u001b[0mdo_open\u001b[0m\u001b[0;34m(\u001b[0m\u001b[0mhttplib\u001b[0m\u001b[0;34m.\u001b[0m\u001b[0mHTTPConnection\u001b[0m\u001b[0;34m,\u001b[0m \u001b[0mreq\u001b[0m\u001b[0;34m)\u001b[0m\u001b[0;34m\u001b[0m\u001b[0m\n\u001b[0m\u001b[1;32m   1228\u001b[0m \u001b[0;34m\u001b[0m\u001b[0m\n\u001b[1;32m   1229\u001b[0m     \u001b[0mhttp_request\u001b[0m \u001b[0;34m=\u001b[0m \u001b[0mAbstractHTTPHandler\u001b[0m\u001b[0;34m.\u001b[0m\u001b[0mdo_request_\u001b[0m\u001b[0;34m\u001b[0m\u001b[0m\n",
      "\u001b[0;32m//anaconda/lib/python2.7/urllib2.pyc\u001b[0m in \u001b[0;36mdo_open\u001b[0;34m(self, http_class, req, **http_conn_args)\u001b[0m\n\u001b[1;32m   1198\u001b[0m         \u001b[0;32melse\u001b[0m\u001b[0;34m:\u001b[0m\u001b[0;34m\u001b[0m\u001b[0m\n\u001b[1;32m   1199\u001b[0m             \u001b[0;32mtry\u001b[0m\u001b[0;34m:\u001b[0m\u001b[0;34m\u001b[0m\u001b[0m\n\u001b[0;32m-> 1200\u001b[0;31m                 \u001b[0mr\u001b[0m \u001b[0;34m=\u001b[0m \u001b[0mh\u001b[0m\u001b[0;34m.\u001b[0m\u001b[0mgetresponse\u001b[0m\u001b[0;34m(\u001b[0m\u001b[0mbuffering\u001b[0m\u001b[0;34m=\u001b[0m\u001b[0mTrue\u001b[0m\u001b[0;34m)\u001b[0m\u001b[0;34m\u001b[0m\u001b[0m\n\u001b[0m\u001b[1;32m   1201\u001b[0m             \u001b[0;32mexcept\u001b[0m \u001b[0mTypeError\u001b[0m\u001b[0;34m:\u001b[0m \u001b[0;31m# buffering kw not supported\u001b[0m\u001b[0;34m\u001b[0m\u001b[0m\n\u001b[1;32m   1202\u001b[0m                 \u001b[0mr\u001b[0m \u001b[0;34m=\u001b[0m \u001b[0mh\u001b[0m\u001b[0;34m.\u001b[0m\u001b[0mgetresponse\u001b[0m\u001b[0;34m(\u001b[0m\u001b[0;34m)\u001b[0m\u001b[0;34m\u001b[0m\u001b[0m\n",
      "\u001b[0;32m//anaconda/lib/python2.7/httplib.pyc\u001b[0m in \u001b[0;36mgetresponse\u001b[0;34m(self, buffering)\u001b[0m\n\u001b[1;32m   1130\u001b[0m \u001b[0;34m\u001b[0m\u001b[0m\n\u001b[1;32m   1131\u001b[0m         \u001b[0;32mtry\u001b[0m\u001b[0;34m:\u001b[0m\u001b[0;34m\u001b[0m\u001b[0m\n\u001b[0;32m-> 1132\u001b[0;31m             \u001b[0mresponse\u001b[0m\u001b[0;34m.\u001b[0m\u001b[0mbegin\u001b[0m\u001b[0;34m(\u001b[0m\u001b[0;34m)\u001b[0m\u001b[0;34m\u001b[0m\u001b[0m\n\u001b[0m\u001b[1;32m   1133\u001b[0m             \u001b[0;32massert\u001b[0m \u001b[0mresponse\u001b[0m\u001b[0;34m.\u001b[0m\u001b[0mwill_close\u001b[0m \u001b[0;34m!=\u001b[0m \u001b[0m_UNKNOWN\u001b[0m\u001b[0;34m\u001b[0m\u001b[0m\n\u001b[1;32m   1134\u001b[0m             \u001b[0mself\u001b[0m\u001b[0;34m.\u001b[0m\u001b[0m__state\u001b[0m \u001b[0;34m=\u001b[0m \u001b[0m_CS_IDLE\u001b[0m\u001b[0;34m\u001b[0m\u001b[0m\n",
      "\u001b[0;32m//anaconda/lib/python2.7/httplib.pyc\u001b[0m in \u001b[0;36mbegin\u001b[0;34m(self)\u001b[0m\n\u001b[1;32m    451\u001b[0m         \u001b[0;31m# read until we get a non-100 response\u001b[0m\u001b[0;34m\u001b[0m\u001b[0;34m\u001b[0m\u001b[0m\n\u001b[1;32m    452\u001b[0m         \u001b[0;32mwhile\u001b[0m \u001b[0mTrue\u001b[0m\u001b[0;34m:\u001b[0m\u001b[0;34m\u001b[0m\u001b[0m\n\u001b[0;32m--> 453\u001b[0;31m             \u001b[0mversion\u001b[0m\u001b[0;34m,\u001b[0m \u001b[0mstatus\u001b[0m\u001b[0;34m,\u001b[0m \u001b[0mreason\u001b[0m \u001b[0;34m=\u001b[0m \u001b[0mself\u001b[0m\u001b[0;34m.\u001b[0m\u001b[0m_read_status\u001b[0m\u001b[0;34m(\u001b[0m\u001b[0;34m)\u001b[0m\u001b[0;34m\u001b[0m\u001b[0m\n\u001b[0m\u001b[1;32m    454\u001b[0m             \u001b[0;32mif\u001b[0m \u001b[0mstatus\u001b[0m \u001b[0;34m!=\u001b[0m \u001b[0mCONTINUE\u001b[0m\u001b[0;34m:\u001b[0m\u001b[0;34m\u001b[0m\u001b[0m\n\u001b[1;32m    455\u001b[0m                 \u001b[0;32mbreak\u001b[0m\u001b[0;34m\u001b[0m\u001b[0m\n",
      "\u001b[0;32m//anaconda/lib/python2.7/httplib.pyc\u001b[0m in \u001b[0;36m_read_status\u001b[0;34m(self)\u001b[0m\n\u001b[1;32m    407\u001b[0m     \u001b[0;32mdef\u001b[0m \u001b[0m_read_status\u001b[0m\u001b[0;34m(\u001b[0m\u001b[0mself\u001b[0m\u001b[0;34m)\u001b[0m\u001b[0;34m:\u001b[0m\u001b[0;34m\u001b[0m\u001b[0m\n\u001b[1;32m    408\u001b[0m         \u001b[0;31m# Initialize with Simple-Response defaults\u001b[0m\u001b[0;34m\u001b[0m\u001b[0;34m\u001b[0m\u001b[0m\n\u001b[0;32m--> 409\u001b[0;31m         \u001b[0mline\u001b[0m \u001b[0;34m=\u001b[0m \u001b[0mself\u001b[0m\u001b[0;34m.\u001b[0m\u001b[0mfp\u001b[0m\u001b[0;34m.\u001b[0m\u001b[0mreadline\u001b[0m\u001b[0;34m(\u001b[0m\u001b[0m_MAXLINE\u001b[0m \u001b[0;34m+\u001b[0m \u001b[0;36m1\u001b[0m\u001b[0;34m)\u001b[0m\u001b[0;34m\u001b[0m\u001b[0m\n\u001b[0m\u001b[1;32m    410\u001b[0m         \u001b[0;32mif\u001b[0m \u001b[0mlen\u001b[0m\u001b[0;34m(\u001b[0m\u001b[0mline\u001b[0m\u001b[0;34m)\u001b[0m \u001b[0;34m>\u001b[0m \u001b[0m_MAXLINE\u001b[0m\u001b[0;34m:\u001b[0m\u001b[0;34m\u001b[0m\u001b[0m\n\u001b[1;32m    411\u001b[0m             \u001b[0;32mraise\u001b[0m \u001b[0mLineTooLong\u001b[0m\u001b[0;34m(\u001b[0m\u001b[0;34m\"header line\"\u001b[0m\u001b[0;34m)\u001b[0m\u001b[0;34m\u001b[0m\u001b[0m\n",
      "\u001b[0;32m//anaconda/lib/python2.7/socket.pyc\u001b[0m in \u001b[0;36mreadline\u001b[0;34m(self, size)\u001b[0m\n\u001b[1;32m    478\u001b[0m             \u001b[0;32mwhile\u001b[0m \u001b[0mTrue\u001b[0m\u001b[0;34m:\u001b[0m\u001b[0;34m\u001b[0m\u001b[0m\n\u001b[1;32m    479\u001b[0m                 \u001b[0;32mtry\u001b[0m\u001b[0;34m:\u001b[0m\u001b[0;34m\u001b[0m\u001b[0m\n\u001b[0;32m--> 480\u001b[0;31m                     \u001b[0mdata\u001b[0m \u001b[0;34m=\u001b[0m \u001b[0mself\u001b[0m\u001b[0;34m.\u001b[0m\u001b[0m_sock\u001b[0m\u001b[0;34m.\u001b[0m\u001b[0mrecv\u001b[0m\u001b[0;34m(\u001b[0m\u001b[0mself\u001b[0m\u001b[0;34m.\u001b[0m\u001b[0m_rbufsize\u001b[0m\u001b[0;34m)\u001b[0m\u001b[0;34m\u001b[0m\u001b[0m\n\u001b[0m\u001b[1;32m    481\u001b[0m                 \u001b[0;32mexcept\u001b[0m \u001b[0merror\u001b[0m\u001b[0;34m,\u001b[0m \u001b[0me\u001b[0m\u001b[0;34m:\u001b[0m\u001b[0;34m\u001b[0m\u001b[0m\n\u001b[1;32m    482\u001b[0m                     \u001b[0;32mif\u001b[0m \u001b[0me\u001b[0m\u001b[0;34m.\u001b[0m\u001b[0margs\u001b[0m\u001b[0;34m[\u001b[0m\u001b[0;36m0\u001b[0m\u001b[0;34m]\u001b[0m \u001b[0;34m==\u001b[0m \u001b[0mEINTR\u001b[0m\u001b[0;34m:\u001b[0m\u001b[0;34m\u001b[0m\u001b[0m\n",
      "\u001b[0;31merror\u001b[0m: [Errno 60] Operation timed out"
     ]
    }
   ],
   "source": [
    "bookcase_links = get_wayfair_product_links(bookcase_index, num_pages=21)\n",
    "print len(bookcase_links)\n",
    "link_0 = bookcase_links[0]\n",
    "dict_0 = wayfair_product_info_scrapper(link_0, category_input= 'bookcase')\n",
    "bookcase_df = pd.DataFrame([dict_0], index=[0])\n",
    "print bookcase_df\n",
    "i = 1\n",
    "for link in bookcase_links[1:]:\n",
    "    product_dict = wayfair_product_info_scrapper(link, category_input='bookcase')\n",
    "    df_product = pd.DataFrame([product_dict], index=[i])\n",
    "    bookcase_df = pd.concat([bookcase_df, df_product], axis=0)\n",
    "    i += 1\n",
    "    if i % 20 == 0:\n",
    "        print i"
   ]
  },
  {
   "cell_type": "code",
   "execution_count": 501,
   "metadata": {
    "collapsed": false
   },
   "outputs": [
    {
     "name": "stdout",
     "output_type": "stream",
     "text": [
      "<class 'pandas.core.frame.DataFrame'>\n",
      "Int64Index: 285 entries, 0 to 284\n",
      "Data columns (total 15 columns):\n",
      "category                285 non-null object\n",
      "colors                  285 non-null object\n",
      "description             238 non-null object\n",
      "features                285 non-null object\n",
      "image_links_all         285 non-null object\n",
      "image_links_by_color    285 non-null object\n",
      "manufacturer            285 non-null object\n",
      "price                   285 non-null object\n",
      "product_id              285 non-null object\n",
      "rating_avg              274 non-null object\n",
      "rating_count            274 non-null object\n",
      "specs                   273 non-null object\n",
      "title                   285 non-null object\n",
      "url                     285 non-null object\n",
      "website                 285 non-null object\n",
      "dtypes: object(15)\n",
      "memory usage: 35.6+ KB\n"
     ]
    }
   ],
   "source": [
    "bookcase_df.info()"
   ]
  },
  {
   "cell_type": "code",
   "execution_count": 502,
   "metadata": {
    "collapsed": false
   },
   "outputs": [
    {
     "name": "stdout",
     "output_type": "stream",
     "text": [
      "300\n",
      "320\n",
      "340\n",
      "360\n",
      "380\n",
      "400\n",
      "420\n",
      "440\n",
      "460\n",
      "480\n",
      "500\n",
      "520\n",
      "540\n",
      "560\n",
      "580\n",
      "600\n",
      "620\n",
      "640\n",
      "660\n",
      "680\n",
      "700\n",
      "720\n",
      "740\n",
      "760\n",
      "780\n",
      "800\n",
      "820\n",
      "840\n",
      "860\n",
      "880\n",
      "900\n",
      "920\n",
      "940\n",
      "960\n",
      "980\n",
      "1000\n"
     ]
    }
   ],
   "source": [
    "i = 285\n",
    "for link in bookcase_links[285:]:\n",
    "    product_dict = wayfair_product_info_scrapper(link, category_input='bookcase')\n",
    "    df_product = pd.DataFrame([product_dict], index=[i])\n",
    "    bookcase_df = pd.concat([bookcase_df, df_product], axis=0)\n",
    "    i += 1\n",
    "    if i % 20 == 0:\n",
    "        print i"
   ]
  },
  {
   "cell_type": "code",
   "execution_count": 503,
   "metadata": {
    "collapsed": true
   },
   "outputs": [],
   "source": [
    "bookcase_df.to_json('wayfair/bookcase.json')"
   ]
  },
  {
   "cell_type": "code",
   "execution_count": 504,
   "metadata": {
    "collapsed": false
   },
   "outputs": [
    {
     "data": {
      "text/plain": [
       "'Mon Sep 21 16:41:41 2015'"
      ]
     },
     "execution_count": 504,
     "metadata": {},
     "output_type": "execute_result"
    }
   ],
   "source": [
    "time.ctime(time.time())"
   ]
  },
  {
   "cell_type": "code",
   "execution_count": 507,
   "metadata": {
    "collapsed": false
   },
   "outputs": [
    {
     "name": "stdout",
     "output_type": "stream",
     "text": [
      "<class 'pandas.core.frame.DataFrame'>\n",
      "Int64Index: 1008 entries, 0 to 1007\n",
      "Data columns (total 15 columns):\n",
      "category                1008 non-null object\n",
      "colors                  1008 non-null object\n",
      "description             730 non-null object\n",
      "features                1008 non-null object\n",
      "image_links_all         1008 non-null object\n",
      "image_links_by_color    1008 non-null object\n",
      "manufacturer            1008 non-null object\n",
      "price                   1008 non-null object\n",
      "product_id              1008 non-null object\n",
      "rating_avg              865 non-null object\n",
      "rating_count            865 non-null object\n",
      "specs                   987 non-null object\n",
      "title                   1008 non-null object\n",
      "url                     1008 non-null object\n",
      "website                 1008 non-null object\n",
      "dtypes: object(15)\n",
      "memory usage: 126.0+ KB\n"
     ]
    }
   ],
   "source": [
    "bookcase_df.info()"
   ]
  },
  {
   "cell_type": "code",
   "execution_count": 508,
   "metadata": {
    "collapsed": false
   },
   "outputs": [
    {
     "data": {
      "text/html": [
       "<div>\n",
       "<table border=\"1\" class=\"dataframe\">\n",
       "  <thead>\n",
       "    <tr style=\"text-align: right;\">\n",
       "      <th></th>\n",
       "      <th>category</th>\n",
       "      <th>colors</th>\n",
       "      <th>description</th>\n",
       "      <th>features</th>\n",
       "      <th>image_links_all</th>\n",
       "      <th>image_links_by_color</th>\n",
       "      <th>manufacturer</th>\n",
       "      <th>price</th>\n",
       "      <th>product_id</th>\n",
       "      <th>rating_avg</th>\n",
       "      <th>rating_count</th>\n",
       "      <th>specs</th>\n",
       "      <th>title</th>\n",
       "      <th>url</th>\n",
       "      <th>website</th>\n",
       "    </tr>\n",
       "  </thead>\n",
       "  <tbody>\n",
       "    <tr>\n",
       "      <th>1006</th>\n",
       "      <td>bookcase</td>\n",
       "      <td>[]</td>\n",
       "      <td>None</td>\n",
       "      <td>[\\nFeatures\\n\\nBrass hardware\\n5 Shelves inclu...</td>\n",
       "      <td>[https://secure.img1.wfrcdn.com/lf/49/hash/109...</td>\n",
       "      <td>{}</td>\n",
       "      <td>Authentic Models</td>\n",
       "      <td>$950.00</td>\n",
       "      <td>AMD1615</td>\n",
       "      <td>5.0</td>\n",
       "      <td>1</td>\n",
       "      <td>\\nWeights &amp; Dimensions\\nBottom Shelf\\n\\n\\n    ...</td>\n",
       "      <td>Library 96.6\" Bookcase</td>\n",
       "      <td>http://www.wayfair.com/Authentic-Models-Librar...</td>\n",
       "      <td>wayfair</td>\n",
       "    </tr>\n",
       "    <tr>\n",
       "      <th>1007</th>\n",
       "      <td>bookcase</td>\n",
       "      <td>[Black, Charcoal, Dove Gray, Putty, Tropic San...</td>\n",
       "      <td>Organize and store your book collection and ho...</td>\n",
       "      <td>[\\nFeatures\\n\\nFully adjustable shelves adjust...</td>\n",
       "      <td>[https://secure.img1.wfrcdn.com/lf/49/hash/139...</td>\n",
       "      <td>{u'Blue': [u'https://secure.img1.wfrcdn.com/lf...</td>\n",
       "      <td>Sandusky</td>\n",
       "      <td>$455.99    - $489.32</td>\n",
       "      <td>SN1204</td>\n",
       "      <td>None</td>\n",
       "      <td>None</td>\n",
       "      <td>\\nWeights &amp; Dimensions\\n\\n\\n\\n            Over...</td>\n",
       "      <td>72\" Bookcase with File Drawer</td>\n",
       "      <td>http://www.wayfair.com/Sandusky-Cabinets-72-Bo...</td>\n",
       "      <td>wayfair</td>\n",
       "    </tr>\n",
       "  </tbody>\n",
       "</table>\n",
       "</div>"
      ],
      "text/plain": [
       "      category                                             colors  \\\n",
       "1006  bookcase                                                 []   \n",
       "1007  bookcase  [Black, Charcoal, Dove Gray, Putty, Tropic San...   \n",
       "\n",
       "                                            description  \\\n",
       "1006                                               None   \n",
       "1007  Organize and store your book collection and ho...   \n",
       "\n",
       "                                               features  \\\n",
       "1006  [\\nFeatures\\n\\nBrass hardware\\n5 Shelves inclu...   \n",
       "1007  [\\nFeatures\\n\\nFully adjustable shelves adjust...   \n",
       "\n",
       "                                        image_links_all  \\\n",
       "1006  [https://secure.img1.wfrcdn.com/lf/49/hash/109...   \n",
       "1007  [https://secure.img1.wfrcdn.com/lf/49/hash/139...   \n",
       "\n",
       "                                   image_links_by_color      manufacturer  \\\n",
       "1006                                                 {}  Authentic Models   \n",
       "1007  {u'Blue': [u'https://secure.img1.wfrcdn.com/lf...          Sandusky   \n",
       "\n",
       "                     price product_id rating_avg rating_count  \\\n",
       "1006               $950.00    AMD1615        5.0            1   \n",
       "1007  $455.99    - $489.32     SN1204       None         None   \n",
       "\n",
       "                                                  specs  \\\n",
       "1006  \\nWeights & Dimensions\\nBottom Shelf\\n\\n\\n    ...   \n",
       "1007  \\nWeights & Dimensions\\n\\n\\n\\n            Over...   \n",
       "\n",
       "                              title  \\\n",
       "1006         Library 96.6\" Bookcase   \n",
       "1007  72\" Bookcase with File Drawer   \n",
       "\n",
       "                                                    url  website  \n",
       "1006  http://www.wayfair.com/Authentic-Models-Librar...  wayfair  \n",
       "1007  http://www.wayfair.com/Sandusky-Cabinets-72-Bo...  wayfair  "
      ]
     },
     "execution_count": 508,
     "metadata": {},
     "output_type": "execute_result"
    }
   ],
   "source": [
    "bookcase_df.tail(2)"
   ]
  },
  {
   "cell_type": "markdown",
   "metadata": {},
   "source": [
    "# Dining tables"
   ]
  },
  {
   "cell_type": "code",
   "execution_count": 505,
   "metadata": {
    "collapsed": false
   },
   "outputs": [
    {
     "data": {
      "text/plain": [
       "'Mon Sep 21 16:41:41 2015'"
      ]
     },
     "execution_count": 505,
     "metadata": {},
     "output_type": "execute_result"
    }
   ],
   "source": [
    "time.ctime(time.time())"
   ]
  },
  {
   "cell_type": "code",
   "execution_count": 512,
   "metadata": {
    "collapsed": false
   },
   "outputs": [
    {
     "name": "stdout",
     "output_type": "stream",
     "text": [
      "1008\n",
      "       category colors description features  \\\n",
      "0  dining_table     []        None       []   \n",
      "\n",
      "                                     image_links_all image_links_by_color  \\\n",
      "0  [https://secure.img1.wfrcdn.com/lf/49/hash/266...                   {}   \n",
      "\n",
      "                 manufacturer    price product_id rating_avg rating_count  \\\n",
      "0  Signature Design by Ashley  $420.99    GNT4830        4.7          341   \n",
      "\n",
      "  specs                 title  \\\n",
      "0  None  Mestler Dining Table   \n",
      "\n",
      "                                                 url  website  \n",
      "0  http://www.wayfair.com/Mestler-Dining-Table-D5...  wayfair  \n"
     ]
    },
    {
     "ename": "error",
     "evalue": "[Errno 60] Operation timed out",
     "output_type": "error",
     "traceback": [
      "\u001b[0;31m---------------------------------------------------------------------------\u001b[0m",
      "\u001b[0;31merror\u001b[0m                                     Traceback (most recent call last)",
      "\u001b[0;32m<ipython-input-512-e06384dc5511>\u001b[0m in \u001b[0;36m<module>\u001b[0;34m()\u001b[0m\n\u001b[1;32m      7\u001b[0m \u001b[0mi\u001b[0m \u001b[0;34m=\u001b[0m \u001b[0;36m1\u001b[0m\u001b[0;34m\u001b[0m\u001b[0m\n\u001b[1;32m      8\u001b[0m \u001b[0;32mfor\u001b[0m \u001b[0mlink\u001b[0m \u001b[0;32min\u001b[0m \u001b[0mdining_table_links\u001b[0m\u001b[0;34m[\u001b[0m\u001b[0;36m1\u001b[0m\u001b[0;34m:\u001b[0m\u001b[0;34m]\u001b[0m\u001b[0;34m:\u001b[0m\u001b[0;34m\u001b[0m\u001b[0m\n\u001b[0;32m----> 9\u001b[0;31m     \u001b[0mproduct_dict\u001b[0m \u001b[0;34m=\u001b[0m \u001b[0mwayfair_product_info_scrapper\u001b[0m\u001b[0;34m(\u001b[0m\u001b[0mlink\u001b[0m\u001b[0;34m,\u001b[0m \u001b[0mcategory_input\u001b[0m\u001b[0;34m=\u001b[0m\u001b[0;34m'dining_table'\u001b[0m\u001b[0;34m)\u001b[0m\u001b[0;34m\u001b[0m\u001b[0m\n\u001b[0m\u001b[1;32m     10\u001b[0m     \u001b[0mdf_product\u001b[0m \u001b[0;34m=\u001b[0m \u001b[0mpd\u001b[0m\u001b[0;34m.\u001b[0m\u001b[0mDataFrame\u001b[0m\u001b[0;34m(\u001b[0m\u001b[0;34m[\u001b[0m\u001b[0mproduct_dict\u001b[0m\u001b[0;34m]\u001b[0m\u001b[0;34m,\u001b[0m \u001b[0mindex\u001b[0m\u001b[0;34m=\u001b[0m\u001b[0;34m[\u001b[0m\u001b[0mi\u001b[0m\u001b[0;34m]\u001b[0m\u001b[0;34m)\u001b[0m\u001b[0;34m\u001b[0m\u001b[0m\n\u001b[1;32m     11\u001b[0m     \u001b[0mdining_table_df\u001b[0m \u001b[0;34m=\u001b[0m \u001b[0mpd\u001b[0m\u001b[0;34m.\u001b[0m\u001b[0mconcat\u001b[0m\u001b[0;34m(\u001b[0m\u001b[0;34m[\u001b[0m\u001b[0mdining_table_df\u001b[0m\u001b[0;34m,\u001b[0m \u001b[0mdf_product\u001b[0m\u001b[0;34m]\u001b[0m\u001b[0;34m,\u001b[0m \u001b[0maxis\u001b[0m\u001b[0;34m=\u001b[0m\u001b[0;36m0\u001b[0m\u001b[0;34m)\u001b[0m\u001b[0;34m\u001b[0m\u001b[0m\n",
      "\u001b[0;32m<ipython-input-488-95e4aa27a703>\u001b[0m in \u001b[0;36mwayfair_product_info_scrapper\u001b[0;34m(link, category_input)\u001b[0m\n\u001b[1;32m     81\u001b[0m             \u001b[0mcolor_key\u001b[0m \u001b[0;34m=\u001b[0m \u001b[0mcolors\u001b[0m\u001b[0;34m[\u001b[0m\u001b[0mi\u001b[0m\u001b[0;34m]\u001b[0m\u001b[0;34m\u001b[0m\u001b[0m\n\u001b[1;32m     82\u001b[0m             \u001b[0mlink_color\u001b[0m \u001b[0;34m=\u001b[0m \u001b[0mlink\u001b[0m \u001b[0;34m+\u001b[0m \u001b[0mcolor_link\u001b[0m\u001b[0;34m\u001b[0m\u001b[0m\n\u001b[0;32m---> 83\u001b[0;31m             \u001b[0mhtml_color\u001b[0m  \u001b[0;34m=\u001b[0m \u001b[0murlopen\u001b[0m\u001b[0;34m(\u001b[0m\u001b[0mlink_color\u001b[0m\u001b[0;34m,\u001b[0m \u001b[0mtimeout\u001b[0m\u001b[0;34m=\u001b[0m\u001b[0;36m100\u001b[0m\u001b[0;34m)\u001b[0m\u001b[0;34m\u001b[0m\u001b[0m\n\u001b[0m\u001b[1;32m     84\u001b[0m             \u001b[0msoup_color\u001b[0m \u001b[0;34m=\u001b[0m \u001b[0mBeautifulSoup\u001b[0m\u001b[0;34m(\u001b[0m\u001b[0mhtml_color\u001b[0m\u001b[0;34m,\u001b[0m \u001b[0;34m'html.parser'\u001b[0m\u001b[0;34m)\u001b[0m\u001b[0;34m\u001b[0m\u001b[0m\n\u001b[1;32m     85\u001b[0m             \u001b[0mimage_info_color\u001b[0m \u001b[0;34m=\u001b[0m \u001b[0msoup_color\u001b[0m\u001b[0;34m.\u001b[0m\u001b[0mfindAll\u001b[0m\u001b[0;34m(\u001b[0m\u001b[0;34m'a'\u001b[0m\u001b[0;34m,\u001b[0m \u001b[0;34m{\u001b[0m\u001b[0;34m'class'\u001b[0m\u001b[0;34m:\u001b[0m \u001b[0;34m'photoswipe_link'\u001b[0m\u001b[0;34m}\u001b[0m\u001b[0;34m)\u001b[0m\u001b[0;34m\u001b[0m\u001b[0m\n",
      "\u001b[0;32m//anaconda/lib/python2.7/urllib2.pyc\u001b[0m in \u001b[0;36murlopen\u001b[0;34m(url, data, timeout, cafile, capath, cadefault, context)\u001b[0m\n\u001b[1;32m    152\u001b[0m     \u001b[0;32melse\u001b[0m\u001b[0;34m:\u001b[0m\u001b[0;34m\u001b[0m\u001b[0m\n\u001b[1;32m    153\u001b[0m         \u001b[0mopener\u001b[0m \u001b[0;34m=\u001b[0m \u001b[0m_opener\u001b[0m\u001b[0;34m\u001b[0m\u001b[0m\n\u001b[0;32m--> 154\u001b[0;31m     \u001b[0;32mreturn\u001b[0m \u001b[0mopener\u001b[0m\u001b[0;34m.\u001b[0m\u001b[0mopen\u001b[0m\u001b[0;34m(\u001b[0m\u001b[0murl\u001b[0m\u001b[0;34m,\u001b[0m \u001b[0mdata\u001b[0m\u001b[0;34m,\u001b[0m \u001b[0mtimeout\u001b[0m\u001b[0;34m)\u001b[0m\u001b[0;34m\u001b[0m\u001b[0m\n\u001b[0m\u001b[1;32m    155\u001b[0m \u001b[0;34m\u001b[0m\u001b[0m\n\u001b[1;32m    156\u001b[0m \u001b[0;32mdef\u001b[0m \u001b[0minstall_opener\u001b[0m\u001b[0;34m(\u001b[0m\u001b[0mopener\u001b[0m\u001b[0;34m)\u001b[0m\u001b[0;34m:\u001b[0m\u001b[0;34m\u001b[0m\u001b[0m\n",
      "\u001b[0;32m//anaconda/lib/python2.7/urllib2.pyc\u001b[0m in \u001b[0;36mopen\u001b[0;34m(self, fullurl, data, timeout)\u001b[0m\n\u001b[1;32m    429\u001b[0m             \u001b[0mreq\u001b[0m \u001b[0;34m=\u001b[0m \u001b[0mmeth\u001b[0m\u001b[0;34m(\u001b[0m\u001b[0mreq\u001b[0m\u001b[0;34m)\u001b[0m\u001b[0;34m\u001b[0m\u001b[0m\n\u001b[1;32m    430\u001b[0m \u001b[0;34m\u001b[0m\u001b[0m\n\u001b[0;32m--> 431\u001b[0;31m         \u001b[0mresponse\u001b[0m \u001b[0;34m=\u001b[0m \u001b[0mself\u001b[0m\u001b[0;34m.\u001b[0m\u001b[0m_open\u001b[0m\u001b[0;34m(\u001b[0m\u001b[0mreq\u001b[0m\u001b[0;34m,\u001b[0m \u001b[0mdata\u001b[0m\u001b[0;34m)\u001b[0m\u001b[0;34m\u001b[0m\u001b[0m\n\u001b[0m\u001b[1;32m    432\u001b[0m \u001b[0;34m\u001b[0m\u001b[0m\n\u001b[1;32m    433\u001b[0m         \u001b[0;31m# post-process response\u001b[0m\u001b[0;34m\u001b[0m\u001b[0;34m\u001b[0m\u001b[0m\n",
      "\u001b[0;32m//anaconda/lib/python2.7/urllib2.pyc\u001b[0m in \u001b[0;36m_open\u001b[0;34m(self, req, data)\u001b[0m\n\u001b[1;32m    447\u001b[0m         \u001b[0mprotocol\u001b[0m \u001b[0;34m=\u001b[0m \u001b[0mreq\u001b[0m\u001b[0;34m.\u001b[0m\u001b[0mget_type\u001b[0m\u001b[0;34m(\u001b[0m\u001b[0;34m)\u001b[0m\u001b[0;34m\u001b[0m\u001b[0m\n\u001b[1;32m    448\u001b[0m         result = self._call_chain(self.handle_open, protocol, protocol +\n\u001b[0;32m--> 449\u001b[0;31m                                   '_open', req)\n\u001b[0m\u001b[1;32m    450\u001b[0m         \u001b[0;32mif\u001b[0m \u001b[0mresult\u001b[0m\u001b[0;34m:\u001b[0m\u001b[0;34m\u001b[0m\u001b[0m\n\u001b[1;32m    451\u001b[0m             \u001b[0;32mreturn\u001b[0m \u001b[0mresult\u001b[0m\u001b[0;34m\u001b[0m\u001b[0m\n",
      "\u001b[0;32m//anaconda/lib/python2.7/urllib2.pyc\u001b[0m in \u001b[0;36m_call_chain\u001b[0;34m(self, chain, kind, meth_name, *args)\u001b[0m\n\u001b[1;32m    407\u001b[0m             \u001b[0mfunc\u001b[0m \u001b[0;34m=\u001b[0m \u001b[0mgetattr\u001b[0m\u001b[0;34m(\u001b[0m\u001b[0mhandler\u001b[0m\u001b[0;34m,\u001b[0m \u001b[0mmeth_name\u001b[0m\u001b[0;34m)\u001b[0m\u001b[0;34m\u001b[0m\u001b[0m\n\u001b[1;32m    408\u001b[0m \u001b[0;34m\u001b[0m\u001b[0m\n\u001b[0;32m--> 409\u001b[0;31m             \u001b[0mresult\u001b[0m \u001b[0;34m=\u001b[0m \u001b[0mfunc\u001b[0m\u001b[0;34m(\u001b[0m\u001b[0;34m*\u001b[0m\u001b[0margs\u001b[0m\u001b[0;34m)\u001b[0m\u001b[0;34m\u001b[0m\u001b[0m\n\u001b[0m\u001b[1;32m    410\u001b[0m             \u001b[0;32mif\u001b[0m \u001b[0mresult\u001b[0m \u001b[0;32mis\u001b[0m \u001b[0;32mnot\u001b[0m \u001b[0mNone\u001b[0m\u001b[0;34m:\u001b[0m\u001b[0;34m\u001b[0m\u001b[0m\n\u001b[1;32m    411\u001b[0m                 \u001b[0;32mreturn\u001b[0m \u001b[0mresult\u001b[0m\u001b[0;34m\u001b[0m\u001b[0m\n",
      "\u001b[0;32m//anaconda/lib/python2.7/urllib2.pyc\u001b[0m in \u001b[0;36mhttp_open\u001b[0;34m(self, req)\u001b[0m\n\u001b[1;32m   1225\u001b[0m \u001b[0;34m\u001b[0m\u001b[0m\n\u001b[1;32m   1226\u001b[0m     \u001b[0;32mdef\u001b[0m \u001b[0mhttp_open\u001b[0m\u001b[0;34m(\u001b[0m\u001b[0mself\u001b[0m\u001b[0;34m,\u001b[0m \u001b[0mreq\u001b[0m\u001b[0;34m)\u001b[0m\u001b[0;34m:\u001b[0m\u001b[0;34m\u001b[0m\u001b[0m\n\u001b[0;32m-> 1227\u001b[0;31m         \u001b[0;32mreturn\u001b[0m \u001b[0mself\u001b[0m\u001b[0;34m.\u001b[0m\u001b[0mdo_open\u001b[0m\u001b[0;34m(\u001b[0m\u001b[0mhttplib\u001b[0m\u001b[0;34m.\u001b[0m\u001b[0mHTTPConnection\u001b[0m\u001b[0;34m,\u001b[0m \u001b[0mreq\u001b[0m\u001b[0;34m)\u001b[0m\u001b[0;34m\u001b[0m\u001b[0m\n\u001b[0m\u001b[1;32m   1228\u001b[0m \u001b[0;34m\u001b[0m\u001b[0m\n\u001b[1;32m   1229\u001b[0m     \u001b[0mhttp_request\u001b[0m \u001b[0;34m=\u001b[0m \u001b[0mAbstractHTTPHandler\u001b[0m\u001b[0;34m.\u001b[0m\u001b[0mdo_request_\u001b[0m\u001b[0;34m\u001b[0m\u001b[0m\n",
      "\u001b[0;32m//anaconda/lib/python2.7/urllib2.pyc\u001b[0m in \u001b[0;36mdo_open\u001b[0;34m(self, http_class, req, **http_conn_args)\u001b[0m\n\u001b[1;32m   1198\u001b[0m         \u001b[0;32melse\u001b[0m\u001b[0;34m:\u001b[0m\u001b[0;34m\u001b[0m\u001b[0m\n\u001b[1;32m   1199\u001b[0m             \u001b[0;32mtry\u001b[0m\u001b[0;34m:\u001b[0m\u001b[0;34m\u001b[0m\u001b[0m\n\u001b[0;32m-> 1200\u001b[0;31m                 \u001b[0mr\u001b[0m \u001b[0;34m=\u001b[0m \u001b[0mh\u001b[0m\u001b[0;34m.\u001b[0m\u001b[0mgetresponse\u001b[0m\u001b[0;34m(\u001b[0m\u001b[0mbuffering\u001b[0m\u001b[0;34m=\u001b[0m\u001b[0mTrue\u001b[0m\u001b[0;34m)\u001b[0m\u001b[0;34m\u001b[0m\u001b[0m\n\u001b[0m\u001b[1;32m   1201\u001b[0m             \u001b[0;32mexcept\u001b[0m \u001b[0mTypeError\u001b[0m\u001b[0;34m:\u001b[0m \u001b[0;31m# buffering kw not supported\u001b[0m\u001b[0;34m\u001b[0m\u001b[0m\n\u001b[1;32m   1202\u001b[0m                 \u001b[0mr\u001b[0m \u001b[0;34m=\u001b[0m \u001b[0mh\u001b[0m\u001b[0;34m.\u001b[0m\u001b[0mgetresponse\u001b[0m\u001b[0;34m(\u001b[0m\u001b[0;34m)\u001b[0m\u001b[0;34m\u001b[0m\u001b[0m\n",
      "\u001b[0;32m//anaconda/lib/python2.7/httplib.pyc\u001b[0m in \u001b[0;36mgetresponse\u001b[0;34m(self, buffering)\u001b[0m\n\u001b[1;32m   1130\u001b[0m \u001b[0;34m\u001b[0m\u001b[0m\n\u001b[1;32m   1131\u001b[0m         \u001b[0;32mtry\u001b[0m\u001b[0;34m:\u001b[0m\u001b[0;34m\u001b[0m\u001b[0m\n\u001b[0;32m-> 1132\u001b[0;31m             \u001b[0mresponse\u001b[0m\u001b[0;34m.\u001b[0m\u001b[0mbegin\u001b[0m\u001b[0;34m(\u001b[0m\u001b[0;34m)\u001b[0m\u001b[0;34m\u001b[0m\u001b[0m\n\u001b[0m\u001b[1;32m   1133\u001b[0m             \u001b[0;32massert\u001b[0m \u001b[0mresponse\u001b[0m\u001b[0;34m.\u001b[0m\u001b[0mwill_close\u001b[0m \u001b[0;34m!=\u001b[0m \u001b[0m_UNKNOWN\u001b[0m\u001b[0;34m\u001b[0m\u001b[0m\n\u001b[1;32m   1134\u001b[0m             \u001b[0mself\u001b[0m\u001b[0;34m.\u001b[0m\u001b[0m__state\u001b[0m \u001b[0;34m=\u001b[0m \u001b[0m_CS_IDLE\u001b[0m\u001b[0;34m\u001b[0m\u001b[0m\n",
      "\u001b[0;32m//anaconda/lib/python2.7/httplib.pyc\u001b[0m in \u001b[0;36mbegin\u001b[0;34m(self)\u001b[0m\n\u001b[1;32m    451\u001b[0m         \u001b[0;31m# read until we get a non-100 response\u001b[0m\u001b[0;34m\u001b[0m\u001b[0;34m\u001b[0m\u001b[0m\n\u001b[1;32m    452\u001b[0m         \u001b[0;32mwhile\u001b[0m \u001b[0mTrue\u001b[0m\u001b[0;34m:\u001b[0m\u001b[0;34m\u001b[0m\u001b[0m\n\u001b[0;32m--> 453\u001b[0;31m             \u001b[0mversion\u001b[0m\u001b[0;34m,\u001b[0m \u001b[0mstatus\u001b[0m\u001b[0;34m,\u001b[0m \u001b[0mreason\u001b[0m \u001b[0;34m=\u001b[0m \u001b[0mself\u001b[0m\u001b[0;34m.\u001b[0m\u001b[0m_read_status\u001b[0m\u001b[0;34m(\u001b[0m\u001b[0;34m)\u001b[0m\u001b[0;34m\u001b[0m\u001b[0m\n\u001b[0m\u001b[1;32m    454\u001b[0m             \u001b[0;32mif\u001b[0m \u001b[0mstatus\u001b[0m \u001b[0;34m!=\u001b[0m \u001b[0mCONTINUE\u001b[0m\u001b[0;34m:\u001b[0m\u001b[0;34m\u001b[0m\u001b[0m\n\u001b[1;32m    455\u001b[0m                 \u001b[0;32mbreak\u001b[0m\u001b[0;34m\u001b[0m\u001b[0m\n",
      "\u001b[0;32m//anaconda/lib/python2.7/httplib.pyc\u001b[0m in \u001b[0;36m_read_status\u001b[0;34m(self)\u001b[0m\n\u001b[1;32m    407\u001b[0m     \u001b[0;32mdef\u001b[0m \u001b[0m_read_status\u001b[0m\u001b[0;34m(\u001b[0m\u001b[0mself\u001b[0m\u001b[0;34m)\u001b[0m\u001b[0;34m:\u001b[0m\u001b[0;34m\u001b[0m\u001b[0m\n\u001b[1;32m    408\u001b[0m         \u001b[0;31m# Initialize with Simple-Response defaults\u001b[0m\u001b[0;34m\u001b[0m\u001b[0;34m\u001b[0m\u001b[0m\n\u001b[0;32m--> 409\u001b[0;31m         \u001b[0mline\u001b[0m \u001b[0;34m=\u001b[0m \u001b[0mself\u001b[0m\u001b[0;34m.\u001b[0m\u001b[0mfp\u001b[0m\u001b[0;34m.\u001b[0m\u001b[0mreadline\u001b[0m\u001b[0;34m(\u001b[0m\u001b[0m_MAXLINE\u001b[0m \u001b[0;34m+\u001b[0m \u001b[0;36m1\u001b[0m\u001b[0;34m)\u001b[0m\u001b[0;34m\u001b[0m\u001b[0m\n\u001b[0m\u001b[1;32m    410\u001b[0m         \u001b[0;32mif\u001b[0m \u001b[0mlen\u001b[0m\u001b[0;34m(\u001b[0m\u001b[0mline\u001b[0m\u001b[0;34m)\u001b[0m \u001b[0;34m>\u001b[0m \u001b[0m_MAXLINE\u001b[0m\u001b[0;34m:\u001b[0m\u001b[0;34m\u001b[0m\u001b[0m\n\u001b[1;32m    411\u001b[0m             \u001b[0;32mraise\u001b[0m \u001b[0mLineTooLong\u001b[0m\u001b[0;34m(\u001b[0m\u001b[0;34m\"header line\"\u001b[0m\u001b[0;34m)\u001b[0m\u001b[0;34m\u001b[0m\u001b[0m\n",
      "\u001b[0;32m//anaconda/lib/python2.7/socket.pyc\u001b[0m in \u001b[0;36mreadline\u001b[0;34m(self, size)\u001b[0m\n\u001b[1;32m    478\u001b[0m             \u001b[0;32mwhile\u001b[0m \u001b[0mTrue\u001b[0m\u001b[0;34m:\u001b[0m\u001b[0;34m\u001b[0m\u001b[0m\n\u001b[1;32m    479\u001b[0m                 \u001b[0;32mtry\u001b[0m\u001b[0;34m:\u001b[0m\u001b[0;34m\u001b[0m\u001b[0m\n\u001b[0;32m--> 480\u001b[0;31m                     \u001b[0mdata\u001b[0m \u001b[0;34m=\u001b[0m \u001b[0mself\u001b[0m\u001b[0;34m.\u001b[0m\u001b[0m_sock\u001b[0m\u001b[0;34m.\u001b[0m\u001b[0mrecv\u001b[0m\u001b[0;34m(\u001b[0m\u001b[0mself\u001b[0m\u001b[0;34m.\u001b[0m\u001b[0m_rbufsize\u001b[0m\u001b[0;34m)\u001b[0m\u001b[0;34m\u001b[0m\u001b[0m\n\u001b[0m\u001b[1;32m    481\u001b[0m                 \u001b[0;32mexcept\u001b[0m \u001b[0merror\u001b[0m\u001b[0;34m,\u001b[0m \u001b[0me\u001b[0m\u001b[0;34m:\u001b[0m\u001b[0;34m\u001b[0m\u001b[0m\n\u001b[1;32m    482\u001b[0m                     \u001b[0;32mif\u001b[0m \u001b[0me\u001b[0m\u001b[0;34m.\u001b[0m\u001b[0margs\u001b[0m\u001b[0;34m[\u001b[0m\u001b[0;36m0\u001b[0m\u001b[0;34m]\u001b[0m \u001b[0;34m==\u001b[0m \u001b[0mEINTR\u001b[0m\u001b[0;34m:\u001b[0m\u001b[0;34m\u001b[0m\u001b[0m\n",
      "\u001b[0;31merror\u001b[0m: [Errno 60] Operation timed out"
     ]
    }
   ],
   "source": [
    "dining_table_links = get_wayfair_product_links(dining_table_index, num_pages=21)\n",
    "print len(dining_table_links)\n",
    "link_0 = dining_table_links[0]\n",
    "dict_0 = wayfair_product_info_scrapper(link_0, category_input= 'dining_table')\n",
    "dining_table_df = pd.DataFrame([dict_0], index=[0])\n",
    "print dining_table_df\n",
    "i = 1\n",
    "for link in dining_table_links[1:]:\n",
    "    product_dict = wayfair_product_info_scrapper(link, category_input='dining_table')\n",
    "    df_product = pd.DataFrame([product_dict], index=[i])\n",
    "    dining_table_df = pd.concat([dining_table_df, df_product], axis=0)\n",
    "    i += 1\n",
    "    if i % 20 == 0:\n",
    "        print i"
   ]
  },
  {
   "cell_type": "code",
   "execution_count": 513,
   "metadata": {
    "collapsed": false
   },
   "outputs": [
    {
     "name": "stdout",
     "output_type": "stream",
     "text": [
      "<class 'pandas.core.frame.DataFrame'>\n",
      "Int64Index: 3 entries, 0 to 2\n",
      "Data columns (total 15 columns):\n",
      "category                3 non-null object\n",
      "colors                  3 non-null object\n",
      "description             2 non-null object\n",
      "features                3 non-null object\n",
      "image_links_all         3 non-null object\n",
      "image_links_by_color    3 non-null object\n",
      "manufacturer            3 non-null object\n",
      "price                   3 non-null object\n",
      "product_id              3 non-null object\n",
      "rating_avg              1 non-null object\n",
      "rating_count            1 non-null object\n",
      "specs                   2 non-null object\n",
      "title                   3 non-null object\n",
      "url                     3 non-null object\n",
      "website                 3 non-null object\n",
      "dtypes: object(15)\n",
      "memory usage: 384.0+ bytes\n"
     ]
    }
   ],
   "source": [
    "dining_table_df.info()"
   ]
  },
  {
   "cell_type": "code",
   "execution_count": 514,
   "metadata": {
    "collapsed": false
   },
   "outputs": [
    {
     "data": {
      "text/html": [
       "<div>\n",
       "<table border=\"1\" class=\"dataframe\">\n",
       "  <thead>\n",
       "    <tr style=\"text-align: right;\">\n",
       "      <th></th>\n",
       "      <th>category</th>\n",
       "      <th>colors</th>\n",
       "      <th>description</th>\n",
       "      <th>features</th>\n",
       "      <th>image_links_all</th>\n",
       "      <th>image_links_by_color</th>\n",
       "      <th>manufacturer</th>\n",
       "      <th>price</th>\n",
       "      <th>product_id</th>\n",
       "      <th>rating_avg</th>\n",
       "      <th>rating_count</th>\n",
       "      <th>specs</th>\n",
       "      <th>title</th>\n",
       "      <th>url</th>\n",
       "      <th>website</th>\n",
       "    </tr>\n",
       "  </thead>\n",
       "  <tbody>\n",
       "    <tr>\n",
       "      <th>0</th>\n",
       "      <td>dining_table</td>\n",
       "      <td>[]</td>\n",
       "      <td>None</td>\n",
       "      <td>[]</td>\n",
       "      <td>[https://secure.img1.wfrcdn.com/lf/49/hash/266...</td>\n",
       "      <td>{}</td>\n",
       "      <td>Signature Design by Ashley</td>\n",
       "      <td>$420.99</td>\n",
       "      <td>GNT4830</td>\n",
       "      <td>4.7</td>\n",
       "      <td>341</td>\n",
       "      <td>None</td>\n",
       "      <td>Mestler Dining Table</td>\n",
       "      <td>http://www.wayfair.com/Mestler-Dining-Table-D5...</td>\n",
       "      <td>wayfair</td>\n",
       "    </tr>\n",
       "    <tr>\n",
       "      <th>1</th>\n",
       "      <td>dining_table</td>\n",
       "      <td>[Amber Brown, Dark Chocolate, Cherry Walnut, C...</td>\n",
       "      <td>The Reagan Dining Table's classic simplicity m...</td>\n",
       "      <td>[\\nFeatures\\n\\nWipe with a clean, damp, lint-f...</td>\n",
       "      <td>[https://secure.img2.wfrcdn.com/lf/49/hash/250...</td>\n",
       "      <td>{u'Seashell White': [u'https://secure.img2.wfr...</td>\n",
       "      <td>Birch Lane</td>\n",
       "      <td>$1,799.00</td>\n",
       "      <td>BL8027</td>\n",
       "      <td>None</td>\n",
       "      <td>None</td>\n",
       "      <td>\\nWeights &amp; Dimensions\\nLeaf\\n\\n\\n            ...</td>\n",
       "      <td>Reagan Extending Custom Dining Table, 46 x 76 ...</td>\n",
       "      <td>http://www.wayfair.com/Reagan-46-x-76-Custom-D...</td>\n",
       "      <td>wayfair</td>\n",
       "    </tr>\n",
       "    <tr>\n",
       "      <th>2</th>\n",
       "      <td>dining_table</td>\n",
       "      <td>[Amber Brown, Dark Chocolate, Cherry Walnut, C...</td>\n",
       "      <td>The Sedgwick Dining Table's beautifully turned...</td>\n",
       "      <td>[\\nFeatures\\n\\nWipe with a clean, damp, lint-f...</td>\n",
       "      <td>[https://secure.img1.wfrcdn.com/lf/49/hash/250...</td>\n",
       "      <td>{u'Seashell White': [u'https://secure.img1.wfr...</td>\n",
       "      <td>Birch Lane</td>\n",
       "      <td>$1,599.00</td>\n",
       "      <td>BL8019</td>\n",
       "      <td>None</td>\n",
       "      <td>None</td>\n",
       "      <td>\\nWeights &amp; Dimensions\\n\\n\\n\\n            Over...</td>\n",
       "      <td>Sedgwick 48-inch Extending Custom Dining Table</td>\n",
       "      <td>http://www.wayfair.com/Sedgwick-48-Custom-Dini...</td>\n",
       "      <td>wayfair</td>\n",
       "    </tr>\n",
       "  </tbody>\n",
       "</table>\n",
       "</div>"
      ],
      "text/plain": [
       "       category                                             colors  \\\n",
       "0  dining_table                                                 []   \n",
       "1  dining_table  [Amber Brown, Dark Chocolate, Cherry Walnut, C...   \n",
       "2  dining_table  [Amber Brown, Dark Chocolate, Cherry Walnut, C...   \n",
       "\n",
       "                                         description  \\\n",
       "0                                               None   \n",
       "1  The Reagan Dining Table's classic simplicity m...   \n",
       "2  The Sedgwick Dining Table's beautifully turned...   \n",
       "\n",
       "                                            features  \\\n",
       "0                                                 []   \n",
       "1  [\\nFeatures\\n\\nWipe with a clean, damp, lint-f...   \n",
       "2  [\\nFeatures\\n\\nWipe with a clean, damp, lint-f...   \n",
       "\n",
       "                                     image_links_all  \\\n",
       "0  [https://secure.img1.wfrcdn.com/lf/49/hash/266...   \n",
       "1  [https://secure.img2.wfrcdn.com/lf/49/hash/250...   \n",
       "2  [https://secure.img1.wfrcdn.com/lf/49/hash/250...   \n",
       "\n",
       "                                image_links_by_color  \\\n",
       "0                                                 {}   \n",
       "1  {u'Seashell White': [u'https://secure.img2.wfr...   \n",
       "2  {u'Seashell White': [u'https://secure.img1.wfr...   \n",
       "\n",
       "                 manufacturer      price product_id rating_avg rating_count  \\\n",
       "0  Signature Design by Ashley    $420.99    GNT4830        4.7          341   \n",
       "1                  Birch Lane  $1,799.00     BL8027       None         None   \n",
       "2                  Birch Lane  $1,599.00     BL8019       None         None   \n",
       "\n",
       "                                               specs  \\\n",
       "0                                               None   \n",
       "1  \\nWeights & Dimensions\\nLeaf\\n\\n\\n            ...   \n",
       "2  \\nWeights & Dimensions\\n\\n\\n\\n            Over...   \n",
       "\n",
       "                                               title  \\\n",
       "0                               Mestler Dining Table   \n",
       "1  Reagan Extending Custom Dining Table, 46 x 76 ...   \n",
       "2     Sedgwick 48-inch Extending Custom Dining Table   \n",
       "\n",
       "                                                 url  website  \n",
       "0  http://www.wayfair.com/Mestler-Dining-Table-D5...  wayfair  \n",
       "1  http://www.wayfair.com/Reagan-46-x-76-Custom-D...  wayfair  \n",
       "2  http://www.wayfair.com/Sedgwick-48-Custom-Dini...  wayfair  "
      ]
     },
     "execution_count": 514,
     "metadata": {},
     "output_type": "execute_result"
    }
   ],
   "source": [
    "dining_table_df"
   ]
  },
  {
   "cell_type": "code",
   "execution_count": 515,
   "metadata": {
    "collapsed": false
   },
   "outputs": [
    {
     "ename": "error",
     "evalue": "[Errno 60] Operation timed out",
     "output_type": "error",
     "traceback": [
      "\u001b[0;31m---------------------------------------------------------------------------\u001b[0m",
      "\u001b[0;31merror\u001b[0m                                     Traceback (most recent call last)",
      "\u001b[0;32m<ipython-input-515-84b3b9369543>\u001b[0m in \u001b[0;36m<module>\u001b[0;34m()\u001b[0m\n\u001b[1;32m      1\u001b[0m \u001b[0mi\u001b[0m \u001b[0;34m=\u001b[0m \u001b[0;36m3\u001b[0m\u001b[0;34m\u001b[0m\u001b[0m\n\u001b[1;32m      2\u001b[0m \u001b[0;32mfor\u001b[0m \u001b[0mlink\u001b[0m \u001b[0;32min\u001b[0m \u001b[0mdining_table_links\u001b[0m\u001b[0;34m[\u001b[0m\u001b[0;36m3\u001b[0m\u001b[0;34m:\u001b[0m\u001b[0;34m]\u001b[0m\u001b[0;34m:\u001b[0m\u001b[0;34m\u001b[0m\u001b[0m\n\u001b[0;32m----> 3\u001b[0;31m     \u001b[0mproduct_dict\u001b[0m \u001b[0;34m=\u001b[0m \u001b[0mwayfair_product_info_scrapper\u001b[0m\u001b[0;34m(\u001b[0m\u001b[0mlink\u001b[0m\u001b[0;34m,\u001b[0m \u001b[0mcategory_input\u001b[0m\u001b[0;34m=\u001b[0m\u001b[0;34m'dining_table'\u001b[0m\u001b[0;34m)\u001b[0m\u001b[0;34m\u001b[0m\u001b[0m\n\u001b[0m\u001b[1;32m      4\u001b[0m     \u001b[0mdf_product\u001b[0m \u001b[0;34m=\u001b[0m \u001b[0mpd\u001b[0m\u001b[0;34m.\u001b[0m\u001b[0mDataFrame\u001b[0m\u001b[0;34m(\u001b[0m\u001b[0;34m[\u001b[0m\u001b[0mproduct_dict\u001b[0m\u001b[0;34m]\u001b[0m\u001b[0;34m,\u001b[0m \u001b[0mindex\u001b[0m\u001b[0;34m=\u001b[0m\u001b[0;34m[\u001b[0m\u001b[0mi\u001b[0m\u001b[0;34m]\u001b[0m\u001b[0;34m)\u001b[0m\u001b[0;34m\u001b[0m\u001b[0m\n\u001b[1;32m      5\u001b[0m     \u001b[0mdining_table_df\u001b[0m \u001b[0;34m=\u001b[0m \u001b[0mpd\u001b[0m\u001b[0;34m.\u001b[0m\u001b[0mconcat\u001b[0m\u001b[0;34m(\u001b[0m\u001b[0;34m[\u001b[0m\u001b[0mdining_table_df\u001b[0m\u001b[0;34m,\u001b[0m \u001b[0mdf_product\u001b[0m\u001b[0;34m]\u001b[0m\u001b[0;34m,\u001b[0m \u001b[0maxis\u001b[0m\u001b[0;34m=\u001b[0m\u001b[0;36m0\u001b[0m\u001b[0;34m)\u001b[0m\u001b[0;34m\u001b[0m\u001b[0m\n",
      "\u001b[0;32m<ipython-input-488-95e4aa27a703>\u001b[0m in \u001b[0;36mwayfair_product_info_scrapper\u001b[0;34m(link, category_input)\u001b[0m\n\u001b[1;32m     81\u001b[0m             \u001b[0mcolor_key\u001b[0m \u001b[0;34m=\u001b[0m \u001b[0mcolors\u001b[0m\u001b[0;34m[\u001b[0m\u001b[0mi\u001b[0m\u001b[0;34m]\u001b[0m\u001b[0;34m\u001b[0m\u001b[0m\n\u001b[1;32m     82\u001b[0m             \u001b[0mlink_color\u001b[0m \u001b[0;34m=\u001b[0m \u001b[0mlink\u001b[0m \u001b[0;34m+\u001b[0m \u001b[0mcolor_link\u001b[0m\u001b[0;34m\u001b[0m\u001b[0m\n\u001b[0;32m---> 83\u001b[0;31m             \u001b[0mhtml_color\u001b[0m  \u001b[0;34m=\u001b[0m \u001b[0murlopen\u001b[0m\u001b[0;34m(\u001b[0m\u001b[0mlink_color\u001b[0m\u001b[0;34m,\u001b[0m \u001b[0mtimeout\u001b[0m\u001b[0;34m=\u001b[0m\u001b[0;36m100\u001b[0m\u001b[0;34m)\u001b[0m\u001b[0;34m\u001b[0m\u001b[0m\n\u001b[0m\u001b[1;32m     84\u001b[0m             \u001b[0msoup_color\u001b[0m \u001b[0;34m=\u001b[0m \u001b[0mBeautifulSoup\u001b[0m\u001b[0;34m(\u001b[0m\u001b[0mhtml_color\u001b[0m\u001b[0;34m,\u001b[0m \u001b[0;34m'html.parser'\u001b[0m\u001b[0;34m)\u001b[0m\u001b[0;34m\u001b[0m\u001b[0m\n\u001b[1;32m     85\u001b[0m             \u001b[0mimage_info_color\u001b[0m \u001b[0;34m=\u001b[0m \u001b[0msoup_color\u001b[0m\u001b[0;34m.\u001b[0m\u001b[0mfindAll\u001b[0m\u001b[0;34m(\u001b[0m\u001b[0;34m'a'\u001b[0m\u001b[0;34m,\u001b[0m \u001b[0;34m{\u001b[0m\u001b[0;34m'class'\u001b[0m\u001b[0;34m:\u001b[0m \u001b[0;34m'photoswipe_link'\u001b[0m\u001b[0;34m}\u001b[0m\u001b[0;34m)\u001b[0m\u001b[0;34m\u001b[0m\u001b[0m\n",
      "\u001b[0;32m//anaconda/lib/python2.7/urllib2.pyc\u001b[0m in \u001b[0;36murlopen\u001b[0;34m(url, data, timeout, cafile, capath, cadefault, context)\u001b[0m\n\u001b[1;32m    152\u001b[0m     \u001b[0;32melse\u001b[0m\u001b[0;34m:\u001b[0m\u001b[0;34m\u001b[0m\u001b[0m\n\u001b[1;32m    153\u001b[0m         \u001b[0mopener\u001b[0m \u001b[0;34m=\u001b[0m \u001b[0m_opener\u001b[0m\u001b[0;34m\u001b[0m\u001b[0m\n\u001b[0;32m--> 154\u001b[0;31m     \u001b[0;32mreturn\u001b[0m \u001b[0mopener\u001b[0m\u001b[0;34m.\u001b[0m\u001b[0mopen\u001b[0m\u001b[0;34m(\u001b[0m\u001b[0murl\u001b[0m\u001b[0;34m,\u001b[0m \u001b[0mdata\u001b[0m\u001b[0;34m,\u001b[0m \u001b[0mtimeout\u001b[0m\u001b[0;34m)\u001b[0m\u001b[0;34m\u001b[0m\u001b[0m\n\u001b[0m\u001b[1;32m    155\u001b[0m \u001b[0;34m\u001b[0m\u001b[0m\n\u001b[1;32m    156\u001b[0m \u001b[0;32mdef\u001b[0m \u001b[0minstall_opener\u001b[0m\u001b[0;34m(\u001b[0m\u001b[0mopener\u001b[0m\u001b[0;34m)\u001b[0m\u001b[0;34m:\u001b[0m\u001b[0;34m\u001b[0m\u001b[0m\n",
      "\u001b[0;32m//anaconda/lib/python2.7/urllib2.pyc\u001b[0m in \u001b[0;36mopen\u001b[0;34m(self, fullurl, data, timeout)\u001b[0m\n\u001b[1;32m    429\u001b[0m             \u001b[0mreq\u001b[0m \u001b[0;34m=\u001b[0m \u001b[0mmeth\u001b[0m\u001b[0;34m(\u001b[0m\u001b[0mreq\u001b[0m\u001b[0;34m)\u001b[0m\u001b[0;34m\u001b[0m\u001b[0m\n\u001b[1;32m    430\u001b[0m \u001b[0;34m\u001b[0m\u001b[0m\n\u001b[0;32m--> 431\u001b[0;31m         \u001b[0mresponse\u001b[0m \u001b[0;34m=\u001b[0m \u001b[0mself\u001b[0m\u001b[0;34m.\u001b[0m\u001b[0m_open\u001b[0m\u001b[0;34m(\u001b[0m\u001b[0mreq\u001b[0m\u001b[0;34m,\u001b[0m \u001b[0mdata\u001b[0m\u001b[0;34m)\u001b[0m\u001b[0;34m\u001b[0m\u001b[0m\n\u001b[0m\u001b[1;32m    432\u001b[0m \u001b[0;34m\u001b[0m\u001b[0m\n\u001b[1;32m    433\u001b[0m         \u001b[0;31m# post-process response\u001b[0m\u001b[0;34m\u001b[0m\u001b[0;34m\u001b[0m\u001b[0m\n",
      "\u001b[0;32m//anaconda/lib/python2.7/urllib2.pyc\u001b[0m in \u001b[0;36m_open\u001b[0;34m(self, req, data)\u001b[0m\n\u001b[1;32m    447\u001b[0m         \u001b[0mprotocol\u001b[0m \u001b[0;34m=\u001b[0m \u001b[0mreq\u001b[0m\u001b[0;34m.\u001b[0m\u001b[0mget_type\u001b[0m\u001b[0;34m(\u001b[0m\u001b[0;34m)\u001b[0m\u001b[0;34m\u001b[0m\u001b[0m\n\u001b[1;32m    448\u001b[0m         result = self._call_chain(self.handle_open, protocol, protocol +\n\u001b[0;32m--> 449\u001b[0;31m                                   '_open', req)\n\u001b[0m\u001b[1;32m    450\u001b[0m         \u001b[0;32mif\u001b[0m \u001b[0mresult\u001b[0m\u001b[0;34m:\u001b[0m\u001b[0;34m\u001b[0m\u001b[0m\n\u001b[1;32m    451\u001b[0m             \u001b[0;32mreturn\u001b[0m \u001b[0mresult\u001b[0m\u001b[0;34m\u001b[0m\u001b[0m\n",
      "\u001b[0;32m//anaconda/lib/python2.7/urllib2.pyc\u001b[0m in \u001b[0;36m_call_chain\u001b[0;34m(self, chain, kind, meth_name, *args)\u001b[0m\n\u001b[1;32m    407\u001b[0m             \u001b[0mfunc\u001b[0m \u001b[0;34m=\u001b[0m \u001b[0mgetattr\u001b[0m\u001b[0;34m(\u001b[0m\u001b[0mhandler\u001b[0m\u001b[0;34m,\u001b[0m \u001b[0mmeth_name\u001b[0m\u001b[0;34m)\u001b[0m\u001b[0;34m\u001b[0m\u001b[0m\n\u001b[1;32m    408\u001b[0m \u001b[0;34m\u001b[0m\u001b[0m\n\u001b[0;32m--> 409\u001b[0;31m             \u001b[0mresult\u001b[0m \u001b[0;34m=\u001b[0m \u001b[0mfunc\u001b[0m\u001b[0;34m(\u001b[0m\u001b[0;34m*\u001b[0m\u001b[0margs\u001b[0m\u001b[0;34m)\u001b[0m\u001b[0;34m\u001b[0m\u001b[0m\n\u001b[0m\u001b[1;32m    410\u001b[0m             \u001b[0;32mif\u001b[0m \u001b[0mresult\u001b[0m \u001b[0;32mis\u001b[0m \u001b[0;32mnot\u001b[0m \u001b[0mNone\u001b[0m\u001b[0;34m:\u001b[0m\u001b[0;34m\u001b[0m\u001b[0m\n\u001b[1;32m    411\u001b[0m                 \u001b[0;32mreturn\u001b[0m \u001b[0mresult\u001b[0m\u001b[0;34m\u001b[0m\u001b[0m\n",
      "\u001b[0;32m//anaconda/lib/python2.7/urllib2.pyc\u001b[0m in \u001b[0;36mhttp_open\u001b[0;34m(self, req)\u001b[0m\n\u001b[1;32m   1225\u001b[0m \u001b[0;34m\u001b[0m\u001b[0m\n\u001b[1;32m   1226\u001b[0m     \u001b[0;32mdef\u001b[0m \u001b[0mhttp_open\u001b[0m\u001b[0;34m(\u001b[0m\u001b[0mself\u001b[0m\u001b[0;34m,\u001b[0m \u001b[0mreq\u001b[0m\u001b[0;34m)\u001b[0m\u001b[0;34m:\u001b[0m\u001b[0;34m\u001b[0m\u001b[0m\n\u001b[0;32m-> 1227\u001b[0;31m         \u001b[0;32mreturn\u001b[0m \u001b[0mself\u001b[0m\u001b[0;34m.\u001b[0m\u001b[0mdo_open\u001b[0m\u001b[0;34m(\u001b[0m\u001b[0mhttplib\u001b[0m\u001b[0;34m.\u001b[0m\u001b[0mHTTPConnection\u001b[0m\u001b[0;34m,\u001b[0m \u001b[0mreq\u001b[0m\u001b[0;34m)\u001b[0m\u001b[0;34m\u001b[0m\u001b[0m\n\u001b[0m\u001b[1;32m   1228\u001b[0m \u001b[0;34m\u001b[0m\u001b[0m\n\u001b[1;32m   1229\u001b[0m     \u001b[0mhttp_request\u001b[0m \u001b[0;34m=\u001b[0m \u001b[0mAbstractHTTPHandler\u001b[0m\u001b[0;34m.\u001b[0m\u001b[0mdo_request_\u001b[0m\u001b[0;34m\u001b[0m\u001b[0m\n",
      "\u001b[0;32m//anaconda/lib/python2.7/urllib2.pyc\u001b[0m in \u001b[0;36mdo_open\u001b[0;34m(self, http_class, req, **http_conn_args)\u001b[0m\n\u001b[1;32m   1198\u001b[0m         \u001b[0;32melse\u001b[0m\u001b[0;34m:\u001b[0m\u001b[0;34m\u001b[0m\u001b[0m\n\u001b[1;32m   1199\u001b[0m             \u001b[0;32mtry\u001b[0m\u001b[0;34m:\u001b[0m\u001b[0;34m\u001b[0m\u001b[0m\n\u001b[0;32m-> 1200\u001b[0;31m                 \u001b[0mr\u001b[0m \u001b[0;34m=\u001b[0m \u001b[0mh\u001b[0m\u001b[0;34m.\u001b[0m\u001b[0mgetresponse\u001b[0m\u001b[0;34m(\u001b[0m\u001b[0mbuffering\u001b[0m\u001b[0;34m=\u001b[0m\u001b[0mTrue\u001b[0m\u001b[0;34m)\u001b[0m\u001b[0;34m\u001b[0m\u001b[0m\n\u001b[0m\u001b[1;32m   1201\u001b[0m             \u001b[0;32mexcept\u001b[0m \u001b[0mTypeError\u001b[0m\u001b[0;34m:\u001b[0m \u001b[0;31m# buffering kw not supported\u001b[0m\u001b[0;34m\u001b[0m\u001b[0m\n\u001b[1;32m   1202\u001b[0m                 \u001b[0mr\u001b[0m \u001b[0;34m=\u001b[0m \u001b[0mh\u001b[0m\u001b[0;34m.\u001b[0m\u001b[0mgetresponse\u001b[0m\u001b[0;34m(\u001b[0m\u001b[0;34m)\u001b[0m\u001b[0;34m\u001b[0m\u001b[0m\n",
      "\u001b[0;32m//anaconda/lib/python2.7/httplib.pyc\u001b[0m in \u001b[0;36mgetresponse\u001b[0;34m(self, buffering)\u001b[0m\n\u001b[1;32m   1130\u001b[0m \u001b[0;34m\u001b[0m\u001b[0m\n\u001b[1;32m   1131\u001b[0m         \u001b[0;32mtry\u001b[0m\u001b[0;34m:\u001b[0m\u001b[0;34m\u001b[0m\u001b[0m\n\u001b[0;32m-> 1132\u001b[0;31m             \u001b[0mresponse\u001b[0m\u001b[0;34m.\u001b[0m\u001b[0mbegin\u001b[0m\u001b[0;34m(\u001b[0m\u001b[0;34m)\u001b[0m\u001b[0;34m\u001b[0m\u001b[0m\n\u001b[0m\u001b[1;32m   1133\u001b[0m             \u001b[0;32massert\u001b[0m \u001b[0mresponse\u001b[0m\u001b[0;34m.\u001b[0m\u001b[0mwill_close\u001b[0m \u001b[0;34m!=\u001b[0m \u001b[0m_UNKNOWN\u001b[0m\u001b[0;34m\u001b[0m\u001b[0m\n\u001b[1;32m   1134\u001b[0m             \u001b[0mself\u001b[0m\u001b[0;34m.\u001b[0m\u001b[0m__state\u001b[0m \u001b[0;34m=\u001b[0m \u001b[0m_CS_IDLE\u001b[0m\u001b[0;34m\u001b[0m\u001b[0m\n",
      "\u001b[0;32m//anaconda/lib/python2.7/httplib.pyc\u001b[0m in \u001b[0;36mbegin\u001b[0;34m(self)\u001b[0m\n\u001b[1;32m    451\u001b[0m         \u001b[0;31m# read until we get a non-100 response\u001b[0m\u001b[0;34m\u001b[0m\u001b[0;34m\u001b[0m\u001b[0m\n\u001b[1;32m    452\u001b[0m         \u001b[0;32mwhile\u001b[0m \u001b[0mTrue\u001b[0m\u001b[0;34m:\u001b[0m\u001b[0;34m\u001b[0m\u001b[0m\n\u001b[0;32m--> 453\u001b[0;31m             \u001b[0mversion\u001b[0m\u001b[0;34m,\u001b[0m \u001b[0mstatus\u001b[0m\u001b[0;34m,\u001b[0m \u001b[0mreason\u001b[0m \u001b[0;34m=\u001b[0m \u001b[0mself\u001b[0m\u001b[0;34m.\u001b[0m\u001b[0m_read_status\u001b[0m\u001b[0;34m(\u001b[0m\u001b[0;34m)\u001b[0m\u001b[0;34m\u001b[0m\u001b[0m\n\u001b[0m\u001b[1;32m    454\u001b[0m             \u001b[0;32mif\u001b[0m \u001b[0mstatus\u001b[0m \u001b[0;34m!=\u001b[0m \u001b[0mCONTINUE\u001b[0m\u001b[0;34m:\u001b[0m\u001b[0;34m\u001b[0m\u001b[0m\n\u001b[1;32m    455\u001b[0m                 \u001b[0;32mbreak\u001b[0m\u001b[0;34m\u001b[0m\u001b[0m\n",
      "\u001b[0;32m//anaconda/lib/python2.7/httplib.pyc\u001b[0m in \u001b[0;36m_read_status\u001b[0;34m(self)\u001b[0m\n\u001b[1;32m    407\u001b[0m     \u001b[0;32mdef\u001b[0m \u001b[0m_read_status\u001b[0m\u001b[0;34m(\u001b[0m\u001b[0mself\u001b[0m\u001b[0;34m)\u001b[0m\u001b[0;34m:\u001b[0m\u001b[0;34m\u001b[0m\u001b[0m\n\u001b[1;32m    408\u001b[0m         \u001b[0;31m# Initialize with Simple-Response defaults\u001b[0m\u001b[0;34m\u001b[0m\u001b[0;34m\u001b[0m\u001b[0m\n\u001b[0;32m--> 409\u001b[0;31m         \u001b[0mline\u001b[0m \u001b[0;34m=\u001b[0m \u001b[0mself\u001b[0m\u001b[0;34m.\u001b[0m\u001b[0mfp\u001b[0m\u001b[0;34m.\u001b[0m\u001b[0mreadline\u001b[0m\u001b[0;34m(\u001b[0m\u001b[0m_MAXLINE\u001b[0m \u001b[0;34m+\u001b[0m \u001b[0;36m1\u001b[0m\u001b[0;34m)\u001b[0m\u001b[0;34m\u001b[0m\u001b[0m\n\u001b[0m\u001b[1;32m    410\u001b[0m         \u001b[0;32mif\u001b[0m \u001b[0mlen\u001b[0m\u001b[0;34m(\u001b[0m\u001b[0mline\u001b[0m\u001b[0;34m)\u001b[0m \u001b[0;34m>\u001b[0m \u001b[0m_MAXLINE\u001b[0m\u001b[0;34m:\u001b[0m\u001b[0;34m\u001b[0m\u001b[0m\n\u001b[1;32m    411\u001b[0m             \u001b[0;32mraise\u001b[0m \u001b[0mLineTooLong\u001b[0m\u001b[0;34m(\u001b[0m\u001b[0;34m\"header line\"\u001b[0m\u001b[0;34m)\u001b[0m\u001b[0;34m\u001b[0m\u001b[0m\n",
      "\u001b[0;32m//anaconda/lib/python2.7/socket.pyc\u001b[0m in \u001b[0;36mreadline\u001b[0;34m(self, size)\u001b[0m\n\u001b[1;32m    478\u001b[0m             \u001b[0;32mwhile\u001b[0m \u001b[0mTrue\u001b[0m\u001b[0;34m:\u001b[0m\u001b[0;34m\u001b[0m\u001b[0m\n\u001b[1;32m    479\u001b[0m                 \u001b[0;32mtry\u001b[0m\u001b[0;34m:\u001b[0m\u001b[0;34m\u001b[0m\u001b[0m\n\u001b[0;32m--> 480\u001b[0;31m                     \u001b[0mdata\u001b[0m \u001b[0;34m=\u001b[0m \u001b[0mself\u001b[0m\u001b[0;34m.\u001b[0m\u001b[0m_sock\u001b[0m\u001b[0;34m.\u001b[0m\u001b[0mrecv\u001b[0m\u001b[0;34m(\u001b[0m\u001b[0mself\u001b[0m\u001b[0;34m.\u001b[0m\u001b[0m_rbufsize\u001b[0m\u001b[0;34m)\u001b[0m\u001b[0;34m\u001b[0m\u001b[0m\n\u001b[0m\u001b[1;32m    481\u001b[0m                 \u001b[0;32mexcept\u001b[0m \u001b[0merror\u001b[0m\u001b[0;34m,\u001b[0m \u001b[0me\u001b[0m\u001b[0;34m:\u001b[0m\u001b[0;34m\u001b[0m\u001b[0m\n\u001b[1;32m    482\u001b[0m                     \u001b[0;32mif\u001b[0m \u001b[0me\u001b[0m\u001b[0;34m.\u001b[0m\u001b[0margs\u001b[0m\u001b[0;34m[\u001b[0m\u001b[0;36m0\u001b[0m\u001b[0;34m]\u001b[0m \u001b[0;34m==\u001b[0m \u001b[0mEINTR\u001b[0m\u001b[0;34m:\u001b[0m\u001b[0;34m\u001b[0m\u001b[0m\n",
      "\u001b[0;31merror\u001b[0m: [Errno 60] Operation timed out"
     ]
    }
   ],
   "source": [
    "i = 3\n",
    "for link in dining_table_links[3:]:\n",
    "    product_dict = wayfair_product_info_scrapper(link, category_input='dining_table')\n",
    "    df_product = pd.DataFrame([product_dict], index=[i])\n",
    "    dining_table_df = pd.concat([dining_table_df, df_product], axis=0)\n",
    "    i += 1\n",
    "    if i % 20 == 0:\n",
    "        print i"
   ]
  },
  {
   "cell_type": "code",
   "execution_count": 516,
   "metadata": {
    "collapsed": false
   },
   "outputs": [
    {
     "name": "stdout",
     "output_type": "stream",
     "text": [
      "<class 'pandas.core.frame.DataFrame'>\n",
      "Int64Index: 12 entries, 0 to 11\n",
      "Data columns (total 15 columns):\n",
      "category                12 non-null object\n",
      "colors                  12 non-null object\n",
      "description             10 non-null object\n",
      "features                12 non-null object\n",
      "image_links_all         12 non-null object\n",
      "image_links_by_color    12 non-null object\n",
      "manufacturer            12 non-null object\n",
      "price                   12 non-null object\n",
      "product_id              12 non-null object\n",
      "rating_avg              6 non-null object\n",
      "rating_count            6 non-null object\n",
      "specs                   10 non-null object\n",
      "title                   12 non-null object\n",
      "url                     12 non-null object\n",
      "website                 12 non-null object\n",
      "dtypes: object(15)\n",
      "memory usage: 1.5+ KB\n"
     ]
    }
   ],
   "source": [
    "dining_table_df.info()"
   ]
  },
  {
   "cell_type": "code",
   "execution_count": 517,
   "metadata": {
    "collapsed": false
   },
   "outputs": [
    {
     "name": "stdout",
     "output_type": "stream",
     "text": [
      "20\n",
      "40\n",
      "60\n",
      "80\n",
      "100\n",
      "120\n",
      "140\n",
      "160\n",
      "180\n",
      "200\n",
      "220\n",
      "240\n",
      "260\n",
      "280\n",
      "300\n",
      "320\n",
      "340\n"
     ]
    },
    {
     "ename": "HTTPError",
     "evalue": "HTTP Error 408: Request Time-out",
     "output_type": "error",
     "traceback": [
      "\u001b[0;31m---------------------------------------------------------------------------\u001b[0m",
      "\u001b[0;31mHTTPError\u001b[0m                                 Traceback (most recent call last)",
      "\u001b[0;32m<ipython-input-517-6ca95b722fd8>\u001b[0m in \u001b[0;36m<module>\u001b[0;34m()\u001b[0m\n\u001b[1;32m      1\u001b[0m \u001b[0mi\u001b[0m \u001b[0;34m=\u001b[0m \u001b[0;36m12\u001b[0m\u001b[0;34m\u001b[0m\u001b[0m\n\u001b[1;32m      2\u001b[0m \u001b[0;32mfor\u001b[0m \u001b[0mlink\u001b[0m \u001b[0;32min\u001b[0m \u001b[0mdining_table_links\u001b[0m\u001b[0;34m[\u001b[0m\u001b[0;36m12\u001b[0m\u001b[0;34m:\u001b[0m\u001b[0;34m]\u001b[0m\u001b[0;34m:\u001b[0m\u001b[0;34m\u001b[0m\u001b[0m\n\u001b[0;32m----> 3\u001b[0;31m     \u001b[0mproduct_dict\u001b[0m \u001b[0;34m=\u001b[0m \u001b[0mwayfair_product_info_scrapper\u001b[0m\u001b[0;34m(\u001b[0m\u001b[0mlink\u001b[0m\u001b[0;34m,\u001b[0m \u001b[0mcategory_input\u001b[0m\u001b[0;34m=\u001b[0m\u001b[0;34m'dining_table'\u001b[0m\u001b[0;34m)\u001b[0m\u001b[0;34m\u001b[0m\u001b[0m\n\u001b[0m\u001b[1;32m      4\u001b[0m     \u001b[0mdf_product\u001b[0m \u001b[0;34m=\u001b[0m \u001b[0mpd\u001b[0m\u001b[0;34m.\u001b[0m\u001b[0mDataFrame\u001b[0m\u001b[0;34m(\u001b[0m\u001b[0;34m[\u001b[0m\u001b[0mproduct_dict\u001b[0m\u001b[0;34m]\u001b[0m\u001b[0;34m,\u001b[0m \u001b[0mindex\u001b[0m\u001b[0;34m=\u001b[0m\u001b[0;34m[\u001b[0m\u001b[0mi\u001b[0m\u001b[0;34m]\u001b[0m\u001b[0;34m)\u001b[0m\u001b[0;34m\u001b[0m\u001b[0m\n\u001b[1;32m      5\u001b[0m     \u001b[0mdining_table_df\u001b[0m \u001b[0;34m=\u001b[0m \u001b[0mpd\u001b[0m\u001b[0;34m.\u001b[0m\u001b[0mconcat\u001b[0m\u001b[0;34m(\u001b[0m\u001b[0;34m[\u001b[0m\u001b[0mdining_table_df\u001b[0m\u001b[0;34m,\u001b[0m \u001b[0mdf_product\u001b[0m\u001b[0;34m]\u001b[0m\u001b[0;34m,\u001b[0m \u001b[0maxis\u001b[0m\u001b[0;34m=\u001b[0m\u001b[0;36m0\u001b[0m\u001b[0;34m)\u001b[0m\u001b[0;34m\u001b[0m\u001b[0m\n",
      "\u001b[0;32m<ipython-input-488-95e4aa27a703>\u001b[0m in \u001b[0;36mwayfair_product_info_scrapper\u001b[0;34m(link, category_input)\u001b[0m\n\u001b[1;32m     28\u001b[0m     '''\n\u001b[1;32m     29\u001b[0m \u001b[0;34m\u001b[0m\u001b[0m\n\u001b[0;32m---> 30\u001b[0;31m     \u001b[0mhtml\u001b[0m  \u001b[0;34m=\u001b[0m \u001b[0murlopen\u001b[0m\u001b[0;34m(\u001b[0m\u001b[0mlink\u001b[0m\u001b[0;34m,\u001b[0m \u001b[0mtimeout\u001b[0m\u001b[0;34m=\u001b[0m\u001b[0;36m100\u001b[0m\u001b[0;34m)\u001b[0m\u001b[0;34m\u001b[0m\u001b[0m\n\u001b[0m\u001b[1;32m     31\u001b[0m \u001b[0;34m\u001b[0m\u001b[0m\n\u001b[1;32m     32\u001b[0m \u001b[0;31m#     import requests\u001b[0m\u001b[0;34m\u001b[0m\u001b[0;34m\u001b[0m\u001b[0m\n",
      "\u001b[0;32m//anaconda/lib/python2.7/urllib2.pyc\u001b[0m in \u001b[0;36murlopen\u001b[0;34m(url, data, timeout, cafile, capath, cadefault, context)\u001b[0m\n\u001b[1;32m    152\u001b[0m     \u001b[0;32melse\u001b[0m\u001b[0;34m:\u001b[0m\u001b[0;34m\u001b[0m\u001b[0m\n\u001b[1;32m    153\u001b[0m         \u001b[0mopener\u001b[0m \u001b[0;34m=\u001b[0m \u001b[0m_opener\u001b[0m\u001b[0;34m\u001b[0m\u001b[0m\n\u001b[0;32m--> 154\u001b[0;31m     \u001b[0;32mreturn\u001b[0m \u001b[0mopener\u001b[0m\u001b[0;34m.\u001b[0m\u001b[0mopen\u001b[0m\u001b[0;34m(\u001b[0m\u001b[0murl\u001b[0m\u001b[0;34m,\u001b[0m \u001b[0mdata\u001b[0m\u001b[0;34m,\u001b[0m \u001b[0mtimeout\u001b[0m\u001b[0;34m)\u001b[0m\u001b[0;34m\u001b[0m\u001b[0m\n\u001b[0m\u001b[1;32m    155\u001b[0m \u001b[0;34m\u001b[0m\u001b[0m\n\u001b[1;32m    156\u001b[0m \u001b[0;32mdef\u001b[0m \u001b[0minstall_opener\u001b[0m\u001b[0;34m(\u001b[0m\u001b[0mopener\u001b[0m\u001b[0;34m)\u001b[0m\u001b[0;34m:\u001b[0m\u001b[0;34m\u001b[0m\u001b[0m\n",
      "\u001b[0;32m//anaconda/lib/python2.7/urllib2.pyc\u001b[0m in \u001b[0;36mopen\u001b[0;34m(self, fullurl, data, timeout)\u001b[0m\n\u001b[1;32m    435\u001b[0m         \u001b[0;32mfor\u001b[0m \u001b[0mprocessor\u001b[0m \u001b[0;32min\u001b[0m \u001b[0mself\u001b[0m\u001b[0;34m.\u001b[0m\u001b[0mprocess_response\u001b[0m\u001b[0;34m.\u001b[0m\u001b[0mget\u001b[0m\u001b[0;34m(\u001b[0m\u001b[0mprotocol\u001b[0m\u001b[0;34m,\u001b[0m \u001b[0;34m[\u001b[0m\u001b[0;34m]\u001b[0m\u001b[0;34m)\u001b[0m\u001b[0;34m:\u001b[0m\u001b[0;34m\u001b[0m\u001b[0m\n\u001b[1;32m    436\u001b[0m             \u001b[0mmeth\u001b[0m \u001b[0;34m=\u001b[0m \u001b[0mgetattr\u001b[0m\u001b[0;34m(\u001b[0m\u001b[0mprocessor\u001b[0m\u001b[0;34m,\u001b[0m \u001b[0mmeth_name\u001b[0m\u001b[0;34m)\u001b[0m\u001b[0;34m\u001b[0m\u001b[0m\n\u001b[0;32m--> 437\u001b[0;31m             \u001b[0mresponse\u001b[0m \u001b[0;34m=\u001b[0m \u001b[0mmeth\u001b[0m\u001b[0;34m(\u001b[0m\u001b[0mreq\u001b[0m\u001b[0;34m,\u001b[0m \u001b[0mresponse\u001b[0m\u001b[0;34m)\u001b[0m\u001b[0;34m\u001b[0m\u001b[0m\n\u001b[0m\u001b[1;32m    438\u001b[0m \u001b[0;34m\u001b[0m\u001b[0m\n\u001b[1;32m    439\u001b[0m         \u001b[0;32mreturn\u001b[0m \u001b[0mresponse\u001b[0m\u001b[0;34m\u001b[0m\u001b[0m\n",
      "\u001b[0;32m//anaconda/lib/python2.7/urllib2.pyc\u001b[0m in \u001b[0;36mhttp_response\u001b[0;34m(self, request, response)\u001b[0m\n\u001b[1;32m    548\u001b[0m         \u001b[0;32mif\u001b[0m \u001b[0;32mnot\u001b[0m \u001b[0;34m(\u001b[0m\u001b[0;36m200\u001b[0m \u001b[0;34m<=\u001b[0m \u001b[0mcode\u001b[0m \u001b[0;34m<\u001b[0m \u001b[0;36m300\u001b[0m\u001b[0;34m)\u001b[0m\u001b[0;34m:\u001b[0m\u001b[0;34m\u001b[0m\u001b[0m\n\u001b[1;32m    549\u001b[0m             response = self.parent.error(\n\u001b[0;32m--> 550\u001b[0;31m                 'http', request, response, code, msg, hdrs)\n\u001b[0m\u001b[1;32m    551\u001b[0m \u001b[0;34m\u001b[0m\u001b[0m\n\u001b[1;32m    552\u001b[0m         \u001b[0;32mreturn\u001b[0m \u001b[0mresponse\u001b[0m\u001b[0;34m\u001b[0m\u001b[0m\n",
      "\u001b[0;32m//anaconda/lib/python2.7/urllib2.pyc\u001b[0m in \u001b[0;36merror\u001b[0;34m(self, proto, *args)\u001b[0m\n\u001b[1;32m    473\u001b[0m         \u001b[0;32mif\u001b[0m \u001b[0mhttp_err\u001b[0m\u001b[0;34m:\u001b[0m\u001b[0;34m\u001b[0m\u001b[0m\n\u001b[1;32m    474\u001b[0m             \u001b[0margs\u001b[0m \u001b[0;34m=\u001b[0m \u001b[0;34m(\u001b[0m\u001b[0mdict\u001b[0m\u001b[0;34m,\u001b[0m \u001b[0;34m'default'\u001b[0m\u001b[0;34m,\u001b[0m \u001b[0;34m'http_error_default'\u001b[0m\u001b[0;34m)\u001b[0m \u001b[0;34m+\u001b[0m \u001b[0morig_args\u001b[0m\u001b[0;34m\u001b[0m\u001b[0m\n\u001b[0;32m--> 475\u001b[0;31m             \u001b[0;32mreturn\u001b[0m \u001b[0mself\u001b[0m\u001b[0;34m.\u001b[0m\u001b[0m_call_chain\u001b[0m\u001b[0;34m(\u001b[0m\u001b[0;34m*\u001b[0m\u001b[0margs\u001b[0m\u001b[0;34m)\u001b[0m\u001b[0;34m\u001b[0m\u001b[0m\n\u001b[0m\u001b[1;32m    476\u001b[0m \u001b[0;34m\u001b[0m\u001b[0m\n\u001b[1;32m    477\u001b[0m \u001b[0;31m# XXX probably also want an abstract factory that knows when it makes\u001b[0m\u001b[0;34m\u001b[0m\u001b[0;34m\u001b[0m\u001b[0m\n",
      "\u001b[0;32m//anaconda/lib/python2.7/urllib2.pyc\u001b[0m in \u001b[0;36m_call_chain\u001b[0;34m(self, chain, kind, meth_name, *args)\u001b[0m\n\u001b[1;32m    407\u001b[0m             \u001b[0mfunc\u001b[0m \u001b[0;34m=\u001b[0m \u001b[0mgetattr\u001b[0m\u001b[0;34m(\u001b[0m\u001b[0mhandler\u001b[0m\u001b[0;34m,\u001b[0m \u001b[0mmeth_name\u001b[0m\u001b[0;34m)\u001b[0m\u001b[0;34m\u001b[0m\u001b[0m\n\u001b[1;32m    408\u001b[0m \u001b[0;34m\u001b[0m\u001b[0m\n\u001b[0;32m--> 409\u001b[0;31m             \u001b[0mresult\u001b[0m \u001b[0;34m=\u001b[0m \u001b[0mfunc\u001b[0m\u001b[0;34m(\u001b[0m\u001b[0;34m*\u001b[0m\u001b[0margs\u001b[0m\u001b[0;34m)\u001b[0m\u001b[0;34m\u001b[0m\u001b[0m\n\u001b[0m\u001b[1;32m    410\u001b[0m             \u001b[0;32mif\u001b[0m \u001b[0mresult\u001b[0m \u001b[0;32mis\u001b[0m \u001b[0;32mnot\u001b[0m \u001b[0mNone\u001b[0m\u001b[0;34m:\u001b[0m\u001b[0;34m\u001b[0m\u001b[0m\n\u001b[1;32m    411\u001b[0m                 \u001b[0;32mreturn\u001b[0m \u001b[0mresult\u001b[0m\u001b[0;34m\u001b[0m\u001b[0m\n",
      "\u001b[0;32m//anaconda/lib/python2.7/urllib2.pyc\u001b[0m in \u001b[0;36mhttp_error_default\u001b[0;34m(self, req, fp, code, msg, hdrs)\u001b[0m\n\u001b[1;32m    556\u001b[0m \u001b[0;32mclass\u001b[0m \u001b[0mHTTPDefaultErrorHandler\u001b[0m\u001b[0;34m(\u001b[0m\u001b[0mBaseHandler\u001b[0m\u001b[0;34m)\u001b[0m\u001b[0;34m:\u001b[0m\u001b[0;34m\u001b[0m\u001b[0m\n\u001b[1;32m    557\u001b[0m     \u001b[0;32mdef\u001b[0m \u001b[0mhttp_error_default\u001b[0m\u001b[0;34m(\u001b[0m\u001b[0mself\u001b[0m\u001b[0;34m,\u001b[0m \u001b[0mreq\u001b[0m\u001b[0;34m,\u001b[0m \u001b[0mfp\u001b[0m\u001b[0;34m,\u001b[0m \u001b[0mcode\u001b[0m\u001b[0;34m,\u001b[0m \u001b[0mmsg\u001b[0m\u001b[0;34m,\u001b[0m \u001b[0mhdrs\u001b[0m\u001b[0;34m)\u001b[0m\u001b[0;34m:\u001b[0m\u001b[0;34m\u001b[0m\u001b[0m\n\u001b[0;32m--> 558\u001b[0;31m         \u001b[0;32mraise\u001b[0m \u001b[0mHTTPError\u001b[0m\u001b[0;34m(\u001b[0m\u001b[0mreq\u001b[0m\u001b[0;34m.\u001b[0m\u001b[0mget_full_url\u001b[0m\u001b[0;34m(\u001b[0m\u001b[0;34m)\u001b[0m\u001b[0;34m,\u001b[0m \u001b[0mcode\u001b[0m\u001b[0;34m,\u001b[0m \u001b[0mmsg\u001b[0m\u001b[0;34m,\u001b[0m \u001b[0mhdrs\u001b[0m\u001b[0;34m,\u001b[0m \u001b[0mfp\u001b[0m\u001b[0;34m)\u001b[0m\u001b[0;34m\u001b[0m\u001b[0m\n\u001b[0m\u001b[1;32m    559\u001b[0m \u001b[0;34m\u001b[0m\u001b[0m\n\u001b[1;32m    560\u001b[0m \u001b[0;32mclass\u001b[0m \u001b[0mHTTPRedirectHandler\u001b[0m\u001b[0;34m(\u001b[0m\u001b[0mBaseHandler\u001b[0m\u001b[0;34m)\u001b[0m\u001b[0;34m:\u001b[0m\u001b[0;34m\u001b[0m\u001b[0m\n",
      "\u001b[0;31mHTTPError\u001b[0m: HTTP Error 408: Request Time-out"
     ]
    }
   ],
   "source": [
    "i = 12\n",
    "for link in dining_table_links[12:]:\n",
    "    product_dict = wayfair_product_info_scrapper(link, category_input='dining_table')\n",
    "    df_product = pd.DataFrame([product_dict], index=[i])\n",
    "    dining_table_df = pd.concat([dining_table_df, df_product], axis=0)\n",
    "    i += 1\n",
    "    if i % 20 == 0:\n",
    "        print i"
   ]
  },
  {
   "cell_type": "code",
   "execution_count": 518,
   "metadata": {
    "collapsed": false
   },
   "outputs": [
    {
     "name": "stdout",
     "output_type": "stream",
     "text": [
      "<class 'pandas.core.frame.DataFrame'>\n",
      "Int64Index: 347 entries, 0 to 346\n",
      "Data columns (total 15 columns):\n",
      "category                347 non-null object\n",
      "colors                  347 non-null object\n",
      "description             207 non-null object\n",
      "features                347 non-null object\n",
      "image_links_all         347 non-null object\n",
      "image_links_by_color    347 non-null object\n",
      "manufacturer            347 non-null object\n",
      "price                   347 non-null object\n",
      "product_id              347 non-null object\n",
      "rating_avg              278 non-null object\n",
      "rating_count            278 non-null object\n",
      "specs                   276 non-null object\n",
      "title                   347 non-null object\n",
      "url                     347 non-null object\n",
      "website                 347 non-null object\n",
      "dtypes: object(15)\n",
      "memory usage: 43.4+ KB\n"
     ]
    }
   ],
   "source": [
    "dining_table_df.info()"
   ]
  },
  {
   "cell_type": "code",
   "execution_count": 519,
   "metadata": {
    "collapsed": false
   },
   "outputs": [
    {
     "name": "stdout",
     "output_type": "stream",
     "text": [
      "360\n",
      "380\n",
      "400\n",
      "420\n",
      "440\n",
      "460\n",
      "480\n",
      "500\n",
      "520\n",
      "540\n",
      "560\n",
      "580\n",
      "600\n",
      "620\n",
      "640\n",
      "660\n",
      "680\n",
      "700\n",
      "720\n",
      "740\n",
      "760\n",
      "780\n",
      "800\n",
      "820\n",
      "840\n",
      "860\n",
      "880\n",
      "900\n",
      "920\n",
      "940\n",
      "960\n",
      "980\n",
      "1000\n"
     ]
    }
   ],
   "source": [
    "i = 347\n",
    "for link in dining_table_links[347:]:\n",
    "    product_dict = wayfair_product_info_scrapper(link, category_input='dining_table')\n",
    "    df_product = pd.DataFrame([product_dict], index=[i])\n",
    "    dining_table_df = pd.concat([dining_table_df, df_product], axis=0)\n",
    "    i += 1\n",
    "    if i % 20 == 0:\n",
    "        print i"
   ]
  },
  {
   "cell_type": "code",
   "execution_count": 520,
   "metadata": {
    "collapsed": true
   },
   "outputs": [],
   "source": [
    "dining_table_df.to_json('wayfair/dining_table.json')"
   ]
  },
  {
   "cell_type": "code",
   "execution_count": 521,
   "metadata": {
    "collapsed": false
   },
   "outputs": [
    {
     "data": {
      "text/plain": [
       "'Mon Sep 21 17:54:53 2015'"
      ]
     },
     "execution_count": 521,
     "metadata": {},
     "output_type": "execute_result"
    }
   ],
   "source": [
    "time.ctime(time.time())"
   ]
  },
  {
   "cell_type": "code",
   "execution_count": 522,
   "metadata": {
    "collapsed": false
   },
   "outputs": [
    {
     "name": "stdout",
     "output_type": "stream",
     "text": [
      "<class 'pandas.core.frame.DataFrame'>\n",
      "Int64Index: 1008 entries, 0 to 1007\n",
      "Data columns (total 15 columns):\n",
      "category                1008 non-null object\n",
      "colors                  1008 non-null object\n",
      "description             539 non-null object\n",
      "features                1008 non-null object\n",
      "image_links_all         1008 non-null object\n",
      "image_links_by_color    1008 non-null object\n",
      "manufacturer            1008 non-null object\n",
      "price                   1008 non-null object\n",
      "product_id              1008 non-null object\n",
      "rating_avg              642 non-null object\n",
      "rating_count            642 non-null object\n",
      "specs                   785 non-null object\n",
      "title                   1008 non-null object\n",
      "url                     1008 non-null object\n",
      "website                 1008 non-null object\n",
      "dtypes: object(15)\n",
      "memory usage: 126.0+ KB\n"
     ]
    }
   ],
   "source": [
    "dining_table_df.info()"
   ]
  },
  {
   "cell_type": "code",
   "execution_count": 523,
   "metadata": {
    "collapsed": false
   },
   "outputs": [
    {
     "data": {
      "text/html": [
       "<div>\n",
       "<table border=\"1\" class=\"dataframe\">\n",
       "  <thead>\n",
       "    <tr style=\"text-align: right;\">\n",
       "      <th></th>\n",
       "      <th>category</th>\n",
       "      <th>colors</th>\n",
       "      <th>description</th>\n",
       "      <th>features</th>\n",
       "      <th>image_links_all</th>\n",
       "      <th>image_links_by_color</th>\n",
       "      <th>manufacturer</th>\n",
       "      <th>price</th>\n",
       "      <th>product_id</th>\n",
       "      <th>rating_avg</th>\n",
       "      <th>rating_count</th>\n",
       "      <th>specs</th>\n",
       "      <th>title</th>\n",
       "      <th>url</th>\n",
       "      <th>website</th>\n",
       "    </tr>\n",
       "  </thead>\n",
       "  <tbody>\n",
       "    <tr>\n",
       "      <th>1003</th>\n",
       "      <td>dining_table</td>\n",
       "      <td>[]</td>\n",
       "      <td>None</td>\n",
       "      <td>[]</td>\n",
       "      <td>[https://secure.img2.wfrcdn.com/lf/49/hash/588...</td>\n",
       "      <td>{}</td>\n",
       "      <td>Diamond Sofa</td>\n",
       "      <td>$719.10</td>\n",
       "      <td>DSF1566</td>\n",
       "      <td>None</td>\n",
       "      <td>None</td>\n",
       "      <td>None</td>\n",
       "      <td>Studio Extendable Dining Table</td>\n",
       "      <td>http://www.wayfair.com/Diamond-Sofa-Studio-Din...</td>\n",
       "      <td>wayfair</td>\n",
       "    </tr>\n",
       "    <tr>\n",
       "      <th>1004</th>\n",
       "      <td>dining_table</td>\n",
       "      <td>[]</td>\n",
       "      <td>None</td>\n",
       "      <td>[]</td>\n",
       "      <td>[https://secure.img1.wfrcdn.com/lf/49/hash/408...</td>\n",
       "      <td>{}</td>\n",
       "      <td>Eurostyle</td>\n",
       "      <td>$598.85</td>\n",
       "      <td>EY2491</td>\n",
       "      <td>5.0</td>\n",
       "      <td>1</td>\n",
       "      <td>None</td>\n",
       "      <td>Beth Dining Table</td>\n",
       "      <td>http://www.wayfair.com/Eurostyle-Beth-Dining-T...</td>\n",
       "      <td>wayfair</td>\n",
       "    </tr>\n",
       "    <tr>\n",
       "      <th>1005</th>\n",
       "      <td>dining_table</td>\n",
       "      <td>[]</td>\n",
       "      <td>The Marseille collection provides a perfect so...</td>\n",
       "      <td>[\\nFeatures\\n\\nMarseille collection\\nMerlot ch...</td>\n",
       "      <td>[https://secure.img2.wfrcdn.com/lf/49/hash/921...</td>\n",
       "      <td>{}</td>\n",
       "      <td>Steve Silver Furniture</td>\n",
       "      <td>$539.99</td>\n",
       "      <td>SVV2754</td>\n",
       "      <td>None</td>\n",
       "      <td>None</td>\n",
       "      <td>\\nWeights &amp; Dimensions\\nLeaf\\n\\n\\n            ...</td>\n",
       "      <td>Marseille Extendable Dining Table</td>\n",
       "      <td>http://www.wayfair.com/Steve-Silver-Furniture-...</td>\n",
       "      <td>wayfair</td>\n",
       "    </tr>\n",
       "    <tr>\n",
       "      <th>1006</th>\n",
       "      <td>dining_table</td>\n",
       "      <td>[Polished Nickel, Metallic Bronze]</td>\n",
       "      <td>In the midst of the modern design movement in ...</td>\n",
       "      <td>[\\nFeatures\\n\\nPlatner collection\\nFrame made ...</td>\n",
       "      <td>[https://secure.img2.wfrcdn.com/lf/49/hash/151...</td>\n",
       "      <td>{u'Polished Nickel': [u'https://secure.img1.wf...</td>\n",
       "      <td>Knoll ®</td>\n",
       "      <td>$3,036.20</td>\n",
       "      <td>KLL2052</td>\n",
       "      <td>None</td>\n",
       "      <td>None</td>\n",
       "      <td>\\nWeights &amp; Dimensions\\n\\n\\n\\n            Over...</td>\n",
       "      <td>Platner Dining Table</td>\n",
       "      <td>http://www.wayfair.com/Knoll-%25C2%25AE-Platne...</td>\n",
       "      <td>wayfair</td>\n",
       "    </tr>\n",
       "    <tr>\n",
       "      <th>1007</th>\n",
       "      <td>dining_table</td>\n",
       "      <td>[Channel Marker, Dolphin, Dune, Morning Fog, S...</td>\n",
       "      <td>How can you help but think of the sea when gaz...</td>\n",
       "      <td>[\\nFeatures\\n\\nCoastal Living Resort collectio...</td>\n",
       "      <td>[https://secure.img2.wfrcdn.com/lf/49/hash/117...</td>\n",
       "      <td>{u'Morning Fog': [u'https://secure.img2.wfrcdn...</td>\n",
       "      <td>Stanley</td>\n",
       "      <td>$1,814.00</td>\n",
       "      <td>STA6209</td>\n",
       "      <td>None</td>\n",
       "      <td>None</td>\n",
       "      <td>\\nWeights &amp; Dimensions\\n\\n\\n\\n            Over...</td>\n",
       "      <td>Coastal Living Resort Seascape Table</td>\n",
       "      <td>http://www.wayfair.com/Coastal-Living-Resort-S...</td>\n",
       "      <td>wayfair</td>\n",
       "    </tr>\n",
       "  </tbody>\n",
       "</table>\n",
       "</div>"
      ],
      "text/plain": [
       "          category                                             colors  \\\n",
       "1003  dining_table                                                 []   \n",
       "1004  dining_table                                                 []   \n",
       "1005  dining_table                                                 []   \n",
       "1006  dining_table                 [Polished Nickel, Metallic Bronze]   \n",
       "1007  dining_table  [Channel Marker, Dolphin, Dune, Morning Fog, S...   \n",
       "\n",
       "                                            description  \\\n",
       "1003                                               None   \n",
       "1004                                               None   \n",
       "1005  The Marseille collection provides a perfect so...   \n",
       "1006  In the midst of the modern design movement in ...   \n",
       "1007  How can you help but think of the sea when gaz...   \n",
       "\n",
       "                                               features  \\\n",
       "1003                                                 []   \n",
       "1004                                                 []   \n",
       "1005  [\\nFeatures\\n\\nMarseille collection\\nMerlot ch...   \n",
       "1006  [\\nFeatures\\n\\nPlatner collection\\nFrame made ...   \n",
       "1007  [\\nFeatures\\n\\nCoastal Living Resort collectio...   \n",
       "\n",
       "                                        image_links_all  \\\n",
       "1003  [https://secure.img2.wfrcdn.com/lf/49/hash/588...   \n",
       "1004  [https://secure.img1.wfrcdn.com/lf/49/hash/408...   \n",
       "1005  [https://secure.img2.wfrcdn.com/lf/49/hash/921...   \n",
       "1006  [https://secure.img2.wfrcdn.com/lf/49/hash/151...   \n",
       "1007  [https://secure.img2.wfrcdn.com/lf/49/hash/117...   \n",
       "\n",
       "                                   image_links_by_color  \\\n",
       "1003                                                 {}   \n",
       "1004                                                 {}   \n",
       "1005                                                 {}   \n",
       "1006  {u'Polished Nickel': [u'https://secure.img1.wf...   \n",
       "1007  {u'Morning Fog': [u'https://secure.img2.wfrcdn...   \n",
       "\n",
       "                manufacturer      price product_id rating_avg rating_count  \\\n",
       "1003            Diamond Sofa    $719.10    DSF1566       None         None   \n",
       "1004               Eurostyle    $598.85     EY2491        5.0            1   \n",
       "1005  Steve Silver Furniture    $539.99    SVV2754       None         None   \n",
       "1006                 Knoll ®  $3,036.20    KLL2052       None         None   \n",
       "1007                 Stanley  $1,814.00    STA6209       None         None   \n",
       "\n",
       "                                                  specs  \\\n",
       "1003                                               None   \n",
       "1004                                               None   \n",
       "1005  \\nWeights & Dimensions\\nLeaf\\n\\n\\n            ...   \n",
       "1006  \\nWeights & Dimensions\\n\\n\\n\\n            Over...   \n",
       "1007  \\nWeights & Dimensions\\n\\n\\n\\n            Over...   \n",
       "\n",
       "                                     title  \\\n",
       "1003        Studio Extendable Dining Table   \n",
       "1004                     Beth Dining Table   \n",
       "1005     Marseille Extendable Dining Table   \n",
       "1006                  Platner Dining Table   \n",
       "1007  Coastal Living Resort Seascape Table   \n",
       "\n",
       "                                                    url  website  \n",
       "1003  http://www.wayfair.com/Diamond-Sofa-Studio-Din...  wayfair  \n",
       "1004  http://www.wayfair.com/Eurostyle-Beth-Dining-T...  wayfair  \n",
       "1005  http://www.wayfair.com/Steve-Silver-Furniture-...  wayfair  \n",
       "1006  http://www.wayfair.com/Knoll-%25C2%25AE-Platne...  wayfair  \n",
       "1007  http://www.wayfair.com/Coastal-Living-Resort-S...  wayfair  "
      ]
     },
     "execution_count": 523,
     "metadata": {},
     "output_type": "execute_result"
    }
   ],
   "source": [
    "dining_table_df.tail()"
   ]
  },
  {
   "cell_type": "code",
   "execution_count": 529,
   "metadata": {
    "collapsed": false
   },
   "outputs": [
    {
     "data": {
      "text/plain": [
       "(223, 15)"
      ]
     },
     "execution_count": 529,
     "metadata": {},
     "output_type": "execute_result"
    }
   ],
   "source": [
    "dining_table_df[dining_table_df['features'].apply(lambda x:len(x) == 0)].shape"
   ]
  },
  {
   "cell_type": "markdown",
   "metadata": {},
   "source": [
    "### 223 out of 1008 dining tables has no features (& description & specs) -> wrong link\n",
    "### Correct the link or scrape more?"
   ]
  },
  {
   "cell_type": "markdown",
   "metadata": {},
   "source": [
    "# Dining chairs"
   ]
  },
  {
   "cell_type": "code",
   "execution_count": 530,
   "metadata": {
    "collapsed": false
   },
   "outputs": [
    {
     "data": {
      "text/plain": [
       "'Mon Sep 21 18:11:59 2015'"
      ]
     },
     "execution_count": 530,
     "metadata": {},
     "output_type": "execute_result"
    }
   ],
   "source": [
    "time.ctime(time.time())"
   ]
  },
  {
   "cell_type": "code",
   "execution_count": 531,
   "metadata": {
    "collapsed": false
   },
   "outputs": [
    {
     "name": "stdout",
     "output_type": "stream",
     "text": [
      "1008\n",
      "       category colors                                        description  \\\n",
      "0  dining_chair     []  With traditional styling, these stately dining...   \n",
      "\n",
      "                                            features  \\\n",
      "0  [\\nFeatures\\n\\nHardwood solids and cherry vene...   \n",
      "\n",
      "                                     image_links_all image_links_by_color  \\\n",
      "0  [https://secure.img2.wfrcdn.com/lf/49/hash/250...                   {}   \n",
      "\n",
      "  manufacturer    price product_id rating_avg rating_count  \\\n",
      "0   Birch Lane  $599.00     BL3709        5.0            1   \n",
      "\n",
      "                                               specs                 title  \\\n",
      "0  \\nWeights & Dimensions\\n\\n\\n\\n            Over...  Carlisle Side Chairs   \n",
      "\n",
      "                                                 url  website  \n",
      "0  http://www.wayfair.com/Birch-Lane-Carlisle-Din...  wayfair  \n",
      "20\n",
      "40\n",
      "60\n",
      "80\n",
      "100\n",
      "120\n",
      "140\n",
      "160\n",
      "180\n",
      "200\n",
      "220\n",
      "240\n",
      "260\n",
      "280\n",
      "300\n",
      "320\n",
      "340\n",
      "360\n",
      "380\n",
      "400\n",
      "420\n",
      "440\n",
      "460\n"
     ]
    },
    {
     "ename": "error",
     "evalue": "[Errno 60] Operation timed out",
     "output_type": "error",
     "traceback": [
      "\u001b[0;31m---------------------------------------------------------------------------\u001b[0m",
      "\u001b[0;31merror\u001b[0m                                     Traceback (most recent call last)",
      "\u001b[0;32m<ipython-input-531-702fbedac8f6>\u001b[0m in \u001b[0;36m<module>\u001b[0;34m()\u001b[0m\n\u001b[1;32m      7\u001b[0m \u001b[0mi\u001b[0m \u001b[0;34m=\u001b[0m \u001b[0;36m1\u001b[0m\u001b[0;34m\u001b[0m\u001b[0m\n\u001b[1;32m      8\u001b[0m \u001b[0;32mfor\u001b[0m \u001b[0mlink\u001b[0m \u001b[0;32min\u001b[0m \u001b[0mdining_chair_links\u001b[0m\u001b[0;34m[\u001b[0m\u001b[0;36m1\u001b[0m\u001b[0;34m:\u001b[0m\u001b[0;34m]\u001b[0m\u001b[0;34m:\u001b[0m\u001b[0;34m\u001b[0m\u001b[0m\n\u001b[0;32m----> 9\u001b[0;31m     \u001b[0mproduct_dict\u001b[0m \u001b[0;34m=\u001b[0m \u001b[0mwayfair_product_info_scrapper\u001b[0m\u001b[0;34m(\u001b[0m\u001b[0mlink\u001b[0m\u001b[0;34m,\u001b[0m \u001b[0mcategory_input\u001b[0m\u001b[0;34m=\u001b[0m\u001b[0;34m'dining_chair'\u001b[0m\u001b[0;34m)\u001b[0m\u001b[0;34m\u001b[0m\u001b[0m\n\u001b[0m\u001b[1;32m     10\u001b[0m     \u001b[0mdf_product\u001b[0m \u001b[0;34m=\u001b[0m \u001b[0mpd\u001b[0m\u001b[0;34m.\u001b[0m\u001b[0mDataFrame\u001b[0m\u001b[0;34m(\u001b[0m\u001b[0;34m[\u001b[0m\u001b[0mproduct_dict\u001b[0m\u001b[0;34m]\u001b[0m\u001b[0;34m,\u001b[0m \u001b[0mindex\u001b[0m\u001b[0;34m=\u001b[0m\u001b[0;34m[\u001b[0m\u001b[0mi\u001b[0m\u001b[0;34m]\u001b[0m\u001b[0;34m)\u001b[0m\u001b[0;34m\u001b[0m\u001b[0m\n\u001b[1;32m     11\u001b[0m     \u001b[0mdining_chair_df\u001b[0m \u001b[0;34m=\u001b[0m \u001b[0mpd\u001b[0m\u001b[0;34m.\u001b[0m\u001b[0mconcat\u001b[0m\u001b[0;34m(\u001b[0m\u001b[0;34m[\u001b[0m\u001b[0mdining_chair_df\u001b[0m\u001b[0;34m,\u001b[0m \u001b[0mdf_product\u001b[0m\u001b[0;34m]\u001b[0m\u001b[0;34m,\u001b[0m \u001b[0maxis\u001b[0m\u001b[0;34m=\u001b[0m\u001b[0;36m0\u001b[0m\u001b[0;34m)\u001b[0m\u001b[0;34m\u001b[0m\u001b[0m\n",
      "\u001b[0;32m<ipython-input-488-95e4aa27a703>\u001b[0m in \u001b[0;36mwayfair_product_info_scrapper\u001b[0;34m(link, category_input)\u001b[0m\n\u001b[1;32m     28\u001b[0m     '''\n\u001b[1;32m     29\u001b[0m \u001b[0;34m\u001b[0m\u001b[0m\n\u001b[0;32m---> 30\u001b[0;31m     \u001b[0mhtml\u001b[0m  \u001b[0;34m=\u001b[0m \u001b[0murlopen\u001b[0m\u001b[0;34m(\u001b[0m\u001b[0mlink\u001b[0m\u001b[0;34m,\u001b[0m \u001b[0mtimeout\u001b[0m\u001b[0;34m=\u001b[0m\u001b[0;36m100\u001b[0m\u001b[0;34m)\u001b[0m\u001b[0;34m\u001b[0m\u001b[0m\n\u001b[0m\u001b[1;32m     31\u001b[0m \u001b[0;34m\u001b[0m\u001b[0m\n\u001b[1;32m     32\u001b[0m \u001b[0;31m#     import requests\u001b[0m\u001b[0;34m\u001b[0m\u001b[0;34m\u001b[0m\u001b[0m\n",
      "\u001b[0;32m//anaconda/lib/python2.7/urllib2.pyc\u001b[0m in \u001b[0;36murlopen\u001b[0;34m(url, data, timeout, cafile, capath, cadefault, context)\u001b[0m\n\u001b[1;32m    152\u001b[0m     \u001b[0;32melse\u001b[0m\u001b[0;34m:\u001b[0m\u001b[0;34m\u001b[0m\u001b[0m\n\u001b[1;32m    153\u001b[0m         \u001b[0mopener\u001b[0m \u001b[0;34m=\u001b[0m \u001b[0m_opener\u001b[0m\u001b[0;34m\u001b[0m\u001b[0m\n\u001b[0;32m--> 154\u001b[0;31m     \u001b[0;32mreturn\u001b[0m \u001b[0mopener\u001b[0m\u001b[0;34m.\u001b[0m\u001b[0mopen\u001b[0m\u001b[0;34m(\u001b[0m\u001b[0murl\u001b[0m\u001b[0;34m,\u001b[0m \u001b[0mdata\u001b[0m\u001b[0;34m,\u001b[0m \u001b[0mtimeout\u001b[0m\u001b[0;34m)\u001b[0m\u001b[0;34m\u001b[0m\u001b[0m\n\u001b[0m\u001b[1;32m    155\u001b[0m \u001b[0;34m\u001b[0m\u001b[0m\n\u001b[1;32m    156\u001b[0m \u001b[0;32mdef\u001b[0m \u001b[0minstall_opener\u001b[0m\u001b[0;34m(\u001b[0m\u001b[0mopener\u001b[0m\u001b[0;34m)\u001b[0m\u001b[0;34m:\u001b[0m\u001b[0;34m\u001b[0m\u001b[0m\n",
      "\u001b[0;32m//anaconda/lib/python2.7/urllib2.pyc\u001b[0m in \u001b[0;36mopen\u001b[0;34m(self, fullurl, data, timeout)\u001b[0m\n\u001b[1;32m    429\u001b[0m             \u001b[0mreq\u001b[0m \u001b[0;34m=\u001b[0m \u001b[0mmeth\u001b[0m\u001b[0;34m(\u001b[0m\u001b[0mreq\u001b[0m\u001b[0;34m)\u001b[0m\u001b[0;34m\u001b[0m\u001b[0m\n\u001b[1;32m    430\u001b[0m \u001b[0;34m\u001b[0m\u001b[0m\n\u001b[0;32m--> 431\u001b[0;31m         \u001b[0mresponse\u001b[0m \u001b[0;34m=\u001b[0m \u001b[0mself\u001b[0m\u001b[0;34m.\u001b[0m\u001b[0m_open\u001b[0m\u001b[0;34m(\u001b[0m\u001b[0mreq\u001b[0m\u001b[0;34m,\u001b[0m \u001b[0mdata\u001b[0m\u001b[0;34m)\u001b[0m\u001b[0;34m\u001b[0m\u001b[0m\n\u001b[0m\u001b[1;32m    432\u001b[0m \u001b[0;34m\u001b[0m\u001b[0m\n\u001b[1;32m    433\u001b[0m         \u001b[0;31m# post-process response\u001b[0m\u001b[0;34m\u001b[0m\u001b[0;34m\u001b[0m\u001b[0m\n",
      "\u001b[0;32m//anaconda/lib/python2.7/urllib2.pyc\u001b[0m in \u001b[0;36m_open\u001b[0;34m(self, req, data)\u001b[0m\n\u001b[1;32m    447\u001b[0m         \u001b[0mprotocol\u001b[0m \u001b[0;34m=\u001b[0m \u001b[0mreq\u001b[0m\u001b[0;34m.\u001b[0m\u001b[0mget_type\u001b[0m\u001b[0;34m(\u001b[0m\u001b[0;34m)\u001b[0m\u001b[0;34m\u001b[0m\u001b[0m\n\u001b[1;32m    448\u001b[0m         result = self._call_chain(self.handle_open, protocol, protocol +\n\u001b[0;32m--> 449\u001b[0;31m                                   '_open', req)\n\u001b[0m\u001b[1;32m    450\u001b[0m         \u001b[0;32mif\u001b[0m \u001b[0mresult\u001b[0m\u001b[0;34m:\u001b[0m\u001b[0;34m\u001b[0m\u001b[0m\n\u001b[1;32m    451\u001b[0m             \u001b[0;32mreturn\u001b[0m \u001b[0mresult\u001b[0m\u001b[0;34m\u001b[0m\u001b[0m\n",
      "\u001b[0;32m//anaconda/lib/python2.7/urllib2.pyc\u001b[0m in \u001b[0;36m_call_chain\u001b[0;34m(self, chain, kind, meth_name, *args)\u001b[0m\n\u001b[1;32m    407\u001b[0m             \u001b[0mfunc\u001b[0m \u001b[0;34m=\u001b[0m \u001b[0mgetattr\u001b[0m\u001b[0;34m(\u001b[0m\u001b[0mhandler\u001b[0m\u001b[0;34m,\u001b[0m \u001b[0mmeth_name\u001b[0m\u001b[0;34m)\u001b[0m\u001b[0;34m\u001b[0m\u001b[0m\n\u001b[1;32m    408\u001b[0m \u001b[0;34m\u001b[0m\u001b[0m\n\u001b[0;32m--> 409\u001b[0;31m             \u001b[0mresult\u001b[0m \u001b[0;34m=\u001b[0m \u001b[0mfunc\u001b[0m\u001b[0;34m(\u001b[0m\u001b[0;34m*\u001b[0m\u001b[0margs\u001b[0m\u001b[0;34m)\u001b[0m\u001b[0;34m\u001b[0m\u001b[0m\n\u001b[0m\u001b[1;32m    410\u001b[0m             \u001b[0;32mif\u001b[0m \u001b[0mresult\u001b[0m \u001b[0;32mis\u001b[0m \u001b[0;32mnot\u001b[0m \u001b[0mNone\u001b[0m\u001b[0;34m:\u001b[0m\u001b[0;34m\u001b[0m\u001b[0m\n\u001b[1;32m    411\u001b[0m                 \u001b[0;32mreturn\u001b[0m \u001b[0mresult\u001b[0m\u001b[0;34m\u001b[0m\u001b[0m\n",
      "\u001b[0;32m//anaconda/lib/python2.7/urllib2.pyc\u001b[0m in \u001b[0;36mhttp_open\u001b[0;34m(self, req)\u001b[0m\n\u001b[1;32m   1225\u001b[0m \u001b[0;34m\u001b[0m\u001b[0m\n\u001b[1;32m   1226\u001b[0m     \u001b[0;32mdef\u001b[0m \u001b[0mhttp_open\u001b[0m\u001b[0;34m(\u001b[0m\u001b[0mself\u001b[0m\u001b[0;34m,\u001b[0m \u001b[0mreq\u001b[0m\u001b[0;34m)\u001b[0m\u001b[0;34m:\u001b[0m\u001b[0;34m\u001b[0m\u001b[0m\n\u001b[0;32m-> 1227\u001b[0;31m         \u001b[0;32mreturn\u001b[0m \u001b[0mself\u001b[0m\u001b[0;34m.\u001b[0m\u001b[0mdo_open\u001b[0m\u001b[0;34m(\u001b[0m\u001b[0mhttplib\u001b[0m\u001b[0;34m.\u001b[0m\u001b[0mHTTPConnection\u001b[0m\u001b[0;34m,\u001b[0m \u001b[0mreq\u001b[0m\u001b[0;34m)\u001b[0m\u001b[0;34m\u001b[0m\u001b[0m\n\u001b[0m\u001b[1;32m   1228\u001b[0m \u001b[0;34m\u001b[0m\u001b[0m\n\u001b[1;32m   1229\u001b[0m     \u001b[0mhttp_request\u001b[0m \u001b[0;34m=\u001b[0m \u001b[0mAbstractHTTPHandler\u001b[0m\u001b[0;34m.\u001b[0m\u001b[0mdo_request_\u001b[0m\u001b[0;34m\u001b[0m\u001b[0m\n",
      "\u001b[0;32m//anaconda/lib/python2.7/urllib2.pyc\u001b[0m in \u001b[0;36mdo_open\u001b[0;34m(self, http_class, req, **http_conn_args)\u001b[0m\n\u001b[1;32m   1198\u001b[0m         \u001b[0;32melse\u001b[0m\u001b[0;34m:\u001b[0m\u001b[0;34m\u001b[0m\u001b[0m\n\u001b[1;32m   1199\u001b[0m             \u001b[0;32mtry\u001b[0m\u001b[0;34m:\u001b[0m\u001b[0;34m\u001b[0m\u001b[0m\n\u001b[0;32m-> 1200\u001b[0;31m                 \u001b[0mr\u001b[0m \u001b[0;34m=\u001b[0m \u001b[0mh\u001b[0m\u001b[0;34m.\u001b[0m\u001b[0mgetresponse\u001b[0m\u001b[0;34m(\u001b[0m\u001b[0mbuffering\u001b[0m\u001b[0;34m=\u001b[0m\u001b[0mTrue\u001b[0m\u001b[0;34m)\u001b[0m\u001b[0;34m\u001b[0m\u001b[0m\n\u001b[0m\u001b[1;32m   1201\u001b[0m             \u001b[0;32mexcept\u001b[0m \u001b[0mTypeError\u001b[0m\u001b[0;34m:\u001b[0m \u001b[0;31m# buffering kw not supported\u001b[0m\u001b[0;34m\u001b[0m\u001b[0m\n\u001b[1;32m   1202\u001b[0m                 \u001b[0mr\u001b[0m \u001b[0;34m=\u001b[0m \u001b[0mh\u001b[0m\u001b[0;34m.\u001b[0m\u001b[0mgetresponse\u001b[0m\u001b[0;34m(\u001b[0m\u001b[0;34m)\u001b[0m\u001b[0;34m\u001b[0m\u001b[0m\n",
      "\u001b[0;32m//anaconda/lib/python2.7/httplib.pyc\u001b[0m in \u001b[0;36mgetresponse\u001b[0;34m(self, buffering)\u001b[0m\n\u001b[1;32m   1130\u001b[0m \u001b[0;34m\u001b[0m\u001b[0m\n\u001b[1;32m   1131\u001b[0m         \u001b[0;32mtry\u001b[0m\u001b[0;34m:\u001b[0m\u001b[0;34m\u001b[0m\u001b[0m\n\u001b[0;32m-> 1132\u001b[0;31m             \u001b[0mresponse\u001b[0m\u001b[0;34m.\u001b[0m\u001b[0mbegin\u001b[0m\u001b[0;34m(\u001b[0m\u001b[0;34m)\u001b[0m\u001b[0;34m\u001b[0m\u001b[0m\n\u001b[0m\u001b[1;32m   1133\u001b[0m             \u001b[0;32massert\u001b[0m \u001b[0mresponse\u001b[0m\u001b[0;34m.\u001b[0m\u001b[0mwill_close\u001b[0m \u001b[0;34m!=\u001b[0m \u001b[0m_UNKNOWN\u001b[0m\u001b[0;34m\u001b[0m\u001b[0m\n\u001b[1;32m   1134\u001b[0m             \u001b[0mself\u001b[0m\u001b[0;34m.\u001b[0m\u001b[0m__state\u001b[0m \u001b[0;34m=\u001b[0m \u001b[0m_CS_IDLE\u001b[0m\u001b[0;34m\u001b[0m\u001b[0m\n",
      "\u001b[0;32m//anaconda/lib/python2.7/httplib.pyc\u001b[0m in \u001b[0;36mbegin\u001b[0;34m(self)\u001b[0m\n\u001b[1;32m    451\u001b[0m         \u001b[0;31m# read until we get a non-100 response\u001b[0m\u001b[0;34m\u001b[0m\u001b[0;34m\u001b[0m\u001b[0m\n\u001b[1;32m    452\u001b[0m         \u001b[0;32mwhile\u001b[0m \u001b[0mTrue\u001b[0m\u001b[0;34m:\u001b[0m\u001b[0;34m\u001b[0m\u001b[0m\n\u001b[0;32m--> 453\u001b[0;31m             \u001b[0mversion\u001b[0m\u001b[0;34m,\u001b[0m \u001b[0mstatus\u001b[0m\u001b[0;34m,\u001b[0m \u001b[0mreason\u001b[0m \u001b[0;34m=\u001b[0m \u001b[0mself\u001b[0m\u001b[0;34m.\u001b[0m\u001b[0m_read_status\u001b[0m\u001b[0;34m(\u001b[0m\u001b[0;34m)\u001b[0m\u001b[0;34m\u001b[0m\u001b[0m\n\u001b[0m\u001b[1;32m    454\u001b[0m             \u001b[0;32mif\u001b[0m \u001b[0mstatus\u001b[0m \u001b[0;34m!=\u001b[0m \u001b[0mCONTINUE\u001b[0m\u001b[0;34m:\u001b[0m\u001b[0;34m\u001b[0m\u001b[0m\n\u001b[1;32m    455\u001b[0m                 \u001b[0;32mbreak\u001b[0m\u001b[0;34m\u001b[0m\u001b[0m\n",
      "\u001b[0;32m//anaconda/lib/python2.7/httplib.pyc\u001b[0m in \u001b[0;36m_read_status\u001b[0;34m(self)\u001b[0m\n\u001b[1;32m    407\u001b[0m     \u001b[0;32mdef\u001b[0m \u001b[0m_read_status\u001b[0m\u001b[0;34m(\u001b[0m\u001b[0mself\u001b[0m\u001b[0;34m)\u001b[0m\u001b[0;34m:\u001b[0m\u001b[0;34m\u001b[0m\u001b[0m\n\u001b[1;32m    408\u001b[0m         \u001b[0;31m# Initialize with Simple-Response defaults\u001b[0m\u001b[0;34m\u001b[0m\u001b[0;34m\u001b[0m\u001b[0m\n\u001b[0;32m--> 409\u001b[0;31m         \u001b[0mline\u001b[0m \u001b[0;34m=\u001b[0m \u001b[0mself\u001b[0m\u001b[0;34m.\u001b[0m\u001b[0mfp\u001b[0m\u001b[0;34m.\u001b[0m\u001b[0mreadline\u001b[0m\u001b[0;34m(\u001b[0m\u001b[0m_MAXLINE\u001b[0m \u001b[0;34m+\u001b[0m \u001b[0;36m1\u001b[0m\u001b[0;34m)\u001b[0m\u001b[0;34m\u001b[0m\u001b[0m\n\u001b[0m\u001b[1;32m    410\u001b[0m         \u001b[0;32mif\u001b[0m \u001b[0mlen\u001b[0m\u001b[0;34m(\u001b[0m\u001b[0mline\u001b[0m\u001b[0;34m)\u001b[0m \u001b[0;34m>\u001b[0m \u001b[0m_MAXLINE\u001b[0m\u001b[0;34m:\u001b[0m\u001b[0;34m\u001b[0m\u001b[0m\n\u001b[1;32m    411\u001b[0m             \u001b[0;32mraise\u001b[0m \u001b[0mLineTooLong\u001b[0m\u001b[0;34m(\u001b[0m\u001b[0;34m\"header line\"\u001b[0m\u001b[0;34m)\u001b[0m\u001b[0;34m\u001b[0m\u001b[0m\n",
      "\u001b[0;32m//anaconda/lib/python2.7/socket.pyc\u001b[0m in \u001b[0;36mreadline\u001b[0;34m(self, size)\u001b[0m\n\u001b[1;32m    478\u001b[0m             \u001b[0;32mwhile\u001b[0m \u001b[0mTrue\u001b[0m\u001b[0;34m:\u001b[0m\u001b[0;34m\u001b[0m\u001b[0m\n\u001b[1;32m    479\u001b[0m                 \u001b[0;32mtry\u001b[0m\u001b[0;34m:\u001b[0m\u001b[0;34m\u001b[0m\u001b[0m\n\u001b[0;32m--> 480\u001b[0;31m                     \u001b[0mdata\u001b[0m \u001b[0;34m=\u001b[0m \u001b[0mself\u001b[0m\u001b[0;34m.\u001b[0m\u001b[0m_sock\u001b[0m\u001b[0;34m.\u001b[0m\u001b[0mrecv\u001b[0m\u001b[0;34m(\u001b[0m\u001b[0mself\u001b[0m\u001b[0;34m.\u001b[0m\u001b[0m_rbufsize\u001b[0m\u001b[0;34m)\u001b[0m\u001b[0;34m\u001b[0m\u001b[0m\n\u001b[0m\u001b[1;32m    481\u001b[0m                 \u001b[0;32mexcept\u001b[0m \u001b[0merror\u001b[0m\u001b[0;34m,\u001b[0m \u001b[0me\u001b[0m\u001b[0;34m:\u001b[0m\u001b[0;34m\u001b[0m\u001b[0m\n\u001b[1;32m    482\u001b[0m                     \u001b[0;32mif\u001b[0m \u001b[0me\u001b[0m\u001b[0;34m.\u001b[0m\u001b[0margs\u001b[0m\u001b[0;34m[\u001b[0m\u001b[0;36m0\u001b[0m\u001b[0;34m]\u001b[0m \u001b[0;34m==\u001b[0m \u001b[0mEINTR\u001b[0m\u001b[0;34m:\u001b[0m\u001b[0;34m\u001b[0m\u001b[0m\n",
      "\u001b[0;31merror\u001b[0m: [Errno 60] Operation timed out"
     ]
    }
   ],
   "source": [
    "dining_chair_links = get_wayfair_product_links(dining_chair_index, num_pages=21)\n",
    "print len(dining_chair_links)\n",
    "link_0 = dining_chair_links[0]\n",
    "dict_0 = wayfair_product_info_scrapper(link_0, category_input= 'dining_chair')\n",
    "dining_chair_df = pd.DataFrame([dict_0], index=[0])\n",
    "print dining_chair_df\n",
    "i = 1\n",
    "for link in dining_chair_links[1:]:\n",
    "    product_dict = wayfair_product_info_scrapper(link, category_input='dining_chair')\n",
    "    df_product = pd.DataFrame([product_dict], index=[i])\n",
    "    dining_chair_df = pd.concat([dining_chair_df, df_product], axis=0)\n",
    "    i += 1\n",
    "    if i % 20 == 0:\n",
    "        print i"
   ]
  },
  {
   "cell_type": "code",
   "execution_count": 532,
   "metadata": {
    "collapsed": false
   },
   "outputs": [
    {
     "name": "stdout",
     "output_type": "stream",
     "text": [
      "<class 'pandas.core.frame.DataFrame'>\n",
      "Int64Index: 461 entries, 0 to 460\n",
      "Data columns (total 15 columns):\n",
      "category                461 non-null object\n",
      "colors                  461 non-null object\n",
      "description             381 non-null object\n",
      "features                461 non-null object\n",
      "image_links_all         461 non-null object\n",
      "image_links_by_color    461 non-null object\n",
      "manufacturer            461 non-null object\n",
      "price                   461 non-null object\n",
      "product_id              461 non-null object\n",
      "rating_avg              440 non-null object\n",
      "rating_count            440 non-null object\n",
      "specs                   461 non-null object\n",
      "title                   461 non-null object\n",
      "url                     461 non-null object\n",
      "website                 461 non-null object\n",
      "dtypes: object(15)\n",
      "memory usage: 57.6+ KB\n"
     ]
    }
   ],
   "source": [
    "dining_chair_df.info()"
   ]
  },
  {
   "cell_type": "code",
   "execution_count": 535,
   "metadata": {
    "collapsed": false
   },
   "outputs": [
    {
     "ename": "error",
     "evalue": "[Errno 60] Operation timed out",
     "output_type": "error",
     "traceback": [
      "\u001b[0;31m---------------------------------------------------------------------------\u001b[0m",
      "\u001b[0;31merror\u001b[0m                                     Traceback (most recent call last)",
      "\u001b[0;32m<ipython-input-535-12834235fd1a>\u001b[0m in \u001b[0;36m<module>\u001b[0;34m()\u001b[0m\n\u001b[1;32m      1\u001b[0m \u001b[0mi\u001b[0m \u001b[0;34m=\u001b[0m \u001b[0;36m461\u001b[0m\u001b[0;34m\u001b[0m\u001b[0m\n\u001b[1;32m      2\u001b[0m \u001b[0;32mfor\u001b[0m \u001b[0mlink\u001b[0m \u001b[0;32min\u001b[0m \u001b[0mdining_chair_links\u001b[0m\u001b[0;34m[\u001b[0m\u001b[0;36m461\u001b[0m\u001b[0;34m:\u001b[0m\u001b[0;34m]\u001b[0m\u001b[0;34m:\u001b[0m\u001b[0;34m\u001b[0m\u001b[0m\n\u001b[0;32m----> 3\u001b[0;31m     \u001b[0mproduct_dict\u001b[0m \u001b[0;34m=\u001b[0m \u001b[0mwayfair_product_info_scrapper\u001b[0m\u001b[0;34m(\u001b[0m\u001b[0mlink\u001b[0m\u001b[0;34m,\u001b[0m \u001b[0mcategory_input\u001b[0m\u001b[0;34m=\u001b[0m\u001b[0;34m'dining_chair'\u001b[0m\u001b[0;34m)\u001b[0m\u001b[0;34m\u001b[0m\u001b[0m\n\u001b[0m\u001b[1;32m      4\u001b[0m     \u001b[0mdf_product\u001b[0m \u001b[0;34m=\u001b[0m \u001b[0mpd\u001b[0m\u001b[0;34m.\u001b[0m\u001b[0mDataFrame\u001b[0m\u001b[0;34m(\u001b[0m\u001b[0;34m[\u001b[0m\u001b[0mproduct_dict\u001b[0m\u001b[0;34m]\u001b[0m\u001b[0;34m,\u001b[0m \u001b[0mindex\u001b[0m\u001b[0;34m=\u001b[0m\u001b[0;34m[\u001b[0m\u001b[0mi\u001b[0m\u001b[0;34m]\u001b[0m\u001b[0;34m)\u001b[0m\u001b[0;34m\u001b[0m\u001b[0m\n\u001b[1;32m      5\u001b[0m     \u001b[0mdining_chair_df\u001b[0m \u001b[0;34m=\u001b[0m \u001b[0mpd\u001b[0m\u001b[0;34m.\u001b[0m\u001b[0mconcat\u001b[0m\u001b[0;34m(\u001b[0m\u001b[0;34m[\u001b[0m\u001b[0mdining_chair_df\u001b[0m\u001b[0;34m,\u001b[0m \u001b[0mdf_product\u001b[0m\u001b[0;34m]\u001b[0m\u001b[0;34m,\u001b[0m \u001b[0maxis\u001b[0m\u001b[0;34m=\u001b[0m\u001b[0;36m0\u001b[0m\u001b[0;34m)\u001b[0m\u001b[0;34m\u001b[0m\u001b[0m\n",
      "\u001b[0;32m<ipython-input-488-95e4aa27a703>\u001b[0m in \u001b[0;36mwayfair_product_info_scrapper\u001b[0;34m(link, category_input)\u001b[0m\n\u001b[1;32m     81\u001b[0m             \u001b[0mcolor_key\u001b[0m \u001b[0;34m=\u001b[0m \u001b[0mcolors\u001b[0m\u001b[0;34m[\u001b[0m\u001b[0mi\u001b[0m\u001b[0;34m]\u001b[0m\u001b[0;34m\u001b[0m\u001b[0m\n\u001b[1;32m     82\u001b[0m             \u001b[0mlink_color\u001b[0m \u001b[0;34m=\u001b[0m \u001b[0mlink\u001b[0m \u001b[0;34m+\u001b[0m \u001b[0mcolor_link\u001b[0m\u001b[0;34m\u001b[0m\u001b[0m\n\u001b[0;32m---> 83\u001b[0;31m             \u001b[0mhtml_color\u001b[0m  \u001b[0;34m=\u001b[0m \u001b[0murlopen\u001b[0m\u001b[0;34m(\u001b[0m\u001b[0mlink_color\u001b[0m\u001b[0;34m,\u001b[0m \u001b[0mtimeout\u001b[0m\u001b[0;34m=\u001b[0m\u001b[0;36m100\u001b[0m\u001b[0;34m)\u001b[0m\u001b[0;34m\u001b[0m\u001b[0m\n\u001b[0m\u001b[1;32m     84\u001b[0m             \u001b[0msoup_color\u001b[0m \u001b[0;34m=\u001b[0m \u001b[0mBeautifulSoup\u001b[0m\u001b[0;34m(\u001b[0m\u001b[0mhtml_color\u001b[0m\u001b[0;34m,\u001b[0m \u001b[0;34m'html.parser'\u001b[0m\u001b[0;34m)\u001b[0m\u001b[0;34m\u001b[0m\u001b[0m\n\u001b[1;32m     85\u001b[0m             \u001b[0mimage_info_color\u001b[0m \u001b[0;34m=\u001b[0m \u001b[0msoup_color\u001b[0m\u001b[0;34m.\u001b[0m\u001b[0mfindAll\u001b[0m\u001b[0;34m(\u001b[0m\u001b[0;34m'a'\u001b[0m\u001b[0;34m,\u001b[0m \u001b[0;34m{\u001b[0m\u001b[0;34m'class'\u001b[0m\u001b[0;34m:\u001b[0m \u001b[0;34m'photoswipe_link'\u001b[0m\u001b[0;34m}\u001b[0m\u001b[0;34m)\u001b[0m\u001b[0;34m\u001b[0m\u001b[0m\n",
      "\u001b[0;32m//anaconda/lib/python2.7/urllib2.pyc\u001b[0m in \u001b[0;36murlopen\u001b[0;34m(url, data, timeout, cafile, capath, cadefault, context)\u001b[0m\n\u001b[1;32m    152\u001b[0m     \u001b[0;32melse\u001b[0m\u001b[0;34m:\u001b[0m\u001b[0;34m\u001b[0m\u001b[0m\n\u001b[1;32m    153\u001b[0m         \u001b[0mopener\u001b[0m \u001b[0;34m=\u001b[0m \u001b[0m_opener\u001b[0m\u001b[0;34m\u001b[0m\u001b[0m\n\u001b[0;32m--> 154\u001b[0;31m     \u001b[0;32mreturn\u001b[0m \u001b[0mopener\u001b[0m\u001b[0;34m.\u001b[0m\u001b[0mopen\u001b[0m\u001b[0;34m(\u001b[0m\u001b[0murl\u001b[0m\u001b[0;34m,\u001b[0m \u001b[0mdata\u001b[0m\u001b[0;34m,\u001b[0m \u001b[0mtimeout\u001b[0m\u001b[0;34m)\u001b[0m\u001b[0;34m\u001b[0m\u001b[0m\n\u001b[0m\u001b[1;32m    155\u001b[0m \u001b[0;34m\u001b[0m\u001b[0m\n\u001b[1;32m    156\u001b[0m \u001b[0;32mdef\u001b[0m \u001b[0minstall_opener\u001b[0m\u001b[0;34m(\u001b[0m\u001b[0mopener\u001b[0m\u001b[0;34m)\u001b[0m\u001b[0;34m:\u001b[0m\u001b[0;34m\u001b[0m\u001b[0m\n",
      "\u001b[0;32m//anaconda/lib/python2.7/urllib2.pyc\u001b[0m in \u001b[0;36mopen\u001b[0;34m(self, fullurl, data, timeout)\u001b[0m\n\u001b[1;32m    429\u001b[0m             \u001b[0mreq\u001b[0m \u001b[0;34m=\u001b[0m \u001b[0mmeth\u001b[0m\u001b[0;34m(\u001b[0m\u001b[0mreq\u001b[0m\u001b[0;34m)\u001b[0m\u001b[0;34m\u001b[0m\u001b[0m\n\u001b[1;32m    430\u001b[0m \u001b[0;34m\u001b[0m\u001b[0m\n\u001b[0;32m--> 431\u001b[0;31m         \u001b[0mresponse\u001b[0m \u001b[0;34m=\u001b[0m \u001b[0mself\u001b[0m\u001b[0;34m.\u001b[0m\u001b[0m_open\u001b[0m\u001b[0;34m(\u001b[0m\u001b[0mreq\u001b[0m\u001b[0;34m,\u001b[0m \u001b[0mdata\u001b[0m\u001b[0;34m)\u001b[0m\u001b[0;34m\u001b[0m\u001b[0m\n\u001b[0m\u001b[1;32m    432\u001b[0m \u001b[0;34m\u001b[0m\u001b[0m\n\u001b[1;32m    433\u001b[0m         \u001b[0;31m# post-process response\u001b[0m\u001b[0;34m\u001b[0m\u001b[0;34m\u001b[0m\u001b[0m\n",
      "\u001b[0;32m//anaconda/lib/python2.7/urllib2.pyc\u001b[0m in \u001b[0;36m_open\u001b[0;34m(self, req, data)\u001b[0m\n\u001b[1;32m    447\u001b[0m         \u001b[0mprotocol\u001b[0m \u001b[0;34m=\u001b[0m \u001b[0mreq\u001b[0m\u001b[0;34m.\u001b[0m\u001b[0mget_type\u001b[0m\u001b[0;34m(\u001b[0m\u001b[0;34m)\u001b[0m\u001b[0;34m\u001b[0m\u001b[0m\n\u001b[1;32m    448\u001b[0m         result = self._call_chain(self.handle_open, protocol, protocol +\n\u001b[0;32m--> 449\u001b[0;31m                                   '_open', req)\n\u001b[0m\u001b[1;32m    450\u001b[0m         \u001b[0;32mif\u001b[0m \u001b[0mresult\u001b[0m\u001b[0;34m:\u001b[0m\u001b[0;34m\u001b[0m\u001b[0m\n\u001b[1;32m    451\u001b[0m             \u001b[0;32mreturn\u001b[0m \u001b[0mresult\u001b[0m\u001b[0;34m\u001b[0m\u001b[0m\n",
      "\u001b[0;32m//anaconda/lib/python2.7/urllib2.pyc\u001b[0m in \u001b[0;36m_call_chain\u001b[0;34m(self, chain, kind, meth_name, *args)\u001b[0m\n\u001b[1;32m    407\u001b[0m             \u001b[0mfunc\u001b[0m \u001b[0;34m=\u001b[0m \u001b[0mgetattr\u001b[0m\u001b[0;34m(\u001b[0m\u001b[0mhandler\u001b[0m\u001b[0;34m,\u001b[0m \u001b[0mmeth_name\u001b[0m\u001b[0;34m)\u001b[0m\u001b[0;34m\u001b[0m\u001b[0m\n\u001b[1;32m    408\u001b[0m \u001b[0;34m\u001b[0m\u001b[0m\n\u001b[0;32m--> 409\u001b[0;31m             \u001b[0mresult\u001b[0m \u001b[0;34m=\u001b[0m \u001b[0mfunc\u001b[0m\u001b[0;34m(\u001b[0m\u001b[0;34m*\u001b[0m\u001b[0margs\u001b[0m\u001b[0;34m)\u001b[0m\u001b[0;34m\u001b[0m\u001b[0m\n\u001b[0m\u001b[1;32m    410\u001b[0m             \u001b[0;32mif\u001b[0m \u001b[0mresult\u001b[0m \u001b[0;32mis\u001b[0m \u001b[0;32mnot\u001b[0m \u001b[0mNone\u001b[0m\u001b[0;34m:\u001b[0m\u001b[0;34m\u001b[0m\u001b[0m\n\u001b[1;32m    411\u001b[0m                 \u001b[0;32mreturn\u001b[0m \u001b[0mresult\u001b[0m\u001b[0;34m\u001b[0m\u001b[0m\n",
      "\u001b[0;32m//anaconda/lib/python2.7/urllib2.pyc\u001b[0m in \u001b[0;36mhttp_open\u001b[0;34m(self, req)\u001b[0m\n\u001b[1;32m   1225\u001b[0m \u001b[0;34m\u001b[0m\u001b[0m\n\u001b[1;32m   1226\u001b[0m     \u001b[0;32mdef\u001b[0m \u001b[0mhttp_open\u001b[0m\u001b[0;34m(\u001b[0m\u001b[0mself\u001b[0m\u001b[0;34m,\u001b[0m \u001b[0mreq\u001b[0m\u001b[0;34m)\u001b[0m\u001b[0;34m:\u001b[0m\u001b[0;34m\u001b[0m\u001b[0m\n\u001b[0;32m-> 1227\u001b[0;31m         \u001b[0;32mreturn\u001b[0m \u001b[0mself\u001b[0m\u001b[0;34m.\u001b[0m\u001b[0mdo_open\u001b[0m\u001b[0;34m(\u001b[0m\u001b[0mhttplib\u001b[0m\u001b[0;34m.\u001b[0m\u001b[0mHTTPConnection\u001b[0m\u001b[0;34m,\u001b[0m \u001b[0mreq\u001b[0m\u001b[0;34m)\u001b[0m\u001b[0;34m\u001b[0m\u001b[0m\n\u001b[0m\u001b[1;32m   1228\u001b[0m \u001b[0;34m\u001b[0m\u001b[0m\n\u001b[1;32m   1229\u001b[0m     \u001b[0mhttp_request\u001b[0m \u001b[0;34m=\u001b[0m \u001b[0mAbstractHTTPHandler\u001b[0m\u001b[0;34m.\u001b[0m\u001b[0mdo_request_\u001b[0m\u001b[0;34m\u001b[0m\u001b[0m\n",
      "\u001b[0;32m//anaconda/lib/python2.7/urllib2.pyc\u001b[0m in \u001b[0;36mdo_open\u001b[0;34m(self, http_class, req, **http_conn_args)\u001b[0m\n\u001b[1;32m   1198\u001b[0m         \u001b[0;32melse\u001b[0m\u001b[0;34m:\u001b[0m\u001b[0;34m\u001b[0m\u001b[0m\n\u001b[1;32m   1199\u001b[0m             \u001b[0;32mtry\u001b[0m\u001b[0;34m:\u001b[0m\u001b[0;34m\u001b[0m\u001b[0m\n\u001b[0;32m-> 1200\u001b[0;31m                 \u001b[0mr\u001b[0m \u001b[0;34m=\u001b[0m \u001b[0mh\u001b[0m\u001b[0;34m.\u001b[0m\u001b[0mgetresponse\u001b[0m\u001b[0;34m(\u001b[0m\u001b[0mbuffering\u001b[0m\u001b[0;34m=\u001b[0m\u001b[0mTrue\u001b[0m\u001b[0;34m)\u001b[0m\u001b[0;34m\u001b[0m\u001b[0m\n\u001b[0m\u001b[1;32m   1201\u001b[0m             \u001b[0;32mexcept\u001b[0m \u001b[0mTypeError\u001b[0m\u001b[0;34m:\u001b[0m \u001b[0;31m# buffering kw not supported\u001b[0m\u001b[0;34m\u001b[0m\u001b[0m\n\u001b[1;32m   1202\u001b[0m                 \u001b[0mr\u001b[0m \u001b[0;34m=\u001b[0m \u001b[0mh\u001b[0m\u001b[0;34m.\u001b[0m\u001b[0mgetresponse\u001b[0m\u001b[0;34m(\u001b[0m\u001b[0;34m)\u001b[0m\u001b[0;34m\u001b[0m\u001b[0m\n",
      "\u001b[0;32m//anaconda/lib/python2.7/httplib.pyc\u001b[0m in \u001b[0;36mgetresponse\u001b[0;34m(self, buffering)\u001b[0m\n\u001b[1;32m   1130\u001b[0m \u001b[0;34m\u001b[0m\u001b[0m\n\u001b[1;32m   1131\u001b[0m         \u001b[0;32mtry\u001b[0m\u001b[0;34m:\u001b[0m\u001b[0;34m\u001b[0m\u001b[0m\n\u001b[0;32m-> 1132\u001b[0;31m             \u001b[0mresponse\u001b[0m\u001b[0;34m.\u001b[0m\u001b[0mbegin\u001b[0m\u001b[0;34m(\u001b[0m\u001b[0;34m)\u001b[0m\u001b[0;34m\u001b[0m\u001b[0m\n\u001b[0m\u001b[1;32m   1133\u001b[0m             \u001b[0;32massert\u001b[0m \u001b[0mresponse\u001b[0m\u001b[0;34m.\u001b[0m\u001b[0mwill_close\u001b[0m \u001b[0;34m!=\u001b[0m \u001b[0m_UNKNOWN\u001b[0m\u001b[0;34m\u001b[0m\u001b[0m\n\u001b[1;32m   1134\u001b[0m             \u001b[0mself\u001b[0m\u001b[0;34m.\u001b[0m\u001b[0m__state\u001b[0m \u001b[0;34m=\u001b[0m \u001b[0m_CS_IDLE\u001b[0m\u001b[0;34m\u001b[0m\u001b[0m\n",
      "\u001b[0;32m//anaconda/lib/python2.7/httplib.pyc\u001b[0m in \u001b[0;36mbegin\u001b[0;34m(self)\u001b[0m\n\u001b[1;32m    451\u001b[0m         \u001b[0;31m# read until we get a non-100 response\u001b[0m\u001b[0;34m\u001b[0m\u001b[0;34m\u001b[0m\u001b[0m\n\u001b[1;32m    452\u001b[0m         \u001b[0;32mwhile\u001b[0m \u001b[0mTrue\u001b[0m\u001b[0;34m:\u001b[0m\u001b[0;34m\u001b[0m\u001b[0m\n\u001b[0;32m--> 453\u001b[0;31m             \u001b[0mversion\u001b[0m\u001b[0;34m,\u001b[0m \u001b[0mstatus\u001b[0m\u001b[0;34m,\u001b[0m \u001b[0mreason\u001b[0m \u001b[0;34m=\u001b[0m \u001b[0mself\u001b[0m\u001b[0;34m.\u001b[0m\u001b[0m_read_status\u001b[0m\u001b[0;34m(\u001b[0m\u001b[0;34m)\u001b[0m\u001b[0;34m\u001b[0m\u001b[0m\n\u001b[0m\u001b[1;32m    454\u001b[0m             \u001b[0;32mif\u001b[0m \u001b[0mstatus\u001b[0m \u001b[0;34m!=\u001b[0m \u001b[0mCONTINUE\u001b[0m\u001b[0;34m:\u001b[0m\u001b[0;34m\u001b[0m\u001b[0m\n\u001b[1;32m    455\u001b[0m                 \u001b[0;32mbreak\u001b[0m\u001b[0;34m\u001b[0m\u001b[0m\n",
      "\u001b[0;32m//anaconda/lib/python2.7/httplib.pyc\u001b[0m in \u001b[0;36m_read_status\u001b[0;34m(self)\u001b[0m\n\u001b[1;32m    407\u001b[0m     \u001b[0;32mdef\u001b[0m \u001b[0m_read_status\u001b[0m\u001b[0;34m(\u001b[0m\u001b[0mself\u001b[0m\u001b[0;34m)\u001b[0m\u001b[0;34m:\u001b[0m\u001b[0;34m\u001b[0m\u001b[0m\n\u001b[1;32m    408\u001b[0m         \u001b[0;31m# Initialize with Simple-Response defaults\u001b[0m\u001b[0;34m\u001b[0m\u001b[0;34m\u001b[0m\u001b[0m\n\u001b[0;32m--> 409\u001b[0;31m         \u001b[0mline\u001b[0m \u001b[0;34m=\u001b[0m \u001b[0mself\u001b[0m\u001b[0;34m.\u001b[0m\u001b[0mfp\u001b[0m\u001b[0;34m.\u001b[0m\u001b[0mreadline\u001b[0m\u001b[0;34m(\u001b[0m\u001b[0m_MAXLINE\u001b[0m \u001b[0;34m+\u001b[0m \u001b[0;36m1\u001b[0m\u001b[0;34m)\u001b[0m\u001b[0;34m\u001b[0m\u001b[0m\n\u001b[0m\u001b[1;32m    410\u001b[0m         \u001b[0;32mif\u001b[0m \u001b[0mlen\u001b[0m\u001b[0;34m(\u001b[0m\u001b[0mline\u001b[0m\u001b[0;34m)\u001b[0m \u001b[0;34m>\u001b[0m \u001b[0m_MAXLINE\u001b[0m\u001b[0;34m:\u001b[0m\u001b[0;34m\u001b[0m\u001b[0m\n\u001b[1;32m    411\u001b[0m             \u001b[0;32mraise\u001b[0m \u001b[0mLineTooLong\u001b[0m\u001b[0;34m(\u001b[0m\u001b[0;34m\"header line\"\u001b[0m\u001b[0;34m)\u001b[0m\u001b[0;34m\u001b[0m\u001b[0m\n",
      "\u001b[0;32m//anaconda/lib/python2.7/socket.pyc\u001b[0m in \u001b[0;36mreadline\u001b[0;34m(self, size)\u001b[0m\n\u001b[1;32m    478\u001b[0m             \u001b[0;32mwhile\u001b[0m \u001b[0mTrue\u001b[0m\u001b[0;34m:\u001b[0m\u001b[0;34m\u001b[0m\u001b[0m\n\u001b[1;32m    479\u001b[0m                 \u001b[0;32mtry\u001b[0m\u001b[0;34m:\u001b[0m\u001b[0;34m\u001b[0m\u001b[0m\n\u001b[0;32m--> 480\u001b[0;31m                     \u001b[0mdata\u001b[0m \u001b[0;34m=\u001b[0m \u001b[0mself\u001b[0m\u001b[0;34m.\u001b[0m\u001b[0m_sock\u001b[0m\u001b[0;34m.\u001b[0m\u001b[0mrecv\u001b[0m\u001b[0;34m(\u001b[0m\u001b[0mself\u001b[0m\u001b[0;34m.\u001b[0m\u001b[0m_rbufsize\u001b[0m\u001b[0;34m)\u001b[0m\u001b[0;34m\u001b[0m\u001b[0m\n\u001b[0m\u001b[1;32m    481\u001b[0m                 \u001b[0;32mexcept\u001b[0m \u001b[0merror\u001b[0m\u001b[0;34m,\u001b[0m \u001b[0me\u001b[0m\u001b[0;34m:\u001b[0m\u001b[0;34m\u001b[0m\u001b[0m\n\u001b[1;32m    482\u001b[0m                     \u001b[0;32mif\u001b[0m \u001b[0me\u001b[0m\u001b[0;34m.\u001b[0m\u001b[0margs\u001b[0m\u001b[0;34m[\u001b[0m\u001b[0;36m0\u001b[0m\u001b[0;34m]\u001b[0m \u001b[0;34m==\u001b[0m \u001b[0mEINTR\u001b[0m\u001b[0;34m:\u001b[0m\u001b[0;34m\u001b[0m\u001b[0m\n",
      "\u001b[0;31merror\u001b[0m: [Errno 60] Operation timed out"
     ]
    }
   ],
   "source": [
    "i = 461\n",
    "for link in dining_chair_links[461:]:\n",
    "    product_dict = wayfair_product_info_scrapper(link, category_input='dining_chair')\n",
    "    df_product = pd.DataFrame([product_dict], index=[i])\n",
    "    dining_chair_df = pd.concat([dining_chair_df, df_product], axis=0)\n",
    "    i += 1\n",
    "    if i % 20 == 0:\n",
    "        print i"
   ]
  },
  {
   "cell_type": "code",
   "execution_count": 536,
   "metadata": {
    "collapsed": false
   },
   "outputs": [
    {
     "name": "stdout",
     "output_type": "stream",
     "text": [
      "<class 'pandas.core.frame.DataFrame'>\n",
      "Int64Index: 466 entries, 0 to 465\n",
      "Data columns (total 15 columns):\n",
      "category                466 non-null object\n",
      "colors                  466 non-null object\n",
      "description             385 non-null object\n",
      "features                466 non-null object\n",
      "image_links_all         466 non-null object\n",
      "image_links_by_color    466 non-null object\n",
      "manufacturer            466 non-null object\n",
      "price                   466 non-null object\n",
      "product_id              466 non-null object\n",
      "rating_avg              445 non-null object\n",
      "rating_count            445 non-null object\n",
      "specs                   466 non-null object\n",
      "title                   466 non-null object\n",
      "url                     466 non-null object\n",
      "website                 466 non-null object\n",
      "dtypes: object(15)\n",
      "memory usage: 58.2+ KB\n"
     ]
    }
   ],
   "source": [
    "dining_chair_df.info()"
   ]
  },
  {
   "cell_type": "code",
   "execution_count": 537,
   "metadata": {
    "collapsed": false
   },
   "outputs": [
    {
     "name": "stdout",
     "output_type": "stream",
     "text": [
      "480\n",
      "500\n",
      "520\n",
      "540\n",
      "560\n",
      "580\n",
      "600\n",
      "620\n",
      "640\n"
     ]
    },
    {
     "ename": "error",
     "evalue": "[Errno 60] Operation timed out",
     "output_type": "error",
     "traceback": [
      "\u001b[0;31m---------------------------------------------------------------------------\u001b[0m",
      "\u001b[0;31merror\u001b[0m                                     Traceback (most recent call last)",
      "\u001b[0;32m<ipython-input-537-26ecf74f31af>\u001b[0m in \u001b[0;36m<module>\u001b[0;34m()\u001b[0m\n\u001b[1;32m      1\u001b[0m \u001b[0mi\u001b[0m \u001b[0;34m=\u001b[0m \u001b[0;36m466\u001b[0m\u001b[0;34m\u001b[0m\u001b[0m\n\u001b[1;32m      2\u001b[0m \u001b[0;32mfor\u001b[0m \u001b[0mlink\u001b[0m \u001b[0;32min\u001b[0m \u001b[0mdining_chair_links\u001b[0m\u001b[0;34m[\u001b[0m\u001b[0;36m466\u001b[0m\u001b[0;34m:\u001b[0m\u001b[0;34m]\u001b[0m\u001b[0;34m:\u001b[0m\u001b[0;34m\u001b[0m\u001b[0m\n\u001b[0;32m----> 3\u001b[0;31m     \u001b[0mproduct_dict\u001b[0m \u001b[0;34m=\u001b[0m \u001b[0mwayfair_product_info_scrapper\u001b[0m\u001b[0;34m(\u001b[0m\u001b[0mlink\u001b[0m\u001b[0;34m,\u001b[0m \u001b[0mcategory_input\u001b[0m\u001b[0;34m=\u001b[0m\u001b[0;34m'dining_chair'\u001b[0m\u001b[0;34m)\u001b[0m\u001b[0;34m\u001b[0m\u001b[0m\n\u001b[0m\u001b[1;32m      4\u001b[0m     \u001b[0mdf_product\u001b[0m \u001b[0;34m=\u001b[0m \u001b[0mpd\u001b[0m\u001b[0;34m.\u001b[0m\u001b[0mDataFrame\u001b[0m\u001b[0;34m(\u001b[0m\u001b[0;34m[\u001b[0m\u001b[0mproduct_dict\u001b[0m\u001b[0;34m]\u001b[0m\u001b[0;34m,\u001b[0m \u001b[0mindex\u001b[0m\u001b[0;34m=\u001b[0m\u001b[0;34m[\u001b[0m\u001b[0mi\u001b[0m\u001b[0;34m]\u001b[0m\u001b[0;34m)\u001b[0m\u001b[0;34m\u001b[0m\u001b[0m\n\u001b[1;32m      5\u001b[0m     \u001b[0mdining_chair_df\u001b[0m \u001b[0;34m=\u001b[0m \u001b[0mpd\u001b[0m\u001b[0;34m.\u001b[0m\u001b[0mconcat\u001b[0m\u001b[0;34m(\u001b[0m\u001b[0;34m[\u001b[0m\u001b[0mdining_chair_df\u001b[0m\u001b[0;34m,\u001b[0m \u001b[0mdf_product\u001b[0m\u001b[0;34m]\u001b[0m\u001b[0;34m,\u001b[0m \u001b[0maxis\u001b[0m\u001b[0;34m=\u001b[0m\u001b[0;36m0\u001b[0m\u001b[0;34m)\u001b[0m\u001b[0;34m\u001b[0m\u001b[0m\n",
      "\u001b[0;32m<ipython-input-488-95e4aa27a703>\u001b[0m in \u001b[0;36mwayfair_product_info_scrapper\u001b[0;34m(link, category_input)\u001b[0m\n\u001b[1;32m     81\u001b[0m             \u001b[0mcolor_key\u001b[0m \u001b[0;34m=\u001b[0m \u001b[0mcolors\u001b[0m\u001b[0;34m[\u001b[0m\u001b[0mi\u001b[0m\u001b[0;34m]\u001b[0m\u001b[0;34m\u001b[0m\u001b[0m\n\u001b[1;32m     82\u001b[0m             \u001b[0mlink_color\u001b[0m \u001b[0;34m=\u001b[0m \u001b[0mlink\u001b[0m \u001b[0;34m+\u001b[0m \u001b[0mcolor_link\u001b[0m\u001b[0;34m\u001b[0m\u001b[0m\n\u001b[0;32m---> 83\u001b[0;31m             \u001b[0mhtml_color\u001b[0m  \u001b[0;34m=\u001b[0m \u001b[0murlopen\u001b[0m\u001b[0;34m(\u001b[0m\u001b[0mlink_color\u001b[0m\u001b[0;34m,\u001b[0m \u001b[0mtimeout\u001b[0m\u001b[0;34m=\u001b[0m\u001b[0;36m100\u001b[0m\u001b[0;34m)\u001b[0m\u001b[0;34m\u001b[0m\u001b[0m\n\u001b[0m\u001b[1;32m     84\u001b[0m             \u001b[0msoup_color\u001b[0m \u001b[0;34m=\u001b[0m \u001b[0mBeautifulSoup\u001b[0m\u001b[0;34m(\u001b[0m\u001b[0mhtml_color\u001b[0m\u001b[0;34m,\u001b[0m \u001b[0;34m'html.parser'\u001b[0m\u001b[0;34m)\u001b[0m\u001b[0;34m\u001b[0m\u001b[0m\n\u001b[1;32m     85\u001b[0m             \u001b[0mimage_info_color\u001b[0m \u001b[0;34m=\u001b[0m \u001b[0msoup_color\u001b[0m\u001b[0;34m.\u001b[0m\u001b[0mfindAll\u001b[0m\u001b[0;34m(\u001b[0m\u001b[0;34m'a'\u001b[0m\u001b[0;34m,\u001b[0m \u001b[0;34m{\u001b[0m\u001b[0;34m'class'\u001b[0m\u001b[0;34m:\u001b[0m \u001b[0;34m'photoswipe_link'\u001b[0m\u001b[0;34m}\u001b[0m\u001b[0;34m)\u001b[0m\u001b[0;34m\u001b[0m\u001b[0m\n",
      "\u001b[0;32m//anaconda/lib/python2.7/urllib2.pyc\u001b[0m in \u001b[0;36murlopen\u001b[0;34m(url, data, timeout, cafile, capath, cadefault, context)\u001b[0m\n\u001b[1;32m    152\u001b[0m     \u001b[0;32melse\u001b[0m\u001b[0;34m:\u001b[0m\u001b[0;34m\u001b[0m\u001b[0m\n\u001b[1;32m    153\u001b[0m         \u001b[0mopener\u001b[0m \u001b[0;34m=\u001b[0m \u001b[0m_opener\u001b[0m\u001b[0;34m\u001b[0m\u001b[0m\n\u001b[0;32m--> 154\u001b[0;31m     \u001b[0;32mreturn\u001b[0m \u001b[0mopener\u001b[0m\u001b[0;34m.\u001b[0m\u001b[0mopen\u001b[0m\u001b[0;34m(\u001b[0m\u001b[0murl\u001b[0m\u001b[0;34m,\u001b[0m \u001b[0mdata\u001b[0m\u001b[0;34m,\u001b[0m \u001b[0mtimeout\u001b[0m\u001b[0;34m)\u001b[0m\u001b[0;34m\u001b[0m\u001b[0m\n\u001b[0m\u001b[1;32m    155\u001b[0m \u001b[0;34m\u001b[0m\u001b[0m\n\u001b[1;32m    156\u001b[0m \u001b[0;32mdef\u001b[0m \u001b[0minstall_opener\u001b[0m\u001b[0;34m(\u001b[0m\u001b[0mopener\u001b[0m\u001b[0;34m)\u001b[0m\u001b[0;34m:\u001b[0m\u001b[0;34m\u001b[0m\u001b[0m\n",
      "\u001b[0;32m//anaconda/lib/python2.7/urllib2.pyc\u001b[0m in \u001b[0;36mopen\u001b[0;34m(self, fullurl, data, timeout)\u001b[0m\n\u001b[1;32m    429\u001b[0m             \u001b[0mreq\u001b[0m \u001b[0;34m=\u001b[0m \u001b[0mmeth\u001b[0m\u001b[0;34m(\u001b[0m\u001b[0mreq\u001b[0m\u001b[0;34m)\u001b[0m\u001b[0;34m\u001b[0m\u001b[0m\n\u001b[1;32m    430\u001b[0m \u001b[0;34m\u001b[0m\u001b[0m\n\u001b[0;32m--> 431\u001b[0;31m         \u001b[0mresponse\u001b[0m \u001b[0;34m=\u001b[0m \u001b[0mself\u001b[0m\u001b[0;34m.\u001b[0m\u001b[0m_open\u001b[0m\u001b[0;34m(\u001b[0m\u001b[0mreq\u001b[0m\u001b[0;34m,\u001b[0m \u001b[0mdata\u001b[0m\u001b[0;34m)\u001b[0m\u001b[0;34m\u001b[0m\u001b[0m\n\u001b[0m\u001b[1;32m    432\u001b[0m \u001b[0;34m\u001b[0m\u001b[0m\n\u001b[1;32m    433\u001b[0m         \u001b[0;31m# post-process response\u001b[0m\u001b[0;34m\u001b[0m\u001b[0;34m\u001b[0m\u001b[0m\n",
      "\u001b[0;32m//anaconda/lib/python2.7/urllib2.pyc\u001b[0m in \u001b[0;36m_open\u001b[0;34m(self, req, data)\u001b[0m\n\u001b[1;32m    447\u001b[0m         \u001b[0mprotocol\u001b[0m \u001b[0;34m=\u001b[0m \u001b[0mreq\u001b[0m\u001b[0;34m.\u001b[0m\u001b[0mget_type\u001b[0m\u001b[0;34m(\u001b[0m\u001b[0;34m)\u001b[0m\u001b[0;34m\u001b[0m\u001b[0m\n\u001b[1;32m    448\u001b[0m         result = self._call_chain(self.handle_open, protocol, protocol +\n\u001b[0;32m--> 449\u001b[0;31m                                   '_open', req)\n\u001b[0m\u001b[1;32m    450\u001b[0m         \u001b[0;32mif\u001b[0m \u001b[0mresult\u001b[0m\u001b[0;34m:\u001b[0m\u001b[0;34m\u001b[0m\u001b[0m\n\u001b[1;32m    451\u001b[0m             \u001b[0;32mreturn\u001b[0m \u001b[0mresult\u001b[0m\u001b[0;34m\u001b[0m\u001b[0m\n",
      "\u001b[0;32m//anaconda/lib/python2.7/urllib2.pyc\u001b[0m in \u001b[0;36m_call_chain\u001b[0;34m(self, chain, kind, meth_name, *args)\u001b[0m\n\u001b[1;32m    407\u001b[0m             \u001b[0mfunc\u001b[0m \u001b[0;34m=\u001b[0m \u001b[0mgetattr\u001b[0m\u001b[0;34m(\u001b[0m\u001b[0mhandler\u001b[0m\u001b[0;34m,\u001b[0m \u001b[0mmeth_name\u001b[0m\u001b[0;34m)\u001b[0m\u001b[0;34m\u001b[0m\u001b[0m\n\u001b[1;32m    408\u001b[0m \u001b[0;34m\u001b[0m\u001b[0m\n\u001b[0;32m--> 409\u001b[0;31m             \u001b[0mresult\u001b[0m \u001b[0;34m=\u001b[0m \u001b[0mfunc\u001b[0m\u001b[0;34m(\u001b[0m\u001b[0;34m*\u001b[0m\u001b[0margs\u001b[0m\u001b[0;34m)\u001b[0m\u001b[0;34m\u001b[0m\u001b[0m\n\u001b[0m\u001b[1;32m    410\u001b[0m             \u001b[0;32mif\u001b[0m \u001b[0mresult\u001b[0m \u001b[0;32mis\u001b[0m \u001b[0;32mnot\u001b[0m \u001b[0mNone\u001b[0m\u001b[0;34m:\u001b[0m\u001b[0;34m\u001b[0m\u001b[0m\n\u001b[1;32m    411\u001b[0m                 \u001b[0;32mreturn\u001b[0m \u001b[0mresult\u001b[0m\u001b[0;34m\u001b[0m\u001b[0m\n",
      "\u001b[0;32m//anaconda/lib/python2.7/urllib2.pyc\u001b[0m in \u001b[0;36mhttp_open\u001b[0;34m(self, req)\u001b[0m\n\u001b[1;32m   1225\u001b[0m \u001b[0;34m\u001b[0m\u001b[0m\n\u001b[1;32m   1226\u001b[0m     \u001b[0;32mdef\u001b[0m \u001b[0mhttp_open\u001b[0m\u001b[0;34m(\u001b[0m\u001b[0mself\u001b[0m\u001b[0;34m,\u001b[0m \u001b[0mreq\u001b[0m\u001b[0;34m)\u001b[0m\u001b[0;34m:\u001b[0m\u001b[0;34m\u001b[0m\u001b[0m\n\u001b[0;32m-> 1227\u001b[0;31m         \u001b[0;32mreturn\u001b[0m \u001b[0mself\u001b[0m\u001b[0;34m.\u001b[0m\u001b[0mdo_open\u001b[0m\u001b[0;34m(\u001b[0m\u001b[0mhttplib\u001b[0m\u001b[0;34m.\u001b[0m\u001b[0mHTTPConnection\u001b[0m\u001b[0;34m,\u001b[0m \u001b[0mreq\u001b[0m\u001b[0;34m)\u001b[0m\u001b[0;34m\u001b[0m\u001b[0m\n\u001b[0m\u001b[1;32m   1228\u001b[0m \u001b[0;34m\u001b[0m\u001b[0m\n\u001b[1;32m   1229\u001b[0m     \u001b[0mhttp_request\u001b[0m \u001b[0;34m=\u001b[0m \u001b[0mAbstractHTTPHandler\u001b[0m\u001b[0;34m.\u001b[0m\u001b[0mdo_request_\u001b[0m\u001b[0;34m\u001b[0m\u001b[0m\n",
      "\u001b[0;32m//anaconda/lib/python2.7/urllib2.pyc\u001b[0m in \u001b[0;36mdo_open\u001b[0;34m(self, http_class, req, **http_conn_args)\u001b[0m\n\u001b[1;32m   1198\u001b[0m         \u001b[0;32melse\u001b[0m\u001b[0;34m:\u001b[0m\u001b[0;34m\u001b[0m\u001b[0m\n\u001b[1;32m   1199\u001b[0m             \u001b[0;32mtry\u001b[0m\u001b[0;34m:\u001b[0m\u001b[0;34m\u001b[0m\u001b[0m\n\u001b[0;32m-> 1200\u001b[0;31m                 \u001b[0mr\u001b[0m \u001b[0;34m=\u001b[0m \u001b[0mh\u001b[0m\u001b[0;34m.\u001b[0m\u001b[0mgetresponse\u001b[0m\u001b[0;34m(\u001b[0m\u001b[0mbuffering\u001b[0m\u001b[0;34m=\u001b[0m\u001b[0mTrue\u001b[0m\u001b[0;34m)\u001b[0m\u001b[0;34m\u001b[0m\u001b[0m\n\u001b[0m\u001b[1;32m   1201\u001b[0m             \u001b[0;32mexcept\u001b[0m \u001b[0mTypeError\u001b[0m\u001b[0;34m:\u001b[0m \u001b[0;31m# buffering kw not supported\u001b[0m\u001b[0;34m\u001b[0m\u001b[0m\n\u001b[1;32m   1202\u001b[0m                 \u001b[0mr\u001b[0m \u001b[0;34m=\u001b[0m \u001b[0mh\u001b[0m\u001b[0;34m.\u001b[0m\u001b[0mgetresponse\u001b[0m\u001b[0;34m(\u001b[0m\u001b[0;34m)\u001b[0m\u001b[0;34m\u001b[0m\u001b[0m\n",
      "\u001b[0;32m//anaconda/lib/python2.7/httplib.pyc\u001b[0m in \u001b[0;36mgetresponse\u001b[0;34m(self, buffering)\u001b[0m\n\u001b[1;32m   1130\u001b[0m \u001b[0;34m\u001b[0m\u001b[0m\n\u001b[1;32m   1131\u001b[0m         \u001b[0;32mtry\u001b[0m\u001b[0;34m:\u001b[0m\u001b[0;34m\u001b[0m\u001b[0m\n\u001b[0;32m-> 1132\u001b[0;31m             \u001b[0mresponse\u001b[0m\u001b[0;34m.\u001b[0m\u001b[0mbegin\u001b[0m\u001b[0;34m(\u001b[0m\u001b[0;34m)\u001b[0m\u001b[0;34m\u001b[0m\u001b[0m\n\u001b[0m\u001b[1;32m   1133\u001b[0m             \u001b[0;32massert\u001b[0m \u001b[0mresponse\u001b[0m\u001b[0;34m.\u001b[0m\u001b[0mwill_close\u001b[0m \u001b[0;34m!=\u001b[0m \u001b[0m_UNKNOWN\u001b[0m\u001b[0;34m\u001b[0m\u001b[0m\n\u001b[1;32m   1134\u001b[0m             \u001b[0mself\u001b[0m\u001b[0;34m.\u001b[0m\u001b[0m__state\u001b[0m \u001b[0;34m=\u001b[0m \u001b[0m_CS_IDLE\u001b[0m\u001b[0;34m\u001b[0m\u001b[0m\n",
      "\u001b[0;32m//anaconda/lib/python2.7/httplib.pyc\u001b[0m in \u001b[0;36mbegin\u001b[0;34m(self)\u001b[0m\n\u001b[1;32m    451\u001b[0m         \u001b[0;31m# read until we get a non-100 response\u001b[0m\u001b[0;34m\u001b[0m\u001b[0;34m\u001b[0m\u001b[0m\n\u001b[1;32m    452\u001b[0m         \u001b[0;32mwhile\u001b[0m \u001b[0mTrue\u001b[0m\u001b[0;34m:\u001b[0m\u001b[0;34m\u001b[0m\u001b[0m\n\u001b[0;32m--> 453\u001b[0;31m             \u001b[0mversion\u001b[0m\u001b[0;34m,\u001b[0m \u001b[0mstatus\u001b[0m\u001b[0;34m,\u001b[0m \u001b[0mreason\u001b[0m \u001b[0;34m=\u001b[0m \u001b[0mself\u001b[0m\u001b[0;34m.\u001b[0m\u001b[0m_read_status\u001b[0m\u001b[0;34m(\u001b[0m\u001b[0;34m)\u001b[0m\u001b[0;34m\u001b[0m\u001b[0m\n\u001b[0m\u001b[1;32m    454\u001b[0m             \u001b[0;32mif\u001b[0m \u001b[0mstatus\u001b[0m \u001b[0;34m!=\u001b[0m \u001b[0mCONTINUE\u001b[0m\u001b[0;34m:\u001b[0m\u001b[0;34m\u001b[0m\u001b[0m\n\u001b[1;32m    455\u001b[0m                 \u001b[0;32mbreak\u001b[0m\u001b[0;34m\u001b[0m\u001b[0m\n",
      "\u001b[0;32m//anaconda/lib/python2.7/httplib.pyc\u001b[0m in \u001b[0;36m_read_status\u001b[0;34m(self)\u001b[0m\n\u001b[1;32m    407\u001b[0m     \u001b[0;32mdef\u001b[0m \u001b[0m_read_status\u001b[0m\u001b[0;34m(\u001b[0m\u001b[0mself\u001b[0m\u001b[0;34m)\u001b[0m\u001b[0;34m:\u001b[0m\u001b[0;34m\u001b[0m\u001b[0m\n\u001b[1;32m    408\u001b[0m         \u001b[0;31m# Initialize with Simple-Response defaults\u001b[0m\u001b[0;34m\u001b[0m\u001b[0;34m\u001b[0m\u001b[0m\n\u001b[0;32m--> 409\u001b[0;31m         \u001b[0mline\u001b[0m \u001b[0;34m=\u001b[0m \u001b[0mself\u001b[0m\u001b[0;34m.\u001b[0m\u001b[0mfp\u001b[0m\u001b[0;34m.\u001b[0m\u001b[0mreadline\u001b[0m\u001b[0;34m(\u001b[0m\u001b[0m_MAXLINE\u001b[0m \u001b[0;34m+\u001b[0m \u001b[0;36m1\u001b[0m\u001b[0;34m)\u001b[0m\u001b[0;34m\u001b[0m\u001b[0m\n\u001b[0m\u001b[1;32m    410\u001b[0m         \u001b[0;32mif\u001b[0m \u001b[0mlen\u001b[0m\u001b[0;34m(\u001b[0m\u001b[0mline\u001b[0m\u001b[0;34m)\u001b[0m \u001b[0;34m>\u001b[0m \u001b[0m_MAXLINE\u001b[0m\u001b[0;34m:\u001b[0m\u001b[0;34m\u001b[0m\u001b[0m\n\u001b[1;32m    411\u001b[0m             \u001b[0;32mraise\u001b[0m \u001b[0mLineTooLong\u001b[0m\u001b[0;34m(\u001b[0m\u001b[0;34m\"header line\"\u001b[0m\u001b[0;34m)\u001b[0m\u001b[0;34m\u001b[0m\u001b[0m\n",
      "\u001b[0;32m//anaconda/lib/python2.7/socket.pyc\u001b[0m in \u001b[0;36mreadline\u001b[0;34m(self, size)\u001b[0m\n\u001b[1;32m    478\u001b[0m             \u001b[0;32mwhile\u001b[0m \u001b[0mTrue\u001b[0m\u001b[0;34m:\u001b[0m\u001b[0;34m\u001b[0m\u001b[0m\n\u001b[1;32m    479\u001b[0m                 \u001b[0;32mtry\u001b[0m\u001b[0;34m:\u001b[0m\u001b[0;34m\u001b[0m\u001b[0m\n\u001b[0;32m--> 480\u001b[0;31m                     \u001b[0mdata\u001b[0m \u001b[0;34m=\u001b[0m \u001b[0mself\u001b[0m\u001b[0;34m.\u001b[0m\u001b[0m_sock\u001b[0m\u001b[0;34m.\u001b[0m\u001b[0mrecv\u001b[0m\u001b[0;34m(\u001b[0m\u001b[0mself\u001b[0m\u001b[0;34m.\u001b[0m\u001b[0m_rbufsize\u001b[0m\u001b[0;34m)\u001b[0m\u001b[0;34m\u001b[0m\u001b[0m\n\u001b[0m\u001b[1;32m    481\u001b[0m                 \u001b[0;32mexcept\u001b[0m \u001b[0merror\u001b[0m\u001b[0;34m,\u001b[0m \u001b[0me\u001b[0m\u001b[0;34m:\u001b[0m\u001b[0;34m\u001b[0m\u001b[0m\n\u001b[1;32m    482\u001b[0m                     \u001b[0;32mif\u001b[0m \u001b[0me\u001b[0m\u001b[0;34m.\u001b[0m\u001b[0margs\u001b[0m\u001b[0;34m[\u001b[0m\u001b[0;36m0\u001b[0m\u001b[0;34m]\u001b[0m \u001b[0;34m==\u001b[0m \u001b[0mEINTR\u001b[0m\u001b[0;34m:\u001b[0m\u001b[0;34m\u001b[0m\u001b[0m\n",
      "\u001b[0;31merror\u001b[0m: [Errno 60] Operation timed out"
     ]
    }
   ],
   "source": [
    "i = 466\n",
    "for link in dining_chair_links[466:]:\n",
    "    product_dict = wayfair_product_info_scrapper(link, category_input='dining_chair')\n",
    "    df_product = pd.DataFrame([product_dict], index=[i])\n",
    "    dining_chair_df = pd.concat([dining_chair_df, df_product], axis=0)\n",
    "    i += 1\n",
    "    if i % 20 == 0:\n",
    "        print i"
   ]
  },
  {
   "cell_type": "code",
   "execution_count": 538,
   "metadata": {
    "collapsed": false
   },
   "outputs": [
    {
     "name": "stdout",
     "output_type": "stream",
     "text": [
      "<class 'pandas.core.frame.DataFrame'>\n",
      "Int64Index: 643 entries, 0 to 642\n",
      "Data columns (total 15 columns):\n",
      "category                643 non-null object\n",
      "colors                  643 non-null object\n",
      "description             520 non-null object\n",
      "features                643 non-null object\n",
      "image_links_all         643 non-null object\n",
      "image_links_by_color    643 non-null object\n",
      "manufacturer            643 non-null object\n",
      "price                   643 non-null object\n",
      "product_id              643 non-null object\n",
      "rating_avg              597 non-null object\n",
      "rating_count            597 non-null object\n",
      "specs                   643 non-null object\n",
      "title                   643 non-null object\n",
      "url                     643 non-null object\n",
      "website                 643 non-null object\n",
      "dtypes: object(15)\n",
      "memory usage: 80.4+ KB\n"
     ]
    }
   ],
   "source": [
    "dining_chair_df.info()"
   ]
  },
  {
   "cell_type": "code",
   "execution_count": 539,
   "metadata": {
    "collapsed": false
   },
   "outputs": [
    {
     "name": "stdout",
     "output_type": "stream",
     "text": [
      "660\n",
      "680\n",
      "700\n",
      "720\n",
      "740\n",
      "760\n",
      "780\n",
      "800\n",
      "820\n",
      "840\n",
      "860\n",
      "880\n",
      "900\n",
      "920\n",
      "940\n"
     ]
    },
    {
     "ename": "error",
     "evalue": "[Errno 60] Operation timed out",
     "output_type": "error",
     "traceback": [
      "\u001b[0;31m---------------------------------------------------------------------------\u001b[0m",
      "\u001b[0;31merror\u001b[0m                                     Traceback (most recent call last)",
      "\u001b[0;32m<ipython-input-539-09dd2dd3e49e>\u001b[0m in \u001b[0;36m<module>\u001b[0;34m()\u001b[0m\n\u001b[1;32m      1\u001b[0m \u001b[0mi\u001b[0m \u001b[0;34m=\u001b[0m \u001b[0;36m643\u001b[0m\u001b[0;34m\u001b[0m\u001b[0m\n\u001b[1;32m      2\u001b[0m \u001b[0;32mfor\u001b[0m \u001b[0mlink\u001b[0m \u001b[0;32min\u001b[0m \u001b[0mdining_chair_links\u001b[0m\u001b[0;34m[\u001b[0m\u001b[0;36m643\u001b[0m\u001b[0;34m:\u001b[0m\u001b[0;34m]\u001b[0m\u001b[0;34m:\u001b[0m\u001b[0;34m\u001b[0m\u001b[0m\n\u001b[0;32m----> 3\u001b[0;31m     \u001b[0mproduct_dict\u001b[0m \u001b[0;34m=\u001b[0m \u001b[0mwayfair_product_info_scrapper\u001b[0m\u001b[0;34m(\u001b[0m\u001b[0mlink\u001b[0m\u001b[0;34m,\u001b[0m \u001b[0mcategory_input\u001b[0m\u001b[0;34m=\u001b[0m\u001b[0;34m'dining_chair'\u001b[0m\u001b[0;34m)\u001b[0m\u001b[0;34m\u001b[0m\u001b[0m\n\u001b[0m\u001b[1;32m      4\u001b[0m     \u001b[0mdf_product\u001b[0m \u001b[0;34m=\u001b[0m \u001b[0mpd\u001b[0m\u001b[0;34m.\u001b[0m\u001b[0mDataFrame\u001b[0m\u001b[0;34m(\u001b[0m\u001b[0;34m[\u001b[0m\u001b[0mproduct_dict\u001b[0m\u001b[0;34m]\u001b[0m\u001b[0;34m,\u001b[0m \u001b[0mindex\u001b[0m\u001b[0;34m=\u001b[0m\u001b[0;34m[\u001b[0m\u001b[0mi\u001b[0m\u001b[0;34m]\u001b[0m\u001b[0;34m)\u001b[0m\u001b[0;34m\u001b[0m\u001b[0m\n\u001b[1;32m      5\u001b[0m     \u001b[0mdining_chair_df\u001b[0m \u001b[0;34m=\u001b[0m \u001b[0mpd\u001b[0m\u001b[0;34m.\u001b[0m\u001b[0mconcat\u001b[0m\u001b[0;34m(\u001b[0m\u001b[0;34m[\u001b[0m\u001b[0mdining_chair_df\u001b[0m\u001b[0;34m,\u001b[0m \u001b[0mdf_product\u001b[0m\u001b[0;34m]\u001b[0m\u001b[0;34m,\u001b[0m \u001b[0maxis\u001b[0m\u001b[0;34m=\u001b[0m\u001b[0;36m0\u001b[0m\u001b[0;34m)\u001b[0m\u001b[0;34m\u001b[0m\u001b[0m\n",
      "\u001b[0;32m<ipython-input-488-95e4aa27a703>\u001b[0m in \u001b[0;36mwayfair_product_info_scrapper\u001b[0;34m(link, category_input)\u001b[0m\n\u001b[1;32m     81\u001b[0m             \u001b[0mcolor_key\u001b[0m \u001b[0;34m=\u001b[0m \u001b[0mcolors\u001b[0m\u001b[0;34m[\u001b[0m\u001b[0mi\u001b[0m\u001b[0;34m]\u001b[0m\u001b[0;34m\u001b[0m\u001b[0m\n\u001b[1;32m     82\u001b[0m             \u001b[0mlink_color\u001b[0m \u001b[0;34m=\u001b[0m \u001b[0mlink\u001b[0m \u001b[0;34m+\u001b[0m \u001b[0mcolor_link\u001b[0m\u001b[0;34m\u001b[0m\u001b[0m\n\u001b[0;32m---> 83\u001b[0;31m             \u001b[0mhtml_color\u001b[0m  \u001b[0;34m=\u001b[0m \u001b[0murlopen\u001b[0m\u001b[0;34m(\u001b[0m\u001b[0mlink_color\u001b[0m\u001b[0;34m,\u001b[0m \u001b[0mtimeout\u001b[0m\u001b[0;34m=\u001b[0m\u001b[0;36m100\u001b[0m\u001b[0;34m)\u001b[0m\u001b[0;34m\u001b[0m\u001b[0m\n\u001b[0m\u001b[1;32m     84\u001b[0m             \u001b[0msoup_color\u001b[0m \u001b[0;34m=\u001b[0m \u001b[0mBeautifulSoup\u001b[0m\u001b[0;34m(\u001b[0m\u001b[0mhtml_color\u001b[0m\u001b[0;34m,\u001b[0m \u001b[0;34m'html.parser'\u001b[0m\u001b[0;34m)\u001b[0m\u001b[0;34m\u001b[0m\u001b[0m\n\u001b[1;32m     85\u001b[0m             \u001b[0mimage_info_color\u001b[0m \u001b[0;34m=\u001b[0m \u001b[0msoup_color\u001b[0m\u001b[0;34m.\u001b[0m\u001b[0mfindAll\u001b[0m\u001b[0;34m(\u001b[0m\u001b[0;34m'a'\u001b[0m\u001b[0;34m,\u001b[0m \u001b[0;34m{\u001b[0m\u001b[0;34m'class'\u001b[0m\u001b[0;34m:\u001b[0m \u001b[0;34m'photoswipe_link'\u001b[0m\u001b[0;34m}\u001b[0m\u001b[0;34m)\u001b[0m\u001b[0;34m\u001b[0m\u001b[0m\n",
      "\u001b[0;32m//anaconda/lib/python2.7/urllib2.pyc\u001b[0m in \u001b[0;36murlopen\u001b[0;34m(url, data, timeout, cafile, capath, cadefault, context)\u001b[0m\n\u001b[1;32m    152\u001b[0m     \u001b[0;32melse\u001b[0m\u001b[0;34m:\u001b[0m\u001b[0;34m\u001b[0m\u001b[0m\n\u001b[1;32m    153\u001b[0m         \u001b[0mopener\u001b[0m \u001b[0;34m=\u001b[0m \u001b[0m_opener\u001b[0m\u001b[0;34m\u001b[0m\u001b[0m\n\u001b[0;32m--> 154\u001b[0;31m     \u001b[0;32mreturn\u001b[0m \u001b[0mopener\u001b[0m\u001b[0;34m.\u001b[0m\u001b[0mopen\u001b[0m\u001b[0;34m(\u001b[0m\u001b[0murl\u001b[0m\u001b[0;34m,\u001b[0m \u001b[0mdata\u001b[0m\u001b[0;34m,\u001b[0m \u001b[0mtimeout\u001b[0m\u001b[0;34m)\u001b[0m\u001b[0;34m\u001b[0m\u001b[0m\n\u001b[0m\u001b[1;32m    155\u001b[0m \u001b[0;34m\u001b[0m\u001b[0m\n\u001b[1;32m    156\u001b[0m \u001b[0;32mdef\u001b[0m \u001b[0minstall_opener\u001b[0m\u001b[0;34m(\u001b[0m\u001b[0mopener\u001b[0m\u001b[0;34m)\u001b[0m\u001b[0;34m:\u001b[0m\u001b[0;34m\u001b[0m\u001b[0m\n",
      "\u001b[0;32m//anaconda/lib/python2.7/urllib2.pyc\u001b[0m in \u001b[0;36mopen\u001b[0;34m(self, fullurl, data, timeout)\u001b[0m\n\u001b[1;32m    429\u001b[0m             \u001b[0mreq\u001b[0m \u001b[0;34m=\u001b[0m \u001b[0mmeth\u001b[0m\u001b[0;34m(\u001b[0m\u001b[0mreq\u001b[0m\u001b[0;34m)\u001b[0m\u001b[0;34m\u001b[0m\u001b[0m\n\u001b[1;32m    430\u001b[0m \u001b[0;34m\u001b[0m\u001b[0m\n\u001b[0;32m--> 431\u001b[0;31m         \u001b[0mresponse\u001b[0m \u001b[0;34m=\u001b[0m \u001b[0mself\u001b[0m\u001b[0;34m.\u001b[0m\u001b[0m_open\u001b[0m\u001b[0;34m(\u001b[0m\u001b[0mreq\u001b[0m\u001b[0;34m,\u001b[0m \u001b[0mdata\u001b[0m\u001b[0;34m)\u001b[0m\u001b[0;34m\u001b[0m\u001b[0m\n\u001b[0m\u001b[1;32m    432\u001b[0m \u001b[0;34m\u001b[0m\u001b[0m\n\u001b[1;32m    433\u001b[0m         \u001b[0;31m# post-process response\u001b[0m\u001b[0;34m\u001b[0m\u001b[0;34m\u001b[0m\u001b[0m\n",
      "\u001b[0;32m//anaconda/lib/python2.7/urllib2.pyc\u001b[0m in \u001b[0;36m_open\u001b[0;34m(self, req, data)\u001b[0m\n\u001b[1;32m    447\u001b[0m         \u001b[0mprotocol\u001b[0m \u001b[0;34m=\u001b[0m \u001b[0mreq\u001b[0m\u001b[0;34m.\u001b[0m\u001b[0mget_type\u001b[0m\u001b[0;34m(\u001b[0m\u001b[0;34m)\u001b[0m\u001b[0;34m\u001b[0m\u001b[0m\n\u001b[1;32m    448\u001b[0m         result = self._call_chain(self.handle_open, protocol, protocol +\n\u001b[0;32m--> 449\u001b[0;31m                                   '_open', req)\n\u001b[0m\u001b[1;32m    450\u001b[0m         \u001b[0;32mif\u001b[0m \u001b[0mresult\u001b[0m\u001b[0;34m:\u001b[0m\u001b[0;34m\u001b[0m\u001b[0m\n\u001b[1;32m    451\u001b[0m             \u001b[0;32mreturn\u001b[0m \u001b[0mresult\u001b[0m\u001b[0;34m\u001b[0m\u001b[0m\n",
      "\u001b[0;32m//anaconda/lib/python2.7/urllib2.pyc\u001b[0m in \u001b[0;36m_call_chain\u001b[0;34m(self, chain, kind, meth_name, *args)\u001b[0m\n\u001b[1;32m    407\u001b[0m             \u001b[0mfunc\u001b[0m \u001b[0;34m=\u001b[0m \u001b[0mgetattr\u001b[0m\u001b[0;34m(\u001b[0m\u001b[0mhandler\u001b[0m\u001b[0;34m,\u001b[0m \u001b[0mmeth_name\u001b[0m\u001b[0;34m)\u001b[0m\u001b[0;34m\u001b[0m\u001b[0m\n\u001b[1;32m    408\u001b[0m \u001b[0;34m\u001b[0m\u001b[0m\n\u001b[0;32m--> 409\u001b[0;31m             \u001b[0mresult\u001b[0m \u001b[0;34m=\u001b[0m \u001b[0mfunc\u001b[0m\u001b[0;34m(\u001b[0m\u001b[0;34m*\u001b[0m\u001b[0margs\u001b[0m\u001b[0;34m)\u001b[0m\u001b[0;34m\u001b[0m\u001b[0m\n\u001b[0m\u001b[1;32m    410\u001b[0m             \u001b[0;32mif\u001b[0m \u001b[0mresult\u001b[0m \u001b[0;32mis\u001b[0m \u001b[0;32mnot\u001b[0m \u001b[0mNone\u001b[0m\u001b[0;34m:\u001b[0m\u001b[0;34m\u001b[0m\u001b[0m\n\u001b[1;32m    411\u001b[0m                 \u001b[0;32mreturn\u001b[0m \u001b[0mresult\u001b[0m\u001b[0;34m\u001b[0m\u001b[0m\n",
      "\u001b[0;32m//anaconda/lib/python2.7/urllib2.pyc\u001b[0m in \u001b[0;36mhttp_open\u001b[0;34m(self, req)\u001b[0m\n\u001b[1;32m   1225\u001b[0m \u001b[0;34m\u001b[0m\u001b[0m\n\u001b[1;32m   1226\u001b[0m     \u001b[0;32mdef\u001b[0m \u001b[0mhttp_open\u001b[0m\u001b[0;34m(\u001b[0m\u001b[0mself\u001b[0m\u001b[0;34m,\u001b[0m \u001b[0mreq\u001b[0m\u001b[0;34m)\u001b[0m\u001b[0;34m:\u001b[0m\u001b[0;34m\u001b[0m\u001b[0m\n\u001b[0;32m-> 1227\u001b[0;31m         \u001b[0;32mreturn\u001b[0m \u001b[0mself\u001b[0m\u001b[0;34m.\u001b[0m\u001b[0mdo_open\u001b[0m\u001b[0;34m(\u001b[0m\u001b[0mhttplib\u001b[0m\u001b[0;34m.\u001b[0m\u001b[0mHTTPConnection\u001b[0m\u001b[0;34m,\u001b[0m \u001b[0mreq\u001b[0m\u001b[0;34m)\u001b[0m\u001b[0;34m\u001b[0m\u001b[0m\n\u001b[0m\u001b[1;32m   1228\u001b[0m \u001b[0;34m\u001b[0m\u001b[0m\n\u001b[1;32m   1229\u001b[0m     \u001b[0mhttp_request\u001b[0m \u001b[0;34m=\u001b[0m \u001b[0mAbstractHTTPHandler\u001b[0m\u001b[0;34m.\u001b[0m\u001b[0mdo_request_\u001b[0m\u001b[0;34m\u001b[0m\u001b[0m\n",
      "\u001b[0;32m//anaconda/lib/python2.7/urllib2.pyc\u001b[0m in \u001b[0;36mdo_open\u001b[0;34m(self, http_class, req, **http_conn_args)\u001b[0m\n\u001b[1;32m   1198\u001b[0m         \u001b[0;32melse\u001b[0m\u001b[0;34m:\u001b[0m\u001b[0;34m\u001b[0m\u001b[0m\n\u001b[1;32m   1199\u001b[0m             \u001b[0;32mtry\u001b[0m\u001b[0;34m:\u001b[0m\u001b[0;34m\u001b[0m\u001b[0m\n\u001b[0;32m-> 1200\u001b[0;31m                 \u001b[0mr\u001b[0m \u001b[0;34m=\u001b[0m \u001b[0mh\u001b[0m\u001b[0;34m.\u001b[0m\u001b[0mgetresponse\u001b[0m\u001b[0;34m(\u001b[0m\u001b[0mbuffering\u001b[0m\u001b[0;34m=\u001b[0m\u001b[0mTrue\u001b[0m\u001b[0;34m)\u001b[0m\u001b[0;34m\u001b[0m\u001b[0m\n\u001b[0m\u001b[1;32m   1201\u001b[0m             \u001b[0;32mexcept\u001b[0m \u001b[0mTypeError\u001b[0m\u001b[0;34m:\u001b[0m \u001b[0;31m# buffering kw not supported\u001b[0m\u001b[0;34m\u001b[0m\u001b[0m\n\u001b[1;32m   1202\u001b[0m                 \u001b[0mr\u001b[0m \u001b[0;34m=\u001b[0m \u001b[0mh\u001b[0m\u001b[0;34m.\u001b[0m\u001b[0mgetresponse\u001b[0m\u001b[0;34m(\u001b[0m\u001b[0;34m)\u001b[0m\u001b[0;34m\u001b[0m\u001b[0m\n",
      "\u001b[0;32m//anaconda/lib/python2.7/httplib.pyc\u001b[0m in \u001b[0;36mgetresponse\u001b[0;34m(self, buffering)\u001b[0m\n\u001b[1;32m   1130\u001b[0m \u001b[0;34m\u001b[0m\u001b[0m\n\u001b[1;32m   1131\u001b[0m         \u001b[0;32mtry\u001b[0m\u001b[0;34m:\u001b[0m\u001b[0;34m\u001b[0m\u001b[0m\n\u001b[0;32m-> 1132\u001b[0;31m             \u001b[0mresponse\u001b[0m\u001b[0;34m.\u001b[0m\u001b[0mbegin\u001b[0m\u001b[0;34m(\u001b[0m\u001b[0;34m)\u001b[0m\u001b[0;34m\u001b[0m\u001b[0m\n\u001b[0m\u001b[1;32m   1133\u001b[0m             \u001b[0;32massert\u001b[0m \u001b[0mresponse\u001b[0m\u001b[0;34m.\u001b[0m\u001b[0mwill_close\u001b[0m \u001b[0;34m!=\u001b[0m \u001b[0m_UNKNOWN\u001b[0m\u001b[0;34m\u001b[0m\u001b[0m\n\u001b[1;32m   1134\u001b[0m             \u001b[0mself\u001b[0m\u001b[0;34m.\u001b[0m\u001b[0m__state\u001b[0m \u001b[0;34m=\u001b[0m \u001b[0m_CS_IDLE\u001b[0m\u001b[0;34m\u001b[0m\u001b[0m\n",
      "\u001b[0;32m//anaconda/lib/python2.7/httplib.pyc\u001b[0m in \u001b[0;36mbegin\u001b[0;34m(self)\u001b[0m\n\u001b[1;32m    451\u001b[0m         \u001b[0;31m# read until we get a non-100 response\u001b[0m\u001b[0;34m\u001b[0m\u001b[0;34m\u001b[0m\u001b[0m\n\u001b[1;32m    452\u001b[0m         \u001b[0;32mwhile\u001b[0m \u001b[0mTrue\u001b[0m\u001b[0;34m:\u001b[0m\u001b[0;34m\u001b[0m\u001b[0m\n\u001b[0;32m--> 453\u001b[0;31m             \u001b[0mversion\u001b[0m\u001b[0;34m,\u001b[0m \u001b[0mstatus\u001b[0m\u001b[0;34m,\u001b[0m \u001b[0mreason\u001b[0m \u001b[0;34m=\u001b[0m \u001b[0mself\u001b[0m\u001b[0;34m.\u001b[0m\u001b[0m_read_status\u001b[0m\u001b[0;34m(\u001b[0m\u001b[0;34m)\u001b[0m\u001b[0;34m\u001b[0m\u001b[0m\n\u001b[0m\u001b[1;32m    454\u001b[0m             \u001b[0;32mif\u001b[0m \u001b[0mstatus\u001b[0m \u001b[0;34m!=\u001b[0m \u001b[0mCONTINUE\u001b[0m\u001b[0;34m:\u001b[0m\u001b[0;34m\u001b[0m\u001b[0m\n\u001b[1;32m    455\u001b[0m                 \u001b[0;32mbreak\u001b[0m\u001b[0;34m\u001b[0m\u001b[0m\n",
      "\u001b[0;32m//anaconda/lib/python2.7/httplib.pyc\u001b[0m in \u001b[0;36m_read_status\u001b[0;34m(self)\u001b[0m\n\u001b[1;32m    407\u001b[0m     \u001b[0;32mdef\u001b[0m \u001b[0m_read_status\u001b[0m\u001b[0;34m(\u001b[0m\u001b[0mself\u001b[0m\u001b[0;34m)\u001b[0m\u001b[0;34m:\u001b[0m\u001b[0;34m\u001b[0m\u001b[0m\n\u001b[1;32m    408\u001b[0m         \u001b[0;31m# Initialize with Simple-Response defaults\u001b[0m\u001b[0;34m\u001b[0m\u001b[0;34m\u001b[0m\u001b[0m\n\u001b[0;32m--> 409\u001b[0;31m         \u001b[0mline\u001b[0m \u001b[0;34m=\u001b[0m \u001b[0mself\u001b[0m\u001b[0;34m.\u001b[0m\u001b[0mfp\u001b[0m\u001b[0;34m.\u001b[0m\u001b[0mreadline\u001b[0m\u001b[0;34m(\u001b[0m\u001b[0m_MAXLINE\u001b[0m \u001b[0;34m+\u001b[0m \u001b[0;36m1\u001b[0m\u001b[0;34m)\u001b[0m\u001b[0;34m\u001b[0m\u001b[0m\n\u001b[0m\u001b[1;32m    410\u001b[0m         \u001b[0;32mif\u001b[0m \u001b[0mlen\u001b[0m\u001b[0;34m(\u001b[0m\u001b[0mline\u001b[0m\u001b[0;34m)\u001b[0m \u001b[0;34m>\u001b[0m \u001b[0m_MAXLINE\u001b[0m\u001b[0;34m:\u001b[0m\u001b[0;34m\u001b[0m\u001b[0m\n\u001b[1;32m    411\u001b[0m             \u001b[0;32mraise\u001b[0m \u001b[0mLineTooLong\u001b[0m\u001b[0;34m(\u001b[0m\u001b[0;34m\"header line\"\u001b[0m\u001b[0;34m)\u001b[0m\u001b[0;34m\u001b[0m\u001b[0m\n",
      "\u001b[0;32m//anaconda/lib/python2.7/socket.pyc\u001b[0m in \u001b[0;36mreadline\u001b[0;34m(self, size)\u001b[0m\n\u001b[1;32m    478\u001b[0m             \u001b[0;32mwhile\u001b[0m \u001b[0mTrue\u001b[0m\u001b[0;34m:\u001b[0m\u001b[0;34m\u001b[0m\u001b[0m\n\u001b[1;32m    479\u001b[0m                 \u001b[0;32mtry\u001b[0m\u001b[0;34m:\u001b[0m\u001b[0;34m\u001b[0m\u001b[0m\n\u001b[0;32m--> 480\u001b[0;31m                     \u001b[0mdata\u001b[0m \u001b[0;34m=\u001b[0m \u001b[0mself\u001b[0m\u001b[0;34m.\u001b[0m\u001b[0m_sock\u001b[0m\u001b[0;34m.\u001b[0m\u001b[0mrecv\u001b[0m\u001b[0;34m(\u001b[0m\u001b[0mself\u001b[0m\u001b[0;34m.\u001b[0m\u001b[0m_rbufsize\u001b[0m\u001b[0;34m)\u001b[0m\u001b[0;34m\u001b[0m\u001b[0m\n\u001b[0m\u001b[1;32m    481\u001b[0m                 \u001b[0;32mexcept\u001b[0m \u001b[0merror\u001b[0m\u001b[0;34m,\u001b[0m \u001b[0me\u001b[0m\u001b[0;34m:\u001b[0m\u001b[0;34m\u001b[0m\u001b[0m\n\u001b[1;32m    482\u001b[0m                     \u001b[0;32mif\u001b[0m \u001b[0me\u001b[0m\u001b[0;34m.\u001b[0m\u001b[0margs\u001b[0m\u001b[0;34m[\u001b[0m\u001b[0;36m0\u001b[0m\u001b[0;34m]\u001b[0m \u001b[0;34m==\u001b[0m \u001b[0mEINTR\u001b[0m\u001b[0;34m:\u001b[0m\u001b[0;34m\u001b[0m\u001b[0m\n",
      "\u001b[0;31merror\u001b[0m: [Errno 60] Operation timed out"
     ]
    }
   ],
   "source": [
    "i = 643\n",
    "for link in dining_chair_links[643:]:\n",
    "    product_dict = wayfair_product_info_scrapper(link, category_input='dining_chair')\n",
    "    df_product = pd.DataFrame([product_dict], index=[i])\n",
    "    dining_chair_df = pd.concat([dining_chair_df, df_product], axis=0)\n",
    "    i += 1\n",
    "    if i % 20 == 0:\n",
    "        print i"
   ]
  },
  {
   "cell_type": "code",
   "execution_count": 540,
   "metadata": {
    "collapsed": false
   },
   "outputs": [
    {
     "name": "stdout",
     "output_type": "stream",
     "text": [
      "<class 'pandas.core.frame.DataFrame'>\n",
      "Int64Index: 940 entries, 0 to 939\n",
      "Data columns (total 15 columns):\n",
      "category                940 non-null object\n",
      "colors                  940 non-null object\n",
      "description             719 non-null object\n",
      "features                940 non-null object\n",
      "image_links_all         940 non-null object\n",
      "image_links_by_color    940 non-null object\n",
      "manufacturer            940 non-null object\n",
      "price                   940 non-null object\n",
      "product_id              940 non-null object\n",
      "rating_avg              841 non-null object\n",
      "rating_count            841 non-null object\n",
      "specs                   939 non-null object\n",
      "title                   940 non-null object\n",
      "url                     940 non-null object\n",
      "website                 940 non-null object\n",
      "dtypes: object(15)\n",
      "memory usage: 117.5+ KB\n"
     ]
    }
   ],
   "source": [
    "dining_chair_df.info()"
   ]
  },
  {
   "cell_type": "code",
   "execution_count": 541,
   "metadata": {
    "collapsed": false
   },
   "outputs": [
    {
     "name": "stdout",
     "output_type": "stream",
     "text": [
      "960\n",
      "980\n",
      "1000\n"
     ]
    }
   ],
   "source": [
    "i = 940\n",
    "for link in dining_chair_links[940:]:\n",
    "    product_dict = wayfair_product_info_scrapper(link, category_input='dining_chair')\n",
    "    df_product = pd.DataFrame([product_dict], index=[i])\n",
    "    dining_chair_df = pd.concat([dining_chair_df, df_product], axis=0)\n",
    "    i += 1\n",
    "    if i % 20 == 0:\n",
    "        print i"
   ]
  },
  {
   "cell_type": "code",
   "execution_count": 542,
   "metadata": {
    "collapsed": true
   },
   "outputs": [],
   "source": [
    "dining_chair_df.to_json('wayfair/dining_chair.json')"
   ]
  },
  {
   "cell_type": "code",
   "execution_count": 543,
   "metadata": {
    "collapsed": false
   },
   "outputs": [
    {
     "data": {
      "text/plain": [
       "'Mon Sep 21 20:18:21 2015'"
      ]
     },
     "execution_count": 543,
     "metadata": {},
     "output_type": "execute_result"
    }
   ],
   "source": [
    "time.ctime(time.time())"
   ]
  },
  {
   "cell_type": "code",
   "execution_count": 544,
   "metadata": {
    "collapsed": false
   },
   "outputs": [
    {
     "name": "stdout",
     "output_type": "stream",
     "text": [
      "<class 'pandas.core.frame.DataFrame'>\n",
      "Int64Index: 1008 entries, 0 to 1007\n",
      "Data columns (total 15 columns):\n",
      "category                1008 non-null object\n",
      "colors                  1008 non-null object\n",
      "description             761 non-null object\n",
      "features                1008 non-null object\n",
      "image_links_all         1008 non-null object\n",
      "image_links_by_color    1008 non-null object\n",
      "manufacturer            1008 non-null object\n",
      "price                   1008 non-null object\n",
      "product_id              1008 non-null object\n",
      "rating_avg              895 non-null object\n",
      "rating_count            895 non-null object\n",
      "specs                   1007 non-null object\n",
      "title                   1008 non-null object\n",
      "url                     1008 non-null object\n",
      "website                 1008 non-null object\n",
      "dtypes: object(15)\n",
      "memory usage: 126.0+ KB\n"
     ]
    }
   ],
   "source": [
    "dining_chair_df.info()"
   ]
  },
  {
   "cell_type": "code",
   "execution_count": 545,
   "metadata": {
    "collapsed": false
   },
   "outputs": [
    {
     "data": {
      "text/plain": [
       "(2, 15)"
      ]
     },
     "execution_count": 545,
     "metadata": {},
     "output_type": "execute_result"
    }
   ],
   "source": [
    "dining_chair_df[dining_chair_df['features'].apply(lambda x:len(x) == 0)].shape"
   ]
  },
  {
   "cell_type": "markdown",
   "metadata": {},
   "source": [
    "# Beds"
   ]
  },
  {
   "cell_type": "code",
   "execution_count": 546,
   "metadata": {
    "collapsed": false
   },
   "outputs": [
    {
     "data": {
      "text/plain": [
       "'Mon Sep 21 20:21:23 2015'"
      ]
     },
     "execution_count": 546,
     "metadata": {},
     "output_type": "execute_result"
    }
   ],
   "source": [
    "time.ctime(time.time())"
   ]
  },
  {
   "cell_type": "code",
   "execution_count": 547,
   "metadata": {
    "collapsed": false
   },
   "outputs": [
    {
     "name": "stdout",
     "output_type": "stream",
     "text": [
      "1008\n",
      "  category colors description features  \\\n",
      "0      bed     []        None       []   \n",
      "\n",
      "                                     image_links_all image_links_by_color  \\\n",
      "0  [https://secure.img2.wfrcdn.com/lf/49/hash/309...                   {}   \n",
      "\n",
      "  manufacturer    price product_id rating_avg rating_count specs  \\\n",
      "0  Three Posts  $274.99   THRE1784        4.3           90  None   \n",
      "\n",
      "                        title  \\\n",
      "0  Allington Queen Sleigh Bed   \n",
      "\n",
      "                                                 url  website  \n",
      "0  http://www.wayfair.com/Allington-Queen-Sleigh-...  wayfair  \n",
      "20\n",
      "40\n",
      "60\n",
      "80\n",
      "100\n",
      "120\n",
      "140\n",
      "160\n",
      "180\n",
      "200\n",
      "220\n",
      "240\n",
      "260\n",
      "280\n",
      "300\n",
      "320\n",
      "340\n",
      "360\n",
      "380\n",
      "400\n",
      "420\n",
      "440\n",
      "460\n",
      "480\n",
      "500\n",
      "520\n",
      "540\n",
      "560\n",
      "580\n",
      "600\n",
      "620\n",
      "640\n",
      "660\n",
      "680\n",
      "700\n",
      "720\n",
      "740\n",
      "760\n",
      "780\n",
      "800\n",
      "820\n",
      "840\n",
      "860\n",
      "880\n",
      "900\n",
      "920\n",
      "940\n",
      "960\n",
      "980\n",
      "1000\n"
     ]
    }
   ],
   "source": [
    "bed_links = get_wayfair_product_links(bed_index, num_pages=21)\n",
    "print len(bed_links)\n",
    "link_0 = bed_links[0]\n",
    "dict_0 = wayfair_product_info_scrapper(link_0, category_input= 'bed')\n",
    "bed_df = pd.DataFrame([dict_0], index=[0])\n",
    "print bed_df\n",
    "i = 1\n",
    "for link in bed_links[1:]:\n",
    "    product_dict = wayfair_product_info_scrapper(link, category_input='bed')\n",
    "    df_product = pd.DataFrame([product_dict], index=[i])\n",
    "    bed_df = pd.concat([bed_df, df_product], axis=0)\n",
    "    i += 1\n",
    "    if i % 20 == 0:\n",
    "        print i"
   ]
  },
  {
   "cell_type": "code",
   "execution_count": 548,
   "metadata": {
    "collapsed": true
   },
   "outputs": [],
   "source": [
    "bed_df.to_json('wayfair/bed.json')"
   ]
  },
  {
   "cell_type": "code",
   "execution_count": 549,
   "metadata": {
    "collapsed": false
   },
   "outputs": [
    {
     "data": {
      "text/plain": [
       "'Mon Sep 21 21:09:56 2015'"
      ]
     },
     "execution_count": 549,
     "metadata": {},
     "output_type": "execute_result"
    }
   ],
   "source": [
    "time.ctime(time.time())"
   ]
  },
  {
   "cell_type": "code",
   "execution_count": 550,
   "metadata": {
    "collapsed": false
   },
   "outputs": [
    {
     "name": "stdout",
     "output_type": "stream",
     "text": [
      "<class 'pandas.core.frame.DataFrame'>\n",
      "Int64Index: 1008 entries, 0 to 1007\n",
      "Data columns (total 15 columns):\n",
      "category                1008 non-null object\n",
      "colors                  1008 non-null object\n",
      "description             706 non-null object\n",
      "features                1008 non-null object\n",
      "image_links_all         1008 non-null object\n",
      "image_links_by_color    1008 non-null object\n",
      "manufacturer            1008 non-null object\n",
      "price                   1008 non-null object\n",
      "product_id              1008 non-null object\n",
      "rating_avg              895 non-null object\n",
      "rating_count            895 non-null object\n",
      "specs                   825 non-null object\n",
      "title                   1008 non-null object\n",
      "url                     1008 non-null object\n",
      "website                 1008 non-null object\n",
      "dtypes: object(15)\n",
      "memory usage: 126.0+ KB\n"
     ]
    }
   ],
   "source": [
    "bed_df.info()"
   ]
  },
  {
   "cell_type": "code",
   "execution_count": 552,
   "metadata": {
    "collapsed": false
   },
   "outputs": [
    {
     "data": {
      "text/html": [
       "<div>\n",
       "<table border=\"1\" class=\"dataframe\">\n",
       "  <thead>\n",
       "    <tr style=\"text-align: right;\">\n",
       "      <th></th>\n",
       "      <th>category</th>\n",
       "      <th>colors</th>\n",
       "      <th>description</th>\n",
       "      <th>features</th>\n",
       "      <th>image_links_all</th>\n",
       "      <th>image_links_by_color</th>\n",
       "      <th>manufacturer</th>\n",
       "      <th>price</th>\n",
       "      <th>product_id</th>\n",
       "      <th>rating_avg</th>\n",
       "      <th>rating_count</th>\n",
       "      <th>specs</th>\n",
       "      <th>title</th>\n",
       "      <th>url</th>\n",
       "      <th>website</th>\n",
       "    </tr>\n",
       "  </thead>\n",
       "  <tbody>\n",
       "    <tr>\n",
       "      <th>1003</th>\n",
       "      <td>bed</td>\n",
       "      <td>[]</td>\n",
       "      <td>Featuring a contemporary look with plenty of c...</td>\n",
       "      <td>[\\nFeatures\\n\\nGloria collection\\nChocolate fi...</td>\n",
       "      <td>[https://secure.img2.wfrcdn.com/lf/49/hash/244...</td>\n",
       "      <td>{}</td>\n",
       "      <td>South Shore</td>\n",
       "      <td>$190.68</td>\n",
       "      <td>TH3850</td>\n",
       "      <td>4.5</td>\n",
       "      <td>2</td>\n",
       "      <td>\\nWeights &amp; Dimensions\\n\\n\\n\\n            Over...</td>\n",
       "      <td>Gloria Queen Platform Bed</td>\n",
       "      <td>http://www.wayfair.com/South-Shore-Gloria-Quee...</td>\n",
       "      <td>wayfair</td>\n",
       "    </tr>\n",
       "    <tr>\n",
       "      <th>1004</th>\n",
       "      <td>bed</td>\n",
       "      <td>[Grey, Ivory, Smoke]</td>\n",
       "      <td>Add a new twist on classic decor with the Clav...</td>\n",
       "      <td>[\\nFeatures\\n\\nModern style\\nSolid wood and pl...</td>\n",
       "      <td>[https://secure.img1.wfrcdn.com/lf/49/hash/192...</td>\n",
       "      <td>{u'Ivory': [u'https://secure.img2.wfrcdn.com/l...</td>\n",
       "      <td>Modway</td>\n",
       "      <td>$709.99</td>\n",
       "      <td>FOW2520</td>\n",
       "      <td>None</td>\n",
       "      <td>None</td>\n",
       "      <td>\\nWeights &amp; Dimensions\\n\\n\\n\\n            Over...</td>\n",
       "      <td>Clavier Queen Platform Bed</td>\n",
       "      <td>http://www.wayfair.com/Clavier-Queen-Platform-...</td>\n",
       "      <td>wayfair</td>\n",
       "    </tr>\n",
       "    <tr>\n",
       "      <th>1005</th>\n",
       "      <td>bed</td>\n",
       "      <td>[Cappuccino, Cherry]</td>\n",
       "      <td>None</td>\n",
       "      <td>[\\nFeatures\\n\\nDove tailed drawers\\n\\n, \\nProd...</td>\n",
       "      <td>[https://secure.img1.wfrcdn.com/lf/49/hash/323...</td>\n",
       "      <td>{u'Cherry': [u'https://secure.img1.wfrcdn.com/...</td>\n",
       "      <td>Glory Furniture</td>\n",
       "      <td>$899.99</td>\n",
       "      <td>JLDQ1061</td>\n",
       "      <td>4.0</td>\n",
       "      <td>1</td>\n",
       "      <td>\\nWeights &amp; Dimensions\\nQueen Size\\n\\n\\n      ...</td>\n",
       "      <td>Storage Panel Bed</td>\n",
       "      <td>http://www.wayfair.com/Glory-Furniture-Storage...</td>\n",
       "      <td>wayfair</td>\n",
       "    </tr>\n",
       "    <tr>\n",
       "      <th>1006</th>\n",
       "      <td>bed</td>\n",
       "      <td>[]</td>\n",
       "      <td>The Urban Loft collection is designed to bring...</td>\n",
       "      <td>[\\nFeatures\\n\\nSanded &amp; stained solid wood dra...</td>\n",
       "      <td>[https://secure.img2.wfrcdn.com/lf/49/hash/210...</td>\n",
       "      <td>{}</td>\n",
       "      <td>Modus</td>\n",
       "      <td>$819.99</td>\n",
       "      <td>MO3456</td>\n",
       "      <td>4.4</td>\n",
       "      <td>5</td>\n",
       "      <td>\\nWeights &amp; Dimensions\\nFull Size\\n\\n\\n       ...</td>\n",
       "      <td>Urban Loft Storage Platform Bed</td>\n",
       "      <td>http://www.wayfair.com/Modus-Furniture-Urban-L...</td>\n",
       "      <td>wayfair</td>\n",
       "    </tr>\n",
       "    <tr>\n",
       "      <th>1007</th>\n",
       "      <td>bed</td>\n",
       "      <td>[]</td>\n",
       "      <td>None</td>\n",
       "      <td>[]</td>\n",
       "      <td>[https://secure.img2.wfrcdn.com/lf/49/hash/105...</td>\n",
       "      <td>{}</td>\n",
       "      <td>Universal Furniture</td>\n",
       "      <td>$1,230.00</td>\n",
       "      <td>UNI4230</td>\n",
       "      <td>4.0</td>\n",
       "      <td>5</td>\n",
       "      <td>None</td>\n",
       "      <td>Summer Hill Upholstered Bed</td>\n",
       "      <td>http://www.wayfair.com/Summer-Hill-Woven-Accen...</td>\n",
       "      <td>wayfair</td>\n",
       "    </tr>\n",
       "  </tbody>\n",
       "</table>\n",
       "</div>"
      ],
      "text/plain": [
       "     category                colors  \\\n",
       "1003      bed                    []   \n",
       "1004      bed  [Grey, Ivory, Smoke]   \n",
       "1005      bed  [Cappuccino, Cherry]   \n",
       "1006      bed                    []   \n",
       "1007      bed                    []   \n",
       "\n",
       "                                            description  \\\n",
       "1003  Featuring a contemporary look with plenty of c...   \n",
       "1004  Add a new twist on classic decor with the Clav...   \n",
       "1005                                               None   \n",
       "1006  The Urban Loft collection is designed to bring...   \n",
       "1007                                               None   \n",
       "\n",
       "                                               features  \\\n",
       "1003  [\\nFeatures\\n\\nGloria collection\\nChocolate fi...   \n",
       "1004  [\\nFeatures\\n\\nModern style\\nSolid wood and pl...   \n",
       "1005  [\\nFeatures\\n\\nDove tailed drawers\\n\\n, \\nProd...   \n",
       "1006  [\\nFeatures\\n\\nSanded & stained solid wood dra...   \n",
       "1007                                                 []   \n",
       "\n",
       "                                        image_links_all  \\\n",
       "1003  [https://secure.img2.wfrcdn.com/lf/49/hash/244...   \n",
       "1004  [https://secure.img1.wfrcdn.com/lf/49/hash/192...   \n",
       "1005  [https://secure.img1.wfrcdn.com/lf/49/hash/323...   \n",
       "1006  [https://secure.img2.wfrcdn.com/lf/49/hash/210...   \n",
       "1007  [https://secure.img2.wfrcdn.com/lf/49/hash/105...   \n",
       "\n",
       "                                   image_links_by_color         manufacturer  \\\n",
       "1003                                                 {}          South Shore   \n",
       "1004  {u'Ivory': [u'https://secure.img2.wfrcdn.com/l...               Modway   \n",
       "1005  {u'Cherry': [u'https://secure.img1.wfrcdn.com/...      Glory Furniture   \n",
       "1006                                                 {}                Modus   \n",
       "1007                                                 {}  Universal Furniture   \n",
       "\n",
       "          price product_id rating_avg rating_count  \\\n",
       "1003    $190.68     TH3850        4.5            2   \n",
       "1004    $709.99    FOW2520       None         None   \n",
       "1005    $899.99   JLDQ1061        4.0            1   \n",
       "1006    $819.99     MO3456        4.4            5   \n",
       "1007  $1,230.00    UNI4230        4.0            5   \n",
       "\n",
       "                                                  specs  \\\n",
       "1003  \\nWeights & Dimensions\\n\\n\\n\\n            Over...   \n",
       "1004  \\nWeights & Dimensions\\n\\n\\n\\n            Over...   \n",
       "1005  \\nWeights & Dimensions\\nQueen Size\\n\\n\\n      ...   \n",
       "1006  \\nWeights & Dimensions\\nFull Size\\n\\n\\n       ...   \n",
       "1007                                               None   \n",
       "\n",
       "                                title  \\\n",
       "1003        Gloria Queen Platform Bed   \n",
       "1004       Clavier Queen Platform Bed   \n",
       "1005                Storage Panel Bed   \n",
       "1006  Urban Loft Storage Platform Bed   \n",
       "1007      Summer Hill Upholstered Bed   \n",
       "\n",
       "                                                    url  website  \n",
       "1003  http://www.wayfair.com/South-Shore-Gloria-Quee...  wayfair  \n",
       "1004  http://www.wayfair.com/Clavier-Queen-Platform-...  wayfair  \n",
       "1005  http://www.wayfair.com/Glory-Furniture-Storage...  wayfair  \n",
       "1006  http://www.wayfair.com/Modus-Furniture-Urban-L...  wayfair  \n",
       "1007  http://www.wayfair.com/Summer-Hill-Woven-Accen...  wayfair  "
      ]
     },
     "execution_count": 552,
     "metadata": {},
     "output_type": "execute_result"
    }
   ],
   "source": [
    "bed_df.tail()"
   ]
  },
  {
   "cell_type": "code",
   "execution_count": 553,
   "metadata": {
    "collapsed": false
   },
   "outputs": [
    {
     "data": {
      "text/plain": [
       "(171, 15)"
      ]
     },
     "execution_count": 553,
     "metadata": {},
     "output_type": "execute_result"
    }
   ],
   "source": [
    "bed_df[bed_df['features'].apply(lambda x:len(x) == 0)].shape"
   ]
  },
  {
   "cell_type": "code",
   "execution_count": 556,
   "metadata": {
    "collapsed": false
   },
   "outputs": [
    {
     "data": {
      "text/plain": [
       "u'http://www.wayfair.com/Allington-Queen-Sleigh-Bed-THRE1784-THRE1784.html'"
      ]
     },
     "execution_count": 556,
     "metadata": {},
     "output_type": "execute_result"
    }
   ],
   "source": [
    "bed_df.iloc[0,:].url"
   ]
  },
  {
   "cell_type": "markdown",
   "metadata": {},
   "source": [
    "## No description & features?? The webpage has both.......Check later!"
   ]
  },
  {
   "cell_type": "code",
   "execution_count": 557,
   "metadata": {
    "collapsed": false
   },
   "outputs": [
    {
     "data": {
      "text/plain": [
       "{'category': 'bed',\n",
       " 'colors': [],\n",
       " 'description': None,\n",
       " 'features': [],\n",
       " 'image_links_all': [u'https://secure.img2.wfrcdn.com/lf/49/hash/30973/15964333/1/Allington%2BQueen%2BSleigh%2BBed.jpg',\n",
       "  u'https://secure.img1.wfrcdn.com/lf/49/hash/30973/15964310/1/Allington%2BQueen%2BSleigh%2BBed.jpg',\n",
       "  u'https://secure.img2.wfrcdn.com/lf/49/hash/30973/15964343/1/Allington%2BQueen%2BSleigh%2BBed.jpg',\n",
       "  u'https://secure.img1.wfrcdn.com/lf/49/hash/30973/15964322/1/Allington%2BQueen%2BSleigh%2BBed.jpg',\n",
       "  u'https://secure.img2.wfrcdn.com/lf/49/hash/30973/15964471/1/Allington%2BQueen%2BSleigh%2BBed.jpg',\n",
       "  u'https://secure.img2.wfrcdn.com/lf/49/hash/30973/15879195/1/Allington-Queen-Sleigh-Bed-THRE1784.jpg',\n",
       "  u'https://secure.img1.wfrcdn.com/lf/49/hash/30973/18060464/1/Allington-Queen-Sleigh-Bed-THRE1784.jpg',\n",
       "  u'https://secure.img1.wfrcdn.com/lf/49/hash/30973/15964300/1/Allington%2BQueen%2BSleigh%2BBed.jpg',\n",
       "  u'https://secure.img1.wfrcdn.com/lf/49/hash/30973/15964348/1/Allington%2BQueen%2BSleigh%2BBed.jpg'],\n",
       " 'image_links_by_color': {},\n",
       " 'manufacturer': u'Three Posts',\n",
       " 'price': u'$274.99',\n",
       " 'product_id': u' THRE1784',\n",
       " 'rating_avg': u'4.3',\n",
       " 'rating_count': u'90',\n",
       " 'specs': None,\n",
       " 'title': u'Allington Queen Sleigh Bed',\n",
       " 'url': u'http://www.wayfair.com/Allington-Queen-Sleigh-Bed-THRE1784-THRE1784.html',\n",
       " 'website': 'wayfair'}"
      ]
     },
     "execution_count": 557,
     "metadata": {},
     "output_type": "execute_result"
    }
   ],
   "source": [
    "wayfair_product_info_scrapper(bed_df.iloc[0,:].url, 'bed')"
   ]
  },
  {
   "cell_type": "markdown",
   "metadata": {},
   "source": [
    "# Nightstands"
   ]
  },
  {
   "cell_type": "code",
   "execution_count": 558,
   "metadata": {
    "collapsed": false
   },
   "outputs": [
    {
     "data": {
      "text/plain": [
       "'Mon Sep 21 21:40:47 2015'"
      ]
     },
     "execution_count": 558,
     "metadata": {},
     "output_type": "execute_result"
    }
   ],
   "source": [
    "time.ctime(time.time())"
   ]
  },
  {
   "cell_type": "code",
   "execution_count": 559,
   "metadata": {
    "collapsed": false
   },
   "outputs": [
    {
     "name": "stdout",
     "output_type": "stream",
     "text": [
      "1008\n",
      "     category colors                                        description  \\\n",
      "0  nightstand     []  The Braxton Two-Drawer Nightstand brings an el...   \n",
      "\n",
      "                                            features  \\\n",
      "0  [\\nFeatures\\n\\nGlossy black finish \\nTwo full-...   \n",
      "\n",
      "                                     image_links_all image_links_by_color  \\\n",
      "0  [https://secure.img2.wfrcdn.com/lf/49/hash/232...                   {}   \n",
      "\n",
      "    manufacturer    price product_id rating_avg rating_count  \\\n",
      "0  Andover Mills  $134.99   ANDO1289        3.9           10   \n",
      "\n",
      "                                               specs  \\\n",
      "0  \\nWeights & Dimensions\\n\\n\\n\\n            Over...   \n",
      "\n",
      "                         title  \\\n",
      "0  Braxton 2 Drawer Nightstand   \n",
      "\n",
      "                                                 url  website  \n",
      "0  http://www.wayfair.com/Braxton-Two-Drawer-Nigh...  wayfair  \n",
      "20\n",
      "40\n",
      "60\n",
      "80\n",
      "100\n",
      "120\n",
      "140\n",
      "160\n",
      "180\n",
      "200\n",
      "220\n",
      "240\n",
      "260\n",
      "280\n",
      "300\n",
      "320\n",
      "340\n",
      "360\n",
      "380\n",
      "400\n",
      "420\n",
      "440\n",
      "460\n",
      "480\n",
      "500\n",
      "520\n",
      "540\n",
      "560\n"
     ]
    },
    {
     "ename": "IncompleteRead",
     "evalue": "IncompleteRead(3374 bytes read)",
     "output_type": "error",
     "traceback": [
      "\u001b[0;31m---------------------------------------------------------------------------\u001b[0m",
      "\u001b[0;31mIncompleteRead\u001b[0m                            Traceback (most recent call last)",
      "\u001b[0;32m<ipython-input-559-5f3665a59226>\u001b[0m in \u001b[0;36m<module>\u001b[0;34m()\u001b[0m\n\u001b[1;32m      7\u001b[0m \u001b[0mi\u001b[0m \u001b[0;34m=\u001b[0m \u001b[0;36m1\u001b[0m\u001b[0;34m\u001b[0m\u001b[0m\n\u001b[1;32m      8\u001b[0m \u001b[0;32mfor\u001b[0m \u001b[0mlink\u001b[0m \u001b[0;32min\u001b[0m \u001b[0mnightstand_links\u001b[0m\u001b[0;34m[\u001b[0m\u001b[0;36m1\u001b[0m\u001b[0;34m:\u001b[0m\u001b[0;34m]\u001b[0m\u001b[0;34m:\u001b[0m\u001b[0;34m\u001b[0m\u001b[0m\n\u001b[0;32m----> 9\u001b[0;31m     \u001b[0mproduct_dict\u001b[0m \u001b[0;34m=\u001b[0m \u001b[0mwayfair_product_info_scrapper\u001b[0m\u001b[0;34m(\u001b[0m\u001b[0mlink\u001b[0m\u001b[0;34m,\u001b[0m \u001b[0mcategory_input\u001b[0m\u001b[0;34m=\u001b[0m\u001b[0;34m'nightstand'\u001b[0m\u001b[0;34m)\u001b[0m\u001b[0;34m\u001b[0m\u001b[0m\n\u001b[0m\u001b[1;32m     10\u001b[0m     \u001b[0mdf_product\u001b[0m \u001b[0;34m=\u001b[0m \u001b[0mpd\u001b[0m\u001b[0;34m.\u001b[0m\u001b[0mDataFrame\u001b[0m\u001b[0;34m(\u001b[0m\u001b[0;34m[\u001b[0m\u001b[0mproduct_dict\u001b[0m\u001b[0;34m]\u001b[0m\u001b[0;34m,\u001b[0m \u001b[0mindex\u001b[0m\u001b[0;34m=\u001b[0m\u001b[0;34m[\u001b[0m\u001b[0mi\u001b[0m\u001b[0;34m]\u001b[0m\u001b[0;34m)\u001b[0m\u001b[0;34m\u001b[0m\u001b[0m\n\u001b[1;32m     11\u001b[0m     \u001b[0mnightstand_df\u001b[0m \u001b[0;34m=\u001b[0m \u001b[0mpd\u001b[0m\u001b[0;34m.\u001b[0m\u001b[0mconcat\u001b[0m\u001b[0;34m(\u001b[0m\u001b[0;34m[\u001b[0m\u001b[0mnightstand_df\u001b[0m\u001b[0;34m,\u001b[0m \u001b[0mdf_product\u001b[0m\u001b[0;34m]\u001b[0m\u001b[0;34m,\u001b[0m \u001b[0maxis\u001b[0m\u001b[0;34m=\u001b[0m\u001b[0;36m0\u001b[0m\u001b[0;34m)\u001b[0m\u001b[0;34m\u001b[0m\u001b[0m\n",
      "\u001b[0;32m<ipython-input-488-95e4aa27a703>\u001b[0m in \u001b[0;36mwayfair_product_info_scrapper\u001b[0;34m(link, category_input)\u001b[0m\n\u001b[1;32m     82\u001b[0m             \u001b[0mlink_color\u001b[0m \u001b[0;34m=\u001b[0m \u001b[0mlink\u001b[0m \u001b[0;34m+\u001b[0m \u001b[0mcolor_link\u001b[0m\u001b[0;34m\u001b[0m\u001b[0m\n\u001b[1;32m     83\u001b[0m             \u001b[0mhtml_color\u001b[0m  \u001b[0;34m=\u001b[0m \u001b[0murlopen\u001b[0m\u001b[0;34m(\u001b[0m\u001b[0mlink_color\u001b[0m\u001b[0;34m,\u001b[0m \u001b[0mtimeout\u001b[0m\u001b[0;34m=\u001b[0m\u001b[0;36m100\u001b[0m\u001b[0;34m)\u001b[0m\u001b[0;34m\u001b[0m\u001b[0m\n\u001b[0;32m---> 84\u001b[0;31m             \u001b[0msoup_color\u001b[0m \u001b[0;34m=\u001b[0m \u001b[0mBeautifulSoup\u001b[0m\u001b[0;34m(\u001b[0m\u001b[0mhtml_color\u001b[0m\u001b[0;34m,\u001b[0m \u001b[0;34m'html.parser'\u001b[0m\u001b[0;34m)\u001b[0m\u001b[0;34m\u001b[0m\u001b[0m\n\u001b[0m\u001b[1;32m     85\u001b[0m             \u001b[0mimage_info_color\u001b[0m \u001b[0;34m=\u001b[0m \u001b[0msoup_color\u001b[0m\u001b[0;34m.\u001b[0m\u001b[0mfindAll\u001b[0m\u001b[0;34m(\u001b[0m\u001b[0;34m'a'\u001b[0m\u001b[0;34m,\u001b[0m \u001b[0;34m{\u001b[0m\u001b[0;34m'class'\u001b[0m\u001b[0;34m:\u001b[0m \u001b[0;34m'photoswipe_link'\u001b[0m\u001b[0;34m}\u001b[0m\u001b[0;34m)\u001b[0m\u001b[0;34m\u001b[0m\u001b[0m\n\u001b[1;32m     86\u001b[0m             \u001b[0mimage_links_color\u001b[0m \u001b[0;34m=\u001b[0m \u001b[0;34m[\u001b[0m\u001b[0mx\u001b[0m\u001b[0;34m[\u001b[0m\u001b[0;34m'data-original-src'\u001b[0m\u001b[0;34m]\u001b[0m \u001b[0;32mfor\u001b[0m \u001b[0mx\u001b[0m \u001b[0;32min\u001b[0m \u001b[0mimage_info_color\u001b[0m\u001b[0;34m]\u001b[0m\u001b[0;34m\u001b[0m\u001b[0m\n",
      "\u001b[0;32m//anaconda/lib/python2.7/site-packages/bs4/__init__.pyc\u001b[0m in \u001b[0;36m__init__\u001b[0;34m(self, markup, features, builder, parse_only, from_encoding, **kwargs)\u001b[0m\n\u001b[1;32m    159\u001b[0m \u001b[0;34m\u001b[0m\u001b[0m\n\u001b[1;32m    160\u001b[0m         \u001b[0;32mif\u001b[0m \u001b[0mhasattr\u001b[0m\u001b[0;34m(\u001b[0m\u001b[0mmarkup\u001b[0m\u001b[0;34m,\u001b[0m \u001b[0;34m'read'\u001b[0m\u001b[0;34m)\u001b[0m\u001b[0;34m:\u001b[0m        \u001b[0;31m# It's a file-type object.\u001b[0m\u001b[0;34m\u001b[0m\u001b[0m\n\u001b[0;32m--> 161\u001b[0;31m             \u001b[0mmarkup\u001b[0m \u001b[0;34m=\u001b[0m \u001b[0mmarkup\u001b[0m\u001b[0;34m.\u001b[0m\u001b[0mread\u001b[0m\u001b[0;34m(\u001b[0m\u001b[0;34m)\u001b[0m\u001b[0;34m\u001b[0m\u001b[0m\n\u001b[0m\u001b[1;32m    162\u001b[0m         \u001b[0;32melif\u001b[0m \u001b[0mlen\u001b[0m\u001b[0;34m(\u001b[0m\u001b[0mmarkup\u001b[0m\u001b[0;34m)\u001b[0m \u001b[0;34m<=\u001b[0m \u001b[0;36m256\u001b[0m\u001b[0;34m:\u001b[0m\u001b[0;34m\u001b[0m\u001b[0m\n\u001b[1;32m    163\u001b[0m             \u001b[0;31m# Print out warnings for a couple beginner problems\u001b[0m\u001b[0;34m\u001b[0m\u001b[0;34m\u001b[0m\u001b[0m\n",
      "\u001b[0;32m//anaconda/lib/python2.7/socket.pyc\u001b[0m in \u001b[0;36mread\u001b[0;34m(self, size)\u001b[0m\n\u001b[1;32m    353\u001b[0m             \u001b[0;32mwhile\u001b[0m \u001b[0mTrue\u001b[0m\u001b[0;34m:\u001b[0m\u001b[0;34m\u001b[0m\u001b[0m\n\u001b[1;32m    354\u001b[0m                 \u001b[0;32mtry\u001b[0m\u001b[0;34m:\u001b[0m\u001b[0;34m\u001b[0m\u001b[0m\n\u001b[0;32m--> 355\u001b[0;31m                     \u001b[0mdata\u001b[0m \u001b[0;34m=\u001b[0m \u001b[0mself\u001b[0m\u001b[0;34m.\u001b[0m\u001b[0m_sock\u001b[0m\u001b[0;34m.\u001b[0m\u001b[0mrecv\u001b[0m\u001b[0;34m(\u001b[0m\u001b[0mrbufsize\u001b[0m\u001b[0;34m)\u001b[0m\u001b[0;34m\u001b[0m\u001b[0m\n\u001b[0m\u001b[1;32m    356\u001b[0m                 \u001b[0;32mexcept\u001b[0m \u001b[0merror\u001b[0m\u001b[0;34m,\u001b[0m \u001b[0me\u001b[0m\u001b[0;34m:\u001b[0m\u001b[0;34m\u001b[0m\u001b[0m\n\u001b[1;32m    357\u001b[0m                     \u001b[0;32mif\u001b[0m \u001b[0me\u001b[0m\u001b[0;34m.\u001b[0m\u001b[0margs\u001b[0m\u001b[0;34m[\u001b[0m\u001b[0;36m0\u001b[0m\u001b[0;34m]\u001b[0m \u001b[0;34m==\u001b[0m \u001b[0mEINTR\u001b[0m\u001b[0;34m:\u001b[0m\u001b[0;34m\u001b[0m\u001b[0m\n",
      "\u001b[0;32m//anaconda/lib/python2.7/httplib.pyc\u001b[0m in \u001b[0;36mread\u001b[0;34m(self, amt)\u001b[0m\n\u001b[1;32m    586\u001b[0m \u001b[0;34m\u001b[0m\u001b[0m\n\u001b[1;32m    587\u001b[0m         \u001b[0;32mif\u001b[0m \u001b[0mself\u001b[0m\u001b[0;34m.\u001b[0m\u001b[0mchunked\u001b[0m\u001b[0;34m:\u001b[0m\u001b[0;34m\u001b[0m\u001b[0m\n\u001b[0;32m--> 588\u001b[0;31m             \u001b[0;32mreturn\u001b[0m \u001b[0mself\u001b[0m\u001b[0;34m.\u001b[0m\u001b[0m_read_chunked\u001b[0m\u001b[0;34m(\u001b[0m\u001b[0mamt\u001b[0m\u001b[0;34m)\u001b[0m\u001b[0;34m\u001b[0m\u001b[0m\n\u001b[0m\u001b[1;32m    589\u001b[0m \u001b[0;34m\u001b[0m\u001b[0m\n\u001b[1;32m    590\u001b[0m         \u001b[0;32mif\u001b[0m \u001b[0mamt\u001b[0m \u001b[0;32mis\u001b[0m \u001b[0mNone\u001b[0m\u001b[0;34m:\u001b[0m\u001b[0;34m\u001b[0m\u001b[0m\n",
      "\u001b[0;32m//anaconda/lib/python2.7/httplib.pyc\u001b[0m in \u001b[0;36m_read_chunked\u001b[0;34m(self, amt)\u001b[0m\n\u001b[1;32m    640\u001b[0m                     \u001b[0;31m# probably lost\u001b[0m\u001b[0;34m\u001b[0m\u001b[0;34m\u001b[0m\u001b[0m\n\u001b[1;32m    641\u001b[0m                     \u001b[0mself\u001b[0m\u001b[0;34m.\u001b[0m\u001b[0mclose\u001b[0m\u001b[0;34m(\u001b[0m\u001b[0;34m)\u001b[0m\u001b[0;34m\u001b[0m\u001b[0m\n\u001b[0;32m--> 642\u001b[0;31m                     \u001b[0;32mraise\u001b[0m \u001b[0mIncompleteRead\u001b[0m\u001b[0;34m(\u001b[0m\u001b[0;34m''\u001b[0m\u001b[0;34m.\u001b[0m\u001b[0mjoin\u001b[0m\u001b[0;34m(\u001b[0m\u001b[0mvalue\u001b[0m\u001b[0;34m)\u001b[0m\u001b[0;34m)\u001b[0m\u001b[0;34m\u001b[0m\u001b[0m\n\u001b[0m\u001b[1;32m    643\u001b[0m                 \u001b[0;32mif\u001b[0m \u001b[0mchunk_left\u001b[0m \u001b[0;34m==\u001b[0m \u001b[0;36m0\u001b[0m\u001b[0;34m:\u001b[0m\u001b[0;34m\u001b[0m\u001b[0m\n\u001b[1;32m    644\u001b[0m                     \u001b[0;32mbreak\u001b[0m\u001b[0;34m\u001b[0m\u001b[0m\n",
      "\u001b[0;31mIncompleteRead\u001b[0m: IncompleteRead(3374 bytes read)"
     ]
    }
   ],
   "source": [
    "nightstand_links = get_wayfair_product_links(nightstand_index, num_pages=21)\n",
    "print len(nightstand_links)\n",
    "link_0 = nightstand_links[0]\n",
    "dict_0 = wayfair_product_info_scrapper(link_0, category_input= 'nightstand')\n",
    "nightstand_df = pd.DataFrame([dict_0], index=[0])\n",
    "print nightstand_df\n",
    "i = 1\n",
    "for link in nightstand_links[1:]:\n",
    "    product_dict = wayfair_product_info_scrapper(link, category_input='nightstand')\n",
    "    df_product = pd.DataFrame([product_dict], index=[i])\n",
    "    nightstand_df = pd.concat([nightstand_df, df_product], axis=0)\n",
    "    i += 1\n",
    "    if i % 20 == 0:\n",
    "        print i"
   ]
  },
  {
   "cell_type": "code",
   "execution_count": 560,
   "metadata": {
    "collapsed": false
   },
   "outputs": [
    {
     "name": "stdout",
     "output_type": "stream",
     "text": [
      "<class 'pandas.core.frame.DataFrame'>\n",
      "Int64Index: 577 entries, 0 to 576\n",
      "Data columns (total 15 columns):\n",
      "category                577 non-null object\n",
      "colors                  577 non-null object\n",
      "description             445 non-null object\n",
      "features                577 non-null object\n",
      "image_links_all         577 non-null object\n",
      "image_links_by_color    577 non-null object\n",
      "manufacturer            577 non-null object\n",
      "price                   577 non-null object\n",
      "product_id              577 non-null object\n",
      "rating_avg              530 non-null object\n",
      "rating_count            530 non-null object\n",
      "specs                   577 non-null object\n",
      "title                   577 non-null object\n",
      "url                     577 non-null object\n",
      "website                 577 non-null object\n",
      "dtypes: object(15)\n",
      "memory usage: 72.1+ KB\n"
     ]
    }
   ],
   "source": [
    "nightstand_df.info()"
   ]
  },
  {
   "cell_type": "code",
   "execution_count": 561,
   "metadata": {
    "collapsed": false
   },
   "outputs": [
    {
     "name": "stdout",
     "output_type": "stream",
     "text": [
      "580\n"
     ]
    },
    {
     "ename": "timeout",
     "evalue": "timed out",
     "output_type": "error",
     "traceback": [
      "\u001b[0;31m---------------------------------------------------------------------------\u001b[0m",
      "\u001b[0;31mtimeout\u001b[0m                                   Traceback (most recent call last)",
      "\u001b[0;32m<ipython-input-561-c0277972473d>\u001b[0m in \u001b[0;36m<module>\u001b[0;34m()\u001b[0m\n\u001b[1;32m      1\u001b[0m \u001b[0mi\u001b[0m \u001b[0;34m=\u001b[0m \u001b[0;36m577\u001b[0m\u001b[0;34m\u001b[0m\u001b[0m\n\u001b[1;32m      2\u001b[0m \u001b[0;32mfor\u001b[0m \u001b[0mlink\u001b[0m \u001b[0;32min\u001b[0m \u001b[0mnightstand_links\u001b[0m\u001b[0;34m[\u001b[0m\u001b[0;36m577\u001b[0m\u001b[0;34m:\u001b[0m\u001b[0;34m]\u001b[0m\u001b[0;34m:\u001b[0m\u001b[0;34m\u001b[0m\u001b[0m\n\u001b[0;32m----> 3\u001b[0;31m     \u001b[0mproduct_dict\u001b[0m \u001b[0;34m=\u001b[0m \u001b[0mwayfair_product_info_scrapper\u001b[0m\u001b[0;34m(\u001b[0m\u001b[0mlink\u001b[0m\u001b[0;34m,\u001b[0m \u001b[0mcategory_input\u001b[0m\u001b[0;34m=\u001b[0m\u001b[0;34m'nightstand'\u001b[0m\u001b[0;34m)\u001b[0m\u001b[0;34m\u001b[0m\u001b[0m\n\u001b[0m\u001b[1;32m      4\u001b[0m     \u001b[0mdf_product\u001b[0m \u001b[0;34m=\u001b[0m \u001b[0mpd\u001b[0m\u001b[0;34m.\u001b[0m\u001b[0mDataFrame\u001b[0m\u001b[0;34m(\u001b[0m\u001b[0;34m[\u001b[0m\u001b[0mproduct_dict\u001b[0m\u001b[0;34m]\u001b[0m\u001b[0;34m,\u001b[0m \u001b[0mindex\u001b[0m\u001b[0;34m=\u001b[0m\u001b[0;34m[\u001b[0m\u001b[0mi\u001b[0m\u001b[0;34m]\u001b[0m\u001b[0;34m)\u001b[0m\u001b[0;34m\u001b[0m\u001b[0m\n\u001b[1;32m      5\u001b[0m     \u001b[0mnightstand_df\u001b[0m \u001b[0;34m=\u001b[0m \u001b[0mpd\u001b[0m\u001b[0;34m.\u001b[0m\u001b[0mconcat\u001b[0m\u001b[0;34m(\u001b[0m\u001b[0;34m[\u001b[0m\u001b[0mnightstand_df\u001b[0m\u001b[0;34m,\u001b[0m \u001b[0mdf_product\u001b[0m\u001b[0;34m]\u001b[0m\u001b[0;34m,\u001b[0m \u001b[0maxis\u001b[0m\u001b[0;34m=\u001b[0m\u001b[0;36m0\u001b[0m\u001b[0;34m)\u001b[0m\u001b[0;34m\u001b[0m\u001b[0m\n",
      "\u001b[0;32m<ipython-input-488-95e4aa27a703>\u001b[0m in \u001b[0;36mwayfair_product_info_scrapper\u001b[0;34m(link, category_input)\u001b[0m\n\u001b[1;32m     28\u001b[0m     '''\n\u001b[1;32m     29\u001b[0m \u001b[0;34m\u001b[0m\u001b[0m\n\u001b[0;32m---> 30\u001b[0;31m     \u001b[0mhtml\u001b[0m  \u001b[0;34m=\u001b[0m \u001b[0murlopen\u001b[0m\u001b[0;34m(\u001b[0m\u001b[0mlink\u001b[0m\u001b[0;34m,\u001b[0m \u001b[0mtimeout\u001b[0m\u001b[0;34m=\u001b[0m\u001b[0;36m100\u001b[0m\u001b[0;34m)\u001b[0m\u001b[0;34m\u001b[0m\u001b[0m\n\u001b[0m\u001b[1;32m     31\u001b[0m \u001b[0;34m\u001b[0m\u001b[0m\n\u001b[1;32m     32\u001b[0m \u001b[0;31m#     import requests\u001b[0m\u001b[0;34m\u001b[0m\u001b[0;34m\u001b[0m\u001b[0m\n",
      "\u001b[0;32m//anaconda/lib/python2.7/urllib2.pyc\u001b[0m in \u001b[0;36murlopen\u001b[0;34m(url, data, timeout, cafile, capath, cadefault, context)\u001b[0m\n\u001b[1;32m    152\u001b[0m     \u001b[0;32melse\u001b[0m\u001b[0;34m:\u001b[0m\u001b[0;34m\u001b[0m\u001b[0m\n\u001b[1;32m    153\u001b[0m         \u001b[0mopener\u001b[0m \u001b[0;34m=\u001b[0m \u001b[0m_opener\u001b[0m\u001b[0;34m\u001b[0m\u001b[0m\n\u001b[0;32m--> 154\u001b[0;31m     \u001b[0;32mreturn\u001b[0m \u001b[0mopener\u001b[0m\u001b[0;34m.\u001b[0m\u001b[0mopen\u001b[0m\u001b[0;34m(\u001b[0m\u001b[0murl\u001b[0m\u001b[0;34m,\u001b[0m \u001b[0mdata\u001b[0m\u001b[0;34m,\u001b[0m \u001b[0mtimeout\u001b[0m\u001b[0;34m)\u001b[0m\u001b[0;34m\u001b[0m\u001b[0m\n\u001b[0m\u001b[1;32m    155\u001b[0m \u001b[0;34m\u001b[0m\u001b[0m\n\u001b[1;32m    156\u001b[0m \u001b[0;32mdef\u001b[0m \u001b[0minstall_opener\u001b[0m\u001b[0;34m(\u001b[0m\u001b[0mopener\u001b[0m\u001b[0;34m)\u001b[0m\u001b[0;34m:\u001b[0m\u001b[0;34m\u001b[0m\u001b[0m\n",
      "\u001b[0;32m//anaconda/lib/python2.7/urllib2.pyc\u001b[0m in \u001b[0;36mopen\u001b[0;34m(self, fullurl, data, timeout)\u001b[0m\n\u001b[1;32m    429\u001b[0m             \u001b[0mreq\u001b[0m \u001b[0;34m=\u001b[0m \u001b[0mmeth\u001b[0m\u001b[0;34m(\u001b[0m\u001b[0mreq\u001b[0m\u001b[0;34m)\u001b[0m\u001b[0;34m\u001b[0m\u001b[0m\n\u001b[1;32m    430\u001b[0m \u001b[0;34m\u001b[0m\u001b[0m\n\u001b[0;32m--> 431\u001b[0;31m         \u001b[0mresponse\u001b[0m \u001b[0;34m=\u001b[0m \u001b[0mself\u001b[0m\u001b[0;34m.\u001b[0m\u001b[0m_open\u001b[0m\u001b[0;34m(\u001b[0m\u001b[0mreq\u001b[0m\u001b[0;34m,\u001b[0m \u001b[0mdata\u001b[0m\u001b[0;34m)\u001b[0m\u001b[0;34m\u001b[0m\u001b[0m\n\u001b[0m\u001b[1;32m    432\u001b[0m \u001b[0;34m\u001b[0m\u001b[0m\n\u001b[1;32m    433\u001b[0m         \u001b[0;31m# post-process response\u001b[0m\u001b[0;34m\u001b[0m\u001b[0;34m\u001b[0m\u001b[0m\n",
      "\u001b[0;32m//anaconda/lib/python2.7/urllib2.pyc\u001b[0m in \u001b[0;36m_open\u001b[0;34m(self, req, data)\u001b[0m\n\u001b[1;32m    447\u001b[0m         \u001b[0mprotocol\u001b[0m \u001b[0;34m=\u001b[0m \u001b[0mreq\u001b[0m\u001b[0;34m.\u001b[0m\u001b[0mget_type\u001b[0m\u001b[0;34m(\u001b[0m\u001b[0;34m)\u001b[0m\u001b[0;34m\u001b[0m\u001b[0m\n\u001b[1;32m    448\u001b[0m         result = self._call_chain(self.handle_open, protocol, protocol +\n\u001b[0;32m--> 449\u001b[0;31m                                   '_open', req)\n\u001b[0m\u001b[1;32m    450\u001b[0m         \u001b[0;32mif\u001b[0m \u001b[0mresult\u001b[0m\u001b[0;34m:\u001b[0m\u001b[0;34m\u001b[0m\u001b[0m\n\u001b[1;32m    451\u001b[0m             \u001b[0;32mreturn\u001b[0m \u001b[0mresult\u001b[0m\u001b[0;34m\u001b[0m\u001b[0m\n",
      "\u001b[0;32m//anaconda/lib/python2.7/urllib2.pyc\u001b[0m in \u001b[0;36m_call_chain\u001b[0;34m(self, chain, kind, meth_name, *args)\u001b[0m\n\u001b[1;32m    407\u001b[0m             \u001b[0mfunc\u001b[0m \u001b[0;34m=\u001b[0m \u001b[0mgetattr\u001b[0m\u001b[0;34m(\u001b[0m\u001b[0mhandler\u001b[0m\u001b[0;34m,\u001b[0m \u001b[0mmeth_name\u001b[0m\u001b[0;34m)\u001b[0m\u001b[0;34m\u001b[0m\u001b[0m\n\u001b[1;32m    408\u001b[0m \u001b[0;34m\u001b[0m\u001b[0m\n\u001b[0;32m--> 409\u001b[0;31m             \u001b[0mresult\u001b[0m \u001b[0;34m=\u001b[0m \u001b[0mfunc\u001b[0m\u001b[0;34m(\u001b[0m\u001b[0;34m*\u001b[0m\u001b[0margs\u001b[0m\u001b[0;34m)\u001b[0m\u001b[0;34m\u001b[0m\u001b[0m\n\u001b[0m\u001b[1;32m    410\u001b[0m             \u001b[0;32mif\u001b[0m \u001b[0mresult\u001b[0m \u001b[0;32mis\u001b[0m \u001b[0;32mnot\u001b[0m \u001b[0mNone\u001b[0m\u001b[0;34m:\u001b[0m\u001b[0;34m\u001b[0m\u001b[0m\n\u001b[1;32m    411\u001b[0m                 \u001b[0;32mreturn\u001b[0m \u001b[0mresult\u001b[0m\u001b[0;34m\u001b[0m\u001b[0m\n",
      "\u001b[0;32m//anaconda/lib/python2.7/urllib2.pyc\u001b[0m in \u001b[0;36mhttp_open\u001b[0;34m(self, req)\u001b[0m\n\u001b[1;32m   1225\u001b[0m \u001b[0;34m\u001b[0m\u001b[0m\n\u001b[1;32m   1226\u001b[0m     \u001b[0;32mdef\u001b[0m \u001b[0mhttp_open\u001b[0m\u001b[0;34m(\u001b[0m\u001b[0mself\u001b[0m\u001b[0;34m,\u001b[0m \u001b[0mreq\u001b[0m\u001b[0;34m)\u001b[0m\u001b[0;34m:\u001b[0m\u001b[0;34m\u001b[0m\u001b[0m\n\u001b[0;32m-> 1227\u001b[0;31m         \u001b[0;32mreturn\u001b[0m \u001b[0mself\u001b[0m\u001b[0;34m.\u001b[0m\u001b[0mdo_open\u001b[0m\u001b[0;34m(\u001b[0m\u001b[0mhttplib\u001b[0m\u001b[0;34m.\u001b[0m\u001b[0mHTTPConnection\u001b[0m\u001b[0;34m,\u001b[0m \u001b[0mreq\u001b[0m\u001b[0;34m)\u001b[0m\u001b[0;34m\u001b[0m\u001b[0m\n\u001b[0m\u001b[1;32m   1228\u001b[0m \u001b[0;34m\u001b[0m\u001b[0m\n\u001b[1;32m   1229\u001b[0m     \u001b[0mhttp_request\u001b[0m \u001b[0;34m=\u001b[0m \u001b[0mAbstractHTTPHandler\u001b[0m\u001b[0;34m.\u001b[0m\u001b[0mdo_request_\u001b[0m\u001b[0;34m\u001b[0m\u001b[0m\n",
      "\u001b[0;32m//anaconda/lib/python2.7/urllib2.pyc\u001b[0m in \u001b[0;36mdo_open\u001b[0;34m(self, http_class, req, **http_conn_args)\u001b[0m\n\u001b[1;32m   1198\u001b[0m         \u001b[0;32melse\u001b[0m\u001b[0;34m:\u001b[0m\u001b[0;34m\u001b[0m\u001b[0m\n\u001b[1;32m   1199\u001b[0m             \u001b[0;32mtry\u001b[0m\u001b[0;34m:\u001b[0m\u001b[0;34m\u001b[0m\u001b[0m\n\u001b[0;32m-> 1200\u001b[0;31m                 \u001b[0mr\u001b[0m \u001b[0;34m=\u001b[0m \u001b[0mh\u001b[0m\u001b[0;34m.\u001b[0m\u001b[0mgetresponse\u001b[0m\u001b[0;34m(\u001b[0m\u001b[0mbuffering\u001b[0m\u001b[0;34m=\u001b[0m\u001b[0mTrue\u001b[0m\u001b[0;34m)\u001b[0m\u001b[0;34m\u001b[0m\u001b[0m\n\u001b[0m\u001b[1;32m   1201\u001b[0m             \u001b[0;32mexcept\u001b[0m \u001b[0mTypeError\u001b[0m\u001b[0;34m:\u001b[0m \u001b[0;31m# buffering kw not supported\u001b[0m\u001b[0;34m\u001b[0m\u001b[0m\n\u001b[1;32m   1202\u001b[0m                 \u001b[0mr\u001b[0m \u001b[0;34m=\u001b[0m \u001b[0mh\u001b[0m\u001b[0;34m.\u001b[0m\u001b[0mgetresponse\u001b[0m\u001b[0;34m(\u001b[0m\u001b[0;34m)\u001b[0m\u001b[0;34m\u001b[0m\u001b[0m\n",
      "\u001b[0;32m//anaconda/lib/python2.7/httplib.pyc\u001b[0m in \u001b[0;36mgetresponse\u001b[0;34m(self, buffering)\u001b[0m\n\u001b[1;32m   1130\u001b[0m \u001b[0;34m\u001b[0m\u001b[0m\n\u001b[1;32m   1131\u001b[0m         \u001b[0;32mtry\u001b[0m\u001b[0;34m:\u001b[0m\u001b[0;34m\u001b[0m\u001b[0m\n\u001b[0;32m-> 1132\u001b[0;31m             \u001b[0mresponse\u001b[0m\u001b[0;34m.\u001b[0m\u001b[0mbegin\u001b[0m\u001b[0;34m(\u001b[0m\u001b[0;34m)\u001b[0m\u001b[0;34m\u001b[0m\u001b[0m\n\u001b[0m\u001b[1;32m   1133\u001b[0m             \u001b[0;32massert\u001b[0m \u001b[0mresponse\u001b[0m\u001b[0;34m.\u001b[0m\u001b[0mwill_close\u001b[0m \u001b[0;34m!=\u001b[0m \u001b[0m_UNKNOWN\u001b[0m\u001b[0;34m\u001b[0m\u001b[0m\n\u001b[1;32m   1134\u001b[0m             \u001b[0mself\u001b[0m\u001b[0;34m.\u001b[0m\u001b[0m__state\u001b[0m \u001b[0;34m=\u001b[0m \u001b[0m_CS_IDLE\u001b[0m\u001b[0;34m\u001b[0m\u001b[0m\n",
      "\u001b[0;32m//anaconda/lib/python2.7/httplib.pyc\u001b[0m in \u001b[0;36mbegin\u001b[0;34m(self)\u001b[0m\n\u001b[1;32m    451\u001b[0m         \u001b[0;31m# read until we get a non-100 response\u001b[0m\u001b[0;34m\u001b[0m\u001b[0;34m\u001b[0m\u001b[0m\n\u001b[1;32m    452\u001b[0m         \u001b[0;32mwhile\u001b[0m \u001b[0mTrue\u001b[0m\u001b[0;34m:\u001b[0m\u001b[0;34m\u001b[0m\u001b[0m\n\u001b[0;32m--> 453\u001b[0;31m             \u001b[0mversion\u001b[0m\u001b[0;34m,\u001b[0m \u001b[0mstatus\u001b[0m\u001b[0;34m,\u001b[0m \u001b[0mreason\u001b[0m \u001b[0;34m=\u001b[0m \u001b[0mself\u001b[0m\u001b[0;34m.\u001b[0m\u001b[0m_read_status\u001b[0m\u001b[0;34m(\u001b[0m\u001b[0;34m)\u001b[0m\u001b[0;34m\u001b[0m\u001b[0m\n\u001b[0m\u001b[1;32m    454\u001b[0m             \u001b[0;32mif\u001b[0m \u001b[0mstatus\u001b[0m \u001b[0;34m!=\u001b[0m \u001b[0mCONTINUE\u001b[0m\u001b[0;34m:\u001b[0m\u001b[0;34m\u001b[0m\u001b[0m\n\u001b[1;32m    455\u001b[0m                 \u001b[0;32mbreak\u001b[0m\u001b[0;34m\u001b[0m\u001b[0m\n",
      "\u001b[0;32m//anaconda/lib/python2.7/httplib.pyc\u001b[0m in \u001b[0;36m_read_status\u001b[0;34m(self)\u001b[0m\n\u001b[1;32m    407\u001b[0m     \u001b[0;32mdef\u001b[0m \u001b[0m_read_status\u001b[0m\u001b[0;34m(\u001b[0m\u001b[0mself\u001b[0m\u001b[0;34m)\u001b[0m\u001b[0;34m:\u001b[0m\u001b[0;34m\u001b[0m\u001b[0m\n\u001b[1;32m    408\u001b[0m         \u001b[0;31m# Initialize with Simple-Response defaults\u001b[0m\u001b[0;34m\u001b[0m\u001b[0;34m\u001b[0m\u001b[0m\n\u001b[0;32m--> 409\u001b[0;31m         \u001b[0mline\u001b[0m \u001b[0;34m=\u001b[0m \u001b[0mself\u001b[0m\u001b[0;34m.\u001b[0m\u001b[0mfp\u001b[0m\u001b[0;34m.\u001b[0m\u001b[0mreadline\u001b[0m\u001b[0;34m(\u001b[0m\u001b[0m_MAXLINE\u001b[0m \u001b[0;34m+\u001b[0m \u001b[0;36m1\u001b[0m\u001b[0;34m)\u001b[0m\u001b[0;34m\u001b[0m\u001b[0m\n\u001b[0m\u001b[1;32m    410\u001b[0m         \u001b[0;32mif\u001b[0m \u001b[0mlen\u001b[0m\u001b[0;34m(\u001b[0m\u001b[0mline\u001b[0m\u001b[0;34m)\u001b[0m \u001b[0;34m>\u001b[0m \u001b[0m_MAXLINE\u001b[0m\u001b[0;34m:\u001b[0m\u001b[0;34m\u001b[0m\u001b[0m\n\u001b[1;32m    411\u001b[0m             \u001b[0;32mraise\u001b[0m \u001b[0mLineTooLong\u001b[0m\u001b[0;34m(\u001b[0m\u001b[0;34m\"header line\"\u001b[0m\u001b[0;34m)\u001b[0m\u001b[0;34m\u001b[0m\u001b[0m\n",
      "\u001b[0;32m//anaconda/lib/python2.7/socket.pyc\u001b[0m in \u001b[0;36mreadline\u001b[0;34m(self, size)\u001b[0m\n\u001b[1;32m    478\u001b[0m             \u001b[0;32mwhile\u001b[0m \u001b[0mTrue\u001b[0m\u001b[0;34m:\u001b[0m\u001b[0;34m\u001b[0m\u001b[0m\n\u001b[1;32m    479\u001b[0m                 \u001b[0;32mtry\u001b[0m\u001b[0;34m:\u001b[0m\u001b[0;34m\u001b[0m\u001b[0m\n\u001b[0;32m--> 480\u001b[0;31m                     \u001b[0mdata\u001b[0m \u001b[0;34m=\u001b[0m \u001b[0mself\u001b[0m\u001b[0;34m.\u001b[0m\u001b[0m_sock\u001b[0m\u001b[0;34m.\u001b[0m\u001b[0mrecv\u001b[0m\u001b[0;34m(\u001b[0m\u001b[0mself\u001b[0m\u001b[0;34m.\u001b[0m\u001b[0m_rbufsize\u001b[0m\u001b[0;34m)\u001b[0m\u001b[0;34m\u001b[0m\u001b[0m\n\u001b[0m\u001b[1;32m    481\u001b[0m                 \u001b[0;32mexcept\u001b[0m \u001b[0merror\u001b[0m\u001b[0;34m,\u001b[0m \u001b[0me\u001b[0m\u001b[0;34m:\u001b[0m\u001b[0;34m\u001b[0m\u001b[0m\n\u001b[1;32m    482\u001b[0m                     \u001b[0;32mif\u001b[0m \u001b[0me\u001b[0m\u001b[0;34m.\u001b[0m\u001b[0margs\u001b[0m\u001b[0;34m[\u001b[0m\u001b[0;36m0\u001b[0m\u001b[0;34m]\u001b[0m \u001b[0;34m==\u001b[0m \u001b[0mEINTR\u001b[0m\u001b[0;34m:\u001b[0m\u001b[0;34m\u001b[0m\u001b[0m\n",
      "\u001b[0;31mtimeout\u001b[0m: timed out"
     ]
    }
   ],
   "source": [
    "i = 577\n",
    "for link in nightstand_links[577:]:\n",
    "    product_dict = wayfair_product_info_scrapper(link, category_input='nightstand')\n",
    "    df_product = pd.DataFrame([product_dict], index=[i])\n",
    "    nightstand_df = pd.concat([nightstand_df, df_product], axis=0)\n",
    "    i += 1\n",
    "    if i % 20 == 0:\n",
    "        print i"
   ]
  },
  {
   "cell_type": "code",
   "execution_count": 562,
   "metadata": {
    "collapsed": false
   },
   "outputs": [
    {
     "name": "stdout",
     "output_type": "stream",
     "text": [
      "<class 'pandas.core.frame.DataFrame'>\n",
      "Int64Index: 588 entries, 0 to 587\n",
      "Data columns (total 15 columns):\n",
      "category                588 non-null object\n",
      "colors                  588 non-null object\n",
      "description             453 non-null object\n",
      "features                588 non-null object\n",
      "image_links_all         588 non-null object\n",
      "image_links_by_color    588 non-null object\n",
      "manufacturer            588 non-null object\n",
      "price                   588 non-null object\n",
      "product_id              588 non-null object\n",
      "rating_avg              540 non-null object\n",
      "rating_count            540 non-null object\n",
      "specs                   588 non-null object\n",
      "title                   588 non-null object\n",
      "url                     588 non-null object\n",
      "website                 588 non-null object\n",
      "dtypes: object(15)\n",
      "memory usage: 73.5+ KB\n"
     ]
    }
   ],
   "source": [
    "nightstand_df.info()"
   ]
  },
  {
   "cell_type": "code",
   "execution_count": 563,
   "metadata": {
    "collapsed": false
   },
   "outputs": [
    {
     "name": "stdout",
     "output_type": "stream",
     "text": [
      "600\n",
      "620\n",
      "640\n",
      "660\n",
      "680\n",
      "700\n",
      "720\n",
      "740\n",
      "760\n",
      "780\n",
      "800\n",
      "820\n",
      "840\n",
      "860\n",
      "880\n",
      "900\n",
      "920\n"
     ]
    },
    {
     "ename": "IncompleteRead",
     "evalue": "IncompleteRead(2318 bytes read, 294 more expected)",
     "output_type": "error",
     "traceback": [
      "\u001b[0;31m---------------------------------------------------------------------------\u001b[0m",
      "\u001b[0;31mIncompleteRead\u001b[0m                            Traceback (most recent call last)",
      "\u001b[0;32m<ipython-input-563-e684ce991a4c>\u001b[0m in \u001b[0;36m<module>\u001b[0;34m()\u001b[0m\n\u001b[1;32m      1\u001b[0m \u001b[0mi\u001b[0m \u001b[0;34m=\u001b[0m \u001b[0;36m588\u001b[0m\u001b[0;34m\u001b[0m\u001b[0m\n\u001b[1;32m      2\u001b[0m \u001b[0;32mfor\u001b[0m \u001b[0mlink\u001b[0m \u001b[0;32min\u001b[0m \u001b[0mnightstand_links\u001b[0m\u001b[0;34m[\u001b[0m\u001b[0;36m588\u001b[0m\u001b[0;34m:\u001b[0m\u001b[0;34m]\u001b[0m\u001b[0;34m:\u001b[0m\u001b[0;34m\u001b[0m\u001b[0m\n\u001b[0;32m----> 3\u001b[0;31m     \u001b[0mproduct_dict\u001b[0m \u001b[0;34m=\u001b[0m \u001b[0mwayfair_product_info_scrapper\u001b[0m\u001b[0;34m(\u001b[0m\u001b[0mlink\u001b[0m\u001b[0;34m,\u001b[0m \u001b[0mcategory_input\u001b[0m\u001b[0;34m=\u001b[0m\u001b[0;34m'nightstand'\u001b[0m\u001b[0;34m)\u001b[0m\u001b[0;34m\u001b[0m\u001b[0m\n\u001b[0m\u001b[1;32m      4\u001b[0m     \u001b[0mdf_product\u001b[0m \u001b[0;34m=\u001b[0m \u001b[0mpd\u001b[0m\u001b[0;34m.\u001b[0m\u001b[0mDataFrame\u001b[0m\u001b[0;34m(\u001b[0m\u001b[0;34m[\u001b[0m\u001b[0mproduct_dict\u001b[0m\u001b[0;34m]\u001b[0m\u001b[0;34m,\u001b[0m \u001b[0mindex\u001b[0m\u001b[0;34m=\u001b[0m\u001b[0;34m[\u001b[0m\u001b[0mi\u001b[0m\u001b[0;34m]\u001b[0m\u001b[0;34m)\u001b[0m\u001b[0;34m\u001b[0m\u001b[0m\n\u001b[1;32m      5\u001b[0m     \u001b[0mnightstand_df\u001b[0m \u001b[0;34m=\u001b[0m \u001b[0mpd\u001b[0m\u001b[0;34m.\u001b[0m\u001b[0mconcat\u001b[0m\u001b[0;34m(\u001b[0m\u001b[0;34m[\u001b[0m\u001b[0mnightstand_df\u001b[0m\u001b[0;34m,\u001b[0m \u001b[0mdf_product\u001b[0m\u001b[0;34m]\u001b[0m\u001b[0;34m,\u001b[0m \u001b[0maxis\u001b[0m\u001b[0;34m=\u001b[0m\u001b[0;36m0\u001b[0m\u001b[0;34m)\u001b[0m\u001b[0;34m\u001b[0m\u001b[0m\n",
      "\u001b[0;32m<ipython-input-488-95e4aa27a703>\u001b[0m in \u001b[0;36mwayfair_product_info_scrapper\u001b[0;34m(link, category_input)\u001b[0m\n\u001b[1;32m     32\u001b[0m \u001b[0;31m#     import requests\u001b[0m\u001b[0;34m\u001b[0m\u001b[0;34m\u001b[0m\u001b[0m\n\u001b[1;32m     33\u001b[0m \u001b[0;31m#     html = requests.get(link, timeout=100)\u001b[0m\u001b[0;34m\u001b[0m\u001b[0;34m\u001b[0m\u001b[0m\n\u001b[0;32m---> 34\u001b[0;31m     \u001b[0msoup\u001b[0m \u001b[0;34m=\u001b[0m \u001b[0mBeautifulSoup\u001b[0m\u001b[0;34m(\u001b[0m\u001b[0mhtml\u001b[0m\u001b[0;34m,\u001b[0m \u001b[0;34m'html.parser'\u001b[0m\u001b[0;34m)\u001b[0m\u001b[0;34m\u001b[0m\u001b[0m\n\u001b[0m\u001b[1;32m     35\u001b[0m \u001b[0;34m\u001b[0m\u001b[0m\n\u001b[1;32m     36\u001b[0m     \u001b[0mproduct_id\u001b[0m \u001b[0;34m=\u001b[0m \u001b[0msoup\u001b[0m\u001b[0;34m.\u001b[0m\u001b[0mfind\u001b[0m\u001b[0;34m(\u001b[0m\u001b[0;34m'span'\u001b[0m\u001b[0;34m,\u001b[0m \u001b[0;34m{\u001b[0m\u001b[0;34m'class'\u001b[0m\u001b[0;34m:\u001b[0m \u001b[0;34m'product_breadcrumb'\u001b[0m\u001b[0;34m}\u001b[0m\u001b[0;34m)\u001b[0m\u001b[0;34m.\u001b[0m\u001b[0mtext\u001b[0m\u001b[0;34m.\u001b[0m\u001b[0msplit\u001b[0m\u001b[0;34m(\u001b[0m\u001b[0;34m':'\u001b[0m\u001b[0;34m)\u001b[0m\u001b[0;34m[\u001b[0m\u001b[0;36m1\u001b[0m\u001b[0;34m]\u001b[0m\u001b[0;34m\u001b[0m\u001b[0m\n",
      "\u001b[0;32m//anaconda/lib/python2.7/site-packages/bs4/__init__.pyc\u001b[0m in \u001b[0;36m__init__\u001b[0;34m(self, markup, features, builder, parse_only, from_encoding, **kwargs)\u001b[0m\n\u001b[1;32m    159\u001b[0m \u001b[0;34m\u001b[0m\u001b[0m\n\u001b[1;32m    160\u001b[0m         \u001b[0;32mif\u001b[0m \u001b[0mhasattr\u001b[0m\u001b[0;34m(\u001b[0m\u001b[0mmarkup\u001b[0m\u001b[0;34m,\u001b[0m \u001b[0;34m'read'\u001b[0m\u001b[0;34m)\u001b[0m\u001b[0;34m:\u001b[0m        \u001b[0;31m# It's a file-type object.\u001b[0m\u001b[0;34m\u001b[0m\u001b[0m\n\u001b[0;32m--> 161\u001b[0;31m             \u001b[0mmarkup\u001b[0m \u001b[0;34m=\u001b[0m \u001b[0mmarkup\u001b[0m\u001b[0;34m.\u001b[0m\u001b[0mread\u001b[0m\u001b[0;34m(\u001b[0m\u001b[0;34m)\u001b[0m\u001b[0;34m\u001b[0m\u001b[0m\n\u001b[0m\u001b[1;32m    162\u001b[0m         \u001b[0;32melif\u001b[0m \u001b[0mlen\u001b[0m\u001b[0;34m(\u001b[0m\u001b[0mmarkup\u001b[0m\u001b[0;34m)\u001b[0m \u001b[0;34m<=\u001b[0m \u001b[0;36m256\u001b[0m\u001b[0;34m:\u001b[0m\u001b[0;34m\u001b[0m\u001b[0m\n\u001b[1;32m    163\u001b[0m             \u001b[0;31m# Print out warnings for a couple beginner problems\u001b[0m\u001b[0;34m\u001b[0m\u001b[0;34m\u001b[0m\u001b[0m\n",
      "\u001b[0;32m//anaconda/lib/python2.7/socket.pyc\u001b[0m in \u001b[0;36mread\u001b[0;34m(self, size)\u001b[0m\n\u001b[1;32m    353\u001b[0m             \u001b[0;32mwhile\u001b[0m \u001b[0mTrue\u001b[0m\u001b[0;34m:\u001b[0m\u001b[0;34m\u001b[0m\u001b[0m\n\u001b[1;32m    354\u001b[0m                 \u001b[0;32mtry\u001b[0m\u001b[0;34m:\u001b[0m\u001b[0;34m\u001b[0m\u001b[0m\n\u001b[0;32m--> 355\u001b[0;31m                     \u001b[0mdata\u001b[0m \u001b[0;34m=\u001b[0m \u001b[0mself\u001b[0m\u001b[0;34m.\u001b[0m\u001b[0m_sock\u001b[0m\u001b[0;34m.\u001b[0m\u001b[0mrecv\u001b[0m\u001b[0;34m(\u001b[0m\u001b[0mrbufsize\u001b[0m\u001b[0;34m)\u001b[0m\u001b[0;34m\u001b[0m\u001b[0m\n\u001b[0m\u001b[1;32m    356\u001b[0m                 \u001b[0;32mexcept\u001b[0m \u001b[0merror\u001b[0m\u001b[0;34m,\u001b[0m \u001b[0me\u001b[0m\u001b[0;34m:\u001b[0m\u001b[0;34m\u001b[0m\u001b[0m\n\u001b[1;32m    357\u001b[0m                     \u001b[0;32mif\u001b[0m \u001b[0me\u001b[0m\u001b[0;34m.\u001b[0m\u001b[0margs\u001b[0m\u001b[0;34m[\u001b[0m\u001b[0;36m0\u001b[0m\u001b[0;34m]\u001b[0m \u001b[0;34m==\u001b[0m \u001b[0mEINTR\u001b[0m\u001b[0;34m:\u001b[0m\u001b[0;34m\u001b[0m\u001b[0m\n",
      "\u001b[0;32m//anaconda/lib/python2.7/httplib.pyc\u001b[0m in \u001b[0;36mread\u001b[0;34m(self, amt)\u001b[0m\n\u001b[1;32m    586\u001b[0m \u001b[0;34m\u001b[0m\u001b[0m\n\u001b[1;32m    587\u001b[0m         \u001b[0;32mif\u001b[0m \u001b[0mself\u001b[0m\u001b[0;34m.\u001b[0m\u001b[0mchunked\u001b[0m\u001b[0;34m:\u001b[0m\u001b[0;34m\u001b[0m\u001b[0m\n\u001b[0;32m--> 588\u001b[0;31m             \u001b[0;32mreturn\u001b[0m \u001b[0mself\u001b[0m\u001b[0;34m.\u001b[0m\u001b[0m_read_chunked\u001b[0m\u001b[0;34m(\u001b[0m\u001b[0mamt\u001b[0m\u001b[0;34m)\u001b[0m\u001b[0;34m\u001b[0m\u001b[0m\n\u001b[0m\u001b[1;32m    589\u001b[0m \u001b[0;34m\u001b[0m\u001b[0m\n\u001b[1;32m    590\u001b[0m         \u001b[0;32mif\u001b[0m \u001b[0mamt\u001b[0m \u001b[0;32mis\u001b[0m \u001b[0mNone\u001b[0m\u001b[0;34m:\u001b[0m\u001b[0;34m\u001b[0m\u001b[0m\n",
      "\u001b[0;32m//anaconda/lib/python2.7/httplib.pyc\u001b[0m in \u001b[0;36m_read_chunked\u001b[0;34m(self, amt)\u001b[0m\n\u001b[1;32m    655\u001b[0m                 \u001b[0;32mreturn\u001b[0m \u001b[0;34m''\u001b[0m\u001b[0;34m.\u001b[0m\u001b[0mjoin\u001b[0m\u001b[0;34m(\u001b[0m\u001b[0mvalue\u001b[0m\u001b[0;34m)\u001b[0m\u001b[0;34m\u001b[0m\u001b[0m\n\u001b[1;32m    656\u001b[0m             \u001b[0;32melse\u001b[0m\u001b[0;34m:\u001b[0m\u001b[0;34m\u001b[0m\u001b[0m\n\u001b[0;32m--> 657\u001b[0;31m                 \u001b[0mvalue\u001b[0m\u001b[0;34m.\u001b[0m\u001b[0mappend\u001b[0m\u001b[0;34m(\u001b[0m\u001b[0mself\u001b[0m\u001b[0;34m.\u001b[0m\u001b[0m_safe_read\u001b[0m\u001b[0;34m(\u001b[0m\u001b[0mchunk_left\u001b[0m\u001b[0;34m)\u001b[0m\u001b[0;34m)\u001b[0m\u001b[0;34m\u001b[0m\u001b[0m\n\u001b[0m\u001b[1;32m    658\u001b[0m                 \u001b[0mamt\u001b[0m \u001b[0;34m-=\u001b[0m \u001b[0mchunk_left\u001b[0m\u001b[0;34m\u001b[0m\u001b[0m\n\u001b[1;32m    659\u001b[0m \u001b[0;34m\u001b[0m\u001b[0m\n",
      "\u001b[0;32m//anaconda/lib/python2.7/httplib.pyc\u001b[0m in \u001b[0;36m_safe_read\u001b[0;34m(self, amt)\u001b[0m\n\u001b[1;32m    703\u001b[0m             \u001b[0mchunk\u001b[0m \u001b[0;34m=\u001b[0m \u001b[0mself\u001b[0m\u001b[0;34m.\u001b[0m\u001b[0mfp\u001b[0m\u001b[0;34m.\u001b[0m\u001b[0mread\u001b[0m\u001b[0;34m(\u001b[0m\u001b[0mmin\u001b[0m\u001b[0;34m(\u001b[0m\u001b[0mamt\u001b[0m\u001b[0;34m,\u001b[0m \u001b[0mMAXAMOUNT\u001b[0m\u001b[0;34m)\u001b[0m\u001b[0;34m)\u001b[0m\u001b[0;34m\u001b[0m\u001b[0m\n\u001b[1;32m    704\u001b[0m             \u001b[0;32mif\u001b[0m \u001b[0;32mnot\u001b[0m \u001b[0mchunk\u001b[0m\u001b[0;34m:\u001b[0m\u001b[0;34m\u001b[0m\u001b[0m\n\u001b[0;32m--> 705\u001b[0;31m                 \u001b[0;32mraise\u001b[0m \u001b[0mIncompleteRead\u001b[0m\u001b[0;34m(\u001b[0m\u001b[0;34m''\u001b[0m\u001b[0;34m.\u001b[0m\u001b[0mjoin\u001b[0m\u001b[0;34m(\u001b[0m\u001b[0ms\u001b[0m\u001b[0;34m)\u001b[0m\u001b[0;34m,\u001b[0m \u001b[0mamt\u001b[0m\u001b[0;34m)\u001b[0m\u001b[0;34m\u001b[0m\u001b[0m\n\u001b[0m\u001b[1;32m    706\u001b[0m             \u001b[0ms\u001b[0m\u001b[0;34m.\u001b[0m\u001b[0mappend\u001b[0m\u001b[0;34m(\u001b[0m\u001b[0mchunk\u001b[0m\u001b[0;34m)\u001b[0m\u001b[0;34m\u001b[0m\u001b[0m\n\u001b[1;32m    707\u001b[0m             \u001b[0mamt\u001b[0m \u001b[0;34m-=\u001b[0m \u001b[0mlen\u001b[0m\u001b[0;34m(\u001b[0m\u001b[0mchunk\u001b[0m\u001b[0;34m)\u001b[0m\u001b[0;34m\u001b[0m\u001b[0m\n",
      "\u001b[0;31mIncompleteRead\u001b[0m: IncompleteRead(2318 bytes read, 294 more expected)"
     ]
    }
   ],
   "source": [
    "i = 588\n",
    "for link in nightstand_links[588:]:\n",
    "    product_dict = wayfair_product_info_scrapper(link, category_input='nightstand')\n",
    "    df_product = pd.DataFrame([product_dict], index=[i])\n",
    "    nightstand_df = pd.concat([nightstand_df, df_product], axis=0)\n",
    "    i += 1\n",
    "    if i % 20 == 0:\n",
    "        print i"
   ]
  },
  {
   "cell_type": "code",
   "execution_count": 564,
   "metadata": {
    "collapsed": false
   },
   "outputs": [
    {
     "name": "stdout",
     "output_type": "stream",
     "text": [
      "<class 'pandas.core.frame.DataFrame'>\n",
      "Int64Index: 931 entries, 0 to 930\n",
      "Data columns (total 15 columns):\n",
      "category                931 non-null object\n",
      "colors                  931 non-null object\n",
      "description             671 non-null object\n",
      "features                931 non-null object\n",
      "image_links_all         931 non-null object\n",
      "image_links_by_color    931 non-null object\n",
      "manufacturer            931 non-null object\n",
      "price                   931 non-null object\n",
      "product_id              931 non-null object\n",
      "rating_avg              780 non-null object\n",
      "rating_count            780 non-null object\n",
      "specs                   931 non-null object\n",
      "title                   931 non-null object\n",
      "url                     931 non-null object\n",
      "website                 931 non-null object\n",
      "dtypes: object(15)\n",
      "memory usage: 116.4+ KB\n"
     ]
    }
   ],
   "source": [
    "nightstand_df.info()"
   ]
  },
  {
   "cell_type": "code",
   "execution_count": 565,
   "metadata": {
    "collapsed": false
   },
   "outputs": [
    {
     "name": "stdout",
     "output_type": "stream",
     "text": [
      "940\n",
      "960\n",
      "980\n",
      "1000\n"
     ]
    }
   ],
   "source": [
    "i = 931\n",
    "for link in nightstand_links[931:]:\n",
    "    product_dict = wayfair_product_info_scrapper(link, category_input='nightstand')\n",
    "    df_product = pd.DataFrame([product_dict], index=[i])\n",
    "    nightstand_df = pd.concat([nightstand_df, df_product], axis=0)\n",
    "    i += 1\n",
    "    if i % 20 == 0:\n",
    "        print i"
   ]
  },
  {
   "cell_type": "code",
   "execution_count": 566,
   "metadata": {
    "collapsed": true
   },
   "outputs": [],
   "source": [
    "nightstand_df.to_json('wayfair/nightstand.json')"
   ]
  },
  {
   "cell_type": "code",
   "execution_count": 567,
   "metadata": {
    "collapsed": false
   },
   "outputs": [
    {
     "data": {
      "text/plain": [
       "'Mon Sep 21 23:24:12 2015'"
      ]
     },
     "execution_count": 567,
     "metadata": {},
     "output_type": "execute_result"
    }
   ],
   "source": [
    "time.ctime(time.time())"
   ]
  },
  {
   "cell_type": "code",
   "execution_count": 568,
   "metadata": {
    "collapsed": false
   },
   "outputs": [
    {
     "name": "stdout",
     "output_type": "stream",
     "text": [
      "<class 'pandas.core.frame.DataFrame'>\n",
      "Int64Index: 1008 entries, 0 to 1007\n",
      "Data columns (total 15 columns):\n",
      "category                1008 non-null object\n",
      "colors                  1008 non-null object\n",
      "description             710 non-null object\n",
      "features                1008 non-null object\n",
      "image_links_all         1008 non-null object\n",
      "image_links_by_color    1008 non-null object\n",
      "manufacturer            1008 non-null object\n",
      "price                   1008 non-null object\n",
      "product_id              1008 non-null object\n",
      "rating_avg              814 non-null object\n",
      "rating_count            814 non-null object\n",
      "specs                   1008 non-null object\n",
      "title                   1008 non-null object\n",
      "url                     1008 non-null object\n",
      "website                 1008 non-null object\n",
      "dtypes: object(15)\n",
      "memory usage: 126.0+ KB\n"
     ]
    }
   ],
   "source": [
    "nightstand_df.info()"
   ]
  },
  {
   "cell_type": "code",
   "execution_count": 569,
   "metadata": {
    "collapsed": false
   },
   "outputs": [
    {
     "data": {
      "text/plain": [
       "(4, 15)"
      ]
     },
     "execution_count": 569,
     "metadata": {},
     "output_type": "execute_result"
    }
   ],
   "source": [
    "nightstand_df[nightstand_df['features'].apply(lambda x:len(x) == 0)].shape"
   ]
  },
  {
   "cell_type": "code",
   "execution_count": 571,
   "metadata": {
    "collapsed": false
   },
   "outputs": [
    {
     "data": {
      "text/html": [
       "<div>\n",
       "<table border=\"1\" class=\"dataframe\">\n",
       "  <thead>\n",
       "    <tr style=\"text-align: right;\">\n",
       "      <th></th>\n",
       "      <th>category</th>\n",
       "      <th>colors</th>\n",
       "      <th>description</th>\n",
       "      <th>features</th>\n",
       "      <th>image_links_all</th>\n",
       "      <th>image_links_by_color</th>\n",
       "      <th>manufacturer</th>\n",
       "      <th>price</th>\n",
       "      <th>product_id</th>\n",
       "      <th>rating_avg</th>\n",
       "      <th>rating_count</th>\n",
       "      <th>specs</th>\n",
       "      <th>title</th>\n",
       "      <th>url</th>\n",
       "      <th>website</th>\n",
       "    </tr>\n",
       "  </thead>\n",
       "  <tbody>\n",
       "    <tr>\n",
       "      <th>1003</th>\n",
       "      <td>nightstand</td>\n",
       "      <td>[]</td>\n",
       "      <td>None</td>\n",
       "      <td>[\\nFeatures\\n\\nTropical hardwood\\nSaddle leath...</td>\n",
       "      <td>[https://secure.img1.wfrcdn.com/lf/49/hash/843...</td>\n",
       "      <td>{}</td>\n",
       "      <td>New World Trading</td>\n",
       "      <td>$1,999.98</td>\n",
       "      <td>NTA1092</td>\n",
       "      <td>None</td>\n",
       "      <td>None</td>\n",
       "      <td>\\nWeights &amp; Dimensions\\n\\n\\n\\n            Over...</td>\n",
       "      <td>Spanish 4 Drawer Nightstand</td>\n",
       "      <td>http://www.wayfair.com/New-World-Trading-Spani...</td>\n",
       "      <td>wayfair</td>\n",
       "    </tr>\n",
       "    <tr>\n",
       "      <th>1004</th>\n",
       "      <td>nightstand</td>\n",
       "      <td>[]</td>\n",
       "      <td>None</td>\n",
       "      <td>[\\nFeatures\\n\\nMaterials  hardwood solids and ...</td>\n",
       "      <td>[https://secure.img1.wfrcdn.com/lf/49/hash/151...</td>\n",
       "      <td>{}</td>\n",
       "      <td>Hooker Furniture</td>\n",
       "      <td>$672.00</td>\n",
       "      <td>HKR7994</td>\n",
       "      <td>None</td>\n",
       "      <td>None</td>\n",
       "      <td>\\nWeights &amp; Dimensions\\n\\n\\n\\n            Over...</td>\n",
       "      <td>Abbott Place 2 Drawer Nightstand</td>\n",
       "      <td>http://www.wayfair.com/Hooker-Furniture-Abbott...</td>\n",
       "      <td>wayfair</td>\n",
       "    </tr>\n",
       "    <tr>\n",
       "      <th>1005</th>\n",
       "      <td>nightstand</td>\n",
       "      <td>[]</td>\n",
       "      <td>You'll be set with this nightstand at your bed...</td>\n",
       "      <td>[\\nFeatures\\n\\nTraditional style\\nOne English ...</td>\n",
       "      <td>[https://secure.img2.wfrcdn.com/lf/49/hash/126...</td>\n",
       "      <td>{}</td>\n",
       "      <td>Wildon Home ®</td>\n",
       "      <td>$281.99</td>\n",
       "      <td>CST9255</td>\n",
       "      <td>4.4</td>\n",
       "      <td>7</td>\n",
       "      <td>\\nWeights &amp; Dimensions\\n\\n\\n\\n            Over...</td>\n",
       "      <td>Merkel 1 Drawer Nightstand</td>\n",
       "      <td>http://www.wayfair.com/Merkel-1-Drawer-Nightst...</td>\n",
       "      <td>wayfair</td>\n",
       "    </tr>\n",
       "    <tr>\n",
       "      <th>1006</th>\n",
       "      <td>nightstand</td>\n",
       "      <td>[]</td>\n",
       "      <td>None</td>\n",
       "      <td>[\\nFeatures\\n\\nHeavy duty, full extension draw...</td>\n",
       "      <td>[https://secure.img1.wfrcdn.com/lf/49/hash/759...</td>\n",
       "      <td>{}</td>\n",
       "      <td>Imagio Home</td>\n",
       "      <td>$264.95</td>\n",
       "      <td>ICN1117</td>\n",
       "      <td>5.0</td>\n",
       "      <td>1</td>\n",
       "      <td>\\nWeights &amp; Dimensions\\n\\n\\n\\n            Over...</td>\n",
       "      <td>Pasilla 2 Drawer Nightstand</td>\n",
       "      <td>http://www.wayfair.com/Imagio-Home-by-Intercon...</td>\n",
       "      <td>wayfair</td>\n",
       "    </tr>\n",
       "    <tr>\n",
       "      <th>1007</th>\n",
       "      <td>nightstand</td>\n",
       "      <td>[Black, Brown, Cappuccino, Cherry, Cream, White]</td>\n",
       "      <td>None</td>\n",
       "      <td>[\\nFeatures\\n\\nWood veneer\\nDovetailed drawers...</td>\n",
       "      <td>[https://secure.img1.wfrcdn.com/lf/49/hash/323...</td>\n",
       "      <td>{u'Brown': [u'https://secure.img1.wfrcdn.com/l...</td>\n",
       "      <td>Glory Furniture</td>\n",
       "      <td>$174.99</td>\n",
       "      <td>JLDQ1481</td>\n",
       "      <td>None</td>\n",
       "      <td>None</td>\n",
       "      <td>\\nWeights &amp; Dimensions\\n\\n\\n\\n            Over...</td>\n",
       "      <td>2 Drawer Night Stand</td>\n",
       "      <td>http://www.wayfair.com/5-Drawer-Night-Stand-G5...</td>\n",
       "      <td>wayfair</td>\n",
       "    </tr>\n",
       "  </tbody>\n",
       "</table>\n",
       "</div>"
      ],
      "text/plain": [
       "        category                                            colors  \\\n",
       "1003  nightstand                                                []   \n",
       "1004  nightstand                                                []   \n",
       "1005  nightstand                                                []   \n",
       "1006  nightstand                                                []   \n",
       "1007  nightstand  [Black, Brown, Cappuccino, Cherry, Cream, White]   \n",
       "\n",
       "                                            description  \\\n",
       "1003                                               None   \n",
       "1004                                               None   \n",
       "1005  You'll be set with this nightstand at your bed...   \n",
       "1006                                               None   \n",
       "1007                                               None   \n",
       "\n",
       "                                               features  \\\n",
       "1003  [\\nFeatures\\n\\nTropical hardwood\\nSaddle leath...   \n",
       "1004  [\\nFeatures\\n\\nMaterials  hardwood solids and ...   \n",
       "1005  [\\nFeatures\\n\\nTraditional style\\nOne English ...   \n",
       "1006  [\\nFeatures\\n\\nHeavy duty, full extension draw...   \n",
       "1007  [\\nFeatures\\n\\nWood veneer\\nDovetailed drawers...   \n",
       "\n",
       "                                        image_links_all  \\\n",
       "1003  [https://secure.img1.wfrcdn.com/lf/49/hash/843...   \n",
       "1004  [https://secure.img1.wfrcdn.com/lf/49/hash/151...   \n",
       "1005  [https://secure.img2.wfrcdn.com/lf/49/hash/126...   \n",
       "1006  [https://secure.img1.wfrcdn.com/lf/49/hash/759...   \n",
       "1007  [https://secure.img1.wfrcdn.com/lf/49/hash/323...   \n",
       "\n",
       "                                   image_links_by_color       manufacturer  \\\n",
       "1003                                                 {}  New World Trading   \n",
       "1004                                                 {}   Hooker Furniture   \n",
       "1005                                                 {}      Wildon Home ®   \n",
       "1006                                                 {}        Imagio Home   \n",
       "1007  {u'Brown': [u'https://secure.img1.wfrcdn.com/l...    Glory Furniture   \n",
       "\n",
       "          price product_id rating_avg rating_count  \\\n",
       "1003  $1,999.98    NTA1092       None         None   \n",
       "1004    $672.00    HKR7994       None         None   \n",
       "1005    $281.99    CST9255        4.4            7   \n",
       "1006    $264.95    ICN1117        5.0            1   \n",
       "1007    $174.99   JLDQ1481       None         None   \n",
       "\n",
       "                                                  specs  \\\n",
       "1003  \\nWeights & Dimensions\\n\\n\\n\\n            Over...   \n",
       "1004  \\nWeights & Dimensions\\n\\n\\n\\n            Over...   \n",
       "1005  \\nWeights & Dimensions\\n\\n\\n\\n            Over...   \n",
       "1006  \\nWeights & Dimensions\\n\\n\\n\\n            Over...   \n",
       "1007  \\nWeights & Dimensions\\n\\n\\n\\n            Over...   \n",
       "\n",
       "                                 title  \\\n",
       "1003       Spanish 4 Drawer Nightstand   \n",
       "1004  Abbott Place 2 Drawer Nightstand   \n",
       "1005        Merkel 1 Drawer Nightstand   \n",
       "1006       Pasilla 2 Drawer Nightstand   \n",
       "1007              2 Drawer Night Stand   \n",
       "\n",
       "                                                    url  website  \n",
       "1003  http://www.wayfair.com/New-World-Trading-Spani...  wayfair  \n",
       "1004  http://www.wayfair.com/Hooker-Furniture-Abbott...  wayfair  \n",
       "1005  http://www.wayfair.com/Merkel-1-Drawer-Nightst...  wayfair  \n",
       "1006  http://www.wayfair.com/Imagio-Home-by-Intercon...  wayfair  \n",
       "1007  http://www.wayfair.com/5-Drawer-Night-Stand-G5...  wayfair  "
      ]
     },
     "execution_count": 571,
     "metadata": {},
     "output_type": "execute_result"
    }
   ],
   "source": [
    "nightstand_df.tail()"
   ]
  },
  {
   "cell_type": "markdown",
   "metadata": {},
   "source": [
    "# Dressers:"
   ]
  },
  {
   "cell_type": "code",
   "execution_count": 572,
   "metadata": {
    "collapsed": false
   },
   "outputs": [
    {
     "data": {
      "text/plain": [
       "'Mon Sep 21 23:26:01 2015'"
      ]
     },
     "execution_count": 572,
     "metadata": {},
     "output_type": "execute_result"
    }
   ],
   "source": [
    "time.ctime(time.time())"
   ]
  },
  {
   "cell_type": "code",
   "execution_count": 573,
   "metadata": {
    "collapsed": false
   },
   "outputs": [
    {
     "name": "stdout",
     "output_type": "stream",
     "text": [
      "1008\n",
      "  category colors description features  \\\n",
      "0  dresser     []        None       []   \n",
      "\n",
      "                                     image_links_all image_links_by_color  \\\n",
      "0  [https://secure.img2.wfrcdn.com/lf/49/hash/309...                   {}   \n",
      "\n",
      "  manufacturer    price product_id rating_avg rating_count specs  \\\n",
      "0  Three Posts  $456.94   THRE2140        4.3            3  None   \n",
      "\n",
      "                                 title  \\\n",
      "0  Sutton 6 Drawer Dresser with Mirror   \n",
      "\n",
      "                                                 url  website  \n",
      "0  http://www.wayfair.com/Sutton-6-Drawer-Dresser...  wayfair  \n",
      "20\n",
      "40\n",
      "60\n",
      "80\n",
      "100\n",
      "120\n",
      "140\n",
      "160\n",
      "180\n",
      "200\n",
      "220\n",
      "240\n",
      "260\n",
      "280\n",
      "300\n",
      "320\n",
      "340\n",
      "360\n",
      "380\n",
      "400\n",
      "420\n",
      "440\n",
      "460\n",
      "480\n",
      "500\n",
      "520\n",
      "540\n",
      "560\n",
      "580\n",
      "600\n",
      "620\n",
      "640\n",
      "660\n",
      "680\n",
      "700\n",
      "720\n",
      "740\n",
      "760\n",
      "780\n",
      "800\n",
      "820\n",
      "840\n",
      "860\n",
      "880\n",
      "900\n",
      "920\n",
      "940\n",
      "960\n",
      "980\n",
      "1000\n"
     ]
    }
   ],
   "source": [
    "dresser_index = 'http://www.wayfair.com/Dressers-C46091.html?&curpage='\n",
    "dresser_links = get_wayfair_product_links(dresser_index, num_pages=21)\n",
    "print len(dresser_links)\n",
    "link_0 = dresser_links[0]\n",
    "dict_0 = wayfair_product_info_scrapper(link_0, category_input= 'dresser')\n",
    "dresser_df = pd.DataFrame([dict_0], index=[0])\n",
    "print dresser_df\n",
    "i = 1\n",
    "for link in dresser_links[1:]:\n",
    "    product_dict = wayfair_product_info_scrapper(link, category_input='dresser')\n",
    "    df_product = pd.DataFrame([product_dict], index=[i])\n",
    "    dresser_df = pd.concat([dresser_df, df_product], axis=0)\n",
    "    i += 1\n",
    "    if i % 20 == 0:\n",
    "        print i"
   ]
  },
  {
   "cell_type": "code",
   "execution_count": 576,
   "metadata": {
    "collapsed": false
   },
   "outputs": [
    {
     "name": "stdout",
     "output_type": "stream",
     "text": [
      "<class 'pandas.core.frame.DataFrame'>\n",
      "Int64Index: 1008 entries, 0 to 1007\n",
      "Data columns (total 15 columns):\n",
      "category                1008 non-null object\n",
      "colors                  1008 non-null object\n",
      "description             584 non-null object\n",
      "features                1008 non-null object\n",
      "image_links_all         1008 non-null object\n",
      "image_links_by_color    1008 non-null object\n",
      "manufacturer            1008 non-null object\n",
      "price                   1008 non-null object\n",
      "product_id              1008 non-null object\n",
      "rating_avg              800 non-null object\n",
      "rating_count            800 non-null object\n",
      "specs                   838 non-null object\n",
      "title                   1008 non-null object\n",
      "url                     1008 non-null object\n",
      "website                 1008 non-null object\n",
      "dtypes: object(15)\n",
      "memory usage: 126.0+ KB\n"
     ]
    }
   ],
   "source": [
    "dresser_df.info()"
   ]
  },
  {
   "cell_type": "code",
   "execution_count": 574,
   "metadata": {
    "collapsed": true
   },
   "outputs": [],
   "source": [
    "dresser_df.to_json('wayfair/dresser.json')"
   ]
  },
  {
   "cell_type": "code",
   "execution_count": 575,
   "metadata": {
    "collapsed": false
   },
   "outputs": [
    {
     "data": {
      "text/plain": [
       "'Tue Sep 22 00:22:36 2015'"
      ]
     },
     "execution_count": 575,
     "metadata": {},
     "output_type": "execute_result"
    }
   ],
   "source": [
    "time.ctime(time.time())"
   ]
  },
  {
   "cell_type": "code",
   "execution_count": 577,
   "metadata": {
    "collapsed": false
   },
   "outputs": [
    {
     "data": {
      "text/plain": [
       "(171, 15)"
      ]
     },
     "execution_count": 577,
     "metadata": {},
     "output_type": "execute_result"
    }
   ],
   "source": [
    "dresser_df[dresser_df['features'].apply(lambda x:len(x) == 0)].shape"
   ]
  },
  {
   "cell_type": "code",
   "execution_count": null,
   "metadata": {
    "collapsed": true
   },
   "outputs": [],
   "source": []
  }
 ],
 "metadata": {
  "kernelspec": {
   "display_name": "Python 2",
   "language": "python",
   "name": "python2"
  },
  "language_info": {
   "codemirror_mode": {
    "name": "ipython",
    "version": 2
   },
   "file_extension": ".py",
   "mimetype": "text/x-python",
   "name": "python",
   "nbconvert_exporter": "python",
   "pygments_lexer": "ipython2",
   "version": "2.7.10"
  }
 },
 "nbformat": 4,
 "nbformat_minor": 0
}
