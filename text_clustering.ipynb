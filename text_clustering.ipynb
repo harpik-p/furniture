{
 "cells": [
  {
   "cell_type": "code",
   "execution_count": 76,
   "metadata": {
    "collapsed": true
   },
   "outputs": [],
   "source": [
    "import time\n",
    "import numpy as np\n",
    "import pandas as pd\n",
    "from sklearn.feature_extraction.text import TfidfVectorizer\n",
    "from sklearn.cluster import KMeans"
   ]
  },
  {
   "cell_type": "code",
   "execution_count": null,
   "metadata": {
    "collapsed": true
   },
   "outputs": [],
   "source": [
    "import gensim\n",
    "from gensim import corpora, models, similarities"
   ]
  },
  {
   "cell_type": "markdown",
   "metadata": {
    "collapsed": true
   },
   "source": [
    "sofa_df = pd.read_json('wayfair/sofa.json')\n",
    "sofa_bed_df = pd.read_json('wayfair/sofa_bed.json')\n",
    "futon_df = pd.read_json('wayfair/futon.json')\n",
    "loveseat_df = pd.read_json('wayfair/loveseat.json')\n",
    "coffee_table_df = pd.read_json('wayfair/coffee_table.json')\n",
    "desk_df = pd.read_json('wayfair/desk.json')\n",
    "office_chair_df = pd.read_json('wayfair/office_chair.json')\n",
    "bookcase_df = pd.read_json('wayfair/bookcase.json')\n",
    "dining_table_df = pd.read_json('wayfair/dining_table.json')\n",
    "dining_chair_df = pd.read_json('wayfair/dining_chair.json')\n",
    "bed_df = pd.read_json('wayfair/bed.json')\n",
    "nightstand_df = pd.read_json('wayfair/nightstand.json')\n",
    "dresser_df = pd.read_json('wayfair/dresser.json')"
   ]
  },
  {
   "cell_type": "markdown",
   "metadata": {},
   "source": [
    "# clean text data\n",
    "* furniture_id: strip & str()\n",
    "* price: string with $ to float\n",
    "* features from list to string\n",
    "* add description & features to one string\n"
   ]
  },
  {
   "cell_type": "code",
   "execution_count": 67,
   "metadata": {
    "collapsed": false
   },
   "outputs": [],
   "source": [
    "sofa_df = pd.read_json('wayfair/sofa.json')"
   ]
  },
  {
   "cell_type": "code",
   "execution_count": 68,
   "metadata": {
    "collapsed": false
   },
   "outputs": [
    {
     "name": "stdout",
     "output_type": "stream",
     "text": [
      "<class 'pandas.core.frame.DataFrame'>\n",
      "Float64Index: 480 entries, 0.0 to 99.0\n",
      "Data columns (total 15 columns):\n",
      "category                480 non-null object\n",
      "colors                  480 non-null object\n",
      "description             359 non-null object\n",
      "features                480 non-null object\n",
      "image_links_all         480 non-null object\n",
      "image_links_by_color    480 non-null object\n",
      "manufacturer            480 non-null object\n",
      "price                   480 non-null object\n",
      "product_id              480 non-null object\n",
      "rating_avg              420 non-null float64\n",
      "rating_count            420 non-null float64\n",
      "specs                   470 non-null object\n",
      "title                   480 non-null object\n",
      "url                     480 non-null object\n",
      "website                 480 non-null object\n",
      "dtypes: float64(2), object(13)\n",
      "memory usage: 60.0+ KB\n"
     ]
    }
   ],
   "source": [
    "sofa_df.info()"
   ]
  },
  {
   "cell_type": "code",
   "execution_count": 69,
   "metadata": {
    "collapsed": false,
    "scrolled": true
   },
   "outputs": [
    {
     "data": {
      "text/html": [
       "<div>\n",
       "<table border=\"1\" class=\"dataframe\">\n",
       "  <thead>\n",
       "    <tr style=\"text-align: right;\">\n",
       "      <th></th>\n",
       "      <th>0.0</th>\n",
       "      <th>1.0</th>\n",
       "      <th>10.0</th>\n",
       "      <th>100.0</th>\n",
       "      <th>101.0</th>\n",
       "    </tr>\n",
       "  </thead>\n",
       "  <tbody>\n",
       "    <tr>\n",
       "      <th>category</th>\n",
       "      <td>sofa</td>\n",
       "      <td>sofa</td>\n",
       "      <td>sofa</td>\n",
       "      <td>sofa</td>\n",
       "      <td>sofa</td>\n",
       "    </tr>\n",
       "    <tr>\n",
       "      <th>colors</th>\n",
       "      <td>[Cobblestone, Café, Mocha, Sage, Salsa, Stone]</td>\n",
       "      <td>[Blue Linen / Chevron, Blue Linen / Greek Key,...</td>\n",
       "      <td>[Purple, Red, Brown, Dark Grey, Grey]</td>\n",
       "      <td>[Ash, Graphite, Natural]</td>\n",
       "      <td>[Greenwich Ivory, Greenwich Pecan, Greenwich L...</td>\n",
       "    </tr>\n",
       "    <tr>\n",
       "      <th>description</th>\n",
       "      <td>Add a touch of comfort and style to your home ...</td>\n",
       "      <td>Sleeping on the sofa has never been so chic. S...</td>\n",
       "      <td>This luxurious sofa merging with style and ele...</td>\n",
       "      <td>tion’s mid-century modern design is masterfull...</td>\n",
       "      <td>Casual and comfy, the Smith Loveseat offers an...</td>\n",
       "    </tr>\n",
       "    <tr>\n",
       "      <th>features</th>\n",
       "      <td>[\\nFeatures\\n\\nHarvest collection\\nMaterial: 1...</td>\n",
       "      <td>[\\nFeatures\\n\\nMaterial: 100% Polyester Linen\\...</td>\n",
       "      <td>[\\nFeatures\\n\\nCarthusia collection\\nRubberwoo...</td>\n",
       "      <td>[\\nFeatures\\n\\nCovered in durable, easy-to-cle...</td>\n",
       "      <td>[\\nFeatures\\n\\nLoose back and seat cushions\\nH...</td>\n",
       "    </tr>\n",
       "    <tr>\n",
       "      <th>image_links_all</th>\n",
       "      <td>[https://secure.img2.wfrcdn.com/lf/49/hash/266...</td>\n",
       "      <td>[https://secure.img1.wfrcdn.com/lf/49/hash/338...</td>\n",
       "      <td>[https://secure.img2.wfrcdn.com/lf/49/hash/296...</td>\n",
       "      <td>[https://secure.img1.wfrcdn.com/lf/49/hash/384...</td>\n",
       "      <td>[https://secure.img1.wfrcdn.com/lf/49/hash/308...</td>\n",
       "    </tr>\n",
       "    <tr>\n",
       "      <th>image_links_by_color</th>\n",
       "      <td>{u'Stone': [u'https://secure.img2.wfrcdn.com/l...</td>\n",
       "      <td>{u'Blue Linen / Chevron': [u'https://secure.im...</td>\n",
       "      <td>{u'Purple': [u'https://secure.img2.wfrcdn.com/...</td>\n",
       "      <td>{u'Graphite': [u'https://secure.img1.wfrcdn.co...</td>\n",
       "      <td>{u'Greenwich Pecan': [u'https://secure.img1.wf...</td>\n",
       "    </tr>\n",
       "    <tr>\n",
       "      <th>manufacturer</th>\n",
       "      <td>Signature Design by Ashley</td>\n",
       "      <td>Mercury Row</td>\n",
       "      <td>Kingstown Home</td>\n",
       "      <td>Carolina Accents</td>\n",
       "      <td>Andover Mills</td>\n",
       "    </tr>\n",
       "    <tr>\n",
       "      <th>price</th>\n",
       "      <td>$357.99</td>\n",
       "      <td>$529.99</td>\n",
       "      <td>$829.99</td>\n",
       "      <td>$189.99</td>\n",
       "      <td>$289.99</td>\n",
       "    </tr>\n",
       "    <tr>\n",
       "      <th>product_id</th>\n",
       "      <td>GNT3224</td>\n",
       "      <td>MCRR1650</td>\n",
       "      <td>KMDS1431</td>\n",
       "      <td>ENT1245</td>\n",
       "      <td>ANDO1550</td>\n",
       "    </tr>\n",
       "    <tr>\n",
       "      <th>rating_avg</th>\n",
       "      <td>4.4</td>\n",
       "      <td>4.1</td>\n",
       "      <td>4.5</td>\n",
       "      <td>4.5</td>\n",
       "      <td>4.5</td>\n",
       "    </tr>\n",
       "    <tr>\n",
       "      <th>rating_count</th>\n",
       "      <td>115</td>\n",
       "      <td>189</td>\n",
       "      <td>91</td>\n",
       "      <td>77</td>\n",
       "      <td>10</td>\n",
       "    </tr>\n",
       "    <tr>\n",
       "      <th>specs</th>\n",
       "      <td>\\nWeights &amp; Dimensions\\n\\n\\n\\n            Over...</td>\n",
       "      <td>\\nWeights &amp; Dimensions\\nSeat Cushion\\n\\n\\n    ...</td>\n",
       "      <td>\\nWeights &amp; Dimensions\\nSeat Cushion\\n\\n\\n    ...</td>\n",
       "      <td>\\nWeights &amp; Dimensions\\n\\n\\n\\n            Over...</td>\n",
       "      <td>\\nWeights &amp; Dimensions\\n\\n\\n\\n            Over...</td>\n",
       "    </tr>\n",
       "    <tr>\n",
       "      <th>title</th>\n",
       "      <td>Harvest Sofa</td>\n",
       "      <td>Convertible Sleeper Sofa</td>\n",
       "      <td>Carthusia Sofa</td>\n",
       "      <td>Makenzie Loveseat</td>\n",
       "      <td>Smith Loveseat</td>\n",
       "    </tr>\n",
       "    <tr>\n",
       "      <th>url</th>\n",
       "      <td>http://www.wayfair.com/Harvest-Sofa-7500-GNT32...</td>\n",
       "      <td>http://www.wayfair.com/Convertible-Sleeper-Sof...</td>\n",
       "      <td>http://www.wayfair.com/Kingstown-Home-Carthusi...</td>\n",
       "      <td>http://www.wayfair.com/Carolina-Accents-Makenz...</td>\n",
       "      <td>http://www.wayfair.com/Smith-Loveseat-ANDO1550...</td>\n",
       "    </tr>\n",
       "    <tr>\n",
       "      <th>website</th>\n",
       "      <td>wayfair</td>\n",
       "      <td>wayfair</td>\n",
       "      <td>wayfair</td>\n",
       "      <td>wayfair</td>\n",
       "      <td>wayfair</td>\n",
       "    </tr>\n",
       "  </tbody>\n",
       "</table>\n",
       "</div>"
      ],
      "text/plain": [
       "                                                                    0    \\\n",
       "category                                                           sofa   \n",
       "colors                   [Cobblestone, Café, Mocha, Sage, Salsa, Stone]   \n",
       "description           Add a touch of comfort and style to your home ...   \n",
       "features              [\\nFeatures\\n\\nHarvest collection\\nMaterial: 1...   \n",
       "image_links_all       [https://secure.img2.wfrcdn.com/lf/49/hash/266...   \n",
       "image_links_by_color  {u'Stone': [u'https://secure.img2.wfrcdn.com/l...   \n",
       "manufacturer                                 Signature Design by Ashley   \n",
       "price                                                           $357.99   \n",
       "product_id                                                      GNT3224   \n",
       "rating_avg                                                          4.4   \n",
       "rating_count                                                        115   \n",
       "specs                 \\nWeights & Dimensions\\n\\n\\n\\n            Over...   \n",
       "title                                                      Harvest Sofa   \n",
       "url                   http://www.wayfair.com/Harvest-Sofa-7500-GNT32...   \n",
       "website                                                         wayfair   \n",
       "\n",
       "                                                                    1    \\\n",
       "category                                                           sofa   \n",
       "colors                [Blue Linen / Chevron, Blue Linen / Greek Key,...   \n",
       "description           Sleeping on the sofa has never been so chic. S...   \n",
       "features              [\\nFeatures\\n\\nMaterial: 100% Polyester Linen\\...   \n",
       "image_links_all       [https://secure.img1.wfrcdn.com/lf/49/hash/338...   \n",
       "image_links_by_color  {u'Blue Linen / Chevron': [u'https://secure.im...   \n",
       "manufacturer                                                Mercury Row   \n",
       "price                                                           $529.99   \n",
       "product_id                                                     MCRR1650   \n",
       "rating_avg                                                          4.1   \n",
       "rating_count                                                        189   \n",
       "specs                 \\nWeights & Dimensions\\nSeat Cushion\\n\\n\\n    ...   \n",
       "title                                          Convertible Sleeper Sofa   \n",
       "url                   http://www.wayfair.com/Convertible-Sleeper-Sof...   \n",
       "website                                                         wayfair   \n",
       "\n",
       "                                                                    10   \\\n",
       "category                                                           sofa   \n",
       "colors                            [Purple, Red, Brown, Dark Grey, Grey]   \n",
       "description           This luxurious sofa merging with style and ele...   \n",
       "features              [\\nFeatures\\n\\nCarthusia collection\\nRubberwoo...   \n",
       "image_links_all       [https://secure.img2.wfrcdn.com/lf/49/hash/296...   \n",
       "image_links_by_color  {u'Purple': [u'https://secure.img2.wfrcdn.com/...   \n",
       "manufacturer                                             Kingstown Home   \n",
       "price                                                           $829.99   \n",
       "product_id                                                     KMDS1431   \n",
       "rating_avg                                                          4.5   \n",
       "rating_count                                                         91   \n",
       "specs                 \\nWeights & Dimensions\\nSeat Cushion\\n\\n\\n    ...   \n",
       "title                                                    Carthusia Sofa   \n",
       "url                   http://www.wayfair.com/Kingstown-Home-Carthusi...   \n",
       "website                                                         wayfair   \n",
       "\n",
       "                                                                    100  \\\n",
       "category                                                           sofa   \n",
       "colors                                         [Ash, Graphite, Natural]   \n",
       "description           tion’s mid-century modern design is masterfull...   \n",
       "features              [\\nFeatures\\n\\nCovered in durable, easy-to-cle...   \n",
       "image_links_all       [https://secure.img1.wfrcdn.com/lf/49/hash/384...   \n",
       "image_links_by_color  {u'Graphite': [u'https://secure.img1.wfrcdn.co...   \n",
       "manufacturer                                           Carolina Accents   \n",
       "price                                                           $189.99   \n",
       "product_id                                                      ENT1245   \n",
       "rating_avg                                                          4.5   \n",
       "rating_count                                                         77   \n",
       "specs                 \\nWeights & Dimensions\\n\\n\\n\\n            Over...   \n",
       "title                                                 Makenzie Loveseat   \n",
       "url                   http://www.wayfair.com/Carolina-Accents-Makenz...   \n",
       "website                                                         wayfair   \n",
       "\n",
       "                                                                    101  \n",
       "category                                                           sofa  \n",
       "colors                [Greenwich Ivory, Greenwich Pecan, Greenwich L...  \n",
       "description           Casual and comfy, the Smith Loveseat offers an...  \n",
       "features              [\\nFeatures\\n\\nLoose back and seat cushions\\nH...  \n",
       "image_links_all       [https://secure.img1.wfrcdn.com/lf/49/hash/308...  \n",
       "image_links_by_color  {u'Greenwich Pecan': [u'https://secure.img1.wf...  \n",
       "manufacturer                                              Andover Mills  \n",
       "price                                                           $289.99  \n",
       "product_id                                                     ANDO1550  \n",
       "rating_avg                                                          4.5  \n",
       "rating_count                                                         10  \n",
       "specs                 \\nWeights & Dimensions\\n\\n\\n\\n            Over...  \n",
       "title                                                    Smith Loveseat  \n",
       "url                   http://www.wayfair.com/Smith-Loveseat-ANDO1550...  \n",
       "website                                                         wayfair  "
      ]
     },
     "execution_count": 69,
     "metadata": {},
     "output_type": "execute_result"
    }
   ],
   "source": [
    "sofa_df.head().T"
   ]
  },
  {
   "cell_type": "code",
   "execution_count": 70,
   "metadata": {
    "collapsed": true
   },
   "outputs": [],
   "source": [
    "def clean_text_data(df):\n",
    "    df['product_id'] = df['product_id'].apply(lambda x: x.strip())\n",
    "    df['price'] = df['price'].apply(lambda x:float(x.strip('$').replace(',','').split()[0]))\n",
    "    df['features'] = df['features'].apply(lambda x: '\\n'.join(x) if type(x)==list else x)\n",
    "    df['description'] = df['description'].apply(lambda x: '\\n'.join(x) if type(x)==list else x)\n",
    "    df['description_all'] = df['description'] + '\\n' + df['features']\n",
    "    return df"
   ]
  },
  {
   "cell_type": "code",
   "execution_count": 72,
   "metadata": {
    "collapsed": false
   },
   "outputs": [
    {
     "name": "stdout",
     "output_type": "stream",
     "text": [
      "0.0136740207672\n"
     ]
    }
   ],
   "source": [
    "start = time.time()\n",
    "sofa_df = clean_text_data(sofa_df)\n",
    "print time.time() - start"
   ]
  },
  {
   "cell_type": "code",
   "execution_count": 73,
   "metadata": {
    "collapsed": false,
    "scrolled": true
   },
   "outputs": [
    {
     "name": "stdout",
     "output_type": "stream",
     "text": [
      "<class 'pandas.core.frame.DataFrame'>\n",
      "Float64Index: 480 entries, 0.0 to 99.0\n",
      "Data columns (total 16 columns):\n",
      "category                480 non-null object\n",
      "colors                  480 non-null object\n",
      "description             359 non-null object\n",
      "features                480 non-null object\n",
      "image_links_all         480 non-null object\n",
      "image_links_by_color    480 non-null object\n",
      "manufacturer            480 non-null object\n",
      "price                   480 non-null float64\n",
      "product_id              480 non-null object\n",
      "rating_avg              420 non-null float64\n",
      "rating_count            420 non-null float64\n",
      "specs                   470 non-null object\n",
      "title                   480 non-null object\n",
      "url                     480 non-null object\n",
      "website                 480 non-null object\n",
      "description_all         359 non-null object\n",
      "dtypes: float64(3), object(13)\n",
      "memory usage: 63.8+ KB\n"
     ]
    }
   ],
   "source": [
    "sofa_df.info()"
   ]
  },
  {
   "cell_type": "code",
   "execution_count": 74,
   "metadata": {
    "collapsed": false,
    "scrolled": true
   },
   "outputs": [
    {
     "data": {
      "text/html": [
       "<div>\n",
       "<table border=\"1\" class=\"dataframe\">\n",
       "  <thead>\n",
       "    <tr style=\"text-align: right;\">\n",
       "      <th></th>\n",
       "      <th>0.0</th>\n",
       "      <th>1.0</th>\n",
       "      <th>10.0</th>\n",
       "      <th>100.0</th>\n",
       "      <th>101.0</th>\n",
       "    </tr>\n",
       "  </thead>\n",
       "  <tbody>\n",
       "    <tr>\n",
       "      <th>category</th>\n",
       "      <td>sofa</td>\n",
       "      <td>sofa</td>\n",
       "      <td>sofa</td>\n",
       "      <td>sofa</td>\n",
       "      <td>sofa</td>\n",
       "    </tr>\n",
       "    <tr>\n",
       "      <th>colors</th>\n",
       "      <td>[Cobblestone, Café, Mocha, Sage, Salsa, Stone]</td>\n",
       "      <td>[Blue Linen / Chevron, Blue Linen / Greek Key,...</td>\n",
       "      <td>[Purple, Red, Brown, Dark Grey, Grey]</td>\n",
       "      <td>[Ash, Graphite, Natural]</td>\n",
       "      <td>[Greenwich Ivory, Greenwich Pecan, Greenwich L...</td>\n",
       "    </tr>\n",
       "    <tr>\n",
       "      <th>description</th>\n",
       "      <td>Add a touch of comfort and style to your home ...</td>\n",
       "      <td>Sleeping on the sofa has never been so chic. S...</td>\n",
       "      <td>This luxurious sofa merging with style and ele...</td>\n",
       "      <td>tion’s mid-century modern design is masterfull...</td>\n",
       "      <td>Casual and comfy, the Smith Loveseat offers an...</td>\n",
       "    </tr>\n",
       "    <tr>\n",
       "      <th>features</th>\n",
       "      <td>\\nFeatures\\n\\nHarvest collection\\nMaterial: 10...</td>\n",
       "      <td>\\nFeatures\\n\\nMaterial: 100% Polyester Linen\\n...</td>\n",
       "      <td>\\nFeatures\\n\\nCarthusia collection\\nRubberwood...</td>\n",
       "      <td>\\nFeatures\\n\\nCovered in durable, easy-to-clea...</td>\n",
       "      <td>\\nFeatures\\n\\nLoose back and seat cushions\\nHi...</td>\n",
       "    </tr>\n",
       "    <tr>\n",
       "      <th>image_links_all</th>\n",
       "      <td>[https://secure.img2.wfrcdn.com/lf/49/hash/266...</td>\n",
       "      <td>[https://secure.img1.wfrcdn.com/lf/49/hash/338...</td>\n",
       "      <td>[https://secure.img2.wfrcdn.com/lf/49/hash/296...</td>\n",
       "      <td>[https://secure.img1.wfrcdn.com/lf/49/hash/384...</td>\n",
       "      <td>[https://secure.img1.wfrcdn.com/lf/49/hash/308...</td>\n",
       "    </tr>\n",
       "    <tr>\n",
       "      <th>image_links_by_color</th>\n",
       "      <td>{u'Stone': [u'https://secure.img2.wfrcdn.com/l...</td>\n",
       "      <td>{u'Blue Linen / Chevron': [u'https://secure.im...</td>\n",
       "      <td>{u'Purple': [u'https://secure.img2.wfrcdn.com/...</td>\n",
       "      <td>{u'Graphite': [u'https://secure.img1.wfrcdn.co...</td>\n",
       "      <td>{u'Greenwich Pecan': [u'https://secure.img1.wf...</td>\n",
       "    </tr>\n",
       "    <tr>\n",
       "      <th>manufacturer</th>\n",
       "      <td>Signature Design by Ashley</td>\n",
       "      <td>Mercury Row</td>\n",
       "      <td>Kingstown Home</td>\n",
       "      <td>Carolina Accents</td>\n",
       "      <td>Andover Mills</td>\n",
       "    </tr>\n",
       "    <tr>\n",
       "      <th>price</th>\n",
       "      <td>357.99</td>\n",
       "      <td>529.99</td>\n",
       "      <td>829.99</td>\n",
       "      <td>189.99</td>\n",
       "      <td>289.99</td>\n",
       "    </tr>\n",
       "    <tr>\n",
       "      <th>product_id</th>\n",
       "      <td>GNT3224</td>\n",
       "      <td>MCRR1650</td>\n",
       "      <td>KMDS1431</td>\n",
       "      <td>ENT1245</td>\n",
       "      <td>ANDO1550</td>\n",
       "    </tr>\n",
       "    <tr>\n",
       "      <th>rating_avg</th>\n",
       "      <td>4.4</td>\n",
       "      <td>4.1</td>\n",
       "      <td>4.5</td>\n",
       "      <td>4.5</td>\n",
       "      <td>4.5</td>\n",
       "    </tr>\n",
       "    <tr>\n",
       "      <th>rating_count</th>\n",
       "      <td>115</td>\n",
       "      <td>189</td>\n",
       "      <td>91</td>\n",
       "      <td>77</td>\n",
       "      <td>10</td>\n",
       "    </tr>\n",
       "    <tr>\n",
       "      <th>specs</th>\n",
       "      <td>\\nWeights &amp; Dimensions\\n\\n\\n\\n            Over...</td>\n",
       "      <td>\\nWeights &amp; Dimensions\\nSeat Cushion\\n\\n\\n    ...</td>\n",
       "      <td>\\nWeights &amp; Dimensions\\nSeat Cushion\\n\\n\\n    ...</td>\n",
       "      <td>\\nWeights &amp; Dimensions\\n\\n\\n\\n            Over...</td>\n",
       "      <td>\\nWeights &amp; Dimensions\\n\\n\\n\\n            Over...</td>\n",
       "    </tr>\n",
       "    <tr>\n",
       "      <th>title</th>\n",
       "      <td>Harvest Sofa</td>\n",
       "      <td>Convertible Sleeper Sofa</td>\n",
       "      <td>Carthusia Sofa</td>\n",
       "      <td>Makenzie Loveseat</td>\n",
       "      <td>Smith Loveseat</td>\n",
       "    </tr>\n",
       "    <tr>\n",
       "      <th>url</th>\n",
       "      <td>http://www.wayfair.com/Harvest-Sofa-7500-GNT32...</td>\n",
       "      <td>http://www.wayfair.com/Convertible-Sleeper-Sof...</td>\n",
       "      <td>http://www.wayfair.com/Kingstown-Home-Carthusi...</td>\n",
       "      <td>http://www.wayfair.com/Carolina-Accents-Makenz...</td>\n",
       "      <td>http://www.wayfair.com/Smith-Loveseat-ANDO1550...</td>\n",
       "    </tr>\n",
       "    <tr>\n",
       "      <th>website</th>\n",
       "      <td>wayfair</td>\n",
       "      <td>wayfair</td>\n",
       "      <td>wayfair</td>\n",
       "      <td>wayfair</td>\n",
       "      <td>wayfair</td>\n",
       "    </tr>\n",
       "    <tr>\n",
       "      <th>description_all</th>\n",
       "      <td>Add a touch of comfort and style to your home ...</td>\n",
       "      <td>Sleeping on the sofa has never been so chic. S...</td>\n",
       "      <td>This luxurious sofa merging with style and ele...</td>\n",
       "      <td>tion’s mid-century modern design is masterfull...</td>\n",
       "      <td>Casual and comfy, the Smith Loveseat offers an...</td>\n",
       "    </tr>\n",
       "  </tbody>\n",
       "</table>\n",
       "</div>"
      ],
      "text/plain": [
       "                                                                    0    \\\n",
       "category                                                           sofa   \n",
       "colors                   [Cobblestone, Café, Mocha, Sage, Salsa, Stone]   \n",
       "description           Add a touch of comfort and style to your home ...   \n",
       "features              \\nFeatures\\n\\nHarvest collection\\nMaterial: 10...   \n",
       "image_links_all       [https://secure.img2.wfrcdn.com/lf/49/hash/266...   \n",
       "image_links_by_color  {u'Stone': [u'https://secure.img2.wfrcdn.com/l...   \n",
       "manufacturer                                 Signature Design by Ashley   \n",
       "price                                                            357.99   \n",
       "product_id                                                      GNT3224   \n",
       "rating_avg                                                          4.4   \n",
       "rating_count                                                        115   \n",
       "specs                 \\nWeights & Dimensions\\n\\n\\n\\n            Over...   \n",
       "title                                                      Harvest Sofa   \n",
       "url                   http://www.wayfair.com/Harvest-Sofa-7500-GNT32...   \n",
       "website                                                         wayfair   \n",
       "description_all       Add a touch of comfort and style to your home ...   \n",
       "\n",
       "                                                                    1    \\\n",
       "category                                                           sofa   \n",
       "colors                [Blue Linen / Chevron, Blue Linen / Greek Key,...   \n",
       "description           Sleeping on the sofa has never been so chic. S...   \n",
       "features              \\nFeatures\\n\\nMaterial: 100% Polyester Linen\\n...   \n",
       "image_links_all       [https://secure.img1.wfrcdn.com/lf/49/hash/338...   \n",
       "image_links_by_color  {u'Blue Linen / Chevron': [u'https://secure.im...   \n",
       "manufacturer                                                Mercury Row   \n",
       "price                                                            529.99   \n",
       "product_id                                                     MCRR1650   \n",
       "rating_avg                                                          4.1   \n",
       "rating_count                                                        189   \n",
       "specs                 \\nWeights & Dimensions\\nSeat Cushion\\n\\n\\n    ...   \n",
       "title                                          Convertible Sleeper Sofa   \n",
       "url                   http://www.wayfair.com/Convertible-Sleeper-Sof...   \n",
       "website                                                         wayfair   \n",
       "description_all       Sleeping on the sofa has never been so chic. S...   \n",
       "\n",
       "                                                                    10   \\\n",
       "category                                                           sofa   \n",
       "colors                            [Purple, Red, Brown, Dark Grey, Grey]   \n",
       "description           This luxurious sofa merging with style and ele...   \n",
       "features              \\nFeatures\\n\\nCarthusia collection\\nRubberwood...   \n",
       "image_links_all       [https://secure.img2.wfrcdn.com/lf/49/hash/296...   \n",
       "image_links_by_color  {u'Purple': [u'https://secure.img2.wfrcdn.com/...   \n",
       "manufacturer                                             Kingstown Home   \n",
       "price                                                            829.99   \n",
       "product_id                                                     KMDS1431   \n",
       "rating_avg                                                          4.5   \n",
       "rating_count                                                         91   \n",
       "specs                 \\nWeights & Dimensions\\nSeat Cushion\\n\\n\\n    ...   \n",
       "title                                                    Carthusia Sofa   \n",
       "url                   http://www.wayfair.com/Kingstown-Home-Carthusi...   \n",
       "website                                                         wayfair   \n",
       "description_all       This luxurious sofa merging with style and ele...   \n",
       "\n",
       "                                                                    100  \\\n",
       "category                                                           sofa   \n",
       "colors                                         [Ash, Graphite, Natural]   \n",
       "description           tion’s mid-century modern design is masterfull...   \n",
       "features              \\nFeatures\\n\\nCovered in durable, easy-to-clea...   \n",
       "image_links_all       [https://secure.img1.wfrcdn.com/lf/49/hash/384...   \n",
       "image_links_by_color  {u'Graphite': [u'https://secure.img1.wfrcdn.co...   \n",
       "manufacturer                                           Carolina Accents   \n",
       "price                                                            189.99   \n",
       "product_id                                                      ENT1245   \n",
       "rating_avg                                                          4.5   \n",
       "rating_count                                                         77   \n",
       "specs                 \\nWeights & Dimensions\\n\\n\\n\\n            Over...   \n",
       "title                                                 Makenzie Loveseat   \n",
       "url                   http://www.wayfair.com/Carolina-Accents-Makenz...   \n",
       "website                                                         wayfair   \n",
       "description_all       tion’s mid-century modern design is masterfull...   \n",
       "\n",
       "                                                                    101  \n",
       "category                                                           sofa  \n",
       "colors                [Greenwich Ivory, Greenwich Pecan, Greenwich L...  \n",
       "description           Casual and comfy, the Smith Loveseat offers an...  \n",
       "features              \\nFeatures\\n\\nLoose back and seat cushions\\nHi...  \n",
       "image_links_all       [https://secure.img1.wfrcdn.com/lf/49/hash/308...  \n",
       "image_links_by_color  {u'Greenwich Pecan': [u'https://secure.img1.wf...  \n",
       "manufacturer                                              Andover Mills  \n",
       "price                                                            289.99  \n",
       "product_id                                                     ANDO1550  \n",
       "rating_avg                                                          4.5  \n",
       "rating_count                                                         10  \n",
       "specs                 \\nWeights & Dimensions\\n\\n\\n\\n            Over...  \n",
       "title                                                    Smith Loveseat  \n",
       "url                   http://www.wayfair.com/Smith-Loveseat-ANDO1550...  \n",
       "website                                                         wayfair  \n",
       "description_all       Casual and comfy, the Smith Loveseat offers an...  "
      ]
     },
     "execution_count": 74,
     "metadata": {},
     "output_type": "execute_result"
    }
   ],
   "source": [
    "sofa_df.head().T"
   ]
  },
  {
   "cell_type": "code",
   "execution_count": 75,
   "metadata": {
    "collapsed": true
   },
   "outputs": [],
   "source": [
    "sofa_df.to_json('wayfair/sofa_clean.json')"
   ]
  },
  {
   "cell_type": "markdown",
   "metadata": {},
   "source": [
    "# TFIDF: description + features\n",
    "#### Then cluster"
   ]
  },
  {
   "cell_type": "code",
   "execution_count": 88,
   "metadata": {
    "collapsed": true
   },
   "outputs": [],
   "source": [
    "import collections\n",
    "from nltk import word_tokenize\n",
    "from nltk.stem import PorterStemmer\n",
    "from nltk.corpus import stopwords"
   ]
  },
  {
   "cell_type": "code",
   "execution_count": 85,
   "metadata": {
    "collapsed": false
   },
   "outputs": [],
   "source": [
    "X = sofa_df['description_all'][sofa_df['description_all'].notnull()]\n",
    "tfidf = TfidfVectorizer(strip_accents='unicode', stop_words='english', max_features=5000, ngram_range = (1,3))\n",
    "tfidf_matrix = tfidf.fit_transform(X).todense()"
   ]
  },
  {
   "cell_type": "code",
   "execution_count": 86,
   "metadata": {
    "collapsed": false
   },
   "outputs": [
    {
     "data": {
      "text/plain": [
       "KMeans(copy_x=True, init='k-means++', max_iter=300, n_clusters=10, n_init=10,\n",
       "    n_jobs=1, precompute_distances='auto', random_state=None, tol=0.0001,\n",
       "    verbose=0)"
      ]
     },
     "execution_count": 86,
     "metadata": {},
     "output_type": "execute_result"
    }
   ],
   "source": [
    "km_model = KMeans(n_clusters=10)\n",
    "km_model.fit(tfidf_matrix)"
   ]
  },
  {
   "cell_type": "code",
   "execution_count": 89,
   "metadata": {
    "collapsed": false
   },
   "outputs": [],
   "source": [
    "clustering = collections.defaultdict(list)\n",
    "\n",
    "for i, label in enumerate(km_model.labels_):\n",
    "    clustering[label].append(i)"
   ]
  },
  {
   "cell_type": "code",
   "execution_count": 100,
   "metadata": {
    "collapsed": false
   },
   "outputs": [
    {
     "name": "stdout",
     "output_type": "stream",
     "text": [
      "0 [159, 173, 185, 191, 225, 265, 297, 305, 325, 326, 329, 354, 359, 376, 385, 411, 428, 458, 473]\n",
      "1 [117, 122, 134, 176, 177, 184, 199, 2, 201, 219, 22, 234, 246, 249, 258, 260, 269, 272, 304, 306, 307, 319, 331, 343, 357, 362, 368, 37, 393, 401, 41, 416, 42, 433, 453, 472, 48, 52, 60, 94]\n",
      "2 [12, 18, 197, 20, 220, 288, 336, 356, 381, 387, 449, 468, 92]\n",
      "3 [109, 115, 125, 135, 139, 247, 251, 271, 339, 346, 360, 373, 377, 391, 392, 476, 56, 66, 87, 96]\n",
      "4 [128, 146, 170, 179, 202, 206, 223, 267, 268, 274, 285, 295, 298, 378, 39, 86]\n",
      "5 [100, 106, 126, 130, 132, 15, 150, 157, 162, 193, 203, 211, 216, 217, 250, 255, 26, 261, 281, 290, 292, 309, 334, 35, 413, 435, 444, 46, 477, 54, 65, 74, 81, 9]\n",
      "6 [112, 127, 143, 149, 155, 163, 167, 187, 226, 25, 264, 278, 315, 316, 330, 342, 38, 400, 403, 419, 464]\n",
      "7 [10, 102, 105, 148, 164, 169, 180, 186, 190, 192, 198, 200, 208, 218, 231, 240, 244, 277, 279, 283, 284, 286, 29, 300, 303, 308, 314, 335, 358, 367, 372, 379, 382, 383, 389, 398, 402, 404, 405, 406, 407, 426, 429, 431, 434, 44, 459, 463, 467, 47, 474, 475, 55, 64, 68, 95]\n",
      "8 [101, 118, 123, 141, 156, 16, 161, 17, 171, 19, 194, 214, 23, 27, 32, 63, 70, 75, 79, 80, 88]\n",
      "9 [0, 1, 103, 104, 108, 11, 110, 114, 116, 119, 120, 129, 13, 133, 136, 14, 142, 147, 151, 152, 158, 165, 166, 168, 178, 183, 188, 189, 195, 196, 204, 212, 215, 221, 224, 227, 228, 233, 243, 245, 248, 252, 256, 259, 263, 266, 275, 289, 291, 296, 3, 301, 310, 311, 321, 322, 327, 328, 33, 332, 338, 34, 340, 344, 345, 349, 353, 355, 36, 361, 365, 370, 371, 380, 384, 386, 4, 40, 408, 412, 414, 417, 422, 427, 43, 430, 440, 445, 446, 448, 45, 450, 454, 456, 462, 465, 466, 478, 479, 49, 5, 51, 59, 6, 61, 62, 69, 7, 71, 72, 78, 8, 82, 83, 85, 89, 90, 91, 93]\n"
     ]
    }
   ],
   "source": [
    "for i in clustering:\n",
    "    print i, [int(X.index[j]) for j in clustering[i]]"
   ]
  },
  {
   "cell_type": "code",
   "execution_count": null,
   "metadata": {
    "collapsed": true
   },
   "outputs": [],
   "source": []
  }
 ],
 "metadata": {
  "kernelspec": {
   "display_name": "Python 2",
   "language": "python",
   "name": "python2"
  },
  "language_info": {
   "codemirror_mode": {
    "name": "ipython",
    "version": 2
   },
   "file_extension": ".py",
   "mimetype": "text/x-python",
   "name": "python",
   "nbconvert_exporter": "python",
   "pygments_lexer": "ipython2",
   "version": "2.7.10"
  }
 },
 "nbformat": 4,
 "nbformat_minor": 0
}
