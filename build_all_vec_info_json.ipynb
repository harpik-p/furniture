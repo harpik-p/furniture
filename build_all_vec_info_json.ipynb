{
 "cells": [
  {
   "cell_type": "code",
   "execution_count": 17,
   "metadata": {
    "collapsed": false
   },
   "outputs": [],
   "source": [
    "import numpy as np\n",
    "import pandas as pd\n",
    "import cPickle as pickle\n",
    "from image_processing_new import get_paths, get_domi_color, image_featurizer\n",
    "from collections import defaultdict\n",
    "from scipy.spatial.distance import cosine, euclidean\n",
    "from sklearn.feature_extraction.text import TfidfVectorizer"
   ]
  },
  {
   "cell_type": "code",
   "execution_count": 3,
   "metadata": {
    "collapsed": true
   },
   "outputs": [],
   "source": [
    "import os.path\n",
    "import matplotlib.pyplot as plt\n",
    "import time\n",
    "% matplotlib inline"
   ]
  },
  {
   "cell_type": "markdown",
   "metadata": {},
   "source": [
    "# Coffee table"
   ]
  },
  {
   "cell_type": "code",
   "execution_count": 6,
   "metadata": {
    "collapsed": false
   },
   "outputs": [
    {
     "name": "stdout",
     "output_type": "stream",
     "text": [
      "# of grayscaled photos:  0\n",
      "get_domi_color:  1576.44073892\n"
     ]
    },
    {
     "name": "stderr",
     "output_type": "stream",
     "text": [
      "//anaconda/lib/python2.7/site-packages/skimage/util/dtype.py:111: UserWarning: Possible precision loss when converting from float64 to uint8\n",
      "  \"%s to %s\" % (dtypeobj_in, dtypeobj))\n"
     ]
    }
   ],
   "source": [
    "category = 'coffee_table'\n",
    "paths = get_paths(category)\n",
    "len(paths)\n",
    "\n",
    "start_time =  time.time()\n",
    "# Get dominant color:\n",
    "domi_color_dict = get_domi_color(paths, category)\n",
    "time_1 =  time.time()\n",
    "print 'get_domi_color: ', time_1 - start_time"
   ]
  },
  {
   "cell_type": "code",
   "execution_count": 8,
   "metadata": {
    "collapsed": true
   },
   "outputs": [],
   "source": [
    "# Get PCAed features and pickle transformers:\n",
    "feature_dict_pca, pca_scaler, pca_model = image_featurizer(category, pca=True)\n",
    "\n",
    "path = 'wayfair/pickle/' + category + '_pca_scaler.pkl'\n",
    "with open(path, 'w') as f:\n",
    "    pickle.dump(pca_scaler, f)\n",
    "path = 'wayfair/pickle/' + category + '_pca_model.pkl'\n",
    "with open(path, 'w') as f:\n",
    "    pickle.dump(pca_model, f)"
   ]
  },
  {
   "cell_type": "code",
   "execution_count": 12,
   "metadata": {
    "collapsed": false
   },
   "outputs": [],
   "source": [
    "# Building dataframe from dictionaries:\n",
    "domi_pca_dict = defaultdict(dict)\n",
    "for i in domi_color_dict:\n",
    "    domi_pca_dict[i]['domi'] = domi_color_dict[i]\n",
    "for i in feature_dict_pca:\n",
    "    domi_pca_dict[i]['pca'] = feature_dict_pca[i]\n",
    "\n",
    "domi_pca_df = pd.DataFrame(domi_pca_dict).T\n",
    "domi_pca_df = domi_pca_df.reset_index()\n",
    "domi_pca_df.rename(columns={'index': 'path'}, inplace=True)\n",
    "domi_pca_df['product_id'] = domi_pca_df['path'].apply(lambda x:x.split('.')[0].split('_')[-2])\n",
    "\n",
    "path = 'wayfair/' + category +'.json'\n",
    "products_df = pd.read_json(path)\n",
    "\n",
    "products_df_small = products_df[['product_id', 'title', 'price', 'url', 'description_all', 'rating_avg', 'rating_count']]\n",
    "\n",
    "all_info_df = pd.merge(domi_pca_df, products_df_small, how='inner', left_on='product_id', \n",
    "                            right_on='product_id')"
   ]
  },
  {
   "cell_type": "code",
   "execution_count": 19,
   "metadata": {
    "collapsed": false
   },
   "outputs": [],
   "source": [
    "# Train a tfidf vectorizer & pickle it:\n",
    "X = all_info_df['description_all']\n",
    "tfidf = TfidfVectorizer(strip_accents='unicode', stop_words='english', max_df=0.8, \n",
    "                        max_features=1000, ngram_range = (1,2))\n",
    "tfidf_matrix = tfidf.fit_transform(X).todense()\n",
    "\n",
    "path = 'wayfair/pickle/' + category + '_tfidf.pkl'\n",
    "with open(path, 'w') as f:\n",
    "    pickle.dump(tfidf, f)"
   ]
  },
  {
   "cell_type": "code",
   "execution_count": 20,
   "metadata": {
    "collapsed": true
   },
   "outputs": [],
   "source": [
    "# Add tfide vectors to the dataframe:\n",
    "tfidf_matrix = np.array(tfidf_matrix)\n",
    "\n",
    "tfidf_dict = defaultdict(dict)\n",
    "for i in xrange(tfidf_matrix.shape[0]):\n",
    "    index = X.index[i]\n",
    "    tfidf_dict[index]['tfidf_vec'] = tfidf_matrix[i,:]\n",
    "    \n",
    "tfidf_df = pd.DataFrame(tfidf_dict).T\n",
    "tfidf_df = tfidf_df.reset_index()\n",
    "tfidf_df.rename(columns={'index': 'ixx'}, inplace=True)\n",
    "\n",
    "all_info_df = pd.merge(all_info_df, tfidf_df, how='inner', left_index=True, right_on='ixx')\n",
    "all_info_df.drop('ixx', axis=1, inplace=True)"
   ]
  },
  {
   "cell_type": "code",
   "execution_count": 22,
   "metadata": {
    "collapsed": true
   },
   "outputs": [],
   "source": [
    "# some final clearning & save to json:\n",
    "all_info_df = all_info_df[all_info_df['domi'].notnull()]\n",
    "all_info_df = all_info_df[all_info_df['pca'].notnull()]\n",
    "all_info_df = all_info_df[all_info_df['description_all'].notnull()]\n",
    "\n",
    "path = 'wayfair/' + category + '_vec_info.json'\n",
    "all_info_df.to_json(path)"
   ]
  },
  {
   "cell_type": "code",
   "execution_count": null,
   "metadata": {
    "collapsed": true
   },
   "outputs": [],
   "source": [
    "all_info_df.head()"
   ]
  },
  {
   "cell_type": "markdown",
   "metadata": {},
   "source": [
    "# Write the whole process into a .py file and process images from all other categories!"
   ]
  },
  {
   "cell_type": "markdown",
   "metadata": {},
   "source": [
    "dining\n",
    "\n",
    "office\n",
    "bookcase\n",
    "bed\n",
    "nightstand\n",
    "dresser"
   ]
  },
  {
   "cell_type": "code",
   "execution_count": 25,
   "metadata": {
    "collapsed": true
   },
   "outputs": [],
   "source": [
    "from all_vec_info_database_builder import build_all_vec_info_json"
   ]
  },
  {
   "cell_type": "code",
   "execution_count": null,
   "metadata": {
    "collapsed": true
   },
   "outputs": [],
   "source": [
    "category = 'dining'\n",
    "build_all_vec_info_json(category)"
   ]
  },
  {
   "cell_type": "code",
   "execution_count": null,
   "metadata": {
    "collapsed": true
   },
   "outputs": [],
   "source": []
  },
  {
   "cell_type": "code",
   "execution_count": null,
   "metadata": {
    "collapsed": true
   },
   "outputs": [],
   "source": []
  }
 ],
 "metadata": {
  "kernelspec": {
   "display_name": "Python 2",
   "language": "python",
   "name": "python2"
  },
  "language_info": {
   "codemirror_mode": {
    "name": "ipython",
    "version": 2
   },
   "file_extension": ".py",
   "mimetype": "text/x-python",
   "name": "python",
   "nbconvert_exporter": "python",
   "pygments_lexer": "ipython2",
   "version": "2.7.10"
  }
 },
 "nbformat": 4,
 "nbformat_minor": 0
}
