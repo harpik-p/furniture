{
 "cells": [
  {
   "cell_type": "code",
   "execution_count": 17,
   "metadata": {
    "collapsed": false
   },
   "outputs": [],
   "source": [
    "import numpy as np\n",
    "import pandas as pd\n",
    "import cPickle as pickle\n",
    "from image_processing_new import get_paths, get_domi_color, image_featurizer\n",
    "from collections import defaultdict\n",
    "from scipy.spatial.distance import cosine, euclidean\n",
    "from sklearn.feature_extraction.text import TfidfVectorizer"
   ]
  },
  {
   "cell_type": "code",
   "execution_count": 3,
   "metadata": {
    "collapsed": true
   },
   "outputs": [],
   "source": [
    "import os.path\n",
    "import matplotlib.pyplot as plt\n",
    "import time\n",
    "% matplotlib inline"
   ]
  },
  {
   "cell_type": "markdown",
   "metadata": {},
   "source": [
    "# Coffee table"
   ]
  },
  {
   "cell_type": "code",
   "execution_count": 6,
   "metadata": {
    "collapsed": false
   },
   "outputs": [
    {
     "name": "stdout",
     "output_type": "stream",
     "text": [
      "# of grayscaled photos:  0\n",
      "get_domi_color:  1576.44073892\n"
     ]
    },
    {
     "name": "stderr",
     "output_type": "stream",
     "text": [
      "//anaconda/lib/python2.7/site-packages/skimage/util/dtype.py:111: UserWarning: Possible precision loss when converting from float64 to uint8\n",
      "  \"%s to %s\" % (dtypeobj_in, dtypeobj))\n"
     ]
    }
   ],
   "source": [
    "category = 'coffee_table'\n",
    "paths = get_paths(category)\n",
    "len(paths)\n",
    "\n",
    "start_time =  time.time()\n",
    "# Get dominant color:\n",
    "domi_color_dict = get_domi_color(paths, category)\n",
    "time_1 =  time.time()\n",
    "print 'get_domi_color: ', time_1 - start_time"
   ]
  },
  {
   "cell_type": "code",
   "execution_count": 8,
   "metadata": {
    "collapsed": true
   },
   "outputs": [],
   "source": [
    "# Get PCAed features and pickle transformers:\n",
    "feature_dict_pca, pca_scaler, pca_model = image_featurizer(category, pca=True)\n",
    "\n",
    "path = 'wayfair/pickle/' + category + '_pca_scaler.pkl'\n",
    "with open(path, 'w') as f:\n",
    "    pickle.dump(pca_scaler, f)\n",
    "path = 'wayfair/pickle/' + category + '_pca_model.pkl'\n",
    "with open(path, 'w') as f:\n",
    "    pickle.dump(pca_model, f)"
   ]
  },
  {
   "cell_type": "code",
   "execution_count": 12,
   "metadata": {
    "collapsed": false
   },
   "outputs": [],
   "source": [
    "# Building dataframe from dictionaries:\n",
    "domi_pca_dict = defaultdict(dict)\n",
    "for i in domi_color_dict:\n",
    "    domi_pca_dict[i]['domi'] = domi_color_dict[i]\n",
    "for i in feature_dict_pca:\n",
    "    domi_pca_dict[i]['pca'] = feature_dict_pca[i]\n",
    "\n",
    "domi_pca_df = pd.DataFrame(domi_pca_dict).T\n",
    "domi_pca_df = domi_pca_df.reset_index()\n",
    "domi_pca_df.rename(columns={'index': 'path'}, inplace=True)\n",
    "domi_pca_df['product_id'] = domi_pca_df['path'].apply(lambda x:x.split('.')[0].split('_')[-2])\n",
    "\n",
    "path = 'wayfair/' + category +'.json'\n",
    "products_df = pd.read_json(path)\n",
    "\n",
    "products_df_small = products_df[['product_id', 'title', 'price', 'url', 'description_all', 'rating_avg', 'rating_count']]\n",
    "\n",
    "all_info_df = pd.merge(domi_pca_df, products_df_small, how='inner', left_on='product_id', \n",
    "                            right_on='product_id')"
   ]
  },
  {
   "cell_type": "code",
   "execution_count": 19,
   "metadata": {
    "collapsed": false
   },
   "outputs": [],
   "source": [
    "# Train a tfidf vectorizer & pickle it:\n",
    "X = all_info_df['description_all']\n",
    "tfidf = TfidfVectorizer(strip_accents='unicode', stop_words='english', max_df=0.8, \n",
    "                        max_features=1000, ngram_range = (1,2))\n",
    "tfidf_matrix = tfidf.fit_transform(X).todense()\n",
    "\n",
    "path = 'wayfair/pickle/' + category + '_tfidf.pkl'\n",
    "with open(path, 'w') as f:\n",
    "    pickle.dump(tfidf, f)"
   ]
  },
  {
   "cell_type": "code",
   "execution_count": 20,
   "metadata": {
    "collapsed": true
   },
   "outputs": [],
   "source": [
    "# Add tfide vectors to the dataframe:\n",
    "tfidf_matrix = np.array(tfidf_matrix)\n",
    "\n",
    "tfidf_dict = defaultdict(dict)\n",
    "for i in xrange(tfidf_matrix.shape[0]):\n",
    "    index = X.index[i]\n",
    "    tfidf_dict[index]['tfidf_vec'] = tfidf_matrix[i,:]\n",
    "    \n",
    "tfidf_df = pd.DataFrame(tfidf_dict).T\n",
    "tfidf_df = tfidf_df.reset_index()\n",
    "tfidf_df.rename(columns={'index': 'ixx'}, inplace=True)\n",
    "\n",
    "all_info_df = pd.merge(all_info_df, tfidf_df, how='inner', left_index=True, right_on='ixx')\n",
    "all_info_df.drop('ixx', axis=1, inplace=True)"
   ]
  },
  {
   "cell_type": "code",
   "execution_count": 22,
   "metadata": {
    "collapsed": true
   },
   "outputs": [],
   "source": [
    "# some final clearning & save to json:\n",
    "all_info_df = all_info_df[all_info_df['domi'].notnull()]\n",
    "all_info_df = all_info_df[all_info_df['pca'].notnull()]\n",
    "all_info_df = all_info_df[all_info_df['description_all'].notnull()]\n",
    "\n",
    "path = 'wayfair/' + category + '_vec_info.json'\n",
    "all_info_df.to_json(path)"
   ]
  },
  {
   "cell_type": "code",
   "execution_count": 28,
   "metadata": {
    "collapsed": false
   },
   "outputs": [
    {
     "data": {
      "text/html": [
       "<div>\n",
       "<table border=\"1\" class=\"dataframe\">\n",
       "  <thead>\n",
       "    <tr style=\"text-align: right;\">\n",
       "      <th></th>\n",
       "      <th>path</th>\n",
       "      <th>domi</th>\n",
       "      <th>pca</th>\n",
       "      <th>product_id</th>\n",
       "      <th>title</th>\n",
       "      <th>price</th>\n",
       "      <th>url</th>\n",
       "      <th>description_all</th>\n",
       "      <th>rating_avg</th>\n",
       "      <th>rating_count</th>\n",
       "      <th>tfidf_vec</th>\n",
       "    </tr>\n",
       "  </thead>\n",
       "  <tbody>\n",
       "    <tr>\n",
       "      <th>0</th>\n",
       "      <td>coffee_table_AAI1711_0.jpg</td>\n",
       "      <td>[0.53298166968, 0.350660610644, 0.208815895222]</td>\n",
       "      <td>[-29.7162485019, -51.6280376336, 12.5068592933...</td>\n",
       "      <td>AAI1711</td>\n",
       "      <td>Coffee Table</td>\n",
       "      <td>539.99</td>\n",
       "      <td>http://www.wayfair.com/AA-Importing-Coffee-Tab...</td>\n",
       "      <td>\\n\\nFeatures\\n\\nOne drawer\\nMedium stained fin...</td>\n",
       "      <td>4.8</td>\n",
       "      <td>5</td>\n",
       "      <td>[0.0, 0.0, 0.0, 0.0, 0.0, 0.0, 0.0, 0.0, 0.0, ...</td>\n",
       "    </tr>\n",
       "    <tr>\n",
       "      <th>1</th>\n",
       "      <td>coffee_table_AALA1038_0.jpg</td>\n",
       "      <td>[0.254172877804, 0.209493494858, 0.168938476459]</td>\n",
       "      <td>[-5.55174227093, -53.3880001647, 47.4155327017...</td>\n",
       "      <td>AALA1038</td>\n",
       "      <td>Downtown Square Cocktail Table</td>\n",
       "      <td>689.99</td>\n",
       "      <td>http://www.wayfair.com/Caravel-Downtown-Square...</td>\n",
       "      <td>Proudly made in Wisconsin, Downtown provides a...</td>\n",
       "      <td>NaN</td>\n",
       "      <td>NaN</td>\n",
       "      <td>[0.0, 0.0, 0.0, 0.0, 0.0, 0.0, 0.0, 0.0, 0.0, ...</td>\n",
       "    </tr>\n",
       "  </tbody>\n",
       "</table>\n",
       "</div>"
      ],
      "text/plain": [
       "                          path  \\\n",
       "0   coffee_table_AAI1711_0.jpg   \n",
       "1  coffee_table_AALA1038_0.jpg   \n",
       "\n",
       "                                               domi  \\\n",
       "0   [0.53298166968, 0.350660610644, 0.208815895222]   \n",
       "1  [0.254172877804, 0.209493494858, 0.168938476459]   \n",
       "\n",
       "                                                 pca product_id  \\\n",
       "0  [-29.7162485019, -51.6280376336, 12.5068592933...    AAI1711   \n",
       "1  [-5.55174227093, -53.3880001647, 47.4155327017...   AALA1038   \n",
       "\n",
       "                            title   price  \\\n",
       "0                    Coffee Table  539.99   \n",
       "1  Downtown Square Cocktail Table  689.99   \n",
       "\n",
       "                                                 url  \\\n",
       "0  http://www.wayfair.com/AA-Importing-Coffee-Tab...   \n",
       "1  http://www.wayfair.com/Caravel-Downtown-Square...   \n",
       "\n",
       "                                     description_all  rating_avg  \\\n",
       "0  \\n\\nFeatures\\n\\nOne drawer\\nMedium stained fin...         4.8   \n",
       "1  Proudly made in Wisconsin, Downtown provides a...         NaN   \n",
       "\n",
       "   rating_count                                          tfidf_vec  \n",
       "0             5  [0.0, 0.0, 0.0, 0.0, 0.0, 0.0, 0.0, 0.0, 0.0, ...  \n",
       "1           NaN  [0.0, 0.0, 0.0, 0.0, 0.0, 0.0, 0.0, 0.0, 0.0, ...  "
      ]
     },
     "execution_count": 28,
     "metadata": {},
     "output_type": "execute_result"
    }
   ],
   "source": [
    "all_info_df.head(2)"
   ]
  },
  {
   "cell_type": "markdown",
   "metadata": {},
   "source": [
    "# Write the whole process into a .py file and process images from all other categories!"
   ]
  },
  {
   "cell_type": "markdown",
   "metadata": {},
   "source": [
    "Done:\n",
    "* sofa\n",
    "* coffee_table\n",
    "* dining\n",
    "* office\n",
    "* bookcase\n",
    "* bed\n",
    "* nightstand\n",
    "* dresser"
   ]
  },
  {
   "cell_type": "code",
   "execution_count": 25,
   "metadata": {
    "collapsed": true
   },
   "outputs": [],
   "source": [
    "from all_vec_info_database_builder import build_all_vec_info_json"
   ]
  },
  {
   "cell_type": "code",
   "execution_count": 26,
   "metadata": {
    "collapsed": false
   },
   "outputs": [
    {
     "name": "stdout",
     "output_type": "stream",
     "text": [
      "11018\n",
      "# of grayscaled photos:  0\n",
      "get_domi_color:  4529.52110481\n"
     ]
    },
    {
     "name": "stderr",
     "output_type": "stream",
     "text": [
      "//anaconda/lib/python2.7/site-packages/skimage/io/_io.py:159: UserWarning: wayfair/images/dining/white/dining_chair_KTL1543_13.jpg is a low contrast image\n",
      "  warnings.warn('%s is a low contrast image' % fname)\n"
     ]
    }
   ],
   "source": [
    "category = 'dining'\n",
    "build_all_vec_info_json(category)"
   ]
  },
  {
   "cell_type": "markdown",
   "metadata": {},
   "source": [
    "### To do: delete \"dining_chair_KTL1543_13.jpg\"?"
   ]
  },
  {
   "cell_type": "code",
   "execution_count": 29,
   "metadata": {
    "collapsed": false
   },
   "outputs": [
    {
     "name": "stdout",
     "output_type": "stream",
     "text": [
      "<class 'pandas.core.frame.DataFrame'>\n",
      "Float64Index: 6825 entries, 0.0 to 999.0\n",
      "Data columns (total 11 columns):\n",
      "description_all    6825 non-null object\n",
      "domi               6825 non-null object\n",
      "path               6825 non-null object\n",
      "pca                6825 non-null object\n",
      "price              6825 non-null float64\n",
      "product_id         6825 non-null object\n",
      "rating_avg         4305 non-null float64\n",
      "rating_count       4305 non-null float64\n",
      "tfidf_vec          6825 non-null object\n",
      "title              6825 non-null object\n",
      "url                6825 non-null object\n",
      "dtypes: float64(3), object(8)\n",
      "memory usage: 639.8+ KB\n"
     ]
    }
   ],
   "source": [
    "test_df = pd.read_json('wayfair/dining_vec_info.json')\n",
    "test_df.info()"
   ]
  },
  {
   "cell_type": "code",
   "execution_count": 33,
   "metadata": {
    "collapsed": false
   },
   "outputs": [
    {
     "data": {
      "text/html": [
       "<div>\n",
       "<table border=\"1\" class=\"dataframe\">\n",
       "  <thead>\n",
       "    <tr style=\"text-align: right;\">\n",
       "      <th></th>\n",
       "      <th>description_all</th>\n",
       "      <th>domi</th>\n",
       "      <th>path</th>\n",
       "      <th>pca</th>\n",
       "      <th>price</th>\n",
       "      <th>product_id</th>\n",
       "      <th>rating_avg</th>\n",
       "      <th>rating_count</th>\n",
       "      <th>tfidf_vec</th>\n",
       "      <th>title</th>\n",
       "      <th>url</th>\n",
       "    </tr>\n",
       "  </thead>\n",
       "  <tbody>\n",
       "    <tr>\n",
       "      <th>998</th>\n",
       "      <td>The Eurostyle Max Leather Chair (Set of 2), wi...</td>\n",
       "      <td>[0.3652446444, 0.3651046761, 0.3724030829]</td>\n",
       "      <td>dining_chair_EY1790_13.jpg</td>\n",
       "      <td>[-35.892256317, -0.6223099796, 2.5057500055, -...</td>\n",
       "      <td>558</td>\n",
       "      <td>EY1790</td>\n",
       "      <td>4.6</td>\n",
       "      <td>5</td>\n",
       "      <td>[0.0, 0.0, 0.0, 0.0, 0.0, 0.0, 0.0, 0.0, 0.0, ...</td>\n",
       "      <td>Max Leather Chair</td>\n",
       "      <td>http://www.wayfair.com/Eurostyle-Max-Leather-C...</td>\n",
       "    </tr>\n",
       "    <tr>\n",
       "      <th>999</th>\n",
       "      <td>The Eurostyle Max Leather Chair (Set of 2), wi...</td>\n",
       "      <td>[0.6018939243, 0.5269973979, 0.4495489969]</td>\n",
       "      <td>dining_chair_EY1790_14.jpg</td>\n",
       "      <td>[-29.6310459973, -9.1264292381, 6.6028668314, ...</td>\n",
       "      <td>558</td>\n",
       "      <td>EY1790</td>\n",
       "      <td>4.6</td>\n",
       "      <td>5</td>\n",
       "      <td>[0.0, 0.0, 0.0, 0.0, 0.0, 0.0, 0.0, 0.0, 0.0, ...</td>\n",
       "      <td>Max Leather Chair</td>\n",
       "      <td>http://www.wayfair.com/Eurostyle-Max-Leather-C...</td>\n",
       "    </tr>\n",
       "  </tbody>\n",
       "</table>\n",
       "</div>"
      ],
      "text/plain": [
       "                                       description_all  \\\n",
       "998  The Eurostyle Max Leather Chair (Set of 2), wi...   \n",
       "999  The Eurostyle Max Leather Chair (Set of 2), wi...   \n",
       "\n",
       "                                           domi                        path  \\\n",
       "998  [0.3652446444, 0.3651046761, 0.3724030829]  dining_chair_EY1790_13.jpg   \n",
       "999  [0.6018939243, 0.5269973979, 0.4495489969]  dining_chair_EY1790_14.jpg   \n",
       "\n",
       "                                                   pca  price product_id  \\\n",
       "998  [-35.892256317, -0.6223099796, 2.5057500055, -...    558     EY1790   \n",
       "999  [-29.6310459973, -9.1264292381, 6.6028668314, ...    558     EY1790   \n",
       "\n",
       "     rating_avg  rating_count  \\\n",
       "998         4.6             5   \n",
       "999         4.6             5   \n",
       "\n",
       "                                             tfidf_vec              title  \\\n",
       "998  [0.0, 0.0, 0.0, 0.0, 0.0, 0.0, 0.0, 0.0, 0.0, ...  Max Leather Chair   \n",
       "999  [0.0, 0.0, 0.0, 0.0, 0.0, 0.0, 0.0, 0.0, 0.0, ...  Max Leather Chair   \n",
       "\n",
       "                                                   url  \n",
       "998  http://www.wayfair.com/Eurostyle-Max-Leather-C...  \n",
       "999  http://www.wayfair.com/Eurostyle-Max-Leather-C...  "
      ]
     },
     "execution_count": 33,
     "metadata": {},
     "output_type": "execute_result"
    }
   ],
   "source": [
    "test_df.tail(2)"
   ]
  },
  {
   "cell_type": "code",
   "execution_count": 34,
   "metadata": {
    "collapsed": false
   },
   "outputs": [
    {
     "name": "stdout",
     "output_type": "stream",
     "text": [
      "11511\n",
      "# of grayscaled photos:  0\n",
      "Time to run get_domi_color (s):  4921.02584505\n"
     ]
    }
   ],
   "source": [
    "category = 'office'\n",
    "build_all_vec_info_json(category)"
   ]
  },
  {
   "cell_type": "code",
   "execution_count": 35,
   "metadata": {
    "collapsed": false
   },
   "outputs": [
    {
     "name": "stdout",
     "output_type": "stream",
     "text": [
      "4332\n",
      "# of grayscaled photos:  0\n",
      "Time to run get_domi_color (s):  1705.985111\n"
     ]
    }
   ],
   "source": [
    "category = 'bookcase'\n",
    "build_all_vec_info_json(category)"
   ]
  },
  {
   "cell_type": "code",
   "execution_count": 36,
   "metadata": {
    "collapsed": false
   },
   "outputs": [
    {
     "name": "stdout",
     "output_type": "stream",
     "text": [
      "4747\n",
      "# of grayscaled photos:  1\n",
      "Time to run get_domi_color (s):  1905.26973486\n"
     ]
    }
   ],
   "source": [
    "category = 'bed'\n",
    "build_all_vec_info_json(category)"
   ]
  },
  {
   "cell_type": "code",
   "execution_count": 37,
   "metadata": {
    "collapsed": false
   },
   "outputs": [
    {
     "name": "stdout",
     "output_type": "stream",
     "text": [
      "3998\n",
      "# of grayscaled photos:  0\n",
      "Time to run get_domi_color (s):  1590.58482313\n"
     ]
    }
   ],
   "source": [
    "category = 'nightstand'\n",
    "build_all_vec_info_json(category)"
   ]
  },
  {
   "cell_type": "code",
   "execution_count": 38,
   "metadata": {
    "collapsed": false
   },
   "outputs": [
    {
     "name": "stdout",
     "output_type": "stream",
     "text": [
      "3712\n",
      "# of grayscaled photos:  0\n",
      "Time to run get_domi_color (s):  1449.16593194\n"
     ]
    }
   ],
   "source": [
    "category = 'dresser'\n",
    "build_all_vec_info_json(category)"
   ]
  },
  {
   "cell_type": "code",
   "execution_count": null,
   "metadata": {
    "collapsed": true
   },
   "outputs": [],
   "source": []
  }
 ],
 "metadata": {
  "kernelspec": {
   "display_name": "Python 2",
   "language": "python",
   "name": "python2"
  },
  "language_info": {
   "codemirror_mode": {
    "name": "ipython",
    "version": 2
   },
   "file_extension": ".py",
   "mimetype": "text/x-python",
   "name": "python",
   "nbconvert_exporter": "python",
   "pygments_lexer": "ipython2",
   "version": "2.7.10"
  }
 },
 "nbformat": 4,
 "nbformat_minor": 0
}
