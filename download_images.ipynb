{
 "cells": [
  {
   "cell_type": "code",
   "execution_count": 49,
   "metadata": {
    "collapsed": true
   },
   "outputs": [],
   "source": [
    "from bs4 import BeautifulSoup\n",
    "from urllib2 import urlopen\n",
    "from time import sleep\n",
    "import pandas as pd\n",
    "import random\n",
    "import urllib\n",
    "import time "
   ]
  },
  {
   "cell_type": "code",
   "execution_count": 28,
   "metadata": {
    "collapsed": true
   },
   "outputs": [],
   "source": [
    "sofa_df = pd.read_json('wayfair/sofa.json')\n",
    "sofa_bed_df = pd.read_json('wayfair/sofa_bed.json')\n",
    "futon_df = pd.read_json('wayfair/futon.json')\n",
    "loveseat_df = pd.read_json('wayfair/loveseat.json')\n",
    "coffee_table_df = pd.read_json('wayfair/coffee_table.json')\n",
    "desk_df = pd.read_json('wayfair/desk.json')\n",
    "office_chair_df = pd.read_json('wayfair/office_chair.json')\n",
    "bookcase_df = pd.read_json('wayfair/bookcase.json')\n",
    "dining_table_df = pd.read_json('wayfair/dining_table.json')\n",
    "dining_chair_df = pd.read_json('wayfair/dining_chair.json')\n",
    "bed_df = pd.read_json('wayfair/bed.json')\n",
    "nightstand_df = pd.read_json('wayfair/nightstand.json')\n",
    "dresser_df = pd.read_json('wayfair/dresser.json')"
   ]
  },
  {
   "cell_type": "code",
   "execution_count": 16,
   "metadata": {
    "collapsed": true
   },
   "outputs": [],
   "source": [
    "image = urllib.URLopener()"
   ]
  },
  {
   "cell_type": "markdown",
   "metadata": {},
   "source": [
    "# Sofa - 3763 downloaded"
   ]
  },
  {
   "cell_type": "code",
   "execution_count": 19,
   "metadata": {
    "collapsed": false,
    "scrolled": true
   },
   "outputs": [
    {
     "name": "stdout",
     "output_type": "stream",
     "text": [
      "i 0\n",
      "i 100\n",
      "count 200\n",
      "i 120\n",
      "i 140\n",
      "i 160\n",
      "i 180\n",
      "i 20\n",
      "i 200\n",
      "count 1200\n",
      "i 220\n",
      "i 240\n",
      "i 260\n",
      "i 280\n",
      "i 300\n",
      "i 320\n",
      "i 340\n",
      "count 2200\n",
      "i 360\n",
      "i 380\n",
      "count 2600\n",
      "i 40\n",
      "i 400\n",
      "i 420\n",
      "i 440\n",
      "i 460\n",
      "i 60\n",
      "i 80\n"
     ]
    }
   ],
   "source": [
    "count = 0\n",
    "for i in sofa_df.index.values:\n",
    "    i = int(i)\n",
    "    product_id = str(sofa_df.ix[i,'product_id'].strip())\n",
    "    img_links = sofa_df.ix[i,'image_links_all']\n",
    "    img_links = list(set(img_links))\n",
    "\n",
    "    for j, link in enumerate(img_links):\n",
    "        image.retrieve(link, 'wayfair/images/sofa/%s_%s.jpg' % (product_id, str(j)))\n",
    "        image.retrieve(link, 'wayfair/images/all/sofa_%s_%s.jpg' % (product_id, str(j)))\n",
    "        count += 1\n",
    "    \n",
    "    if i % 20 == 0:\n",
    "        print 'i', i\n",
    "    if count % 200 == 0:\n",
    "        print 'count', count\n",
    "    #sleep(random.random())\n"
   ]
  },
  {
   "cell_type": "code",
   "execution_count": 20,
   "metadata": {
    "collapsed": false
   },
   "outputs": [
    {
     "data": {
      "text/plain": [
       "3763"
      ]
     },
     "execution_count": 20,
     "metadata": {},
     "output_type": "execute_result"
    }
   ],
   "source": [
    "count"
   ]
  },
  {
   "cell_type": "code",
   "execution_count": 34,
   "metadata": {
    "collapsed": false
   },
   "outputs": [
    {
     "name": "stdout",
     "output_type": "stream",
     "text": [
      "3763\n",
      "6285\n"
     ]
    }
   ],
   "source": [
    "count = 0\n",
    "count_all = 0\n",
    "for i in sofa_df.index.values:\n",
    "    i = int(i)\n",
    "    img_links = sofa_df.ix[i,'image_links_all']\n",
    "    count_all += len(img_links)\n",
    "    img_links = list(set(img_links))\n",
    "    count += len(img_links)\n",
    "print count\n",
    "print count_all"
   ]
  },
  {
   "cell_type": "markdown",
   "metadata": {},
   "source": [
    "# Sofa bed - 2544 downloaded"
   ]
  },
  {
   "cell_type": "code",
   "execution_count": 36,
   "metadata": {
    "collapsed": false
   },
   "outputs": [
    {
     "name": "stdout",
     "output_type": "stream",
     "text": [
      "2544\n",
      "2544\n"
     ]
    }
   ],
   "source": [
    "count = 0\n",
    "count_all = 0\n",
    "for i in sofa_bed_df.index.values:\n",
    "    i = int(i)\n",
    "    img_links = sofa_bed_df.ix[i,'image_links_all']\n",
    "    count_all += len(img_links)\n",
    "    img_links = list(set(img_links))\n",
    "    count += len(img_links)\n",
    "print count\n",
    "print count_all"
   ]
  },
  {
   "cell_type": "markdown",
   "metadata": {},
   "source": [
    "Downloading time: 7:24 - 7:35"
   ]
  },
  {
   "cell_type": "code",
   "execution_count": 33,
   "metadata": {
    "collapsed": false
   },
   "outputs": [
    {
     "name": "stdout",
     "output_type": "stream",
     "text": [
      "0\n",
      "100\n",
      "120\n",
      "140\n",
      "160\n",
      "180\n",
      "20\n",
      "200\n",
      "220\n",
      "240\n",
      "260\n",
      "280\n",
      "300\n",
      "320\n",
      "340\n",
      "360\n",
      "380\n",
      "40\n",
      "400\n",
      "420\n",
      "440\n",
      "460\n",
      "60\n",
      "80\n"
     ]
    }
   ],
   "source": [
    "for i in sofa_bed_df.index.values:\n",
    "    i = int(i)\n",
    "    product_id = str(sofa_bed_df.ix[i,'product_id'].strip())\n",
    "    img_links = sofa_bed_df.ix[i,'image_links_all']\n",
    "\n",
    "    for j, link in enumerate(img_links):\n",
    "        image.retrieve(link, 'wayfair/images/sofa_bed/sofa_bed_%s_%s.jpg' % (product_id, str(j)))\n",
    "#        image.retrieve(link, 'wayfair/images/all/sofa_bed_%s_%s.jpg' % (product_id, str(j)))\n",
    "    \n",
    "    if i % 20 == 0:\n",
    "        print i\n",
    "    #sleep(random.random())"
   ]
  },
  {
   "cell_type": "markdown",
   "metadata": {},
   "source": [
    "# Futon - 2253 downloaded"
   ]
  },
  {
   "cell_type": "code",
   "execution_count": 37,
   "metadata": {
    "collapsed": false
   },
   "outputs": [
    {
     "name": "stdout",
     "output_type": "stream",
     "text": [
      "2253\n",
      "2253\n"
     ]
    }
   ],
   "source": [
    "count = 0\n",
    "count_all = 0\n",
    "for i in futon_df.index.values:\n",
    "    i = int(i)\n",
    "    img_links = futon_df.ix[i,'image_links_all']\n",
    "    count_all += len(img_links)\n",
    "    img_links = list(set(img_links))\n",
    "    count += len(img_links)\n",
    "print count\n",
    "print count_all"
   ]
  },
  {
   "cell_type": "markdown",
   "metadata": {},
   "source": [
    "Stated downloading: 7:38"
   ]
  },
  {
   "cell_type": "code",
   "execution_count": 48,
   "metadata": {
    "collapsed": false
   },
   "outputs": [
    {
     "name": "stdout",
     "output_type": "stream",
     "text": [
      "0\n",
      "100\n",
      "120\n",
      "140\n",
      "160\n",
      "180\n",
      "20\n",
      "200\n",
      "220\n",
      "240\n",
      "260\n",
      "280\n",
      "300\n",
      "320\n",
      "340\n",
      "360\n",
      "380\n",
      "40\n",
      "400\n",
      "60\n",
      "80\n"
     ]
    }
   ],
   "source": [
    "for i in futon_df.index.values:\n",
    "    i = int(i)\n",
    "    product_id = str(futon_df.ix[i,'product_id'].strip())\n",
    "    img_links = futon_df.ix[i,'image_links_all']\n",
    "\n",
    "    for j, link in enumerate(img_links):\n",
    "        image.retrieve(link, 'wayfair/images/futon/futon_%s_%s.jpg' % (product_id, str(j)))\n",
    "        #image.retrieve(link, 'wayfair/images/all/futon_%s_%s.jpg' % (product_id, str(j)))\n",
    "    \n",
    "    if i % 20 == 0:\n",
    "        print i\n",
    "    #sleep(random.random())"
   ]
  },
  {
   "cell_type": "code",
   "execution_count": 50,
   "metadata": {
    "collapsed": false
   },
   "outputs": [
    {
     "data": {
      "text/plain": [
       "'Tue Sep 22 19:51:30 2015'"
      ]
     },
     "execution_count": 50,
     "metadata": {},
     "output_type": "execute_result"
    }
   ],
   "source": [
    "time.ctime(time.time())"
   ]
  },
  {
   "cell_type": "markdown",
   "metadata": {},
   "source": [
    "# Loveseat - 2615 downloaded"
   ]
  },
  {
   "cell_type": "code",
   "execution_count": 38,
   "metadata": {
    "collapsed": false
   },
   "outputs": [
    {
     "name": "stdout",
     "output_type": "stream",
     "text": [
      "2615\n",
      "2615\n"
     ]
    }
   ],
   "source": [
    "count = 0\n",
    "count_all = 0\n",
    "for i in loveseat_df.index.values:\n",
    "    i = int(i)\n",
    "    img_links = loveseat_df.ix[i,'image_links_all']\n",
    "    count_all += len(img_links)\n",
    "    img_links = list(set(img_links))\n",
    "    count += len(img_links)\n",
    "print count\n",
    "print count_all"
   ]
  },
  {
   "cell_type": "code",
   "execution_count": 51,
   "metadata": {
    "collapsed": false
   },
   "outputs": [
    {
     "data": {
      "text/plain": [
       "'Tue Sep 22 19:57:57 2015'"
      ]
     },
     "execution_count": 51,
     "metadata": {},
     "output_type": "execute_result"
    }
   ],
   "source": [
    "time.ctime(time.time())"
   ]
  },
  {
   "cell_type": "code",
   "execution_count": 52,
   "metadata": {
    "collapsed": false,
    "scrolled": true
   },
   "outputs": [
    {
     "name": "stdout",
     "output_type": "stream",
     "text": [
      "0\n",
      "100\n",
      "120\n",
      "140\n",
      "160\n",
      "180\n",
      "20\n",
      "200\n",
      "220\n",
      "240\n",
      "260\n",
      "280\n",
      "300\n",
      "320\n",
      "340\n",
      "360\n",
      "380\n",
      "40\n",
      "400\n",
      "420\n",
      "440\n",
      "460\n",
      "480\n",
      "500\n",
      "520\n",
      "60\n",
      "80\n"
     ]
    }
   ],
   "source": [
    "for i in loveseat_df.index.values:\n",
    "    i = int(i)\n",
    "    product_id = str(loveseat_df.ix[i,'product_id'].strip())\n",
    "    img_links = loveseat_df.ix[i,'image_links_all']\n",
    "\n",
    "    for j, link in enumerate(img_links):\n",
    "        image.retrieve(link, 'wayfair/images/loveseat/loveseat_%s_%s.jpg' % (product_id, str(j)))\n",
    "        #image.retrieve(link, 'wayfair/images/all/loveseat_%s_%s.jpg' % (product_id, str(j)))\n",
    "    \n",
    "    if i % 20 == 0:\n",
    "        print i\n",
    "    #sleep(random.random())"
   ]
  },
  {
   "cell_type": "code",
   "execution_count": 53,
   "metadata": {
    "collapsed": false
   },
   "outputs": [
    {
     "data": {
      "text/plain": [
       "'Tue Sep 22 20:11:29 2015'"
      ]
     },
     "execution_count": 53,
     "metadata": {},
     "output_type": "execute_result"
    }
   ],
   "source": [
    "time.ctime(time.time())"
   ]
  },
  {
   "cell_type": "markdown",
   "metadata": {},
   "source": [
    "# Coffee table - 3287 downloaded"
   ]
  },
  {
   "cell_type": "code",
   "execution_count": 57,
   "metadata": {
    "collapsed": false
   },
   "outputs": [
    {
     "name": "stdout",
     "output_type": "stream",
     "text": [
      "3294\n",
      "3294\n"
     ]
    }
   ],
   "source": [
    "count = 0\n",
    "count_all = 0\n",
    "for i in coffee_table_df.index.values:\n",
    "    i = int(i)\n",
    "    img_links = coffee_table_df.ix[i,'image_links_all']\n",
    "    count_all += len(img_links)\n",
    "    img_links = list(set(img_links))\n",
    "    count += len(img_links)\n",
    "print count\n",
    "print count_all"
   ]
  },
  {
   "cell_type": "code",
   "execution_count": 54,
   "metadata": {
    "collapsed": false
   },
   "outputs": [
    {
     "data": {
      "text/plain": [
       "'Tue Sep 22 20:14:33 2015'"
      ]
     },
     "execution_count": 54,
     "metadata": {},
     "output_type": "execute_result"
    }
   ],
   "source": [
    "time.ctime(time.time())"
   ]
  },
  {
   "cell_type": "code",
   "execution_count": 55,
   "metadata": {
    "collapsed": false,
    "scrolled": true
   },
   "outputs": [
    {
     "name": "stdout",
     "output_type": "stream",
     "text": [
      "0\n",
      "100\n",
      "1000\n",
      "120\n",
      "140\n",
      "160\n",
      "180\n",
      "20\n",
      "200\n",
      "220\n",
      "240\n",
      "260\n",
      "280\n",
      "300\n",
      "320\n",
      "340\n",
      "360\n",
      "380\n",
      "40\n",
      "400\n",
      "420\n",
      "440\n",
      "460\n",
      "480\n",
      "500\n",
      "520\n",
      "540\n",
      "560\n",
      "580\n",
      "60\n",
      "600\n",
      "620\n",
      "640\n",
      "660\n",
      "680\n",
      "700\n",
      "720\n",
      "740\n",
      "760\n",
      "780\n",
      "80\n",
      "800\n",
      "820\n",
      "840\n",
      "860\n",
      "880\n",
      "900\n",
      "920\n",
      "940\n",
      "960\n",
      "980\n"
     ]
    }
   ],
   "source": [
    "for i in coffee_table_df.index.values:\n",
    "    i = int(i)\n",
    "    product_id = str(coffee_table_df.ix[i,'product_id'].strip())\n",
    "    img_links = coffee_table_df.ix[i,'image_links_all']\n",
    "\n",
    "    for j, link in enumerate(img_links):\n",
    "        image.retrieve(link, 'wayfair/images/coffee_table/coffee_table_%s_%s.jpg' % (product_id, str(j)))\n",
    "        #image.retrieve(link, 'wayfair/images/all/coffee_table_%s_%s.jpg' % (product_id, str(j)))\n",
    "    \n",
    "    if i % 20 == 0:\n",
    "        print i\n",
    "    #sleep(random.random())"
   ]
  },
  {
   "cell_type": "code",
   "execution_count": 56,
   "metadata": {
    "collapsed": false
   },
   "outputs": [
    {
     "data": {
      "text/plain": [
       "'Tue Sep 22 20:32:05 2015'"
      ]
     },
     "execution_count": 56,
     "metadata": {},
     "output_type": "execute_result"
    }
   ],
   "source": [
    "time.ctime(time.time())"
   ]
  },
  {
   "cell_type": "markdown",
   "metadata": {},
   "source": [
    "# Desk"
   ]
  },
  {
   "cell_type": "code",
   "execution_count": 40,
   "metadata": {
    "collapsed": false
   },
   "outputs": [
    {
     "name": "stdout",
     "output_type": "stream",
     "text": [
      "4371\n",
      "4371\n"
     ]
    }
   ],
   "source": [
    "count = 0\n",
    "count_all = 0\n",
    "for i in desk_df.index.values:\n",
    "    i = int(i)\n",
    "    img_links = desk_df.ix[i,'image_links_all']\n",
    "    count_all += len(img_links)\n",
    "    img_links = list(set(img_links))\n",
    "    count += len(img_links)\n",
    "print count\n",
    "print count_all"
   ]
  },
  {
   "cell_type": "code",
   "execution_count": null,
   "metadata": {
    "collapsed": true
   },
   "outputs": [],
   "source": [
    "sleep(10)\n",
    "time.ctime(time.time())"
   ]
  },
  {
   "cell_type": "code",
   "execution_count": null,
   "metadata": {
    "collapsed": true
   },
   "outputs": [],
   "source": [
    "for i in desk_df.index.values:\n",
    "    i = int(i)\n",
    "    product_id = str(desk_df.ix[i,'product_id'].strip())\n",
    "    img_links = desk_df.ix[i,'image_links_all']\n",
    "\n",
    "    for j, link in enumerate(img_links):\n",
    "        image.retrieve(link, 'wayfair/images/desk/desk_%s_%s.jpg' % (product_id, str(j)))\n",
    "        #image.retrieve(link, 'wayfair/images/all/desk_%s_%s.jpg' % (product_id, str(j)))\n",
    "    \n",
    "    if i % 20 == 0:\n",
    "        print i\n",
    "    #sleep(random.random())"
   ]
  },
  {
   "cell_type": "code",
   "execution_count": null,
   "metadata": {
    "collapsed": true
   },
   "outputs": [],
   "source": [
    "time.ctime(time.time())"
   ]
  },
  {
   "cell_type": "markdown",
   "metadata": {},
   "source": [
    "# Office chair"
   ]
  },
  {
   "cell_type": "code",
   "execution_count": 41,
   "metadata": {
    "collapsed": false
   },
   "outputs": [
    {
     "name": "stdout",
     "output_type": "stream",
     "text": [
      "7172\n",
      "7172\n"
     ]
    }
   ],
   "source": [
    "count = 0\n",
    "count_all = 0\n",
    "for i in office_chair_df.index.values:\n",
    "    i = int(i)\n",
    "    img_links = office_chair_df.ix[i,'image_links_all']\n",
    "    count_all += len(img_links)\n",
    "    img_links = list(set(img_links))\n",
    "    count += len(img_links)\n",
    "print count\n",
    "print count_all"
   ]
  },
  {
   "cell_type": "code",
   "execution_count": 89,
   "metadata": {
    "collapsed": true
   },
   "outputs": [],
   "source": [
    "indices = office_chair_df.index.values"
   ]
  },
  {
   "cell_type": "code",
   "execution_count": 90,
   "metadata": {
    "collapsed": false
   },
   "outputs": [
    {
     "data": {
      "text/plain": [
       "(1008,)"
      ]
     },
     "execution_count": 90,
     "metadata": {},
     "output_type": "execute_result"
    }
   ],
   "source": [
    "indices.shape"
   ]
  },
  {
   "cell_type": "code",
   "execution_count": 91,
   "metadata": {
    "collapsed": false
   },
   "outputs": [
    {
     "data": {
      "text/plain": [
       "'Tue Sep 22 23:56:34 2015'"
      ]
     },
     "execution_count": 91,
     "metadata": {},
     "output_type": "execute_result"
    }
   ],
   "source": [
    "sleep(10)\n",
    "time.ctime(time.time())"
   ]
  },
  {
   "cell_type": "code",
   "execution_count": 121,
   "metadata": {
    "collapsed": false
   },
   "outputs": [
    {
     "name": "stdout",
     "output_type": "stream",
     "text": [
      "240\n",
      "260\n"
     ]
    },
    {
     "ename": "IOError",
     "evalue": "('http error', 500, 'Internal Server Error', <httplib.HTTPMessage instance at 0x10c352d40>)",
     "output_type": "error",
     "traceback": [
      "\u001b[0;31m---------------------------------------------------------------------------\u001b[0m",
      "\u001b[0;31mIOError\u001b[0m                                   Traceback (most recent call last)",
      "\u001b[0;32m<ipython-input-121-005673d4df4c>\u001b[0m in \u001b[0;36m<module>\u001b[0;34m()\u001b[0m\n\u001b[1;32m      5\u001b[0m \u001b[0;34m\u001b[0m\u001b[0m\n\u001b[1;32m      6\u001b[0m     \u001b[0;32mfor\u001b[0m \u001b[0mj\u001b[0m\u001b[0;34m,\u001b[0m \u001b[0mlink\u001b[0m \u001b[0;32min\u001b[0m \u001b[0menumerate\u001b[0m\u001b[0;34m(\u001b[0m\u001b[0mimg_links\u001b[0m\u001b[0;34m)\u001b[0m\u001b[0;34m:\u001b[0m\u001b[0;34m\u001b[0m\u001b[0m\n\u001b[0;32m----> 7\u001b[0;31m         \u001b[0mimage\u001b[0m\u001b[0;34m.\u001b[0m\u001b[0mretrieve\u001b[0m\u001b[0;34m(\u001b[0m\u001b[0mlink\u001b[0m\u001b[0;34m,\u001b[0m \u001b[0;34m'wayfair/images/office_chair/office_chair_%s_%s.jpg'\u001b[0m \u001b[0;34m%\u001b[0m \u001b[0;34m(\u001b[0m\u001b[0mproduct_id\u001b[0m\u001b[0;34m,\u001b[0m \u001b[0mstr\u001b[0m\u001b[0;34m(\u001b[0m\u001b[0mj\u001b[0m\u001b[0;34m)\u001b[0m\u001b[0;34m)\u001b[0m\u001b[0;34m)\u001b[0m\u001b[0;34m\u001b[0m\u001b[0m\n\u001b[0m\u001b[1;32m      8\u001b[0m         \u001b[0;31m#image.retrieve(link, 'wayfair/images/all/office_chair_%s_%s.jpg' % (product_id, str(j)))\u001b[0m\u001b[0;34m\u001b[0m\u001b[0;34m\u001b[0m\u001b[0m\n\u001b[1;32m      9\u001b[0m \u001b[0;34m\u001b[0m\u001b[0m\n",
      "\u001b[0;32m//anaconda/lib/python2.7/urllib.pyc\u001b[0m in \u001b[0;36mretrieve\u001b[0;34m(self, url, filename, reporthook, data)\u001b[0m\n\u001b[1;32m    243\u001b[0m             \u001b[0;32mexcept\u001b[0m \u001b[0mIOError\u001b[0m\u001b[0;34m:\u001b[0m\u001b[0;34m\u001b[0m\u001b[0m\n\u001b[1;32m    244\u001b[0m                 \u001b[0;32mpass\u001b[0m\u001b[0;34m\u001b[0m\u001b[0m\n\u001b[0;32m--> 245\u001b[0;31m         \u001b[0mfp\u001b[0m \u001b[0;34m=\u001b[0m \u001b[0mself\u001b[0m\u001b[0;34m.\u001b[0m\u001b[0mopen\u001b[0m\u001b[0;34m(\u001b[0m\u001b[0murl\u001b[0m\u001b[0;34m,\u001b[0m \u001b[0mdata\u001b[0m\u001b[0;34m)\u001b[0m\u001b[0;34m\u001b[0m\u001b[0m\n\u001b[0m\u001b[1;32m    246\u001b[0m         \u001b[0;32mtry\u001b[0m\u001b[0;34m:\u001b[0m\u001b[0;34m\u001b[0m\u001b[0m\n\u001b[1;32m    247\u001b[0m             \u001b[0mheaders\u001b[0m \u001b[0;34m=\u001b[0m \u001b[0mfp\u001b[0m\u001b[0;34m.\u001b[0m\u001b[0minfo\u001b[0m\u001b[0;34m(\u001b[0m\u001b[0;34m)\u001b[0m\u001b[0;34m\u001b[0m\u001b[0m\n",
      "\u001b[0;32m//anaconda/lib/python2.7/urllib.pyc\u001b[0m in \u001b[0;36mopen\u001b[0;34m(self, fullurl, data)\u001b[0m\n\u001b[1;32m    211\u001b[0m         \u001b[0;32mtry\u001b[0m\u001b[0;34m:\u001b[0m\u001b[0;34m\u001b[0m\u001b[0m\n\u001b[1;32m    212\u001b[0m             \u001b[0;32mif\u001b[0m \u001b[0mdata\u001b[0m \u001b[0;32mis\u001b[0m \u001b[0mNone\u001b[0m\u001b[0;34m:\u001b[0m\u001b[0;34m\u001b[0m\u001b[0m\n\u001b[0;32m--> 213\u001b[0;31m                 \u001b[0;32mreturn\u001b[0m \u001b[0mgetattr\u001b[0m\u001b[0;34m(\u001b[0m\u001b[0mself\u001b[0m\u001b[0;34m,\u001b[0m \u001b[0mname\u001b[0m\u001b[0;34m)\u001b[0m\u001b[0;34m(\u001b[0m\u001b[0murl\u001b[0m\u001b[0;34m)\u001b[0m\u001b[0;34m\u001b[0m\u001b[0m\n\u001b[0m\u001b[1;32m    214\u001b[0m             \u001b[0;32melse\u001b[0m\u001b[0;34m:\u001b[0m\u001b[0;34m\u001b[0m\u001b[0m\n\u001b[1;32m    215\u001b[0m                 \u001b[0;32mreturn\u001b[0m \u001b[0mgetattr\u001b[0m\u001b[0;34m(\u001b[0m\u001b[0mself\u001b[0m\u001b[0;34m,\u001b[0m \u001b[0mname\u001b[0m\u001b[0;34m)\u001b[0m\u001b[0;34m(\u001b[0m\u001b[0murl\u001b[0m\u001b[0;34m,\u001b[0m \u001b[0mdata\u001b[0m\u001b[0;34m)\u001b[0m\u001b[0;34m\u001b[0m\u001b[0m\n",
      "\u001b[0;32m//anaconda/lib/python2.7/urllib.pyc\u001b[0m in \u001b[0;36mopen_https\u001b[0;34m(self, url, data)\u001b[0m\n\u001b[1;32m    455\u001b[0m             \u001b[0;32melse\u001b[0m\u001b[0;34m:\u001b[0m\u001b[0;34m\u001b[0m\u001b[0m\n\u001b[1;32m    456\u001b[0m                 \u001b[0;32mif\u001b[0m \u001b[0mdata\u001b[0m \u001b[0;32mis\u001b[0m \u001b[0mNone\u001b[0m\u001b[0;34m:\u001b[0m\u001b[0;34m\u001b[0m\u001b[0m\n\u001b[0;32m--> 457\u001b[0;31m                     \u001b[0;32mreturn\u001b[0m \u001b[0mself\u001b[0m\u001b[0;34m.\u001b[0m\u001b[0mhttp_error\u001b[0m\u001b[0;34m(\u001b[0m\u001b[0murl\u001b[0m\u001b[0;34m,\u001b[0m \u001b[0mfp\u001b[0m\u001b[0;34m,\u001b[0m \u001b[0merrcode\u001b[0m\u001b[0;34m,\u001b[0m \u001b[0merrmsg\u001b[0m\u001b[0;34m,\u001b[0m \u001b[0mheaders\u001b[0m\u001b[0;34m)\u001b[0m\u001b[0;34m\u001b[0m\u001b[0m\n\u001b[0m\u001b[1;32m    458\u001b[0m                 \u001b[0;32melse\u001b[0m\u001b[0;34m:\u001b[0m\u001b[0;34m\u001b[0m\u001b[0m\n\u001b[1;32m    459\u001b[0m                     return self.http_error(url, fp, errcode, errmsg, headers,\n",
      "\u001b[0;32m//anaconda/lib/python2.7/urllib.pyc\u001b[0m in \u001b[0;36mhttp_error\u001b[0;34m(self, url, fp, errcode, errmsg, headers, data)\u001b[0m\n\u001b[1;32m    379\u001b[0m                 \u001b[0mresult\u001b[0m \u001b[0;34m=\u001b[0m \u001b[0mmethod\u001b[0m\u001b[0;34m(\u001b[0m\u001b[0murl\u001b[0m\u001b[0;34m,\u001b[0m \u001b[0mfp\u001b[0m\u001b[0;34m,\u001b[0m \u001b[0merrcode\u001b[0m\u001b[0;34m,\u001b[0m \u001b[0merrmsg\u001b[0m\u001b[0;34m,\u001b[0m \u001b[0mheaders\u001b[0m\u001b[0;34m,\u001b[0m \u001b[0mdata\u001b[0m\u001b[0;34m)\u001b[0m\u001b[0;34m\u001b[0m\u001b[0m\n\u001b[1;32m    380\u001b[0m             \u001b[0;32mif\u001b[0m \u001b[0mresult\u001b[0m\u001b[0;34m:\u001b[0m \u001b[0;32mreturn\u001b[0m \u001b[0mresult\u001b[0m\u001b[0;34m\u001b[0m\u001b[0m\n\u001b[0;32m--> 381\u001b[0;31m         \u001b[0;32mreturn\u001b[0m \u001b[0mself\u001b[0m\u001b[0;34m.\u001b[0m\u001b[0mhttp_error_default\u001b[0m\u001b[0;34m(\u001b[0m\u001b[0murl\u001b[0m\u001b[0;34m,\u001b[0m \u001b[0mfp\u001b[0m\u001b[0;34m,\u001b[0m \u001b[0merrcode\u001b[0m\u001b[0;34m,\u001b[0m \u001b[0merrmsg\u001b[0m\u001b[0;34m,\u001b[0m \u001b[0mheaders\u001b[0m\u001b[0;34m)\u001b[0m\u001b[0;34m\u001b[0m\u001b[0m\n\u001b[0m\u001b[1;32m    382\u001b[0m \u001b[0;34m\u001b[0m\u001b[0m\n\u001b[1;32m    383\u001b[0m     \u001b[0;32mdef\u001b[0m \u001b[0mhttp_error_default\u001b[0m\u001b[0;34m(\u001b[0m\u001b[0mself\u001b[0m\u001b[0;34m,\u001b[0m \u001b[0murl\u001b[0m\u001b[0;34m,\u001b[0m \u001b[0mfp\u001b[0m\u001b[0;34m,\u001b[0m \u001b[0merrcode\u001b[0m\u001b[0;34m,\u001b[0m \u001b[0merrmsg\u001b[0m\u001b[0;34m,\u001b[0m \u001b[0mheaders\u001b[0m\u001b[0;34m)\u001b[0m\u001b[0;34m:\u001b[0m\u001b[0;34m\u001b[0m\u001b[0m\n",
      "\u001b[0;32m//anaconda/lib/python2.7/urllib.pyc\u001b[0m in \u001b[0;36mhttp_error_default\u001b[0;34m(self, url, fp, errcode, errmsg, headers)\u001b[0m\n\u001b[1;32m    384\u001b[0m         \u001b[0;34m\"\"\"Default error handler: close the connection and raise IOError.\"\"\"\u001b[0m\u001b[0;34m\u001b[0m\u001b[0m\n\u001b[1;32m    385\u001b[0m         \u001b[0mfp\u001b[0m\u001b[0;34m.\u001b[0m\u001b[0mclose\u001b[0m\u001b[0;34m(\u001b[0m\u001b[0;34m)\u001b[0m\u001b[0;34m\u001b[0m\u001b[0m\n\u001b[0;32m--> 386\u001b[0;31m         \u001b[0;32mraise\u001b[0m \u001b[0mIOError\u001b[0m\u001b[0;34m,\u001b[0m \u001b[0;34m(\u001b[0m\u001b[0;34m'http error'\u001b[0m\u001b[0;34m,\u001b[0m \u001b[0merrcode\u001b[0m\u001b[0;34m,\u001b[0m \u001b[0merrmsg\u001b[0m\u001b[0;34m,\u001b[0m \u001b[0mheaders\u001b[0m\u001b[0;34m)\u001b[0m\u001b[0;34m\u001b[0m\u001b[0m\n\u001b[0m\u001b[1;32m    387\u001b[0m \u001b[0;34m\u001b[0m\u001b[0m\n\u001b[1;32m    388\u001b[0m     \u001b[0;32mif\u001b[0m \u001b[0m_have_ssl\u001b[0m\u001b[0;34m:\u001b[0m\u001b[0;34m\u001b[0m\u001b[0m\n",
      "\u001b[0;31mIOError\u001b[0m: ('http error', 500, 'Internal Server Error', <httplib.HTTPMessage instance at 0x10c352d40>)"
     ]
    }
   ],
   "source": [
    "for i in indices[166:]:\n",
    "    i = int(i)\n",
    "    product_id = str(office_chair_df.ix[i,'product_id'].strip())\n",
    "    img_links = office_chair_df.ix[i,'image_links_all']\n",
    "\n",
    "    for j, link in enumerate(img_links):\n",
    "        image.retrieve(link, 'wayfair/images/office_chair/office_chair_%s_%s.jpg' % (product_id, str(j)))\n",
    "        #image.retrieve(link, 'wayfair/images/all/office_chair_%s_%s.jpg' % (product_id, str(j)))\n",
    "    \n",
    "    if i % 20 == 0:\n",
    "        print i\n",
    "    #sleep(random.random())"
   ]
  },
  {
   "cell_type": "code",
   "execution_count": 125,
   "metadata": {
    "collapsed": false
   },
   "outputs": [
    {
     "data": {
      "text/plain": [
       "277.0"
      ]
     },
     "execution_count": 125,
     "metadata": {},
     "output_type": "execute_result"
    }
   ],
   "source": [
    "indices[206]"
   ]
  },
  {
   "cell_type": "code",
   "execution_count": 122,
   "metadata": {
    "collapsed": false
   },
   "outputs": [
    {
     "data": {
      "text/plain": [
       "277"
      ]
     },
     "execution_count": 122,
     "metadata": {},
     "output_type": "execute_result"
    }
   ],
   "source": [
    "i"
   ]
  },
  {
   "cell_type": "markdown",
   "metadata": {},
   "source": [
    "0-34, 35-164, 166-205"
   ]
  },
  {
   "cell_type": "code",
   "execution_count": null,
   "metadata": {
    "collapsed": true
   },
   "outputs": [],
   "source": [
    "time.ctime(time.time())"
   ]
  },
  {
   "cell_type": "markdown",
   "metadata": {},
   "source": [
    "# Bookcase - 4332 downloaded"
   ]
  },
  {
   "cell_type": "code",
   "execution_count": 42,
   "metadata": {
    "collapsed": false
   },
   "outputs": [
    {
     "name": "stdout",
     "output_type": "stream",
     "text": [
      "4332\n",
      "4332\n"
     ]
    }
   ],
   "source": [
    "count = 0\n",
    "count_all = 0\n",
    "for i in bookcase_df.index.values:\n",
    "    i = int(i)\n",
    "    img_links = bookcase_df.ix[i,'image_links_all']\n",
    "    count_all += len(img_links)\n",
    "    img_links = list(set(img_links))\n",
    "    count += len(img_links)\n",
    "print count\n",
    "print count_all"
   ]
  },
  {
   "cell_type": "code",
   "execution_count": 76,
   "metadata": {
    "collapsed": false
   },
   "outputs": [
    {
     "data": {
      "text/plain": [
       "'Tue Sep 22 23:05:54 2015'"
      ]
     },
     "execution_count": 76,
     "metadata": {},
     "output_type": "execute_result"
    }
   ],
   "source": [
    "sleep(10)\n",
    "time.ctime(time.time())"
   ]
  },
  {
   "cell_type": "code",
   "execution_count": 77,
   "metadata": {
    "collapsed": false,
    "scrolled": true
   },
   "outputs": [
    {
     "name": "stdout",
     "output_type": "stream",
     "text": [
      "0\n",
      "100\n",
      "1000\n",
      "120\n",
      "140\n",
      "160\n",
      "180\n",
      "20\n",
      "200\n",
      "220\n",
      "240\n",
      "260\n",
      "280\n",
      "300\n",
      "320\n",
      "340\n",
      "360\n",
      "380\n",
      "40\n",
      "400\n",
      "420\n",
      "440\n",
      "460\n",
      "480\n",
      "500\n",
      "520\n",
      "540\n",
      "560\n",
      "580\n",
      "60\n",
      "600\n",
      "620\n",
      "640\n",
      "660\n",
      "680\n",
      "700\n",
      "720\n",
      "740\n",
      "760\n",
      "780\n",
      "80\n",
      "800\n",
      "820\n",
      "840\n",
      "860\n",
      "880\n",
      "900\n",
      "920\n",
      "940\n",
      "960\n",
      "980\n"
     ]
    }
   ],
   "source": [
    "for i in bookcase_df.index.values:\n",
    "    i = int(i)\n",
    "    product_id = str(bookcase_df.ix[i,'product_id'].strip())\n",
    "    img_links = bookcase_df.ix[i,'image_links_all']\n",
    "\n",
    "    for j, link in enumerate(img_links):\n",
    "        image.retrieve(link, 'wayfair/images/bookcase/bookcase_%s_%s.jpg' % (product_id, str(j)))\n",
    "        #image.retrieve(link, 'wayfair/images/all/bookcase_%s_%s.jpg' % (product_id, str(j)))\n",
    "    \n",
    "    if i % 20 == 0:\n",
    "        print i\n",
    "    #sleep(random.random())"
   ]
  },
  {
   "cell_type": "code",
   "execution_count": 78,
   "metadata": {
    "collapsed": false
   },
   "outputs": [
    {
     "data": {
      "text/plain": [
       "'Tue Sep 22 23:22:11 2015'"
      ]
     },
     "execution_count": 78,
     "metadata": {},
     "output_type": "execute_result"
    }
   ],
   "source": [
    "time.ctime(time.time())"
   ]
  },
  {
   "cell_type": "markdown",
   "metadata": {},
   "source": [
    "# Dining table - 4362 downloaded"
   ]
  },
  {
   "cell_type": "code",
   "execution_count": 43,
   "metadata": {
    "collapsed": false
   },
   "outputs": [
    {
     "name": "stdout",
     "output_type": "stream",
     "text": [
      "4378\n",
      "4378\n"
     ]
    }
   ],
   "source": [
    "count = 0\n",
    "count_all = 0\n",
    "for i in dining_table_df.index.values:\n",
    "    i = int(i)\n",
    "    img_links = dining_table_df.ix[i,'image_links_all']\n",
    "    count_all += len(img_links)\n",
    "    img_links = list(set(img_links))\n",
    "    count += len(img_links)\n",
    "print count\n",
    "print count_all"
   ]
  },
  {
   "cell_type": "code",
   "execution_count": 71,
   "metadata": {
    "collapsed": false
   },
   "outputs": [
    {
     "data": {
      "text/plain": [
       "'Tue Sep 22 22:32:44 2015'"
      ]
     },
     "execution_count": 71,
     "metadata": {},
     "output_type": "execute_result"
    }
   ],
   "source": [
    "time.ctime(time.time())"
   ]
  },
  {
   "cell_type": "code",
   "execution_count": 72,
   "metadata": {
    "collapsed": false,
    "scrolled": true
   },
   "outputs": [
    {
     "name": "stdout",
     "output_type": "stream",
     "text": [
      "0\n",
      "100\n",
      "1000\n",
      "120\n",
      "140\n",
      "160\n",
      "180\n",
      "20\n",
      "200\n",
      "220\n",
      "240\n",
      "260\n",
      "280\n",
      "300\n",
      "320\n",
      "340\n",
      "360\n",
      "380\n",
      "40\n",
      "400\n",
      "420\n",
      "440\n",
      "460\n",
      "480\n",
      "500\n",
      "520\n",
      "540\n",
      "560\n",
      "580\n",
      "60\n",
      "600\n",
      "620\n",
      "640\n",
      "660\n",
      "680\n",
      "700\n",
      "720\n",
      "740\n",
      "760\n",
      "780\n",
      "80\n",
      "800\n",
      "820\n",
      "840\n",
      "860\n",
      "880\n",
      "900\n",
      "920\n",
      "940\n",
      "960\n",
      "980\n"
     ]
    }
   ],
   "source": [
    "for i in dining_table_df.index.values:\n",
    "    i = int(i)\n",
    "    product_id = str(dining_table_df.ix[i,'product_id'].strip())\n",
    "    img_links = dining_table_df.ix[i,'image_links_all']\n",
    "\n",
    "    for j, link in enumerate(img_links):\n",
    "        image.retrieve(link, 'wayfair/images/dining_table/dining_table_%s_%s.jpg' % (product_id, str(j)))\n",
    "        #image.retrieve(link, 'wayfair/images/all/dining_table_%s_%s.jpg' % (product_id, str(j)))\n",
    "    \n",
    "    if i % 20 == 0:\n",
    "        print i\n",
    "    #sleep(random.random())"
   ]
  },
  {
   "cell_type": "code",
   "execution_count": 73,
   "metadata": {
    "collapsed": false
   },
   "outputs": [
    {
     "data": {
      "text/plain": [
       "'Tue Sep 22 22:52:41 2015'"
      ]
     },
     "execution_count": 73,
     "metadata": {},
     "output_type": "execute_result"
    }
   ],
   "source": [
    "time.ctime(time.time())"
   ]
  },
  {
   "cell_type": "markdown",
   "metadata": {},
   "source": [
    "# Dining chair - 6656 downloaded"
   ]
  },
  {
   "cell_type": "code",
   "execution_count": 44,
   "metadata": {
    "collapsed": false
   },
   "outputs": [
    {
     "name": "stdout",
     "output_type": "stream",
     "text": [
      "6811\n",
      "6811\n"
     ]
    }
   ],
   "source": [
    "count = 0\n",
    "count_all = 0\n",
    "for i in dining_chair_df.index.values:\n",
    "    i = int(i)\n",
    "    img_links = dining_chair_df.ix[i,'image_links_all']\n",
    "    count_all += len(img_links)\n",
    "    img_links = list(set(img_links))\n",
    "    count += len(img_links)\n",
    "print count\n",
    "print count_all"
   ]
  },
  {
   "cell_type": "code",
   "execution_count": 68,
   "metadata": {
    "collapsed": false
   },
   "outputs": [
    {
     "data": {
      "text/plain": [
       "'Tue Sep 22 22:02:33 2015'"
      ]
     },
     "execution_count": 68,
     "metadata": {},
     "output_type": "execute_result"
    }
   ],
   "source": [
    "time.ctime(time.time())"
   ]
  },
  {
   "cell_type": "code",
   "execution_count": 69,
   "metadata": {
    "collapsed": false,
    "scrolled": true
   },
   "outputs": [
    {
     "name": "stdout",
     "output_type": "stream",
     "text": [
      "0\n",
      "100\n",
      "1000\n",
      "120\n",
      "140\n",
      "160\n",
      "180\n",
      "20\n",
      "200\n",
      "220\n",
      "240\n",
      "260\n",
      "280\n",
      "300\n",
      "320\n",
      "340\n",
      "360\n",
      "380\n",
      "40\n",
      "400\n",
      "420\n",
      "440\n",
      "460\n",
      "480\n",
      "500\n",
      "520\n",
      "540\n",
      "560\n",
      "580\n",
      "60\n",
      "600\n",
      "620\n",
      "640\n",
      "660\n",
      "680\n",
      "700\n",
      "720\n",
      "740\n",
      "760\n",
      "780\n",
      "80\n",
      "800\n",
      "820\n",
      "840\n",
      "860\n",
      "880\n",
      "900\n",
      "920\n",
      "940\n",
      "960\n",
      "980\n"
     ]
    }
   ],
   "source": [
    "for i in dining_chair_df.index.values:\n",
    "    i = int(i)\n",
    "    product_id = str(dining_chair_df.ix[i,'product_id'].strip())\n",
    "    img_links = dining_chair_df.ix[i,'image_links_all']\n",
    "\n",
    "    for j, link in enumerate(img_links):\n",
    "        image.retrieve(link, 'wayfair/images/dining_chair/dining_chair_%s_%s.jpg' % (product_id, str(j)))\n",
    "        #image.retrieve(link, 'wayfair/images/all/dining_chair_%s_%s.jpg' % (product_id, str(j)))\n",
    "    \n",
    "    if i % 20 == 0:\n",
    "        print i\n",
    "    #sleep(random.random())"
   ]
  },
  {
   "cell_type": "code",
   "execution_count": 70,
   "metadata": {
    "collapsed": false
   },
   "outputs": [
    {
     "data": {
      "text/plain": [
       "'Tue Sep 22 22:30:02 2015'"
      ]
     },
     "execution_count": 70,
     "metadata": {},
     "output_type": "execute_result"
    }
   ],
   "source": [
    "time.ctime(time.time())"
   ]
  },
  {
   "cell_type": "markdown",
   "metadata": {},
   "source": [
    "# Bed - 4748 downloaded"
   ]
  },
  {
   "cell_type": "code",
   "execution_count": 64,
   "metadata": {
    "collapsed": false
   },
   "outputs": [
    {
     "name": "stdout",
     "output_type": "stream",
     "text": [
      "4748\n",
      "4748\n"
     ]
    }
   ],
   "source": [
    "count = 0\n",
    "count_all = 0\n",
    "for i in bed_df.index.values:\n",
    "    i = int(i)\n",
    "    img_links = bed_df.ix[i,'image_links_all']\n",
    "    count_all += len(img_links)\n",
    "    img_links = list(set(img_links))\n",
    "    count += len(img_links)\n",
    "print count\n",
    "print count_all"
   ]
  },
  {
   "cell_type": "code",
   "execution_count": 65,
   "metadata": {
    "collapsed": false
   },
   "outputs": [
    {
     "data": {
      "text/plain": [
       "'Tue Sep 22 21:40:46 2015'"
      ]
     },
     "execution_count": 65,
     "metadata": {},
     "output_type": "execute_result"
    }
   ],
   "source": [
    "time.ctime(time.time())"
   ]
  },
  {
   "cell_type": "code",
   "execution_count": 66,
   "metadata": {
    "collapsed": false,
    "scrolled": true
   },
   "outputs": [
    {
     "name": "stdout",
     "output_type": "stream",
     "text": [
      "0\n",
      "100\n",
      "1000\n",
      "120\n",
      "140\n",
      "160\n",
      "180\n",
      "20\n",
      "200\n",
      "220\n",
      "240\n",
      "260\n",
      "280\n",
      "300\n",
      "320\n",
      "340\n",
      "360\n",
      "380\n",
      "40\n",
      "400\n",
      "420\n",
      "440\n",
      "460\n",
      "480\n",
      "500\n",
      "520\n",
      "540\n",
      "560\n",
      "580\n",
      "60\n",
      "600\n",
      "620\n",
      "640\n",
      "660\n",
      "680\n",
      "700\n",
      "720\n",
      "740\n",
      "760\n",
      "780\n",
      "80\n",
      "800\n",
      "820\n",
      "840\n",
      "860\n",
      "880\n",
      "900\n",
      "920\n",
      "940\n",
      "960\n",
      "980\n"
     ]
    }
   ],
   "source": [
    "for i in bed_df.index.values:\n",
    "    i = int(i)\n",
    "    product_id = str(bed_df.ix[i,'product_id'].strip())\n",
    "    img_links = bed_df.ix[i,'image_links_all']\n",
    "\n",
    "    for j, link in enumerate(img_links):\n",
    "        image.retrieve(link, 'wayfair/images/bed/bed_%s_%s.jpg' % (product_id, str(j)))\n",
    "        #image.retrieve(link, 'wayfair/images/all/bed_%s_%s.jpg' % (product_id, str(j)))\n",
    "    \n",
    "    if i % 20 == 0:\n",
    "        print i\n",
    "    #sleep(random.random())"
   ]
  },
  {
   "cell_type": "code",
   "execution_count": 67,
   "metadata": {
    "collapsed": false
   },
   "outputs": [
    {
     "data": {
      "text/plain": [
       "'Tue Sep 22 22:00:52 2015'"
      ]
     },
     "execution_count": 67,
     "metadata": {},
     "output_type": "execute_result"
    }
   ],
   "source": [
    "time.ctime(time.time())"
   ]
  },
  {
   "cell_type": "markdown",
   "metadata": {},
   "source": [
    "# Nightstand - 3998 downloaded"
   ]
  },
  {
   "cell_type": "code",
   "execution_count": 63,
   "metadata": {
    "collapsed": false
   },
   "outputs": [
    {
     "name": "stdout",
     "output_type": "stream",
     "text": [
      "4000\n",
      "4000\n"
     ]
    }
   ],
   "source": [
    "count = 0\n",
    "count_all = 0\n",
    "for i in nightstand_df.index.values:\n",
    "    i = int(i)\n",
    "    img_links = nightstand_df.ix[i,'image_links_all']\n",
    "    count_all += len(img_links)\n",
    "    img_links = list(set(img_links))\n",
    "    count += len(img_links)\n",
    "print count\n",
    "print count_all"
   ]
  },
  {
   "cell_type": "code",
   "execution_count": 60,
   "metadata": {
    "collapsed": false
   },
   "outputs": [
    {
     "data": {
      "text/plain": [
       "'Tue Sep 22 21:22:12 2015'"
      ]
     },
     "execution_count": 60,
     "metadata": {},
     "output_type": "execute_result"
    }
   ],
   "source": [
    "time.ctime(time.time())"
   ]
  },
  {
   "cell_type": "code",
   "execution_count": 61,
   "metadata": {
    "collapsed": false,
    "scrolled": true
   },
   "outputs": [
    {
     "name": "stdout",
     "output_type": "stream",
     "text": [
      "0\n",
      "100\n",
      "1000\n",
      "120\n",
      "140\n",
      "160\n",
      "180\n",
      "20\n",
      "200\n",
      "220\n",
      "240\n",
      "260\n",
      "280\n",
      "300\n",
      "320\n",
      "340\n",
      "360\n",
      "380\n",
      "40\n",
      "400\n",
      "420\n",
      "440\n",
      "460\n",
      "480\n",
      "500\n",
      "520\n",
      "540\n",
      "560\n",
      "580\n",
      "60\n",
      "600\n",
      "620\n",
      "640\n",
      "660\n",
      "680\n",
      "700\n",
      "720\n",
      "740\n",
      "760\n",
      "780\n",
      "80\n",
      "800\n",
      "820\n",
      "840\n",
      "860\n",
      "880\n",
      "900\n",
      "920\n",
      "940\n",
      "960\n",
      "980\n"
     ]
    }
   ],
   "source": [
    "for i in nightstand_df.index.values:\n",
    "    i = int(i)\n",
    "    product_id = str(nightstand_df.ix[i,'product_id'].strip())\n",
    "    img_links = nightstand_df.ix[i,'image_links_all']\n",
    "\n",
    "    for j, link in enumerate(img_links):\n",
    "        image.retrieve(link, 'wayfair/images/nightstand/nightstand_%s_%s.jpg' % (product_id, str(j)))\n",
    "        #image.retrieve(link, 'wayfair/images/all/nightstand_%s_%s.jpg' % (product_id, str(j)))\n",
    "    \n",
    "    if i % 20 == 0:\n",
    "        print i\n",
    "    #sleep(random.random())"
   ]
  },
  {
   "cell_type": "code",
   "execution_count": 62,
   "metadata": {
    "collapsed": false
   },
   "outputs": [
    {
     "data": {
      "text/plain": [
       "'Tue Sep 22 21:39:05 2015'"
      ]
     },
     "execution_count": 62,
     "metadata": {},
     "output_type": "execute_result"
    }
   ],
   "source": [
    "time.ctime(time.time())"
   ]
  },
  {
   "cell_type": "markdown",
   "metadata": {},
   "source": [
    "# The image downloading for dressers was not done here. It was done by multi-threading."
   ]
  },
  {
   "cell_type": "markdown",
   "metadata": {},
   "source": [
    "# Dresser - 3712 downloaded"
   ]
  },
  {
   "cell_type": "code",
   "execution_count": 47,
   "metadata": {
    "collapsed": false
   },
   "outputs": [
    {
     "name": "stdout",
     "output_type": "stream",
     "text": [
      "3712\n",
      "3712\n"
     ]
    }
   ],
   "source": [
    "count = 0\n",
    "count_all = 0\n",
    "for i in dresser_df.index.values:\n",
    "    i = int(i)\n",
    "    img_links = dresser_df.ix[i,'image_links_all']\n",
    "    count_all += len(img_links)\n",
    "    img_links = list(set(img_links))\n",
    "    count += len(img_links)\n",
    "print count\n",
    "print count_all"
   ]
  },
  {
   "cell_type": "code",
   "execution_count": null,
   "metadata": {
    "collapsed": true
   },
   "outputs": [],
   "source": [
    "time.ctime(time.time())"
   ]
  },
  {
   "cell_type": "code",
   "execution_count": null,
   "metadata": {
    "collapsed": true
   },
   "outputs": [],
   "source": [
    "for i in dresser_df.index.values:\n",
    "    i = int(i)\n",
    "    product_id = str(dresser_df.ix[i,'product_id'].strip())\n",
    "    img_links = dresser_df.ix[i,'image_links_all']\n",
    "\n",
    "    for j, link in enumerate(img_links):\n",
    "        image.retrieve(link, 'wayfair/images/dresser/dresser_%s_%s.jpg' % (product_id, str(j)))\n",
    "        #image.retrieve(link, 'wayfair/images/all/dresser_%s_%s.jpg' % (product_id, str(j)))\n",
    "    \n",
    "    if i % 20 == 0:\n",
    "        print i\n",
    "    #sleep(random.random())"
   ]
  },
  {
   "cell_type": "code",
   "execution_count": null,
   "metadata": {
    "collapsed": true
   },
   "outputs": [],
   "source": [
    "time.ctime(time.time())"
   ]
  },
  {
   "cell_type": "code",
   "execution_count": null,
   "metadata": {
    "collapsed": true
   },
   "outputs": [],
   "source": []
  }
 ],
 "metadata": {
  "kernelspec": {
   "display_name": "Python 2",
   "language": "python",
   "name": "python2"
  },
  "language_info": {
   "codemirror_mode": {
    "name": "ipython",
    "version": 2
   },
   "file_extension": ".py",
   "mimetype": "text/x-python",
   "name": "python",
   "nbconvert_exporter": "python",
   "pygments_lexer": "ipython2",
   "version": "2.7.10"
  }
 },
 "nbformat": 4,
 "nbformat_minor": 0
}
